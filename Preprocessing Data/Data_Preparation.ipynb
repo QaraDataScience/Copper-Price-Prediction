{
 "nbformat": 4,
 "nbformat_minor": 0,
 "metadata": {
  "colab": {
   "provenance": []
  },
  "kernelspec": {
   "name": "python3",
   "language": "python",
   "display_name": "Python 3 (ipykernel)"
  },
  "language_info": {
   "name": "python"
  }
 },
 "cells": [
  {
   "cell_type": "markdown",
   "source": [
    "**Forecasting Copper Prices**\n",
    "============================="
   ],
   "metadata": {
    "id": "T27eX2adO95P"
   }
  },
  {
   "cell_type": "code",
   "execution_count": 612,
   "outputs": [],
   "source": [
    "import numpy as np\n",
    "import pandas as pd\n",
    "import os\n",
    "import datetime\n",
    "import plotly.express as px\n",
    "import matplotlib.pyplot as plt\n",
    "import seaborn as sns\n",
    "import requests\n",
    "import OleFileIO_PL\n",
    "import re\n",
    "import warnings"
   ],
   "metadata": {
    "collapsed": false,
    "ExecuteTime": {
     "end_time": "2023-11-30T16:12:34.635551100Z",
     "start_time": "2023-11-30T16:12:34.398653900Z"
    }
   }
  },
  {
   "cell_type": "markdown",
   "source": [
    "## **Importing Packages**"
   ],
   "metadata": {
    "id": "8DXkBhKx54Gs"
   }
  },
  {
   "cell_type": "code",
   "execution_count": 613,
   "metadata": {
    "id": "5kcfu5WKca1g",
    "ExecuteTime": {
     "end_time": "2023-11-30T16:12:34.649311500Z",
     "start_time": "2023-11-30T16:12:34.405179Z"
    }
   },
   "outputs": [],
   "source": [
    "sns.set_style('darkgrid')\n",
    "# to ignore warnings\n",
    "warnings.filterwarnings(\"ignore\")"
   ]
  },
  {
   "cell_type": "markdown",
   "source": [
    "## **Loading Datasets**"
   ],
   "metadata": {
    "id": "2OCRMpr16FCh"
   }
  },
  {
   "cell_type": "markdown",
   "source": [
    "### Copper Prices"
   ],
   "metadata": {
    "id": "lW6tl9As6iiH"
   }
  },
  {
   "cell_type": "code",
   "execution_count": 614,
   "outputs": [
    {
     "data": {
      "text/plain": "            Date   Price    Open    High     Low    Vol. Change %\n0     10/28/2019  2.6830  2.6850  2.6890  2.6735  49.12K    0.28%\n1     10/25/2019  2.6755  2.6665  2.6905  2.6590  57.34K    0.28%\n2     10/24/2019  2.6680  2.6690  2.6795  2.6590  61.06K   -0.13%\n3     10/23/2019  2.6715  2.6355  2.6745  2.6145  75.68K    1.46%\n4     10/22/2019  2.6330  2.6450  2.6505  2.6295  46.14K   -0.51%\n...          ...     ...     ...     ...     ...     ...      ...\n8969  11/03/2023  3.6815  3.6880  3.7050  3.6530  81.35K    0.25%\n8970  11/02/2023  3.6725  3.6605  3.6925  3.6565  71.37K    0.64%\n8971  11/01/2023  3.6490  3.6530  3.6890  3.6335  83.30K    0.00%\n8972  10/31/2023  3.6490  3.6550  3.6745  3.6315  72.26K   -0.26%\n8973  10/30/2023  3.6585  3.6425  3.7100  3.6400  93.45K    0.34%\n\n[8974 rows x 7 columns]",
      "text/html": "<div>\n<style scoped>\n    .dataframe tbody tr th:only-of-type {\n        vertical-align: middle;\n    }\n\n    .dataframe tbody tr th {\n        vertical-align: top;\n    }\n\n    .dataframe thead th {\n        text-align: right;\n    }\n</style>\n<table border=\"1\" class=\"dataframe\">\n  <thead>\n    <tr style=\"text-align: right;\">\n      <th></th>\n      <th>Date</th>\n      <th>Price</th>\n      <th>Open</th>\n      <th>High</th>\n      <th>Low</th>\n      <th>Vol.</th>\n      <th>Change %</th>\n    </tr>\n  </thead>\n  <tbody>\n    <tr>\n      <th>0</th>\n      <td>10/28/2019</td>\n      <td>2.6830</td>\n      <td>2.6850</td>\n      <td>2.6890</td>\n      <td>2.6735</td>\n      <td>49.12K</td>\n      <td>0.28%</td>\n    </tr>\n    <tr>\n      <th>1</th>\n      <td>10/25/2019</td>\n      <td>2.6755</td>\n      <td>2.6665</td>\n      <td>2.6905</td>\n      <td>2.6590</td>\n      <td>57.34K</td>\n      <td>0.28%</td>\n    </tr>\n    <tr>\n      <th>2</th>\n      <td>10/24/2019</td>\n      <td>2.6680</td>\n      <td>2.6690</td>\n      <td>2.6795</td>\n      <td>2.6590</td>\n      <td>61.06K</td>\n      <td>-0.13%</td>\n    </tr>\n    <tr>\n      <th>3</th>\n      <td>10/23/2019</td>\n      <td>2.6715</td>\n      <td>2.6355</td>\n      <td>2.6745</td>\n      <td>2.6145</td>\n      <td>75.68K</td>\n      <td>1.46%</td>\n    </tr>\n    <tr>\n      <th>4</th>\n      <td>10/22/2019</td>\n      <td>2.6330</td>\n      <td>2.6450</td>\n      <td>2.6505</td>\n      <td>2.6295</td>\n      <td>46.14K</td>\n      <td>-0.51%</td>\n    </tr>\n    <tr>\n      <th>...</th>\n      <td>...</td>\n      <td>...</td>\n      <td>...</td>\n      <td>...</td>\n      <td>...</td>\n      <td>...</td>\n      <td>...</td>\n    </tr>\n    <tr>\n      <th>8969</th>\n      <td>11/03/2023</td>\n      <td>3.6815</td>\n      <td>3.6880</td>\n      <td>3.7050</td>\n      <td>3.6530</td>\n      <td>81.35K</td>\n      <td>0.25%</td>\n    </tr>\n    <tr>\n      <th>8970</th>\n      <td>11/02/2023</td>\n      <td>3.6725</td>\n      <td>3.6605</td>\n      <td>3.6925</td>\n      <td>3.6565</td>\n      <td>71.37K</td>\n      <td>0.64%</td>\n    </tr>\n    <tr>\n      <th>8971</th>\n      <td>11/01/2023</td>\n      <td>3.6490</td>\n      <td>3.6530</td>\n      <td>3.6890</td>\n      <td>3.6335</td>\n      <td>83.30K</td>\n      <td>0.00%</td>\n    </tr>\n    <tr>\n      <th>8972</th>\n      <td>10/31/2023</td>\n      <td>3.6490</td>\n      <td>3.6550</td>\n      <td>3.6745</td>\n      <td>3.6315</td>\n      <td>72.26K</td>\n      <td>-0.26%</td>\n    </tr>\n    <tr>\n      <th>8973</th>\n      <td>10/30/2023</td>\n      <td>3.6585</td>\n      <td>3.6425</td>\n      <td>3.7100</td>\n      <td>3.6400</td>\n      <td>93.45K</td>\n      <td>0.34%</td>\n    </tr>\n  </tbody>\n</table>\n<p>8974 rows × 7 columns</p>\n</div>"
     },
     "execution_count": 614,
     "metadata": {},
     "output_type": "execute_result"
    }
   ],
   "source": [
    "# Path to the directory containing CSV files\n",
    "directory_path = 'Datasets/copper_prices'\n",
    "\n",
    "# List to store DataFrames\n",
    "all_dfs = []\n",
    "\n",
    "# Iterate through files in the directory\n",
    "for filename in os.listdir(directory_path):\n",
    "    if filename.endswith('.csv'):\n",
    "        file_path = os.path.join(directory_path, filename)\n",
    "        # Read each CSV file into a DataFrame\n",
    "        df = pd.read_csv(file_path)\n",
    "        # Append the DataFrame to the list\n",
    "        all_dfs.append(df)\n",
    "\n",
    "# Merge all DataFrames into one\n",
    "copper_history = pd.concat(all_dfs, ignore_index=True)\n",
    "\n",
    "# Display the merged DataFrame\n",
    "copper_history\n",
    "  "
   ],
   "metadata": {
    "collapsed": false,
    "ExecuteTime": {
     "end_time": "2023-11-30T16:12:35.442953400Z",
     "start_time": "2023-11-30T16:12:34.418907Z"
    }
   }
  },
  {
   "cell_type": "code",
   "source": [
    "# Removing Unnecessary Columns\n",
    "copper_history = copper_history.drop(columns=['Vol.', 'Change %', 'Open', 'High', 'Low'])\n",
    "copper_history"
   ],
   "metadata": {
    "id": "7QCrCuS_IUSU",
    "ExecuteTime": {
     "end_time": "2023-11-30T16:12:35.535731100Z",
     "start_time": "2023-11-30T16:12:34.444572300Z"
    }
   },
   "execution_count": 615,
   "outputs": [
    {
     "data": {
      "text/plain": "            Date   Price\n0     10/28/2019  2.6830\n1     10/25/2019  2.6755\n2     10/24/2019  2.6680\n3     10/23/2019  2.6715\n4     10/22/2019  2.6330\n...          ...     ...\n8969  11/03/2023  3.6815\n8970  11/02/2023  3.6725\n8971  11/01/2023  3.6490\n8972  10/31/2023  3.6490\n8973  10/30/2023  3.6585\n\n[8974 rows x 2 columns]",
      "text/html": "<div>\n<style scoped>\n    .dataframe tbody tr th:only-of-type {\n        vertical-align: middle;\n    }\n\n    .dataframe tbody tr th {\n        vertical-align: top;\n    }\n\n    .dataframe thead th {\n        text-align: right;\n    }\n</style>\n<table border=\"1\" class=\"dataframe\">\n  <thead>\n    <tr style=\"text-align: right;\">\n      <th></th>\n      <th>Date</th>\n      <th>Price</th>\n    </tr>\n  </thead>\n  <tbody>\n    <tr>\n      <th>0</th>\n      <td>10/28/2019</td>\n      <td>2.6830</td>\n    </tr>\n    <tr>\n      <th>1</th>\n      <td>10/25/2019</td>\n      <td>2.6755</td>\n    </tr>\n    <tr>\n      <th>2</th>\n      <td>10/24/2019</td>\n      <td>2.6680</td>\n    </tr>\n    <tr>\n      <th>3</th>\n      <td>10/23/2019</td>\n      <td>2.6715</td>\n    </tr>\n    <tr>\n      <th>4</th>\n      <td>10/22/2019</td>\n      <td>2.6330</td>\n    </tr>\n    <tr>\n      <th>...</th>\n      <td>...</td>\n      <td>...</td>\n    </tr>\n    <tr>\n      <th>8969</th>\n      <td>11/03/2023</td>\n      <td>3.6815</td>\n    </tr>\n    <tr>\n      <th>8970</th>\n      <td>11/02/2023</td>\n      <td>3.6725</td>\n    </tr>\n    <tr>\n      <th>8971</th>\n      <td>11/01/2023</td>\n      <td>3.6490</td>\n    </tr>\n    <tr>\n      <th>8972</th>\n      <td>10/31/2023</td>\n      <td>3.6490</td>\n    </tr>\n    <tr>\n      <th>8973</th>\n      <td>10/30/2023</td>\n      <td>3.6585</td>\n    </tr>\n  </tbody>\n</table>\n<p>8974 rows × 2 columns</p>\n</div>"
     },
     "execution_count": 615,
     "metadata": {},
     "output_type": "execute_result"
    }
   ]
  },
  {
   "cell_type": "code",
   "execution_count": 616,
   "outputs": [
    {
     "data": {
      "text/plain": "           Date   Price\n0    2019-10-28  2.6830\n1    2019-10-25  2.6755\n2    2019-10-24  2.6680\n3    2019-10-23  2.6715\n4    2019-10-22  2.6330\n...         ...     ...\n8969 2023-11-03  3.6815\n8970 2023-11-02  3.6725\n8971 2023-11-01  3.6490\n8972 2023-10-31  3.6490\n8973 2023-10-30  3.6585\n\n[8974 rows x 2 columns]",
      "text/html": "<div>\n<style scoped>\n    .dataframe tbody tr th:only-of-type {\n        vertical-align: middle;\n    }\n\n    .dataframe tbody tr th {\n        vertical-align: top;\n    }\n\n    .dataframe thead th {\n        text-align: right;\n    }\n</style>\n<table border=\"1\" class=\"dataframe\">\n  <thead>\n    <tr style=\"text-align: right;\">\n      <th></th>\n      <th>Date</th>\n      <th>Price</th>\n    </tr>\n  </thead>\n  <tbody>\n    <tr>\n      <th>0</th>\n      <td>2019-10-28</td>\n      <td>2.6830</td>\n    </tr>\n    <tr>\n      <th>1</th>\n      <td>2019-10-25</td>\n      <td>2.6755</td>\n    </tr>\n    <tr>\n      <th>2</th>\n      <td>2019-10-24</td>\n      <td>2.6680</td>\n    </tr>\n    <tr>\n      <th>3</th>\n      <td>2019-10-23</td>\n      <td>2.6715</td>\n    </tr>\n    <tr>\n      <th>4</th>\n      <td>2019-10-22</td>\n      <td>2.6330</td>\n    </tr>\n    <tr>\n      <th>...</th>\n      <td>...</td>\n      <td>...</td>\n    </tr>\n    <tr>\n      <th>8969</th>\n      <td>2023-11-03</td>\n      <td>3.6815</td>\n    </tr>\n    <tr>\n      <th>8970</th>\n      <td>2023-11-02</td>\n      <td>3.6725</td>\n    </tr>\n    <tr>\n      <th>8971</th>\n      <td>2023-11-01</td>\n      <td>3.6490</td>\n    </tr>\n    <tr>\n      <th>8972</th>\n      <td>2023-10-31</td>\n      <td>3.6490</td>\n    </tr>\n    <tr>\n      <th>8973</th>\n      <td>2023-10-30</td>\n      <td>3.6585</td>\n    </tr>\n  </tbody>\n</table>\n<p>8974 rows × 2 columns</p>\n</div>"
     },
     "execution_count": 616,
     "metadata": {},
     "output_type": "execute_result"
    }
   ],
   "source": [
    "\n",
    "\n",
    "# Convert 'Date' column to datetime\n",
    "copper_history['Date'] = pd.to_datetime(copper_history['Date'], errors='coerce')\n",
    "\n",
    "# Convert 'Date' column to YYYY-MM-DD format\n",
    "copper_history['Date'] = copper_history['Date'].dt.strftime('%Y-%m-%d')\n",
    "\n",
    "copper_history['Date'] = pd.to_datetime(copper_history['Date'])\n",
    "copper_history"
   ],
   "metadata": {
    "collapsed": false,
    "ExecuteTime": {
     "end_time": "2023-11-30T16:12:35.878889Z",
     "start_time": "2023-11-30T16:12:34.453316700Z"
    }
   }
  },
  {
   "cell_type": "code",
   "execution_count": 617,
   "outputs": [
    {
     "data": {
      "text/plain": "Date     datetime64[ns]\nPrice           float64\ndtype: object"
     },
     "execution_count": 617,
     "metadata": {},
     "output_type": "execute_result"
    }
   ],
   "source": [
    "copper_history.dtypes"
   ],
   "metadata": {
    "collapsed": false,
    "ExecuteTime": {
     "end_time": "2023-11-30T16:12:36.004889200Z",
     "start_time": "2023-11-30T16:12:34.478205700Z"
    }
   }
  },
  {
   "cell_type": "markdown",
   "source": [
    "## Check for Missing Values"
   ],
   "metadata": {
    "collapsed": false
   }
  },
  {
   "cell_type": "code",
   "execution_count": 618,
   "outputs": [
    {
     "data": {
      "text/plain": "Empty DataFrame\nColumns: [Date, Price]\nIndex: []",
      "text/html": "<div>\n<style scoped>\n    .dataframe tbody tr th:only-of-type {\n        vertical-align: middle;\n    }\n\n    .dataframe tbody tr th {\n        vertical-align: top;\n    }\n\n    .dataframe thead th {\n        text-align: right;\n    }\n</style>\n<table border=\"1\" class=\"dataframe\">\n  <thead>\n    <tr style=\"text-align: right;\">\n      <th></th>\n      <th>Date</th>\n      <th>Price</th>\n    </tr>\n  </thead>\n  <tbody>\n  </tbody>\n</table>\n</div>"
     },
     "execution_count": 618,
     "metadata": {},
     "output_type": "execute_result"
    }
   ],
   "source": [
    "rows_with_missing = copper_history[copper_history.isna().any(axis=1)]\n",
    "rows_with_missing"
   ],
   "metadata": {
    "collapsed": false,
    "ExecuteTime": {
     "end_time": "2023-11-30T16:12:36.107888800Z",
     "start_time": "2023-11-30T16:12:34.484525900Z"
    }
   }
  },
  {
   "cell_type": "code",
   "execution_count": 689,
   "outputs": [
    {
     "data": {
      "text/plain": "           Date   Price  Day  Month  Year\n2869 2000-01-04  0.8480    4      1  2000\n2870 2000-01-05  0.8565    5      1  2000\n2871 2000-01-06  0.8530    6      1  2000\n2872 2000-01-07  0.8540    7      1  2000\n2873 2000-01-10  0.8465   10      1  2000\n...         ...     ...  ...    ...   ...\n8948 2023-11-24  3.8205   24     11  2023\n8949 2023-11-27  3.7890   27     11  2023\n8950 2023-11-28  3.8285   28     11  2023\n8951 2023-11-29  3.8255   29     11  2023\n8952 2023-11-30  3.8213   30     11  2023\n\n[6084 rows x 5 columns]",
      "text/html": "<div>\n<style scoped>\n    .dataframe tbody tr th:only-of-type {\n        vertical-align: middle;\n    }\n\n    .dataframe tbody tr th {\n        vertical-align: top;\n    }\n\n    .dataframe thead th {\n        text-align: right;\n    }\n</style>\n<table border=\"1\" class=\"dataframe\">\n  <thead>\n    <tr style=\"text-align: right;\">\n      <th></th>\n      <th>Date</th>\n      <th>Price</th>\n      <th>Day</th>\n      <th>Month</th>\n      <th>Year</th>\n    </tr>\n  </thead>\n  <tbody>\n    <tr>\n      <th>2869</th>\n      <td>2000-01-04</td>\n      <td>0.8480</td>\n      <td>4</td>\n      <td>1</td>\n      <td>2000</td>\n    </tr>\n    <tr>\n      <th>2870</th>\n      <td>2000-01-05</td>\n      <td>0.8565</td>\n      <td>5</td>\n      <td>1</td>\n      <td>2000</td>\n    </tr>\n    <tr>\n      <th>2871</th>\n      <td>2000-01-06</td>\n      <td>0.8530</td>\n      <td>6</td>\n      <td>1</td>\n      <td>2000</td>\n    </tr>\n    <tr>\n      <th>2872</th>\n      <td>2000-01-07</td>\n      <td>0.8540</td>\n      <td>7</td>\n      <td>1</td>\n      <td>2000</td>\n    </tr>\n    <tr>\n      <th>2873</th>\n      <td>2000-01-10</td>\n      <td>0.8465</td>\n      <td>10</td>\n      <td>1</td>\n      <td>2000</td>\n    </tr>\n    <tr>\n      <th>...</th>\n      <td>...</td>\n      <td>...</td>\n      <td>...</td>\n      <td>...</td>\n      <td>...</td>\n    </tr>\n    <tr>\n      <th>8948</th>\n      <td>2023-11-24</td>\n      <td>3.8205</td>\n      <td>24</td>\n      <td>11</td>\n      <td>2023</td>\n    </tr>\n    <tr>\n      <th>8949</th>\n      <td>2023-11-27</td>\n      <td>3.7890</td>\n      <td>27</td>\n      <td>11</td>\n      <td>2023</td>\n    </tr>\n    <tr>\n      <th>8950</th>\n      <td>2023-11-28</td>\n      <td>3.8285</td>\n      <td>28</td>\n      <td>11</td>\n      <td>2023</td>\n    </tr>\n    <tr>\n      <th>8951</th>\n      <td>2023-11-29</td>\n      <td>3.8255</td>\n      <td>29</td>\n      <td>11</td>\n      <td>2023</td>\n    </tr>\n    <tr>\n      <th>8952</th>\n      <td>2023-11-30</td>\n      <td>3.8213</td>\n      <td>30</td>\n      <td>11</td>\n      <td>2023</td>\n    </tr>\n  </tbody>\n</table>\n<p>6084 rows × 5 columns</p>\n</div>"
     },
     "execution_count": 689,
     "metadata": {},
     "output_type": "execute_result"
    }
   ],
   "source": [
    "copper_history"
   ],
   "metadata": {
    "collapsed": false,
    "ExecuteTime": {
     "end_time": "2023-11-30T16:13:01.101070300Z",
     "start_time": "2023-11-30T16:13:01.064783600Z"
    }
   }
  },
  {
   "cell_type": "code",
   "execution_count": 707,
   "outputs": [
    {
     "data": {
      "text/plain": "            Date DEXCHUS\n0     2000-01-03  8.2798\n1     2000-01-04  8.2799\n2     2000-01-05  8.2798\n3     2000-01-06  8.2797\n4     2000-01-07  8.2794\n...          ...     ...\n6230  2023-11-20   7.168\n6231  2023-11-21  7.1352\n6232  2023-11-22   7.155\n6233  2023-11-23       .\n6234  2023-11-24  7.1488\n\n[6235 rows x 2 columns]",
      "text/html": "<div>\n<style scoped>\n    .dataframe tbody tr th:only-of-type {\n        vertical-align: middle;\n    }\n\n    .dataframe tbody tr th {\n        vertical-align: top;\n    }\n\n    .dataframe thead th {\n        text-align: right;\n    }\n</style>\n<table border=\"1\" class=\"dataframe\">\n  <thead>\n    <tr style=\"text-align: right;\">\n      <th></th>\n      <th>Date</th>\n      <th>DEXCHUS</th>\n    </tr>\n  </thead>\n  <tbody>\n    <tr>\n      <th>0</th>\n      <td>2000-01-03</td>\n      <td>8.2798</td>\n    </tr>\n    <tr>\n      <th>1</th>\n      <td>2000-01-04</td>\n      <td>8.2799</td>\n    </tr>\n    <tr>\n      <th>2</th>\n      <td>2000-01-05</td>\n      <td>8.2798</td>\n    </tr>\n    <tr>\n      <th>3</th>\n      <td>2000-01-06</td>\n      <td>8.2797</td>\n    </tr>\n    <tr>\n      <th>4</th>\n      <td>2000-01-07</td>\n      <td>8.2794</td>\n    </tr>\n    <tr>\n      <th>...</th>\n      <td>...</td>\n      <td>...</td>\n    </tr>\n    <tr>\n      <th>6230</th>\n      <td>2023-11-20</td>\n      <td>7.168</td>\n    </tr>\n    <tr>\n      <th>6231</th>\n      <td>2023-11-21</td>\n      <td>7.1352</td>\n    </tr>\n    <tr>\n      <th>6232</th>\n      <td>2023-11-22</td>\n      <td>7.155</td>\n    </tr>\n    <tr>\n      <th>6233</th>\n      <td>2023-11-23</td>\n      <td>.</td>\n    </tr>\n    <tr>\n      <th>6234</th>\n      <td>2023-11-24</td>\n      <td>7.1488</td>\n    </tr>\n  </tbody>\n</table>\n<p>6235 rows × 2 columns</p>\n</div>"
     },
     "execution_count": 707,
     "metadata": {},
     "output_type": "execute_result"
    }
   ],
   "source": [
    "dexchus = pd.read_csv('Datasets/others/DEXCHUS.csv')\n",
    "dexchus.rename(columns={'DATE': 'Date'}, inplace=True)\n",
    "dexchus"
   ],
   "metadata": {
    "collapsed": false,
    "ExecuteTime": {
     "end_time": "2023-11-30T16:28:06.099595100Z",
     "start_time": "2023-11-30T16:28:06.003508900Z"
    }
   }
  },
  {
   "cell_type": "code",
   "execution_count": 713,
   "outputs": [
    {
     "data": {
      "text/plain": "           Date   DEXCHUS\n0    2000-01-03  0.120776\n1    2000-01-04  0.120774\n2    2000-01-05  0.120776\n3    2000-01-06  0.120777\n4    2000-01-07  0.120782\n...         ...       ...\n6230 2023-11-20  0.139509\n6231 2023-11-21  0.140150\n6232 2023-11-22  0.139762\n6233 2023-11-23  0.139823\n6234 2023-11-24  0.139884\n\n[6235 rows x 2 columns]",
      "text/html": "<div>\n<style scoped>\n    .dataframe tbody tr th:only-of-type {\n        vertical-align: middle;\n    }\n\n    .dataframe tbody tr th {\n        vertical-align: top;\n    }\n\n    .dataframe thead th {\n        text-align: right;\n    }\n</style>\n<table border=\"1\" class=\"dataframe\">\n  <thead>\n    <tr style=\"text-align: right;\">\n      <th></th>\n      <th>Date</th>\n      <th>DEXCHUS</th>\n    </tr>\n  </thead>\n  <tbody>\n    <tr>\n      <th>0</th>\n      <td>2000-01-03</td>\n      <td>0.120776</td>\n    </tr>\n    <tr>\n      <th>1</th>\n      <td>2000-01-04</td>\n      <td>0.120774</td>\n    </tr>\n    <tr>\n      <th>2</th>\n      <td>2000-01-05</td>\n      <td>0.120776</td>\n    </tr>\n    <tr>\n      <th>3</th>\n      <td>2000-01-06</td>\n      <td>0.120777</td>\n    </tr>\n    <tr>\n      <th>4</th>\n      <td>2000-01-07</td>\n      <td>0.120782</td>\n    </tr>\n    <tr>\n      <th>...</th>\n      <td>...</td>\n      <td>...</td>\n    </tr>\n    <tr>\n      <th>6230</th>\n      <td>2023-11-20</td>\n      <td>0.139509</td>\n    </tr>\n    <tr>\n      <th>6231</th>\n      <td>2023-11-21</td>\n      <td>0.140150</td>\n    </tr>\n    <tr>\n      <th>6232</th>\n      <td>2023-11-22</td>\n      <td>0.139762</td>\n    </tr>\n    <tr>\n      <th>6233</th>\n      <td>2023-11-23</td>\n      <td>0.139823</td>\n    </tr>\n    <tr>\n      <th>6234</th>\n      <td>2023-11-24</td>\n      <td>0.139884</td>\n    </tr>\n  </tbody>\n</table>\n<p>6235 rows × 2 columns</p>\n</div>"
     },
     "execution_count": 713,
     "metadata": {},
     "output_type": "execute_result"
    }
   ],
   "source": [
    "dexchus['Date'] = pd.to_datetime(dexchus['Date'])\n",
    "dexchus = dexchus[dexchus['Date'] >= '2000-01-01']\n",
    "dexchus = dexchus.sort_values(by='Date')\n",
    "\n",
    "# Convert \".\" to NaN in the DataFrame\n",
    "dexchus.replace('.', np.nan, inplace=True)\n",
    "\n",
    "# Replace NaN with mean of previous and next values using interpolation\n",
    "dexchus['DEXCHUS'] = dexchus['DEXCHUS'].astype(float).interpolate(method='linear')\n",
    "dexchus['DEXCHUS'] = 1 / dexchus['DEXCHUS']\n",
    "dexchus"
   ],
   "metadata": {
    "collapsed": false,
    "ExecuteTime": {
     "end_time": "2023-11-30T16:32:22.972871900Z",
     "start_time": "2023-11-30T16:32:22.895166800Z"
    }
   }
  },
  {
   "cell_type": "code",
   "execution_count": 714,
   "outputs": [
    {
     "data": {
      "text/plain": "           Date   Price  Day  Month  Year   DEXCHUS\n0    2000-01-04  0.8480    4      1  2000  0.120774\n1    2000-01-05  0.8565    5      1  2000  0.120776\n2    2000-01-06  0.8530    6      1  2000  0.120777\n3    2000-01-07  0.8540    7      1  2000  0.120782\n4    2000-01-10  0.8465   10      1  2000  0.120782\n...         ...     ...  ...    ...   ...       ...\n6047 2023-11-20  3.8335   20     11  2023  0.139509\n6048 2023-11-21  3.8395   21     11  2023  0.140150\n6049 2023-11-22  3.7970   22     11  2023  0.139762\n6050 2023-11-23  3.7743   23     11  2023  0.139823\n6051 2023-11-24  3.8205   24     11  2023  0.139884\n\n[6052 rows x 6 columns]",
      "text/html": "<div>\n<style scoped>\n    .dataframe tbody tr th:only-of-type {\n        vertical-align: middle;\n    }\n\n    .dataframe tbody tr th {\n        vertical-align: top;\n    }\n\n    .dataframe thead th {\n        text-align: right;\n    }\n</style>\n<table border=\"1\" class=\"dataframe\">\n  <thead>\n    <tr style=\"text-align: right;\">\n      <th></th>\n      <th>Date</th>\n      <th>Price</th>\n      <th>Day</th>\n      <th>Month</th>\n      <th>Year</th>\n      <th>DEXCHUS</th>\n    </tr>\n  </thead>\n  <tbody>\n    <tr>\n      <th>0</th>\n      <td>2000-01-04</td>\n      <td>0.8480</td>\n      <td>4</td>\n      <td>1</td>\n      <td>2000</td>\n      <td>0.120774</td>\n    </tr>\n    <tr>\n      <th>1</th>\n      <td>2000-01-05</td>\n      <td>0.8565</td>\n      <td>5</td>\n      <td>1</td>\n      <td>2000</td>\n      <td>0.120776</td>\n    </tr>\n    <tr>\n      <th>2</th>\n      <td>2000-01-06</td>\n      <td>0.8530</td>\n      <td>6</td>\n      <td>1</td>\n      <td>2000</td>\n      <td>0.120777</td>\n    </tr>\n    <tr>\n      <th>3</th>\n      <td>2000-01-07</td>\n      <td>0.8540</td>\n      <td>7</td>\n      <td>1</td>\n      <td>2000</td>\n      <td>0.120782</td>\n    </tr>\n    <tr>\n      <th>4</th>\n      <td>2000-01-10</td>\n      <td>0.8465</td>\n      <td>10</td>\n      <td>1</td>\n      <td>2000</td>\n      <td>0.120782</td>\n    </tr>\n    <tr>\n      <th>...</th>\n      <td>...</td>\n      <td>...</td>\n      <td>...</td>\n      <td>...</td>\n      <td>...</td>\n      <td>...</td>\n    </tr>\n    <tr>\n      <th>6047</th>\n      <td>2023-11-20</td>\n      <td>3.8335</td>\n      <td>20</td>\n      <td>11</td>\n      <td>2023</td>\n      <td>0.139509</td>\n    </tr>\n    <tr>\n      <th>6048</th>\n      <td>2023-11-21</td>\n      <td>3.8395</td>\n      <td>21</td>\n      <td>11</td>\n      <td>2023</td>\n      <td>0.140150</td>\n    </tr>\n    <tr>\n      <th>6049</th>\n      <td>2023-11-22</td>\n      <td>3.7970</td>\n      <td>22</td>\n      <td>11</td>\n      <td>2023</td>\n      <td>0.139762</td>\n    </tr>\n    <tr>\n      <th>6050</th>\n      <td>2023-11-23</td>\n      <td>3.7743</td>\n      <td>23</td>\n      <td>11</td>\n      <td>2023</td>\n      <td>0.139823</td>\n    </tr>\n    <tr>\n      <th>6051</th>\n      <td>2023-11-24</td>\n      <td>3.8205</td>\n      <td>24</td>\n      <td>11</td>\n      <td>2023</td>\n      <td>0.139884</td>\n    </tr>\n  </tbody>\n</table>\n<p>6052 rows × 6 columns</p>\n</div>"
     },
     "execution_count": 714,
     "metadata": {},
     "output_type": "execute_result"
    }
   ],
   "source": [
    "merged_df = pd.merge(copper_history, dexchus, on='Date', how='inner')\n",
    "merged_df"
   ],
   "metadata": {
    "collapsed": false,
    "ExecuteTime": {
     "end_time": "2023-11-30T16:32:28.420833900Z",
     "start_time": "2023-11-30T16:32:28.375793700Z"
    }
   }
  },
  {
   "cell_type": "code",
   "execution_count": 715,
   "outputs": [
    {
     "data": {
      "text/plain": "0.7228971962996377"
     },
     "execution_count": 715,
     "metadata": {},
     "output_type": "execute_result"
    }
   ],
   "source": [
    "correlation = merged_df['Price'].corr(merged_df['DEXCHUS'])\n",
    "correlation"
   ],
   "metadata": {
    "collapsed": false,
    "ExecuteTime": {
     "end_time": "2023-11-30T16:32:30.279932800Z",
     "start_time": "2023-11-30T16:32:30.246571100Z"
    }
   }
  },
  {
   "cell_type": "code",
   "execution_count": 719,
   "outputs": [
    {
     "data": {
      "text/plain": "          Date  FEDFUNDS\n546 2000-01-01      5.45\n547 2000-02-01      5.73\n548 2000-03-01      5.85\n549 2000-04-01      6.02\n550 2000-05-01      6.27\n..         ...       ...\n827 2023-06-01      5.08\n828 2023-07-01      5.12\n829 2023-08-01      5.33\n830 2023-09-01      5.33\n831 2023-10-01      5.33\n\n[286 rows x 2 columns]",
      "text/html": "<div>\n<style scoped>\n    .dataframe tbody tr th:only-of-type {\n        vertical-align: middle;\n    }\n\n    .dataframe tbody tr th {\n        vertical-align: top;\n    }\n\n    .dataframe thead th {\n        text-align: right;\n    }\n</style>\n<table border=\"1\" class=\"dataframe\">\n  <thead>\n    <tr style=\"text-align: right;\">\n      <th></th>\n      <th>Date</th>\n      <th>FEDFUNDS</th>\n    </tr>\n  </thead>\n  <tbody>\n    <tr>\n      <th>546</th>\n      <td>2000-01-01</td>\n      <td>5.45</td>\n    </tr>\n    <tr>\n      <th>547</th>\n      <td>2000-02-01</td>\n      <td>5.73</td>\n    </tr>\n    <tr>\n      <th>548</th>\n      <td>2000-03-01</td>\n      <td>5.85</td>\n    </tr>\n    <tr>\n      <th>549</th>\n      <td>2000-04-01</td>\n      <td>6.02</td>\n    </tr>\n    <tr>\n      <th>550</th>\n      <td>2000-05-01</td>\n      <td>6.27</td>\n    </tr>\n    <tr>\n      <th>...</th>\n      <td>...</td>\n      <td>...</td>\n    </tr>\n    <tr>\n      <th>827</th>\n      <td>2023-06-01</td>\n      <td>5.08</td>\n    </tr>\n    <tr>\n      <th>828</th>\n      <td>2023-07-01</td>\n      <td>5.12</td>\n    </tr>\n    <tr>\n      <th>829</th>\n      <td>2023-08-01</td>\n      <td>5.33</td>\n    </tr>\n    <tr>\n      <th>830</th>\n      <td>2023-09-01</td>\n      <td>5.33</td>\n    </tr>\n    <tr>\n      <th>831</th>\n      <td>2023-10-01</td>\n      <td>5.33</td>\n    </tr>\n  </tbody>\n</table>\n<p>286 rows × 2 columns</p>\n</div>"
     },
     "execution_count": 719,
     "metadata": {},
     "output_type": "execute_result"
    }
   ],
   "source": [
    "fedfunds = pd.read_csv('Datasets/others/FEDFUNDS.csv')\n",
    "fedfunds.rename(columns={'DATE': 'Date'}, inplace=True)\n",
    "fedfunds['Date'] = pd.to_datetime(fedfunds['Date'])\n",
    "fedfunds = fedfunds[fedfunds['Date'] >= '2000-01-01']\n",
    "fedfunds = fedfunds.sort_values(by='Date')\n",
    "fedfunds   "
   ],
   "metadata": {
    "collapsed": false,
    "ExecuteTime": {
     "end_time": "2023-11-30T16:35:04.222390Z",
     "start_time": "2023-11-30T16:35:04.113863600Z"
    }
   }
  },
  {
   "cell_type": "code",
   "execution_count": 720,
   "outputs": [
    {
     "data": {
      "text/plain": "          Date  FEDFUNDS\n546 2000-01-01      5.45\n547 2000-02-01      5.73\n548 2000-03-01      5.85\n549 2000-04-01      6.02\n550 2000-05-01      6.27\n..         ...       ...\n827 2023-06-01      5.08\n828 2023-07-01      5.12\n829 2023-08-01      5.33\n830 2023-09-01      5.33\n831 2023-10-01      5.33\n\n[286 rows x 2 columns]",
      "text/html": "<div>\n<style scoped>\n    .dataframe tbody tr th:only-of-type {\n        vertical-align: middle;\n    }\n\n    .dataframe tbody tr th {\n        vertical-align: top;\n    }\n\n    .dataframe thead th {\n        text-align: right;\n    }\n</style>\n<table border=\"1\" class=\"dataframe\">\n  <thead>\n    <tr style=\"text-align: right;\">\n      <th></th>\n      <th>Date</th>\n      <th>FEDFUNDS</th>\n    </tr>\n  </thead>\n  <tbody>\n    <tr>\n      <th>546</th>\n      <td>2000-01-01</td>\n      <td>5.45</td>\n    </tr>\n    <tr>\n      <th>547</th>\n      <td>2000-02-01</td>\n      <td>5.73</td>\n    </tr>\n    <tr>\n      <th>548</th>\n      <td>2000-03-01</td>\n      <td>5.85</td>\n    </tr>\n    <tr>\n      <th>549</th>\n      <td>2000-04-01</td>\n      <td>6.02</td>\n    </tr>\n    <tr>\n      <th>550</th>\n      <td>2000-05-01</td>\n      <td>6.27</td>\n    </tr>\n    <tr>\n      <th>...</th>\n      <td>...</td>\n      <td>...</td>\n    </tr>\n    <tr>\n      <th>827</th>\n      <td>2023-06-01</td>\n      <td>5.08</td>\n    </tr>\n    <tr>\n      <th>828</th>\n      <td>2023-07-01</td>\n      <td>5.12</td>\n    </tr>\n    <tr>\n      <th>829</th>\n      <td>2023-08-01</td>\n      <td>5.33</td>\n    </tr>\n    <tr>\n      <th>830</th>\n      <td>2023-09-01</td>\n      <td>5.33</td>\n    </tr>\n    <tr>\n      <th>831</th>\n      <td>2023-10-01</td>\n      <td>5.33</td>\n    </tr>\n  </tbody>\n</table>\n<p>286 rows × 2 columns</p>\n</div>"
     },
     "execution_count": 720,
     "metadata": {},
     "output_type": "execute_result"
    }
   ],
   "source": [
    "merged_df = pd.merge(merged_df, fedfunds, on='Date', how='inner')\n",
    "fedfunds"
   ],
   "metadata": {
    "collapsed": false,
    "ExecuteTime": {
     "end_time": "2023-11-30T16:35:08.653292100Z",
     "start_time": "2023-11-30T16:35:08.618270700Z"
    }
   }
  },
  {
   "cell_type": "code",
   "execution_count": 722,
   "outputs": [
    {
     "data": {
      "text/plain": "-0.2943688764533797"
     },
     "execution_count": 722,
     "metadata": {},
     "output_type": "execute_result"
    }
   ],
   "source": [
    "correlation = merged_df['Price'].corr(merged_df['FEDFUNDS'])\n",
    "correlation"
   ],
   "metadata": {
    "collapsed": false,
    "ExecuteTime": {
     "end_time": "2023-11-30T16:35:54.859947800Z",
     "start_time": "2023-11-30T16:35:54.795351700Z"
    }
   }
  },
  {
   "cell_type": "code",
   "execution_count": 724,
   "outputs": [
    {
     "ename": "KeyError",
     "evalue": "\"['FEDFUNDS'] not found in axis\"",
     "output_type": "error",
     "traceback": [
      "\u001B[1;31m---------------------------------------------------------------------------\u001B[0m",
      "\u001B[1;31mKeyError\u001B[0m                                  Traceback (most recent call last)",
      "Cell \u001B[1;32mIn[724], line 1\u001B[0m\n\u001B[1;32m----> 1\u001B[0m \u001B[43mmerged_df\u001B[49m\u001B[38;5;241;43m.\u001B[39;49m\u001B[43mdrop\u001B[49m\u001B[43m(\u001B[49m\u001B[43m[\u001B[49m\u001B[38;5;124;43m'\u001B[39;49m\u001B[38;5;124;43mFEDFUNDS\u001B[39;49m\u001B[38;5;124;43m'\u001B[39;49m\u001B[43m]\u001B[49m\u001B[43m,\u001B[49m\u001B[43m \u001B[49m\u001B[43maxis\u001B[49m\u001B[38;5;241;43m=\u001B[39;49m\u001B[38;5;241;43m1\u001B[39;49m\u001B[43m,\u001B[49m\u001B[43m \u001B[49m\u001B[43minplace\u001B[49m\u001B[38;5;241;43m=\u001B[39;49m\u001B[38;5;28;43;01mTrue\u001B[39;49;00m\u001B[43m)\u001B[49m\n\u001B[0;32m      2\u001B[0m merged_df\n",
      "File \u001B[1;32m~\\AppData\\Local\\Programs\\Python\\Python3115\\Lib\\site-packages\\pandas\\util\\_decorators.py:331\u001B[0m, in \u001B[0;36mdeprecate_nonkeyword_arguments.<locals>.decorate.<locals>.wrapper\u001B[1;34m(*args, **kwargs)\u001B[0m\n\u001B[0;32m    325\u001B[0m \u001B[38;5;28;01mif\u001B[39;00m \u001B[38;5;28mlen\u001B[39m(args) \u001B[38;5;241m>\u001B[39m num_allow_args:\n\u001B[0;32m    326\u001B[0m     warnings\u001B[38;5;241m.\u001B[39mwarn(\n\u001B[0;32m    327\u001B[0m         msg\u001B[38;5;241m.\u001B[39mformat(arguments\u001B[38;5;241m=\u001B[39m_format_argument_list(allow_args)),\n\u001B[0;32m    328\u001B[0m         \u001B[38;5;167;01mFutureWarning\u001B[39;00m,\n\u001B[0;32m    329\u001B[0m         stacklevel\u001B[38;5;241m=\u001B[39mfind_stack_level(),\n\u001B[0;32m    330\u001B[0m     )\n\u001B[1;32m--> 331\u001B[0m \u001B[38;5;28;01mreturn\u001B[39;00m \u001B[43mfunc\u001B[49m\u001B[43m(\u001B[49m\u001B[38;5;241;43m*\u001B[39;49m\u001B[43margs\u001B[49m\u001B[43m,\u001B[49m\u001B[43m \u001B[49m\u001B[38;5;241;43m*\u001B[39;49m\u001B[38;5;241;43m*\u001B[39;49m\u001B[43mkwargs\u001B[49m\u001B[43m)\u001B[49m\n",
      "File \u001B[1;32m~\\AppData\\Local\\Programs\\Python\\Python3115\\Lib\\site-packages\\pandas\\core\\frame.py:5399\u001B[0m, in \u001B[0;36mDataFrame.drop\u001B[1;34m(self, labels, axis, index, columns, level, inplace, errors)\u001B[0m\n\u001B[0;32m   5251\u001B[0m \u001B[38;5;129m@deprecate_nonkeyword_arguments\u001B[39m(version\u001B[38;5;241m=\u001B[39m\u001B[38;5;28;01mNone\u001B[39;00m, allowed_args\u001B[38;5;241m=\u001B[39m[\u001B[38;5;124m\"\u001B[39m\u001B[38;5;124mself\u001B[39m\u001B[38;5;124m\"\u001B[39m, \u001B[38;5;124m\"\u001B[39m\u001B[38;5;124mlabels\u001B[39m\u001B[38;5;124m\"\u001B[39m])\n\u001B[0;32m   5252\u001B[0m \u001B[38;5;28;01mdef\u001B[39;00m \u001B[38;5;21mdrop\u001B[39m(  \u001B[38;5;66;03m# type: ignore[override]\u001B[39;00m\n\u001B[0;32m   5253\u001B[0m     \u001B[38;5;28mself\u001B[39m,\n\u001B[1;32m   (...)\u001B[0m\n\u001B[0;32m   5260\u001B[0m     errors: IgnoreRaise \u001B[38;5;241m=\u001B[39m \u001B[38;5;124m\"\u001B[39m\u001B[38;5;124mraise\u001B[39m\u001B[38;5;124m\"\u001B[39m,\n\u001B[0;32m   5261\u001B[0m ) \u001B[38;5;241m-\u001B[39m\u001B[38;5;241m>\u001B[39m DataFrame \u001B[38;5;241m|\u001B[39m \u001B[38;5;28;01mNone\u001B[39;00m:\n\u001B[0;32m   5262\u001B[0m \u001B[38;5;250m    \u001B[39m\u001B[38;5;124;03m\"\"\"\u001B[39;00m\n\u001B[0;32m   5263\u001B[0m \u001B[38;5;124;03m    Drop specified labels from rows or columns.\u001B[39;00m\n\u001B[0;32m   5264\u001B[0m \n\u001B[1;32m   (...)\u001B[0m\n\u001B[0;32m   5397\u001B[0m \u001B[38;5;124;03m            weight  1.0     0.8\u001B[39;00m\n\u001B[0;32m   5398\u001B[0m \u001B[38;5;124;03m    \"\"\"\u001B[39;00m\n\u001B[1;32m-> 5399\u001B[0m     \u001B[38;5;28;01mreturn\u001B[39;00m \u001B[38;5;28;43msuper\u001B[39;49m\u001B[43m(\u001B[49m\u001B[43m)\u001B[49m\u001B[38;5;241;43m.\u001B[39;49m\u001B[43mdrop\u001B[49m\u001B[43m(\u001B[49m\n\u001B[0;32m   5400\u001B[0m \u001B[43m        \u001B[49m\u001B[43mlabels\u001B[49m\u001B[38;5;241;43m=\u001B[39;49m\u001B[43mlabels\u001B[49m\u001B[43m,\u001B[49m\n\u001B[0;32m   5401\u001B[0m \u001B[43m        \u001B[49m\u001B[43maxis\u001B[49m\u001B[38;5;241;43m=\u001B[39;49m\u001B[43maxis\u001B[49m\u001B[43m,\u001B[49m\n\u001B[0;32m   5402\u001B[0m \u001B[43m        \u001B[49m\u001B[43mindex\u001B[49m\u001B[38;5;241;43m=\u001B[39;49m\u001B[43mindex\u001B[49m\u001B[43m,\u001B[49m\n\u001B[0;32m   5403\u001B[0m \u001B[43m        \u001B[49m\u001B[43mcolumns\u001B[49m\u001B[38;5;241;43m=\u001B[39;49m\u001B[43mcolumns\u001B[49m\u001B[43m,\u001B[49m\n\u001B[0;32m   5404\u001B[0m \u001B[43m        \u001B[49m\u001B[43mlevel\u001B[49m\u001B[38;5;241;43m=\u001B[39;49m\u001B[43mlevel\u001B[49m\u001B[43m,\u001B[49m\n\u001B[0;32m   5405\u001B[0m \u001B[43m        \u001B[49m\u001B[43minplace\u001B[49m\u001B[38;5;241;43m=\u001B[39;49m\u001B[43minplace\u001B[49m\u001B[43m,\u001B[49m\n\u001B[0;32m   5406\u001B[0m \u001B[43m        \u001B[49m\u001B[43merrors\u001B[49m\u001B[38;5;241;43m=\u001B[39;49m\u001B[43merrors\u001B[49m\u001B[43m,\u001B[49m\n\u001B[0;32m   5407\u001B[0m \u001B[43m    \u001B[49m\u001B[43m)\u001B[49m\n",
      "File \u001B[1;32m~\\AppData\\Local\\Programs\\Python\\Python3115\\Lib\\site-packages\\pandas\\util\\_decorators.py:331\u001B[0m, in \u001B[0;36mdeprecate_nonkeyword_arguments.<locals>.decorate.<locals>.wrapper\u001B[1;34m(*args, **kwargs)\u001B[0m\n\u001B[0;32m    325\u001B[0m \u001B[38;5;28;01mif\u001B[39;00m \u001B[38;5;28mlen\u001B[39m(args) \u001B[38;5;241m>\u001B[39m num_allow_args:\n\u001B[0;32m    326\u001B[0m     warnings\u001B[38;5;241m.\u001B[39mwarn(\n\u001B[0;32m    327\u001B[0m         msg\u001B[38;5;241m.\u001B[39mformat(arguments\u001B[38;5;241m=\u001B[39m_format_argument_list(allow_args)),\n\u001B[0;32m    328\u001B[0m         \u001B[38;5;167;01mFutureWarning\u001B[39;00m,\n\u001B[0;32m    329\u001B[0m         stacklevel\u001B[38;5;241m=\u001B[39mfind_stack_level(),\n\u001B[0;32m    330\u001B[0m     )\n\u001B[1;32m--> 331\u001B[0m \u001B[38;5;28;01mreturn\u001B[39;00m \u001B[43mfunc\u001B[49m\u001B[43m(\u001B[49m\u001B[38;5;241;43m*\u001B[39;49m\u001B[43margs\u001B[49m\u001B[43m,\u001B[49m\u001B[43m \u001B[49m\u001B[38;5;241;43m*\u001B[39;49m\u001B[38;5;241;43m*\u001B[39;49m\u001B[43mkwargs\u001B[49m\u001B[43m)\u001B[49m\n",
      "File \u001B[1;32m~\\AppData\\Local\\Programs\\Python\\Python3115\\Lib\\site-packages\\pandas\\core\\generic.py:4505\u001B[0m, in \u001B[0;36mNDFrame.drop\u001B[1;34m(self, labels, axis, index, columns, level, inplace, errors)\u001B[0m\n\u001B[0;32m   4503\u001B[0m \u001B[38;5;28;01mfor\u001B[39;00m axis, labels \u001B[38;5;129;01min\u001B[39;00m axes\u001B[38;5;241m.\u001B[39mitems():\n\u001B[0;32m   4504\u001B[0m     \u001B[38;5;28;01mif\u001B[39;00m labels \u001B[38;5;129;01mis\u001B[39;00m \u001B[38;5;129;01mnot\u001B[39;00m \u001B[38;5;28;01mNone\u001B[39;00m:\n\u001B[1;32m-> 4505\u001B[0m         obj \u001B[38;5;241m=\u001B[39m \u001B[43mobj\u001B[49m\u001B[38;5;241;43m.\u001B[39;49m\u001B[43m_drop_axis\u001B[49m\u001B[43m(\u001B[49m\u001B[43mlabels\u001B[49m\u001B[43m,\u001B[49m\u001B[43m \u001B[49m\u001B[43maxis\u001B[49m\u001B[43m,\u001B[49m\u001B[43m \u001B[49m\u001B[43mlevel\u001B[49m\u001B[38;5;241;43m=\u001B[39;49m\u001B[43mlevel\u001B[49m\u001B[43m,\u001B[49m\u001B[43m \u001B[49m\u001B[43merrors\u001B[49m\u001B[38;5;241;43m=\u001B[39;49m\u001B[43merrors\u001B[49m\u001B[43m)\u001B[49m\n\u001B[0;32m   4507\u001B[0m \u001B[38;5;28;01mif\u001B[39;00m inplace:\n\u001B[0;32m   4508\u001B[0m     \u001B[38;5;28mself\u001B[39m\u001B[38;5;241m.\u001B[39m_update_inplace(obj)\n",
      "File \u001B[1;32m~\\AppData\\Local\\Programs\\Python\\Python3115\\Lib\\site-packages\\pandas\\core\\generic.py:4546\u001B[0m, in \u001B[0;36mNDFrame._drop_axis\u001B[1;34m(self, labels, axis, level, errors, only_slice)\u001B[0m\n\u001B[0;32m   4544\u001B[0m         new_axis \u001B[38;5;241m=\u001B[39m axis\u001B[38;5;241m.\u001B[39mdrop(labels, level\u001B[38;5;241m=\u001B[39mlevel, errors\u001B[38;5;241m=\u001B[39merrors)\n\u001B[0;32m   4545\u001B[0m     \u001B[38;5;28;01melse\u001B[39;00m:\n\u001B[1;32m-> 4546\u001B[0m         new_axis \u001B[38;5;241m=\u001B[39m \u001B[43maxis\u001B[49m\u001B[38;5;241;43m.\u001B[39;49m\u001B[43mdrop\u001B[49m\u001B[43m(\u001B[49m\u001B[43mlabels\u001B[49m\u001B[43m,\u001B[49m\u001B[43m \u001B[49m\u001B[43merrors\u001B[49m\u001B[38;5;241;43m=\u001B[39;49m\u001B[43merrors\u001B[49m\u001B[43m)\u001B[49m\n\u001B[0;32m   4547\u001B[0m     indexer \u001B[38;5;241m=\u001B[39m axis\u001B[38;5;241m.\u001B[39mget_indexer(new_axis)\n\u001B[0;32m   4549\u001B[0m \u001B[38;5;66;03m# Case for non-unique axis\u001B[39;00m\n\u001B[0;32m   4550\u001B[0m \u001B[38;5;28;01melse\u001B[39;00m:\n",
      "File \u001B[1;32m~\\AppData\\Local\\Programs\\Python\\Python3115\\Lib\\site-packages\\pandas\\core\\indexes\\base.py:6934\u001B[0m, in \u001B[0;36mIndex.drop\u001B[1;34m(self, labels, errors)\u001B[0m\n\u001B[0;32m   6932\u001B[0m \u001B[38;5;28;01mif\u001B[39;00m mask\u001B[38;5;241m.\u001B[39many():\n\u001B[0;32m   6933\u001B[0m     \u001B[38;5;28;01mif\u001B[39;00m errors \u001B[38;5;241m!=\u001B[39m \u001B[38;5;124m\"\u001B[39m\u001B[38;5;124mignore\u001B[39m\u001B[38;5;124m\"\u001B[39m:\n\u001B[1;32m-> 6934\u001B[0m         \u001B[38;5;28;01mraise\u001B[39;00m \u001B[38;5;167;01mKeyError\u001B[39;00m(\u001B[38;5;124mf\u001B[39m\u001B[38;5;124m\"\u001B[39m\u001B[38;5;132;01m{\u001B[39;00m\u001B[38;5;28mlist\u001B[39m(labels[mask])\u001B[38;5;132;01m}\u001B[39;00m\u001B[38;5;124m not found in axis\u001B[39m\u001B[38;5;124m\"\u001B[39m)\n\u001B[0;32m   6935\u001B[0m     indexer \u001B[38;5;241m=\u001B[39m indexer[\u001B[38;5;241m~\u001B[39mmask]\n\u001B[0;32m   6936\u001B[0m \u001B[38;5;28;01mreturn\u001B[39;00m \u001B[38;5;28mself\u001B[39m\u001B[38;5;241m.\u001B[39mdelete(indexer)\n",
      "\u001B[1;31mKeyError\u001B[0m: \"['FEDFUNDS'] not found in axis\""
     ]
    }
   ],
   "source": [
    "merged_df.drop(['FEDFUNDS'], axis=1, inplace=True)\n",
    "merged_df"
   ],
   "metadata": {
    "collapsed": false,
    "ExecuteTime": {
     "end_time": "2023-11-30T16:37:21.634810600Z",
     "start_time": "2023-11-30T16:37:21.367869200Z"
    }
   }
  },
  {
   "cell_type": "code",
   "execution_count": 732,
   "outputs": [
    {
     "data": {
      "text/plain": "Date      0\nINDPRO    0\ndtype: int64"
     },
     "execution_count": 732,
     "metadata": {},
     "output_type": "execute_result"
    }
   ],
   "source": [
    "indpro = pd.read_csv('Datasets/others/INDPRO.csv')\n",
    "indpro.rename(columns={'DATE': 'Date'}, inplace=True)\n",
    "indpro['Date'] = pd.to_datetime(indpro['Date'])\n",
    "indpro = indpro[indpro['Date'] >= '2000-01-01']\n",
    "indpro = indpro.sort_values(by='Date')\n",
    "indpro.isna().sum()"
   ],
   "metadata": {
    "collapsed": false,
    "ExecuteTime": {
     "end_time": "2023-11-30T16:39:35.118846200Z",
     "start_time": "2023-11-30T16:39:35.040378700Z"
    }
   }
  },
  {
   "cell_type": "code",
   "execution_count": 733,
   "outputs": [
    {
     "data": {
      "text/plain": "          Date   Price  Day  Month  Year   DEXCHUS    INDPRO\n0   2000-02-01  0.8480    1      2  2000  0.120811   91.7357\n1   2000-03-01  0.8030    1      3  2000  0.120793   92.0933\n2   2000-05-01  0.8000    1      5  2000  0.120774   92.9376\n3   2000-06-01  0.8130    1      6  2000  0.120815   93.0076\n4   2000-08-01  0.8745    1      8  2000  0.120790   92.5972\n..         ...     ...  ...    ...   ...       ...       ...\n182 2023-03-01  4.1600    1      3  2023  0.145654  102.6592\n183 2023-05-01  3.9340    1      5  2023  0.144584  102.9240\n184 2023-06-01  3.7110    1      6  2023  0.140976  102.3030\n185 2023-08-01  3.9085    1      8  2023  0.139324  103.2927\n186 2023-09-01  3.8520    1      9  2023  0.137730  103.3643\n\n[187 rows x 7 columns]",
      "text/html": "<div>\n<style scoped>\n    .dataframe tbody tr th:only-of-type {\n        vertical-align: middle;\n    }\n\n    .dataframe tbody tr th {\n        vertical-align: top;\n    }\n\n    .dataframe thead th {\n        text-align: right;\n    }\n</style>\n<table border=\"1\" class=\"dataframe\">\n  <thead>\n    <tr style=\"text-align: right;\">\n      <th></th>\n      <th>Date</th>\n      <th>Price</th>\n      <th>Day</th>\n      <th>Month</th>\n      <th>Year</th>\n      <th>DEXCHUS</th>\n      <th>INDPRO</th>\n    </tr>\n  </thead>\n  <tbody>\n    <tr>\n      <th>0</th>\n      <td>2000-02-01</td>\n      <td>0.8480</td>\n      <td>1</td>\n      <td>2</td>\n      <td>2000</td>\n      <td>0.120811</td>\n      <td>91.7357</td>\n    </tr>\n    <tr>\n      <th>1</th>\n      <td>2000-03-01</td>\n      <td>0.8030</td>\n      <td>1</td>\n      <td>3</td>\n      <td>2000</td>\n      <td>0.120793</td>\n      <td>92.0933</td>\n    </tr>\n    <tr>\n      <th>2</th>\n      <td>2000-05-01</td>\n      <td>0.8000</td>\n      <td>1</td>\n      <td>5</td>\n      <td>2000</td>\n      <td>0.120774</td>\n      <td>92.9376</td>\n    </tr>\n    <tr>\n      <th>3</th>\n      <td>2000-06-01</td>\n      <td>0.8130</td>\n      <td>1</td>\n      <td>6</td>\n      <td>2000</td>\n      <td>0.120815</td>\n      <td>93.0076</td>\n    </tr>\n    <tr>\n      <th>4</th>\n      <td>2000-08-01</td>\n      <td>0.8745</td>\n      <td>1</td>\n      <td>8</td>\n      <td>2000</td>\n      <td>0.120790</td>\n      <td>92.5972</td>\n    </tr>\n    <tr>\n      <th>...</th>\n      <td>...</td>\n      <td>...</td>\n      <td>...</td>\n      <td>...</td>\n      <td>...</td>\n      <td>...</td>\n      <td>...</td>\n    </tr>\n    <tr>\n      <th>182</th>\n      <td>2023-03-01</td>\n      <td>4.1600</td>\n      <td>1</td>\n      <td>3</td>\n      <td>2023</td>\n      <td>0.145654</td>\n      <td>102.6592</td>\n    </tr>\n    <tr>\n      <th>183</th>\n      <td>2023-05-01</td>\n      <td>3.9340</td>\n      <td>1</td>\n      <td>5</td>\n      <td>2023</td>\n      <td>0.144584</td>\n      <td>102.9240</td>\n    </tr>\n    <tr>\n      <th>184</th>\n      <td>2023-06-01</td>\n      <td>3.7110</td>\n      <td>1</td>\n      <td>6</td>\n      <td>2023</td>\n      <td>0.140976</td>\n      <td>102.3030</td>\n    </tr>\n    <tr>\n      <th>185</th>\n      <td>2023-08-01</td>\n      <td>3.9085</td>\n      <td>1</td>\n      <td>8</td>\n      <td>2023</td>\n      <td>0.139324</td>\n      <td>103.2927</td>\n    </tr>\n    <tr>\n      <th>186</th>\n      <td>2023-09-01</td>\n      <td>3.8520</td>\n      <td>1</td>\n      <td>9</td>\n      <td>2023</td>\n      <td>0.137730</td>\n      <td>103.3643</td>\n    </tr>\n  </tbody>\n</table>\n<p>187 rows × 7 columns</p>\n</div>"
     },
     "execution_count": 733,
     "metadata": {},
     "output_type": "execute_result"
    }
   ],
   "source": [
    "merged_df = pd.merge(merged_df, indpro, on='Date', how='inner')\n",
    "merged_df"
   ],
   "metadata": {
    "collapsed": false,
    "ExecuteTime": {
     "end_time": "2023-11-30T16:39:58.920222300Z",
     "start_time": "2023-11-30T16:39:58.840556100Z"
    }
   }
  },
  {
   "cell_type": "code",
   "execution_count": 734,
   "outputs": [
    {
     "data": {
      "text/plain": "0.5493164360736296"
     },
     "execution_count": 734,
     "metadata": {},
     "output_type": "execute_result"
    }
   ],
   "source": [
    "correlation = merged_df['Price'].corr(merged_df['INDPRO'])\n",
    "correlation"
   ],
   "metadata": {
    "collapsed": false,
    "ExecuteTime": {
     "end_time": "2023-11-30T16:40:24.055896Z",
     "start_time": "2023-11-30T16:40:24.022423600Z"
    }
   }
  },
  {
   "cell_type": "code",
   "execution_count": 738,
   "outputs": [
    {
     "data": {
      "text/plain": "           Date   Price  Day  Month  Year\n2869 2000-01-04  0.8480    4      1  2000\n2870 2000-01-05  0.8565    5      1  2000\n2871 2000-01-06  0.8530    6      1  2000\n2872 2000-01-07  0.8540    7      1  2000\n2873 2000-01-10  0.8465   10      1  2000\n...         ...     ...  ...    ...   ...\n8948 2023-11-24  3.8205   24     11  2023\n8949 2023-11-27  3.7890   27     11  2023\n8950 2023-11-28  3.8285   28     11  2023\n8951 2023-11-29  3.8255   29     11  2023\n8952 2023-11-30  3.8213   30     11  2023\n\n[6084 rows x 5 columns]",
      "text/html": "<div>\n<style scoped>\n    .dataframe tbody tr th:only-of-type {\n        vertical-align: middle;\n    }\n\n    .dataframe tbody tr th {\n        vertical-align: top;\n    }\n\n    .dataframe thead th {\n        text-align: right;\n    }\n</style>\n<table border=\"1\" class=\"dataframe\">\n  <thead>\n    <tr style=\"text-align: right;\">\n      <th></th>\n      <th>Date</th>\n      <th>Price</th>\n      <th>Day</th>\n      <th>Month</th>\n      <th>Year</th>\n    </tr>\n  </thead>\n  <tbody>\n    <tr>\n      <th>2869</th>\n      <td>2000-01-04</td>\n      <td>0.8480</td>\n      <td>4</td>\n      <td>1</td>\n      <td>2000</td>\n    </tr>\n    <tr>\n      <th>2870</th>\n      <td>2000-01-05</td>\n      <td>0.8565</td>\n      <td>5</td>\n      <td>1</td>\n      <td>2000</td>\n    </tr>\n    <tr>\n      <th>2871</th>\n      <td>2000-01-06</td>\n      <td>0.8530</td>\n      <td>6</td>\n      <td>1</td>\n      <td>2000</td>\n    </tr>\n    <tr>\n      <th>2872</th>\n      <td>2000-01-07</td>\n      <td>0.8540</td>\n      <td>7</td>\n      <td>1</td>\n      <td>2000</td>\n    </tr>\n    <tr>\n      <th>2873</th>\n      <td>2000-01-10</td>\n      <td>0.8465</td>\n      <td>10</td>\n      <td>1</td>\n      <td>2000</td>\n    </tr>\n    <tr>\n      <th>...</th>\n      <td>...</td>\n      <td>...</td>\n      <td>...</td>\n      <td>...</td>\n      <td>...</td>\n    </tr>\n    <tr>\n      <th>8948</th>\n      <td>2023-11-24</td>\n      <td>3.8205</td>\n      <td>24</td>\n      <td>11</td>\n      <td>2023</td>\n    </tr>\n    <tr>\n      <th>8949</th>\n      <td>2023-11-27</td>\n      <td>3.7890</td>\n      <td>27</td>\n      <td>11</td>\n      <td>2023</td>\n    </tr>\n    <tr>\n      <th>8950</th>\n      <td>2023-11-28</td>\n      <td>3.8285</td>\n      <td>28</td>\n      <td>11</td>\n      <td>2023</td>\n    </tr>\n    <tr>\n      <th>8951</th>\n      <td>2023-11-29</td>\n      <td>3.8255</td>\n      <td>29</td>\n      <td>11</td>\n      <td>2023</td>\n    </tr>\n    <tr>\n      <th>8952</th>\n      <td>2023-11-30</td>\n      <td>3.8213</td>\n      <td>30</td>\n      <td>11</td>\n      <td>2023</td>\n    </tr>\n  </tbody>\n</table>\n<p>6084 rows × 5 columns</p>\n</div>"
     },
     "execution_count": 738,
     "metadata": {},
     "output_type": "execute_result"
    }
   ],
   "source": [
    "copper_history = copper_history.sort_values(by='Date',ascending=True)\n",
    "copper_history"
   ],
   "metadata": {
    "collapsed": false,
    "ExecuteTime": {
     "end_time": "2023-11-30T16:49:30.201788900Z",
     "start_time": "2023-11-30T16:49:30.167357800Z"
    }
   }
  },
  {
   "cell_type": "code",
   "execution_count": 739,
   "outputs": [
    {
     "data": {
      "text/plain": "           Date   Price  Day  Month  Year\n0    2000-01-04  0.8480    4      1  2000\n1    2000-01-05  0.8565    5      1  2000\n2    2000-01-06  0.8530    6      1  2000\n3    2000-01-07  0.8540    7      1  2000\n4    2000-01-10  0.8465   10      1  2000\n...         ...     ...  ...    ...   ...\n6079 2023-11-24  3.8205   24     11  2023\n6080 2023-11-27  3.7890   27     11  2023\n6081 2023-11-28  3.8285   28     11  2023\n6082 2023-11-29  3.8255   29     11  2023\n6083 2023-11-30  3.8213   30     11  2023\n\n[6084 rows x 5 columns]",
      "text/html": "<div>\n<style scoped>\n    .dataframe tbody tr th:only-of-type {\n        vertical-align: middle;\n    }\n\n    .dataframe tbody tr th {\n        vertical-align: top;\n    }\n\n    .dataframe thead th {\n        text-align: right;\n    }\n</style>\n<table border=\"1\" class=\"dataframe\">\n  <thead>\n    <tr style=\"text-align: right;\">\n      <th></th>\n      <th>Date</th>\n      <th>Price</th>\n      <th>Day</th>\n      <th>Month</th>\n      <th>Year</th>\n    </tr>\n  </thead>\n  <tbody>\n    <tr>\n      <th>0</th>\n      <td>2000-01-04</td>\n      <td>0.8480</td>\n      <td>4</td>\n      <td>1</td>\n      <td>2000</td>\n    </tr>\n    <tr>\n      <th>1</th>\n      <td>2000-01-05</td>\n      <td>0.8565</td>\n      <td>5</td>\n      <td>1</td>\n      <td>2000</td>\n    </tr>\n    <tr>\n      <th>2</th>\n      <td>2000-01-06</td>\n      <td>0.8530</td>\n      <td>6</td>\n      <td>1</td>\n      <td>2000</td>\n    </tr>\n    <tr>\n      <th>3</th>\n      <td>2000-01-07</td>\n      <td>0.8540</td>\n      <td>7</td>\n      <td>1</td>\n      <td>2000</td>\n    </tr>\n    <tr>\n      <th>4</th>\n      <td>2000-01-10</td>\n      <td>0.8465</td>\n      <td>10</td>\n      <td>1</td>\n      <td>2000</td>\n    </tr>\n    <tr>\n      <th>...</th>\n      <td>...</td>\n      <td>...</td>\n      <td>...</td>\n      <td>...</td>\n      <td>...</td>\n    </tr>\n    <tr>\n      <th>6079</th>\n      <td>2023-11-24</td>\n      <td>3.8205</td>\n      <td>24</td>\n      <td>11</td>\n      <td>2023</td>\n    </tr>\n    <tr>\n      <th>6080</th>\n      <td>2023-11-27</td>\n      <td>3.7890</td>\n      <td>27</td>\n      <td>11</td>\n      <td>2023</td>\n    </tr>\n    <tr>\n      <th>6081</th>\n      <td>2023-11-28</td>\n      <td>3.8285</td>\n      <td>28</td>\n      <td>11</td>\n      <td>2023</td>\n    </tr>\n    <tr>\n      <th>6082</th>\n      <td>2023-11-29</td>\n      <td>3.8255</td>\n      <td>29</td>\n      <td>11</td>\n      <td>2023</td>\n    </tr>\n    <tr>\n      <th>6083</th>\n      <td>2023-11-30</td>\n      <td>3.8213</td>\n      <td>30</td>\n      <td>11</td>\n      <td>2023</td>\n    </tr>\n  </tbody>\n</table>\n<p>6084 rows × 5 columns</p>\n</div>"
     },
     "execution_count": 739,
     "metadata": {},
     "output_type": "execute_result"
    }
   ],
   "source": [
    "# Resetting Index\n",
    "copper_history = copper_history.reset_index(drop=True)\n",
    "copper_history"
   ],
   "metadata": {
    "collapsed": false,
    "ExecuteTime": {
     "end_time": "2023-11-30T16:49:30.909922300Z",
     "start_time": "2023-11-30T16:49:30.657000800Z"
    }
   }
  },
  {
   "cell_type": "code",
   "execution_count": 740,
   "outputs": [
    {
     "data": {
      "text/plain": "Empty DataFrame\nColumns: [Date, Price, Day, Month, Year]\nIndex: []",
      "text/html": "<div>\n<style scoped>\n    .dataframe tbody tr th:only-of-type {\n        vertical-align: middle;\n    }\n\n    .dataframe tbody tr th {\n        vertical-align: top;\n    }\n\n    .dataframe thead th {\n        text-align: right;\n    }\n</style>\n<table border=\"1\" class=\"dataframe\">\n  <thead>\n    <tr style=\"text-align: right;\">\n      <th></th>\n      <th>Date</th>\n      <th>Price</th>\n      <th>Day</th>\n      <th>Month</th>\n      <th>Year</th>\n    </tr>\n  </thead>\n  <tbody>\n  </tbody>\n</table>\n</div>"
     },
     "execution_count": 740,
     "metadata": {},
     "output_type": "execute_result"
    }
   ],
   "source": [
    "duplicate_rows = copper_history[copper_history.duplicated(subset='Date', keep=False)]\n",
    "duplicate_rows"
   ],
   "metadata": {
    "collapsed": false,
    "ExecuteTime": {
     "end_time": "2023-11-30T16:49:31.285063100Z",
     "start_time": "2023-11-30T16:49:30.786044200Z"
    }
   }
  },
  {
   "cell_type": "markdown",
   "source": [
    "## Remove Duplicated Rows"
   ],
   "metadata": {
    "collapsed": false
   }
  },
  {
   "cell_type": "code",
   "source": [
    "copper_history = copper_history.drop_duplicates(subset='Date', keep='first')\n",
    "copper_history = copper_history.reset_index(drop=True)\n",
    "copper_history"
   ],
   "metadata": {
    "colab": {
     "base_uri": "https://localhost:8080/",
     "height": 423
    },
    "id": "DP4kkBckIc6a",
    "outputId": "3ad2b479-e442-4c8a-ed0f-1c1a39dd4a60",
    "ExecuteTime": {
     "end_time": "2023-11-30T16:49:31.428332Z",
     "start_time": "2023-11-30T16:49:30.865075900Z"
    }
   },
   "execution_count": 741,
   "outputs": [
    {
     "data": {
      "text/plain": "           Date   Price  Day  Month  Year\n0    2000-01-04  0.8480    4      1  2000\n1    2000-01-05  0.8565    5      1  2000\n2    2000-01-06  0.8530    6      1  2000\n3    2000-01-07  0.8540    7      1  2000\n4    2000-01-10  0.8465   10      1  2000\n...         ...     ...  ...    ...   ...\n6079 2023-11-24  3.8205   24     11  2023\n6080 2023-11-27  3.7890   27     11  2023\n6081 2023-11-28  3.8285   28     11  2023\n6082 2023-11-29  3.8255   29     11  2023\n6083 2023-11-30  3.8213   30     11  2023\n\n[6084 rows x 5 columns]",
      "text/html": "<div>\n<style scoped>\n    .dataframe tbody tr th:only-of-type {\n        vertical-align: middle;\n    }\n\n    .dataframe tbody tr th {\n        vertical-align: top;\n    }\n\n    .dataframe thead th {\n        text-align: right;\n    }\n</style>\n<table border=\"1\" class=\"dataframe\">\n  <thead>\n    <tr style=\"text-align: right;\">\n      <th></th>\n      <th>Date</th>\n      <th>Price</th>\n      <th>Day</th>\n      <th>Month</th>\n      <th>Year</th>\n    </tr>\n  </thead>\n  <tbody>\n    <tr>\n      <th>0</th>\n      <td>2000-01-04</td>\n      <td>0.8480</td>\n      <td>4</td>\n      <td>1</td>\n      <td>2000</td>\n    </tr>\n    <tr>\n      <th>1</th>\n      <td>2000-01-05</td>\n      <td>0.8565</td>\n      <td>5</td>\n      <td>1</td>\n      <td>2000</td>\n    </tr>\n    <tr>\n      <th>2</th>\n      <td>2000-01-06</td>\n      <td>0.8530</td>\n      <td>6</td>\n      <td>1</td>\n      <td>2000</td>\n    </tr>\n    <tr>\n      <th>3</th>\n      <td>2000-01-07</td>\n      <td>0.8540</td>\n      <td>7</td>\n      <td>1</td>\n      <td>2000</td>\n    </tr>\n    <tr>\n      <th>4</th>\n      <td>2000-01-10</td>\n      <td>0.8465</td>\n      <td>10</td>\n      <td>1</td>\n      <td>2000</td>\n    </tr>\n    <tr>\n      <th>...</th>\n      <td>...</td>\n      <td>...</td>\n      <td>...</td>\n      <td>...</td>\n      <td>...</td>\n    </tr>\n    <tr>\n      <th>6079</th>\n      <td>2023-11-24</td>\n      <td>3.8205</td>\n      <td>24</td>\n      <td>11</td>\n      <td>2023</td>\n    </tr>\n    <tr>\n      <th>6080</th>\n      <td>2023-11-27</td>\n      <td>3.7890</td>\n      <td>27</td>\n      <td>11</td>\n      <td>2023</td>\n    </tr>\n    <tr>\n      <th>6081</th>\n      <td>2023-11-28</td>\n      <td>3.8285</td>\n      <td>28</td>\n      <td>11</td>\n      <td>2023</td>\n    </tr>\n    <tr>\n      <th>6082</th>\n      <td>2023-11-29</td>\n      <td>3.8255</td>\n      <td>29</td>\n      <td>11</td>\n      <td>2023</td>\n    </tr>\n    <tr>\n      <th>6083</th>\n      <td>2023-11-30</td>\n      <td>3.8213</td>\n      <td>30</td>\n      <td>11</td>\n      <td>2023</td>\n    </tr>\n  </tbody>\n</table>\n<p>6084 rows × 5 columns</p>\n</div>"
     },
     "execution_count": 741,
     "metadata": {},
     "output_type": "execute_result"
    }
   ]
  },
  {
   "cell_type": "code",
   "source": [
    "plt.figure(figsize=(12, 6))  # Set the figure size\n",
    "plt.plot(copper_history['Date'], copper_history['Price'], linestyle='-', color='b')\n",
    "plt.xlabel('Date')\n",
    "plt.ylabel('Price')\n",
    "plt.title('Time Series Plot: Price Over Date')\n",
    "plt.grid(True)\n",
    "plt.xticks(rotation=45)  # Rotate x-axis labels for better visibility\n",
    "\n",
    "plt.tight_layout()\n",
    "plt.show()"
   ],
   "metadata": {
    "colab": {
     "base_uri": "https://localhost:8080/",
     "height": 439
    },
    "id": "nuTBVql3I3Cq",
    "outputId": "8f785d2f-bf52-4629-d42a-0fbf6c9f71be",
    "ExecuteTime": {
     "end_time": "2023-11-30T16:49:32.881540400Z",
     "start_time": "2023-11-30T16:49:30.876923400Z"
    }
   },
   "execution_count": 742,
   "outputs": [
    {
     "data": {
      "text/plain": "<Figure size 1200x600 with 1 Axes>",
      "image/png": "[encoded data removed]"
     },
     "metadata": {},
     "output_type": "display_data"
    }
   ]
  },
  {
   "cell_type": "code",
   "source": [
    "# Eliminating Outliers\n",
    "lower_bound = 0.1\n",
    "for index, row in copper_history.iterrows():\n",
    "    if row['Price'] < lower_bound:\n",
    "        # Calculate the mean of the previous 7 days' prices\n",
    "        start_date = row['Date'] - pd.DateOffset(days=8)\n",
    "        end_date = row['Date'] - pd.DateOffset(days=1)\n",
    "        previous_7_days_mean = copper_history[(copper_history['Date'] >= start_date) & (copper_history['Date'] <= end_date)]['Price'].mean()\n",
    "\n",
    "        # Replace 'updated_price' with the calculated mean\n",
    "        copper_history.at[index, 'Price'] = previous_7_days_mean\n",
    "copper_history.sort_values(by=\"Date\")"
   ],
   "metadata": {
    "colab": {
     "base_uri": "https://localhost:8080/",
     "height": 423
    },
    "id": "HfaA6mzvI-a1",
    "outputId": "a820d59e-591b-45e8-f26c-188e48ebcf09",
    "ExecuteTime": {
     "end_time": "2023-11-30T16:49:33.099542300Z",
     "start_time": "2023-11-30T16:49:31.174065900Z"
    }
   },
   "execution_count": 743,
   "outputs": [
    {
     "data": {
      "text/plain": "           Date   Price  Day  Month  Year\n0    2000-01-04  0.8480    4      1  2000\n1    2000-01-05  0.8565    5      1  2000\n2    2000-01-06  0.8530    6      1  2000\n3    2000-01-07  0.8540    7      1  2000\n4    2000-01-10  0.8465   10      1  2000\n...         ...     ...  ...    ...   ...\n6079 2023-11-24  3.8205   24     11  2023\n6080 2023-11-27  3.7890   27     11  2023\n6081 2023-11-28  3.8285   28     11  2023\n6082 2023-11-29  3.8255   29     11  2023\n6083 2023-11-30  3.8213   30     11  2023\n\n[6084 rows x 5 columns]",
      "text/html": "<div>\n<style scoped>\n    .dataframe tbody tr th:only-of-type {\n        vertical-align: middle;\n    }\n\n    .dataframe tbody tr th {\n        vertical-align: top;\n    }\n\n    .dataframe thead th {\n        text-align: right;\n    }\n</style>\n<table border=\"1\" class=\"dataframe\">\n  <thead>\n    <tr style=\"text-align: right;\">\n      <th></th>\n      <th>Date</th>\n      <th>Price</th>\n      <th>Day</th>\n      <th>Month</th>\n      <th>Year</th>\n    </tr>\n  </thead>\n  <tbody>\n    <tr>\n      <th>0</th>\n      <td>2000-01-04</td>\n      <td>0.8480</td>\n      <td>4</td>\n      <td>1</td>\n      <td>2000</td>\n    </tr>\n    <tr>\n      <th>1</th>\n      <td>2000-01-05</td>\n      <td>0.8565</td>\n      <td>5</td>\n      <td>1</td>\n      <td>2000</td>\n    </tr>\n    <tr>\n      <th>2</th>\n      <td>2000-01-06</td>\n      <td>0.8530</td>\n      <td>6</td>\n      <td>1</td>\n      <td>2000</td>\n    </tr>\n    <tr>\n      <th>3</th>\n      <td>2000-01-07</td>\n      <td>0.8540</td>\n      <td>7</td>\n      <td>1</td>\n      <td>2000</td>\n    </tr>\n    <tr>\n      <th>4</th>\n      <td>2000-01-10</td>\n      <td>0.8465</td>\n      <td>10</td>\n      <td>1</td>\n      <td>2000</td>\n    </tr>\n    <tr>\n      <th>...</th>\n      <td>...</td>\n      <td>...</td>\n      <td>...</td>\n      <td>...</td>\n      <td>...</td>\n    </tr>\n    <tr>\n      <th>6079</th>\n      <td>2023-11-24</td>\n      <td>3.8205</td>\n      <td>24</td>\n      <td>11</td>\n      <td>2023</td>\n    </tr>\n    <tr>\n      <th>6080</th>\n      <td>2023-11-27</td>\n      <td>3.7890</td>\n      <td>27</td>\n      <td>11</td>\n      <td>2023</td>\n    </tr>\n    <tr>\n      <th>6081</th>\n      <td>2023-11-28</td>\n      <td>3.8285</td>\n      <td>28</td>\n      <td>11</td>\n      <td>2023</td>\n    </tr>\n    <tr>\n      <th>6082</th>\n      <td>2023-11-29</td>\n      <td>3.8255</td>\n      <td>29</td>\n      <td>11</td>\n      <td>2023</td>\n    </tr>\n    <tr>\n      <th>6083</th>\n      <td>2023-11-30</td>\n      <td>3.8213</td>\n      <td>30</td>\n      <td>11</td>\n      <td>2023</td>\n    </tr>\n  </tbody>\n</table>\n<p>6084 rows × 5 columns</p>\n</div>"
     },
     "execution_count": 743,
     "metadata": {},
     "output_type": "execute_result"
    }
   ]
  },
  {
   "cell_type": "code",
   "source": [
    "plt.figure(figsize=(12, 6))  # Set the figure size\n",
    "plt.plot(copper_history['Date'], copper_history['Price'], linestyle='-', color='b')\n",
    "plt.xlabel('Date')\n",
    "plt.ylabel('Price')\n",
    "plt.title('Time Series Plot: Price Over Date')\n",
    "plt.grid(True)\n",
    "plt.xticks(rotation=45)  # Rotate x-axis labels for better visibility\n",
    "\n",
    "plt.tight_layout()\n",
    "plt.show()"
   ],
   "metadata": {
    "colab": {
     "base_uri": "https://localhost:8080/",
     "height": 439
    },
    "id": "SIF0pXsPJjrD",
    "outputId": "87485b6f-3eb0-479a-c3d3-e4dbdc64bf52",
    "ExecuteTime": {
     "end_time": "2023-11-30T16:49:33.443158600Z",
     "start_time": "2023-11-30T16:49:31.336333100Z"
    }
   },
   "execution_count": 744,
   "outputs": [
    {
     "data": {
      "text/plain": "<Figure size 1200x600 with 1 Axes>",
      "image/png": "[encoded data removed]"
     },
     "metadata": {},
     "output_type": "display_data"
    }
   ]
  },
  {
   "cell_type": "code",
   "source": [
    "# Extract day, month, and year into separate columns\n",
    "copper_history['Day'] = copper_history['Date'].dt.day\n",
    "copper_history['Month'] = copper_history['Date'].dt.month\n",
    "copper_history['Year'] = copper_history['Date'].dt.year"
   ],
   "metadata": {
    "id": "Kt6r_YvhLEul",
    "ExecuteTime": {
     "end_time": "2023-11-30T16:49:33.443158600Z",
     "start_time": "2023-11-30T16:49:31.633155500Z"
    }
   },
   "execution_count": 745,
   "outputs": []
  },
  {
   "cell_type": "code",
   "source": [
    "copper_history"
   ],
   "metadata": {
    "colab": {
     "base_uri": "https://localhost:8080/",
     "height": 423
    },
    "id": "tLiY_Ig4LNoo",
    "outputId": "97a8f1c7-0dd2-48b7-f115-596f2ec16084",
    "ExecuteTime": {
     "end_time": "2023-11-30T16:49:33.444086100Z",
     "start_time": "2023-11-30T16:49:31.640866800Z"
    }
   },
   "execution_count": 746,
   "outputs": [
    {
     "data": {
      "text/plain": "           Date   Price  Day  Month  Year\n0    2000-01-04  0.8480    4      1  2000\n1    2000-01-05  0.8565    5      1  2000\n2    2000-01-06  0.8530    6      1  2000\n3    2000-01-07  0.8540    7      1  2000\n4    2000-01-10  0.8465   10      1  2000\n...         ...     ...  ...    ...   ...\n6079 2023-11-24  3.8205   24     11  2023\n6080 2023-11-27  3.7890   27     11  2023\n6081 2023-11-28  3.8285   28     11  2023\n6082 2023-11-29  3.8255   29     11  2023\n6083 2023-11-30  3.8213   30     11  2023\n\n[6084 rows x 5 columns]",
      "text/html": "<div>\n<style scoped>\n    .dataframe tbody tr th:only-of-type {\n        vertical-align: middle;\n    }\n\n    .dataframe tbody tr th {\n        vertical-align: top;\n    }\n\n    .dataframe thead th {\n        text-align: right;\n    }\n</style>\n<table border=\"1\" class=\"dataframe\">\n  <thead>\n    <tr style=\"text-align: right;\">\n      <th></th>\n      <th>Date</th>\n      <th>Price</th>\n      <th>Day</th>\n      <th>Month</th>\n      <th>Year</th>\n    </tr>\n  </thead>\n  <tbody>\n    <tr>\n      <th>0</th>\n      <td>2000-01-04</td>\n      <td>0.8480</td>\n      <td>4</td>\n      <td>1</td>\n      <td>2000</td>\n    </tr>\n    <tr>\n      <th>1</th>\n      <td>2000-01-05</td>\n      <td>0.8565</td>\n      <td>5</td>\n      <td>1</td>\n      <td>2000</td>\n    </tr>\n    <tr>\n      <th>2</th>\n      <td>2000-01-06</td>\n      <td>0.8530</td>\n      <td>6</td>\n      <td>1</td>\n      <td>2000</td>\n    </tr>\n    <tr>\n      <th>3</th>\n      <td>2000-01-07</td>\n      <td>0.8540</td>\n      <td>7</td>\n      <td>1</td>\n      <td>2000</td>\n    </tr>\n    <tr>\n      <th>4</th>\n      <td>2000-01-10</td>\n      <td>0.8465</td>\n      <td>10</td>\n      <td>1</td>\n      <td>2000</td>\n    </tr>\n    <tr>\n      <th>...</th>\n      <td>...</td>\n      <td>...</td>\n      <td>...</td>\n      <td>...</td>\n      <td>...</td>\n    </tr>\n    <tr>\n      <th>6079</th>\n      <td>2023-11-24</td>\n      <td>3.8205</td>\n      <td>24</td>\n      <td>11</td>\n      <td>2023</td>\n    </tr>\n    <tr>\n      <th>6080</th>\n      <td>2023-11-27</td>\n      <td>3.7890</td>\n      <td>27</td>\n      <td>11</td>\n      <td>2023</td>\n    </tr>\n    <tr>\n      <th>6081</th>\n      <td>2023-11-28</td>\n      <td>3.8285</td>\n      <td>28</td>\n      <td>11</td>\n      <td>2023</td>\n    </tr>\n    <tr>\n      <th>6082</th>\n      <td>2023-11-29</td>\n      <td>3.8255</td>\n      <td>29</td>\n      <td>11</td>\n      <td>2023</td>\n    </tr>\n    <tr>\n      <th>6083</th>\n      <td>2023-11-30</td>\n      <td>3.8213</td>\n      <td>30</td>\n      <td>11</td>\n      <td>2023</td>\n    </tr>\n  </tbody>\n</table>\n<p>6084 rows × 5 columns</p>\n</div>"
     },
     "execution_count": 746,
     "metadata": {},
     "output_type": "execute_result"
    }
   ]
  },
  {
   "cell_type": "code",
   "source": [
    "copper_history.dtypes"
   ],
   "metadata": {
    "colab": {
     "base_uri": "https://localhost:8080/"
    },
    "id": "UM1TTQcbLXLI",
    "outputId": "f711fe7c-5d38-4a82-846d-959b9589108e",
    "ExecuteTime": {
     "end_time": "2023-11-30T16:49:33.444086100Z",
     "start_time": "2023-11-30T16:49:31.649963100Z"
    }
   },
   "execution_count": 747,
   "outputs": [
    {
     "data": {
      "text/plain": "Date     datetime64[ns]\nPrice           float64\nDay               int64\nMonth             int64\nYear              int64\ndtype: object"
     },
     "execution_count": 747,
     "metadata": {},
     "output_type": "execute_result"
    }
   ]
  },
  {
   "cell_type": "code",
   "source": [
    "copper_history.isnull().sum()"
   ],
   "metadata": {
    "colab": {
     "base_uri": "https://localhost:8080/"
    },
    "id": "Kr6tkj4qLj70",
    "outputId": "9ccca44c-860f-48f0-874b-acc9727e2883",
    "ExecuteTime": {
     "end_time": "2023-11-30T16:49:33.506233300Z",
     "start_time": "2023-11-30T16:49:31.654980Z"
    }
   },
   "execution_count": 748,
   "outputs": [
    {
     "data": {
      "text/plain": "Date     0\nPrice    0\nDay      0\nMonth    0\nYear     0\ndtype: int64"
     },
     "execution_count": 748,
     "metadata": {},
     "output_type": "execute_result"
    }
   ]
  },
  {
   "cell_type": "markdown",
   "source": [
    "### Real GDP"
   ],
   "metadata": {
    "id": "alqDD2H96zBa"
   }
  },
  {
   "cell_type": "code",
   "source": [
    "# replace the \"demo\" apikey below with your own key from https://www.alphavantage.co/support/#api-key\n",
    "url = 'https://www.alphavantage.co/query?function=REAL_GDP&interval=annual&apikey=demo'\n",
    "r = requests.get(url)\n",
    "data = r.json()\n",
    "\n",
    "# Extract the time series data\n",
    "time_series = data['data']\n",
    "\n",
    "# Create a DataFrame from the time series data\n",
    "df_GDP = pd.DataFrame(time_series)\n",
    "df_GDP"
   ],
   "metadata": {
    "id": "HIuxEda58bj8",
    "ExecuteTime": {
     "end_time": "2023-11-30T16:49:34.469904800Z",
     "start_time": "2023-11-30T16:49:31.661989600Z"
    }
   },
   "execution_count": 749,
   "outputs": [
    {
     "data": {
      "text/plain": "          date      value\n0   2022-01-01  21822.037\n1   2021-01-01  21407.692\n2   2020-01-01  20234.074\n3   2019-01-01  20692.087\n4   2018-01-01  20193.896\n..         ...        ...\n89  1933-01-01    877.431\n90  1932-01-01    888.414\n91  1931-01-01   1019.977\n92  1930-01-01   1089.785\n93  1929-01-01   1191.124\n\n[94 rows x 2 columns]",
      "text/html": "<div>\n<style scoped>\n    .dataframe tbody tr th:only-of-type {\n        vertical-align: middle;\n    }\n\n    .dataframe tbody tr th {\n        vertical-align: top;\n    }\n\n    .dataframe thead th {\n        text-align: right;\n    }\n</style>\n<table border=\"1\" class=\"dataframe\">\n  <thead>\n    <tr style=\"text-align: right;\">\n      <th></th>\n      <th>date</th>\n      <th>value</th>\n    </tr>\n  </thead>\n  <tbody>\n    <tr>\n      <th>0</th>\n      <td>2022-01-01</td>\n      <td>21822.037</td>\n    </tr>\n    <tr>\n      <th>1</th>\n      <td>2021-01-01</td>\n      <td>21407.692</td>\n    </tr>\n    <tr>\n      <th>2</th>\n      <td>2020-01-01</td>\n      <td>20234.074</td>\n    </tr>\n    <tr>\n      <th>3</th>\n      <td>2019-01-01</td>\n      <td>20692.087</td>\n    </tr>\n    <tr>\n      <th>4</th>\n      <td>2018-01-01</td>\n      <td>20193.896</td>\n    </tr>\n    <tr>\n      <th>...</th>\n      <td>...</td>\n      <td>...</td>\n    </tr>\n    <tr>\n      <th>89</th>\n      <td>1933-01-01</td>\n      <td>877.431</td>\n    </tr>\n    <tr>\n      <th>90</th>\n      <td>1932-01-01</td>\n      <td>888.414</td>\n    </tr>\n    <tr>\n      <th>91</th>\n      <td>1931-01-01</td>\n      <td>1019.977</td>\n    </tr>\n    <tr>\n      <th>92</th>\n      <td>1930-01-01</td>\n      <td>1089.785</td>\n    </tr>\n    <tr>\n      <th>93</th>\n      <td>1929-01-01</td>\n      <td>1191.124</td>\n    </tr>\n  </tbody>\n</table>\n<p>94 rows × 2 columns</p>\n</div>"
     },
     "execution_count": 749,
     "metadata": {},
     "output_type": "execute_result"
    }
   ]
  },
  {
   "cell_type": "code",
   "source": [
    "df_GDP['date'] = pd.to_datetime(df_GDP['date'])"
   ],
   "metadata": {
    "id": "x75z4-OrMMof",
    "ExecuteTime": {
     "end_time": "2023-11-30T16:49:34.469904800Z",
     "start_time": "2023-11-30T16:49:32.280597400Z"
    }
   },
   "execution_count": 750,
   "outputs": []
  },
  {
   "cell_type": "code",
   "source": [
    "df_GDP.sort_values(by='date')"
   ],
   "metadata": {
    "colab": {
     "base_uri": "https://localhost:8080/",
     "height": 423
    },
    "id": "DkhecZ9GMf0I",
    "outputId": "e24631c9-3a70-4f8d-ffff-6d185d746329",
    "ExecuteTime": {
     "end_time": "2023-11-30T16:49:34.469904800Z",
     "start_time": "2023-11-30T16:49:32.286629100Z"
    }
   },
   "execution_count": 751,
   "outputs": [
    {
     "data": {
      "text/plain": "         date      value\n93 1929-01-01   1191.124\n92 1930-01-01   1089.785\n91 1931-01-01   1019.977\n90 1932-01-01    888.414\n89 1933-01-01    877.431\n..        ...        ...\n4  2018-01-01  20193.896\n3  2019-01-01  20692.087\n2  2020-01-01  20234.074\n1  2021-01-01  21407.692\n0  2022-01-01  21822.037\n\n[94 rows x 2 columns]",
      "text/html": "<div>\n<style scoped>\n    .dataframe tbody tr th:only-of-type {\n        vertical-align: middle;\n    }\n\n    .dataframe tbody tr th {\n        vertical-align: top;\n    }\n\n    .dataframe thead th {\n        text-align: right;\n    }\n</style>\n<table border=\"1\" class=\"dataframe\">\n  <thead>\n    <tr style=\"text-align: right;\">\n      <th></th>\n      <th>date</th>\n      <th>value</th>\n    </tr>\n  </thead>\n  <tbody>\n    <tr>\n      <th>93</th>\n      <td>1929-01-01</td>\n      <td>1191.124</td>\n    </tr>\n    <tr>\n      <th>92</th>\n      <td>1930-01-01</td>\n      <td>1089.785</td>\n    </tr>\n    <tr>\n      <th>91</th>\n      <td>1931-01-01</td>\n      <td>1019.977</td>\n    </tr>\n    <tr>\n      <th>90</th>\n      <td>1932-01-01</td>\n      <td>888.414</td>\n    </tr>\n    <tr>\n      <th>89</th>\n      <td>1933-01-01</td>\n      <td>877.431</td>\n    </tr>\n    <tr>\n      <th>...</th>\n      <td>...</td>\n      <td>...</td>\n    </tr>\n    <tr>\n      <th>4</th>\n      <td>2018-01-01</td>\n      <td>20193.896</td>\n    </tr>\n    <tr>\n      <th>3</th>\n      <td>2019-01-01</td>\n      <td>20692.087</td>\n    </tr>\n    <tr>\n      <th>2</th>\n      <td>2020-01-01</td>\n      <td>20234.074</td>\n    </tr>\n    <tr>\n      <th>1</th>\n      <td>2021-01-01</td>\n      <td>21407.692</td>\n    </tr>\n    <tr>\n      <th>0</th>\n      <td>2022-01-01</td>\n      <td>21822.037</td>\n    </tr>\n  </tbody>\n</table>\n<p>94 rows × 2 columns</p>\n</div>"
     },
     "execution_count": 751,
     "metadata": {},
     "output_type": "execute_result"
    }
   ]
  },
  {
   "cell_type": "code",
   "source": [
    "df_GDP['Year'] = df_GDP['date'].dt.year\n",
    "df_GDP"
   ],
   "metadata": {
    "colab": {
     "base_uri": "https://localhost:8080/",
     "height": 423
    },
    "id": "WVB4dkdLMsdP",
    "outputId": "470cdc03-2297-43e9-dcd4-2c162d90d974",
    "ExecuteTime": {
     "end_time": "2023-11-30T16:49:34.469904800Z",
     "start_time": "2023-11-30T16:49:32.295116900Z"
    }
   },
   "execution_count": 752,
   "outputs": [
    {
     "data": {
      "text/plain": "         date      value  Year\n0  2022-01-01  21822.037  2022\n1  2021-01-01  21407.692  2021\n2  2020-01-01  20234.074  2020\n3  2019-01-01  20692.087  2019\n4  2018-01-01  20193.896  2018\n..        ...        ...   ...\n89 1933-01-01    877.431  1933\n90 1932-01-01    888.414  1932\n91 1931-01-01   1019.977  1931\n92 1930-01-01   1089.785  1930\n93 1929-01-01   1191.124  1929\n\n[94 rows x 3 columns]",
      "text/html": "<div>\n<style scoped>\n    .dataframe tbody tr th:only-of-type {\n        vertical-align: middle;\n    }\n\n    .dataframe tbody tr th {\n        vertical-align: top;\n    }\n\n    .dataframe thead th {\n        text-align: right;\n    }\n</style>\n<table border=\"1\" class=\"dataframe\">\n  <thead>\n    <tr style=\"text-align: right;\">\n      <th></th>\n      <th>date</th>\n      <th>value</th>\n      <th>Year</th>\n    </tr>\n  </thead>\n  <tbody>\n    <tr>\n      <th>0</th>\n      <td>2022-01-01</td>\n      <td>21822.037</td>\n      <td>2022</td>\n    </tr>\n    <tr>\n      <th>1</th>\n      <td>2021-01-01</td>\n      <td>21407.692</td>\n      <td>2021</td>\n    </tr>\n    <tr>\n      <th>2</th>\n      <td>2020-01-01</td>\n      <td>20234.074</td>\n      <td>2020</td>\n    </tr>\n    <tr>\n      <th>3</th>\n      <td>2019-01-01</td>\n      <td>20692.087</td>\n      <td>2019</td>\n    </tr>\n    <tr>\n      <th>4</th>\n      <td>2018-01-01</td>\n      <td>20193.896</td>\n      <td>2018</td>\n    </tr>\n    <tr>\n      <th>...</th>\n      <td>...</td>\n      <td>...</td>\n      <td>...</td>\n    </tr>\n    <tr>\n      <th>89</th>\n      <td>1933-01-01</td>\n      <td>877.431</td>\n      <td>1933</td>\n    </tr>\n    <tr>\n      <th>90</th>\n      <td>1932-01-01</td>\n      <td>888.414</td>\n      <td>1932</td>\n    </tr>\n    <tr>\n      <th>91</th>\n      <td>1931-01-01</td>\n      <td>1019.977</td>\n      <td>1931</td>\n    </tr>\n    <tr>\n      <th>92</th>\n      <td>1930-01-01</td>\n      <td>1089.785</td>\n      <td>1930</td>\n    </tr>\n    <tr>\n      <th>93</th>\n      <td>1929-01-01</td>\n      <td>1191.124</td>\n      <td>1929</td>\n    </tr>\n  </tbody>\n</table>\n<p>94 rows × 3 columns</p>\n</div>"
     },
     "execution_count": 752,
     "metadata": {},
     "output_type": "execute_result"
    }
   ]
  },
  {
   "cell_type": "code",
   "source": [
    "empty = df_GDP[df_GDP['value'] == ''].index\n",
    "df_GDP.drop(empty , inplace=True)"
   ],
   "metadata": {
    "id": "mxywlPQOE1eB",
    "ExecuteTime": {
     "end_time": "2023-11-30T16:49:34.470906800Z",
     "start_time": "2023-11-30T16:49:32.303309100Z"
    }
   },
   "execution_count": 753,
   "outputs": []
  },
  {
   "cell_type": "code",
   "source": [
    "df_GDP['value'] = df_GDP['value'].astype(float)"
   ],
   "metadata": {
    "id": "s0OEwsVSC0Kw",
    "ExecuteTime": {
     "end_time": "2023-11-30T16:49:34.470906800Z",
     "start_time": "2023-11-30T16:49:32.307767400Z"
    }
   },
   "execution_count": 754,
   "outputs": []
  },
  {
   "cell_type": "code",
   "source": [
    "df_GDP.rename(columns = {'value':'Real_GDP','date':'Date'}, inplace = True)\n",
    "df_GDP"
   ],
   "metadata": {
    "colab": {
     "base_uri": "https://localhost:8080/",
     "height": 423
    },
    "id": "F3xHuVBhei6F",
    "outputId": "daa9ed12-cefc-44c0-fb63-c2a8c10cf63c",
    "ExecuteTime": {
     "end_time": "2023-11-30T16:49:34.470906800Z",
     "start_time": "2023-11-30T16:49:32.311303600Z"
    }
   },
   "execution_count": 755,
   "outputs": [
    {
     "data": {
      "text/plain": "         Date   Real_GDP  Year\n0  2022-01-01  21822.037  2022\n1  2021-01-01  21407.692  2021\n2  2020-01-01  20234.074  2020\n3  2019-01-01  20692.087  2019\n4  2018-01-01  20193.896  2018\n..        ...        ...   ...\n89 1933-01-01    877.431  1933\n90 1932-01-01    888.414  1932\n91 1931-01-01   1019.977  1931\n92 1930-01-01   1089.785  1930\n93 1929-01-01   1191.124  1929\n\n[94 rows x 3 columns]",
      "text/html": "<div>\n<style scoped>\n    .dataframe tbody tr th:only-of-type {\n        vertical-align: middle;\n    }\n\n    .dataframe tbody tr th {\n        vertical-align: top;\n    }\n\n    .dataframe thead th {\n        text-align: right;\n    }\n</style>\n<table border=\"1\" class=\"dataframe\">\n  <thead>\n    <tr style=\"text-align: right;\">\n      <th></th>\n      <th>Date</th>\n      <th>Real_GDP</th>\n      <th>Year</th>\n    </tr>\n  </thead>\n  <tbody>\n    <tr>\n      <th>0</th>\n      <td>2022-01-01</td>\n      <td>21822.037</td>\n      <td>2022</td>\n    </tr>\n    <tr>\n      <th>1</th>\n      <td>2021-01-01</td>\n      <td>21407.692</td>\n      <td>2021</td>\n    </tr>\n    <tr>\n      <th>2</th>\n      <td>2020-01-01</td>\n      <td>20234.074</td>\n      <td>2020</td>\n    </tr>\n    <tr>\n      <th>3</th>\n      <td>2019-01-01</td>\n      <td>20692.087</td>\n      <td>2019</td>\n    </tr>\n    <tr>\n      <th>4</th>\n      <td>2018-01-01</td>\n      <td>20193.896</td>\n      <td>2018</td>\n    </tr>\n    <tr>\n      <th>...</th>\n      <td>...</td>\n      <td>...</td>\n      <td>...</td>\n    </tr>\n    <tr>\n      <th>89</th>\n      <td>1933-01-01</td>\n      <td>877.431</td>\n      <td>1933</td>\n    </tr>\n    <tr>\n      <th>90</th>\n      <td>1932-01-01</td>\n      <td>888.414</td>\n      <td>1932</td>\n    </tr>\n    <tr>\n      <th>91</th>\n      <td>1931-01-01</td>\n      <td>1019.977</td>\n      <td>1931</td>\n    </tr>\n    <tr>\n      <th>92</th>\n      <td>1930-01-01</td>\n      <td>1089.785</td>\n      <td>1930</td>\n    </tr>\n    <tr>\n      <th>93</th>\n      <td>1929-01-01</td>\n      <td>1191.124</td>\n      <td>1929</td>\n    </tr>\n  </tbody>\n</table>\n<p>94 rows × 3 columns</p>\n</div>"
     },
     "execution_count": 755,
     "metadata": {},
     "output_type": "execute_result"
    }
   ]
  },
  {
   "cell_type": "code",
   "source": [
    "df_GDP = df_GDP[df_GDP['Date'] >= '2000-01-01']\n",
    "df_GDP"
   ],
   "metadata": {
    "colab": {
     "base_uri": "https://localhost:8080/",
     "height": 770
    },
    "id": "tJo_guRoTbX6",
    "outputId": "1cd8528e-8aa7-4978-e189-7364837da354",
    "ExecuteTime": {
     "end_time": "2023-11-30T16:49:34.524907900Z",
     "start_time": "2023-11-30T16:49:32.319568800Z"
    }
   },
   "execution_count": 756,
   "outputs": [
    {
     "data": {
      "text/plain": "         Date   Real_GDP  Year\n0  2022-01-01  21822.037  2022\n1  2021-01-01  21407.692  2021\n2  2020-01-01  20234.074  2020\n3  2019-01-01  20692.087  2019\n4  2018-01-01  20193.896  2018\n5  2017-01-01  19612.102  2017\n6  2016-01-01  19141.672  2016\n7  2015-01-01  18799.622  2015\n8  2014-01-01  18261.714  2014\n9  2013-01-01  17812.167  2013\n10 2012-01-01  17442.759  2012\n11 2011-01-01  17052.410  2011\n12 2010-01-01  16789.750  2010\n13 2009-01-01  16349.110  2009\n14 2008-01-01  16781.485  2008\n15 2007-01-01  16762.445  2007\n16 2006-01-01  16433.148  2006\n17 2005-01-01  15987.957  2005\n18 2004-01-01  15449.757  2004\n19 2003-01-01  14877.312  2003\n20 2002-01-01  14472.712  2002\n21 2001-01-01  14230.726  2001\n22 2000-01-01  14096.033  2000",
      "text/html": "<div>\n<style scoped>\n    .dataframe tbody tr th:only-of-type {\n        vertical-align: middle;\n    }\n\n    .dataframe tbody tr th {\n        vertical-align: top;\n    }\n\n    .dataframe thead th {\n        text-align: right;\n    }\n</style>\n<table border=\"1\" class=\"dataframe\">\n  <thead>\n    <tr style=\"text-align: right;\">\n      <th></th>\n      <th>Date</th>\n      <th>Real_GDP</th>\n      <th>Year</th>\n    </tr>\n  </thead>\n  <tbody>\n    <tr>\n      <th>0</th>\n      <td>2022-01-01</td>\n      <td>21822.037</td>\n      <td>2022</td>\n    </tr>\n    <tr>\n      <th>1</th>\n      <td>2021-01-01</td>\n      <td>21407.692</td>\n      <td>2021</td>\n    </tr>\n    <tr>\n      <th>2</th>\n      <td>2020-01-01</td>\n      <td>20234.074</td>\n      <td>2020</td>\n    </tr>\n    <tr>\n      <th>3</th>\n      <td>2019-01-01</td>\n      <td>20692.087</td>\n      <td>2019</td>\n    </tr>\n    <tr>\n      <th>4</th>\n      <td>2018-01-01</td>\n      <td>20193.896</td>\n      <td>2018</td>\n    </tr>\n    <tr>\n      <th>5</th>\n      <td>2017-01-01</td>\n      <td>19612.102</td>\n      <td>2017</td>\n    </tr>\n    <tr>\n      <th>6</th>\n      <td>2016-01-01</td>\n      <td>19141.672</td>\n      <td>2016</td>\n    </tr>\n    <tr>\n      <th>7</th>\n      <td>2015-01-01</td>\n      <td>18799.622</td>\n      <td>2015</td>\n    </tr>\n    <tr>\n      <th>8</th>\n      <td>2014-01-01</td>\n      <td>18261.714</td>\n      <td>2014</td>\n    </tr>\n    <tr>\n      <th>9</th>\n      <td>2013-01-01</td>\n      <td>17812.167</td>\n      <td>2013</td>\n    </tr>\n    <tr>\n      <th>10</th>\n      <td>2012-01-01</td>\n      <td>17442.759</td>\n      <td>2012</td>\n    </tr>\n    <tr>\n      <th>11</th>\n      <td>2011-01-01</td>\n      <td>17052.410</td>\n      <td>2011</td>\n    </tr>\n    <tr>\n      <th>12</th>\n      <td>2010-01-01</td>\n      <td>16789.750</td>\n      <td>2010</td>\n    </tr>\n    <tr>\n      <th>13</th>\n      <td>2009-01-01</td>\n      <td>16349.110</td>\n      <td>2009</td>\n    </tr>\n    <tr>\n      <th>14</th>\n      <td>2008-01-01</td>\n      <td>16781.485</td>\n      <td>2008</td>\n    </tr>\n    <tr>\n      <th>15</th>\n      <td>2007-01-01</td>\n      <td>16762.445</td>\n      <td>2007</td>\n    </tr>\n    <tr>\n      <th>16</th>\n      <td>2006-01-01</td>\n      <td>16433.148</td>\n      <td>2006</td>\n    </tr>\n    <tr>\n      <th>17</th>\n      <td>2005-01-01</td>\n      <td>15987.957</td>\n      <td>2005</td>\n    </tr>\n    <tr>\n      <th>18</th>\n      <td>2004-01-01</td>\n      <td>15449.757</td>\n      <td>2004</td>\n    </tr>\n    <tr>\n      <th>19</th>\n      <td>2003-01-01</td>\n      <td>14877.312</td>\n      <td>2003</td>\n    </tr>\n    <tr>\n      <th>20</th>\n      <td>2002-01-01</td>\n      <td>14472.712</td>\n      <td>2002</td>\n    </tr>\n    <tr>\n      <th>21</th>\n      <td>2001-01-01</td>\n      <td>14230.726</td>\n      <td>2001</td>\n    </tr>\n    <tr>\n      <th>22</th>\n      <td>2000-01-01</td>\n      <td>14096.033</td>\n      <td>2000</td>\n    </tr>\n  </tbody>\n</table>\n</div>"
     },
     "execution_count": 756,
     "metadata": {},
     "output_type": "execute_result"
    }
   ]
  },
  {
   "cell_type": "code",
   "source": [
    "df_GDP = df_GDP.sort_values(by='Date')\n",
    "df_GDP"
   ],
   "metadata": {
    "colab": {
     "base_uri": "https://localhost:8080/",
     "height": 770
    },
    "id": "lvhqa2ynwHBA",
    "outputId": "2663af30-72a4-4627-9412-6fdcae2bb8a6",
    "ExecuteTime": {
     "end_time": "2023-11-30T16:49:34.524907900Z",
     "start_time": "2023-11-30T16:49:32.327334100Z"
    }
   },
   "execution_count": 757,
   "outputs": [
    {
     "data": {
      "text/plain": "         Date   Real_GDP  Year\n22 2000-01-01  14096.033  2000\n21 2001-01-01  14230.726  2001\n20 2002-01-01  14472.712  2002\n19 2003-01-01  14877.312  2003\n18 2004-01-01  15449.757  2004\n17 2005-01-01  15987.957  2005\n16 2006-01-01  16433.148  2006\n15 2007-01-01  16762.445  2007\n14 2008-01-01  16781.485  2008\n13 2009-01-01  16349.110  2009\n12 2010-01-01  16789.750  2010\n11 2011-01-01  17052.410  2011\n10 2012-01-01  17442.759  2012\n9  2013-01-01  17812.167  2013\n8  2014-01-01  18261.714  2014\n7  2015-01-01  18799.622  2015\n6  2016-01-01  19141.672  2016\n5  2017-01-01  19612.102  2017\n4  2018-01-01  20193.896  2018\n3  2019-01-01  20692.087  2019\n2  2020-01-01  20234.074  2020\n1  2021-01-01  21407.692  2021\n0  2022-01-01  21822.037  2022",
      "text/html": "<div>\n<style scoped>\n    .dataframe tbody tr th:only-of-type {\n        vertical-align: middle;\n    }\n\n    .dataframe tbody tr th {\n        vertical-align: top;\n    }\n\n    .dataframe thead th {\n        text-align: right;\n    }\n</style>\n<table border=\"1\" class=\"dataframe\">\n  <thead>\n    <tr style=\"text-align: right;\">\n      <th></th>\n      <th>Date</th>\n      <th>Real_GDP</th>\n      <th>Year</th>\n    </tr>\n  </thead>\n  <tbody>\n    <tr>\n      <th>22</th>\n      <td>2000-01-01</td>\n      <td>14096.033</td>\n      <td>2000</td>\n    </tr>\n    <tr>\n      <th>21</th>\n      <td>2001-01-01</td>\n      <td>14230.726</td>\n      <td>2001</td>\n    </tr>\n    <tr>\n      <th>20</th>\n      <td>2002-01-01</td>\n      <td>14472.712</td>\n      <td>2002</td>\n    </tr>\n    <tr>\n      <th>19</th>\n      <td>2003-01-01</td>\n      <td>14877.312</td>\n      <td>2003</td>\n    </tr>\n    <tr>\n      <th>18</th>\n      <td>2004-01-01</td>\n      <td>15449.757</td>\n      <td>2004</td>\n    </tr>\n    <tr>\n      <th>17</th>\n      <td>2005-01-01</td>\n      <td>15987.957</td>\n      <td>2005</td>\n    </tr>\n    <tr>\n      <th>16</th>\n      <td>2006-01-01</td>\n      <td>16433.148</td>\n      <td>2006</td>\n    </tr>\n    <tr>\n      <th>15</th>\n      <td>2007-01-01</td>\n      <td>16762.445</td>\n      <td>2007</td>\n    </tr>\n    <tr>\n      <th>14</th>\n      <td>2008-01-01</td>\n      <td>16781.485</td>\n      <td>2008</td>\n    </tr>\n    <tr>\n      <th>13</th>\n      <td>2009-01-01</td>\n      <td>16349.110</td>\n      <td>2009</td>\n    </tr>\n    <tr>\n      <th>12</th>\n      <td>2010-01-01</td>\n      <td>16789.750</td>\n      <td>2010</td>\n    </tr>\n    <tr>\n      <th>11</th>\n      <td>2011-01-01</td>\n      <td>17052.410</td>\n      <td>2011</td>\n    </tr>\n    <tr>\n      <th>10</th>\n      <td>2012-01-01</td>\n      <td>17442.759</td>\n      <td>2012</td>\n    </tr>\n    <tr>\n      <th>9</th>\n      <td>2013-01-01</td>\n      <td>17812.167</td>\n      <td>2013</td>\n    </tr>\n    <tr>\n      <th>8</th>\n      <td>2014-01-01</td>\n      <td>18261.714</td>\n      <td>2014</td>\n    </tr>\n    <tr>\n      <th>7</th>\n      <td>2015-01-01</td>\n      <td>18799.622</td>\n      <td>2015</td>\n    </tr>\n    <tr>\n      <th>6</th>\n      <td>2016-01-01</td>\n      <td>19141.672</td>\n      <td>2016</td>\n    </tr>\n    <tr>\n      <th>5</th>\n      <td>2017-01-01</td>\n      <td>19612.102</td>\n      <td>2017</td>\n    </tr>\n    <tr>\n      <th>4</th>\n      <td>2018-01-01</td>\n      <td>20193.896</td>\n      <td>2018</td>\n    </tr>\n    <tr>\n      <th>3</th>\n      <td>2019-01-01</td>\n      <td>20692.087</td>\n      <td>2019</td>\n    </tr>\n    <tr>\n      <th>2</th>\n      <td>2020-01-01</td>\n      <td>20234.074</td>\n      <td>2020</td>\n    </tr>\n    <tr>\n      <th>1</th>\n      <td>2021-01-01</td>\n      <td>21407.692</td>\n      <td>2021</td>\n    </tr>\n    <tr>\n      <th>0</th>\n      <td>2022-01-01</td>\n      <td>21822.037</td>\n      <td>2022</td>\n    </tr>\n  </tbody>\n</table>\n</div>"
     },
     "execution_count": 757,
     "metadata": {},
     "output_type": "execute_result"
    }
   ]
  },
  {
   "cell_type": "markdown",
   "source": [
    "### Consumer Price Index (CPI)"
   ],
   "metadata": {
    "id": "umSgsf4qM7EZ"
   }
  },
  {
   "cell_type": "code",
   "source": [
    "# replace the \"demo\" apikey below with your own key from https://www.alphavantage.co/support/#api-key\n",
    "url = 'https://www.alphavantage.co/query?function=CPI&interval=monthly&apikey=demo'\n",
    "r = requests.get(url)\n",
    "data_CPI = r.json()\n",
    "\n",
    "# Extract the time series data\n",
    "time_series_CPI = data_CPI['data']\n",
    "\n",
    "# Create a DataFrame from the time series data\n",
    "df_CPI = pd.DataFrame(time_series_CPI)"
   ],
   "metadata": {
    "id": "_1ZI3uEuMeHL",
    "ExecuteTime": {
     "end_time": "2023-11-30T16:49:35.039195900Z",
     "start_time": "2023-11-30T16:49:32.335542500Z"
    }
   },
   "execution_count": 758,
   "outputs": []
  },
  {
   "cell_type": "code",
   "source": [
    "df_CPI['date'] = pd.to_datetime(df_CPI['date'])\n",
    "df_CPI"
   ],
   "metadata": {
    "colab": {
     "base_uri": "https://localhost:8080/",
     "height": 423
    },
    "id": "aprrc1iOwjDY",
    "outputId": "474c3b04-dc38-419d-a1ad-12a385a5795c",
    "ExecuteTime": {
     "end_time": "2023-11-30T16:49:35.073054500Z",
     "start_time": "2023-11-30T16:49:33.325688300Z"
    }
   },
   "execution_count": 759,
   "outputs": [
    {
     "data": {
      "text/plain": "           date    value\n0    2023-10-01  307.671\n1    2023-09-01  307.789\n2    2023-08-01  307.026\n3    2023-07-01  305.691\n4    2023-06-01  305.109\n...         ...      ...\n1325 1913-05-01    9.700\n1326 1913-04-01    9.800\n1327 1913-03-01    9.800\n1328 1913-02-01    9.800\n1329 1913-01-01    9.800\n\n[1330 rows x 2 columns]",
      "text/html": "<div>\n<style scoped>\n    .dataframe tbody tr th:only-of-type {\n        vertical-align: middle;\n    }\n\n    .dataframe tbody tr th {\n        vertical-align: top;\n    }\n\n    .dataframe thead th {\n        text-align: right;\n    }\n</style>\n<table border=\"1\" class=\"dataframe\">\n  <thead>\n    <tr style=\"text-align: right;\">\n      <th></th>\n      <th>date</th>\n      <th>value</th>\n    </tr>\n  </thead>\n  <tbody>\n    <tr>\n      <th>0</th>\n      <td>2023-10-01</td>\n      <td>307.671</td>\n    </tr>\n    <tr>\n      <th>1</th>\n      <td>2023-09-01</td>\n      <td>307.789</td>\n    </tr>\n    <tr>\n      <th>2</th>\n      <td>2023-08-01</td>\n      <td>307.026</td>\n    </tr>\n    <tr>\n      <th>3</th>\n      <td>2023-07-01</td>\n      <td>305.691</td>\n    </tr>\n    <tr>\n      <th>4</th>\n      <td>2023-06-01</td>\n      <td>305.109</td>\n    </tr>\n    <tr>\n      <th>...</th>\n      <td>...</td>\n      <td>...</td>\n    </tr>\n    <tr>\n      <th>1325</th>\n      <td>1913-05-01</td>\n      <td>9.700</td>\n    </tr>\n    <tr>\n      <th>1326</th>\n      <td>1913-04-01</td>\n      <td>9.800</td>\n    </tr>\n    <tr>\n      <th>1327</th>\n      <td>1913-03-01</td>\n      <td>9.800</td>\n    </tr>\n    <tr>\n      <th>1328</th>\n      <td>1913-02-01</td>\n      <td>9.800</td>\n    </tr>\n    <tr>\n      <th>1329</th>\n      <td>1913-01-01</td>\n      <td>9.800</td>\n    </tr>\n  </tbody>\n</table>\n<p>1330 rows × 2 columns</p>\n</div>"
     },
     "execution_count": 759,
     "metadata": {},
     "output_type": "execute_result"
    }
   ]
  },
  {
   "cell_type": "code",
   "source": [
    "empty_CPI = df_CPI[df_CPI['value'] == ''].index\n",
    "df_CPI.drop(empty_CPI , inplace=True)"
   ],
   "metadata": {
    "id": "MbMvg_9PN9fE",
    "ExecuteTime": {
     "end_time": "2023-11-30T16:49:35.073054500Z",
     "start_time": "2023-11-30T16:49:33.335728800Z"
    }
   },
   "execution_count": 760,
   "outputs": []
  },
  {
   "cell_type": "code",
   "source": [
    "df_CPI['value'] = df_CPI['value'].astype(float)\n",
    "df_CPI.dtypes"
   ],
   "metadata": {
    "colab": {
     "base_uri": "https://localhost:8080/"
    },
    "id": "Y21AWjAaOODC",
    "outputId": "07199e45-c143-4b88-f3e9-230a0eb61762",
    "ExecuteTime": {
     "end_time": "2023-11-30T16:49:35.073054500Z",
     "start_time": "2023-11-30T16:49:33.344262500Z"
    }
   },
   "execution_count": 761,
   "outputs": [
    {
     "data": {
      "text/plain": "date     datetime64[ns]\nvalue           float64\ndtype: object"
     },
     "execution_count": 761,
     "metadata": {},
     "output_type": "execute_result"
    }
   ]
  },
  {
   "cell_type": "code",
   "source": [
    "df_CPI.rename(columns = {'value':'CPI', 'date':'Date'}, inplace = True)\n",
    "df_CPI"
   ],
   "metadata": {
    "colab": {
     "base_uri": "https://localhost:8080/",
     "height": 423
    },
    "id": "vt9h8oQ8OOAX",
    "outputId": "ed8125ae-4f9a-4b1a-ba66-bd701d01ac80",
    "ExecuteTime": {
     "end_time": "2023-11-30T16:49:35.074054100Z",
     "start_time": "2023-11-30T16:49:33.350237700Z"
    }
   },
   "execution_count": 762,
   "outputs": [
    {
     "data": {
      "text/plain": "           Date      CPI\n0    2023-10-01  307.671\n1    2023-09-01  307.789\n2    2023-08-01  307.026\n3    2023-07-01  305.691\n4    2023-06-01  305.109\n...         ...      ...\n1325 1913-05-01    9.700\n1326 1913-04-01    9.800\n1327 1913-03-01    9.800\n1328 1913-02-01    9.800\n1329 1913-01-01    9.800\n\n[1330 rows x 2 columns]",
      "text/html": "<div>\n<style scoped>\n    .dataframe tbody tr th:only-of-type {\n        vertical-align: middle;\n    }\n\n    .dataframe tbody tr th {\n        vertical-align: top;\n    }\n\n    .dataframe thead th {\n        text-align: right;\n    }\n</style>\n<table border=\"1\" class=\"dataframe\">\n  <thead>\n    <tr style=\"text-align: right;\">\n      <th></th>\n      <th>Date</th>\n      <th>CPI</th>\n    </tr>\n  </thead>\n  <tbody>\n    <tr>\n      <th>0</th>\n      <td>2023-10-01</td>\n      <td>307.671</td>\n    </tr>\n    <tr>\n      <th>1</th>\n      <td>2023-09-01</td>\n      <td>307.789</td>\n    </tr>\n    <tr>\n      <th>2</th>\n      <td>2023-08-01</td>\n      <td>307.026</td>\n    </tr>\n    <tr>\n      <th>3</th>\n      <td>2023-07-01</td>\n      <td>305.691</td>\n    </tr>\n    <tr>\n      <th>4</th>\n      <td>2023-06-01</td>\n      <td>305.109</td>\n    </tr>\n    <tr>\n      <th>...</th>\n      <td>...</td>\n      <td>...</td>\n    </tr>\n    <tr>\n      <th>1325</th>\n      <td>1913-05-01</td>\n      <td>9.700</td>\n    </tr>\n    <tr>\n      <th>1326</th>\n      <td>1913-04-01</td>\n      <td>9.800</td>\n    </tr>\n    <tr>\n      <th>1327</th>\n      <td>1913-03-01</td>\n      <td>9.800</td>\n    </tr>\n    <tr>\n      <th>1328</th>\n      <td>1913-02-01</td>\n      <td>9.800</td>\n    </tr>\n    <tr>\n      <th>1329</th>\n      <td>1913-01-01</td>\n      <td>9.800</td>\n    </tr>\n  </tbody>\n</table>\n<p>1330 rows × 2 columns</p>\n</div>"
     },
     "execution_count": 762,
     "metadata": {},
     "output_type": "execute_result"
    }
   ]
  },
  {
   "cell_type": "code",
   "source": [
    "df_CPI = df_CPI[df_CPI['Date'] >= '2000-01-01']\n",
    "df_CPI"
   ],
   "metadata": {
    "colab": {
     "base_uri": "https://localhost:8080/",
     "height": 423
    },
    "id": "Fqi7KxRHUEv8",
    "outputId": "edc3e8db-2489-4eda-c833-c12afa17fac1",
    "ExecuteTime": {
     "end_time": "2023-11-30T16:49:35.074054100Z",
     "start_time": "2023-11-30T16:49:33.358170800Z"
    }
   },
   "execution_count": 763,
   "outputs": [
    {
     "data": {
      "text/plain": "          Date      CPI\n0   2023-10-01  307.671\n1   2023-09-01  307.789\n2   2023-08-01  307.026\n3   2023-07-01  305.691\n4   2023-06-01  305.109\n..         ...      ...\n281 2000-05-01  171.500\n282 2000-04-01  171.300\n283 2000-03-01  171.200\n284 2000-02-01  169.800\n285 2000-01-01  168.800\n\n[286 rows x 2 columns]",
      "text/html": "<div>\n<style scoped>\n    .dataframe tbody tr th:only-of-type {\n        vertical-align: middle;\n    }\n\n    .dataframe tbody tr th {\n        vertical-align: top;\n    }\n\n    .dataframe thead th {\n        text-align: right;\n    }\n</style>\n<table border=\"1\" class=\"dataframe\">\n  <thead>\n    <tr style=\"text-align: right;\">\n      <th></th>\n      <th>Date</th>\n      <th>CPI</th>\n    </tr>\n  </thead>\n  <tbody>\n    <tr>\n      <th>0</th>\n      <td>2023-10-01</td>\n      <td>307.671</td>\n    </tr>\n    <tr>\n      <th>1</th>\n      <td>2023-09-01</td>\n      <td>307.789</td>\n    </tr>\n    <tr>\n      <th>2</th>\n      <td>2023-08-01</td>\n      <td>307.026</td>\n    </tr>\n    <tr>\n      <th>3</th>\n      <td>2023-07-01</td>\n      <td>305.691</td>\n    </tr>\n    <tr>\n      <th>4</th>\n      <td>2023-06-01</td>\n      <td>305.109</td>\n    </tr>\n    <tr>\n      <th>...</th>\n      <td>...</td>\n      <td>...</td>\n    </tr>\n    <tr>\n      <th>281</th>\n      <td>2000-05-01</td>\n      <td>171.500</td>\n    </tr>\n    <tr>\n      <th>282</th>\n      <td>2000-04-01</td>\n      <td>171.300</td>\n    </tr>\n    <tr>\n      <th>283</th>\n      <td>2000-03-01</td>\n      <td>171.200</td>\n    </tr>\n    <tr>\n      <th>284</th>\n      <td>2000-02-01</td>\n      <td>169.800</td>\n    </tr>\n    <tr>\n      <th>285</th>\n      <td>2000-01-01</td>\n      <td>168.800</td>\n    </tr>\n  </tbody>\n</table>\n<p>286 rows × 2 columns</p>\n</div>"
     },
     "execution_count": 763,
     "metadata": {},
     "output_type": "execute_result"
    }
   ]
  },
  {
   "cell_type": "code",
   "source": [
    "df_CPI = df_CPI.sort_values(by='Date')\n",
    "df_CPI"
   ],
   "metadata": {
    "colab": {
     "base_uri": "https://localhost:8080/",
     "height": 423
    },
    "id": "f6nAdavVxRfj",
    "outputId": "f8ce4609-21e3-480a-8790-45c81908e2c6",
    "ExecuteTime": {
     "end_time": "2023-11-30T16:49:35.074054100Z",
     "start_time": "2023-11-30T16:49:33.366165500Z"
    }
   },
   "execution_count": 764,
   "outputs": [
    {
     "data": {
      "text/plain": "          Date      CPI\n285 2000-01-01  168.800\n284 2000-02-01  169.800\n283 2000-03-01  171.200\n282 2000-04-01  171.300\n281 2000-05-01  171.500\n..         ...      ...\n4   2023-06-01  305.109\n3   2023-07-01  305.691\n2   2023-08-01  307.026\n1   2023-09-01  307.789\n0   2023-10-01  307.671\n\n[286 rows x 2 columns]",
      "text/html": "<div>\n<style scoped>\n    .dataframe tbody tr th:only-of-type {\n        vertical-align: middle;\n    }\n\n    .dataframe tbody tr th {\n        vertical-align: top;\n    }\n\n    .dataframe thead th {\n        text-align: right;\n    }\n</style>\n<table border=\"1\" class=\"dataframe\">\n  <thead>\n    <tr style=\"text-align: right;\">\n      <th></th>\n      <th>Date</th>\n      <th>CPI</th>\n    </tr>\n  </thead>\n  <tbody>\n    <tr>\n      <th>285</th>\n      <td>2000-01-01</td>\n      <td>168.800</td>\n    </tr>\n    <tr>\n      <th>284</th>\n      <td>2000-02-01</td>\n      <td>169.800</td>\n    </tr>\n    <tr>\n      <th>283</th>\n      <td>2000-03-01</td>\n      <td>171.200</td>\n    </tr>\n    <tr>\n      <th>282</th>\n      <td>2000-04-01</td>\n      <td>171.300</td>\n    </tr>\n    <tr>\n      <th>281</th>\n      <td>2000-05-01</td>\n      <td>171.500</td>\n    </tr>\n    <tr>\n      <th>...</th>\n      <td>...</td>\n      <td>...</td>\n    </tr>\n    <tr>\n      <th>4</th>\n      <td>2023-06-01</td>\n      <td>305.109</td>\n    </tr>\n    <tr>\n      <th>3</th>\n      <td>2023-07-01</td>\n      <td>305.691</td>\n    </tr>\n    <tr>\n      <th>2</th>\n      <td>2023-08-01</td>\n      <td>307.026</td>\n    </tr>\n    <tr>\n      <th>1</th>\n      <td>2023-09-01</td>\n      <td>307.789</td>\n    </tr>\n    <tr>\n      <th>0</th>\n      <td>2023-10-01</td>\n      <td>307.671</td>\n    </tr>\n  </tbody>\n</table>\n<p>286 rows × 2 columns</p>\n</div>"
     },
     "execution_count": 764,
     "metadata": {},
     "output_type": "execute_result"
    }
   ]
  },
  {
   "cell_type": "markdown",
   "source": [
    "### Inflation Rates"
   ],
   "metadata": {
    "id": "sBb89mma6rP9"
   }
  },
  {
   "cell_type": "code",
   "source": [
    "# replace the \"demo\" apikey below with your own key from https://www.alphavantage.co/support/#api-key\n",
    "url = 'https://www.alphavantage.co/query?function=INFLATION&apikey=demo'\n",
    "r = requests.get(url)\n",
    "inflation = r.json()\n",
    "\n",
    "# Extract the time series data\n",
    "time_series = inflation['data']\n",
    "\n",
    "# Create a DataFrame from the time series data\n",
    "df_inf = pd.DataFrame(time_series)"
   ],
   "metadata": {
    "id": "aOzq-yjkFEst",
    "ExecuteTime": {
     "end_time": "2023-11-30T16:49:35.149051600Z",
     "start_time": "2023-11-30T16:49:33.375496900Z"
    }
   },
   "execution_count": 765,
   "outputs": []
  },
  {
   "cell_type": "code",
   "source": [
    "df_inf.head(10)"
   ],
   "metadata": {
    "colab": {
     "base_uri": "https://localhost:8080/",
     "height": 363
    },
    "id": "1GGbsBS9MWHW",
    "outputId": "d201fa4e-f559-49e3-c18c-2685f0f3799f",
    "ExecuteTime": {
     "end_time": "2023-11-30T16:49:35.174053100Z",
     "start_time": "2023-11-30T16:49:33.921393300Z"
    }
   },
   "execution_count": 766,
   "outputs": [
    {
     "data": {
      "text/plain": "         date              value\n0  2022-01-01   8.00279982052117\n1  2021-01-01   4.69785886363739\n2  2020-01-01   1.23358439630637\n3  2019-01-01   1.81221007526015\n4  2018-01-01   2.44258329692818\n5  2017-01-01   2.13011000365963\n6  2016-01-01   1.26158320570537\n7  2015-01-01  0.118627135552435\n8  2014-01-01   1.62222297740821\n9  2013-01-01   1.46483265562714",
      "text/html": "<div>\n<style scoped>\n    .dataframe tbody tr th:only-of-type {\n        vertical-align: middle;\n    }\n\n    .dataframe tbody tr th {\n        vertical-align: top;\n    }\n\n    .dataframe thead th {\n        text-align: right;\n    }\n</style>\n<table border=\"1\" class=\"dataframe\">\n  <thead>\n    <tr style=\"text-align: right;\">\n      <th></th>\n      <th>date</th>\n      <th>value</th>\n    </tr>\n  </thead>\n  <tbody>\n    <tr>\n      <th>0</th>\n      <td>2022-01-01</td>\n      <td>8.00279982052117</td>\n    </tr>\n    <tr>\n      <th>1</th>\n      <td>2021-01-01</td>\n      <td>4.69785886363739</td>\n    </tr>\n    <tr>\n      <th>2</th>\n      <td>2020-01-01</td>\n      <td>1.23358439630637</td>\n    </tr>\n    <tr>\n      <th>3</th>\n      <td>2019-01-01</td>\n      <td>1.81221007526015</td>\n    </tr>\n    <tr>\n      <th>4</th>\n      <td>2018-01-01</td>\n      <td>2.44258329692818</td>\n    </tr>\n    <tr>\n      <th>5</th>\n      <td>2017-01-01</td>\n      <td>2.13011000365963</td>\n    </tr>\n    <tr>\n      <th>6</th>\n      <td>2016-01-01</td>\n      <td>1.26158320570537</td>\n    </tr>\n    <tr>\n      <th>7</th>\n      <td>2015-01-01</td>\n      <td>0.118627135552435</td>\n    </tr>\n    <tr>\n      <th>8</th>\n      <td>2014-01-01</td>\n      <td>1.62222297740821</td>\n    </tr>\n    <tr>\n      <th>9</th>\n      <td>2013-01-01</td>\n      <td>1.46483265562714</td>\n    </tr>\n  </tbody>\n</table>\n</div>"
     },
     "execution_count": 766,
     "metadata": {},
     "output_type": "execute_result"
    }
   ]
  },
  {
   "cell_type": "code",
   "source": [
    "df_inf['date'] = pd.to_datetime(df_inf['date'])\n",
    "df_inf"
   ],
   "metadata": {
    "colab": {
     "base_uri": "https://localhost:8080/",
     "height": 423
    },
    "id": "9GGpYcyMxhuB",
    "outputId": "cbe166b1-3ab6-4e2f-fb19-4f8631face4d",
    "ExecuteTime": {
     "end_time": "2023-11-30T16:49:35.174053100Z",
     "start_time": "2023-11-30T16:49:33.929427200Z"
    }
   },
   "execution_count": 767,
   "outputs": [
    {
     "data": {
      "text/plain": "         date             value\n0  2022-01-01  8.00279982052117\n1  2021-01-01  4.69785886363739\n2  2020-01-01  1.23358439630637\n3  2019-01-01  1.81221007526015\n4  2018-01-01  2.44258329692818\n..        ...               ...\n58 1964-01-01  1.27891156462583\n59 1963-01-01   1.2396694214876\n60 1962-01-01  1.19877334820185\n61 1961-01-01  1.07072414764723\n62 1960-01-01  1.45797598627786\n\n[63 rows x 2 columns]",
      "text/html": "<div>\n<style scoped>\n    .dataframe tbody tr th:only-of-type {\n        vertical-align: middle;\n    }\n\n    .dataframe tbody tr th {\n        vertical-align: top;\n    }\n\n    .dataframe thead th {\n        text-align: right;\n    }\n</style>\n<table border=\"1\" class=\"dataframe\">\n  <thead>\n    <tr style=\"text-align: right;\">\n      <th></th>\n      <th>date</th>\n      <th>value</th>\n    </tr>\n  </thead>\n  <tbody>\n    <tr>\n      <th>0</th>\n      <td>2022-01-01</td>\n      <td>8.00279982052117</td>\n    </tr>\n    <tr>\n      <th>1</th>\n      <td>2021-01-01</td>\n      <td>4.69785886363739</td>\n    </tr>\n    <tr>\n      <th>2</th>\n      <td>2020-01-01</td>\n      <td>1.23358439630637</td>\n    </tr>\n    <tr>\n      <th>3</th>\n      <td>2019-01-01</td>\n      <td>1.81221007526015</td>\n    </tr>\n    <tr>\n      <th>4</th>\n      <td>2018-01-01</td>\n      <td>2.44258329692818</td>\n    </tr>\n    <tr>\n      <th>...</th>\n      <td>...</td>\n      <td>...</td>\n    </tr>\n    <tr>\n      <th>58</th>\n      <td>1964-01-01</td>\n      <td>1.27891156462583</td>\n    </tr>\n    <tr>\n      <th>59</th>\n      <td>1963-01-01</td>\n      <td>1.2396694214876</td>\n    </tr>\n    <tr>\n      <th>60</th>\n      <td>1962-01-01</td>\n      <td>1.19877334820185</td>\n    </tr>\n    <tr>\n      <th>61</th>\n      <td>1961-01-01</td>\n      <td>1.07072414764723</td>\n    </tr>\n    <tr>\n      <th>62</th>\n      <td>1960-01-01</td>\n      <td>1.45797598627786</td>\n    </tr>\n  </tbody>\n</table>\n<p>63 rows × 2 columns</p>\n</div>"
     },
     "execution_count": 767,
     "metadata": {},
     "output_type": "execute_result"
    }
   ]
  },
  {
   "cell_type": "code",
   "source": [
    "df_inf.rename(columns = {'value':'inflation_rate','date':'Date'}, inplace = True)\n",
    "df_inf"
   ],
   "metadata": {
    "colab": {
     "base_uri": "https://localhost:8080/",
     "height": 423
    },
    "id": "vvhvk_FJUAgg",
    "outputId": "e8bb33a0-4124-4ffe-fbbb-866723977e02",
    "ExecuteTime": {
     "end_time": "2023-11-30T16:49:35.174053100Z",
     "start_time": "2023-11-30T16:49:33.937425500Z"
    }
   },
   "execution_count": 768,
   "outputs": [
    {
     "data": {
      "text/plain": "         Date    inflation_rate\n0  2022-01-01  8.00279982052117\n1  2021-01-01  4.69785886363739\n2  2020-01-01  1.23358439630637\n3  2019-01-01  1.81221007526015\n4  2018-01-01  2.44258329692818\n..        ...               ...\n58 1964-01-01  1.27891156462583\n59 1963-01-01   1.2396694214876\n60 1962-01-01  1.19877334820185\n61 1961-01-01  1.07072414764723\n62 1960-01-01  1.45797598627786\n\n[63 rows x 2 columns]",
      "text/html": "<div>\n<style scoped>\n    .dataframe tbody tr th:only-of-type {\n        vertical-align: middle;\n    }\n\n    .dataframe tbody tr th {\n        vertical-align: top;\n    }\n\n    .dataframe thead th {\n        text-align: right;\n    }\n</style>\n<table border=\"1\" class=\"dataframe\">\n  <thead>\n    <tr style=\"text-align: right;\">\n      <th></th>\n      <th>Date</th>\n      <th>inflation_rate</th>\n    </tr>\n  </thead>\n  <tbody>\n    <tr>\n      <th>0</th>\n      <td>2022-01-01</td>\n      <td>8.00279982052117</td>\n    </tr>\n    <tr>\n      <th>1</th>\n      <td>2021-01-01</td>\n      <td>4.69785886363739</td>\n    </tr>\n    <tr>\n      <th>2</th>\n      <td>2020-01-01</td>\n      <td>1.23358439630637</td>\n    </tr>\n    <tr>\n      <th>3</th>\n      <td>2019-01-01</td>\n      <td>1.81221007526015</td>\n    </tr>\n    <tr>\n      <th>4</th>\n      <td>2018-01-01</td>\n      <td>2.44258329692818</td>\n    </tr>\n    <tr>\n      <th>...</th>\n      <td>...</td>\n      <td>...</td>\n    </tr>\n    <tr>\n      <th>58</th>\n      <td>1964-01-01</td>\n      <td>1.27891156462583</td>\n    </tr>\n    <tr>\n      <th>59</th>\n      <td>1963-01-01</td>\n      <td>1.2396694214876</td>\n    </tr>\n    <tr>\n      <th>60</th>\n      <td>1962-01-01</td>\n      <td>1.19877334820185</td>\n    </tr>\n    <tr>\n      <th>61</th>\n      <td>1961-01-01</td>\n      <td>1.07072414764723</td>\n    </tr>\n    <tr>\n      <th>62</th>\n      <td>1960-01-01</td>\n      <td>1.45797598627786</td>\n    </tr>\n  </tbody>\n</table>\n<p>63 rows × 2 columns</p>\n</div>"
     },
     "execution_count": 768,
     "metadata": {},
     "output_type": "execute_result"
    }
   ]
  },
  {
   "cell_type": "code",
   "source": [
    "df_inf['Year'] = df_inf['Date'].dt.year\n",
    "df_inf"
   ],
   "metadata": {
    "colab": {
     "base_uri": "https://localhost:8080/",
     "height": 423
    },
    "id": "fEuwvBFTxval",
    "outputId": "9bcb26b3-e5ef-4d54-ceee-31c1a6b92b4d",
    "ExecuteTime": {
     "end_time": "2023-11-30T16:49:35.228044100Z",
     "start_time": "2023-11-30T16:49:33.947422100Z"
    }
   },
   "execution_count": 769,
   "outputs": [
    {
     "data": {
      "text/plain": "         Date    inflation_rate  Year\n0  2022-01-01  8.00279982052117  2022\n1  2021-01-01  4.69785886363739  2021\n2  2020-01-01  1.23358439630637  2020\n3  2019-01-01  1.81221007526015  2019\n4  2018-01-01  2.44258329692818  2018\n..        ...               ...   ...\n58 1964-01-01  1.27891156462583  1964\n59 1963-01-01   1.2396694214876  1963\n60 1962-01-01  1.19877334820185  1962\n61 1961-01-01  1.07072414764723  1961\n62 1960-01-01  1.45797598627786  1960\n\n[63 rows x 3 columns]",
      "text/html": "<div>\n<style scoped>\n    .dataframe tbody tr th:only-of-type {\n        vertical-align: middle;\n    }\n\n    .dataframe tbody tr th {\n        vertical-align: top;\n    }\n\n    .dataframe thead th {\n        text-align: right;\n    }\n</style>\n<table border=\"1\" class=\"dataframe\">\n  <thead>\n    <tr style=\"text-align: right;\">\n      <th></th>\n      <th>Date</th>\n      <th>inflation_rate</th>\n      <th>Year</th>\n    </tr>\n  </thead>\n  <tbody>\n    <tr>\n      <th>0</th>\n      <td>2022-01-01</td>\n      <td>8.00279982052117</td>\n      <td>2022</td>\n    </tr>\n    <tr>\n      <th>1</th>\n      <td>2021-01-01</td>\n      <td>4.69785886363739</td>\n      <td>2021</td>\n    </tr>\n    <tr>\n      <th>2</th>\n      <td>2020-01-01</td>\n      <td>1.23358439630637</td>\n      <td>2020</td>\n    </tr>\n    <tr>\n      <th>3</th>\n      <td>2019-01-01</td>\n      <td>1.81221007526015</td>\n      <td>2019</td>\n    </tr>\n    <tr>\n      <th>4</th>\n      <td>2018-01-01</td>\n      <td>2.44258329692818</td>\n      <td>2018</td>\n    </tr>\n    <tr>\n      <th>...</th>\n      <td>...</td>\n      <td>...</td>\n      <td>...</td>\n    </tr>\n    <tr>\n      <th>58</th>\n      <td>1964-01-01</td>\n      <td>1.27891156462583</td>\n      <td>1964</td>\n    </tr>\n    <tr>\n      <th>59</th>\n      <td>1963-01-01</td>\n      <td>1.2396694214876</td>\n      <td>1963</td>\n    </tr>\n    <tr>\n      <th>60</th>\n      <td>1962-01-01</td>\n      <td>1.19877334820185</td>\n      <td>1962</td>\n    </tr>\n    <tr>\n      <th>61</th>\n      <td>1961-01-01</td>\n      <td>1.07072414764723</td>\n      <td>1961</td>\n    </tr>\n    <tr>\n      <th>62</th>\n      <td>1960-01-01</td>\n      <td>1.45797598627786</td>\n      <td>1960</td>\n    </tr>\n  </tbody>\n</table>\n<p>63 rows × 3 columns</p>\n</div>"
     },
     "execution_count": 769,
     "metadata": {},
     "output_type": "execute_result"
    }
   ]
  },
  {
   "cell_type": "code",
   "source": [
    "df_inf = df_inf[df_inf['Date'] >= '2000-01-01']\n",
    "df_inf = df_inf.sort_values(by='Date')\n",
    "df_inf"
   ],
   "metadata": {
    "colab": {
     "base_uri": "https://localhost:8080/",
     "height": 770
    },
    "id": "11XmIH5eUjNa",
    "outputId": "75f14cf9-6908-42bc-da8a-30b3e1e3a018",
    "ExecuteTime": {
     "end_time": "2023-11-30T16:49:35.230050700Z",
     "start_time": "2023-11-30T16:49:33.955725600Z"
    }
   },
   "execution_count": 770,
   "outputs": [
    {
     "data": {
      "text/plain": "         Date     inflation_rate  Year\n22 2000-01-01   3.37685727149935  2000\n21 2001-01-01   2.82617111885402  2001\n20 2002-01-01   1.58603162650603  2002\n19 2003-01-01   2.27009497336113  2003\n18 2004-01-01   2.67723669309173  2004\n17 2005-01-01   3.39274684549547  2005\n16 2006-01-01   3.22594410070407  2006\n15 2007-01-01   2.85267248150136  2007\n14 2008-01-01   3.83910029665101  2008\n13 2009-01-01  -0.35554626629975  2009\n12 2010-01-01   1.64004344238989  2010\n11 2011-01-01   3.15684156862206  2011\n10 2012-01-01   2.06933726526059  2012\n9  2013-01-01   1.46483265562714  2013\n8  2014-01-01   1.62222297740821  2014\n7  2015-01-01  0.118627135552435  2015\n6  2016-01-01   1.26158320570537  2016\n5  2017-01-01   2.13011000365963  2017\n4  2018-01-01   2.44258329692818  2018\n3  2019-01-01   1.81221007526015  2019\n2  2020-01-01   1.23358439630637  2020\n1  2021-01-01   4.69785886363739  2021\n0  2022-01-01   8.00279982052117  2022",
      "text/html": "<div>\n<style scoped>\n    .dataframe tbody tr th:only-of-type {\n        vertical-align: middle;\n    }\n\n    .dataframe tbody tr th {\n        vertical-align: top;\n    }\n\n    .dataframe thead th {\n        text-align: right;\n    }\n</style>\n<table border=\"1\" class=\"dataframe\">\n  <thead>\n    <tr style=\"text-align: right;\">\n      <th></th>\n      <th>Date</th>\n      <th>inflation_rate</th>\n      <th>Year</th>\n    </tr>\n  </thead>\n  <tbody>\n    <tr>\n      <th>22</th>\n      <td>2000-01-01</td>\n      <td>3.37685727149935</td>\n      <td>2000</td>\n    </tr>\n    <tr>\n      <th>21</th>\n      <td>2001-01-01</td>\n      <td>2.82617111885402</td>\n      <td>2001</td>\n    </tr>\n    <tr>\n      <th>20</th>\n      <td>2002-01-01</td>\n      <td>1.58603162650603</td>\n      <td>2002</td>\n    </tr>\n    <tr>\n      <th>19</th>\n      <td>2003-01-01</td>\n      <td>2.27009497336113</td>\n      <td>2003</td>\n    </tr>\n    <tr>\n      <th>18</th>\n      <td>2004-01-01</td>\n      <td>2.67723669309173</td>\n      <td>2004</td>\n    </tr>\n    <tr>\n      <th>17</th>\n      <td>2005-01-01</td>\n      <td>3.39274684549547</td>\n      <td>2005</td>\n    </tr>\n    <tr>\n      <th>16</th>\n      <td>2006-01-01</td>\n      <td>3.22594410070407</td>\n      <td>2006</td>\n    </tr>\n    <tr>\n      <th>15</th>\n      <td>2007-01-01</td>\n      <td>2.85267248150136</td>\n      <td>2007</td>\n    </tr>\n    <tr>\n      <th>14</th>\n      <td>2008-01-01</td>\n      <td>3.83910029665101</td>\n      <td>2008</td>\n    </tr>\n    <tr>\n      <th>13</th>\n      <td>2009-01-01</td>\n      <td>-0.35554626629975</td>\n      <td>2009</td>\n    </tr>\n    <tr>\n      <th>12</th>\n      <td>2010-01-01</td>\n      <td>1.64004344238989</td>\n      <td>2010</td>\n    </tr>\n    <tr>\n      <th>11</th>\n      <td>2011-01-01</td>\n      <td>3.15684156862206</td>\n      <td>2011</td>\n    </tr>\n    <tr>\n      <th>10</th>\n      <td>2012-01-01</td>\n      <td>2.06933726526059</td>\n      <td>2012</td>\n    </tr>\n    <tr>\n      <th>9</th>\n      <td>2013-01-01</td>\n      <td>1.46483265562714</td>\n      <td>2013</td>\n    </tr>\n    <tr>\n      <th>8</th>\n      <td>2014-01-01</td>\n      <td>1.62222297740821</td>\n      <td>2014</td>\n    </tr>\n    <tr>\n      <th>7</th>\n      <td>2015-01-01</td>\n      <td>0.118627135552435</td>\n      <td>2015</td>\n    </tr>\n    <tr>\n      <th>6</th>\n      <td>2016-01-01</td>\n      <td>1.26158320570537</td>\n      <td>2016</td>\n    </tr>\n    <tr>\n      <th>5</th>\n      <td>2017-01-01</td>\n      <td>2.13011000365963</td>\n      <td>2017</td>\n    </tr>\n    <tr>\n      <th>4</th>\n      <td>2018-01-01</td>\n      <td>2.44258329692818</td>\n      <td>2018</td>\n    </tr>\n    <tr>\n      <th>3</th>\n      <td>2019-01-01</td>\n      <td>1.81221007526015</td>\n      <td>2019</td>\n    </tr>\n    <tr>\n      <th>2</th>\n      <td>2020-01-01</td>\n      <td>1.23358439630637</td>\n      <td>2020</td>\n    </tr>\n    <tr>\n      <th>1</th>\n      <td>2021-01-01</td>\n      <td>4.69785886363739</td>\n      <td>2021</td>\n    </tr>\n    <tr>\n      <th>0</th>\n      <td>2022-01-01</td>\n      <td>8.00279982052117</td>\n      <td>2022</td>\n    </tr>\n  </tbody>\n</table>\n</div>"
     },
     "execution_count": 770,
     "metadata": {},
     "output_type": "execute_result"
    }
   ]
  },
  {
   "cell_type": "markdown",
   "source": [
    "### Global Price Index of All Commodities"
   ],
   "metadata": {
    "id": "YV-HT_LMSWkZ"
   }
  },
  {
   "cell_type": "code",
   "source": [
    "# replace the \"demo\" apikey below with your own key from https://www.alphavantage.co/support/#api-key\n",
    "url = 'https://www.alphavantage.co/query?function=ALL_COMMODITIES&interval=monthly&apikey=demo'\n",
    "r = requests.get(url)\n",
    "com = r.json()\n",
    "\n",
    "# Extract the time series data\n",
    "time_series = com['data']\n",
    "\n",
    "# Create a DataFrame from the time series data\n",
    "df_com = pd.DataFrame(time_series)\n",
    "df_com"
   ],
   "metadata": {
    "colab": {
     "base_uri": "https://localhost:8080/",
     "height": 423
    },
    "id": "ZLayUM8hR_lQ",
    "outputId": "98280cc7-b8eb-4d30-9c1d-b9fe4370cfec",
    "ExecuteTime": {
     "end_time": "2023-11-30T16:49:35.819699200Z",
     "start_time": "2023-11-30T16:49:33.987627600Z"
    }
   },
   "execution_count": 771,
   "outputs": [
    {
     "data": {
      "text/plain": "           date             value\n0    2023-10-01   167.77064363426\n1    2023-09-01  168.657488561668\n2    2023-08-01   161.30619330389\n3    2023-07-01  157.908976461302\n4    2023-06-01  154.069169324197\n..          ...               ...\n377  1992-05-01                 .\n378  1992-04-01                 .\n379  1992-03-01                 .\n380  1992-02-01                 .\n381  1992-01-01                 .\n\n[382 rows x 2 columns]",
      "text/html": "<div>\n<style scoped>\n    .dataframe tbody tr th:only-of-type {\n        vertical-align: middle;\n    }\n\n    .dataframe tbody tr th {\n        vertical-align: top;\n    }\n\n    .dataframe thead th {\n        text-align: right;\n    }\n</style>\n<table border=\"1\" class=\"dataframe\">\n  <thead>\n    <tr style=\"text-align: right;\">\n      <th></th>\n      <th>date</th>\n      <th>value</th>\n    </tr>\n  </thead>\n  <tbody>\n    <tr>\n      <th>0</th>\n      <td>2023-10-01</td>\n      <td>167.77064363426</td>\n    </tr>\n    <tr>\n      <th>1</th>\n      <td>2023-09-01</td>\n      <td>168.657488561668</td>\n    </tr>\n    <tr>\n      <th>2</th>\n      <td>2023-08-01</td>\n      <td>161.30619330389</td>\n    </tr>\n    <tr>\n      <th>3</th>\n      <td>2023-07-01</td>\n      <td>157.908976461302</td>\n    </tr>\n    <tr>\n      <th>4</th>\n      <td>2023-06-01</td>\n      <td>154.069169324197</td>\n    </tr>\n    <tr>\n      <th>...</th>\n      <td>...</td>\n      <td>...</td>\n    </tr>\n    <tr>\n      <th>377</th>\n      <td>1992-05-01</td>\n      <td>.</td>\n    </tr>\n    <tr>\n      <th>378</th>\n      <td>1992-04-01</td>\n      <td>.</td>\n    </tr>\n    <tr>\n      <th>379</th>\n      <td>1992-03-01</td>\n      <td>.</td>\n    </tr>\n    <tr>\n      <th>380</th>\n      <td>1992-02-01</td>\n      <td>.</td>\n    </tr>\n    <tr>\n      <th>381</th>\n      <td>1992-01-01</td>\n      <td>.</td>\n    </tr>\n  </tbody>\n</table>\n<p>382 rows × 2 columns</p>\n</div>"
     },
     "execution_count": 771,
     "metadata": {},
     "output_type": "execute_result"
    }
   ]
  },
  {
   "cell_type": "code",
   "source": [
    "df_com['date'] = pd.to_datetime(df_com['date'])\n",
    "df_com"
   ],
   "metadata": {
    "colab": {
     "base_uri": "https://localhost:8080/",
     "height": 423
    },
    "id": "ZhPcVU78y81g",
    "outputId": "552513d5-94ab-4907-e1fc-b166a2acdbb0",
    "ExecuteTime": {
     "end_time": "2023-11-30T16:49:35.832600400Z",
     "start_time": "2023-11-30T16:49:34.788851400Z"
    }
   },
   "execution_count": 772,
   "outputs": [
    {
     "data": {
      "text/plain": "          date             value\n0   2023-10-01   167.77064363426\n1   2023-09-01  168.657488561668\n2   2023-08-01   161.30619330389\n3   2023-07-01  157.908976461302\n4   2023-06-01  154.069169324197\n..         ...               ...\n377 1992-05-01                 .\n378 1992-04-01                 .\n379 1992-03-01                 .\n380 1992-02-01                 .\n381 1992-01-01                 .\n\n[382 rows x 2 columns]",
      "text/html": "<div>\n<style scoped>\n    .dataframe tbody tr th:only-of-type {\n        vertical-align: middle;\n    }\n\n    .dataframe tbody tr th {\n        vertical-align: top;\n    }\n\n    .dataframe thead th {\n        text-align: right;\n    }\n</style>\n<table border=\"1\" class=\"dataframe\">\n  <thead>\n    <tr style=\"text-align: right;\">\n      <th></th>\n      <th>date</th>\n      <th>value</th>\n    </tr>\n  </thead>\n  <tbody>\n    <tr>\n      <th>0</th>\n      <td>2023-10-01</td>\n      <td>167.77064363426</td>\n    </tr>\n    <tr>\n      <th>1</th>\n      <td>2023-09-01</td>\n      <td>168.657488561668</td>\n    </tr>\n    <tr>\n      <th>2</th>\n      <td>2023-08-01</td>\n      <td>161.30619330389</td>\n    </tr>\n    <tr>\n      <th>3</th>\n      <td>2023-07-01</td>\n      <td>157.908976461302</td>\n    </tr>\n    <tr>\n      <th>4</th>\n      <td>2023-06-01</td>\n      <td>154.069169324197</td>\n    </tr>\n    <tr>\n      <th>...</th>\n      <td>...</td>\n      <td>...</td>\n    </tr>\n    <tr>\n      <th>377</th>\n      <td>1992-05-01</td>\n      <td>.</td>\n    </tr>\n    <tr>\n      <th>378</th>\n      <td>1992-04-01</td>\n      <td>.</td>\n    </tr>\n    <tr>\n      <th>379</th>\n      <td>1992-03-01</td>\n      <td>.</td>\n    </tr>\n    <tr>\n      <th>380</th>\n      <td>1992-02-01</td>\n      <td>.</td>\n    </tr>\n    <tr>\n      <th>381</th>\n      <td>1992-01-01</td>\n      <td>.</td>\n    </tr>\n  </tbody>\n</table>\n<p>382 rows × 2 columns</p>\n</div>"
     },
     "execution_count": 772,
     "metadata": {},
     "output_type": "execute_result"
    }
   ]
  },
  {
   "cell_type": "code",
   "source": [
    "df_com.rename(columns = {'value':'PALLFNFINDEXM','date':'Date'}, inplace = True)"
   ],
   "metadata": {
    "id": "_HCh9oUiS62y",
    "ExecuteTime": {
     "end_time": "2023-11-30T16:49:35.833600500Z",
     "start_time": "2023-11-30T16:49:34.799905900Z"
    }
   },
   "execution_count": 773,
   "outputs": []
  },
  {
   "cell_type": "code",
   "source": [
    "df_com = df_com[df_com['Date'] >= '2000-01-01']\n",
    "df_com"
   ],
   "metadata": {
    "colab": {
     "base_uri": "https://localhost:8080/",
     "height": 423
    },
    "id": "s8mY6WnhBcjU",
    "outputId": "d124726a-bb41-41d5-f594-2ff1abaabe3f",
    "ExecuteTime": {
     "end_time": "2023-11-30T16:49:35.834599700Z",
     "start_time": "2023-11-30T16:49:34.807492Z"
    }
   },
   "execution_count": 774,
   "outputs": [
    {
     "data": {
      "text/plain": "          Date     PALLFNFINDEXM\n0   2023-10-01   167.77064363426\n1   2023-09-01  168.657488561668\n2   2023-08-01   161.30619330389\n3   2023-07-01  157.908976461302\n4   2023-06-01  154.069169324197\n..         ...               ...\n281 2000-05-01                 .\n282 2000-04-01                 .\n283 2000-03-01                 .\n284 2000-02-01                 .\n285 2000-01-01                 .\n\n[286 rows x 2 columns]",
      "text/html": "<div>\n<style scoped>\n    .dataframe tbody tr th:only-of-type {\n        vertical-align: middle;\n    }\n\n    .dataframe tbody tr th {\n        vertical-align: top;\n    }\n\n    .dataframe thead th {\n        text-align: right;\n    }\n</style>\n<table border=\"1\" class=\"dataframe\">\n  <thead>\n    <tr style=\"text-align: right;\">\n      <th></th>\n      <th>Date</th>\n      <th>PALLFNFINDEXM</th>\n    </tr>\n  </thead>\n  <tbody>\n    <tr>\n      <th>0</th>\n      <td>2023-10-01</td>\n      <td>167.77064363426</td>\n    </tr>\n    <tr>\n      <th>1</th>\n      <td>2023-09-01</td>\n      <td>168.657488561668</td>\n    </tr>\n    <tr>\n      <th>2</th>\n      <td>2023-08-01</td>\n      <td>161.30619330389</td>\n    </tr>\n    <tr>\n      <th>3</th>\n      <td>2023-07-01</td>\n      <td>157.908976461302</td>\n    </tr>\n    <tr>\n      <th>4</th>\n      <td>2023-06-01</td>\n      <td>154.069169324197</td>\n    </tr>\n    <tr>\n      <th>...</th>\n      <td>...</td>\n      <td>...</td>\n    </tr>\n    <tr>\n      <th>281</th>\n      <td>2000-05-01</td>\n      <td>.</td>\n    </tr>\n    <tr>\n      <th>282</th>\n      <td>2000-04-01</td>\n      <td>.</td>\n    </tr>\n    <tr>\n      <th>283</th>\n      <td>2000-03-01</td>\n      <td>.</td>\n    </tr>\n    <tr>\n      <th>284</th>\n      <td>2000-02-01</td>\n      <td>.</td>\n    </tr>\n    <tr>\n      <th>285</th>\n      <td>2000-01-01</td>\n      <td>.</td>\n    </tr>\n  </tbody>\n</table>\n<p>286 rows × 2 columns</p>\n</div>"
     },
     "execution_count": 774,
     "metadata": {},
     "output_type": "execute_result"
    }
   ]
  },
  {
   "cell_type": "code",
   "source": [
    "missing = df_com[df_com['PALLFNFINDEXM'] == '.']\n",
    "missing.sort_values(by='Date', inplace=True)\n",
    "missing"
   ],
   "metadata": {
    "colab": {
     "base_uri": "https://localhost:8080/",
     "height": 1000
    },
    "id": "6W_iS7NZ0DYl",
    "outputId": "cda3cca9-f447-4606-cd60-ae23ddfc77bd",
    "ExecuteTime": {
     "end_time": "2023-11-30T16:49:35.834599700Z",
     "start_time": "2023-11-30T16:49:34.815394500Z"
    }
   },
   "execution_count": 775,
   "outputs": [
    {
     "data": {
      "text/plain": "          Date PALLFNFINDEXM\n285 2000-01-01             .\n284 2000-02-01             .\n283 2000-03-01             .\n282 2000-04-01             .\n281 2000-05-01             .\n280 2000-06-01             .\n279 2000-07-01             .\n278 2000-08-01             .\n277 2000-09-01             .\n276 2000-10-01             .\n275 2000-11-01             .\n274 2000-12-01             .\n273 2001-01-01             .\n272 2001-02-01             .\n271 2001-03-01             .\n270 2001-04-01             .\n269 2001-05-01             .\n268 2001-06-01             .\n267 2001-07-01             .\n266 2001-08-01             .\n265 2001-09-01             .\n264 2001-10-01             .\n263 2001-11-01             .\n262 2001-12-01             .\n261 2002-01-01             .\n260 2002-02-01             .\n259 2002-03-01             .\n258 2002-04-01             .\n257 2002-05-01             .\n256 2002-06-01             .\n255 2002-07-01             .\n254 2002-08-01             .\n253 2002-09-01             .\n252 2002-10-01             .\n251 2002-11-01             .\n250 2002-12-01             .",
      "text/html": "<div>\n<style scoped>\n    .dataframe tbody tr th:only-of-type {\n        vertical-align: middle;\n    }\n\n    .dataframe tbody tr th {\n        vertical-align: top;\n    }\n\n    .dataframe thead th {\n        text-align: right;\n    }\n</style>\n<table border=\"1\" class=\"dataframe\">\n  <thead>\n    <tr style=\"text-align: right;\">\n      <th></th>\n      <th>Date</th>\n      <th>PALLFNFINDEXM</th>\n    </tr>\n  </thead>\n  <tbody>\n    <tr>\n      <th>285</th>\n      <td>2000-01-01</td>\n      <td>.</td>\n    </tr>\n    <tr>\n      <th>284</th>\n      <td>2000-02-01</td>\n      <td>.</td>\n    </tr>\n    <tr>\n      <th>283</th>\n      <td>2000-03-01</td>\n      <td>.</td>\n    </tr>\n    <tr>\n      <th>282</th>\n      <td>2000-04-01</td>\n      <td>.</td>\n    </tr>\n    <tr>\n      <th>281</th>\n      <td>2000-05-01</td>\n      <td>.</td>\n    </tr>\n    <tr>\n      <th>280</th>\n      <td>2000-06-01</td>\n      <td>.</td>\n    </tr>\n    <tr>\n      <th>279</th>\n      <td>2000-07-01</td>\n      <td>.</td>\n    </tr>\n    <tr>\n      <th>278</th>\n      <td>2000-08-01</td>\n      <td>.</td>\n    </tr>\n    <tr>\n      <th>277</th>\n      <td>2000-09-01</td>\n      <td>.</td>\n    </tr>\n    <tr>\n      <th>276</th>\n      <td>2000-10-01</td>\n      <td>.</td>\n    </tr>\n    <tr>\n      <th>275</th>\n      <td>2000-11-01</td>\n      <td>.</td>\n    </tr>\n    <tr>\n      <th>274</th>\n      <td>2000-12-01</td>\n      <td>.</td>\n    </tr>\n    <tr>\n      <th>273</th>\n      <td>2001-01-01</td>\n      <td>.</td>\n    </tr>\n    <tr>\n      <th>272</th>\n      <td>2001-02-01</td>\n      <td>.</td>\n    </tr>\n    <tr>\n      <th>271</th>\n      <td>2001-03-01</td>\n      <td>.</td>\n    </tr>\n    <tr>\n      <th>270</th>\n      <td>2001-04-01</td>\n      <td>.</td>\n    </tr>\n    <tr>\n      <th>269</th>\n      <td>2001-05-01</td>\n      <td>.</td>\n    </tr>\n    <tr>\n      <th>268</th>\n      <td>2001-06-01</td>\n      <td>.</td>\n    </tr>\n    <tr>\n      <th>267</th>\n      <td>2001-07-01</td>\n      <td>.</td>\n    </tr>\n    <tr>\n      <th>266</th>\n      <td>2001-08-01</td>\n      <td>.</td>\n    </tr>\n    <tr>\n      <th>265</th>\n      <td>2001-09-01</td>\n      <td>.</td>\n    </tr>\n    <tr>\n      <th>264</th>\n      <td>2001-10-01</td>\n      <td>.</td>\n    </tr>\n    <tr>\n      <th>263</th>\n      <td>2001-11-01</td>\n      <td>.</td>\n    </tr>\n    <tr>\n      <th>262</th>\n      <td>2001-12-01</td>\n      <td>.</td>\n    </tr>\n    <tr>\n      <th>261</th>\n      <td>2002-01-01</td>\n      <td>.</td>\n    </tr>\n    <tr>\n      <th>260</th>\n      <td>2002-02-01</td>\n      <td>.</td>\n    </tr>\n    <tr>\n      <th>259</th>\n      <td>2002-03-01</td>\n      <td>.</td>\n    </tr>\n    <tr>\n      <th>258</th>\n      <td>2002-04-01</td>\n      <td>.</td>\n    </tr>\n    <tr>\n      <th>257</th>\n      <td>2002-05-01</td>\n      <td>.</td>\n    </tr>\n    <tr>\n      <th>256</th>\n      <td>2002-06-01</td>\n      <td>.</td>\n    </tr>\n    <tr>\n      <th>255</th>\n      <td>2002-07-01</td>\n      <td>.</td>\n    </tr>\n    <tr>\n      <th>254</th>\n      <td>2002-08-01</td>\n      <td>.</td>\n    </tr>\n    <tr>\n      <th>253</th>\n      <td>2002-09-01</td>\n      <td>.</td>\n    </tr>\n    <tr>\n      <th>252</th>\n      <td>2002-10-01</td>\n      <td>.</td>\n    </tr>\n    <tr>\n      <th>251</th>\n      <td>2002-11-01</td>\n      <td>.</td>\n    </tr>\n    <tr>\n      <th>250</th>\n      <td>2002-12-01</td>\n      <td>.</td>\n    </tr>\n  </tbody>\n</table>\n</div>"
     },
     "execution_count": 775,
     "metadata": {},
     "output_type": "execute_result"
    }
   ]
  },
  {
   "cell_type": "markdown",
   "source": [
    "> Values from 2000-01-01 to 2002-12-01 are missing"
   ],
   "metadata": {
    "id": "MOrwivAW1MBo"
   }
  },
  {
   "cell_type": "code",
   "source": [
    "# Replace \".\" with NaN\n",
    "missing['PALLFNFINDEXM'] = missing['PALLFNFINDEXM'].replace('.', np.nan)\n",
    "missing"
   ],
   "metadata": {
    "colab": {
     "base_uri": "https://localhost:8080/",
     "height": 1000
    },
    "id": "6t-w1VH76Lmd",
    "outputId": "de81ff7a-4ada-4489-c040-848a2be9cce2",
    "ExecuteTime": {
     "end_time": "2023-11-30T16:49:35.835743300Z",
     "start_time": "2023-11-30T16:49:34.822674400Z"
    }
   },
   "execution_count": 776,
   "outputs": [
    {
     "data": {
      "text/plain": "          Date  PALLFNFINDEXM\n285 2000-01-01            NaN\n284 2000-02-01            NaN\n283 2000-03-01            NaN\n282 2000-04-01            NaN\n281 2000-05-01            NaN\n280 2000-06-01            NaN\n279 2000-07-01            NaN\n278 2000-08-01            NaN\n277 2000-09-01            NaN\n276 2000-10-01            NaN\n275 2000-11-01            NaN\n274 2000-12-01            NaN\n273 2001-01-01            NaN\n272 2001-02-01            NaN\n271 2001-03-01            NaN\n270 2001-04-01            NaN\n269 2001-05-01            NaN\n268 2001-06-01            NaN\n267 2001-07-01            NaN\n266 2001-08-01            NaN\n265 2001-09-01            NaN\n264 2001-10-01            NaN\n263 2001-11-01            NaN\n262 2001-12-01            NaN\n261 2002-01-01            NaN\n260 2002-02-01            NaN\n259 2002-03-01            NaN\n258 2002-04-01            NaN\n257 2002-05-01            NaN\n256 2002-06-01            NaN\n255 2002-07-01            NaN\n254 2002-08-01            NaN\n253 2002-09-01            NaN\n252 2002-10-01            NaN\n251 2002-11-01            NaN\n250 2002-12-01            NaN",
      "text/html": "<div>\n<style scoped>\n    .dataframe tbody tr th:only-of-type {\n        vertical-align: middle;\n    }\n\n    .dataframe tbody tr th {\n        vertical-align: top;\n    }\n\n    .dataframe thead th {\n        text-align: right;\n    }\n</style>\n<table border=\"1\" class=\"dataframe\">\n  <thead>\n    <tr style=\"text-align: right;\">\n      <th></th>\n      <th>Date</th>\n      <th>PALLFNFINDEXM</th>\n    </tr>\n  </thead>\n  <tbody>\n    <tr>\n      <th>285</th>\n      <td>2000-01-01</td>\n      <td>NaN</td>\n    </tr>\n    <tr>\n      <th>284</th>\n      <td>2000-02-01</td>\n      <td>NaN</td>\n    </tr>\n    <tr>\n      <th>283</th>\n      <td>2000-03-01</td>\n      <td>NaN</td>\n    </tr>\n    <tr>\n      <th>282</th>\n      <td>2000-04-01</td>\n      <td>NaN</td>\n    </tr>\n    <tr>\n      <th>281</th>\n      <td>2000-05-01</td>\n      <td>NaN</td>\n    </tr>\n    <tr>\n      <th>280</th>\n      <td>2000-06-01</td>\n      <td>NaN</td>\n    </tr>\n    <tr>\n      <th>279</th>\n      <td>2000-07-01</td>\n      <td>NaN</td>\n    </tr>\n    <tr>\n      <th>278</th>\n      <td>2000-08-01</td>\n      <td>NaN</td>\n    </tr>\n    <tr>\n      <th>277</th>\n      <td>2000-09-01</td>\n      <td>NaN</td>\n    </tr>\n    <tr>\n      <th>276</th>\n      <td>2000-10-01</td>\n      <td>NaN</td>\n    </tr>\n    <tr>\n      <th>275</th>\n      <td>2000-11-01</td>\n      <td>NaN</td>\n    </tr>\n    <tr>\n      <th>274</th>\n      <td>2000-12-01</td>\n      <td>NaN</td>\n    </tr>\n    <tr>\n      <th>273</th>\n      <td>2001-01-01</td>\n      <td>NaN</td>\n    </tr>\n    <tr>\n      <th>272</th>\n      <td>2001-02-01</td>\n      <td>NaN</td>\n    </tr>\n    <tr>\n      <th>271</th>\n      <td>2001-03-01</td>\n      <td>NaN</td>\n    </tr>\n    <tr>\n      <th>270</th>\n      <td>2001-04-01</td>\n      <td>NaN</td>\n    </tr>\n    <tr>\n      <th>269</th>\n      <td>2001-05-01</td>\n      <td>NaN</td>\n    </tr>\n    <tr>\n      <th>268</th>\n      <td>2001-06-01</td>\n      <td>NaN</td>\n    </tr>\n    <tr>\n      <th>267</th>\n      <td>2001-07-01</td>\n      <td>NaN</td>\n    </tr>\n    <tr>\n      <th>266</th>\n      <td>2001-08-01</td>\n      <td>NaN</td>\n    </tr>\n    <tr>\n      <th>265</th>\n      <td>2001-09-01</td>\n      <td>NaN</td>\n    </tr>\n    <tr>\n      <th>264</th>\n      <td>2001-10-01</td>\n      <td>NaN</td>\n    </tr>\n    <tr>\n      <th>263</th>\n      <td>2001-11-01</td>\n      <td>NaN</td>\n    </tr>\n    <tr>\n      <th>262</th>\n      <td>2001-12-01</td>\n      <td>NaN</td>\n    </tr>\n    <tr>\n      <th>261</th>\n      <td>2002-01-01</td>\n      <td>NaN</td>\n    </tr>\n    <tr>\n      <th>260</th>\n      <td>2002-02-01</td>\n      <td>NaN</td>\n    </tr>\n    <tr>\n      <th>259</th>\n      <td>2002-03-01</td>\n      <td>NaN</td>\n    </tr>\n    <tr>\n      <th>258</th>\n      <td>2002-04-01</td>\n      <td>NaN</td>\n    </tr>\n    <tr>\n      <th>257</th>\n      <td>2002-05-01</td>\n      <td>NaN</td>\n    </tr>\n    <tr>\n      <th>256</th>\n      <td>2002-06-01</td>\n      <td>NaN</td>\n    </tr>\n    <tr>\n      <th>255</th>\n      <td>2002-07-01</td>\n      <td>NaN</td>\n    </tr>\n    <tr>\n      <th>254</th>\n      <td>2002-08-01</td>\n      <td>NaN</td>\n    </tr>\n    <tr>\n      <th>253</th>\n      <td>2002-09-01</td>\n      <td>NaN</td>\n    </tr>\n    <tr>\n      <th>252</th>\n      <td>2002-10-01</td>\n      <td>NaN</td>\n    </tr>\n    <tr>\n      <th>251</th>\n      <td>2002-11-01</td>\n      <td>NaN</td>\n    </tr>\n    <tr>\n      <th>250</th>\n      <td>2002-12-01</td>\n      <td>NaN</td>\n    </tr>\n  </tbody>\n</table>\n</div>"
     },
     "execution_count": 776,
     "metadata": {},
     "output_type": "execute_result"
    }
   ]
  },
  {
   "cell_type": "code",
   "source": [
    "# Filling values from nasdaq.com\n",
    "replacement_numbers = [55.66, 58.06, 58.51, 56.61, 59.33, 61.24, 59.90, 60.84, 63.62, 62.95, 63.88, 64.21,\n",
    "                       63.96, 61.03, 59.15, 59.37, 60.11, 58.42, 55.81, 56.04, 54.02, 50.43, 48.19, 47.89,\n",
    "                       48.62, 49.52, 53.93, 55.67, 55.82, 54.77, 56.44, 56.67, 58.90, 60.07, 58.02, 61.15]\n",
    "\n",
    "# Replace NaN with numbers from the list\n",
    "nan_indices = missing['PALLFNFINDEXM'].isna()\n",
    "missing.loc[nan_indices, 'PALLFNFINDEXM'] = replacement_numbers\n",
    "missing.sort_values(by=\"Date\", ascending=True)\n",
    "missing"
   ],
   "metadata": {
    "colab": {
     "base_uri": "https://localhost:8080/",
     "height": 1000
    },
    "id": "p76FKHWG1bHA",
    "outputId": "8eb1b6a6-b325-404c-d2ee-4c0dfe7f821a",
    "ExecuteTime": {
     "end_time": "2023-11-30T16:49:35.836603200Z",
     "start_time": "2023-11-30T16:49:34.832190900Z"
    }
   },
   "execution_count": 777,
   "outputs": [
    {
     "data": {
      "text/plain": "          Date  PALLFNFINDEXM\n285 2000-01-01          55.66\n284 2000-02-01          58.06\n283 2000-03-01          58.51\n282 2000-04-01          56.61\n281 2000-05-01          59.33\n280 2000-06-01          61.24\n279 2000-07-01          59.90\n278 2000-08-01          60.84\n277 2000-09-01          63.62\n276 2000-10-01          62.95\n275 2000-11-01          63.88\n274 2000-12-01          64.21\n273 2001-01-01          63.96\n272 2001-02-01          61.03\n271 2001-03-01          59.15\n270 2001-04-01          59.37\n269 2001-05-01          60.11\n268 2001-06-01          58.42\n267 2001-07-01          55.81\n266 2001-08-01          56.04\n265 2001-09-01          54.02\n264 2001-10-01          50.43\n263 2001-11-01          48.19\n262 2001-12-01          47.89\n261 2002-01-01          48.62\n260 2002-02-01          49.52\n259 2002-03-01          53.93\n258 2002-04-01          55.67\n257 2002-05-01          55.82\n256 2002-06-01          54.77\n255 2002-07-01          56.44\n254 2002-08-01          56.67\n253 2002-09-01          58.90\n252 2002-10-01          60.07\n251 2002-11-01          58.02\n250 2002-12-01          61.15",
      "text/html": "<div>\n<style scoped>\n    .dataframe tbody tr th:only-of-type {\n        vertical-align: middle;\n    }\n\n    .dataframe tbody tr th {\n        vertical-align: top;\n    }\n\n    .dataframe thead th {\n        text-align: right;\n    }\n</style>\n<table border=\"1\" class=\"dataframe\">\n  <thead>\n    <tr style=\"text-align: right;\">\n      <th></th>\n      <th>Date</th>\n      <th>PALLFNFINDEXM</th>\n    </tr>\n  </thead>\n  <tbody>\n    <tr>\n      <th>285</th>\n      <td>2000-01-01</td>\n      <td>55.66</td>\n    </tr>\n    <tr>\n      <th>284</th>\n      <td>2000-02-01</td>\n      <td>58.06</td>\n    </tr>\n    <tr>\n      <th>283</th>\n      <td>2000-03-01</td>\n      <td>58.51</td>\n    </tr>\n    <tr>\n      <th>282</th>\n      <td>2000-04-01</td>\n      <td>56.61</td>\n    </tr>\n    <tr>\n      <th>281</th>\n      <td>2000-05-01</td>\n      <td>59.33</td>\n    </tr>\n    <tr>\n      <th>280</th>\n      <td>2000-06-01</td>\n      <td>61.24</td>\n    </tr>\n    <tr>\n      <th>279</th>\n      <td>2000-07-01</td>\n      <td>59.90</td>\n    </tr>\n    <tr>\n      <th>278</th>\n      <td>2000-08-01</td>\n      <td>60.84</td>\n    </tr>\n    <tr>\n      <th>277</th>\n      <td>2000-09-01</td>\n      <td>63.62</td>\n    </tr>\n    <tr>\n      <th>276</th>\n      <td>2000-10-01</td>\n      <td>62.95</td>\n    </tr>\n    <tr>\n      <th>275</th>\n      <td>2000-11-01</td>\n      <td>63.88</td>\n    </tr>\n    <tr>\n      <th>274</th>\n      <td>2000-12-01</td>\n      <td>64.21</td>\n    </tr>\n    <tr>\n      <th>273</th>\n      <td>2001-01-01</td>\n      <td>63.96</td>\n    </tr>\n    <tr>\n      <th>272</th>\n      <td>2001-02-01</td>\n      <td>61.03</td>\n    </tr>\n    <tr>\n      <th>271</th>\n      <td>2001-03-01</td>\n      <td>59.15</td>\n    </tr>\n    <tr>\n      <th>270</th>\n      <td>2001-04-01</td>\n      <td>59.37</td>\n    </tr>\n    <tr>\n      <th>269</th>\n      <td>2001-05-01</td>\n      <td>60.11</td>\n    </tr>\n    <tr>\n      <th>268</th>\n      <td>2001-06-01</td>\n      <td>58.42</td>\n    </tr>\n    <tr>\n      <th>267</th>\n      <td>2001-07-01</td>\n      <td>55.81</td>\n    </tr>\n    <tr>\n      <th>266</th>\n      <td>2001-08-01</td>\n      <td>56.04</td>\n    </tr>\n    <tr>\n      <th>265</th>\n      <td>2001-09-01</td>\n      <td>54.02</td>\n    </tr>\n    <tr>\n      <th>264</th>\n      <td>2001-10-01</td>\n      <td>50.43</td>\n    </tr>\n    <tr>\n      <th>263</th>\n      <td>2001-11-01</td>\n      <td>48.19</td>\n    </tr>\n    <tr>\n      <th>262</th>\n      <td>2001-12-01</td>\n      <td>47.89</td>\n    </tr>\n    <tr>\n      <th>261</th>\n      <td>2002-01-01</td>\n      <td>48.62</td>\n    </tr>\n    <tr>\n      <th>260</th>\n      <td>2002-02-01</td>\n      <td>49.52</td>\n    </tr>\n    <tr>\n      <th>259</th>\n      <td>2002-03-01</td>\n      <td>53.93</td>\n    </tr>\n    <tr>\n      <th>258</th>\n      <td>2002-04-01</td>\n      <td>55.67</td>\n    </tr>\n    <tr>\n      <th>257</th>\n      <td>2002-05-01</td>\n      <td>55.82</td>\n    </tr>\n    <tr>\n      <th>256</th>\n      <td>2002-06-01</td>\n      <td>54.77</td>\n    </tr>\n    <tr>\n      <th>255</th>\n      <td>2002-07-01</td>\n      <td>56.44</td>\n    </tr>\n    <tr>\n      <th>254</th>\n      <td>2002-08-01</td>\n      <td>56.67</td>\n    </tr>\n    <tr>\n      <th>253</th>\n      <td>2002-09-01</td>\n      <td>58.90</td>\n    </tr>\n    <tr>\n      <th>252</th>\n      <td>2002-10-01</td>\n      <td>60.07</td>\n    </tr>\n    <tr>\n      <th>251</th>\n      <td>2002-11-01</td>\n      <td>58.02</td>\n    </tr>\n    <tr>\n      <th>250</th>\n      <td>2002-12-01</td>\n      <td>61.15</td>\n    </tr>\n  </tbody>\n</table>\n</div>"
     },
     "execution_count": 777,
     "metadata": {},
     "output_type": "execute_result"
    }
   ]
  },
  {
   "cell_type": "code",
   "source": [
    "df_com = df_com[df_com['Date'] > '2002-12-01']\n",
    "df_com = df_com.sort_values(by='Date')\n",
    "df_com"
   ],
   "metadata": {
    "colab": {
     "base_uri": "https://localhost:8080/",
     "height": 423
    },
    "id": "HEMvr8ve8f_F",
    "outputId": "7a32badf-a491-4980-b5df-f2a057d240be",
    "ExecuteTime": {
     "end_time": "2023-11-30T16:49:35.838601100Z",
     "start_time": "2023-11-30T16:49:34.840911900Z"
    }
   },
   "execution_count": 778,
   "outputs": [
    {
     "data": {
      "text/plain": "          Date     PALLFNFINDEXM\n249 2003-01-01  65.1533780787117\n248 2003-02-01  70.2295140727457\n247 2003-03-01   65.782767587809\n246 2003-04-01  61.8871994794742\n245 2003-05-01  63.0659772161954\n..         ...               ...\n4   2023-06-01  154.069169324197\n3   2023-07-01  157.908976461302\n2   2023-08-01   161.30619330389\n1   2023-09-01  168.657488561668\n0   2023-10-01   167.77064363426\n\n[250 rows x 2 columns]",
      "text/html": "<div>\n<style scoped>\n    .dataframe tbody tr th:only-of-type {\n        vertical-align: middle;\n    }\n\n    .dataframe tbody tr th {\n        vertical-align: top;\n    }\n\n    .dataframe thead th {\n        text-align: right;\n    }\n</style>\n<table border=\"1\" class=\"dataframe\">\n  <thead>\n    <tr style=\"text-align: right;\">\n      <th></th>\n      <th>Date</th>\n      <th>PALLFNFINDEXM</th>\n    </tr>\n  </thead>\n  <tbody>\n    <tr>\n      <th>249</th>\n      <td>2003-01-01</td>\n      <td>65.1533780787117</td>\n    </tr>\n    <tr>\n      <th>248</th>\n      <td>2003-02-01</td>\n      <td>70.2295140727457</td>\n    </tr>\n    <tr>\n      <th>247</th>\n      <td>2003-03-01</td>\n      <td>65.782767587809</td>\n    </tr>\n    <tr>\n      <th>246</th>\n      <td>2003-04-01</td>\n      <td>61.8871994794742</td>\n    </tr>\n    <tr>\n      <th>245</th>\n      <td>2003-05-01</td>\n      <td>63.0659772161954</td>\n    </tr>\n    <tr>\n      <th>...</th>\n      <td>...</td>\n      <td>...</td>\n    </tr>\n    <tr>\n      <th>4</th>\n      <td>2023-06-01</td>\n      <td>154.069169324197</td>\n    </tr>\n    <tr>\n      <th>3</th>\n      <td>2023-07-01</td>\n      <td>157.908976461302</td>\n    </tr>\n    <tr>\n      <th>2</th>\n      <td>2023-08-01</td>\n      <td>161.30619330389</td>\n    </tr>\n    <tr>\n      <th>1</th>\n      <td>2023-09-01</td>\n      <td>168.657488561668</td>\n    </tr>\n    <tr>\n      <th>0</th>\n      <td>2023-10-01</td>\n      <td>167.77064363426</td>\n    </tr>\n  </tbody>\n</table>\n<p>250 rows × 2 columns</p>\n</div>"
     },
     "execution_count": 778,
     "metadata": {},
     "output_type": "execute_result"
    }
   ]
  },
  {
   "cell_type": "code",
   "source": [
    "df_com['Date'] = pd.to_datetime(df_com['Date'])\n",
    "missing['Date'] = pd.to_datetime(missing['Date'])"
   ],
   "metadata": {
    "id": "lpiQq2Qq8f8O",
    "ExecuteTime": {
     "end_time": "2023-11-30T16:49:35.838601100Z",
     "start_time": "2023-11-30T16:49:34.849773700Z"
    }
   },
   "execution_count": 779,
   "outputs": []
  },
  {
   "cell_type": "code",
   "source": [
    "# Concatenating both datasets\n",
    "commodity = pd.concat([missing, df_com], ignore_index=True)\n",
    "commodity = commodity.sort_values(by='Date')\n",
    "commodity"
   ],
   "metadata": {
    "colab": {
     "base_uri": "https://localhost:8080/",
     "height": 423
    },
    "id": "MvQqjbGq80aG",
    "outputId": "47d4fb0e-5162-409b-b60e-0ddb0aaf72df",
    "ExecuteTime": {
     "end_time": "2023-11-30T16:49:35.839606900Z",
     "start_time": "2023-11-30T16:49:34.854275700Z"
    }
   },
   "execution_count": 780,
   "outputs": [
    {
     "data": {
      "text/plain": "          Date     PALLFNFINDEXM\n0   2000-01-01             55.66\n1   2000-02-01             58.06\n2   2000-03-01             58.51\n3   2000-04-01             56.61\n4   2000-05-01             59.33\n..         ...               ...\n281 2023-06-01  154.069169324197\n282 2023-07-01  157.908976461302\n283 2023-08-01   161.30619330389\n284 2023-09-01  168.657488561668\n285 2023-10-01   167.77064363426\n\n[286 rows x 2 columns]",
      "text/html": "<div>\n<style scoped>\n    .dataframe tbody tr th:only-of-type {\n        vertical-align: middle;\n    }\n\n    .dataframe tbody tr th {\n        vertical-align: top;\n    }\n\n    .dataframe thead th {\n        text-align: right;\n    }\n</style>\n<table border=\"1\" class=\"dataframe\">\n  <thead>\n    <tr style=\"text-align: right;\">\n      <th></th>\n      <th>Date</th>\n      <th>PALLFNFINDEXM</th>\n    </tr>\n  </thead>\n  <tbody>\n    <tr>\n      <th>0</th>\n      <td>2000-01-01</td>\n      <td>55.66</td>\n    </tr>\n    <tr>\n      <th>1</th>\n      <td>2000-02-01</td>\n      <td>58.06</td>\n    </tr>\n    <tr>\n      <th>2</th>\n      <td>2000-03-01</td>\n      <td>58.51</td>\n    </tr>\n    <tr>\n      <th>3</th>\n      <td>2000-04-01</td>\n      <td>56.61</td>\n    </tr>\n    <tr>\n      <th>4</th>\n      <td>2000-05-01</td>\n      <td>59.33</td>\n    </tr>\n    <tr>\n      <th>...</th>\n      <td>...</td>\n      <td>...</td>\n    </tr>\n    <tr>\n      <th>281</th>\n      <td>2023-06-01</td>\n      <td>154.069169324197</td>\n    </tr>\n    <tr>\n      <th>282</th>\n      <td>2023-07-01</td>\n      <td>157.908976461302</td>\n    </tr>\n    <tr>\n      <th>283</th>\n      <td>2023-08-01</td>\n      <td>161.30619330389</td>\n    </tr>\n    <tr>\n      <th>284</th>\n      <td>2023-09-01</td>\n      <td>168.657488561668</td>\n    </tr>\n    <tr>\n      <th>285</th>\n      <td>2023-10-01</td>\n      <td>167.77064363426</td>\n    </tr>\n  </tbody>\n</table>\n<p>286 rows × 2 columns</p>\n</div>"
     },
     "execution_count": 780,
     "metadata": {},
     "output_type": "execute_result"
    }
   ]
  },
  {
   "cell_type": "code",
   "source": [
    "commodity['PALLFNFINDEXM'] = commodity['PALLFNFINDEXM'].astype(float)\n",
    "commodity.dtypes"
   ],
   "metadata": {
    "colab": {
     "base_uri": "https://localhost:8080/"
    },
    "id": "61yUDkBqT6bn",
    "outputId": "011e0dc2-e72c-4466-8637-9cea217408f5",
    "ExecuteTime": {
     "end_time": "2023-11-30T16:49:35.839606900Z",
     "start_time": "2023-11-30T16:49:34.862021300Z"
    }
   },
   "execution_count": 781,
   "outputs": [
    {
     "data": {
      "text/plain": "Date             datetime64[ns]\nPALLFNFINDEXM           float64\ndtype: object"
     },
     "execution_count": 781,
     "metadata": {},
     "output_type": "execute_result"
    }
   ]
  },
  {
   "cell_type": "markdown",
   "source": [
    "## **Merging Datasets**"
   ],
   "metadata": {
    "id": "BoQXHTQw5uwz"
   }
  },
  {
   "cell_type": "code",
   "execution_count": 782,
   "outputs": [
    {
     "data": {
      "text/plain": "           Date   Price  Day  Month  Year\n0    2000-01-04  0.8480    4      1  2000\n1    2000-01-05  0.8565    5      1  2000\n2    2000-01-06  0.8530    6      1  2000\n3    2000-01-07  0.8540    7      1  2000\n4    2000-01-10  0.8465   10      1  2000\n...         ...     ...  ...    ...   ...\n6079 2023-11-24  3.8205   24     11  2023\n6080 2023-11-27  3.7890   27     11  2023\n6081 2023-11-28  3.8285   28     11  2023\n6082 2023-11-29  3.8255   29     11  2023\n6083 2023-11-30  3.8213   30     11  2023\n\n[6084 rows x 5 columns]",
      "text/html": "<div>\n<style scoped>\n    .dataframe tbody tr th:only-of-type {\n        vertical-align: middle;\n    }\n\n    .dataframe tbody tr th {\n        vertical-align: top;\n    }\n\n    .dataframe thead th {\n        text-align: right;\n    }\n</style>\n<table border=\"1\" class=\"dataframe\">\n  <thead>\n    <tr style=\"text-align: right;\">\n      <th></th>\n      <th>Date</th>\n      <th>Price</th>\n      <th>Day</th>\n      <th>Month</th>\n      <th>Year</th>\n    </tr>\n  </thead>\n  <tbody>\n    <tr>\n      <th>0</th>\n      <td>2000-01-04</td>\n      <td>0.8480</td>\n      <td>4</td>\n      <td>1</td>\n      <td>2000</td>\n    </tr>\n    <tr>\n      <th>1</th>\n      <td>2000-01-05</td>\n      <td>0.8565</td>\n      <td>5</td>\n      <td>1</td>\n      <td>2000</td>\n    </tr>\n    <tr>\n      <th>2</th>\n      <td>2000-01-06</td>\n      <td>0.8530</td>\n      <td>6</td>\n      <td>1</td>\n      <td>2000</td>\n    </tr>\n    <tr>\n      <th>3</th>\n      <td>2000-01-07</td>\n      <td>0.8540</td>\n      <td>7</td>\n      <td>1</td>\n      <td>2000</td>\n    </tr>\n    <tr>\n      <th>4</th>\n      <td>2000-01-10</td>\n      <td>0.8465</td>\n      <td>10</td>\n      <td>1</td>\n      <td>2000</td>\n    </tr>\n    <tr>\n      <th>...</th>\n      <td>...</td>\n      <td>...</td>\n      <td>...</td>\n      <td>...</td>\n      <td>...</td>\n    </tr>\n    <tr>\n      <th>6079</th>\n      <td>2023-11-24</td>\n      <td>3.8205</td>\n      <td>24</td>\n      <td>11</td>\n      <td>2023</td>\n    </tr>\n    <tr>\n      <th>6080</th>\n      <td>2023-11-27</td>\n      <td>3.7890</td>\n      <td>27</td>\n      <td>11</td>\n      <td>2023</td>\n    </tr>\n    <tr>\n      <th>6081</th>\n      <td>2023-11-28</td>\n      <td>3.8285</td>\n      <td>28</td>\n      <td>11</td>\n      <td>2023</td>\n    </tr>\n    <tr>\n      <th>6082</th>\n      <td>2023-11-29</td>\n      <td>3.8255</td>\n      <td>29</td>\n      <td>11</td>\n      <td>2023</td>\n    </tr>\n    <tr>\n      <th>6083</th>\n      <td>2023-11-30</td>\n      <td>3.8213</td>\n      <td>30</td>\n      <td>11</td>\n      <td>2023</td>\n    </tr>\n  </tbody>\n</table>\n<p>6084 rows × 5 columns</p>\n</div>"
     },
     "execution_count": 782,
     "metadata": {},
     "output_type": "execute_result"
    }
   ],
   "source": [
    "copper_history = copper_history[copper_history['Date'] >= '2000-01-01']\n",
    "copper_history"
   ],
   "metadata": {
    "collapsed": false,
    "ExecuteTime": {
     "end_time": "2023-11-30T16:49:35.840603300Z",
     "start_time": "2023-11-30T16:49:34.868489600Z"
    }
   }
  },
  {
   "cell_type": "code",
   "source": [
    "# Merge data frames based on a common key\n",
    "merged_df_1 = pd.merge(copper_history, df_GDP, left_on='Year', right_on='Year', how='outer')\n",
    "merged_df_1"
   ],
   "metadata": {
    "colab": {
     "base_uri": "https://localhost:8080/",
     "height": 423
    },
    "id": "tt5k73OXdhCB",
    "outputId": "be321a8c-ecab-4a04-938c-e8f00ec559ac",
    "ExecuteTime": {
     "end_time": "2023-11-30T16:49:35.840603300Z",
     "start_time": "2023-11-30T16:49:34.877746400Z"
    }
   },
   "execution_count": 783,
   "outputs": [
    {
     "data": {
      "text/plain": "         Date_x   Price  Day  Month  Year     Date_y   Real_GDP\n0    2000-01-04  0.8480    4      1  2000 2000-01-01  14096.033\n1    2000-01-05  0.8565    5      1  2000 2000-01-01  14096.033\n2    2000-01-06  0.8530    6      1  2000 2000-01-01  14096.033\n3    2000-01-07  0.8540    7      1  2000 2000-01-01  14096.033\n4    2000-01-10  0.8465   10      1  2000 2000-01-01  14096.033\n...         ...     ...  ...    ...   ...        ...        ...\n6079 2023-11-24  3.8205   24     11  2023        NaT        NaN\n6080 2023-11-27  3.7890   27     11  2023        NaT        NaN\n6081 2023-11-28  3.8285   28     11  2023        NaT        NaN\n6082 2023-11-29  3.8255   29     11  2023        NaT        NaN\n6083 2023-11-30  3.8213   30     11  2023        NaT        NaN\n\n[6084 rows x 7 columns]",
      "text/html": "<div>\n<style scoped>\n    .dataframe tbody tr th:only-of-type {\n        vertical-align: middle;\n    }\n\n    .dataframe tbody tr th {\n        vertical-align: top;\n    }\n\n    .dataframe thead th {\n        text-align: right;\n    }\n</style>\n<table border=\"1\" class=\"dataframe\">\n  <thead>\n    <tr style=\"text-align: right;\">\n      <th></th>\n      <th>Date_x</th>\n      <th>Price</th>\n      <th>Day</th>\n      <th>Month</th>\n      <th>Year</th>\n      <th>Date_y</th>\n      <th>Real_GDP</th>\n    </tr>\n  </thead>\n  <tbody>\n    <tr>\n      <th>0</th>\n      <td>2000-01-04</td>\n      <td>0.8480</td>\n      <td>4</td>\n      <td>1</td>\n      <td>2000</td>\n      <td>2000-01-01</td>\n      <td>14096.033</td>\n    </tr>\n    <tr>\n      <th>1</th>\n      <td>2000-01-05</td>\n      <td>0.8565</td>\n      <td>5</td>\n      <td>1</td>\n      <td>2000</td>\n      <td>2000-01-01</td>\n      <td>14096.033</td>\n    </tr>\n    <tr>\n      <th>2</th>\n      <td>2000-01-06</td>\n      <td>0.8530</td>\n      <td>6</td>\n      <td>1</td>\n      <td>2000</td>\n      <td>2000-01-01</td>\n      <td>14096.033</td>\n    </tr>\n    <tr>\n      <th>3</th>\n      <td>2000-01-07</td>\n      <td>0.8540</td>\n      <td>7</td>\n      <td>1</td>\n      <td>2000</td>\n      <td>2000-01-01</td>\n      <td>14096.033</td>\n    </tr>\n    <tr>\n      <th>4</th>\n      <td>2000-01-10</td>\n      <td>0.8465</td>\n      <td>10</td>\n      <td>1</td>\n      <td>2000</td>\n      <td>2000-01-01</td>\n      <td>14096.033</td>\n    </tr>\n    <tr>\n      <th>...</th>\n      <td>...</td>\n      <td>...</td>\n      <td>...</td>\n      <td>...</td>\n      <td>...</td>\n      <td>...</td>\n      <td>...</td>\n    </tr>\n    <tr>\n      <th>6079</th>\n      <td>2023-11-24</td>\n      <td>3.8205</td>\n      <td>24</td>\n      <td>11</td>\n      <td>2023</td>\n      <td>NaT</td>\n      <td>NaN</td>\n    </tr>\n    <tr>\n      <th>6080</th>\n      <td>2023-11-27</td>\n      <td>3.7890</td>\n      <td>27</td>\n      <td>11</td>\n      <td>2023</td>\n      <td>NaT</td>\n      <td>NaN</td>\n    </tr>\n    <tr>\n      <th>6081</th>\n      <td>2023-11-28</td>\n      <td>3.8285</td>\n      <td>28</td>\n      <td>11</td>\n      <td>2023</td>\n      <td>NaT</td>\n      <td>NaN</td>\n    </tr>\n    <tr>\n      <th>6082</th>\n      <td>2023-11-29</td>\n      <td>3.8255</td>\n      <td>29</td>\n      <td>11</td>\n      <td>2023</td>\n      <td>NaT</td>\n      <td>NaN</td>\n    </tr>\n    <tr>\n      <th>6083</th>\n      <td>2023-11-30</td>\n      <td>3.8213</td>\n      <td>30</td>\n      <td>11</td>\n      <td>2023</td>\n      <td>NaT</td>\n      <td>NaN</td>\n    </tr>\n  </tbody>\n</table>\n<p>6084 rows × 7 columns</p>\n</div>"
     },
     "execution_count": 783,
     "metadata": {},
     "output_type": "execute_result"
    }
   ]
  },
  {
   "cell_type": "code",
   "source": [
    "merged_df_1 = merged_df_1.drop(columns=['Date_y'])\n",
    "\n",
    "merged_df_1.rename(columns = {'Date_x':'Date'}, inplace = True)\n",
    "\n",
    "merged_df_1"
   ],
   "metadata": {
    "colab": {
     "base_uri": "https://localhost:8080/",
     "height": 423
    },
    "id": "vHt1lWguADwA",
    "outputId": "0e1d64b1-4425-4887-c64f-2608c36e43e4",
    "ExecuteTime": {
     "end_time": "2023-11-30T16:49:35.841601Z",
     "start_time": "2023-11-30T16:49:34.891417700Z"
    }
   },
   "execution_count": 784,
   "outputs": [
    {
     "data": {
      "text/plain": "           Date   Price  Day  Month  Year   Real_GDP\n0    2000-01-04  0.8480    4      1  2000  14096.033\n1    2000-01-05  0.8565    5      1  2000  14096.033\n2    2000-01-06  0.8530    6      1  2000  14096.033\n3    2000-01-07  0.8540    7      1  2000  14096.033\n4    2000-01-10  0.8465   10      1  2000  14096.033\n...         ...     ...  ...    ...   ...        ...\n6079 2023-11-24  3.8205   24     11  2023        NaN\n6080 2023-11-27  3.7890   27     11  2023        NaN\n6081 2023-11-28  3.8285   28     11  2023        NaN\n6082 2023-11-29  3.8255   29     11  2023        NaN\n6083 2023-11-30  3.8213   30     11  2023        NaN\n\n[6084 rows x 6 columns]",
      "text/html": "<div>\n<style scoped>\n    .dataframe tbody tr th:only-of-type {\n        vertical-align: middle;\n    }\n\n    .dataframe tbody tr th {\n        vertical-align: top;\n    }\n\n    .dataframe thead th {\n        text-align: right;\n    }\n</style>\n<table border=\"1\" class=\"dataframe\">\n  <thead>\n    <tr style=\"text-align: right;\">\n      <th></th>\n      <th>Date</th>\n      <th>Price</th>\n      <th>Day</th>\n      <th>Month</th>\n      <th>Year</th>\n      <th>Real_GDP</th>\n    </tr>\n  </thead>\n  <tbody>\n    <tr>\n      <th>0</th>\n      <td>2000-01-04</td>\n      <td>0.8480</td>\n      <td>4</td>\n      <td>1</td>\n      <td>2000</td>\n      <td>14096.033</td>\n    </tr>\n    <tr>\n      <th>1</th>\n      <td>2000-01-05</td>\n      <td>0.8565</td>\n      <td>5</td>\n      <td>1</td>\n      <td>2000</td>\n      <td>14096.033</td>\n    </tr>\n    <tr>\n      <th>2</th>\n      <td>2000-01-06</td>\n      <td>0.8530</td>\n      <td>6</td>\n      <td>1</td>\n      <td>2000</td>\n      <td>14096.033</td>\n    </tr>\n    <tr>\n      <th>3</th>\n      <td>2000-01-07</td>\n      <td>0.8540</td>\n      <td>7</td>\n      <td>1</td>\n      <td>2000</td>\n      <td>14096.033</td>\n    </tr>\n    <tr>\n      <th>4</th>\n      <td>2000-01-10</td>\n      <td>0.8465</td>\n      <td>10</td>\n      <td>1</td>\n      <td>2000</td>\n      <td>14096.033</td>\n    </tr>\n    <tr>\n      <th>...</th>\n      <td>...</td>\n      <td>...</td>\n      <td>...</td>\n      <td>...</td>\n      <td>...</td>\n      <td>...</td>\n    </tr>\n    <tr>\n      <th>6079</th>\n      <td>2023-11-24</td>\n      <td>3.8205</td>\n      <td>24</td>\n      <td>11</td>\n      <td>2023</td>\n      <td>NaN</td>\n    </tr>\n    <tr>\n      <th>6080</th>\n      <td>2023-11-27</td>\n      <td>3.7890</td>\n      <td>27</td>\n      <td>11</td>\n      <td>2023</td>\n      <td>NaN</td>\n    </tr>\n    <tr>\n      <th>6081</th>\n      <td>2023-11-28</td>\n      <td>3.8285</td>\n      <td>28</td>\n      <td>11</td>\n      <td>2023</td>\n      <td>NaN</td>\n    </tr>\n    <tr>\n      <th>6082</th>\n      <td>2023-11-29</td>\n      <td>3.8255</td>\n      <td>29</td>\n      <td>11</td>\n      <td>2023</td>\n      <td>NaN</td>\n    </tr>\n    <tr>\n      <th>6083</th>\n      <td>2023-11-30</td>\n      <td>3.8213</td>\n      <td>30</td>\n      <td>11</td>\n      <td>2023</td>\n      <td>NaN</td>\n    </tr>\n  </tbody>\n</table>\n<p>6084 rows × 6 columns</p>\n</div>"
     },
     "execution_count": 784,
     "metadata": {},
     "output_type": "execute_result"
    }
   ]
  },
  {
   "cell_type": "code",
   "source": [
    "merged_df_1 = merged_df_1.drop(['Day'], axis=1)\n",
    "merged_df_1"
   ],
   "metadata": {
    "colab": {
     "base_uri": "https://localhost:8080/",
     "height": 423
    },
    "id": "Sp3Q8nIfID14",
    "outputId": "07eb1140-106a-4558-fcbd-21f2347401bf",
    "ExecuteTime": {
     "end_time": "2023-11-30T16:49:35.842600Z",
     "start_time": "2023-11-30T16:49:34.901772800Z"
    }
   },
   "execution_count": 785,
   "outputs": [
    {
     "data": {
      "text/plain": "           Date   Price  Month  Year   Real_GDP\n0    2000-01-04  0.8480      1  2000  14096.033\n1    2000-01-05  0.8565      1  2000  14096.033\n2    2000-01-06  0.8530      1  2000  14096.033\n3    2000-01-07  0.8540      1  2000  14096.033\n4    2000-01-10  0.8465      1  2000  14096.033\n...         ...     ...    ...   ...        ...\n6079 2023-11-24  3.8205     11  2023        NaN\n6080 2023-11-27  3.7890     11  2023        NaN\n6081 2023-11-28  3.8285     11  2023        NaN\n6082 2023-11-29  3.8255     11  2023        NaN\n6083 2023-11-30  3.8213     11  2023        NaN\n\n[6084 rows x 5 columns]",
      "text/html": "<div>\n<style scoped>\n    .dataframe tbody tr th:only-of-type {\n        vertical-align: middle;\n    }\n\n    .dataframe tbody tr th {\n        vertical-align: top;\n    }\n\n    .dataframe thead th {\n        text-align: right;\n    }\n</style>\n<table border=\"1\" class=\"dataframe\">\n  <thead>\n    <tr style=\"text-align: right;\">\n      <th></th>\n      <th>Date</th>\n      <th>Price</th>\n      <th>Month</th>\n      <th>Year</th>\n      <th>Real_GDP</th>\n    </tr>\n  </thead>\n  <tbody>\n    <tr>\n      <th>0</th>\n      <td>2000-01-04</td>\n      <td>0.8480</td>\n      <td>1</td>\n      <td>2000</td>\n      <td>14096.033</td>\n    </tr>\n    <tr>\n      <th>1</th>\n      <td>2000-01-05</td>\n      <td>0.8565</td>\n      <td>1</td>\n      <td>2000</td>\n      <td>14096.033</td>\n    </tr>\n    <tr>\n      <th>2</th>\n      <td>2000-01-06</td>\n      <td>0.8530</td>\n      <td>1</td>\n      <td>2000</td>\n      <td>14096.033</td>\n    </tr>\n    <tr>\n      <th>3</th>\n      <td>2000-01-07</td>\n      <td>0.8540</td>\n      <td>1</td>\n      <td>2000</td>\n      <td>14096.033</td>\n    </tr>\n    <tr>\n      <th>4</th>\n      <td>2000-01-10</td>\n      <td>0.8465</td>\n      <td>1</td>\n      <td>2000</td>\n      <td>14096.033</td>\n    </tr>\n    <tr>\n      <th>...</th>\n      <td>...</td>\n      <td>...</td>\n      <td>...</td>\n      <td>...</td>\n      <td>...</td>\n    </tr>\n    <tr>\n      <th>6079</th>\n      <td>2023-11-24</td>\n      <td>3.8205</td>\n      <td>11</td>\n      <td>2023</td>\n      <td>NaN</td>\n    </tr>\n    <tr>\n      <th>6080</th>\n      <td>2023-11-27</td>\n      <td>3.7890</td>\n      <td>11</td>\n      <td>2023</td>\n      <td>NaN</td>\n    </tr>\n    <tr>\n      <th>6081</th>\n      <td>2023-11-28</td>\n      <td>3.8285</td>\n      <td>11</td>\n      <td>2023</td>\n      <td>NaN</td>\n    </tr>\n    <tr>\n      <th>6082</th>\n      <td>2023-11-29</td>\n      <td>3.8255</td>\n      <td>11</td>\n      <td>2023</td>\n      <td>NaN</td>\n    </tr>\n    <tr>\n      <th>6083</th>\n      <td>2023-11-30</td>\n      <td>3.8213</td>\n      <td>11</td>\n      <td>2023</td>\n      <td>NaN</td>\n    </tr>\n  </tbody>\n</table>\n<p>6084 rows × 5 columns</p>\n</div>"
     },
     "execution_count": 785,
     "metadata": {},
     "output_type": "execute_result"
    }
   ]
  },
  {
   "cell_type": "code",
   "source": [
    "# Forward fill the missing Real_GDP values by grouping them by Year\n",
    "merged_df_1['Real_GDP'] = merged_df_1.groupby('Year')['Real_GDP'].fillna(method='ffill')\n",
    "merged_df_1"
   ],
   "metadata": {
    "colab": {
     "base_uri": "https://localhost:8080/",
     "height": 423
    },
    "id": "Ko7xyLqpJc-1",
    "outputId": "80cd2d2f-91c2-4a5e-8e9b-fab163edadbc",
    "ExecuteTime": {
     "end_time": "2023-11-30T16:49:35.842600Z",
     "start_time": "2023-11-30T16:49:34.911783800Z"
    }
   },
   "execution_count": 786,
   "outputs": [
    {
     "data": {
      "text/plain": "           Date   Price  Month  Year   Real_GDP\n0    2000-01-04  0.8480      1  2000  14096.033\n1    2000-01-05  0.8565      1  2000  14096.033\n2    2000-01-06  0.8530      1  2000  14096.033\n3    2000-01-07  0.8540      1  2000  14096.033\n4    2000-01-10  0.8465      1  2000  14096.033\n...         ...     ...    ...   ...        ...\n6079 2023-11-24  3.8205     11  2023        NaN\n6080 2023-11-27  3.7890     11  2023        NaN\n6081 2023-11-28  3.8285     11  2023        NaN\n6082 2023-11-29  3.8255     11  2023        NaN\n6083 2023-11-30  3.8213     11  2023        NaN\n\n[6084 rows x 5 columns]",
      "text/html": "<div>\n<style scoped>\n    .dataframe tbody tr th:only-of-type {\n        vertical-align: middle;\n    }\n\n    .dataframe tbody tr th {\n        vertical-align: top;\n    }\n\n    .dataframe thead th {\n        text-align: right;\n    }\n</style>\n<table border=\"1\" class=\"dataframe\">\n  <thead>\n    <tr style=\"text-align: right;\">\n      <th></th>\n      <th>Date</th>\n      <th>Price</th>\n      <th>Month</th>\n      <th>Year</th>\n      <th>Real_GDP</th>\n    </tr>\n  </thead>\n  <tbody>\n    <tr>\n      <th>0</th>\n      <td>2000-01-04</td>\n      <td>0.8480</td>\n      <td>1</td>\n      <td>2000</td>\n      <td>14096.033</td>\n    </tr>\n    <tr>\n      <th>1</th>\n      <td>2000-01-05</td>\n      <td>0.8565</td>\n      <td>1</td>\n      <td>2000</td>\n      <td>14096.033</td>\n    </tr>\n    <tr>\n      <th>2</th>\n      <td>2000-01-06</td>\n      <td>0.8530</td>\n      <td>1</td>\n      <td>2000</td>\n      <td>14096.033</td>\n    </tr>\n    <tr>\n      <th>3</th>\n      <td>2000-01-07</td>\n      <td>0.8540</td>\n      <td>1</td>\n      <td>2000</td>\n      <td>14096.033</td>\n    </tr>\n    <tr>\n      <th>4</th>\n      <td>2000-01-10</td>\n      <td>0.8465</td>\n      <td>1</td>\n      <td>2000</td>\n      <td>14096.033</td>\n    </tr>\n    <tr>\n      <th>...</th>\n      <td>...</td>\n      <td>...</td>\n      <td>...</td>\n      <td>...</td>\n      <td>...</td>\n    </tr>\n    <tr>\n      <th>6079</th>\n      <td>2023-11-24</td>\n      <td>3.8205</td>\n      <td>11</td>\n      <td>2023</td>\n      <td>NaN</td>\n    </tr>\n    <tr>\n      <th>6080</th>\n      <td>2023-11-27</td>\n      <td>3.7890</td>\n      <td>11</td>\n      <td>2023</td>\n      <td>NaN</td>\n    </tr>\n    <tr>\n      <th>6081</th>\n      <td>2023-11-28</td>\n      <td>3.8285</td>\n      <td>11</td>\n      <td>2023</td>\n      <td>NaN</td>\n    </tr>\n    <tr>\n      <th>6082</th>\n      <td>2023-11-29</td>\n      <td>3.8255</td>\n      <td>11</td>\n      <td>2023</td>\n      <td>NaN</td>\n    </tr>\n    <tr>\n      <th>6083</th>\n      <td>2023-11-30</td>\n      <td>3.8213</td>\n      <td>11</td>\n      <td>2023</td>\n      <td>NaN</td>\n    </tr>\n  </tbody>\n</table>\n<p>6084 rows × 5 columns</p>\n</div>"
     },
     "execution_count": 786,
     "metadata": {},
     "output_type": "execute_result"
    }
   ]
  },
  {
   "cell_type": "markdown",
   "source": [
    "> Real_GDP value change every year"
   ],
   "metadata": {
    "id": "sfc2lmh8J2iy"
   }
  },
  {
   "cell_type": "code",
   "source": [
    "# Set a constant value for missing 'Real_GDP' in the year 2023\n",
    "constant_value_2023 = 19374\n",
    "\n",
    "# Fill the missing 'Real_GDP' values with the constant value for 2023\n",
    "merged_df_1['Real_GDP'] = merged_df_1['Real_GDP'].fillna(\n",
    "    merged_df_1['Year'].apply(lambda x: constant_value_2023 if x == 2023 else np.nan))"
   ],
   "metadata": {
    "id": "LE_UJCkaOz51",
    "ExecuteTime": {
     "end_time": "2023-11-30T16:49:35.842600Z",
     "start_time": "2023-11-30T16:49:34.924377800Z"
    }
   },
   "execution_count": 787,
   "outputs": []
  },
  {
   "cell_type": "code",
   "source": [
    "merged_df_1"
   ],
   "metadata": {
    "colab": {
     "base_uri": "https://localhost:8080/",
     "height": 423
    },
    "id": "Bex3PpANfSKV",
    "outputId": "58499894-d9cd-4e51-9d47-79a8577fe6a2",
    "ExecuteTime": {
     "end_time": "2023-11-30T16:49:35.843599900Z",
     "start_time": "2023-11-30T16:49:34.929535200Z"
    }
   },
   "execution_count": 788,
   "outputs": [
    {
     "data": {
      "text/plain": "           Date   Price  Month  Year   Real_GDP\n0    2000-01-04  0.8480      1  2000  14096.033\n1    2000-01-05  0.8565      1  2000  14096.033\n2    2000-01-06  0.8530      1  2000  14096.033\n3    2000-01-07  0.8540      1  2000  14096.033\n4    2000-01-10  0.8465      1  2000  14096.033\n...         ...     ...    ...   ...        ...\n6079 2023-11-24  3.8205     11  2023  19374.000\n6080 2023-11-27  3.7890     11  2023  19374.000\n6081 2023-11-28  3.8285     11  2023  19374.000\n6082 2023-11-29  3.8255     11  2023  19374.000\n6083 2023-11-30  3.8213     11  2023  19374.000\n\n[6084 rows x 5 columns]",
      "text/html": "<div>\n<style scoped>\n    .dataframe tbody tr th:only-of-type {\n        vertical-align: middle;\n    }\n\n    .dataframe tbody tr th {\n        vertical-align: top;\n    }\n\n    .dataframe thead th {\n        text-align: right;\n    }\n</style>\n<table border=\"1\" class=\"dataframe\">\n  <thead>\n    <tr style=\"text-align: right;\">\n      <th></th>\n      <th>Date</th>\n      <th>Price</th>\n      <th>Month</th>\n      <th>Year</th>\n      <th>Real_GDP</th>\n    </tr>\n  </thead>\n  <tbody>\n    <tr>\n      <th>0</th>\n      <td>2000-01-04</td>\n      <td>0.8480</td>\n      <td>1</td>\n      <td>2000</td>\n      <td>14096.033</td>\n    </tr>\n    <tr>\n      <th>1</th>\n      <td>2000-01-05</td>\n      <td>0.8565</td>\n      <td>1</td>\n      <td>2000</td>\n      <td>14096.033</td>\n    </tr>\n    <tr>\n      <th>2</th>\n      <td>2000-01-06</td>\n      <td>0.8530</td>\n      <td>1</td>\n      <td>2000</td>\n      <td>14096.033</td>\n    </tr>\n    <tr>\n      <th>3</th>\n      <td>2000-01-07</td>\n      <td>0.8540</td>\n      <td>1</td>\n      <td>2000</td>\n      <td>14096.033</td>\n    </tr>\n    <tr>\n      <th>4</th>\n      <td>2000-01-10</td>\n      <td>0.8465</td>\n      <td>1</td>\n      <td>2000</td>\n      <td>14096.033</td>\n    </tr>\n    <tr>\n      <th>...</th>\n      <td>...</td>\n      <td>...</td>\n      <td>...</td>\n      <td>...</td>\n      <td>...</td>\n    </tr>\n    <tr>\n      <th>6079</th>\n      <td>2023-11-24</td>\n      <td>3.8205</td>\n      <td>11</td>\n      <td>2023</td>\n      <td>19374.000</td>\n    </tr>\n    <tr>\n      <th>6080</th>\n      <td>2023-11-27</td>\n      <td>3.7890</td>\n      <td>11</td>\n      <td>2023</td>\n      <td>19374.000</td>\n    </tr>\n    <tr>\n      <th>6081</th>\n      <td>2023-11-28</td>\n      <td>3.8285</td>\n      <td>11</td>\n      <td>2023</td>\n      <td>19374.000</td>\n    </tr>\n    <tr>\n      <th>6082</th>\n      <td>2023-11-29</td>\n      <td>3.8255</td>\n      <td>11</td>\n      <td>2023</td>\n      <td>19374.000</td>\n    </tr>\n    <tr>\n      <th>6083</th>\n      <td>2023-11-30</td>\n      <td>3.8213</td>\n      <td>11</td>\n      <td>2023</td>\n      <td>19374.000</td>\n    </tr>\n  </tbody>\n</table>\n<p>6084 rows × 5 columns</p>\n</div>"
     },
     "execution_count": 788,
     "metadata": {},
     "output_type": "execute_result"
    }
   ]
  },
  {
   "cell_type": "code",
   "source": [
    "# Interpolate the missing values using linear interpolation\n",
    "merged_df_1.interpolate(method='ffill', inplace=True)\n",
    "print(merged_df_1)"
   ],
   "metadata": {
    "colab": {
     "base_uri": "https://localhost:8080/",
     "height": 423
    },
    "id": "NHLe2vGCclU7",
    "outputId": "914f4b1a-592c-47e1-b6d7-67fa835b1191",
    "ExecuteTime": {
     "end_time": "2023-11-30T16:49:35.843599900Z",
     "start_time": "2023-11-30T16:49:34.938247900Z"
    }
   },
   "execution_count": 789,
   "outputs": [
    {
     "name": "stdout",
     "output_type": "stream",
     "text": [
      "           Date   Price  Month  Year   Real_GDP\n",
      "0    2000-01-04  0.8480      1  2000  14096.033\n",
      "1    2000-01-05  0.8565      1  2000  14096.033\n",
      "2    2000-01-06  0.8530      1  2000  14096.033\n",
      "3    2000-01-07  0.8540      1  2000  14096.033\n",
      "4    2000-01-10  0.8465      1  2000  14096.033\n",
      "...         ...     ...    ...   ...        ...\n",
      "6079 2023-11-24  3.8205     11  2023  19374.000\n",
      "6080 2023-11-27  3.7890     11  2023  19374.000\n",
      "6081 2023-11-28  3.8285     11  2023  19374.000\n",
      "6082 2023-11-29  3.8255     11  2023  19374.000\n",
      "6083 2023-11-30  3.8213     11  2023  19374.000\n",
      "\n",
      "[6084 rows x 5 columns]\n"
     ]
    }
   ]
  },
  {
   "cell_type": "code",
   "source": [
    "\n",
    "# Second Merge\n",
    "merged_df_2 = pd.merge(merged_df_1, df_CPI, on='Date', how='left')\n",
    "merged_df_2.loc[(merged_df_2['Year'] == 2000) & (merged_df_2['Month'] == 1), 'CPI'] = 168.8\n",
    "merged_df_2"
   ],
   "metadata": {
    "colab": {
     "base_uri": "https://localhost:8080/",
     "height": 423
    },
    "id": "arXe8Pnypxop",
    "outputId": "3a3290a6-eb3b-4fcf-a96b-97758743fd18",
    "ExecuteTime": {
     "end_time": "2023-11-30T16:49:38.134240100Z",
     "start_time": "2023-11-30T16:49:36.591866500Z"
    }
   },
   "execution_count": 790,
   "outputs": [
    {
     "data": {
      "text/plain": "           Date   Price  Month  Year   Real_GDP    CPI\n0    2000-01-04  0.8480      1  2000  14096.033  168.8\n1    2000-01-05  0.8565      1  2000  14096.033  168.8\n2    2000-01-06  0.8530      1  2000  14096.033  168.8\n3    2000-01-07  0.8540      1  2000  14096.033  168.8\n4    2000-01-10  0.8465      1  2000  14096.033  168.8\n...         ...     ...    ...   ...        ...    ...\n6079 2023-11-24  3.8205     11  2023  19374.000    NaN\n6080 2023-11-27  3.7890     11  2023  19374.000    NaN\n6081 2023-11-28  3.8285     11  2023  19374.000    NaN\n6082 2023-11-29  3.8255     11  2023  19374.000    NaN\n6083 2023-11-30  3.8213     11  2023  19374.000    NaN\n\n[6084 rows x 6 columns]",
      "text/html": "<div>\n<style scoped>\n    .dataframe tbody tr th:only-of-type {\n        vertical-align: middle;\n    }\n\n    .dataframe tbody tr th {\n        vertical-align: top;\n    }\n\n    .dataframe thead th {\n        text-align: right;\n    }\n</style>\n<table border=\"1\" class=\"dataframe\">\n  <thead>\n    <tr style=\"text-align: right;\">\n      <th></th>\n      <th>Date</th>\n      <th>Price</th>\n      <th>Month</th>\n      <th>Year</th>\n      <th>Real_GDP</th>\n      <th>CPI</th>\n    </tr>\n  </thead>\n  <tbody>\n    <tr>\n      <th>0</th>\n      <td>2000-01-04</td>\n      <td>0.8480</td>\n      <td>1</td>\n      <td>2000</td>\n      <td>14096.033</td>\n      <td>168.8</td>\n    </tr>\n    <tr>\n      <th>1</th>\n      <td>2000-01-05</td>\n      <td>0.8565</td>\n      <td>1</td>\n      <td>2000</td>\n      <td>14096.033</td>\n      <td>168.8</td>\n    </tr>\n    <tr>\n      <th>2</th>\n      <td>2000-01-06</td>\n      <td>0.8530</td>\n      <td>1</td>\n      <td>2000</td>\n      <td>14096.033</td>\n      <td>168.8</td>\n    </tr>\n    <tr>\n      <th>3</th>\n      <td>2000-01-07</td>\n      <td>0.8540</td>\n      <td>1</td>\n      <td>2000</td>\n      <td>14096.033</td>\n      <td>168.8</td>\n    </tr>\n    <tr>\n      <th>4</th>\n      <td>2000-01-10</td>\n      <td>0.8465</td>\n      <td>1</td>\n      <td>2000</td>\n      <td>14096.033</td>\n      <td>168.8</td>\n    </tr>\n    <tr>\n      <th>...</th>\n      <td>...</td>\n      <td>...</td>\n      <td>...</td>\n      <td>...</td>\n      <td>...</td>\n      <td>...</td>\n    </tr>\n    <tr>\n      <th>6079</th>\n      <td>2023-11-24</td>\n      <td>3.8205</td>\n      <td>11</td>\n      <td>2023</td>\n      <td>19374.000</td>\n      <td>NaN</td>\n    </tr>\n    <tr>\n      <th>6080</th>\n      <td>2023-11-27</td>\n      <td>3.7890</td>\n      <td>11</td>\n      <td>2023</td>\n      <td>19374.000</td>\n      <td>NaN</td>\n    </tr>\n    <tr>\n      <th>6081</th>\n      <td>2023-11-28</td>\n      <td>3.8285</td>\n      <td>11</td>\n      <td>2023</td>\n      <td>19374.000</td>\n      <td>NaN</td>\n    </tr>\n    <tr>\n      <th>6082</th>\n      <td>2023-11-29</td>\n      <td>3.8255</td>\n      <td>11</td>\n      <td>2023</td>\n      <td>19374.000</td>\n      <td>NaN</td>\n    </tr>\n    <tr>\n      <th>6083</th>\n      <td>2023-11-30</td>\n      <td>3.8213</td>\n      <td>11</td>\n      <td>2023</td>\n      <td>19374.000</td>\n      <td>NaN</td>\n    </tr>\n  </tbody>\n</table>\n<p>6084 rows × 6 columns</p>\n</div>"
     },
     "execution_count": 790,
     "metadata": {},
     "output_type": "execute_result"
    }
   ]
  },
  {
   "cell_type": "code",
   "execution_count": 791,
   "outputs": [
    {
     "data": {
      "text/plain": "           Date   Price  Month    Year   Real_GDP    CPI\n0    2000-01-04  0.8480    1.0  2000.0  14096.033  168.8\n1    2000-01-05  0.8565    1.0  2000.0  14096.033  168.8\n2    2000-01-06  0.8530    1.0  2000.0  14096.033  168.8\n3    2000-01-07  0.8540    1.0  2000.0  14096.033  168.8\n4    2000-01-10  0.8465    1.0  2000.0  14096.033  168.8\n...         ...     ...    ...     ...        ...    ...\n6079 2023-11-24  3.8205   11.0  2023.0  19374.000    NaN\n6080 2023-11-27  3.7890   11.0  2023.0  19374.000    NaN\n6081 2023-11-28  3.8285   11.0  2023.0  19374.000    NaN\n6082 2023-11-29  3.8255   11.0  2023.0  19374.000    NaN\n6083 2023-11-30  3.8213   11.0  2023.0  19374.000    NaN\n\n[6084 rows x 6 columns]",
      "text/html": "<div>\n<style scoped>\n    .dataframe tbody tr th:only-of-type {\n        vertical-align: middle;\n    }\n\n    .dataframe tbody tr th {\n        vertical-align: top;\n    }\n\n    .dataframe thead th {\n        text-align: right;\n    }\n</style>\n<table border=\"1\" class=\"dataframe\">\n  <thead>\n    <tr style=\"text-align: right;\">\n      <th></th>\n      <th>Date</th>\n      <th>Price</th>\n      <th>Month</th>\n      <th>Year</th>\n      <th>Real_GDP</th>\n      <th>CPI</th>\n    </tr>\n  </thead>\n  <tbody>\n    <tr>\n      <th>0</th>\n      <td>2000-01-04</td>\n      <td>0.8480</td>\n      <td>1.0</td>\n      <td>2000.0</td>\n      <td>14096.033</td>\n      <td>168.8</td>\n    </tr>\n    <tr>\n      <th>1</th>\n      <td>2000-01-05</td>\n      <td>0.8565</td>\n      <td>1.0</td>\n      <td>2000.0</td>\n      <td>14096.033</td>\n      <td>168.8</td>\n    </tr>\n    <tr>\n      <th>2</th>\n      <td>2000-01-06</td>\n      <td>0.8530</td>\n      <td>1.0</td>\n      <td>2000.0</td>\n      <td>14096.033</td>\n      <td>168.8</td>\n    </tr>\n    <tr>\n      <th>3</th>\n      <td>2000-01-07</td>\n      <td>0.8540</td>\n      <td>1.0</td>\n      <td>2000.0</td>\n      <td>14096.033</td>\n      <td>168.8</td>\n    </tr>\n    <tr>\n      <th>4</th>\n      <td>2000-01-10</td>\n      <td>0.8465</td>\n      <td>1.0</td>\n      <td>2000.0</td>\n      <td>14096.033</td>\n      <td>168.8</td>\n    </tr>\n    <tr>\n      <th>...</th>\n      <td>...</td>\n      <td>...</td>\n      <td>...</td>\n      <td>...</td>\n      <td>...</td>\n      <td>...</td>\n    </tr>\n    <tr>\n      <th>6079</th>\n      <td>2023-11-24</td>\n      <td>3.8205</td>\n      <td>11.0</td>\n      <td>2023.0</td>\n      <td>19374.000</td>\n      <td>NaN</td>\n    </tr>\n    <tr>\n      <th>6080</th>\n      <td>2023-11-27</td>\n      <td>3.7890</td>\n      <td>11.0</td>\n      <td>2023.0</td>\n      <td>19374.000</td>\n      <td>NaN</td>\n    </tr>\n    <tr>\n      <th>6081</th>\n      <td>2023-11-28</td>\n      <td>3.8285</td>\n      <td>11.0</td>\n      <td>2023.0</td>\n      <td>19374.000</td>\n      <td>NaN</td>\n    </tr>\n    <tr>\n      <th>6082</th>\n      <td>2023-11-29</td>\n      <td>3.8255</td>\n      <td>11.0</td>\n      <td>2023.0</td>\n      <td>19374.000</td>\n      <td>NaN</td>\n    </tr>\n    <tr>\n      <th>6083</th>\n      <td>2023-11-30</td>\n      <td>3.8213</td>\n      <td>11.0</td>\n      <td>2023.0</td>\n      <td>19374.000</td>\n      <td>NaN</td>\n    </tr>\n  </tbody>\n</table>\n<p>6084 rows × 6 columns</p>\n</div>"
     },
     "execution_count": 791,
     "metadata": {},
     "output_type": "execute_result"
    }
   ],
   "source": [
    "import pandas as pd\n",
    "\n",
    "# Assuming merged_df_2 is your DataFrame\n",
    "\n",
    "# Filter the DataFrame for data before the year 2023\n",
    "filtered_df = merged_df_2[merged_df_2['Date'].dt.year < 2023]\n",
    "\n",
    "# Group by year and month, and transform 'CPI' to fill missing values with the first value of the group\n",
    "filtered_df['CPI'] = filtered_df.groupby([filtered_df['Date'].dt.year, filtered_df['Date'].dt.month])['CPI'].transform('first')\n",
    "\n",
    "# Forward fill missing values within the filtered DataFrame\n",
    "filtered_df['CPI'] = filtered_df['CPI'].ffill()\n",
    "\n",
    "# Update the original DataFrame with the modified values\n",
    "merged_df_2.update(filtered_df)\n",
    "merged_df_2"
   ],
   "metadata": {
    "collapsed": false,
    "ExecuteTime": {
     "end_time": "2023-11-30T16:49:42.299590Z",
     "start_time": "2023-11-30T16:49:42.245574600Z"
    }
   }
  },
  {
   "cell_type": "code",
   "execution_count": 792,
   "outputs": [
    {
     "data": {
      "text/plain": "Date          0\nPrice         0\nMonth         0\nYear          0\nReal_GDP      0\nCPI         237\ndtype: int64"
     },
     "execution_count": 792,
     "metadata": {},
     "output_type": "execute_result"
    }
   ],
   "source": [
    "merged_df_2.isnull().sum()"
   ],
   "metadata": {
    "collapsed": false,
    "ExecuteTime": {
     "end_time": "2023-11-30T16:49:42.697740700Z",
     "start_time": "2023-11-30T16:49:42.647820Z"
    }
   }
  },
  {
   "cell_type": "code",
   "source": [
    "# Set a constant value for missing 'CPI' in the year 2023\n",
    "constant_value_CPI_2023 = 307.0\n",
    "# Fill the missing 'CPI' values with the constant value for 2023\n",
    "merged_df_2['CPI'] = merged_df_2['CPI'].fillna(\n",
    "    merged_df_2['Year'].apply(lambda x: constant_value_CPI_2023 if x == 2023 else np.nan))\n",
    "\n",
    "merged_df_2"
   ],
   "metadata": {
    "colab": {
     "base_uri": "https://localhost:8080/",
     "height": 423
    },
    "id": "4OYPpR4CBuro",
    "outputId": "ccec38dd-68f2-4d5e-90f8-00cd8a5eb832",
    "ExecuteTime": {
     "end_time": "2023-11-30T16:49:43.072012200Z",
     "start_time": "2023-11-30T16:49:43.018281800Z"
    }
   },
   "execution_count": 793,
   "outputs": [
    {
     "data": {
      "text/plain": "           Date   Price  Month    Year   Real_GDP    CPI\n0    2000-01-04  0.8480    1.0  2000.0  14096.033  168.8\n1    2000-01-05  0.8565    1.0  2000.0  14096.033  168.8\n2    2000-01-06  0.8530    1.0  2000.0  14096.033  168.8\n3    2000-01-07  0.8540    1.0  2000.0  14096.033  168.8\n4    2000-01-10  0.8465    1.0  2000.0  14096.033  168.8\n...         ...     ...    ...     ...        ...    ...\n6079 2023-11-24  3.8205   11.0  2023.0  19374.000  307.0\n6080 2023-11-27  3.7890   11.0  2023.0  19374.000  307.0\n6081 2023-11-28  3.8285   11.0  2023.0  19374.000  307.0\n6082 2023-11-29  3.8255   11.0  2023.0  19374.000  307.0\n6083 2023-11-30  3.8213   11.0  2023.0  19374.000  307.0\n\n[6084 rows x 6 columns]",
      "text/html": "<div>\n<style scoped>\n    .dataframe tbody tr th:only-of-type {\n        vertical-align: middle;\n    }\n\n    .dataframe tbody tr th {\n        vertical-align: top;\n    }\n\n    .dataframe thead th {\n        text-align: right;\n    }\n</style>\n<table border=\"1\" class=\"dataframe\">\n  <thead>\n    <tr style=\"text-align: right;\">\n      <th></th>\n      <th>Date</th>\n      <th>Price</th>\n      <th>Month</th>\n      <th>Year</th>\n      <th>Real_GDP</th>\n      <th>CPI</th>\n    </tr>\n  </thead>\n  <tbody>\n    <tr>\n      <th>0</th>\n      <td>2000-01-04</td>\n      <td>0.8480</td>\n      <td>1.0</td>\n      <td>2000.0</td>\n      <td>14096.033</td>\n      <td>168.8</td>\n    </tr>\n    <tr>\n      <th>1</th>\n      <td>2000-01-05</td>\n      <td>0.8565</td>\n      <td>1.0</td>\n      <td>2000.0</td>\n      <td>14096.033</td>\n      <td>168.8</td>\n    </tr>\n    <tr>\n      <th>2</th>\n      <td>2000-01-06</td>\n      <td>0.8530</td>\n      <td>1.0</td>\n      <td>2000.0</td>\n      <td>14096.033</td>\n      <td>168.8</td>\n    </tr>\n    <tr>\n      <th>3</th>\n      <td>2000-01-07</td>\n      <td>0.8540</td>\n      <td>1.0</td>\n      <td>2000.0</td>\n      <td>14096.033</td>\n      <td>168.8</td>\n    </tr>\n    <tr>\n      <th>4</th>\n      <td>2000-01-10</td>\n      <td>0.8465</td>\n      <td>1.0</td>\n      <td>2000.0</td>\n      <td>14096.033</td>\n      <td>168.8</td>\n    </tr>\n    <tr>\n      <th>...</th>\n      <td>...</td>\n      <td>...</td>\n      <td>...</td>\n      <td>...</td>\n      <td>...</td>\n      <td>...</td>\n    </tr>\n    <tr>\n      <th>6079</th>\n      <td>2023-11-24</td>\n      <td>3.8205</td>\n      <td>11.0</td>\n      <td>2023.0</td>\n      <td>19374.000</td>\n      <td>307.0</td>\n    </tr>\n    <tr>\n      <th>6080</th>\n      <td>2023-11-27</td>\n      <td>3.7890</td>\n      <td>11.0</td>\n      <td>2023.0</td>\n      <td>19374.000</td>\n      <td>307.0</td>\n    </tr>\n    <tr>\n      <th>6081</th>\n      <td>2023-11-28</td>\n      <td>3.8285</td>\n      <td>11.0</td>\n      <td>2023.0</td>\n      <td>19374.000</td>\n      <td>307.0</td>\n    </tr>\n    <tr>\n      <th>6082</th>\n      <td>2023-11-29</td>\n      <td>3.8255</td>\n      <td>11.0</td>\n      <td>2023.0</td>\n      <td>19374.000</td>\n      <td>307.0</td>\n    </tr>\n    <tr>\n      <th>6083</th>\n      <td>2023-11-30</td>\n      <td>3.8213</td>\n      <td>11.0</td>\n      <td>2023.0</td>\n      <td>19374.000</td>\n      <td>307.0</td>\n    </tr>\n  </tbody>\n</table>\n<p>6084 rows × 6 columns</p>\n</div>"
     },
     "execution_count": 793,
     "metadata": {},
     "output_type": "execute_result"
    }
   ]
  },
  {
   "cell_type": "code",
   "source": [
    "merged_df_2.head(20)"
   ],
   "metadata": {
    "colab": {
     "base_uri": "https://localhost:8080/",
     "height": 676
    },
    "id": "FhvXNFftC2M2",
    "outputId": "dea42568-1f34-49a7-ad5e-7abd5193f408",
    "ExecuteTime": {
     "end_time": "2023-11-30T16:49:43.417818200Z",
     "start_time": "2023-11-30T16:49:43.359286200Z"
    }
   },
   "execution_count": 794,
   "outputs": [
    {
     "data": {
      "text/plain": "         Date   Price  Month    Year   Real_GDP    CPI\n0  2000-01-04  0.8480    1.0  2000.0  14096.033  168.8\n1  2000-01-05  0.8565    1.0  2000.0  14096.033  168.8\n2  2000-01-06  0.8530    1.0  2000.0  14096.033  168.8\n3  2000-01-07  0.8540    1.0  2000.0  14096.033  168.8\n4  2000-01-10  0.8465    1.0  2000.0  14096.033  168.8\n5  2000-01-11  0.8435    1.0  2000.0  14096.033  168.8\n6  2000-01-12  0.8660    1.0  2000.0  14096.033  168.8\n7  2000-01-13  0.8565    1.0  2000.0  14096.033  168.8\n8  2000-01-14  0.8625    1.0  2000.0  14096.033  168.8\n9  2000-01-18  0.8660    1.0  2000.0  14096.033  168.8\n10 2000-01-19  0.8825    1.0  2000.0  14096.033  168.8\n11 2000-01-20  0.8730    1.0  2000.0  14096.033  168.8\n12 2000-01-21  0.8730    1.0  2000.0  14096.033  168.8\n13 2000-01-24  0.8565    1.0  2000.0  14096.033  168.8\n14 2000-01-25  0.8425    1.0  2000.0  14096.033  168.8\n15 2000-01-26  0.8415    1.0  2000.0  14096.033  168.8\n16 2000-01-27  0.8445    1.0  2000.0  14096.033  168.8\n17 2000-01-28  0.8400    1.0  2000.0  14096.033  168.8\n18 2000-01-31  0.8545    1.0  2000.0  14096.033  168.8\n19 2000-02-01  0.8480    2.0  2000.0  14096.033  169.8",
      "text/html": "<div>\n<style scoped>\n    .dataframe tbody tr th:only-of-type {\n        vertical-align: middle;\n    }\n\n    .dataframe tbody tr th {\n        vertical-align: top;\n    }\n\n    .dataframe thead th {\n        text-align: right;\n    }\n</style>\n<table border=\"1\" class=\"dataframe\">\n  <thead>\n    <tr style=\"text-align: right;\">\n      <th></th>\n      <th>Date</th>\n      <th>Price</th>\n      <th>Month</th>\n      <th>Year</th>\n      <th>Real_GDP</th>\n      <th>CPI</th>\n    </tr>\n  </thead>\n  <tbody>\n    <tr>\n      <th>0</th>\n      <td>2000-01-04</td>\n      <td>0.8480</td>\n      <td>1.0</td>\n      <td>2000.0</td>\n      <td>14096.033</td>\n      <td>168.8</td>\n    </tr>\n    <tr>\n      <th>1</th>\n      <td>2000-01-05</td>\n      <td>0.8565</td>\n      <td>1.0</td>\n      <td>2000.0</td>\n      <td>14096.033</td>\n      <td>168.8</td>\n    </tr>\n    <tr>\n      <th>2</th>\n      <td>2000-01-06</td>\n      <td>0.8530</td>\n      <td>1.0</td>\n      <td>2000.0</td>\n      <td>14096.033</td>\n      <td>168.8</td>\n    </tr>\n    <tr>\n      <th>3</th>\n      <td>2000-01-07</td>\n      <td>0.8540</td>\n      <td>1.0</td>\n      <td>2000.0</td>\n      <td>14096.033</td>\n      <td>168.8</td>\n    </tr>\n    <tr>\n      <th>4</th>\n      <td>2000-01-10</td>\n      <td>0.8465</td>\n      <td>1.0</td>\n      <td>2000.0</td>\n      <td>14096.033</td>\n      <td>168.8</td>\n    </tr>\n    <tr>\n      <th>5</th>\n      <td>2000-01-11</td>\n      <td>0.8435</td>\n      <td>1.0</td>\n      <td>2000.0</td>\n      <td>14096.033</td>\n      <td>168.8</td>\n    </tr>\n    <tr>\n      <th>6</th>\n      <td>2000-01-12</td>\n      <td>0.8660</td>\n      <td>1.0</td>\n      <td>2000.0</td>\n      <td>14096.033</td>\n      <td>168.8</td>\n    </tr>\n    <tr>\n      <th>7</th>\n      <td>2000-01-13</td>\n      <td>0.8565</td>\n      <td>1.0</td>\n      <td>2000.0</td>\n      <td>14096.033</td>\n      <td>168.8</td>\n    </tr>\n    <tr>\n      <th>8</th>\n      <td>2000-01-14</td>\n      <td>0.8625</td>\n      <td>1.0</td>\n      <td>2000.0</td>\n      <td>14096.033</td>\n      <td>168.8</td>\n    </tr>\n    <tr>\n      <th>9</th>\n      <td>2000-01-18</td>\n      <td>0.8660</td>\n      <td>1.0</td>\n      <td>2000.0</td>\n      <td>14096.033</td>\n      <td>168.8</td>\n    </tr>\n    <tr>\n      <th>10</th>\n      <td>2000-01-19</td>\n      <td>0.8825</td>\n      <td>1.0</td>\n      <td>2000.0</td>\n      <td>14096.033</td>\n      <td>168.8</td>\n    </tr>\n    <tr>\n      <th>11</th>\n      <td>2000-01-20</td>\n      <td>0.8730</td>\n      <td>1.0</td>\n      <td>2000.0</td>\n      <td>14096.033</td>\n      <td>168.8</td>\n    </tr>\n    <tr>\n      <th>12</th>\n      <td>2000-01-21</td>\n      <td>0.8730</td>\n      <td>1.0</td>\n      <td>2000.0</td>\n      <td>14096.033</td>\n      <td>168.8</td>\n    </tr>\n    <tr>\n      <th>13</th>\n      <td>2000-01-24</td>\n      <td>0.8565</td>\n      <td>1.0</td>\n      <td>2000.0</td>\n      <td>14096.033</td>\n      <td>168.8</td>\n    </tr>\n    <tr>\n      <th>14</th>\n      <td>2000-01-25</td>\n      <td>0.8425</td>\n      <td>1.0</td>\n      <td>2000.0</td>\n      <td>14096.033</td>\n      <td>168.8</td>\n    </tr>\n    <tr>\n      <th>15</th>\n      <td>2000-01-26</td>\n      <td>0.8415</td>\n      <td>1.0</td>\n      <td>2000.0</td>\n      <td>14096.033</td>\n      <td>168.8</td>\n    </tr>\n    <tr>\n      <th>16</th>\n      <td>2000-01-27</td>\n      <td>0.8445</td>\n      <td>1.0</td>\n      <td>2000.0</td>\n      <td>14096.033</td>\n      <td>168.8</td>\n    </tr>\n    <tr>\n      <th>17</th>\n      <td>2000-01-28</td>\n      <td>0.8400</td>\n      <td>1.0</td>\n      <td>2000.0</td>\n      <td>14096.033</td>\n      <td>168.8</td>\n    </tr>\n    <tr>\n      <th>18</th>\n      <td>2000-01-31</td>\n      <td>0.8545</td>\n      <td>1.0</td>\n      <td>2000.0</td>\n      <td>14096.033</td>\n      <td>168.8</td>\n    </tr>\n    <tr>\n      <th>19</th>\n      <td>2000-02-01</td>\n      <td>0.8480</td>\n      <td>2.0</td>\n      <td>2000.0</td>\n      <td>14096.033</td>\n      <td>169.8</td>\n    </tr>\n  </tbody>\n</table>\n</div>"
     },
     "execution_count": 794,
     "metadata": {},
     "output_type": "execute_result"
    }
   ]
  },
  {
   "cell_type": "code",
   "source": [
    "# Set a constant value for missing 'CPI' in the year 2023\n",
    "#constant_value_CPI_jan_2000 = 165.600\n",
    "# Fill the missing 'CPI' values with the constant value for 2023\n",
    "#merged_df_2['CPI'] = merged_df_2['CPI'].fillna(\n",
    "    #merged_df_2['Year'].apply(lambda x: constant_value_CPI_jan_2000 if x == 2000 else np.nan))\n",
    "\n",
    "#merged_df_2"
   ],
   "metadata": {
    "colab": {
     "base_uri": "https://localhost:8080/",
     "height": 423
    },
    "id": "qUrhMTNUENCA",
    "outputId": "177b2977-7d1f-425a-d6a6-25d7703be62f",
    "ExecuteTime": {
     "end_time": "2023-11-30T16:49:43.838556100Z",
     "start_time": "2023-11-30T16:49:43.723059500Z"
    }
   },
   "execution_count": 795,
   "outputs": []
  },
  {
   "cell_type": "code",
   "source": [
    "# Third Merge data frames based on a common key\n",
    "merged_df_3 = pd.merge(merged_df_2, df_inf, left_on='Year', right_on='Year', how='outer')\n",
    "merged_df_3"
   ],
   "metadata": {
    "colab": {
     "base_uri": "https://localhost:8080/",
     "height": 423
    },
    "id": "aQxSOFD8Ezq_",
    "outputId": "9c0cd701-febc-4df3-f2b7-99b3d246ede3",
    "ExecuteTime": {
     "end_time": "2023-11-30T16:49:44.132461300Z",
     "start_time": "2023-11-30T16:49:44.089921700Z"
    }
   },
   "execution_count": 796,
   "outputs": [
    {
     "data": {
      "text/plain": "         Date_x   Price  Month    Year   Real_GDP    CPI     Date_y  \\\n0    2000-01-04  0.8480    1.0  2000.0  14096.033  168.8 2000-01-01   \n1    2000-01-05  0.8565    1.0  2000.0  14096.033  168.8 2000-01-01   \n2    2000-01-06  0.8530    1.0  2000.0  14096.033  168.8 2000-01-01   \n3    2000-01-07  0.8540    1.0  2000.0  14096.033  168.8 2000-01-01   \n4    2000-01-10  0.8465    1.0  2000.0  14096.033  168.8 2000-01-01   \n...         ...     ...    ...     ...        ...    ...        ...   \n6079 2023-11-24  3.8205   11.0  2023.0  19374.000  307.0        NaT   \n6080 2023-11-27  3.7890   11.0  2023.0  19374.000  307.0        NaT   \n6081 2023-11-28  3.8285   11.0  2023.0  19374.000  307.0        NaT   \n6082 2023-11-29  3.8255   11.0  2023.0  19374.000  307.0        NaT   \n6083 2023-11-30  3.8213   11.0  2023.0  19374.000  307.0        NaT   \n\n        inflation_rate  \n0     3.37685727149935  \n1     3.37685727149935  \n2     3.37685727149935  \n3     3.37685727149935  \n4     3.37685727149935  \n...                ...  \n6079               NaN  \n6080               NaN  \n6081               NaN  \n6082               NaN  \n6083               NaN  \n\n[6084 rows x 8 columns]",
      "text/html": "<div>\n<style scoped>\n    .dataframe tbody tr th:only-of-type {\n        vertical-align: middle;\n    }\n\n    .dataframe tbody tr th {\n        vertical-align: top;\n    }\n\n    .dataframe thead th {\n        text-align: right;\n    }\n</style>\n<table border=\"1\" class=\"dataframe\">\n  <thead>\n    <tr style=\"text-align: right;\">\n      <th></th>\n      <th>Date_x</th>\n      <th>Price</th>\n      <th>Month</th>\n      <th>Year</th>\n      <th>Real_GDP</th>\n      <th>CPI</th>\n      <th>Date_y</th>\n      <th>inflation_rate</th>\n    </tr>\n  </thead>\n  <tbody>\n    <tr>\n      <th>0</th>\n      <td>2000-01-04</td>\n      <td>0.8480</td>\n      <td>1.0</td>\n      <td>2000.0</td>\n      <td>14096.033</td>\n      <td>168.8</td>\n      <td>2000-01-01</td>\n      <td>3.37685727149935</td>\n    </tr>\n    <tr>\n      <th>1</th>\n      <td>2000-01-05</td>\n      <td>0.8565</td>\n      <td>1.0</td>\n      <td>2000.0</td>\n      <td>14096.033</td>\n      <td>168.8</td>\n      <td>2000-01-01</td>\n      <td>3.37685727149935</td>\n    </tr>\n    <tr>\n      <th>2</th>\n      <td>2000-01-06</td>\n      <td>0.8530</td>\n      <td>1.0</td>\n      <td>2000.0</td>\n      <td>14096.033</td>\n      <td>168.8</td>\n      <td>2000-01-01</td>\n      <td>3.37685727149935</td>\n    </tr>\n    <tr>\n      <th>3</th>\n      <td>2000-01-07</td>\n      <td>0.8540</td>\n      <td>1.0</td>\n      <td>2000.0</td>\n      <td>14096.033</td>\n      <td>168.8</td>\n      <td>2000-01-01</td>\n      <td>3.37685727149935</td>\n    </tr>\n    <tr>\n      <th>4</th>\n      <td>2000-01-10</td>\n      <td>0.8465</td>\n      <td>1.0</td>\n      <td>2000.0</td>\n      <td>14096.033</td>\n      <td>168.8</td>\n      <td>2000-01-01</td>\n      <td>3.37685727149935</td>\n    </tr>\n    <tr>\n      <th>...</th>\n      <td>...</td>\n      <td>...</td>\n      <td>...</td>\n      <td>...</td>\n      <td>...</td>\n      <td>...</td>\n      <td>...</td>\n      <td>...</td>\n    </tr>\n    <tr>\n      <th>6079</th>\n      <td>2023-11-24</td>\n      <td>3.8205</td>\n      <td>11.0</td>\n      <td>2023.0</td>\n      <td>19374.000</td>\n      <td>307.0</td>\n      <td>NaT</td>\n      <td>NaN</td>\n    </tr>\n    <tr>\n      <th>6080</th>\n      <td>2023-11-27</td>\n      <td>3.7890</td>\n      <td>11.0</td>\n      <td>2023.0</td>\n      <td>19374.000</td>\n      <td>307.0</td>\n      <td>NaT</td>\n      <td>NaN</td>\n    </tr>\n    <tr>\n      <th>6081</th>\n      <td>2023-11-28</td>\n      <td>3.8285</td>\n      <td>11.0</td>\n      <td>2023.0</td>\n      <td>19374.000</td>\n      <td>307.0</td>\n      <td>NaT</td>\n      <td>NaN</td>\n    </tr>\n    <tr>\n      <th>6082</th>\n      <td>2023-11-29</td>\n      <td>3.8255</td>\n      <td>11.0</td>\n      <td>2023.0</td>\n      <td>19374.000</td>\n      <td>307.0</td>\n      <td>NaT</td>\n      <td>NaN</td>\n    </tr>\n    <tr>\n      <th>6083</th>\n      <td>2023-11-30</td>\n      <td>3.8213</td>\n      <td>11.0</td>\n      <td>2023.0</td>\n      <td>19374.000</td>\n      <td>307.0</td>\n      <td>NaT</td>\n      <td>NaN</td>\n    </tr>\n  </tbody>\n</table>\n<p>6084 rows × 8 columns</p>\n</div>"
     },
     "execution_count": 796,
     "metadata": {},
     "output_type": "execute_result"
    }
   ]
  },
  {
   "cell_type": "code",
   "source": [
    "merged_df_3 = merged_df_3.drop(['Date_y'], axis=1)\n",
    "\n",
    "merged_df_3.rename(columns = {'Date_x': 'Date'}, inplace = True)\n",
    "\n",
    "merged_df_3"
   ],
   "metadata": {
    "colab": {
     "base_uri": "https://localhost:8080/",
     "height": 423
    },
    "id": "ueh72u1FF_8z",
    "outputId": "6b43fd22-97ef-4114-ba38-e6a828677071",
    "ExecuteTime": {
     "end_time": "2023-11-30T16:49:44.482540Z",
     "start_time": "2023-11-30T16:49:44.412114800Z"
    }
   },
   "execution_count": 797,
   "outputs": [
    {
     "data": {
      "text/plain": "           Date   Price  Month    Year   Real_GDP    CPI    inflation_rate\n0    2000-01-04  0.8480    1.0  2000.0  14096.033  168.8  3.37685727149935\n1    2000-01-05  0.8565    1.0  2000.0  14096.033  168.8  3.37685727149935\n2    2000-01-06  0.8530    1.0  2000.0  14096.033  168.8  3.37685727149935\n3    2000-01-07  0.8540    1.0  2000.0  14096.033  168.8  3.37685727149935\n4    2000-01-10  0.8465    1.0  2000.0  14096.033  168.8  3.37685727149935\n...         ...     ...    ...     ...        ...    ...               ...\n6079 2023-11-24  3.8205   11.0  2023.0  19374.000  307.0               NaN\n6080 2023-11-27  3.7890   11.0  2023.0  19374.000  307.0               NaN\n6081 2023-11-28  3.8285   11.0  2023.0  19374.000  307.0               NaN\n6082 2023-11-29  3.8255   11.0  2023.0  19374.000  307.0               NaN\n6083 2023-11-30  3.8213   11.0  2023.0  19374.000  307.0               NaN\n\n[6084 rows x 7 columns]",
      "text/html": "<div>\n<style scoped>\n    .dataframe tbody tr th:only-of-type {\n        vertical-align: middle;\n    }\n\n    .dataframe tbody tr th {\n        vertical-align: top;\n    }\n\n    .dataframe thead th {\n        text-align: right;\n    }\n</style>\n<table border=\"1\" class=\"dataframe\">\n  <thead>\n    <tr style=\"text-align: right;\">\n      <th></th>\n      <th>Date</th>\n      <th>Price</th>\n      <th>Month</th>\n      <th>Year</th>\n      <th>Real_GDP</th>\n      <th>CPI</th>\n      <th>inflation_rate</th>\n    </tr>\n  </thead>\n  <tbody>\n    <tr>\n      <th>0</th>\n      <td>2000-01-04</td>\n      <td>0.8480</td>\n      <td>1.0</td>\n      <td>2000.0</td>\n      <td>14096.033</td>\n      <td>168.8</td>\n      <td>3.37685727149935</td>\n    </tr>\n    <tr>\n      <th>1</th>\n      <td>2000-01-05</td>\n      <td>0.8565</td>\n      <td>1.0</td>\n      <td>2000.0</td>\n      <td>14096.033</td>\n      <td>168.8</td>\n      <td>3.37685727149935</td>\n    </tr>\n    <tr>\n      <th>2</th>\n      <td>2000-01-06</td>\n      <td>0.8530</td>\n      <td>1.0</td>\n      <td>2000.0</td>\n      <td>14096.033</td>\n      <td>168.8</td>\n      <td>3.37685727149935</td>\n    </tr>\n    <tr>\n      <th>3</th>\n      <td>2000-01-07</td>\n      <td>0.8540</td>\n      <td>1.0</td>\n      <td>2000.0</td>\n      <td>14096.033</td>\n      <td>168.8</td>\n      <td>3.37685727149935</td>\n    </tr>\n    <tr>\n      <th>4</th>\n      <td>2000-01-10</td>\n      <td>0.8465</td>\n      <td>1.0</td>\n      <td>2000.0</td>\n      <td>14096.033</td>\n      <td>168.8</td>\n      <td>3.37685727149935</td>\n    </tr>\n    <tr>\n      <th>...</th>\n      <td>...</td>\n      <td>...</td>\n      <td>...</td>\n      <td>...</td>\n      <td>...</td>\n      <td>...</td>\n      <td>...</td>\n    </tr>\n    <tr>\n      <th>6079</th>\n      <td>2023-11-24</td>\n      <td>3.8205</td>\n      <td>11.0</td>\n      <td>2023.0</td>\n      <td>19374.000</td>\n      <td>307.0</td>\n      <td>NaN</td>\n    </tr>\n    <tr>\n      <th>6080</th>\n      <td>2023-11-27</td>\n      <td>3.7890</td>\n      <td>11.0</td>\n      <td>2023.0</td>\n      <td>19374.000</td>\n      <td>307.0</td>\n      <td>NaN</td>\n    </tr>\n    <tr>\n      <th>6081</th>\n      <td>2023-11-28</td>\n      <td>3.8285</td>\n      <td>11.0</td>\n      <td>2023.0</td>\n      <td>19374.000</td>\n      <td>307.0</td>\n      <td>NaN</td>\n    </tr>\n    <tr>\n      <th>6082</th>\n      <td>2023-11-29</td>\n      <td>3.8255</td>\n      <td>11.0</td>\n      <td>2023.0</td>\n      <td>19374.000</td>\n      <td>307.0</td>\n      <td>NaN</td>\n    </tr>\n    <tr>\n      <th>6083</th>\n      <td>2023-11-30</td>\n      <td>3.8213</td>\n      <td>11.0</td>\n      <td>2023.0</td>\n      <td>19374.000</td>\n      <td>307.0</td>\n      <td>NaN</td>\n    </tr>\n  </tbody>\n</table>\n<p>6084 rows × 7 columns</p>\n</div>"
     },
     "execution_count": 797,
     "metadata": {},
     "output_type": "execute_result"
    }
   ]
  },
  {
   "cell_type": "code",
   "source": [
    "# Forward fill the missing Real_GDP values by grouping them by Year\n",
    "merged_df_3['inflation_rate'] = merged_df_3.groupby('Year')['inflation_rate'].fillna(method='ffill')\n",
    "merged_df_3"
   ],
   "metadata": {
    "colab": {
     "base_uri": "https://localhost:8080/",
     "height": 423
    },
    "id": "TBTB9x5QGbOR",
    "outputId": "02d8cb2c-66cc-4336-970d-a969725f2056",
    "ExecuteTime": {
     "end_time": "2023-11-30T16:49:44.850661800Z",
     "start_time": "2023-11-30T16:49:44.730800800Z"
    }
   },
   "execution_count": 798,
   "outputs": [
    {
     "data": {
      "text/plain": "           Date   Price  Month    Year   Real_GDP    CPI    inflation_rate\n0    2000-01-04  0.8480    1.0  2000.0  14096.033  168.8  3.37685727149935\n1    2000-01-05  0.8565    1.0  2000.0  14096.033  168.8  3.37685727149935\n2    2000-01-06  0.8530    1.0  2000.0  14096.033  168.8  3.37685727149935\n3    2000-01-07  0.8540    1.0  2000.0  14096.033  168.8  3.37685727149935\n4    2000-01-10  0.8465    1.0  2000.0  14096.033  168.8  3.37685727149935\n...         ...     ...    ...     ...        ...    ...               ...\n6079 2023-11-24  3.8205   11.0  2023.0  19374.000  307.0               NaN\n6080 2023-11-27  3.7890   11.0  2023.0  19374.000  307.0               NaN\n6081 2023-11-28  3.8285   11.0  2023.0  19374.000  307.0               NaN\n6082 2023-11-29  3.8255   11.0  2023.0  19374.000  307.0               NaN\n6083 2023-11-30  3.8213   11.0  2023.0  19374.000  307.0               NaN\n\n[6084 rows x 7 columns]",
      "text/html": "<div>\n<style scoped>\n    .dataframe tbody tr th:only-of-type {\n        vertical-align: middle;\n    }\n\n    .dataframe tbody tr th {\n        vertical-align: top;\n    }\n\n    .dataframe thead th {\n        text-align: right;\n    }\n</style>\n<table border=\"1\" class=\"dataframe\">\n  <thead>\n    <tr style=\"text-align: right;\">\n      <th></th>\n      <th>Date</th>\n      <th>Price</th>\n      <th>Month</th>\n      <th>Year</th>\n      <th>Real_GDP</th>\n      <th>CPI</th>\n      <th>inflation_rate</th>\n    </tr>\n  </thead>\n  <tbody>\n    <tr>\n      <th>0</th>\n      <td>2000-01-04</td>\n      <td>0.8480</td>\n      <td>1.0</td>\n      <td>2000.0</td>\n      <td>14096.033</td>\n      <td>168.8</td>\n      <td>3.37685727149935</td>\n    </tr>\n    <tr>\n      <th>1</th>\n      <td>2000-01-05</td>\n      <td>0.8565</td>\n      <td>1.0</td>\n      <td>2000.0</td>\n      <td>14096.033</td>\n      <td>168.8</td>\n      <td>3.37685727149935</td>\n    </tr>\n    <tr>\n      <th>2</th>\n      <td>2000-01-06</td>\n      <td>0.8530</td>\n      <td>1.0</td>\n      <td>2000.0</td>\n      <td>14096.033</td>\n      <td>168.8</td>\n      <td>3.37685727149935</td>\n    </tr>\n    <tr>\n      <th>3</th>\n      <td>2000-01-07</td>\n      <td>0.8540</td>\n      <td>1.0</td>\n      <td>2000.0</td>\n      <td>14096.033</td>\n      <td>168.8</td>\n      <td>3.37685727149935</td>\n    </tr>\n    <tr>\n      <th>4</th>\n      <td>2000-01-10</td>\n      <td>0.8465</td>\n      <td>1.0</td>\n      <td>2000.0</td>\n      <td>14096.033</td>\n      <td>168.8</td>\n      <td>3.37685727149935</td>\n    </tr>\n    <tr>\n      <th>...</th>\n      <td>...</td>\n      <td>...</td>\n      <td>...</td>\n      <td>...</td>\n      <td>...</td>\n      <td>...</td>\n      <td>...</td>\n    </tr>\n    <tr>\n      <th>6079</th>\n      <td>2023-11-24</td>\n      <td>3.8205</td>\n      <td>11.0</td>\n      <td>2023.0</td>\n      <td>19374.000</td>\n      <td>307.0</td>\n      <td>NaN</td>\n    </tr>\n    <tr>\n      <th>6080</th>\n      <td>2023-11-27</td>\n      <td>3.7890</td>\n      <td>11.0</td>\n      <td>2023.0</td>\n      <td>19374.000</td>\n      <td>307.0</td>\n      <td>NaN</td>\n    </tr>\n    <tr>\n      <th>6081</th>\n      <td>2023-11-28</td>\n      <td>3.8285</td>\n      <td>11.0</td>\n      <td>2023.0</td>\n      <td>19374.000</td>\n      <td>307.0</td>\n      <td>NaN</td>\n    </tr>\n    <tr>\n      <th>6082</th>\n      <td>2023-11-29</td>\n      <td>3.8255</td>\n      <td>11.0</td>\n      <td>2023.0</td>\n      <td>19374.000</td>\n      <td>307.0</td>\n      <td>NaN</td>\n    </tr>\n    <tr>\n      <th>6083</th>\n      <td>2023-11-30</td>\n      <td>3.8213</td>\n      <td>11.0</td>\n      <td>2023.0</td>\n      <td>19374.000</td>\n      <td>307.0</td>\n      <td>NaN</td>\n    </tr>\n  </tbody>\n</table>\n<p>6084 rows × 7 columns</p>\n</div>"
     },
     "execution_count": 798,
     "metadata": {},
     "output_type": "execute_result"
    }
   ]
  },
  {
   "cell_type": "code",
   "source": [
    "# Set a constant value for missing 'inflation_rate' in the year 2023\n",
    "inflation_rate_2023 = 6.6\n",
    "\n",
    "# Fill the missing 'inflation_rate' values with the constant value for 2023\n",
    "merged_df_3['inflation_rate'] = merged_df_3['inflation_rate'].fillna(\n",
    "    merged_df_3['Year'].apply(lambda x: inflation_rate_2023 if x == 2023 else np.nan))\n",
    "\n",
    "merged_df_3"
   ],
   "metadata": {
    "colab": {
     "base_uri": "https://localhost:8080/",
     "height": 423
    },
    "id": "tustFmvLGnbt",
    "outputId": "870d7b97-4a86-45f7-cc47-77a868439aa9",
    "ExecuteTime": {
     "end_time": "2023-11-30T16:49:45.147648400Z",
     "start_time": "2023-11-30T16:49:45.066595900Z"
    }
   },
   "execution_count": 799,
   "outputs": [
    {
     "data": {
      "text/plain": "           Date   Price  Month    Year   Real_GDP    CPI    inflation_rate\n0    2000-01-04  0.8480    1.0  2000.0  14096.033  168.8  3.37685727149935\n1    2000-01-05  0.8565    1.0  2000.0  14096.033  168.8  3.37685727149935\n2    2000-01-06  0.8530    1.0  2000.0  14096.033  168.8  3.37685727149935\n3    2000-01-07  0.8540    1.0  2000.0  14096.033  168.8  3.37685727149935\n4    2000-01-10  0.8465    1.0  2000.0  14096.033  168.8  3.37685727149935\n...         ...     ...    ...     ...        ...    ...               ...\n6079 2023-11-24  3.8205   11.0  2023.0  19374.000  307.0               6.6\n6080 2023-11-27  3.7890   11.0  2023.0  19374.000  307.0               6.6\n6081 2023-11-28  3.8285   11.0  2023.0  19374.000  307.0               6.6\n6082 2023-11-29  3.8255   11.0  2023.0  19374.000  307.0               6.6\n6083 2023-11-30  3.8213   11.0  2023.0  19374.000  307.0               6.6\n\n[6084 rows x 7 columns]",
      "text/html": "<div>\n<style scoped>\n    .dataframe tbody tr th:only-of-type {\n        vertical-align: middle;\n    }\n\n    .dataframe tbody tr th {\n        vertical-align: top;\n    }\n\n    .dataframe thead th {\n        text-align: right;\n    }\n</style>\n<table border=\"1\" class=\"dataframe\">\n  <thead>\n    <tr style=\"text-align: right;\">\n      <th></th>\n      <th>Date</th>\n      <th>Price</th>\n      <th>Month</th>\n      <th>Year</th>\n      <th>Real_GDP</th>\n      <th>CPI</th>\n      <th>inflation_rate</th>\n    </tr>\n  </thead>\n  <tbody>\n    <tr>\n      <th>0</th>\n      <td>2000-01-04</td>\n      <td>0.8480</td>\n      <td>1.0</td>\n      <td>2000.0</td>\n      <td>14096.033</td>\n      <td>168.8</td>\n      <td>3.37685727149935</td>\n    </tr>\n    <tr>\n      <th>1</th>\n      <td>2000-01-05</td>\n      <td>0.8565</td>\n      <td>1.0</td>\n      <td>2000.0</td>\n      <td>14096.033</td>\n      <td>168.8</td>\n      <td>3.37685727149935</td>\n    </tr>\n    <tr>\n      <th>2</th>\n      <td>2000-01-06</td>\n      <td>0.8530</td>\n      <td>1.0</td>\n      <td>2000.0</td>\n      <td>14096.033</td>\n      <td>168.8</td>\n      <td>3.37685727149935</td>\n    </tr>\n    <tr>\n      <th>3</th>\n      <td>2000-01-07</td>\n      <td>0.8540</td>\n      <td>1.0</td>\n      <td>2000.0</td>\n      <td>14096.033</td>\n      <td>168.8</td>\n      <td>3.37685727149935</td>\n    </tr>\n    <tr>\n      <th>4</th>\n      <td>2000-01-10</td>\n      <td>0.8465</td>\n      <td>1.0</td>\n      <td>2000.0</td>\n      <td>14096.033</td>\n      <td>168.8</td>\n      <td>3.37685727149935</td>\n    </tr>\n    <tr>\n      <th>...</th>\n      <td>...</td>\n      <td>...</td>\n      <td>...</td>\n      <td>...</td>\n      <td>...</td>\n      <td>...</td>\n      <td>...</td>\n    </tr>\n    <tr>\n      <th>6079</th>\n      <td>2023-11-24</td>\n      <td>3.8205</td>\n      <td>11.0</td>\n      <td>2023.0</td>\n      <td>19374.000</td>\n      <td>307.0</td>\n      <td>6.6</td>\n    </tr>\n    <tr>\n      <th>6080</th>\n      <td>2023-11-27</td>\n      <td>3.7890</td>\n      <td>11.0</td>\n      <td>2023.0</td>\n      <td>19374.000</td>\n      <td>307.0</td>\n      <td>6.6</td>\n    </tr>\n    <tr>\n      <th>6081</th>\n      <td>2023-11-28</td>\n      <td>3.8285</td>\n      <td>11.0</td>\n      <td>2023.0</td>\n      <td>19374.000</td>\n      <td>307.0</td>\n      <td>6.6</td>\n    </tr>\n    <tr>\n      <th>6082</th>\n      <td>2023-11-29</td>\n      <td>3.8255</td>\n      <td>11.0</td>\n      <td>2023.0</td>\n      <td>19374.000</td>\n      <td>307.0</td>\n      <td>6.6</td>\n    </tr>\n    <tr>\n      <th>6083</th>\n      <td>2023-11-30</td>\n      <td>3.8213</td>\n      <td>11.0</td>\n      <td>2023.0</td>\n      <td>19374.000</td>\n      <td>307.0</td>\n      <td>6.6</td>\n    </tr>\n  </tbody>\n</table>\n<p>6084 rows × 7 columns</p>\n</div>"
     },
     "execution_count": 799,
     "metadata": {},
     "output_type": "execute_result"
    }
   ]
  },
  {
   "cell_type": "code",
   "source": [
    "# Final Merge\n",
    "final_merged_dataset = pd.merge(merged_df_3, commodity, on='Date', how='left')\n",
    "final_merged_dataset"
   ],
   "metadata": {
    "colab": {
     "base_uri": "https://localhost:8080/",
     "height": 423
    },
    "id": "D7Ra1Bo_IHIu",
    "outputId": "4cae5e37-ad56-4101-8b5f-382584940c72",
    "ExecuteTime": {
     "end_time": "2023-11-30T16:49:45.528844700Z",
     "start_time": "2023-11-30T16:49:45.429039100Z"
    }
   },
   "execution_count": 800,
   "outputs": [
    {
     "data": {
      "text/plain": "           Date   Price  Month    Year   Real_GDP    CPI    inflation_rate  \\\n0    2000-01-04  0.8480    1.0  2000.0  14096.033  168.8  3.37685727149935   \n1    2000-01-05  0.8565    1.0  2000.0  14096.033  168.8  3.37685727149935   \n2    2000-01-06  0.8530    1.0  2000.0  14096.033  168.8  3.37685727149935   \n3    2000-01-07  0.8540    1.0  2000.0  14096.033  168.8  3.37685727149935   \n4    2000-01-10  0.8465    1.0  2000.0  14096.033  168.8  3.37685727149935   \n...         ...     ...    ...     ...        ...    ...               ...   \n6079 2023-11-24  3.8205   11.0  2023.0  19374.000  307.0               6.6   \n6080 2023-11-27  3.7890   11.0  2023.0  19374.000  307.0               6.6   \n6081 2023-11-28  3.8285   11.0  2023.0  19374.000  307.0               6.6   \n6082 2023-11-29  3.8255   11.0  2023.0  19374.000  307.0               6.6   \n6083 2023-11-30  3.8213   11.0  2023.0  19374.000  307.0               6.6   \n\n      PALLFNFINDEXM  \n0               NaN  \n1               NaN  \n2               NaN  \n3               NaN  \n4               NaN  \n...             ...  \n6079            NaN  \n6080            NaN  \n6081            NaN  \n6082            NaN  \n6083            NaN  \n\n[6084 rows x 8 columns]",
      "text/html": "<div>\n<style scoped>\n    .dataframe tbody tr th:only-of-type {\n        vertical-align: middle;\n    }\n\n    .dataframe tbody tr th {\n        vertical-align: top;\n    }\n\n    .dataframe thead th {\n        text-align: right;\n    }\n</style>\n<table border=\"1\" class=\"dataframe\">\n  <thead>\n    <tr style=\"text-align: right;\">\n      <th></th>\n      <th>Date</th>\n      <th>Price</th>\n      <th>Month</th>\n      <th>Year</th>\n      <th>Real_GDP</th>\n      <th>CPI</th>\n      <th>inflation_rate</th>\n      <th>PALLFNFINDEXM</th>\n    </tr>\n  </thead>\n  <tbody>\n    <tr>\n      <th>0</th>\n      <td>2000-01-04</td>\n      <td>0.8480</td>\n      <td>1.0</td>\n      <td>2000.0</td>\n      <td>14096.033</td>\n      <td>168.8</td>\n      <td>3.37685727149935</td>\n      <td>NaN</td>\n    </tr>\n    <tr>\n      <th>1</th>\n      <td>2000-01-05</td>\n      <td>0.8565</td>\n      <td>1.0</td>\n      <td>2000.0</td>\n      <td>14096.033</td>\n      <td>168.8</td>\n      <td>3.37685727149935</td>\n      <td>NaN</td>\n    </tr>\n    <tr>\n      <th>2</th>\n      <td>2000-01-06</td>\n      <td>0.8530</td>\n      <td>1.0</td>\n      <td>2000.0</td>\n      <td>14096.033</td>\n      <td>168.8</td>\n      <td>3.37685727149935</td>\n      <td>NaN</td>\n    </tr>\n    <tr>\n      <th>3</th>\n      <td>2000-01-07</td>\n      <td>0.8540</td>\n      <td>1.0</td>\n      <td>2000.0</td>\n      <td>14096.033</td>\n      <td>168.8</td>\n      <td>3.37685727149935</td>\n      <td>NaN</td>\n    </tr>\n    <tr>\n      <th>4</th>\n      <td>2000-01-10</td>\n      <td>0.8465</td>\n      <td>1.0</td>\n      <td>2000.0</td>\n      <td>14096.033</td>\n      <td>168.8</td>\n      <td>3.37685727149935</td>\n      <td>NaN</td>\n    </tr>\n    <tr>\n      <th>...</th>\n      <td>...</td>\n      <td>...</td>\n      <td>...</td>\n      <td>...</td>\n      <td>...</td>\n      <td>...</td>\n      <td>...</td>\n      <td>...</td>\n    </tr>\n    <tr>\n      <th>6079</th>\n      <td>2023-11-24</td>\n      <td>3.8205</td>\n      <td>11.0</td>\n      <td>2023.0</td>\n      <td>19374.000</td>\n      <td>307.0</td>\n      <td>6.6</td>\n      <td>NaN</td>\n    </tr>\n    <tr>\n      <th>6080</th>\n      <td>2023-11-27</td>\n      <td>3.7890</td>\n      <td>11.0</td>\n      <td>2023.0</td>\n      <td>19374.000</td>\n      <td>307.0</td>\n      <td>6.6</td>\n      <td>NaN</td>\n    </tr>\n    <tr>\n      <th>6081</th>\n      <td>2023-11-28</td>\n      <td>3.8285</td>\n      <td>11.0</td>\n      <td>2023.0</td>\n      <td>19374.000</td>\n      <td>307.0</td>\n      <td>6.6</td>\n      <td>NaN</td>\n    </tr>\n    <tr>\n      <th>6082</th>\n      <td>2023-11-29</td>\n      <td>3.8255</td>\n      <td>11.0</td>\n      <td>2023.0</td>\n      <td>19374.000</td>\n      <td>307.0</td>\n      <td>6.6</td>\n      <td>NaN</td>\n    </tr>\n    <tr>\n      <th>6083</th>\n      <td>2023-11-30</td>\n      <td>3.8213</td>\n      <td>11.0</td>\n      <td>2023.0</td>\n      <td>19374.000</td>\n      <td>307.0</td>\n      <td>6.6</td>\n      <td>NaN</td>\n    </tr>\n  </tbody>\n</table>\n<p>6084 rows × 8 columns</p>\n</div>"
     },
     "execution_count": 800,
     "metadata": {},
     "output_type": "execute_result"
    }
   ]
  },
  {
   "cell_type": "code",
   "source": [
    "final_merged_dataset['PALLFNFINDEXM'].isnull().sum()"
   ],
   "metadata": {
    "colab": {
     "base_uri": "https://localhost:8080/"
    },
    "id": "K5a6gEolLOcG",
    "outputId": "6083613c-fe56-4308-e7b5-9f30721ba261",
    "ExecuteTime": {
     "end_time": "2023-11-30T16:49:45.963186Z",
     "start_time": "2023-11-30T16:49:45.797204900Z"
    }
   },
   "execution_count": 801,
   "outputs": [
    {
     "data": {
      "text/plain": "5896"
     },
     "execution_count": 801,
     "metadata": {},
     "output_type": "execute_result"
    }
   ]
  },
  {
   "cell_type": "code",
   "source": [
    "# Group by year and month, and transform Indicator1 to fill missing values with the first value of the group\n",
    "final_merged_dataset['PALLFNFINDEXM'] = final_merged_dataset.groupby([final_merged_dataset['Date'].dt.year,\n",
    "                                                 final_merged_dataset['Date'].dt.month])['PALLFNFINDEXM'].transform('first')\n",
    "\n",
    "final_merged_dataset['PALLFNFINDEXM'] = final_merged_dataset['PALLFNFINDEXM'].ffill()\n",
    "final_merged_dataset"
   ],
   "metadata": {
    "colab": {
     "base_uri": "https://localhost:8080/",
     "height": 423
    },
    "id": "byrOnHvSLYZW",
    "outputId": "53574509-5e39-4813-f3b7-d387a1944111",
    "ExecuteTime": {
     "end_time": "2023-11-30T16:49:46.259287700Z",
     "start_time": "2023-11-30T16:49:46.157289300Z"
    }
   },
   "execution_count": 802,
   "outputs": [
    {
     "data": {
      "text/plain": "           Date   Price  Month    Year   Real_GDP    CPI    inflation_rate  \\\n0    2000-01-04  0.8480    1.0  2000.0  14096.033  168.8  3.37685727149935   \n1    2000-01-05  0.8565    1.0  2000.0  14096.033  168.8  3.37685727149935   \n2    2000-01-06  0.8530    1.0  2000.0  14096.033  168.8  3.37685727149935   \n3    2000-01-07  0.8540    1.0  2000.0  14096.033  168.8  3.37685727149935   \n4    2000-01-10  0.8465    1.0  2000.0  14096.033  168.8  3.37685727149935   \n...         ...     ...    ...     ...        ...    ...               ...   \n6079 2023-11-24  3.8205   11.0  2023.0  19374.000  307.0               6.6   \n6080 2023-11-27  3.7890   11.0  2023.0  19374.000  307.0               6.6   \n6081 2023-11-28  3.8285   11.0  2023.0  19374.000  307.0               6.6   \n6082 2023-11-29  3.8255   11.0  2023.0  19374.000  307.0               6.6   \n6083 2023-11-30  3.8213   11.0  2023.0  19374.000  307.0               6.6   \n\n      PALLFNFINDEXM  \n0               NaN  \n1               NaN  \n2               NaN  \n3               NaN  \n4               NaN  \n...             ...  \n6079     168.657489  \n6080     168.657489  \n6081     168.657489  \n6082     168.657489  \n6083     168.657489  \n\n[6084 rows x 8 columns]",
      "text/html": "<div>\n<style scoped>\n    .dataframe tbody tr th:only-of-type {\n        vertical-align: middle;\n    }\n\n    .dataframe tbody tr th {\n        vertical-align: top;\n    }\n\n    .dataframe thead th {\n        text-align: right;\n    }\n</style>\n<table border=\"1\" class=\"dataframe\">\n  <thead>\n    <tr style=\"text-align: right;\">\n      <th></th>\n      <th>Date</th>\n      <th>Price</th>\n      <th>Month</th>\n      <th>Year</th>\n      <th>Real_GDP</th>\n      <th>CPI</th>\n      <th>inflation_rate</th>\n      <th>PALLFNFINDEXM</th>\n    </tr>\n  </thead>\n  <tbody>\n    <tr>\n      <th>0</th>\n      <td>2000-01-04</td>\n      <td>0.8480</td>\n      <td>1.0</td>\n      <td>2000.0</td>\n      <td>14096.033</td>\n      <td>168.8</td>\n      <td>3.37685727149935</td>\n      <td>NaN</td>\n    </tr>\n    <tr>\n      <th>1</th>\n      <td>2000-01-05</td>\n      <td>0.8565</td>\n      <td>1.0</td>\n      <td>2000.0</td>\n      <td>14096.033</td>\n      <td>168.8</td>\n      <td>3.37685727149935</td>\n      <td>NaN</td>\n    </tr>\n    <tr>\n      <th>2</th>\n      <td>2000-01-06</td>\n      <td>0.8530</td>\n      <td>1.0</td>\n      <td>2000.0</td>\n      <td>14096.033</td>\n      <td>168.8</td>\n      <td>3.37685727149935</td>\n      <td>NaN</td>\n    </tr>\n    <tr>\n      <th>3</th>\n      <td>2000-01-07</td>\n      <td>0.8540</td>\n      <td>1.0</td>\n      <td>2000.0</td>\n      <td>14096.033</td>\n      <td>168.8</td>\n      <td>3.37685727149935</td>\n      <td>NaN</td>\n    </tr>\n    <tr>\n      <th>4</th>\n      <td>2000-01-10</td>\n      <td>0.8465</td>\n      <td>1.0</td>\n      <td>2000.0</td>\n      <td>14096.033</td>\n      <td>168.8</td>\n      <td>3.37685727149935</td>\n      <td>NaN</td>\n    </tr>\n    <tr>\n      <th>...</th>\n      <td>...</td>\n      <td>...</td>\n      <td>...</td>\n      <td>...</td>\n      <td>...</td>\n      <td>...</td>\n      <td>...</td>\n      <td>...</td>\n    </tr>\n    <tr>\n      <th>6079</th>\n      <td>2023-11-24</td>\n      <td>3.8205</td>\n      <td>11.0</td>\n      <td>2023.0</td>\n      <td>19374.000</td>\n      <td>307.0</td>\n      <td>6.6</td>\n      <td>168.657489</td>\n    </tr>\n    <tr>\n      <th>6080</th>\n      <td>2023-11-27</td>\n      <td>3.7890</td>\n      <td>11.0</td>\n      <td>2023.0</td>\n      <td>19374.000</td>\n      <td>307.0</td>\n      <td>6.6</td>\n      <td>168.657489</td>\n    </tr>\n    <tr>\n      <th>6081</th>\n      <td>2023-11-28</td>\n      <td>3.8285</td>\n      <td>11.0</td>\n      <td>2023.0</td>\n      <td>19374.000</td>\n      <td>307.0</td>\n      <td>6.6</td>\n      <td>168.657489</td>\n    </tr>\n    <tr>\n      <th>6082</th>\n      <td>2023-11-29</td>\n      <td>3.8255</td>\n      <td>11.0</td>\n      <td>2023.0</td>\n      <td>19374.000</td>\n      <td>307.0</td>\n      <td>6.6</td>\n      <td>168.657489</td>\n    </tr>\n    <tr>\n      <th>6083</th>\n      <td>2023-11-30</td>\n      <td>3.8213</td>\n      <td>11.0</td>\n      <td>2023.0</td>\n      <td>19374.000</td>\n      <td>307.0</td>\n      <td>6.6</td>\n      <td>168.657489</td>\n    </tr>\n  </tbody>\n</table>\n<p>6084 rows × 8 columns</p>\n</div>"
     },
     "execution_count": 802,
     "metadata": {},
     "output_type": "execute_result"
    }
   ]
  },
  {
   "cell_type": "code",
   "source": [
    "final_merged_dataset.head(25)"
   ],
   "metadata": {
    "colab": {
     "base_uri": "https://localhost:8080/",
     "height": 833
    },
    "id": "0d5NBhcyhZRr",
    "outputId": "6f3d87dd-30d8-46a3-82a1-b797837dae8b",
    "ExecuteTime": {
     "end_time": "2023-11-30T16:49:46.614390800Z",
     "start_time": "2023-11-30T16:49:46.559523200Z"
    }
   },
   "execution_count": 803,
   "outputs": [
    {
     "data": {
      "text/plain": "         Date   Price  Month    Year   Real_GDP    CPI    inflation_rate  \\\n0  2000-01-04  0.8480    1.0  2000.0  14096.033  168.8  3.37685727149935   \n1  2000-01-05  0.8565    1.0  2000.0  14096.033  168.8  3.37685727149935   \n2  2000-01-06  0.8530    1.0  2000.0  14096.033  168.8  3.37685727149935   \n3  2000-01-07  0.8540    1.0  2000.0  14096.033  168.8  3.37685727149935   \n4  2000-01-10  0.8465    1.0  2000.0  14096.033  168.8  3.37685727149935   \n5  2000-01-11  0.8435    1.0  2000.0  14096.033  168.8  3.37685727149935   \n6  2000-01-12  0.8660    1.0  2000.0  14096.033  168.8  3.37685727149935   \n7  2000-01-13  0.8565    1.0  2000.0  14096.033  168.8  3.37685727149935   \n8  2000-01-14  0.8625    1.0  2000.0  14096.033  168.8  3.37685727149935   \n9  2000-01-18  0.8660    1.0  2000.0  14096.033  168.8  3.37685727149935   \n10 2000-01-19  0.8825    1.0  2000.0  14096.033  168.8  3.37685727149935   \n11 2000-01-20  0.8730    1.0  2000.0  14096.033  168.8  3.37685727149935   \n12 2000-01-21  0.8730    1.0  2000.0  14096.033  168.8  3.37685727149935   \n13 2000-01-24  0.8565    1.0  2000.0  14096.033  168.8  3.37685727149935   \n14 2000-01-25  0.8425    1.0  2000.0  14096.033  168.8  3.37685727149935   \n15 2000-01-26  0.8415    1.0  2000.0  14096.033  168.8  3.37685727149935   \n16 2000-01-27  0.8445    1.0  2000.0  14096.033  168.8  3.37685727149935   \n17 2000-01-28  0.8400    1.0  2000.0  14096.033  168.8  3.37685727149935   \n18 2000-01-31  0.8545    1.0  2000.0  14096.033  168.8  3.37685727149935   \n19 2000-02-01  0.8480    2.0  2000.0  14096.033  169.8  3.37685727149935   \n20 2000-02-02  0.8275    2.0  2000.0  14096.033  169.8  3.37685727149935   \n21 2000-02-03  0.8305    2.0  2000.0  14096.033  169.8  3.37685727149935   \n22 2000-02-04  0.8325    2.0  2000.0  14096.033  169.8  3.37685727149935   \n23 2000-02-07  0.8325    2.0  2000.0  14096.033  169.8  3.37685727149935   \n24 2000-02-08  0.8255    2.0  2000.0  14096.033  169.8  3.37685727149935   \n\n    PALLFNFINDEXM  \n0             NaN  \n1             NaN  \n2             NaN  \n3             NaN  \n4             NaN  \n5             NaN  \n6             NaN  \n7             NaN  \n8             NaN  \n9             NaN  \n10            NaN  \n11            NaN  \n12            NaN  \n13            NaN  \n14            NaN  \n15            NaN  \n16            NaN  \n17            NaN  \n18            NaN  \n19          58.06  \n20          58.06  \n21          58.06  \n22          58.06  \n23          58.06  \n24          58.06  ",
      "text/html": "<div>\n<style scoped>\n    .dataframe tbody tr th:only-of-type {\n        vertical-align: middle;\n    }\n\n    .dataframe tbody tr th {\n        vertical-align: top;\n    }\n\n    .dataframe thead th {\n        text-align: right;\n    }\n</style>\n<table border=\"1\" class=\"dataframe\">\n  <thead>\n    <tr style=\"text-align: right;\">\n      <th></th>\n      <th>Date</th>\n      <th>Price</th>\n      <th>Month</th>\n      <th>Year</th>\n      <th>Real_GDP</th>\n      <th>CPI</th>\n      <th>inflation_rate</th>\n      <th>PALLFNFINDEXM</th>\n    </tr>\n  </thead>\n  <tbody>\n    <tr>\n      <th>0</th>\n      <td>2000-01-04</td>\n      <td>0.8480</td>\n      <td>1.0</td>\n      <td>2000.0</td>\n      <td>14096.033</td>\n      <td>168.8</td>\n      <td>3.37685727149935</td>\n      <td>NaN</td>\n    </tr>\n    <tr>\n      <th>1</th>\n      <td>2000-01-05</td>\n      <td>0.8565</td>\n      <td>1.0</td>\n      <td>2000.0</td>\n      <td>14096.033</td>\n      <td>168.8</td>\n      <td>3.37685727149935</td>\n      <td>NaN</td>\n    </tr>\n    <tr>\n      <th>2</th>\n      <td>2000-01-06</td>\n      <td>0.8530</td>\n      <td>1.0</td>\n      <td>2000.0</td>\n      <td>14096.033</td>\n      <td>168.8</td>\n      <td>3.37685727149935</td>\n      <td>NaN</td>\n    </tr>\n    <tr>\n      <th>3</th>\n      <td>2000-01-07</td>\n      <td>0.8540</td>\n      <td>1.0</td>\n      <td>2000.0</td>\n      <td>14096.033</td>\n      <td>168.8</td>\n      <td>3.37685727149935</td>\n      <td>NaN</td>\n    </tr>\n    <tr>\n      <th>4</th>\n      <td>2000-01-10</td>\n      <td>0.8465</td>\n      <td>1.0</td>\n      <td>2000.0</td>\n      <td>14096.033</td>\n      <td>168.8</td>\n      <td>3.37685727149935</td>\n      <td>NaN</td>\n    </tr>\n    <tr>\n      <th>5</th>\n      <td>2000-01-11</td>\n      <td>0.8435</td>\n      <td>1.0</td>\n      <td>2000.0</td>\n      <td>14096.033</td>\n      <td>168.8</td>\n      <td>3.37685727149935</td>\n      <td>NaN</td>\n    </tr>\n    <tr>\n      <th>6</th>\n      <td>2000-01-12</td>\n      <td>0.8660</td>\n      <td>1.0</td>\n      <td>2000.0</td>\n      <td>14096.033</td>\n      <td>168.8</td>\n      <td>3.37685727149935</td>\n      <td>NaN</td>\n    </tr>\n    <tr>\n      <th>7</th>\n      <td>2000-01-13</td>\n      <td>0.8565</td>\n      <td>1.0</td>\n      <td>2000.0</td>\n      <td>14096.033</td>\n      <td>168.8</td>\n      <td>3.37685727149935</td>\n      <td>NaN</td>\n    </tr>\n    <tr>\n      <th>8</th>\n      <td>2000-01-14</td>\n      <td>0.8625</td>\n      <td>1.0</td>\n      <td>2000.0</td>\n      <td>14096.033</td>\n      <td>168.8</td>\n      <td>3.37685727149935</td>\n      <td>NaN</td>\n    </tr>\n    <tr>\n      <th>9</th>\n      <td>2000-01-18</td>\n      <td>0.8660</td>\n      <td>1.0</td>\n      <td>2000.0</td>\n      <td>14096.033</td>\n      <td>168.8</td>\n      <td>3.37685727149935</td>\n      <td>NaN</td>\n    </tr>\n    <tr>\n      <th>10</th>\n      <td>2000-01-19</td>\n      <td>0.8825</td>\n      <td>1.0</td>\n      <td>2000.0</td>\n      <td>14096.033</td>\n      <td>168.8</td>\n      <td>3.37685727149935</td>\n      <td>NaN</td>\n    </tr>\n    <tr>\n      <th>11</th>\n      <td>2000-01-20</td>\n      <td>0.8730</td>\n      <td>1.0</td>\n      <td>2000.0</td>\n      <td>14096.033</td>\n      <td>168.8</td>\n      <td>3.37685727149935</td>\n      <td>NaN</td>\n    </tr>\n    <tr>\n      <th>12</th>\n      <td>2000-01-21</td>\n      <td>0.8730</td>\n      <td>1.0</td>\n      <td>2000.0</td>\n      <td>14096.033</td>\n      <td>168.8</td>\n      <td>3.37685727149935</td>\n      <td>NaN</td>\n    </tr>\n    <tr>\n      <th>13</th>\n      <td>2000-01-24</td>\n      <td>0.8565</td>\n      <td>1.0</td>\n      <td>2000.0</td>\n      <td>14096.033</td>\n      <td>168.8</td>\n      <td>3.37685727149935</td>\n      <td>NaN</td>\n    </tr>\n    <tr>\n      <th>14</th>\n      <td>2000-01-25</td>\n      <td>0.8425</td>\n      <td>1.0</td>\n      <td>2000.0</td>\n      <td>14096.033</td>\n      <td>168.8</td>\n      <td>3.37685727149935</td>\n      <td>NaN</td>\n    </tr>\n    <tr>\n      <th>15</th>\n      <td>2000-01-26</td>\n      <td>0.8415</td>\n      <td>1.0</td>\n      <td>2000.0</td>\n      <td>14096.033</td>\n      <td>168.8</td>\n      <td>3.37685727149935</td>\n      <td>NaN</td>\n    </tr>\n    <tr>\n      <th>16</th>\n      <td>2000-01-27</td>\n      <td>0.8445</td>\n      <td>1.0</td>\n      <td>2000.0</td>\n      <td>14096.033</td>\n      <td>168.8</td>\n      <td>3.37685727149935</td>\n      <td>NaN</td>\n    </tr>\n    <tr>\n      <th>17</th>\n      <td>2000-01-28</td>\n      <td>0.8400</td>\n      <td>1.0</td>\n      <td>2000.0</td>\n      <td>14096.033</td>\n      <td>168.8</td>\n      <td>3.37685727149935</td>\n      <td>NaN</td>\n    </tr>\n    <tr>\n      <th>18</th>\n      <td>2000-01-31</td>\n      <td>0.8545</td>\n      <td>1.0</td>\n      <td>2000.0</td>\n      <td>14096.033</td>\n      <td>168.8</td>\n      <td>3.37685727149935</td>\n      <td>NaN</td>\n    </tr>\n    <tr>\n      <th>19</th>\n      <td>2000-02-01</td>\n      <td>0.8480</td>\n      <td>2.0</td>\n      <td>2000.0</td>\n      <td>14096.033</td>\n      <td>169.8</td>\n      <td>3.37685727149935</td>\n      <td>58.06</td>\n    </tr>\n    <tr>\n      <th>20</th>\n      <td>2000-02-02</td>\n      <td>0.8275</td>\n      <td>2.0</td>\n      <td>2000.0</td>\n      <td>14096.033</td>\n      <td>169.8</td>\n      <td>3.37685727149935</td>\n      <td>58.06</td>\n    </tr>\n    <tr>\n      <th>21</th>\n      <td>2000-02-03</td>\n      <td>0.8305</td>\n      <td>2.0</td>\n      <td>2000.0</td>\n      <td>14096.033</td>\n      <td>169.8</td>\n      <td>3.37685727149935</td>\n      <td>58.06</td>\n    </tr>\n    <tr>\n      <th>22</th>\n      <td>2000-02-04</td>\n      <td>0.8325</td>\n      <td>2.0</td>\n      <td>2000.0</td>\n      <td>14096.033</td>\n      <td>169.8</td>\n      <td>3.37685727149935</td>\n      <td>58.06</td>\n    </tr>\n    <tr>\n      <th>23</th>\n      <td>2000-02-07</td>\n      <td>0.8325</td>\n      <td>2.0</td>\n      <td>2000.0</td>\n      <td>14096.033</td>\n      <td>169.8</td>\n      <td>3.37685727149935</td>\n      <td>58.06</td>\n    </tr>\n    <tr>\n      <th>24</th>\n      <td>2000-02-08</td>\n      <td>0.8255</td>\n      <td>2.0</td>\n      <td>2000.0</td>\n      <td>14096.033</td>\n      <td>169.8</td>\n      <td>3.37685727149935</td>\n      <td>58.06</td>\n    </tr>\n  </tbody>\n</table>\n</div>"
     },
     "execution_count": 803,
     "metadata": {},
     "output_type": "execute_result"
    }
   ]
  },
  {
   "cell_type": "code",
   "source": [
    "# Set a constant value for missing 'PALLFNFINDEXM' in the year 2000\n",
    "PALLFNFINDEXM_2000 = 59.47\n",
    "\n",
    "# Fill the missing 'PALLFNFINDEXM' values with the constant value for 2000\n",
    "final_merged_dataset['PALLFNFINDEXM'] = final_merged_dataset['PALLFNFINDEXM'].fillna(\n",
    "    final_merged_dataset['Year'].apply(lambda x: PALLFNFINDEXM_2000 if x == 2000 else np.nan))\n",
    "\n",
    "final_merged_dataset"
   ],
   "metadata": {
    "colab": {
     "base_uri": "https://localhost:8080/",
     "height": 423
    },
    "id": "i9G6uEnDi_C4",
    "outputId": "d08588ba-50bd-4c43-ba3d-cd4a7926186f",
    "ExecuteTime": {
     "end_time": "2023-11-30T16:49:46.974728400Z",
     "start_time": "2023-11-30T16:49:46.904504600Z"
    }
   },
   "execution_count": 804,
   "outputs": [
    {
     "data": {
      "text/plain": "           Date   Price  Month    Year   Real_GDP    CPI    inflation_rate  \\\n0    2000-01-04  0.8480    1.0  2000.0  14096.033  168.8  3.37685727149935   \n1    2000-01-05  0.8565    1.0  2000.0  14096.033  168.8  3.37685727149935   \n2    2000-01-06  0.8530    1.0  2000.0  14096.033  168.8  3.37685727149935   \n3    2000-01-07  0.8540    1.0  2000.0  14096.033  168.8  3.37685727149935   \n4    2000-01-10  0.8465    1.0  2000.0  14096.033  168.8  3.37685727149935   \n...         ...     ...    ...     ...        ...    ...               ...   \n6079 2023-11-24  3.8205   11.0  2023.0  19374.000  307.0               6.6   \n6080 2023-11-27  3.7890   11.0  2023.0  19374.000  307.0               6.6   \n6081 2023-11-28  3.8285   11.0  2023.0  19374.000  307.0               6.6   \n6082 2023-11-29  3.8255   11.0  2023.0  19374.000  307.0               6.6   \n6083 2023-11-30  3.8213   11.0  2023.0  19374.000  307.0               6.6   \n\n      PALLFNFINDEXM  \n0         59.470000  \n1         59.470000  \n2         59.470000  \n3         59.470000  \n4         59.470000  \n...             ...  \n6079     168.657489  \n6080     168.657489  \n6081     168.657489  \n6082     168.657489  \n6083     168.657489  \n\n[6084 rows x 8 columns]",
      "text/html": "<div>\n<style scoped>\n    .dataframe tbody tr th:only-of-type {\n        vertical-align: middle;\n    }\n\n    .dataframe tbody tr th {\n        vertical-align: top;\n    }\n\n    .dataframe thead th {\n        text-align: right;\n    }\n</style>\n<table border=\"1\" class=\"dataframe\">\n  <thead>\n    <tr style=\"text-align: right;\">\n      <th></th>\n      <th>Date</th>\n      <th>Price</th>\n      <th>Month</th>\n      <th>Year</th>\n      <th>Real_GDP</th>\n      <th>CPI</th>\n      <th>inflation_rate</th>\n      <th>PALLFNFINDEXM</th>\n    </tr>\n  </thead>\n  <tbody>\n    <tr>\n      <th>0</th>\n      <td>2000-01-04</td>\n      <td>0.8480</td>\n      <td>1.0</td>\n      <td>2000.0</td>\n      <td>14096.033</td>\n      <td>168.8</td>\n      <td>3.37685727149935</td>\n      <td>59.470000</td>\n    </tr>\n    <tr>\n      <th>1</th>\n      <td>2000-01-05</td>\n      <td>0.8565</td>\n      <td>1.0</td>\n      <td>2000.0</td>\n      <td>14096.033</td>\n      <td>168.8</td>\n      <td>3.37685727149935</td>\n      <td>59.470000</td>\n    </tr>\n    <tr>\n      <th>2</th>\n      <td>2000-01-06</td>\n      <td>0.8530</td>\n      <td>1.0</td>\n      <td>2000.0</td>\n      <td>14096.033</td>\n      <td>168.8</td>\n      <td>3.37685727149935</td>\n      <td>59.470000</td>\n    </tr>\n    <tr>\n      <th>3</th>\n      <td>2000-01-07</td>\n      <td>0.8540</td>\n      <td>1.0</td>\n      <td>2000.0</td>\n      <td>14096.033</td>\n      <td>168.8</td>\n      <td>3.37685727149935</td>\n      <td>59.470000</td>\n    </tr>\n    <tr>\n      <th>4</th>\n      <td>2000-01-10</td>\n      <td>0.8465</td>\n      <td>1.0</td>\n      <td>2000.0</td>\n      <td>14096.033</td>\n      <td>168.8</td>\n      <td>3.37685727149935</td>\n      <td>59.470000</td>\n    </tr>\n    <tr>\n      <th>...</th>\n      <td>...</td>\n      <td>...</td>\n      <td>...</td>\n      <td>...</td>\n      <td>...</td>\n      <td>...</td>\n      <td>...</td>\n      <td>...</td>\n    </tr>\n    <tr>\n      <th>6079</th>\n      <td>2023-11-24</td>\n      <td>3.8205</td>\n      <td>11.0</td>\n      <td>2023.0</td>\n      <td>19374.000</td>\n      <td>307.0</td>\n      <td>6.6</td>\n      <td>168.657489</td>\n    </tr>\n    <tr>\n      <th>6080</th>\n      <td>2023-11-27</td>\n      <td>3.7890</td>\n      <td>11.0</td>\n      <td>2023.0</td>\n      <td>19374.000</td>\n      <td>307.0</td>\n      <td>6.6</td>\n      <td>168.657489</td>\n    </tr>\n    <tr>\n      <th>6081</th>\n      <td>2023-11-28</td>\n      <td>3.8285</td>\n      <td>11.0</td>\n      <td>2023.0</td>\n      <td>19374.000</td>\n      <td>307.0</td>\n      <td>6.6</td>\n      <td>168.657489</td>\n    </tr>\n    <tr>\n      <th>6082</th>\n      <td>2023-11-29</td>\n      <td>3.8255</td>\n      <td>11.0</td>\n      <td>2023.0</td>\n      <td>19374.000</td>\n      <td>307.0</td>\n      <td>6.6</td>\n      <td>168.657489</td>\n    </tr>\n    <tr>\n      <th>6083</th>\n      <td>2023-11-30</td>\n      <td>3.8213</td>\n      <td>11.0</td>\n      <td>2023.0</td>\n      <td>19374.000</td>\n      <td>307.0</td>\n      <td>6.6</td>\n      <td>168.657489</td>\n    </tr>\n  </tbody>\n</table>\n<p>6084 rows × 8 columns</p>\n</div>"
     },
     "execution_count": 804,
     "metadata": {},
     "output_type": "execute_result"
    }
   ]
  },
  {
   "cell_type": "code",
   "source": [
    "final_merged_dataset['PALLFNFINDEXM'].isnull().sum()"
   ],
   "metadata": {
    "colab": {
     "base_uri": "https://localhost:8080/"
    },
    "id": "SHWx0ZRUMMCq",
    "outputId": "44f8610a-cab0-49d8-f9a9-9334dd49a88f",
    "ExecuteTime": {
     "end_time": "2023-11-30T16:49:47.346999500Z",
     "start_time": "2023-11-30T16:49:47.270234800Z"
    }
   },
   "execution_count": 805,
   "outputs": [
    {
     "data": {
      "text/plain": "0"
     },
     "execution_count": 805,
     "metadata": {},
     "output_type": "execute_result"
    }
   ]
  },
  {
   "cell_type": "code",
   "source": [],
   "metadata": {
    "id": "tDgUQbZ6MRSb",
    "ExecuteTime": {
     "end_time": "2023-11-30T16:49:49.245568200Z",
     "start_time": "2023-11-30T16:49:49.180784200Z"
    }
   },
   "execution_count": 806,
   "outputs": []
  },
  {
   "cell_type": "code",
   "execution_count": 807,
   "outputs": [],
   "source": [
    "final_merged_dataset = pd.merge(final_merged_dataset, dexchus, on='Date', how='inner')"
   ],
   "metadata": {
    "collapsed": false,
    "ExecuteTime": {
     "end_time": "2023-11-30T16:49:49.577939900Z",
     "start_time": "2023-11-30T16:49:49.545934700Z"
    }
   }
  },
  {
   "cell_type": "code",
   "execution_count": 809,
   "outputs": [
    {
     "data": {
      "text/plain": "           Date   Price  Month    Year   Real_GDP    CPI    inflation_rate  \\\n0    2000-01-04  0.8480    1.0  2000.0  14096.033  168.8  3.37685727149935   \n1    2000-01-05  0.8565    1.0  2000.0  14096.033  168.8  3.37685727149935   \n2    2000-01-06  0.8530    1.0  2000.0  14096.033  168.8  3.37685727149935   \n3    2000-01-07  0.8540    1.0  2000.0  14096.033  168.8  3.37685727149935   \n4    2000-01-10  0.8465    1.0  2000.0  14096.033  168.8  3.37685727149935   \n...         ...     ...    ...     ...        ...    ...               ...   \n6047 2023-11-20  3.8335   11.0  2023.0  19374.000  307.0               6.6   \n6048 2023-11-21  3.8395   11.0  2023.0  19374.000  307.0               6.6   \n6049 2023-11-22  3.7970   11.0  2023.0  19374.000  307.0               6.6   \n6050 2023-11-23  3.7743   11.0  2023.0  19374.000  307.0               6.6   \n6051 2023-11-24  3.8205   11.0  2023.0  19374.000  307.0               6.6   \n\n      PALLFNFINDEXM   DEXCHUS  \n0         59.470000  0.120774  \n1         59.470000  0.120776  \n2         59.470000  0.120777  \n3         59.470000  0.120782  \n4         59.470000  0.120782  \n...             ...       ...  \n6047     168.657489  0.139509  \n6048     168.657489  0.140150  \n6049     168.657489  0.139762  \n6050     168.657489  0.139823  \n6051     168.657489  0.139884  \n\n[6052 rows x 9 columns]",
      "text/html": "<div>\n<style scoped>\n    .dataframe tbody tr th:only-of-type {\n        vertical-align: middle;\n    }\n\n    .dataframe tbody tr th {\n        vertical-align: top;\n    }\n\n    .dataframe thead th {\n        text-align: right;\n    }\n</style>\n<table border=\"1\" class=\"dataframe\">\n  <thead>\n    <tr style=\"text-align: right;\">\n      <th></th>\n      <th>Date</th>\n      <th>Price</th>\n      <th>Month</th>\n      <th>Year</th>\n      <th>Real_GDP</th>\n      <th>CPI</th>\n      <th>inflation_rate</th>\n      <th>PALLFNFINDEXM</th>\n      <th>DEXCHUS</th>\n    </tr>\n  </thead>\n  <tbody>\n    <tr>\n      <th>0</th>\n      <td>2000-01-04</td>\n      <td>0.8480</td>\n      <td>1.0</td>\n      <td>2000.0</td>\n      <td>14096.033</td>\n      <td>168.8</td>\n      <td>3.37685727149935</td>\n      <td>59.470000</td>\n      <td>0.120774</td>\n    </tr>\n    <tr>\n      <th>1</th>\n      <td>2000-01-05</td>\n      <td>0.8565</td>\n      <td>1.0</td>\n      <td>2000.0</td>\n      <td>14096.033</td>\n      <td>168.8</td>\n      <td>3.37685727149935</td>\n      <td>59.470000</td>\n      <td>0.120776</td>\n    </tr>\n    <tr>\n      <th>2</th>\n      <td>2000-01-06</td>\n      <td>0.8530</td>\n      <td>1.0</td>\n      <td>2000.0</td>\n      <td>14096.033</td>\n      <td>168.8</td>\n      <td>3.37685727149935</td>\n      <td>59.470000</td>\n      <td>0.120777</td>\n    </tr>\n    <tr>\n      <th>3</th>\n      <td>2000-01-07</td>\n      <td>0.8540</td>\n      <td>1.0</td>\n      <td>2000.0</td>\n      <td>14096.033</td>\n      <td>168.8</td>\n      <td>3.37685727149935</td>\n      <td>59.470000</td>\n      <td>0.120782</td>\n    </tr>\n    <tr>\n      <th>4</th>\n      <td>2000-01-10</td>\n      <td>0.8465</td>\n      <td>1.0</td>\n      <td>2000.0</td>\n      <td>14096.033</td>\n      <td>168.8</td>\n      <td>3.37685727149935</td>\n      <td>59.470000</td>\n      <td>0.120782</td>\n    </tr>\n    <tr>\n      <th>...</th>\n      <td>...</td>\n      <td>...</td>\n      <td>...</td>\n      <td>...</td>\n      <td>...</td>\n      <td>...</td>\n      <td>...</td>\n      <td>...</td>\n      <td>...</td>\n    </tr>\n    <tr>\n      <th>6047</th>\n      <td>2023-11-20</td>\n      <td>3.8335</td>\n      <td>11.0</td>\n      <td>2023.0</td>\n      <td>19374.000</td>\n      <td>307.0</td>\n      <td>6.6</td>\n      <td>168.657489</td>\n      <td>0.139509</td>\n    </tr>\n    <tr>\n      <th>6048</th>\n      <td>2023-11-21</td>\n      <td>3.8395</td>\n      <td>11.0</td>\n      <td>2023.0</td>\n      <td>19374.000</td>\n      <td>307.0</td>\n      <td>6.6</td>\n      <td>168.657489</td>\n      <td>0.140150</td>\n    </tr>\n    <tr>\n      <th>6049</th>\n      <td>2023-11-22</td>\n      <td>3.7970</td>\n      <td>11.0</td>\n      <td>2023.0</td>\n      <td>19374.000</td>\n      <td>307.0</td>\n      <td>6.6</td>\n      <td>168.657489</td>\n      <td>0.139762</td>\n    </tr>\n    <tr>\n      <th>6050</th>\n      <td>2023-11-23</td>\n      <td>3.7743</td>\n      <td>11.0</td>\n      <td>2023.0</td>\n      <td>19374.000</td>\n      <td>307.0</td>\n      <td>6.6</td>\n      <td>168.657489</td>\n      <td>0.139823</td>\n    </tr>\n    <tr>\n      <th>6051</th>\n      <td>2023-11-24</td>\n      <td>3.8205</td>\n      <td>11.0</td>\n      <td>2023.0</td>\n      <td>19374.000</td>\n      <td>307.0</td>\n      <td>6.6</td>\n      <td>168.657489</td>\n      <td>0.139884</td>\n    </tr>\n  </tbody>\n</table>\n<p>6052 rows × 9 columns</p>\n</div>"
     },
     "execution_count": 809,
     "metadata": {},
     "output_type": "execute_result"
    }
   ],
   "source": [
    "final_merged_dataset"
   ],
   "metadata": {
    "collapsed": false,
    "ExecuteTime": {
     "end_time": "2023-11-30T16:49:56.436735500Z",
     "start_time": "2023-11-30T16:49:56.348701100Z"
    }
   }
  },
  {
   "cell_type": "code",
   "execution_count": 810,
   "outputs": [
    {
     "data": {
      "text/plain": "Date              0\nPrice             0\nMonth             0\nYear              0\nReal_GDP          0\nCPI               0\ninflation_rate    0\nPALLFNFINDEXM     0\nDEXCHUS           0\ndtype: int64"
     },
     "execution_count": 810,
     "metadata": {},
     "output_type": "execute_result"
    }
   ],
   "source": [
    "final_merged_dataset.isna().sum()"
   ],
   "metadata": {
    "collapsed": false,
    "ExecuteTime": {
     "end_time": "2023-11-30T16:50:08.381757300Z",
     "start_time": "2023-11-30T16:50:08.288174100Z"
    }
   }
  },
  {
   "cell_type": "code",
   "execution_count": 811,
   "outputs": [],
   "source": [
    "final_merged_dataset.to_csv('../DataFrames/final_merged_copper_dataset.csv')"
   ],
   "metadata": {
    "collapsed": false,
    "ExecuteTime": {
     "end_time": "2023-11-30T16:50:21.240915600Z",
     "start_time": "2023-11-30T16:50:21.132317300Z"
    }
   }
  },
  {
   "cell_type": "code",
   "execution_count": null,
   "outputs": [],
   "source": [],
   "metadata": {
    "collapsed": false
   }
  }
 ]
}
