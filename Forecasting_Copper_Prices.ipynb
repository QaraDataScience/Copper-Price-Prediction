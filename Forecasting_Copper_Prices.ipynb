{
 "cells": [
  {
   "cell_type": "markdown",
   "metadata": {
    "id": "7zLDGowEErcq"
   },
   "source": [
    "## Importing Packages"
   ]
  },
  {
   "cell_type": "code",
   "execution_count": 103,
   "metadata": {
    "ExecuteTime": {
     "end_time": "2023-10-22T10:24:13.825999Z",
     "start_time": "2023-10-22T10:24:11.459474Z"
    },
    "colab": {
     "base_uri": "https://localhost:8080/"
    },
    "id": "2g0WNwIFQgY4",
    "outputId": "268cb869-e112-4f45-f9b9-ba6261f7db97"
   },
   "outputs": [
    {
     "name": "stdout",
     "output_type": "stream",
     "text": [
      "Requirement already satisfied: tensorflow in c:\\users\\george welson\\appdata\\local\\programs\\python\\python3115\\lib\\site-packages (2.14.0)\n",
      "Requirement already satisfied: tensorflow-intel==2.14.0 in c:\\users\\george welson\\appdata\\local\\programs\\python\\python3115\\lib\\site-packages (from tensorflow) (2.14.0)\n",
      "Requirement already satisfied: absl-py>=1.0.0 in c:\\users\\george welson\\appdata\\local\\programs\\python\\python3115\\lib\\site-packages (from tensorflow-intel==2.14.0->tensorflow) (2.0.0)\n",
      "Requirement already satisfied: astunparse>=1.6.0 in c:\\users\\george welson\\appdata\\local\\programs\\python\\python3115\\lib\\site-packages (from tensorflow-intel==2.14.0->tensorflow) (1.6.3)\n",
      "Requirement already satisfied: flatbuffers>=23.5.26 in c:\\users\\george welson\\appdata\\local\\programs\\python\\python3115\\lib\\site-packages (from tensorflow-intel==2.14.0->tensorflow) (23.5.26)\n",
      "Requirement already satisfied: gast!=0.5.0,!=0.5.1,!=0.5.2,>=0.2.1 in c:\\users\\george welson\\appdata\\local\\programs\\python\\python3115\\lib\\site-packages (from tensorflow-intel==2.14.0->tensorflow) (0.5.4)\n",
      "Requirement already satisfied: google-pasta>=0.1.1 in c:\\users\\george welson\\appdata\\local\\programs\\python\\python3115\\lib\\site-packages (from tensorflow-intel==2.14.0->tensorflow) (0.2.0)\n",
      "Requirement already satisfied: h5py>=2.9.0 in c:\\users\\george welson\\appdata\\local\\programs\\python\\python3115\\lib\\site-packages (from tensorflow-intel==2.14.0->tensorflow) (3.10.0)\n",
      "Requirement already satisfied: libclang>=13.0.0 in c:\\users\\george welson\\appdata\\local\\programs\\python\\python3115\\lib\\site-packages (from tensorflow-intel==2.14.0->tensorflow) (16.0.6)\n",
      "Requirement already satisfied: ml-dtypes==0.2.0 in c:\\users\\george welson\\appdata\\local\\programs\\python\\python3115\\lib\\site-packages (from tensorflow-intel==2.14.0->tensorflow) (0.2.0)\n",
      "Requirement already satisfied: numpy>=1.23.5 in c:\\users\\george welson\\appdata\\local\\programs\\python\\python3115\\lib\\site-packages (from tensorflow-intel==2.14.0->tensorflow) (1.26.0)\n",
      "Requirement already satisfied: opt-einsum>=2.3.2 in c:\\users\\george welson\\appdata\\local\\programs\\python\\python3115\\lib\\site-packages (from tensorflow-intel==2.14.0->tensorflow) (3.3.0)\n",
      "Requirement already satisfied: packaging in c:\\users\\george welson\\appdata\\local\\programs\\python\\python3115\\lib\\site-packages (from tensorflow-intel==2.14.0->tensorflow) (23.2)\n",
      "Requirement already satisfied: protobuf!=4.21.0,!=4.21.1,!=4.21.2,!=4.21.3,!=4.21.4,!=4.21.5,<5.0.0dev,>=3.20.3 in c:\\users\\george welson\\appdata\\local\\programs\\python\\python3115\\lib\\site-packages (from tensorflow-intel==2.14.0->tensorflow) (4.24.4)\n",
      "Requirement already satisfied: setuptools in c:\\users\\george welson\\appdata\\local\\programs\\python\\python3115\\lib\\site-packages (from tensorflow-intel==2.14.0->tensorflow) (65.5.0)\n",
      "Requirement already satisfied: six>=1.12.0 in c:\\users\\george welson\\appdata\\local\\programs\\python\\python3115\\lib\\site-packages (from tensorflow-intel==2.14.0->tensorflow) (1.16.0)\n",
      "Requirement already satisfied: termcolor>=1.1.0 in c:\\users\\george welson\\appdata\\local\\programs\\python\\python3115\\lib\\site-packages (from tensorflow-intel==2.14.0->tensorflow) (2.3.0)\n",
      "Requirement already satisfied: typing-extensions>=3.6.6 in c:\\users\\george welson\\appdata\\local\\programs\\python\\python3115\\lib\\site-packages (from tensorflow-intel==2.14.0->tensorflow) (4.8.0)\n",
      "Requirement already satisfied: wrapt<1.15,>=1.11.0 in c:\\users\\george welson\\appdata\\local\\programs\\python\\python3115\\lib\\site-packages (from tensorflow-intel==2.14.0->tensorflow) (1.14.1)\n",
      "Requirement already satisfied: tensorflow-io-gcs-filesystem>=0.23.1 in c:\\users\\george welson\\appdata\\local\\programs\\python\\python3115\\lib\\site-packages (from tensorflow-intel==2.14.0->tensorflow) (0.31.0)\n",
      "Requirement already satisfied: grpcio<2.0,>=1.24.3 in c:\\users\\george welson\\appdata\\local\\programs\\python\\python3115\\lib\\site-packages (from tensorflow-intel==2.14.0->tensorflow) (1.59.0)\n",
      "Requirement already satisfied: tensorboard<2.15,>=2.14 in c:\\users\\george welson\\appdata\\local\\programs\\python\\python3115\\lib\\site-packages (from tensorflow-intel==2.14.0->tensorflow) (2.14.1)\n",
      "Requirement already satisfied: tensorflow-estimator<2.15,>=2.14.0 in c:\\users\\george welson\\appdata\\local\\programs\\python\\python3115\\lib\\site-packages (from tensorflow-intel==2.14.0->tensorflow) (2.14.0)\n",
      "Requirement already satisfied: keras<2.15,>=2.14.0 in c:\\users\\george welson\\appdata\\local\\programs\\python\\python3115\\lib\\site-packages (from tensorflow-intel==2.14.0->tensorflow) (2.14.0)\n",
      "Requirement already satisfied: wheel<1.0,>=0.23.0 in c:\\users\\george welson\\appdata\\local\\programs\\python\\python3115\\lib\\site-packages (from astunparse>=1.6.0->tensorflow-intel==2.14.0->tensorflow) (0.41.2)\n",
      "Requirement already satisfied: google-auth<3,>=1.6.3 in c:\\users\\george welson\\appdata\\local\\programs\\python\\python3115\\lib\\site-packages (from tensorboard<2.15,>=2.14->tensorflow-intel==2.14.0->tensorflow) (2.23.2)\n",
      "Requirement already satisfied: google-auth-oauthlib<1.1,>=0.5 in c:\\users\\george welson\\appdata\\local\\programs\\python\\python3115\\lib\\site-packages (from tensorboard<2.15,>=2.14->tensorflow-intel==2.14.0->tensorflow) (1.0.0)\n",
      "Requirement already satisfied: markdown>=2.6.8 in c:\\users\\george welson\\appdata\\local\\programs\\python\\python3115\\lib\\site-packages (from tensorboard<2.15,>=2.14->tensorflow-intel==2.14.0->tensorflow) (3.5)\n",
      "Requirement already satisfied: requests<3,>=2.21.0 in c:\\users\\george welson\\appdata\\local\\programs\\python\\python3115\\lib\\site-packages (from tensorboard<2.15,>=2.14->tensorflow-intel==2.14.0->tensorflow) (2.31.0)\n",
      "Requirement already satisfied: tensorboard-data-server<0.8.0,>=0.7.0 in c:\\users\\george welson\\appdata\\local\\programs\\python\\python3115\\lib\\site-packages (from tensorboard<2.15,>=2.14->tensorflow-intel==2.14.0->tensorflow) (0.7.1)\n",
      "Requirement already satisfied: werkzeug>=1.0.1 in c:\\users\\george welson\\appdata\\local\\programs\\python\\python3115\\lib\\site-packages (from tensorboard<2.15,>=2.14->tensorflow-intel==2.14.0->tensorflow) (3.0.0)\n",
      "Requirement already satisfied: cachetools<6.0,>=2.0.0 in c:\\users\\george welson\\appdata\\local\\programs\\python\\python3115\\lib\\site-packages (from google-auth<3,>=1.6.3->tensorboard<2.15,>=2.14->tensorflow-intel==2.14.0->tensorflow) (5.3.1)\n",
      "Requirement already satisfied: pyasn1-modules>=0.2.1 in c:\\users\\george welson\\appdata\\local\\programs\\python\\python3115\\lib\\site-packages (from google-auth<3,>=1.6.3->tensorboard<2.15,>=2.14->tensorflow-intel==2.14.0->tensorflow) (0.3.0)\n",
      "Requirement already satisfied: rsa<5,>=3.1.4 in c:\\users\\george welson\\appdata\\local\\programs\\python\\python3115\\lib\\site-packages (from google-auth<3,>=1.6.3->tensorboard<2.15,>=2.14->tensorflow-intel==2.14.0->tensorflow) (4.9)\n",
      "Requirement already satisfied: requests-oauthlib>=0.7.0 in c:\\users\\george welson\\appdata\\local\\programs\\python\\python3115\\lib\\site-packages (from google-auth-oauthlib<1.1,>=0.5->tensorboard<2.15,>=2.14->tensorflow-intel==2.14.0->tensorflow) (1.3.1)\n",
      "Requirement already satisfied: charset-normalizer<4,>=2 in c:\\users\\george welson\\appdata\\local\\programs\\python\\python3115\\lib\\site-packages (from requests<3,>=2.21.0->tensorboard<2.15,>=2.14->tensorflow-intel==2.14.0->tensorflow) (3.3.0)\n",
      "Requirement already satisfied: idna<4,>=2.5 in c:\\users\\george welson\\appdata\\roaming\\python\\python311\\site-packages (from requests<3,>=2.21.0->tensorboard<2.15,>=2.14->tensorflow-intel==2.14.0->tensorflow) (2.10)\n",
      "Requirement already satisfied: urllib3<3,>=1.21.1 in c:\\users\\george welson\\appdata\\roaming\\python\\python311\\site-packages (from requests<3,>=2.21.0->tensorboard<2.15,>=2.14->tensorflow-intel==2.14.0->tensorflow) (1.25.11)\n",
      "Requirement already satisfied: certifi>=2017.4.17 in c:\\users\\george welson\\appdata\\roaming\\python\\python311\\site-packages (from requests<3,>=2.21.0->tensorboard<2.15,>=2.14->tensorflow-intel==2.14.0->tensorflow) (2023.5.7)\n",
      "Requirement already satisfied: MarkupSafe>=2.1.1 in c:\\users\\george welson\\appdata\\local\\programs\\python\\python3115\\lib\\site-packages (from werkzeug>=1.0.1->tensorboard<2.15,>=2.14->tensorflow-intel==2.14.0->tensorflow) (2.1.3)\n",
      "Requirement already satisfied: pyasn1<0.6.0,>=0.4.6 in c:\\users\\george welson\\appdata\\local\\programs\\python\\python3115\\lib\\site-packages (from pyasn1-modules>=0.2.1->google-auth<3,>=1.6.3->tensorboard<2.15,>=2.14->tensorflow-intel==2.14.0->tensorflow) (0.5.0)\n",
      "Requirement already satisfied: oauthlib>=3.0.0 in c:\\users\\george welson\\appdata\\local\\programs\\python\\python3115\\lib\\site-packages (from requests-oauthlib>=0.7.0->google-auth-oauthlib<1.1,>=0.5->tensorboard<2.15,>=2.14->tensorflow-intel==2.14.0->tensorflow) (3.2.2)\n",
      "Note: you may need to restart the kernel to use updated packages.\n"
     ]
    }
   ],
   "source": [
    "%pip install tensorflow"
   ]
  },
  {
   "cell_type": "code",
   "execution_count": 4,
   "metadata": {},
   "outputs": [
    {
     "name": "stdout",
     "output_type": "stream",
     "text": [
      "Collecting streamlit\n",
      "  Using cached streamlit-1.27.2-py2.py3-none-any.whl.metadata (8.1 kB)\n",
      "Collecting altair<6,>=4.0 (from streamlit)\n",
      "  Using cached altair-5.1.2-py3-none-any.whl.metadata (8.6 kB)\n",
      "Collecting blinker<2,>=1.0.0 (from streamlit)\n",
      "  Using cached blinker-1.6.3-py3-none-any.whl.metadata (1.9 kB)\n",
      "Requirement already satisfied: cachetools<6,>=4.0 in c:\\users\\george welson\\appdata\\local\\programs\\python\\python3115\\lib\\site-packages (from streamlit) (5.3.1)\n",
      "Requirement already satisfied: click<9,>=7.0 in c:\\users\\george welson\\appdata\\local\\programs\\python\\python3115\\lib\\site-packages (from streamlit) (8.1.7)\n",
      "Collecting importlib-metadata<7,>=1.4 (from streamlit)\n",
      "  Using cached importlib_metadata-6.8.0-py3-none-any.whl.metadata (5.1 kB)\n",
      "Requirement already satisfied: numpy<2,>=1.19.3 in c:\\users\\george welson\\appdata\\local\\programs\\python\\python3115\\lib\\site-packages (from streamlit) (1.26.0)\n",
      "Requirement already satisfied: packaging<24,>=16.8 in c:\\users\\george welson\\appdata\\local\\programs\\python\\python3115\\lib\\site-packages (from streamlit) (23.2)\n",
      "Requirement already satisfied: pandas<3,>=1.3.0 in c:\\users\\george welson\\appdata\\local\\programs\\python\\python3115\\lib\\site-packages (from streamlit) (2.1.1)\n",
      "Requirement already satisfied: pillow<11,>=7.1.0 in c:\\users\\george welson\\appdata\\local\\programs\\python\\python3115\\lib\\site-packages (from streamlit) (10.0.1)\n",
      "Requirement already satisfied: protobuf<5,>=3.20 in c:\\users\\george welson\\appdata\\local\\programs\\python\\python3115\\lib\\site-packages (from streamlit) (4.24.4)\n",
      "Collecting pyarrow>=6.0 (from streamlit)\n",
      "  Using cached pyarrow-13.0.0-cp311-cp311-win_amd64.whl.metadata (3.1 kB)\n",
      "Requirement already satisfied: python-dateutil<3,>=2.7.3 in c:\\users\\george welson\\appdata\\local\\programs\\python\\python3115\\lib\\site-packages (from streamlit) (2.8.2)\n",
      "Requirement already satisfied: requests<3,>=2.27 in c:\\users\\george welson\\appdata\\local\\programs\\python\\python3115\\lib\\site-packages (from streamlit) (2.31.0)\n",
      "Collecting rich<14,>=10.14.0 (from streamlit)\n",
      "  Using cached rich-13.6.0-py3-none-any.whl.metadata (18 kB)\n",
      "Requirement already satisfied: tenacity<9,>=8.1.0 in c:\\users\\george welson\\appdata\\local\\programs\\python\\python3115\\lib\\site-packages (from streamlit) (8.2.3)\n",
      "Collecting toml<2,>=0.10.1 (from streamlit)\n",
      "  Using cached toml-0.10.2-py2.py3-none-any.whl (16 kB)\n",
      "Requirement already satisfied: typing-extensions<5,>=4.3.0 in c:\\users\\george welson\\appdata\\local\\programs\\python\\python3115\\lib\\site-packages (from streamlit) (4.8.0)\n",
      "Collecting tzlocal<6,>=1.1 (from streamlit)\n",
      "  Using cached tzlocal-5.1-py3-none-any.whl.metadata (16 kB)\n",
      "Collecting validators<1,>=0.2 (from streamlit)\n",
      "  Using cached validators-0.22.0-py3-none-any.whl.metadata (4.7 kB)\n",
      "Collecting gitpython!=3.1.19,<4,>=3.0.7 (from streamlit)\n",
      "  Using cached GitPython-3.1.40-py3-none-any.whl.metadata (12 kB)\n",
      "Collecting pydeck<1,>=0.8.0b4 (from streamlit)\n",
      "  Using cached pydeck-0.8.1b0-py2.py3-none-any.whl (4.8 MB)\n",
      "Requirement already satisfied: tornado<7,>=6.0.3 in c:\\users\\george welson\\appdata\\local\\programs\\python\\python3115\\lib\\site-packages (from streamlit) (6.3.3)\n",
      "Collecting watchdog>=2.1.5 (from streamlit)\n",
      "  Using cached watchdog-3.0.0-py3-none-win_amd64.whl (82 kB)\n",
      "Requirement already satisfied: jinja2 in c:\\users\\george welson\\appdata\\local\\programs\\python\\python3115\\lib\\site-packages (from altair<6,>=4.0->streamlit) (3.1.2)\n",
      "Requirement already satisfied: jsonschema>=3.0 in c:\\users\\george welson\\appdata\\local\\programs\\python\\python3115\\lib\\site-packages (from altair<6,>=4.0->streamlit) (4.19.1)\n",
      "Collecting toolz (from altair<6,>=4.0->streamlit)\n",
      "  Using cached toolz-0.12.0-py3-none-any.whl (55 kB)\n",
      "Requirement already satisfied: colorama in c:\\users\\george welson\\appdata\\roaming\\python\\python311\\site-packages (from click<9,>=7.0->streamlit) (0.4.6)\n",
      "Collecting gitdb<5,>=4.0.1 (from gitpython!=3.1.19,<4,>=3.0.7->streamlit)\n",
      "  Using cached gitdb-4.0.11-py3-none-any.whl.metadata (1.2 kB)\n",
      "Collecting zipp>=0.5 (from importlib-metadata<7,>=1.4->streamlit)\n",
      "  Using cached zipp-3.17.0-py3-none-any.whl.metadata (3.7 kB)\n",
      "Requirement already satisfied: pytz>=2020.1 in c:\\users\\george welson\\appdata\\local\\programs\\python\\python3115\\lib\\site-packages (from pandas<3,>=1.3.0->streamlit) (2023.3.post1)\n",
      "Requirement already satisfied: tzdata>=2022.1 in c:\\users\\george welson\\appdata\\local\\programs\\python\\python3115\\lib\\site-packages (from pandas<3,>=1.3.0->streamlit) (2023.3)\n",
      "Requirement already satisfied: six>=1.5 in c:\\users\\george welson\\appdata\\local\\programs\\python\\python3115\\lib\\site-packages (from python-dateutil<3,>=2.7.3->streamlit) (1.16.0)\n",
      "Requirement already satisfied: charset-normalizer<4,>=2 in c:\\users\\george welson\\appdata\\local\\programs\\python\\python3115\\lib\\site-packages (from requests<3,>=2.27->streamlit) (3.3.0)\n",
      "Requirement already satisfied: idna<4,>=2.5 in c:\\users\\george welson\\appdata\\roaming\\python\\python311\\site-packages (from requests<3,>=2.27->streamlit) (2.10)\n",
      "Requirement already satisfied: urllib3<3,>=1.21.1 in c:\\users\\george welson\\appdata\\roaming\\python\\python311\\site-packages (from requests<3,>=2.27->streamlit) (1.25.11)\n",
      "Requirement already satisfied: certifi>=2017.4.17 in c:\\users\\george welson\\appdata\\roaming\\python\\python311\\site-packages (from requests<3,>=2.27->streamlit) (2023.5.7)\n",
      "Collecting markdown-it-py>=2.2.0 (from rich<14,>=10.14.0->streamlit)\n",
      "  Using cached markdown_it_py-3.0.0-py3-none-any.whl.metadata (6.9 kB)\n",
      "Requirement already satisfied: pygments<3.0.0,>=2.13.0 in c:\\users\\george welson\\appdata\\roaming\\python\\python311\\site-packages (from rich<14,>=10.14.0->streamlit) (2.16.1)\n",
      "Collecting smmap<6,>=3.0.1 (from gitdb<5,>=4.0.1->gitpython!=3.1.19,<4,>=3.0.7->streamlit)\n",
      "  Using cached smmap-5.0.1-py3-none-any.whl.metadata (4.3 kB)\n",
      "Requirement already satisfied: MarkupSafe>=2.0 in c:\\users\\george welson\\appdata\\local\\programs\\python\\python3115\\lib\\site-packages (from jinja2->altair<6,>=4.0->streamlit) (2.1.3)\n",
      "Requirement already satisfied: attrs>=22.2.0 in c:\\users\\george welson\\appdata\\local\\programs\\python\\python3115\\lib\\site-packages (from jsonschema>=3.0->altair<6,>=4.0->streamlit) (23.1.0)\n",
      "Requirement already satisfied: jsonschema-specifications>=2023.03.6 in c:\\users\\george welson\\appdata\\local\\programs\\python\\python3115\\lib\\site-packages (from jsonschema>=3.0->altair<6,>=4.0->streamlit) (2023.7.1)\n",
      "Requirement already satisfied: referencing>=0.28.4 in c:\\users\\george welson\\appdata\\local\\programs\\python\\python3115\\lib\\site-packages (from jsonschema>=3.0->altair<6,>=4.0->streamlit) (0.30.2)\n",
      "Requirement already satisfied: rpds-py>=0.7.1 in c:\\users\\george welson\\appdata\\local\\programs\\python\\python3115\\lib\\site-packages (from jsonschema>=3.0->altair<6,>=4.0->streamlit) (0.10.4)\n",
      "Collecting mdurl~=0.1 (from markdown-it-py>=2.2.0->rich<14,>=10.14.0->streamlit)\n",
      "  Using cached mdurl-0.1.2-py3-none-any.whl (10.0 kB)\n",
      "Using cached streamlit-1.27.2-py2.py3-none-any.whl (7.6 MB)\n",
      "Using cached altair-5.1.2-py3-none-any.whl (516 kB)\n",
      "Using cached blinker-1.6.3-py3-none-any.whl (13 kB)\n",
      "Using cached GitPython-3.1.40-py3-none-any.whl (190 kB)\n",
      "Using cached importlib_metadata-6.8.0-py3-none-any.whl (22 kB)\n",
      "Using cached pyarrow-13.0.0-cp311-cp311-win_amd64.whl (24.3 MB)\n",
      "Using cached rich-13.6.0-py3-none-any.whl (239 kB)\n",
      "Using cached tzlocal-5.1-py3-none-any.whl (21 kB)\n",
      "Using cached validators-0.22.0-py3-none-any.whl (26 kB)\n",
      "Using cached gitdb-4.0.11-py3-none-any.whl (62 kB)\n",
      "Using cached markdown_it_py-3.0.0-py3-none-any.whl (87 kB)\n",
      "Using cached zipp-3.17.0-py3-none-any.whl (7.4 kB)\n",
      "Using cached smmap-5.0.1-py3-none-any.whl (24 kB)\n",
      "Installing collected packages: zipp, watchdog, validators, tzlocal, toolz, toml, smmap, pyarrow, mdurl, blinker, pydeck, markdown-it-py, importlib-metadata, gitdb, rich, gitpython, altair, streamlit\n",
      "Successfully installed altair-5.1.2 blinker-1.6.3 gitdb-4.0.11 gitpython-3.1.40 importlib-metadata-6.8.0 markdown-it-py-3.0.0 mdurl-0.1.2 pyarrow-13.0.0 pydeck-0.8.1b0 rich-13.6.0 smmap-5.0.1 streamlit-1.27.2 toml-0.10.2 toolz-0.12.0 tzlocal-5.1 validators-0.22.0 watchdog-3.0.0 zipp-3.17.0\n",
      "Note: you may need to restart the kernel to use updated packages.\n"
     ]
    }
   ],
   "source": [
    "%pip install streamlit"
   ]
  },
  {
   "cell_type": "code",
   "execution_count": 104,
   "metadata": {
    "ExecuteTime": {
     "end_time": "2023-10-22T10:24:15.965109500Z",
     "start_time": "2023-10-22T10:24:13.827012400Z"
    },
    "colab": {
     "base_uri": "https://localhost:8080/"
    },
    "id": "MXKAIqtLQgY5",
    "outputId": "a6971184-1f54-4f07-ca74-cf286da996fe"
   },
   "outputs": [
    {
     "name": "stdout",
     "output_type": "stream",
     "text": [
      "Requirement already satisfied: statsmodels in c:\\users\\george welson\\appdata\\local\\programs\\python\\python3115\\lib\\site-packages (0.14.0)\n",
      "Requirement already satisfied: numpy>=1.18 in c:\\users\\george welson\\appdata\\local\\programs\\python\\python3115\\lib\\site-packages (from statsmodels) (1.26.0)\n",
      "Requirement already satisfied: scipy!=1.9.2,>=1.4 in c:\\users\\george welson\\appdata\\local\\programs\\python\\python3115\\lib\\site-packages (from statsmodels) (1.11.3)\n",
      "Requirement already satisfied: pandas>=1.0 in c:\\users\\george welson\\appdata\\local\\programs\\python\\python3115\\lib\\site-packages (from statsmodels) (2.1.1)\n",
      "Requirement already satisfied: patsy>=0.5.2 in c:\\users\\george welson\\appdata\\local\\programs\\python\\python3115\\lib\\site-packages (from statsmodels) (0.5.3)\n",
      "Requirement already satisfied: packaging>=21.3 in c:\\users\\george welson\\appdata\\local\\programs\\python\\python3115\\lib\\site-packages (from statsmodels) (23.2)\n",
      "Requirement already satisfied: python-dateutil>=2.8.2 in c:\\users\\george welson\\appdata\\local\\programs\\python\\python3115\\lib\\site-packages (from pandas>=1.0->statsmodels) (2.8.2)\n",
      "Requirement already satisfied: pytz>=2020.1 in c:\\users\\george welson\\appdata\\local\\programs\\python\\python3115\\lib\\site-packages (from pandas>=1.0->statsmodels) (2023.3.post1)\n",
      "Requirement already satisfied: tzdata>=2022.1 in c:\\users\\george welson\\appdata\\local\\programs\\python\\python3115\\lib\\site-packages (from pandas>=1.0->statsmodels) (2023.3)\n",
      "Requirement already satisfied: six in c:\\users\\george welson\\appdata\\local\\programs\\python\\python3115\\lib\\site-packages (from patsy>=0.5.2->statsmodels) (1.16.0)\n",
      "Note: you may need to restart the kernel to use updated packages.\n"
     ]
    }
   ],
   "source": [
    "%pip install statsmodels"
   ]
  },
  {
   "cell_type": "code",
   "execution_count": 105,
   "metadata": {
    "ExecuteTime": {
     "end_time": "2023-10-22T10:24:18.038895100Z",
     "start_time": "2023-10-22T10:24:15.966109900Z"
    },
    "colab": {
     "base_uri": "https://localhost:8080/"
    },
    "id": "Tpv3sVlDQgY5",
    "outputId": "8f7deb99-a192-4e64-a351-9ef879be9c1d"
   },
   "outputs": [
    {
     "name": "stdout",
     "output_type": "stream",
     "text": [
      "Requirement already satisfied: torch in c:\\users\\george welson\\appdata\\local\\programs\\python\\python3115\\lib\\site-packages (2.1.0)\n",
      "Requirement already satisfied: filelock in c:\\users\\george welson\\appdata\\local\\programs\\python\\python3115\\lib\\site-packages (from torch) (3.12.4)\n",
      "Requirement already satisfied: typing-extensions in c:\\users\\george welson\\appdata\\local\\programs\\python\\python3115\\lib\\site-packages (from torch) (4.8.0)\n",
      "Requirement already satisfied: sympy in c:\\users\\george welson\\appdata\\local\\programs\\python\\python3115\\lib\\site-packages (from torch) (1.12)\n",
      "Requirement already satisfied: networkx in c:\\users\\george welson\\appdata\\local\\programs\\python\\python3115\\lib\\site-packages (from torch) (3.1)\n",
      "Requirement already satisfied: jinja2 in c:\\users\\george welson\\appdata\\local\\programs\\python\\python3115\\lib\\site-packages (from torch) (3.1.2)\n",
      "Requirement already satisfied: fsspec in c:\\users\\george welson\\appdata\\local\\programs\\python\\python3115\\lib\\site-packages (from torch) (2023.9.2)\n",
      "Requirement already satisfied: MarkupSafe>=2.0 in c:\\users\\george welson\\appdata\\local\\programs\\python\\python3115\\lib\\site-packages (from jinja2->torch) (2.1.3)\n",
      "Requirement already satisfied: mpmath>=0.19 in c:\\users\\george welson\\appdata\\local\\programs\\python\\python3115\\lib\\site-packages (from sympy->torch) (1.3.0)\n",
      "Note: you may need to restart the kernel to use updated packages.\n"
     ]
    }
   ],
   "source": [
    "%pip install torch"
   ]
  },
  {
   "cell_type": "code",
   "execution_count": 259,
   "metadata": {
    "id": "_DjLkfnxGxyb",
    "ExecuteTime": {
     "end_time": "2023-10-22T19:49:08.678918300Z",
     "start_time": "2023-10-22T19:49:08.647397900Z"
    }
   },
   "outputs": [],
   "source": [
    "import numpy as np\n",
    "import pandas as pd\n",
    "import matplotlib.pyplot as plt\n",
    "import seaborn as sns\n",
    "from sklearn.model_selection import train_test_split\n",
    "from sklearn.preprocessing import MinMaxScaler\n",
    "from keras.models import Sequential\n",
    "from keras.layers import Dense, Dropout, LSTM, Conv1D, MaxPooling1D, Flatten\n",
    "from keras.optimizers import Adam\n",
    "from sklearn.metrics import mean_squared_error\n",
    "import torch\n",
    "import torch.nn as nn\n",
    "from torch.utils.data import Dataset,DataLoader\n",
    "from statsmodels.graphics.tsaplots import plot_acf, plot_pacf\n",
    "from statsmodels.tsa.statespace.varmax import VARMAX\n",
    "from statsmodels.tsa.api import VAR\n",
    "from statsmodels.tsa.stattools import grangercausalitytests, adfuller\n",
    "from tqdm import tqdm_notebook\n",
    "from itertools import product\n",
    "from datetime import timedelta\n",
    "import pickle"
   ]
  },
  {
   "cell_type": "code",
   "execution_count": 246,
   "metadata": {
    "colab": {
     "base_uri": "https://localhost:8080/",
     "height": 36
    },
    "id": "bilDkp7vQgY6",
    "outputId": "2af2a045-d648-419d-a346-c2c3d97e6dd7",
    "ExecuteTime": {
     "end_time": "2023-10-22T19:27:15.876853100Z",
     "start_time": "2023-10-22T19:27:15.849014600Z"
    }
   },
   "outputs": [
    {
     "data": {
      "text/plain": "'cpu'"
     },
     "execution_count": 246,
     "metadata": {},
     "output_type": "execute_result"
    }
   ],
   "source": [
    "device = 'cuda:0' if torch.cuda.is_available() else 'cpu'\n",
    "device"
   ]
  },
  {
   "cell_type": "markdown",
   "metadata": {
    "id": "grLIQF-pGZw1"
   },
   "source": [
    "## Loading Dataset"
   ]
  },
  {
   "cell_type": "code",
   "execution_count": 247,
   "metadata": {
    "colab": {
     "base_uri": "https://localhost:8080/",
     "height": 614
    },
    "id": "fmhcgXvGE4io",
    "outputId": "0a39785d-36ff-4a49-d302-4a53638e08b1",
    "ExecuteTime": {
     "end_time": "2023-10-22T19:27:16.737868300Z",
     "start_time": "2023-10-22T19:27:16.701129500Z"
    }
   },
   "outputs": [
    {
     "data": {
      "text/plain": "           Date   Price    Open    High     Low   Vol.  Change %  Month  \\\n0    2023-10-05  3.5520  3.5830  3.6030  3.5490  58.69      1.03   10.0   \n1    2023-10-04  3.5890  3.6185  3.6220  3.5490  76.86      0.88   10.0   \n2    2023-10-03  3.6210  3.6480  3.6480  3.5815  69.45      0.56   10.0   \n3    2023-10-02  3.6415  3.7540  3.7615  3.6275  74.92      2.57   10.0   \n4    2023-09-29  3.7375  3.7125  3.7860  3.7115  82.33      0.80    9.0   \n...         ...     ...     ...     ...     ...    ...       ...    ...   \n2702 2013-01-07  3.6780  3.7035  3.7135  3.6525  39.01      0.03    1.0   \n2703 2013-01-06  3.6790  3.6840  3.6900  3.6710   0.29      0.39    1.0   \n2704 2013-01-04  3.6935  3.6935  3.7070  3.6710  45.82      0.63    1.0   \n2705 2013-01-03  3.7170  3.7315  3.7590  3.6900  44.09      0.51    1.0   \n2706 2013-01-02  3.7360  3.6510  3.7590  3.6440  48.42      2.29    1.0   \n\n        Year   Real_GDP      CPI  inflation_rate  PALLFNFINDEXM  \n0     2023.0  19374.000      NaN        6.600000            NaN  \n1     2023.0  19374.000      NaN        6.600000            NaN  \n2     2023.0  19374.000      NaN        6.600000            NaN  \n3     2023.0  19374.000      NaN        6.600000            NaN  \n4     2023.0  19374.000      NaN        6.600000            NaN  \n...      ...        ...      ...             ...            ...  \n2702  2013.0  17812.167  232.166        1.464833        232.166  \n2703  2013.0  17812.167  232.166        1.464833        232.166  \n2704  2013.0  17812.167  232.166        1.464833        232.166  \n2705  2013.0  17812.167  232.166        1.464833        232.166  \n2706  2013.0  17812.167  232.166        1.464833        232.166  \n\n[2707 rows x 13 columns]",
      "text/html": "<div>\n<style scoped>\n    .dataframe tbody tr th:only-of-type {\n        vertical-align: middle;\n    }\n\n    .dataframe tbody tr th {\n        vertical-align: top;\n    }\n\n    .dataframe thead th {\n        text-align: right;\n    }\n</style>\n<table border=\"1\" class=\"dataframe\">\n  <thead>\n    <tr style=\"text-align: right;\">\n      <th></th>\n      <th>Date</th>\n      <th>Price</th>\n      <th>Open</th>\n      <th>High</th>\n      <th>Low</th>\n      <th>Vol.</th>\n      <th>Change %</th>\n      <th>Month</th>\n      <th>Year</th>\n      <th>Real_GDP</th>\n      <th>CPI</th>\n      <th>inflation_rate</th>\n      <th>PALLFNFINDEXM</th>\n    </tr>\n  </thead>\n  <tbody>\n    <tr>\n      <th>0</th>\n      <td>2023-10-05</td>\n      <td>3.5520</td>\n      <td>3.5830</td>\n      <td>3.6030</td>\n      <td>3.5490</td>\n      <td>58.69</td>\n      <td>1.03</td>\n      <td>10.0</td>\n      <td>2023.0</td>\n      <td>19374.000</td>\n      <td>NaN</td>\n      <td>6.600000</td>\n      <td>NaN</td>\n    </tr>\n    <tr>\n      <th>1</th>\n      <td>2023-10-04</td>\n      <td>3.5890</td>\n      <td>3.6185</td>\n      <td>3.6220</td>\n      <td>3.5490</td>\n      <td>76.86</td>\n      <td>0.88</td>\n      <td>10.0</td>\n      <td>2023.0</td>\n      <td>19374.000</td>\n      <td>NaN</td>\n      <td>6.600000</td>\n      <td>NaN</td>\n    </tr>\n    <tr>\n      <th>2</th>\n      <td>2023-10-03</td>\n      <td>3.6210</td>\n      <td>3.6480</td>\n      <td>3.6480</td>\n      <td>3.5815</td>\n      <td>69.45</td>\n      <td>0.56</td>\n      <td>10.0</td>\n      <td>2023.0</td>\n      <td>19374.000</td>\n      <td>NaN</td>\n      <td>6.600000</td>\n      <td>NaN</td>\n    </tr>\n    <tr>\n      <th>3</th>\n      <td>2023-10-02</td>\n      <td>3.6415</td>\n      <td>3.7540</td>\n      <td>3.7615</td>\n      <td>3.6275</td>\n      <td>74.92</td>\n      <td>2.57</td>\n      <td>10.0</td>\n      <td>2023.0</td>\n      <td>19374.000</td>\n      <td>NaN</td>\n      <td>6.600000</td>\n      <td>NaN</td>\n    </tr>\n    <tr>\n      <th>4</th>\n      <td>2023-09-29</td>\n      <td>3.7375</td>\n      <td>3.7125</td>\n      <td>3.7860</td>\n      <td>3.7115</td>\n      <td>82.33</td>\n      <td>0.80</td>\n      <td>9.0</td>\n      <td>2023.0</td>\n      <td>19374.000</td>\n      <td>NaN</td>\n      <td>6.600000</td>\n      <td>NaN</td>\n    </tr>\n    <tr>\n      <th>...</th>\n      <td>...</td>\n      <td>...</td>\n      <td>...</td>\n      <td>...</td>\n      <td>...</td>\n      <td>...</td>\n      <td>...</td>\n      <td>...</td>\n      <td>...</td>\n      <td>...</td>\n      <td>...</td>\n      <td>...</td>\n      <td>...</td>\n    </tr>\n    <tr>\n      <th>2702</th>\n      <td>2013-01-07</td>\n      <td>3.6780</td>\n      <td>3.7035</td>\n      <td>3.7135</td>\n      <td>3.6525</td>\n      <td>39.01</td>\n      <td>0.03</td>\n      <td>1.0</td>\n      <td>2013.0</td>\n      <td>17812.167</td>\n      <td>232.166</td>\n      <td>1.464833</td>\n      <td>232.166</td>\n    </tr>\n    <tr>\n      <th>2703</th>\n      <td>2013-01-06</td>\n      <td>3.6790</td>\n      <td>3.6840</td>\n      <td>3.6900</td>\n      <td>3.6710</td>\n      <td>0.29</td>\n      <td>0.39</td>\n      <td>1.0</td>\n      <td>2013.0</td>\n      <td>17812.167</td>\n      <td>232.166</td>\n      <td>1.464833</td>\n      <td>232.166</td>\n    </tr>\n    <tr>\n      <th>2704</th>\n      <td>2013-01-04</td>\n      <td>3.6935</td>\n      <td>3.6935</td>\n      <td>3.7070</td>\n      <td>3.6710</td>\n      <td>45.82</td>\n      <td>0.63</td>\n      <td>1.0</td>\n      <td>2013.0</td>\n      <td>17812.167</td>\n      <td>232.166</td>\n      <td>1.464833</td>\n      <td>232.166</td>\n    </tr>\n    <tr>\n      <th>2705</th>\n      <td>2013-01-03</td>\n      <td>3.7170</td>\n      <td>3.7315</td>\n      <td>3.7590</td>\n      <td>3.6900</td>\n      <td>44.09</td>\n      <td>0.51</td>\n      <td>1.0</td>\n      <td>2013.0</td>\n      <td>17812.167</td>\n      <td>232.166</td>\n      <td>1.464833</td>\n      <td>232.166</td>\n    </tr>\n    <tr>\n      <th>2706</th>\n      <td>2013-01-02</td>\n      <td>3.7360</td>\n      <td>3.6510</td>\n      <td>3.7590</td>\n      <td>3.6440</td>\n      <td>48.42</td>\n      <td>2.29</td>\n      <td>1.0</td>\n      <td>2013.0</td>\n      <td>17812.167</td>\n      <td>232.166</td>\n      <td>1.464833</td>\n      <td>232.166</td>\n    </tr>\n  </tbody>\n</table>\n<p>2707 rows × 13 columns</p>\n</div>"
     },
     "execution_count": 247,
     "metadata": {},
     "output_type": "execute_result"
    }
   ],
   "source": [
    "df = pd.read_csv('final_merged_copper_dataset_new.csv')\n",
    "df = df.drop(['Unnamed: 0'], axis=1)\n",
    "df[\"Date\"] = pd.to_datetime(df[\"Date\"])\n",
    "df"
   ]
  },
  {
   "cell_type": "code",
   "execution_count": 255,
   "metadata": {
    "colab": {
     "base_uri": "https://localhost:8080/",
     "height": 310
    },
    "id": "ZuCLp5fBFQNk",
    "outputId": "cd4e9b70-673f-4155-8005-a369716d3f94",
    "ExecuteTime": {
     "end_time": "2023-10-22T19:30:23.146680100Z",
     "start_time": "2023-10-22T19:30:23.096720600Z"
    }
   },
   "outputs": [
    {
     "data": {
      "text/plain": "datetime.date(2023, 10, 5)"
     },
     "execution_count": 255,
     "metadata": {},
     "output_type": "execute_result"
    }
   ],
   "source": [
    "last_date = df['Date'].max().date()\n",
    "last_date"
   ]
  },
  {
   "cell_type": "code",
   "execution_count": 174,
   "metadata": {
    "colab": {
     "base_uri": "https://localhost:8080/"
    },
    "id": "NmvbP9YOkb3p",
    "outputId": "6d6e97ab-3f0f-47b6-ee16-db61e52c1dfe",
    "ExecuteTime": {
     "end_time": "2023-10-22T18:54:40.437245400Z",
     "start_time": "2023-10-22T18:54:40.396665400Z"
    }
   },
   "outputs": [
    {
     "data": {
      "text/plain": "Date               0\nPrice              0\nOpen               0\nHigh               0\nLow                0\nVol.               0\nChange %           0\nMonth              0\nYear               0\nReal_GDP           0\nCPI               24\ninflation_rate     0\nPALLFNFINDEXM     24\ndtype: int64"
     },
     "execution_count": 174,
     "metadata": {},
     "output_type": "execute_result"
    }
   ],
   "source": [
    "df.isnull().sum()"
   ]
  },
  {
   "cell_type": "code",
   "execution_count": 175,
   "metadata": {
    "colab": {
     "base_uri": "https://localhost:8080/"
    },
    "id": "cPrXvTzRkitb",
    "outputId": "be893218-51bc-45f3-d871-76bef9c7219f",
    "ExecuteTime": {
     "end_time": "2023-10-22T18:54:40.664630400Z",
     "start_time": "2023-10-22T18:54:40.569417500Z"
    }
   },
   "outputs": [
    {
     "data": {
      "text/plain": "Date              0\nPrice             0\nOpen              0\nHigh              0\nLow               0\nVol.              0\nChange %          0\nMonth             0\nYear              0\nReal_GDP          0\nCPI               0\ninflation_rate    0\nPALLFNFINDEXM     0\ndtype: int64"
     },
     "execution_count": 175,
     "metadata": {},
     "output_type": "execute_result"
    }
   ],
   "source": [
    "# Set a constant value for missing 'CPI' in the year 2023\n",
    "constant_value_CPI_2023 = 307.0\n",
    "# Fill the missing 'CPI' values with the constant value for 2023\n",
    "df['CPI'] = df['CPI'].fillna(\n",
    "    df['Year'].apply(lambda x: constant_value_CPI_2023 if x == 2023 else np.nan))\n",
    "\n",
    "# Set a constant value for missing 'PALLFNFINDEXM' in the year 2023\n",
    "constant_value_PALLFNFINDEXM_2023 = 161.45\n",
    "# Fill the missing 'PALLFNFINDEXM' values with the constant value for 2023\n",
    "df['PALLFNFINDEXM'] = df['PALLFNFINDEXM'].fillna(\n",
    "    df['Year'].apply(lambda x: constant_value_PALLFNFINDEXM_2023 if x == 2023 else np.nan))\n",
    "\n",
    "df.isnull().sum()"
   ]
  },
  {
   "cell_type": "code",
   "execution_count": 176,
   "metadata": {
    "colab": {
     "base_uri": "https://localhost:8080/",
     "height": 423
    },
    "id": "v2_0Bq9cY4Ok",
    "outputId": "f061ad02-991d-4d4e-b4d4-9c3b6087d668",
    "ExecuteTime": {
     "end_time": "2023-10-22T18:54:40.883317500Z",
     "start_time": "2023-10-22T18:54:40.822761Z"
    }
   },
   "outputs": [
    {
     "data": {
      "text/plain": "           Date   Price   Real_GDP      CPI  inflation_rate  PALLFNFINDEXM\n0    2023-10-05  3.5520  19374.000  307.000        6.600000        161.450\n1    2023-10-04  3.5890  19374.000  307.000        6.600000        161.450\n2    2023-10-03  3.6210  19374.000  307.000        6.600000        161.450\n3    2023-10-02  3.6415  19374.000  307.000        6.600000        161.450\n4    2023-09-29  3.7375  19374.000  307.000        6.600000        161.450\n...         ...     ...        ...      ...             ...            ...\n2702 2013-01-07  3.6780  17812.167  232.166        1.464833        232.166\n2703 2013-01-06  3.6790  17812.167  232.166        1.464833        232.166\n2704 2013-01-04  3.6935  17812.167  232.166        1.464833        232.166\n2705 2013-01-03  3.7170  17812.167  232.166        1.464833        232.166\n2706 2013-01-02  3.7360  17812.167  232.166        1.464833        232.166\n\n[2707 rows x 6 columns]",
      "text/html": "<div>\n<style scoped>\n    .dataframe tbody tr th:only-of-type {\n        vertical-align: middle;\n    }\n\n    .dataframe tbody tr th {\n        vertical-align: top;\n    }\n\n    .dataframe thead th {\n        text-align: right;\n    }\n</style>\n<table border=\"1\" class=\"dataframe\">\n  <thead>\n    <tr style=\"text-align: right;\">\n      <th></th>\n      <th>Date</th>\n      <th>Price</th>\n      <th>Real_GDP</th>\n      <th>CPI</th>\n      <th>inflation_rate</th>\n      <th>PALLFNFINDEXM</th>\n    </tr>\n  </thead>\n  <tbody>\n    <tr>\n      <th>0</th>\n      <td>2023-10-05</td>\n      <td>3.5520</td>\n      <td>19374.000</td>\n      <td>307.000</td>\n      <td>6.600000</td>\n      <td>161.450</td>\n    </tr>\n    <tr>\n      <th>1</th>\n      <td>2023-10-04</td>\n      <td>3.5890</td>\n      <td>19374.000</td>\n      <td>307.000</td>\n      <td>6.600000</td>\n      <td>161.450</td>\n    </tr>\n    <tr>\n      <th>2</th>\n      <td>2023-10-03</td>\n      <td>3.6210</td>\n      <td>19374.000</td>\n      <td>307.000</td>\n      <td>6.600000</td>\n      <td>161.450</td>\n    </tr>\n    <tr>\n      <th>3</th>\n      <td>2023-10-02</td>\n      <td>3.6415</td>\n      <td>19374.000</td>\n      <td>307.000</td>\n      <td>6.600000</td>\n      <td>161.450</td>\n    </tr>\n    <tr>\n      <th>4</th>\n      <td>2023-09-29</td>\n      <td>3.7375</td>\n      <td>19374.000</td>\n      <td>307.000</td>\n      <td>6.600000</td>\n      <td>161.450</td>\n    </tr>\n    <tr>\n      <th>...</th>\n      <td>...</td>\n      <td>...</td>\n      <td>...</td>\n      <td>...</td>\n      <td>...</td>\n      <td>...</td>\n    </tr>\n    <tr>\n      <th>2702</th>\n      <td>2013-01-07</td>\n      <td>3.6780</td>\n      <td>17812.167</td>\n      <td>232.166</td>\n      <td>1.464833</td>\n      <td>232.166</td>\n    </tr>\n    <tr>\n      <th>2703</th>\n      <td>2013-01-06</td>\n      <td>3.6790</td>\n      <td>17812.167</td>\n      <td>232.166</td>\n      <td>1.464833</td>\n      <td>232.166</td>\n    </tr>\n    <tr>\n      <th>2704</th>\n      <td>2013-01-04</td>\n      <td>3.6935</td>\n      <td>17812.167</td>\n      <td>232.166</td>\n      <td>1.464833</td>\n      <td>232.166</td>\n    </tr>\n    <tr>\n      <th>2705</th>\n      <td>2013-01-03</td>\n      <td>3.7170</td>\n      <td>17812.167</td>\n      <td>232.166</td>\n      <td>1.464833</td>\n      <td>232.166</td>\n    </tr>\n    <tr>\n      <th>2706</th>\n      <td>2013-01-02</td>\n      <td>3.7360</td>\n      <td>17812.167</td>\n      <td>232.166</td>\n      <td>1.464833</td>\n      <td>232.166</td>\n    </tr>\n  </tbody>\n</table>\n<p>2707 rows × 6 columns</p>\n</div>"
     },
     "execution_count": 176,
     "metadata": {},
     "output_type": "execute_result"
    }
   ],
   "source": [
    "df = df.drop(['Month','Year', 'Open', 'High', 'Low', 'Vol.', 'Change %'], axis=1)\n",
    "df"
   ]
  },
  {
   "cell_type": "code",
   "execution_count": 177,
   "metadata": {
    "colab": {
     "base_uri": "https://localhost:8080/",
     "height": 423
    },
    "id": "B4L_6iEaFfbS",
    "outputId": "f6512c86-ddf6-477e-c49e-88e3b65bc233",
    "ExecuteTime": {
     "end_time": "2023-10-22T18:54:41.067995400Z",
     "start_time": "2023-10-22T18:54:41.024404700Z"
    }
   },
   "outputs": [
    {
     "data": {
      "text/plain": "           Date   Price   Real_GDP      CPI  inflation_rate  PALLFNFINDEXM\n0    2013-01-02  3.7360  17812.167  232.166        1.464833        232.166\n1    2013-01-03  3.7170  17812.167  232.166        1.464833        232.166\n2    2013-01-04  3.6935  17812.167  232.166        1.464833        232.166\n3    2013-01-06  3.6790  17812.167  232.166        1.464833        232.166\n4    2013-01-07  3.6780  17812.167  232.166        1.464833        232.166\n...         ...     ...        ...      ...             ...            ...\n2702 2023-09-29  3.7375  19374.000  307.000        6.600000        161.450\n2703 2023-10-02  3.6415  19374.000  307.000        6.600000        161.450\n2704 2023-10-03  3.6210  19374.000  307.000        6.600000        161.450\n2705 2023-10-04  3.5890  19374.000  307.000        6.600000        161.450\n2706 2023-10-05  3.5520  19374.000  307.000        6.600000        161.450\n\n[2707 rows x 6 columns]",
      "text/html": "<div>\n<style scoped>\n    .dataframe tbody tr th:only-of-type {\n        vertical-align: middle;\n    }\n\n    .dataframe tbody tr th {\n        vertical-align: top;\n    }\n\n    .dataframe thead th {\n        text-align: right;\n    }\n</style>\n<table border=\"1\" class=\"dataframe\">\n  <thead>\n    <tr style=\"text-align: right;\">\n      <th></th>\n      <th>Date</th>\n      <th>Price</th>\n      <th>Real_GDP</th>\n      <th>CPI</th>\n      <th>inflation_rate</th>\n      <th>PALLFNFINDEXM</th>\n    </tr>\n  </thead>\n  <tbody>\n    <tr>\n      <th>0</th>\n      <td>2013-01-02</td>\n      <td>3.7360</td>\n      <td>17812.167</td>\n      <td>232.166</td>\n      <td>1.464833</td>\n      <td>232.166</td>\n    </tr>\n    <tr>\n      <th>1</th>\n      <td>2013-01-03</td>\n      <td>3.7170</td>\n      <td>17812.167</td>\n      <td>232.166</td>\n      <td>1.464833</td>\n      <td>232.166</td>\n    </tr>\n    <tr>\n      <th>2</th>\n      <td>2013-01-04</td>\n      <td>3.6935</td>\n      <td>17812.167</td>\n      <td>232.166</td>\n      <td>1.464833</td>\n      <td>232.166</td>\n    </tr>\n    <tr>\n      <th>3</th>\n      <td>2013-01-06</td>\n      <td>3.6790</td>\n      <td>17812.167</td>\n      <td>232.166</td>\n      <td>1.464833</td>\n      <td>232.166</td>\n    </tr>\n    <tr>\n      <th>4</th>\n      <td>2013-01-07</td>\n      <td>3.6780</td>\n      <td>17812.167</td>\n      <td>232.166</td>\n      <td>1.464833</td>\n      <td>232.166</td>\n    </tr>\n    <tr>\n      <th>...</th>\n      <td>...</td>\n      <td>...</td>\n      <td>...</td>\n      <td>...</td>\n      <td>...</td>\n      <td>...</td>\n    </tr>\n    <tr>\n      <th>2702</th>\n      <td>2023-09-29</td>\n      <td>3.7375</td>\n      <td>19374.000</td>\n      <td>307.000</td>\n      <td>6.600000</td>\n      <td>161.450</td>\n    </tr>\n    <tr>\n      <th>2703</th>\n      <td>2023-10-02</td>\n      <td>3.6415</td>\n      <td>19374.000</td>\n      <td>307.000</td>\n      <td>6.600000</td>\n      <td>161.450</td>\n    </tr>\n    <tr>\n      <th>2704</th>\n      <td>2023-10-03</td>\n      <td>3.6210</td>\n      <td>19374.000</td>\n      <td>307.000</td>\n      <td>6.600000</td>\n      <td>161.450</td>\n    </tr>\n    <tr>\n      <th>2705</th>\n      <td>2023-10-04</td>\n      <td>3.5890</td>\n      <td>19374.000</td>\n      <td>307.000</td>\n      <td>6.600000</td>\n      <td>161.450</td>\n    </tr>\n    <tr>\n      <th>2706</th>\n      <td>2023-10-05</td>\n      <td>3.5520</td>\n      <td>19374.000</td>\n      <td>307.000</td>\n      <td>6.600000</td>\n      <td>161.450</td>\n    </tr>\n  </tbody>\n</table>\n<p>2707 rows × 6 columns</p>\n</div>"
     },
     "execution_count": 177,
     "metadata": {},
     "output_type": "execute_result"
    }
   ],
   "source": [
    "df = df.iloc[::-1]\n",
    "\n",
    "df.reset_index(drop=True, inplace=True)\n",
    "df"
   ]
  },
  {
   "cell_type": "code",
   "execution_count": 178,
   "metadata": {
    "colab": {
     "base_uri": "https://localhost:8080/"
    },
    "id": "eeKL-oFVQgY9",
    "outputId": "5a997432-6c8e-4e7f-e428-49a6a4f846ab",
    "ExecuteTime": {
     "end_time": "2023-10-22T18:54:41.305851800Z",
     "start_time": "2023-10-22T18:54:41.242250700Z"
    }
   },
   "outputs": [
    {
     "data": {
      "text/plain": "Date     datetime64[ns]\nPrice           float64\ndtype: object"
     },
     "execution_count": 178,
     "metadata": {},
     "output_type": "execute_result"
    }
   ],
   "source": [
    "LOOKBACK = 7\n",
    "data = pd.DataFrame({'Date': df[\"Date\"].copy(),\n",
    "                     'Price': df[\"Price\"].copy()})\n",
    "# Select the \"Date\" column and store it in the variable 'train_dates'.\n",
    "dates = data[\"Date\"]\n",
    "\n",
    "# Exclude the first 'LOOKBACK' dates from 'train_dates' to create a time window.\n",
    "dates = dates[LOOKBACK:]\n",
    "data.dtypes"
   ]
  },
  {
   "cell_type": "code",
   "execution_count": 179,
   "metadata": {
    "id": "Bn6JONj4QgY-",
    "ExecuteTime": {
     "end_time": "2023-10-22T18:54:41.953156800Z",
     "start_time": "2023-10-22T18:54:41.936304500Z"
    }
   },
   "outputs": [],
   "source": [
    "dates.reset_index(drop=True, inplace=True)"
   ]
  },
  {
   "cell_type": "code",
   "execution_count": 180,
   "metadata": {
    "colab": {
     "base_uri": "https://localhost:8080/"
    },
    "id": "mbe_uzvJQgY-",
    "outputId": "81b9932e-9017-43dd-a846-d9017f8c7667",
    "ExecuteTime": {
     "end_time": "2023-10-22T18:54:42.441016900Z",
     "start_time": "2023-10-22T18:54:42.425606900Z"
    }
   },
   "outputs": [
    {
     "data": {
      "text/plain": "0      2013-01-10\n1      2013-01-11\n2      2013-01-13\n3      2013-01-14\n4      2013-01-15\n          ...    \n2695   2023-09-29\n2696   2023-10-02\n2697   2023-10-03\n2698   2023-10-04\n2699   2023-10-05\nName: Date, Length: 2700, dtype: datetime64[ns]"
     },
     "execution_count": 180,
     "metadata": {},
     "output_type": "execute_result"
    }
   ],
   "source": [
    "dates"
   ]
  },
  {
   "cell_type": "code",
   "execution_count": 181,
   "metadata": {
    "colab": {
     "base_uri": "https://localhost:8080/",
     "height": 423
    },
    "id": "CuUo7vcDQgY-",
    "outputId": "c38ed307-e2d9-463a-a478-06e2146f7257",
    "ExecuteTime": {
     "end_time": "2023-10-22T18:54:42.950097400Z",
     "start_time": "2023-10-22T18:54:42.916814300Z"
    }
   },
   "outputs": [
    {
     "data": {
      "text/plain": "           Date   Price   Real_GDP      CPI  inflation_rate  PALLFNFINDEXM\n0    2013-01-02  3.7360  17812.167  232.166        1.464833        232.166\n1    2013-01-03  3.7170  17812.167  232.166        1.464833        232.166\n2    2013-01-04  3.6935  17812.167  232.166        1.464833        232.166\n3    2013-01-06  3.6790  17812.167  232.166        1.464833        232.166\n4    2013-01-07  3.6780  17812.167  232.166        1.464833        232.166\n...         ...     ...        ...      ...             ...            ...\n2695 2023-09-20  3.7760  19374.000  307.000        6.600000        161.450\n2696 2023-09-21  3.6960  19374.000  307.000        6.600000        161.450\n2697 2023-09-22  3.6960  19374.000  307.000        6.600000        161.450\n2698 2023-09-25  3.6700  19374.000  307.000        6.600000        161.450\n2699 2023-09-26  3.6490  19374.000  307.000        6.600000        161.450\n\n[2700 rows x 6 columns]",
      "text/html": "<div>\n<style scoped>\n    .dataframe tbody tr th:only-of-type {\n        vertical-align: middle;\n    }\n\n    .dataframe tbody tr th {\n        vertical-align: top;\n    }\n\n    .dataframe thead th {\n        text-align: right;\n    }\n</style>\n<table border=\"1\" class=\"dataframe\">\n  <thead>\n    <tr style=\"text-align: right;\">\n      <th></th>\n      <th>Date</th>\n      <th>Price</th>\n      <th>Real_GDP</th>\n      <th>CPI</th>\n      <th>inflation_rate</th>\n      <th>PALLFNFINDEXM</th>\n    </tr>\n  </thead>\n  <tbody>\n    <tr>\n      <th>0</th>\n      <td>2013-01-02</td>\n      <td>3.7360</td>\n      <td>17812.167</td>\n      <td>232.166</td>\n      <td>1.464833</td>\n      <td>232.166</td>\n    </tr>\n    <tr>\n      <th>1</th>\n      <td>2013-01-03</td>\n      <td>3.7170</td>\n      <td>17812.167</td>\n      <td>232.166</td>\n      <td>1.464833</td>\n      <td>232.166</td>\n    </tr>\n    <tr>\n      <th>2</th>\n      <td>2013-01-04</td>\n      <td>3.6935</td>\n      <td>17812.167</td>\n      <td>232.166</td>\n      <td>1.464833</td>\n      <td>232.166</td>\n    </tr>\n    <tr>\n      <th>3</th>\n      <td>2013-01-06</td>\n      <td>3.6790</td>\n      <td>17812.167</td>\n      <td>232.166</td>\n      <td>1.464833</td>\n      <td>232.166</td>\n    </tr>\n    <tr>\n      <th>4</th>\n      <td>2013-01-07</td>\n      <td>3.6780</td>\n      <td>17812.167</td>\n      <td>232.166</td>\n      <td>1.464833</td>\n      <td>232.166</td>\n    </tr>\n    <tr>\n      <th>...</th>\n      <td>...</td>\n      <td>...</td>\n      <td>...</td>\n      <td>...</td>\n      <td>...</td>\n      <td>...</td>\n    </tr>\n    <tr>\n      <th>2695</th>\n      <td>2023-09-20</td>\n      <td>3.7760</td>\n      <td>19374.000</td>\n      <td>307.000</td>\n      <td>6.600000</td>\n      <td>161.450</td>\n    </tr>\n    <tr>\n      <th>2696</th>\n      <td>2023-09-21</td>\n      <td>3.6960</td>\n      <td>19374.000</td>\n      <td>307.000</td>\n      <td>6.600000</td>\n      <td>161.450</td>\n    </tr>\n    <tr>\n      <th>2697</th>\n      <td>2023-09-22</td>\n      <td>3.6960</td>\n      <td>19374.000</td>\n      <td>307.000</td>\n      <td>6.600000</td>\n      <td>161.450</td>\n    </tr>\n    <tr>\n      <th>2698</th>\n      <td>2023-09-25</td>\n      <td>3.6700</td>\n      <td>19374.000</td>\n      <td>307.000</td>\n      <td>6.600000</td>\n      <td>161.450</td>\n    </tr>\n    <tr>\n      <th>2699</th>\n      <td>2023-09-26</td>\n      <td>3.6490</td>\n      <td>19374.000</td>\n      <td>307.000</td>\n      <td>6.600000</td>\n      <td>161.450</td>\n    </tr>\n  </tbody>\n</table>\n<p>2700 rows × 6 columns</p>\n</div>"
     },
     "execution_count": 181,
     "metadata": {},
     "output_type": "execute_result"
    }
   ],
   "source": [
    "from copy import deepcopy as dc\n",
    "\n",
    "\n",
    "def prepare_dataframe_for_lstm(df, n_steps):\n",
    "    df = dc(df)\n",
    "\n",
    "    #df.set_index('Date', inplace=True)\n",
    "\n",
    "    for i in range(1, n_steps + 1):\n",
    "        df[f'Price(t-{i})'] = df['Price'].shift(i)\n",
    "\n",
    "    df.dropna(inplace=True)\n",
    "\n",
    "    return df\n",
    "\n",
    "\n",
    "shifted_df = prepare_dataframe_for_lstm(data, LOOKBACK)\n",
    "df = df.drop(df.index[-7:])\n",
    "df"
   ]
  },
  {
   "cell_type": "code",
   "execution_count": 182,
   "metadata": {
    "colab": {
     "base_uri": "https://localhost:8080/",
     "height": 423
    },
    "id": "7-t9D5KlQgY-",
    "outputId": "1eddf63e-e873-4e72-83ac-c4f3d9447c6c",
    "ExecuteTime": {
     "end_time": "2023-10-22T18:54:43.583315800Z",
     "start_time": "2023-10-22T18:54:43.563094200Z"
    }
   },
   "outputs": [
    {
     "data": {
      "text/plain": "       Real_GDP      CPI  inflation_rate  PALLFNFINDEXM\n0     17812.167  232.166        1.464833        232.166\n1     17812.167  232.166        1.464833        232.166\n2     17812.167  232.166        1.464833        232.166\n3     17812.167  232.166        1.464833        232.166\n4     17812.167  232.166        1.464833        232.166\n...         ...      ...             ...            ...\n2695  19374.000  307.000        6.600000        161.450\n2696  19374.000  307.000        6.600000        161.450\n2697  19374.000  307.000        6.600000        161.450\n2698  19374.000  307.000        6.600000        161.450\n2699  19374.000  307.000        6.600000        161.450\n\n[2700 rows x 4 columns]",
      "text/html": "<div>\n<style scoped>\n    .dataframe tbody tr th:only-of-type {\n        vertical-align: middle;\n    }\n\n    .dataframe tbody tr th {\n        vertical-align: top;\n    }\n\n    .dataframe thead th {\n        text-align: right;\n    }\n</style>\n<table border=\"1\" class=\"dataframe\">\n  <thead>\n    <tr style=\"text-align: right;\">\n      <th></th>\n      <th>Real_GDP</th>\n      <th>CPI</th>\n      <th>inflation_rate</th>\n      <th>PALLFNFINDEXM</th>\n    </tr>\n  </thead>\n  <tbody>\n    <tr>\n      <th>0</th>\n      <td>17812.167</td>\n      <td>232.166</td>\n      <td>1.464833</td>\n      <td>232.166</td>\n    </tr>\n    <tr>\n      <th>1</th>\n      <td>17812.167</td>\n      <td>232.166</td>\n      <td>1.464833</td>\n      <td>232.166</td>\n    </tr>\n    <tr>\n      <th>2</th>\n      <td>17812.167</td>\n      <td>232.166</td>\n      <td>1.464833</td>\n      <td>232.166</td>\n    </tr>\n    <tr>\n      <th>3</th>\n      <td>17812.167</td>\n      <td>232.166</td>\n      <td>1.464833</td>\n      <td>232.166</td>\n    </tr>\n    <tr>\n      <th>4</th>\n      <td>17812.167</td>\n      <td>232.166</td>\n      <td>1.464833</td>\n      <td>232.166</td>\n    </tr>\n    <tr>\n      <th>...</th>\n      <td>...</td>\n      <td>...</td>\n      <td>...</td>\n      <td>...</td>\n    </tr>\n    <tr>\n      <th>2695</th>\n      <td>19374.000</td>\n      <td>307.000</td>\n      <td>6.600000</td>\n      <td>161.450</td>\n    </tr>\n    <tr>\n      <th>2696</th>\n      <td>19374.000</td>\n      <td>307.000</td>\n      <td>6.600000</td>\n      <td>161.450</td>\n    </tr>\n    <tr>\n      <th>2697</th>\n      <td>19374.000</td>\n      <td>307.000</td>\n      <td>6.600000</td>\n      <td>161.450</td>\n    </tr>\n    <tr>\n      <th>2698</th>\n      <td>19374.000</td>\n      <td>307.000</td>\n      <td>6.600000</td>\n      <td>161.450</td>\n    </tr>\n    <tr>\n      <th>2699</th>\n      <td>19374.000</td>\n      <td>307.000</td>\n      <td>6.600000</td>\n      <td>161.450</td>\n    </tr>\n  </tbody>\n</table>\n<p>2700 rows × 4 columns</p>\n</div>"
     },
     "execution_count": 182,
     "metadata": {},
     "output_type": "execute_result"
    }
   ],
   "source": [
    "df = df.drop(['Date','Price'], axis=1)\n",
    "df"
   ]
  },
  {
   "cell_type": "code",
   "execution_count": 183,
   "metadata": {
    "id": "x57eELPEQgY-",
    "ExecuteTime": {
     "end_time": "2023-10-22T18:54:44.055320100Z",
     "start_time": "2023-10-22T18:54:44.036036400Z"
    }
   },
   "outputs": [],
   "source": [
    "GDP_before_scaling_as_np = df[\"Real_GDP\"].to_numpy()\n",
    "CPI_before_scaling_as_np = df[\"CPI\"].to_numpy()\n",
    "inflation_rate_before_scaling_as_np = df[\"inflation_rate\"].to_numpy()\n",
    "PALLFNFINDEXM_before_scaling_as_np = df[\"PALLFNFINDEXM\"].to_numpy()"
   ]
  },
  {
   "cell_type": "code",
   "execution_count": 184,
   "metadata": {
    "id": "4Mr21UPRQgY_",
    "ExecuteTime": {
     "end_time": "2023-10-22T18:54:44.420887100Z",
     "start_time": "2023-10-22T18:54:44.389318400Z"
    }
   },
   "outputs": [],
   "source": [
    "GDP_scaler = MinMaxScaler(feature_range=(-1, 1))\n",
    "scaled_GDP = GDP_scaler.fit_transform(GDP_before_scaling_as_np.reshape(-1, 1))"
   ]
  },
  {
   "cell_type": "code",
   "execution_count": 185,
   "metadata": {
    "colab": {
     "base_uri": "https://localhost:8080/"
    },
    "id": "hPc1DvsOQgY_",
    "outputId": "34f85434-1044-40f1-8ff1-59f540b337a3",
    "ExecuteTime": {
     "end_time": "2023-10-22T18:54:44.758240500Z",
     "start_time": "2023-10-22T18:54:44.729739200Z"
    }
   },
   "outputs": [
    {
     "data": {
      "text/plain": "array([[-1.        ],\n       [-1.        ],\n       [-1.        ],\n       ...,\n       [-0.22100567],\n       [-0.22100567],\n       [-0.22100567]])"
     },
     "execution_count": 185,
     "metadata": {},
     "output_type": "execute_result"
    }
   ],
   "source": [
    "scaled_GDP"
   ]
  },
  {
   "cell_type": "code",
   "execution_count": 186,
   "metadata": {
    "id": "iLsbZK6UQgY_",
    "ExecuteTime": {
     "end_time": "2023-10-22T18:54:44.992107600Z",
     "start_time": "2023-10-22T18:54:44.985851300Z"
    }
   },
   "outputs": [],
   "source": [
    "CPI_scaler = MinMaxScaler(feature_range=(-1, 1))\n",
    "scaled_CPI = CPI_scaler.fit_transform(CPI_before_scaling_as_np.reshape(-1, 1))"
   ]
  },
  {
   "cell_type": "code",
   "execution_count": 187,
   "metadata": {
    "colab": {
     "base_uri": "https://localhost:8080/"
    },
    "id": "5h98Av3mQgY_",
    "outputId": "55be291e-2304-48f2-e72a-d8280f62a3eb",
    "ExecuteTime": {
     "end_time": "2023-10-22T18:54:46.365301800Z",
     "start_time": "2023-10-22T18:54:46.346331100Z"
    }
   },
   "outputs": [
    {
     "data": {
      "text/plain": "array([[-1.        ],\n       [-1.        ],\n       [-1.        ],\n       ...,\n       [ 0.99930537],\n       [ 0.99930537],\n       [ 0.99930537]])"
     },
     "execution_count": 187,
     "metadata": {},
     "output_type": "execute_result"
    }
   ],
   "source": [
    "scaled_CPI"
   ]
  },
  {
   "cell_type": "code",
   "execution_count": 188,
   "metadata": {
    "id": "pxSZSjwiQgY_",
    "ExecuteTime": {
     "end_time": "2023-10-22T18:54:46.656776200Z",
     "start_time": "2023-10-22T18:54:46.639572100Z"
    }
   },
   "outputs": [],
   "source": [
    "IR_scaler = MinMaxScaler(feature_range=(-1, 1))\n",
    "scaled_IR = IR_scaler.fit_transform(inflation_rate_before_scaling_as_np.reshape(-1, 1))"
   ]
  },
  {
   "cell_type": "code",
   "execution_count": 189,
   "metadata": {
    "colab": {
     "base_uri": "https://localhost:8080/"
    },
    "id": "8pXPvTHFQgY_",
    "outputId": "f3daa4af-8daa-4e75-f4a3-8346b3ea284f",
    "ExecuteTime": {
     "end_time": "2023-10-22T18:54:47.014713Z",
     "start_time": "2023-10-22T18:54:46.979107800Z"
    }
   },
   "outputs": [
    {
     "data": {
      "text/plain": "array([[-0.6585043 ],\n       [-0.6585043 ],\n       [-0.6585043 ],\n       ...,\n       [ 0.64414787],\n       [ 0.64414787],\n       [ 0.64414787]])"
     },
     "execution_count": 189,
     "metadata": {},
     "output_type": "execute_result"
    }
   ],
   "source": [
    "scaled_IR"
   ]
  },
  {
   "cell_type": "code",
   "execution_count": 190,
   "metadata": {
    "id": "RhNJ4vRuQgY_",
    "ExecuteTime": {
     "end_time": "2023-10-22T18:54:47.267628300Z",
     "start_time": "2023-10-22T18:54:47.250312800Z"
    }
   },
   "outputs": [],
   "source": [
    "PALLFNFINDEXM_scaler = MinMaxScaler(feature_range=(-1, 1))\n",
    "scaled_PALLFNFINDEXM = PALLFNFINDEXM_scaler.fit_transform(PALLFNFINDEXM_before_scaling_as_np.reshape(-1, 1))"
   ]
  },
  {
   "cell_type": "code",
   "execution_count": 191,
   "metadata": {
    "colab": {
     "base_uri": "https://localhost:8080/"
    },
    "id": "t6S1qtLpQgZA",
    "outputId": "356e3798-5c55-4a64-a6ba-d1449350a52d",
    "ExecuteTime": {
     "end_time": "2023-10-22T18:54:47.588192500Z",
     "start_time": "2023-10-22T18:54:47.555156900Z"
    }
   },
   "outputs": [
    {
     "data": {
      "text/plain": "array([[-0.02846623],\n       [-0.02846623],\n       [-0.02846623],\n       ...,\n       [-1.        ],\n       [-1.        ],\n       [-1.        ]])"
     },
     "execution_count": 191,
     "metadata": {},
     "output_type": "execute_result"
    }
   ],
   "source": [
    "scaled_PALLFNFINDEXM"
   ]
  },
  {
   "cell_type": "code",
   "execution_count": 192,
   "metadata": {
    "id": "j63Oixd0QgZA",
    "ExecuteTime": {
     "end_time": "2023-10-22T18:54:47.812818200Z",
     "start_time": "2023-10-22T18:54:47.798085100Z"
    }
   },
   "outputs": [],
   "source": [
    "flipped_df = shifted_df[shifted_df.columns[::-1]]\n",
    "flipped_df = flipped_df.drop(['Date'], axis=1)\n"
   ]
  },
  {
   "cell_type": "code",
   "execution_count": 193,
   "metadata": {
    "id": "1fUlpjKbQgZA",
    "ExecuteTime": {
     "end_time": "2023-10-22T18:54:48.134254500Z",
     "start_time": "2023-10-22T18:54:48.113736100Z"
    }
   },
   "outputs": [],
   "source": [
    "flipped_df.reset_index(drop=True, inplace=True)"
   ]
  },
  {
   "cell_type": "code",
   "execution_count": 194,
   "metadata": {
    "id": "Q9Sf1h_RQgZA",
    "ExecuteTime": {
     "end_time": "2023-10-22T18:54:48.873694Z",
     "start_time": "2023-10-22T18:54:48.840095500Z"
    }
   },
   "outputs": [],
   "source": [
    "new_df = pd.concat([df, flipped_df], axis=1)"
   ]
  },
  {
   "cell_type": "code",
   "execution_count": 195,
   "metadata": {
    "colab": {
     "base_uri": "https://localhost:8080/",
     "height": 461
    },
    "id": "GcctPDrKQgZA",
    "outputId": "da07cae9-3a41-4121-96dc-2b96999fa67b",
    "ExecuteTime": {
     "end_time": "2023-10-22T18:54:49.309280100Z",
     "start_time": "2023-10-22T18:54:49.287182700Z"
    }
   },
   "outputs": [
    {
     "data": {
      "text/plain": "       Real_GDP      CPI  inflation_rate  PALLFNFINDEXM  Price(t-7)  \\\n0     17812.167  232.166        1.464833        232.166      3.7360   \n1     17812.167  232.166        1.464833        232.166      3.7170   \n2     17812.167  232.166        1.464833        232.166      3.6935   \n3     17812.167  232.166        1.464833        232.166      3.6790   \n4     17812.167  232.166        1.464833        232.166      3.6780   \n...         ...      ...             ...            ...         ...   \n2695  19374.000  307.000        6.600000        161.450      3.7760   \n2696  19374.000  307.000        6.600000        161.450      3.6960   \n2697  19374.000  307.000        6.600000        161.450      3.6960   \n2698  19374.000  307.000        6.600000        161.450      3.6700   \n2699  19374.000  307.000        6.600000        161.450      3.6490   \n\n      Price(t-6)  Price(t-5)  Price(t-4)  Price(t-3)  Price(t-2)  Price(t-1)  \\\n0         3.7170      3.6935      3.6790      3.6780      3.6720      3.6705   \n1         3.6935      3.6790      3.6780      3.6720      3.6705      3.7090   \n2         3.6790      3.6780      3.6720      3.6705      3.7090      3.6540   \n3         3.6780      3.6720      3.6705      3.7090      3.6540      3.6390   \n4         3.6720      3.6705      3.7090      3.6540      3.6390      3.6340   \n...          ...         ...         ...         ...         ...         ...   \n2695      3.6960      3.6960      3.6700      3.6490      3.6365      3.7080   \n2696      3.6960      3.6700      3.6490      3.6365      3.7080      3.7375   \n2697      3.6700      3.6490      3.6365      3.7080      3.7375      3.6415   \n2698      3.6490      3.6365      3.7080      3.7375      3.6415      3.6210   \n2699      3.6365      3.7080      3.7375      3.6415      3.6210      3.5890   \n\n       Price  \n0     3.7090  \n1     3.6540  \n2     3.6390  \n3     3.6340  \n4     3.6375  \n...      ...  \n2695  3.7375  \n2696  3.6415  \n2697  3.6210  \n2698  3.5890  \n2699  3.5520  \n\n[2700 rows x 12 columns]",
      "text/html": "<div>\n<style scoped>\n    .dataframe tbody tr th:only-of-type {\n        vertical-align: middle;\n    }\n\n    .dataframe tbody tr th {\n        vertical-align: top;\n    }\n\n    .dataframe thead th {\n        text-align: right;\n    }\n</style>\n<table border=\"1\" class=\"dataframe\">\n  <thead>\n    <tr style=\"text-align: right;\">\n      <th></th>\n      <th>Real_GDP</th>\n      <th>CPI</th>\n      <th>inflation_rate</th>\n      <th>PALLFNFINDEXM</th>\n      <th>Price(t-7)</th>\n      <th>Price(t-6)</th>\n      <th>Price(t-5)</th>\n      <th>Price(t-4)</th>\n      <th>Price(t-3)</th>\n      <th>Price(t-2)</th>\n      <th>Price(t-1)</th>\n      <th>Price</th>\n    </tr>\n  </thead>\n  <tbody>\n    <tr>\n      <th>0</th>\n      <td>17812.167</td>\n      <td>232.166</td>\n      <td>1.464833</td>\n      <td>232.166</td>\n      <td>3.7360</td>\n      <td>3.7170</td>\n      <td>3.6935</td>\n      <td>3.6790</td>\n      <td>3.6780</td>\n      <td>3.6720</td>\n      <td>3.6705</td>\n      <td>3.7090</td>\n    </tr>\n    <tr>\n      <th>1</th>\n      <td>17812.167</td>\n      <td>232.166</td>\n      <td>1.464833</td>\n      <td>232.166</td>\n      <td>3.7170</td>\n      <td>3.6935</td>\n      <td>3.6790</td>\n      <td>3.6780</td>\n      <td>3.6720</td>\n      <td>3.6705</td>\n      <td>3.7090</td>\n      <td>3.6540</td>\n    </tr>\n    <tr>\n      <th>2</th>\n      <td>17812.167</td>\n      <td>232.166</td>\n      <td>1.464833</td>\n      <td>232.166</td>\n      <td>3.6935</td>\n      <td>3.6790</td>\n      <td>3.6780</td>\n      <td>3.6720</td>\n      <td>3.6705</td>\n      <td>3.7090</td>\n      <td>3.6540</td>\n      <td>3.6390</td>\n    </tr>\n    <tr>\n      <th>3</th>\n      <td>17812.167</td>\n      <td>232.166</td>\n      <td>1.464833</td>\n      <td>232.166</td>\n      <td>3.6790</td>\n      <td>3.6780</td>\n      <td>3.6720</td>\n      <td>3.6705</td>\n      <td>3.7090</td>\n      <td>3.6540</td>\n      <td>3.6390</td>\n      <td>3.6340</td>\n    </tr>\n    <tr>\n      <th>4</th>\n      <td>17812.167</td>\n      <td>232.166</td>\n      <td>1.464833</td>\n      <td>232.166</td>\n      <td>3.6780</td>\n      <td>3.6720</td>\n      <td>3.6705</td>\n      <td>3.7090</td>\n      <td>3.6540</td>\n      <td>3.6390</td>\n      <td>3.6340</td>\n      <td>3.6375</td>\n    </tr>\n    <tr>\n      <th>...</th>\n      <td>...</td>\n      <td>...</td>\n      <td>...</td>\n      <td>...</td>\n      <td>...</td>\n      <td>...</td>\n      <td>...</td>\n      <td>...</td>\n      <td>...</td>\n      <td>...</td>\n      <td>...</td>\n      <td>...</td>\n    </tr>\n    <tr>\n      <th>2695</th>\n      <td>19374.000</td>\n      <td>307.000</td>\n      <td>6.600000</td>\n      <td>161.450</td>\n      <td>3.7760</td>\n      <td>3.6960</td>\n      <td>3.6960</td>\n      <td>3.6700</td>\n      <td>3.6490</td>\n      <td>3.6365</td>\n      <td>3.7080</td>\n      <td>3.7375</td>\n    </tr>\n    <tr>\n      <th>2696</th>\n      <td>19374.000</td>\n      <td>307.000</td>\n      <td>6.600000</td>\n      <td>161.450</td>\n      <td>3.6960</td>\n      <td>3.6960</td>\n      <td>3.6700</td>\n      <td>3.6490</td>\n      <td>3.6365</td>\n      <td>3.7080</td>\n      <td>3.7375</td>\n      <td>3.6415</td>\n    </tr>\n    <tr>\n      <th>2697</th>\n      <td>19374.000</td>\n      <td>307.000</td>\n      <td>6.600000</td>\n      <td>161.450</td>\n      <td>3.6960</td>\n      <td>3.6700</td>\n      <td>3.6490</td>\n      <td>3.6365</td>\n      <td>3.7080</td>\n      <td>3.7375</td>\n      <td>3.6415</td>\n      <td>3.6210</td>\n    </tr>\n    <tr>\n      <th>2698</th>\n      <td>19374.000</td>\n      <td>307.000</td>\n      <td>6.600000</td>\n      <td>161.450</td>\n      <td>3.6700</td>\n      <td>3.6490</td>\n      <td>3.6365</td>\n      <td>3.7080</td>\n      <td>3.7375</td>\n      <td>3.6415</td>\n      <td>3.6210</td>\n      <td>3.5890</td>\n    </tr>\n    <tr>\n      <th>2699</th>\n      <td>19374.000</td>\n      <td>307.000</td>\n      <td>6.600000</td>\n      <td>161.450</td>\n      <td>3.6490</td>\n      <td>3.6365</td>\n      <td>3.7080</td>\n      <td>3.7375</td>\n      <td>3.6415</td>\n      <td>3.6210</td>\n      <td>3.5890</td>\n      <td>3.5520</td>\n    </tr>\n  </tbody>\n</table>\n<p>2700 rows × 12 columns</p>\n</div>"
     },
     "execution_count": 195,
     "metadata": {},
     "output_type": "execute_result"
    }
   ],
   "source": [
    "new_df"
   ]
  },
  {
   "cell_type": "code",
   "execution_count": 196,
   "metadata": {
    "colab": {
     "base_uri": "https://localhost:8080/",
     "height": 423
    },
    "id": "1q72WvTiQgZB",
    "outputId": "a5ffcc96-3572-422e-f9a1-1ab575efaaf2",
    "ExecuteTime": {
     "end_time": "2023-10-22T18:54:49.995930100Z",
     "start_time": "2023-10-22T18:54:49.985413400Z"
    }
   },
   "outputs": [
    {
     "data": {
      "text/plain": "      Price(t-7)  Price(t-6)  Price(t-5)  Price(t-4)  Price(t-3)  Price(t-2)  \\\n0         3.7360      3.7170      3.6935      3.6790      3.6780      3.6720   \n1         3.7170      3.6935      3.6790      3.6780      3.6720      3.6705   \n2         3.6935      3.6790      3.6780      3.6720      3.6705      3.7090   \n3         3.6790      3.6780      3.6720      3.6705      3.7090      3.6540   \n4         3.6780      3.6720      3.6705      3.7090      3.6540      3.6390   \n...          ...         ...         ...         ...         ...         ...   \n2695      3.7760      3.6960      3.6960      3.6700      3.6490      3.6365   \n2696      3.6960      3.6960      3.6700      3.6490      3.6365      3.7080   \n2697      3.6960      3.6700      3.6490      3.6365      3.7080      3.7375   \n2698      3.6700      3.6490      3.6365      3.7080      3.7375      3.6415   \n2699      3.6490      3.6365      3.7080      3.7375      3.6415      3.6210   \n\n      Price(t-1)   Price  \n0         3.6705  3.7090  \n1         3.7090  3.6540  \n2         3.6540  3.6390  \n3         3.6390  3.6340  \n4         3.6340  3.6375  \n...          ...     ...  \n2695      3.7080  3.7375  \n2696      3.7375  3.6415  \n2697      3.6415  3.6210  \n2698      3.6210  3.5890  \n2699      3.5890  3.5520  \n\n[2700 rows x 8 columns]",
      "text/html": "<div>\n<style scoped>\n    .dataframe tbody tr th:only-of-type {\n        vertical-align: middle;\n    }\n\n    .dataframe tbody tr th {\n        vertical-align: top;\n    }\n\n    .dataframe thead th {\n        text-align: right;\n    }\n</style>\n<table border=\"1\" class=\"dataframe\">\n  <thead>\n    <tr style=\"text-align: right;\">\n      <th></th>\n      <th>Price(t-7)</th>\n      <th>Price(t-6)</th>\n      <th>Price(t-5)</th>\n      <th>Price(t-4)</th>\n      <th>Price(t-3)</th>\n      <th>Price(t-2)</th>\n      <th>Price(t-1)</th>\n      <th>Price</th>\n    </tr>\n  </thead>\n  <tbody>\n    <tr>\n      <th>0</th>\n      <td>3.7360</td>\n      <td>3.7170</td>\n      <td>3.6935</td>\n      <td>3.6790</td>\n      <td>3.6780</td>\n      <td>3.6720</td>\n      <td>3.6705</td>\n      <td>3.7090</td>\n    </tr>\n    <tr>\n      <th>1</th>\n      <td>3.7170</td>\n      <td>3.6935</td>\n      <td>3.6790</td>\n      <td>3.6780</td>\n      <td>3.6720</td>\n      <td>3.6705</td>\n      <td>3.7090</td>\n      <td>3.6540</td>\n    </tr>\n    <tr>\n      <th>2</th>\n      <td>3.6935</td>\n      <td>3.6790</td>\n      <td>3.6780</td>\n      <td>3.6720</td>\n      <td>3.6705</td>\n      <td>3.7090</td>\n      <td>3.6540</td>\n      <td>3.6390</td>\n    </tr>\n    <tr>\n      <th>3</th>\n      <td>3.6790</td>\n      <td>3.6780</td>\n      <td>3.6720</td>\n      <td>3.6705</td>\n      <td>3.7090</td>\n      <td>3.6540</td>\n      <td>3.6390</td>\n      <td>3.6340</td>\n    </tr>\n    <tr>\n      <th>4</th>\n      <td>3.6780</td>\n      <td>3.6720</td>\n      <td>3.6705</td>\n      <td>3.7090</td>\n      <td>3.6540</td>\n      <td>3.6390</td>\n      <td>3.6340</td>\n      <td>3.6375</td>\n    </tr>\n    <tr>\n      <th>...</th>\n      <td>...</td>\n      <td>...</td>\n      <td>...</td>\n      <td>...</td>\n      <td>...</td>\n      <td>...</td>\n      <td>...</td>\n      <td>...</td>\n    </tr>\n    <tr>\n      <th>2695</th>\n      <td>3.7760</td>\n      <td>3.6960</td>\n      <td>3.6960</td>\n      <td>3.6700</td>\n      <td>3.6490</td>\n      <td>3.6365</td>\n      <td>3.7080</td>\n      <td>3.7375</td>\n    </tr>\n    <tr>\n      <th>2696</th>\n      <td>3.6960</td>\n      <td>3.6960</td>\n      <td>3.6700</td>\n      <td>3.6490</td>\n      <td>3.6365</td>\n      <td>3.7080</td>\n      <td>3.7375</td>\n      <td>3.6415</td>\n    </tr>\n    <tr>\n      <th>2697</th>\n      <td>3.6960</td>\n      <td>3.6700</td>\n      <td>3.6490</td>\n      <td>3.6365</td>\n      <td>3.7080</td>\n      <td>3.7375</td>\n      <td>3.6415</td>\n      <td>3.6210</td>\n    </tr>\n    <tr>\n      <th>2698</th>\n      <td>3.6700</td>\n      <td>3.6490</td>\n      <td>3.6365</td>\n      <td>3.7080</td>\n      <td>3.7375</td>\n      <td>3.6415</td>\n      <td>3.6210</td>\n      <td>3.5890</td>\n    </tr>\n    <tr>\n      <th>2699</th>\n      <td>3.6490</td>\n      <td>3.6365</td>\n      <td>3.7080</td>\n      <td>3.7375</td>\n      <td>3.6415</td>\n      <td>3.6210</td>\n      <td>3.5890</td>\n      <td>3.5520</td>\n    </tr>\n  </tbody>\n</table>\n<p>2700 rows × 8 columns</p>\n</div>"
     },
     "execution_count": 196,
     "metadata": {},
     "output_type": "execute_result"
    }
   ],
   "source": [
    "flipped_df"
   ]
  },
  {
   "cell_type": "code",
   "execution_count": 197,
   "metadata": {
    "colab": {
     "base_uri": "https://localhost:8080/"
    },
    "id": "6fSq0PmcQgZB",
    "outputId": "36199b8f-ed6e-43bc-b4fd-ad3aff90bb21",
    "ExecuteTime": {
     "end_time": "2023-10-22T18:54:50.631788800Z",
     "start_time": "2023-10-22T18:54:50.617814600Z"
    }
   },
   "outputs": [
    {
     "data": {
      "text/plain": "array([[3.736 , 3.717 , 3.6935, ..., 3.672 , 3.6705, 3.709 ],\n       [3.717 , 3.6935, 3.679 , ..., 3.6705, 3.709 , 3.654 ],\n       [3.6935, 3.679 , 3.678 , ..., 3.709 , 3.654 , 3.639 ],\n       ...,\n       [3.696 , 3.67  , 3.649 , ..., 3.7375, 3.6415, 3.621 ],\n       [3.67  , 3.649 , 3.6365, ..., 3.6415, 3.621 , 3.589 ],\n       [3.649 , 3.6365, 3.708 , ..., 3.621 , 3.589 , 3.552 ]])"
     },
     "execution_count": 197,
     "metadata": {},
     "output_type": "execute_result"
    }
   ],
   "source": [
    "flipped_df_before_scaling_as_np = flipped_df.to_numpy()\n",
    "flipped_df_before_scaling_as_np"
   ]
  },
  {
   "cell_type": "code",
   "execution_count": 198,
   "metadata": {
    "id": "TdLlsInvQgZG",
    "ExecuteTime": {
     "end_time": "2023-10-22T18:54:51.115955500Z",
     "start_time": "2023-10-22T18:54:51.096432800Z"
    }
   },
   "outputs": [],
   "source": [
    "price_scaler = MinMaxScaler(feature_range=(-1, 1))\n",
    "scaled_prices = price_scaler.fit_transform(flipped_df_before_scaling_as_np)"
   ]
  },
  {
   "cell_type": "code",
   "execution_count": 199,
   "metadata": {
    "colab": {
     "base_uri": "https://localhost:8080/"
    },
    "id": "xaCzAzXXQgZG",
    "outputId": "2cea2120-ce96-4ae8-f111-0c57f4e49b0f",
    "ExecuteTime": {
     "end_time": "2023-10-22T18:54:51.622025700Z",
     "start_time": "2023-10-22T18:54:51.608312Z"
    }
   },
   "outputs": [
    {
     "data": {
      "text/plain": "array([[0.19739479, 0.18470274, 0.16900468, ..., 0.15464262, 0.15364061,\n        0.17935872],\n       [0.18470274, 0.16900468, 0.15931864, ..., 0.15364061, 0.17935872,\n        0.14261857],\n       [0.16900468, 0.15931864, 0.15865063, ..., 0.17935872, 0.14261857,\n        0.13259853],\n       ...,\n       [0.17067468, 0.15330661, 0.13927856, ..., 0.19839679, 0.13426854,\n        0.12057448],\n       [0.15330661, 0.13927856, 0.13092852, ..., 0.13426854, 0.12057448,\n        0.0991984 ],\n       [0.13927856, 0.13092852, 0.17869071, ..., 0.12057448, 0.0991984 ,\n        0.0744823 ]])"
     },
     "execution_count": 199,
     "metadata": {},
     "output_type": "execute_result"
    }
   ],
   "source": [
    "scaled_prices"
   ]
  },
  {
   "cell_type": "code",
   "execution_count": 200,
   "metadata": {
    "colab": {
     "base_uri": "https://localhost:8080/"
    },
    "id": "q4mXp_1ZQgZG",
    "outputId": "2dc202d8-75e3-4c9d-80a4-10e4dba22a42",
    "ExecuteTime": {
     "end_time": "2023-10-22T18:54:54.349275200Z",
     "start_time": "2023-10-22T18:54:54.320883400Z"
    }
   },
   "outputs": [
    {
     "data": {
      "text/plain": "array([[-1.        , -1.        , -0.6585043 , ...,  0.15464262,\n         0.15364061,  0.17935872],\n       [-1.        , -1.        , -0.6585043 , ...,  0.15364061,\n         0.17935872,  0.14261857],\n       [-1.        , -1.        , -0.6585043 , ...,  0.17935872,\n         0.14261857,  0.13259853],\n       ...,\n       [-0.22100567,  0.99930537,  0.64414787, ...,  0.19839679,\n         0.13426854,  0.12057448],\n       [-0.22100567,  0.99930537,  0.64414787, ...,  0.13426854,\n         0.12057448,  0.0991984 ],\n       [-0.22100567,  0.99930537,  0.64414787, ...,  0.12057448,\n         0.0991984 ,  0.0744823 ]])"
     },
     "execution_count": 200,
     "metadata": {},
     "output_type": "execute_result"
    }
   ],
   "source": [
    "result = np.concatenate((scaled_GDP, scaled_CPI, scaled_IR, scaled_PALLFNFINDEXM, scaled_prices), axis=1)\n",
    "result"
   ]
  },
  {
   "cell_type": "code",
   "execution_count": 201,
   "metadata": {
    "colab": {
     "base_uri": "https://localhost:8080/"
    },
    "id": "HLocb9xtQgZG",
    "outputId": "fa9a7d85-a1ed-470d-e2b8-fd4b5dec46b1",
    "ExecuteTime": {
     "end_time": "2023-10-22T18:54:58.129161Z",
     "start_time": "2023-10-22T18:54:58.109647900Z"
    }
   },
   "outputs": [
    {
     "data": {
      "text/plain": "dtype('float32')"
     },
     "execution_count": 201,
     "metadata": {},
     "output_type": "execute_result"
    }
   ],
   "source": [
    "X = result[:, 0:11]\n",
    "y = result[:, 11]\n",
    "X = X.astype(np.float32)\n",
    "y = y.astype(np.float32)\n",
    "X.dtype"
   ]
  },
  {
   "cell_type": "code",
   "execution_count": 202,
   "outputs": [
    {
     "data": {
      "text/plain": "array([[-1.        , -1.        , -0.6585043 , ...,  0.15865064,\n         0.15464261,  0.15364061],\n       [-1.        , -1.        , -0.6585043 , ...,  0.15464261,\n         0.15364061,  0.17935872],\n       [-1.        , -1.        , -0.6585043 , ...,  0.15364061,\n         0.17935872,  0.14261857],\n       ...,\n       [-0.22100566,  0.99930537,  0.6441479 , ...,  0.17869072,\n         0.19839679,  0.13426854],\n       [-0.22100566,  0.99930537,  0.6441479 , ...,  0.19839679,\n         0.13426854,  0.12057448],\n       [-0.22100566,  0.99930537,  0.6441479 , ...,  0.13426854,\n         0.12057448,  0.09919839]], dtype=float32)"
     },
     "execution_count": 202,
     "metadata": {},
     "output_type": "execute_result"
    }
   ],
   "source": [
    "X"
   ],
   "metadata": {
    "collapsed": false,
    "ExecuteTime": {
     "end_time": "2023-10-22T18:54:59.437663700Z",
     "start_time": "2023-10-22T18:54:59.418969Z"
    }
   }
  },
  {
   "cell_type": "code",
   "execution_count": 218,
   "metadata": {
    "colab": {
     "base_uri": "https://localhost:8080/"
    },
    "id": "DJX1mVi2QgZH",
    "outputId": "e0d7158b-c500-4ab8-ea08-20d3ca5e840a",
    "ExecuteTime": {
     "end_time": "2023-10-22T19:00:01.059411600Z",
     "start_time": "2023-10-22T19:00:01.025867800Z"
    }
   },
   "outputs": [
    {
     "data": {
      "text/plain": "2160   2021-08-03\n2161   2021-08-04\n2162   2021-08-05\n2163   2021-08-06\n2164   2021-08-09\n          ...    \n2695   2023-09-29\n2696   2023-10-02\n2697   2023-10-03\n2698   2023-10-04\n2699   2023-10-05\nName: Date, Length: 540, dtype: datetime64[ns]"
     },
     "execution_count": 218,
     "metadata": {},
     "output_type": "execute_result"
    }
   ],
   "source": [
    "split_index = int(len(X) * 0.80)\n",
    "split_date = dates[split_index]\n",
    "\n",
    "X_train = X[:split_index]\n",
    "X_test = X[split_index:]\n",
    "y_train = y[:split_index]\n",
    "y_test = y[split_index:]\n",
    "train_dates = dates[:split_index]\n",
    "test_dates = dates[split_index:]\n",
    "test_dates"
   ]
  },
  {
   "cell_type": "code",
   "execution_count": 205,
   "outputs": [
    {
     "data": {
      "text/plain": "array([[-1.        , -1.        , -0.6585043 , ...,  0.15865064,\n         0.15464261,  0.15364061],\n       [-1.        , -1.        , -0.6585043 , ...,  0.15464261,\n         0.15364061,  0.17935872],\n       [-1.        , -1.        , -0.6585043 , ...,  0.15364061,\n         0.17935872,  0.14261857],\n       ...,\n       [ 0.79333746,  0.09102324,  0.16162644, ...,  0.76452905,\n         0.737475  ,  0.6957248 ],\n       [ 0.79333746,  0.09102324,  0.16162644, ...,  0.737475  ,\n         0.6957248 ,  0.71275884],\n       [ 0.79333746,  0.09102324,  0.16162644, ...,  0.6957248 ,\n         0.71275884,  0.68470275]], dtype=float32)"
     },
     "execution_count": 205,
     "metadata": {},
     "output_type": "execute_result"
    }
   ],
   "source": [
    "X_train"
   ],
   "metadata": {
    "collapsed": false,
    "ExecuteTime": {
     "end_time": "2023-10-22T18:55:14.175733600Z",
     "start_time": "2023-10-22T18:55:14.159795300Z"
    }
   }
  },
  {
   "cell_type": "code",
   "execution_count": 140,
   "metadata": {
    "ExecuteTime": {
     "end_time": "2023-10-22T10:24:18.490957900Z",
     "start_time": "2023-10-22T10:24:18.284201200Z"
    },
    "colab": {
     "base_uri": "https://localhost:8080/"
    },
    "id": "XmgulqbpQgZH",
    "outputId": "4596671b-3211-400e-9793-396a293688c7"
   },
   "outputs": [
    {
     "data": {
      "text/plain": [
       "(2160, 11)"
      ]
     },
     "execution_count": 140,
     "metadata": {},
     "output_type": "execute_result"
    }
   ],
   "source": [
    "X_train.shape"
   ]
  },
  {
   "cell_type": "code",
   "execution_count": 219,
   "metadata": {
    "id": "Y_8mJkJ8QgZH",
    "ExecuteTime": {
     "end_time": "2023-10-22T19:00:31.717199900Z",
     "start_time": "2023-10-22T19:00:31.684772400Z"
    }
   },
   "outputs": [],
   "source": [
    "X = X.reshape((-1, LOOKBACK+4, 1))\n",
    "X_test = X_test.reshape((-1, LOOKBACK+4, 1))\n",
    "\n",
    "y = y.reshape((-1, 1))\n",
    "y_test = y_test.reshape((-1, 1))"
   ]
  },
  {
   "cell_type": "code",
   "execution_count": 220,
   "metadata": {
    "colab": {
     "base_uri": "https://localhost:8080/"
    },
    "id": "EiFJNgZnQgZH",
    "outputId": "5d8166ea-1971-4f4c-ad56-0da120f77d40",
    "ExecuteTime": {
     "end_time": "2023-10-22T19:00:32.365307800Z",
     "start_time": "2023-10-22T19:00:32.350095100Z"
    }
   },
   "outputs": [
    {
     "name": "stderr",
     "output_type": "stream",
     "text": [
      "C:\\Users\\George Welson\\AppData\\Local\\Temp\\ipykernel_17860\\1450774100.py:1: UserWarning: To copy construct from a tensor, it is recommended to use sourceTensor.clone().detach() or sourceTensor.clone().detach().requires_grad_(True), rather than torch.tensor(sourceTensor).\n",
      "  X = torch.tensor(X).float()\n",
      "C:\\Users\\George Welson\\AppData\\Local\\Temp\\ipykernel_17860\\1450774100.py:2: UserWarning: To copy construct from a tensor, it is recommended to use sourceTensor.clone().detach() or sourceTensor.clone().detach().requires_grad_(True), rather than torch.tensor(sourceTensor).\n",
      "  y = torch.tensor(y).float()\n",
      "C:\\Users\\George Welson\\AppData\\Local\\Temp\\ipykernel_17860\\1450774100.py:3: UserWarning: To copy construct from a tensor, it is recommended to use sourceTensor.clone().detach() or sourceTensor.clone().detach().requires_grad_(True), rather than torch.tensor(sourceTensor).\n",
      "  X_test = torch.tensor(X_test).float()\n",
      "C:\\Users\\George Welson\\AppData\\Local\\Temp\\ipykernel_17860\\1450774100.py:4: UserWarning: To copy construct from a tensor, it is recommended to use sourceTensor.clone().detach() or sourceTensor.clone().detach().requires_grad_(True), rather than torch.tensor(sourceTensor).\n",
      "  y_test = torch.tensor(y_test).float()\n"
     ]
    }
   ],
   "source": [
    "X = torch.tensor(X).float()\n",
    "y = torch.tensor(y).float()\n",
    "X_test = torch.tensor(X_test).float()\n",
    "y_test = torch.tensor(y_test).float()\n",
    "\n",
    "#X_test.dtype"
   ]
  },
  {
   "cell_type": "code",
   "execution_count": 221,
   "metadata": {
    "colab": {
     "base_uri": "https://localhost:8080/"
    },
    "id": "rhjEHK00QgZI",
    "outputId": "272c4b1f-1e2f-4643-8863-23f4a8f039e2",
    "ExecuteTime": {
     "end_time": "2023-10-22T19:00:34.141456400Z",
     "start_time": "2023-10-22T19:00:34.123685200Z"
    }
   },
   "outputs": [
    {
     "data": {
      "text/plain": "torch.Size([540, 11, 1])"
     },
     "execution_count": 221,
     "metadata": {},
     "output_type": "execute_result"
    }
   ],
   "source": [
    "X_test.shape"
   ]
  },
  {
   "cell_type": "code",
   "execution_count": 222,
   "metadata": {
    "id": "kaTJ_Tr2QgZI",
    "ExecuteTime": {
     "end_time": "2023-10-22T19:00:35.014227600Z",
     "start_time": "2023-10-22T19:00:34.998299900Z"
    }
   },
   "outputs": [],
   "source": [
    "class TimeSeriesDataset(Dataset):\n",
    "    def __init__(self, X, y):\n",
    "        self.X = X\n",
    "        self.y = y\n",
    "\n",
    "    def __len__(self):\n",
    "        return len(self.X)\n",
    "\n",
    "    def __getitem__(self, i):\n",
    "        return self.X[i], self.y[i]\n",
    "\n",
    "train_dataset = TimeSeriesDataset(X, y)\n",
    "test_dataset = TimeSeriesDataset(X_test, y_test)"
   ]
  },
  {
   "cell_type": "code",
   "execution_count": 223,
   "metadata": {
    "id": "e_prAT_PQgZI",
    "ExecuteTime": {
     "end_time": "2023-10-22T19:00:38.400138900Z",
     "start_time": "2023-10-22T19:00:38.392810600Z"
    }
   },
   "outputs": [],
   "source": [
    "batch_size = 8\n",
    "train_loader = DataLoader(train_dataset, batch_size=batch_size, shuffle=True)\n",
    "test_loader = DataLoader(test_dataset, batch_size=batch_size, shuffle=False)"
   ]
  },
  {
   "cell_type": "code",
   "execution_count": 224,
   "metadata": {
    "colab": {
     "base_uri": "https://localhost:8080/"
    },
    "id": "OS3FWsl6QgZI",
    "outputId": "689f3202-effa-46d6-84b1-a38f4d7fe6d2",
    "ExecuteTime": {
     "end_time": "2023-10-22T19:00:39.291875200Z",
     "start_time": "2023-10-22T19:00:39.256206800Z"
    }
   },
   "outputs": [
    {
     "name": "stdout",
     "output_type": "stream",
     "text": [
      "torch.Size([8, 11, 1]) torch.Size([8, 1])\n"
     ]
    }
   ],
   "source": [
    "for _, batch in enumerate(train_loader):\n",
    "    x_batch, y_batch = batch[0].to(device), batch[1].to(device)\n",
    "    print(x_batch.shape, y_batch.shape)\n",
    "    break"
   ]
  },
  {
   "cell_type": "code",
   "execution_count": 225,
   "metadata": {
    "colab": {
     "base_uri": "https://localhost:8080/"
    },
    "id": "MsjJmmbLQgZI",
    "outputId": "f25c6b2c-4c90-48e4-a03b-f7812a42e38e",
    "ExecuteTime": {
     "end_time": "2023-10-22T19:00:39.910650600Z",
     "start_time": "2023-10-22T19:00:39.891320Z"
    }
   },
   "outputs": [
    {
     "data": {
      "text/plain": "LSTM(\n  (lstm): LSTM(1, 4, batch_first=True)\n  (fc): Linear(in_features=4, out_features=1, bias=True)\n)"
     },
     "execution_count": 225,
     "metadata": {},
     "output_type": "execute_result"
    }
   ],
   "source": [
    "class LSTM(nn.Module):\n",
    "    def __init__(self, input_size, hidden_size, num_stacked_layers):\n",
    "        super().__init__()\n",
    "        self.hidden_size = hidden_size\n",
    "        self.num_stacked_layers = num_stacked_layers\n",
    "\n",
    "        self.lstm = nn.LSTM(input_size, hidden_size, num_stacked_layers,\n",
    "                            batch_first=True)\n",
    "\n",
    "        self.fc = nn.Linear(hidden_size, 1)\n",
    "\n",
    "    def forward(self, x):\n",
    "        batch_size = x.size(0)\n",
    "        h0 = torch.zeros(self.num_stacked_layers, batch_size, self.hidden_size).to(device)\n",
    "        c0 = torch.zeros(self.num_stacked_layers, batch_size, self.hidden_size).to(device)\n",
    "\n",
    "        out, _ = self.lstm(x, (h0, c0))\n",
    "        out = self.fc(out[:, -1, :])\n",
    "        return out\n",
    "\n",
    "model = LSTM(1, 4, 1)\n",
    "model.to(device)\n",
    "model"
   ]
  },
  {
   "cell_type": "code",
   "execution_count": 229,
   "metadata": {
    "id": "3jLc27cUQgZJ",
    "ExecuteTime": {
     "end_time": "2023-10-22T19:01:20.243710Z",
     "start_time": "2023-10-22T19:01:20.209180100Z"
    }
   },
   "outputs": [],
   "source": [
    "def train_one_epoch():\n",
    "    model.train(True)\n",
    "    print(f'Epoch: {epoch + 1}')\n",
    "    running_loss = 0.0\n",
    "\n",
    "    for batch_index, batch in enumerate(train_loader):\n",
    "        x_batch, y_batch = batch[0].to(device), batch[1].to(device)\n",
    "\n",
    "        output = model(x_batch)\n",
    "        loss = loss_function(output, y_batch)\n",
    "        running_loss += loss.item()\n",
    "\n",
    "        optimizer.zero_grad()\n",
    "        loss.backward()\n",
    "        optimizer.step()\n",
    "\n",
    "        if batch_index % 100 == 99:  # print every 100 batches\n",
    "            avg_loss_across_batches = running_loss / 100\n",
    "            print('Batch {0}, Loss: {1:.5f}'.format(batch_index+1,\n",
    "                                                    avg_loss_across_batches))\n",
    "            running_loss = 0.0\n",
    "    print()"
   ]
  },
  {
   "cell_type": "code",
   "execution_count": 230,
   "metadata": {
    "id": "DMUjdvMEQgZJ",
    "ExecuteTime": {
     "end_time": "2023-10-22T19:01:20.415697100Z",
     "start_time": "2023-10-22T19:01:20.401183Z"
    }
   },
   "outputs": [],
   "source": [
    "def validate_one_epoch():\n",
    "    model.train(False)\n",
    "    running_loss = 0.0\n",
    "\n",
    "    for batch_index, batch in enumerate(test_loader):\n",
    "        x_batch, y_batch = batch[0].to(device), batch[1].to(device)\n",
    "\n",
    "        with torch.no_grad():\n",
    "            output = model(x_batch)\n",
    "            loss = loss_function(output, y_batch)\n",
    "            running_loss += loss.item()\n",
    "\n",
    "    avg_loss_across_batches = running_loss / len(test_loader)\n",
    "\n",
    "    print('Val Loss: {0:.5f}'.format(avg_loss_across_batches))\n",
    "    print('***************************************************')\n",
    "    print()"
   ]
  },
  {
   "cell_type": "code",
   "execution_count": 231,
   "metadata": {
    "colab": {
     "base_uri": "https://localhost:8080/"
    },
    "id": "F7MZTgsmQgZJ",
    "outputId": "39939111-1cde-4e59-a664-8423519c77ba",
    "ExecuteTime": {
     "end_time": "2023-10-22T19:01:34.073140200Z",
     "start_time": "2023-10-22T19:01:20.606044100Z"
    }
   },
   "outputs": [
    {
     "name": "stdout",
     "output_type": "stream",
     "text": [
      "Epoch: 1\n",
      "Batch 100, Loss: 0.00089\n",
      "Batch 200, Loss: 0.00093\n",
      "Batch 300, Loss: 0.00086\n",
      "\n",
      "Val Loss: 0.00189\n",
      "***************************************************\n",
      "\n",
      "Epoch: 2\n",
      "Batch 100, Loss: 0.00091\n",
      "Batch 200, Loss: 0.00094\n",
      "Batch 300, Loss: 0.00089\n",
      "\n",
      "Val Loss: 0.00204\n",
      "***************************************************\n",
      "\n",
      "Epoch: 3\n",
      "Batch 100, Loss: 0.00089\n",
      "Batch 200, Loss: 0.00088\n",
      "Batch 300, Loss: 0.00091\n",
      "\n",
      "Val Loss: 0.00184\n",
      "***************************************************\n",
      "\n",
      "Epoch: 4\n",
      "Batch 100, Loss: 0.00079\n",
      "Batch 200, Loss: 0.00102\n",
      "Batch 300, Loss: 0.00089\n",
      "\n",
      "Val Loss: 0.00182\n",
      "***************************************************\n",
      "\n",
      "Epoch: 5\n",
      "Batch 100, Loss: 0.00088\n",
      "Batch 200, Loss: 0.00095\n",
      "Batch 300, Loss: 0.00090\n",
      "\n",
      "Val Loss: 0.00182\n",
      "***************************************************\n",
      "\n",
      "Epoch: 6\n",
      "Batch 100, Loss: 0.00095\n",
      "Batch 200, Loss: 0.00085\n",
      "Batch 300, Loss: 0.00086\n",
      "\n",
      "Val Loss: 0.00189\n",
      "***************************************************\n",
      "\n",
      "Epoch: 7\n",
      "Batch 100, Loss: 0.00097\n",
      "Batch 200, Loss: 0.00091\n",
      "Batch 300, Loss: 0.00093\n",
      "\n",
      "Val Loss: 0.00181\n",
      "***************************************************\n",
      "\n",
      "Epoch: 8\n",
      "Batch 100, Loss: 0.00096\n",
      "Batch 200, Loss: 0.00082\n",
      "Batch 300, Loss: 0.00092\n",
      "\n",
      "Val Loss: 0.00194\n",
      "***************************************************\n",
      "\n",
      "Epoch: 9\n",
      "Batch 100, Loss: 0.00106\n",
      "Batch 200, Loss: 0.00087\n",
      "Batch 300, Loss: 0.00085\n",
      "\n",
      "Val Loss: 0.00181\n",
      "***************************************************\n",
      "\n",
      "Epoch: 10\n",
      "Batch 100, Loss: 0.00085\n",
      "Batch 200, Loss: 0.00095\n",
      "Batch 300, Loss: 0.00101\n",
      "\n",
      "Val Loss: 0.00183\n",
      "***************************************************\n",
      "\n",
      "Epoch: 11\n",
      "Batch 100, Loss: 0.00105\n",
      "Batch 200, Loss: 0.00079\n",
      "Batch 300, Loss: 0.00086\n",
      "\n",
      "Val Loss: 0.00182\n",
      "***************************************************\n",
      "\n",
      "Epoch: 12\n",
      "Batch 100, Loss: 0.00094\n",
      "Batch 200, Loss: 0.00084\n",
      "Batch 300, Loss: 0.00095\n",
      "\n",
      "Val Loss: 0.00184\n",
      "***************************************************\n",
      "\n",
      "Epoch: 13\n",
      "Batch 100, Loss: 0.00090\n",
      "Batch 200, Loss: 0.00080\n",
      "Batch 300, Loss: 0.00096\n",
      "\n",
      "Val Loss: 0.00229\n",
      "***************************************************\n",
      "\n",
      "Epoch: 14\n",
      "Batch 100, Loss: 0.00090\n",
      "Batch 200, Loss: 0.00090\n",
      "Batch 300, Loss: 0.00088\n",
      "\n",
      "Val Loss: 0.00198\n",
      "***************************************************\n",
      "\n",
      "Epoch: 15\n",
      "Batch 100, Loss: 0.00090\n",
      "Batch 200, Loss: 0.00096\n",
      "Batch 300, Loss: 0.00079\n",
      "\n",
      "Val Loss: 0.00201\n",
      "***************************************************\n",
      "\n",
      "Epoch: 16\n",
      "Batch 100, Loss: 0.00084\n",
      "Batch 200, Loss: 0.00090\n",
      "Batch 300, Loss: 0.00093\n",
      "\n",
      "Val Loss: 0.00180\n",
      "***************************************************\n",
      "\n",
      "Epoch: 17\n",
      "Batch 100, Loss: 0.00088\n",
      "Batch 200, Loss: 0.00084\n",
      "Batch 300, Loss: 0.00089\n",
      "\n",
      "Val Loss: 0.00185\n",
      "***************************************************\n",
      "\n",
      "Epoch: 18\n",
      "Batch 100, Loss: 0.00085\n",
      "Batch 200, Loss: 0.00094\n",
      "Batch 300, Loss: 0.00095\n",
      "\n",
      "Val Loss: 0.00179\n",
      "***************************************************\n",
      "\n",
      "Epoch: 19\n",
      "Batch 100, Loss: 0.00084\n",
      "Batch 200, Loss: 0.00096\n",
      "Batch 300, Loss: 0.00086\n",
      "Val Loss: 0.00179\n",
      "***************************************************\n",
      "\n",
      "Epoch: 20\n",
      "Batch 100, Loss: 0.00093\n",
      "Batch 200, Loss: 0.00093\n",
      "Batch 300, Loss: 0.00084\n",
      "\n",
      "Val Loss: 0.00188\n",
      "***************************************************\n",
      "\n",
      "Epoch: 21\n",
      "Batch 100, Loss: 0.00093\n",
      "Batch 200, Loss: 0.00096\n",
      "Batch 300, Loss: 0.00082\n",
      "\n",
      "Val Loss: 0.00179\n",
      "***************************************************\n",
      "\n",
      "Epoch: 22\n",
      "Batch 100, Loss: 0.00090\n",
      "Batch 200, Loss: 0.00095\n",
      "Batch 300, Loss: 0.00086\n",
      "\n",
      "Val Loss: 0.00199\n",
      "***************************************************\n",
      "\n",
      "Epoch: 23\n",
      "Batch 100, Loss: 0.00096\n",
      "Batch 200, Loss: 0.00084\n",
      "Batch 300, Loss: 0.00091\n",
      "\n",
      "Val Loss: 0.00178\n",
      "***************************************************\n",
      "\n",
      "Epoch: 24\n",
      "Batch 100, Loss: 0.00093\n",
      "Batch 200, Loss: 0.00094\n",
      "Batch 300, Loss: 0.00084\n",
      "\n",
      "Val Loss: 0.00186\n",
      "***************************************************\n",
      "\n",
      "Epoch: 25\n",
      "Batch 100, Loss: 0.00097\n",
      "Batch 200, Loss: 0.00095\n",
      "Batch 300, Loss: 0.00081\n",
      "\n",
      "Val Loss: 0.00184\n",
      "***************************************************\n",
      "\n",
      "Epoch: 26\n",
      "Batch 100, Loss: 0.00086\n",
      "Batch 200, Loss: 0.00094\n",
      "Batch 300, Loss: 0.00083\n",
      "\n",
      "Val Loss: 0.00179\n",
      "***************************************************\n",
      "\n",
      "Epoch: 27\n",
      "Batch 100, Loss: 0.00091\n",
      "Batch 200, Loss: 0.00077\n",
      "Batch 300, Loss: 0.00094\n",
      "\n",
      "Val Loss: 0.00179\n",
      "***************************************************\n",
      "\n",
      "Epoch: 28\n",
      "Batch 100, Loss: 0.00084\n",
      "Batch 200, Loss: 0.00093\n",
      "Batch 300, Loss: 0.00093\n",
      "\n",
      "Val Loss: 0.00178\n",
      "***************************************************\n",
      "\n",
      "Epoch: 29\n",
      "Batch 100, Loss: 0.00083\n",
      "Batch 200, Loss: 0.00091\n",
      "Batch 300, Loss: 0.00092\n",
      "\n",
      "Val Loss: 0.00179\n",
      "***************************************************\n",
      "\n",
      "Epoch: 30\n",
      "Batch 100, Loss: 0.00086\n",
      "Batch 200, Loss: 0.00088\n",
      "Batch 300, Loss: 0.00097\n",
      "\n",
      "Val Loss: 0.00182\n",
      "***************************************************\n"
     ]
    }
   ],
   "source": [
    "learning_rate = 0.001\n",
    "num_epochs = 30\n",
    "loss_function = nn.MSELoss()\n",
    "optimizer = torch.optim.Adam(model.parameters(), lr=learning_rate)\n",
    "\n",
    "#Adam does the gradient descent\n",
    "\n",
    "for epoch in range(num_epochs):\n",
    "    train_one_epoch()\n",
    "    validate_one_epoch()"
   ]
  },
  {
   "cell_type": "code",
   "execution_count": 232,
   "metadata": {
    "colab": {
     "base_uri": "https://localhost:8080/",
     "height": 449
    },
    "id": "iCdLO3t-QgZJ",
    "outputId": "db5a8d4c-9eee-4487-eeaa-c4e514e35900",
    "ExecuteTime": {
     "end_time": "2023-10-22T19:01:36.019074800Z",
     "start_time": "2023-10-22T19:01:35.627894Z"
    }
   },
   "outputs": [
    {
     "data": {
      "text/plain": "<Figure size 640x480 with 1 Axes>",
      "image/png": "[encoded data removed]"
     },
     "metadata": {},
     "output_type": "display_data"
    }
   ],
   "source": [
    "with torch.no_grad():\n",
    "    predicted = model(X_train[:].to(device)).to('cpu').numpy()\n",
    "\n",
    "plt.plot(train_dates, y_train, label='Actual Price')\n",
    "plt.plot(train_dates, predicted, label='Predicted Price')\n",
    "\n",
    "plt.xlabel('Dates')\n",
    "plt.ylabel('Price')\n",
    "plt.legend()\n",
    "plt.show()\n"
   ]
  },
  {
   "cell_type": "code",
   "execution_count": 233,
   "metadata": {
    "colab": {
     "base_uri": "https://localhost:8080/"
    },
    "id": "Pa7E8ZLjQgZK",
    "outputId": "ea48216a-82ae-4bcf-9fb2-6d44682c9425",
    "ExecuteTime": {
     "end_time": "2023-10-22T19:01:38.106997500Z",
     "start_time": "2023-10-22T19:01:38.078803600Z"
    }
   },
   "outputs": [
    {
     "data": {
      "text/plain": "array([3.67905765, 3.71923309, 3.66033046, ..., 4.49182251, 4.51004664,\n       4.4743445 ])"
     },
     "execution_count": 233,
     "metadata": {},
     "output_type": "execute_result"
    }
   ],
   "source": [
    "train_predictions = predicted.flatten()\n",
    "\n",
    "dummies = np.zeros((X_train.shape[0], LOOKBACK+1))\n",
    "dummies[:, 0] = train_predictions\n",
    "dummies = price_scaler.inverse_transform(dummies)\n",
    "\n",
    "train_predictions = dc(dummies[:, 0])\n",
    "train_predictions"
   ]
  },
  {
   "cell_type": "code",
   "execution_count": 234,
   "metadata": {
    "colab": {
     "base_uri": "https://localhost:8080/"
    },
    "id": "Th5ixrjwQgZK",
    "outputId": "25d6f3cf-c0d0-4082-d761-c6fcfdc8023b",
    "ExecuteTime": {
     "end_time": "2023-10-22T19:01:38.900560200Z",
     "start_time": "2023-10-22T19:01:38.883452200Z"
    }
   },
   "outputs": [
    {
     "data": {
      "text/plain": "array([3.70900001, 3.65399999, 3.63900001, ..., 4.50749998, 4.46550002,\n       4.41800004])"
     },
     "execution_count": 234,
     "metadata": {},
     "output_type": "execute_result"
    }
   ],
   "source": [
    "dummies = np.zeros((X_train.shape[0], LOOKBACK+1))\n",
    "dummies[:, 0] = y_train.flatten()\n",
    "dummies = price_scaler.inverse_transform(dummies)\n",
    "new_y_train = dc(dummies[:, 0])\n",
    "new_y_train"
   ]
  },
  {
   "cell_type": "code",
   "execution_count": 235,
   "metadata": {
    "colab": {
     "base_uri": "https://localhost:8080/",
     "height": 449
    },
    "id": "LuQBl4e1QgZK",
    "outputId": "2fbedd60-e1da-44bc-f7bf-9088b222b2fa",
    "ExecuteTime": {
     "end_time": "2023-10-22T19:01:39.731435600Z",
     "start_time": "2023-10-22T19:01:39.477343900Z"
    }
   },
   "outputs": [
    {
     "data": {
      "text/plain": "<Figure size 640x480 with 1 Axes>",
      "image/png": "[encoded data removed]"
     },
     "metadata": {},
     "output_type": "display_data"
    }
   ],
   "source": [
    "plt.plot(train_dates,new_y_train,  label='Actual Price')\n",
    "plt.plot(train_dates,train_predictions, label='Predicted Price')\n",
    "plt.xlabel('Day')\n",
    "plt.ylabel('Price')\n",
    "plt.legend()\n",
    "plt.show()"
   ]
  },
  {
   "cell_type": "code",
   "execution_count": 236,
   "metadata": {
    "colab": {
     "base_uri": "https://localhost:8080/"
    },
    "id": "0zCJ-Lr9QgZL",
    "outputId": "9ef6cb08-1049-4ddd-ccbb-0a2266b01511",
    "ExecuteTime": {
     "end_time": "2023-10-22T19:01:40.271214800Z",
     "start_time": "2023-10-22T19:01:40.244573100Z"
    }
   },
   "outputs": [
    {
     "data": {
      "text/plain": "array([4.42797512, 4.38606698, 4.33354185, 4.3437077 , 4.35010063,\n       4.29578638, 4.35403443, 4.37120344, 4.36148873, 4.39106786,\n       4.33397576, 4.2153638 , 4.12861391, 4.05283101, 4.13891062,\n       4.23510749, 4.27336727, 4.28250307, 4.26492316, 4.33261209,\n       4.38086605, 4.3811953 , 4.28879598, 4.30899973, 4.34184792,\n       4.29372316, 4.24528128, 4.29430787, 4.45153484, 4.38155079,\n       4.33072625, 4.40910854, 4.29715559, 4.25567324, 4.12706736,\n       4.1376653 , 4.2637557 , 4.24692076, 4.29491417, 4.30373643,\n       4.26211462, 4.2119949 , 4.10186215, 4.1995589 , 4.25304886,\n       4.20722994, 4.16010373, 4.25408855, 4.28911729, 4.37447651,\n       4.339691  , 4.51029889, 4.62192135, 4.70946532, 4.71379797,\n       4.6952254 , 4.7183188 , 4.57270756, 4.50454501, 4.52783017,\n       4.49345199, 4.4022162 , 4.43234793, 4.37225785, 4.38707776,\n       4.36336752, 4.32144242, 4.31993687, 4.34591172, 4.40235817,\n       4.38455804, 4.33565557, 4.4037793 , 4.45351061, 4.41269641,\n       4.36610887, 4.28149756, 4.31428123, 4.40657098, 4.40869854,\n       4.43106527, 4.46977744, 4.30588585, 4.34783182, 4.29512895,\n       4.25936372, 4.30966769, 4.28036062, 4.34607537, 4.35131618,\n       4.40024105, 4.3461298 , 4.29728613, 4.29290226, 4.26821747,\n       4.19434726, 4.31051857, 4.30728396, 4.30204226, 4.35182621,\n       4.39790443, 4.40001503, 4.47247195, 4.44081987, 4.41938459,\n       4.40230115, 4.46672066, 4.4329222 , 4.47828633, 4.42574977,\n       4.3662884 , 4.41565209, 4.36556057, 4.43331578, 4.56916966,\n       4.55211977, 4.43550116, 4.39174938, 4.47145725, 4.57649092,\n       4.53265492, 4.42630201, 4.45385557, 4.5158454 , 4.43711673,\n       4.32617883, 4.33520318, 4.43558655, 4.49734778, 4.48069968,\n       4.49463712, 4.47548831, 4.47109311, 4.5918478 , 4.64873539,\n       4.52351438, 4.51044023, 4.53537289, 4.5419449 , 4.53076239,\n       4.52761308, 4.51908876, 4.49250894, 4.46578707, 4.48880579,\n       4.46333338, 4.58638686, 4.65455851, 4.75244491, 4.87727091,\n       4.73635752, 4.70215682, 4.58230878, 4.63938731, 4.62330421,\n       4.53248119, 4.51629931, 4.59277399, 4.6840005 , 4.72207049,\n       4.68412515, 4.67316829, 4.72789254, 4.71465055, 4.68000531,\n       4.6981528 , 4.69934221, 4.71711779, 4.72298035, 4.67513291,\n       4.74113373, 4.76533107, 4.72436508, 4.69592495, 4.71929996,\n       4.65507996, 4.71523749, 4.71816078, 4.7218169 , 4.78702993,\n       4.73445206, 4.68254768, 4.71583184, 4.62816241, 4.50880735,\n       4.49234922, 4.50183694, 4.46433979, 4.43340947, 4.29931964,\n       4.31119608, 4.36250031, 4.32306271, 4.30522547, 4.23599995,\n       4.19707078, 4.24541566, 4.14207719, 4.20634533, 4.22374642,\n       4.26616567, 4.20833521, 4.29891204, 4.30156578, 4.36407358,\n       4.33518007, 4.29172775, 4.29530446, 4.34163341, 4.33139466,\n       4.35733667, 4.55891842, 4.50921423, 4.4624063 , 4.45955529,\n       4.46546986, 4.4079749 , 4.33071313, 4.24731479, 4.20237414,\n       4.20793225, 4.15554721, 4.05743643, 4.07378218, 3.98046716,\n       3.77567708, 3.77753343, 3.79902099, 3.8098201 , 3.8097625 ,\n       3.7373407 , 3.6250704 , 3.43351596, 3.42555911, 3.59795222,\n       3.53499139, 3.43058391, 3.29390092, 3.33894231, 3.22122739,\n       3.25217131, 3.37104118, 3.30756117, 3.34378579, 3.31553563,\n       3.36792067, 3.3818474 , 3.41269161, 3.45607994, 3.50431421,\n       3.5967031 , 3.56328686, 3.53720209, 3.49002426, 3.51250095,\n       3.58727888, 3.615699  , 3.61278042, 3.67611441, 3.7324153 ,\n       3.69208139, 3.63928656, 3.64720146, 3.60523232, 3.65171073,\n       3.68817232, 3.66416839, 3.70157178, 3.65880301, 3.7069047 ,\n       3.70896132, 3.6189125 , 3.56222125, 3.52634026, 3.41099099,\n       3.41972539, 3.4722516 , 3.43292955, 3.5320647 , 3.57063281,\n       3.61000153, 3.55147535, 3.51843476, 3.4875415 , 3.51533635,\n       3.51333012, 3.50239132, 3.4642776 , 3.46946427, 3.34023112,\n       3.29239268, 3.28663971, 3.35910605, 3.4119909 , 3.39759831,\n       3.39546422, 3.47980566, 3.4897466 , 3.43114555, 3.37224059,\n       3.42193052, 3.45561787, 3.41237081, 3.42947561, 3.41109714,\n       3.40755588, 3.3562167 , 3.31697702, 3.41346022, 3.46628405,\n       3.41930003, 3.38770322, 3.53750588, 3.50893307, 3.41313635,\n       3.36246071, 3.47088139, 3.46303053, 3.41963963, 3.68945333,\n       3.60599288, 3.68142601, 3.70032507, 3.7595528 , 3.91490883,\n       3.836485  , 3.82664353, 3.78314213, 3.70165706, 3.65044604,\n       3.58517462, 3.62954182, 3.63134124, 3.64208598, 3.62433904,\n       3.6489296 , 3.75117789, 3.83017648, 3.86076478, 3.8020929 ,\n       3.82807975, 3.87392718, 3.89607803, 3.88966007, 3.80879808,\n       3.85409738, 3.89246491, 3.77036917, 3.77098074, 3.79674702,\n       3.81138659, 3.82126209, 3.76561864, 3.82098169, 3.85394289,\n       3.85356153, 3.83657137, 3.82349079, 3.77609034, 3.75049899,\n       3.835433  , 3.92615238, 4.04022986, 4.09080915, 4.17780526,\n       4.20985806, 4.22859142, 4.23586512, 4.2471938 , 4.24467792,\n       4.26381459, 4.2694746 , 4.26153232, 4.25726578, 4.27953731,\n       4.23681442, 4.21471234, 4.23849334, 4.12579136, 4.10269465,\n       4.07052085, 4.04852946, 4.09451787, 4.04982086, 4.10975326,\n       4.03047735, 4.06967885, 4.08980145, 4.02342271, 4.14759461,\n       4.12464857, 4.23594017, 4.20613198, 4.07103422, 4.02166161,\n       4.10394465, 4.17525092, 4.103033  , 3.98480543, 4.03975132,\n       4.05479787, 4.04405449, 4.06677688, 4.01610515, 3.85031759,\n       3.87659261, 3.90866294, 3.96610477, 4.00780501, 4.05773223,\n       4.13670173, 4.08889618, 4.09031027, 4.09916688, 4.10028152,\n       4.10509475, 4.10818401, 4.05874943, 3.98240127, 3.99955636,\n       4.03050501, 3.98972726, 4.03241115, 4.09555448, 4.13805059,\n       4.12009775, 4.07846938, 4.10939658, 4.0954168 , 4.04529717,\n       3.99857284, 3.97731714, 3.87569274, 3.87347216, 3.89866578,\n       3.90378283, 3.94714914, 3.87297213, 3.85494037, 3.87618274,\n       3.89634473, 3.94283505, 3.91322455, 3.75600319, 3.67391964,\n       3.7713397 , 3.70054046, 3.74250406, 3.6942149 , 3.66223651,\n       3.56753347, 3.59367114, 3.69069688, 3.67194868, 3.64269028,\n       3.72265622, 3.73846662, 3.7780795 , 3.77819461, 3.76488121,\n       3.80651576, 3.79999791, 3.76057044, 3.84404249, 3.8837433 ,\n       3.91583069, 3.90961965, 3.90450415, 3.92284656, 3.91274424,\n       3.82436072, 3.81515866, 3.80089604, 3.7524928 , 3.70819887,\n       3.77312837, 3.80735749, 3.77758228, 3.7425141 , 3.79426255,\n       3.79635878, 3.77534649, 3.86616023, 3.95462932, 3.94470045,\n       3.85139083, 3.83942649, 3.82643483, 3.84736383, 3.9299514 ,\n       3.91439045, 3.88524702, 3.9392852 , 4.02273146, 3.91936657,\n       3.85120532, 3.9135232 , 3.88084308, 3.84512366, 3.775592  ,\n       3.79562386, 3.77701586, 3.72794557, 3.73635673, 3.67636427,\n       3.66696038, 3.70386684, 3.71700477, 3.75732852, 3.79365807,\n       3.84196445, 3.79617524, 3.78799016, 3.79697151, 3.84235224,\n       3.85604845, 3.8319237 , 3.8636    , 3.86043972, 3.79470824,\n       3.77168437, 3.72660695, 3.82142181, 3.80283586, 3.80113914,\n       3.83195288, 3.81034405, 3.7872344 , 3.75536215, 3.78682319,\n       3.70287617, 3.70413993, 3.67907268, 3.65685306, 3.64463849,\n       3.71954035, 3.74773756, 3.64421608, 3.62674497, 3.59729684])"
     },
     "execution_count": 236,
     "metadata": {},
     "output_type": "execute_result"
    }
   ],
   "source": [
    "test_predictions = model(X_test.to(device)).detach().cpu().numpy().flatten()\n",
    "\n",
    "dummies = np.zeros((X_test.shape[0], LOOKBACK+1))\n",
    "dummies[:, 0] = test_predictions\n",
    "dummies = price_scaler.inverse_transform(dummies)\n",
    "\n",
    "test_predictions = dc(dummies[:, 0])\n",
    "test_predictions"
   ]
  },
  {
   "cell_type": "code",
   "execution_count": 237,
   "metadata": {
    "colab": {
     "base_uri": "https://localhost:8080/"
    },
    "id": "PUbVm3RgQgZL",
    "outputId": "b97c39ac-9d7d-4f22-b4b3-c1fd3fee7db8",
    "ExecuteTime": {
     "end_time": "2023-10-22T19:01:41.443708900Z",
     "start_time": "2023-10-22T19:01:41.428080Z"
    }
   },
   "outputs": [
    {
     "data": {
      "text/plain": "0.06394427876809756"
     },
     "execution_count": 237,
     "metadata": {},
     "output_type": "execute_result"
    }
   ],
   "source": [
    "dummies = np.zeros((X_test.shape[0], LOOKBACK+1))\n",
    "dummies[:, 0] = y_test.flatten()\n",
    "dummies = price_scaler.inverse_transform(dummies)\n",
    "\n",
    "new_y_test = dc(dummies[:, 0])\n",
    "new_y_test\n",
    "squared_differences = (new_y_test - test_predictions)**2\n",
    "\n",
    "# Calculate the Root Mean Squared Error (RMSE)\n",
    "rmse = np.sqrt(np.mean(squared_differences))\n",
    "#rmse\n",
    "absolute_differences = np.abs(new_y_test - test_predictions)\n",
    "\n",
    "# Calculate the Mean Absolute Error (MAE)\n",
    "mae = np.mean(absolute_differences)\n",
    "rmse"
   ]
  },
  {
   "cell_type": "code",
   "execution_count": 238,
   "metadata": {
    "colab": {
     "base_uri": "https://localhost:8080/",
     "height": 542
    },
    "id": "zw7bJAfwQgZL",
    "outputId": "4e66bec7-adf4-4538-df98-8c809bdc2241",
    "ExecuteTime": {
     "end_time": "2023-10-22T19:01:42.540627800Z",
     "start_time": "2023-10-22T19:01:42.275108Z"
    }
   },
   "outputs": [
    {
     "data": {
      "text/plain": "<Figure size 1000x600 with 1 Axes>",
      "image/png": "[encoded data removed]"
     },
     "metadata": {},
     "output_type": "display_data"
    }
   ],
   "source": [
    "plt.figure(figsize=(10,6))\n",
    "plt.plot(test_dates, new_y_test, label='Actual Price')\n",
    "plt.plot(test_dates,test_predictions, label='Predicted Price')\n",
    "plt.xlabel('Day')\n",
    "plt.ylabel('Price')\n",
    "plt.legend()\n",
    "plt.show()"
   ]
  },
  {
   "cell_type": "code",
   "execution_count": 239,
   "metadata": {
    "colab": {
     "base_uri": "https://localhost:8080/"
    },
    "id": "g3vPy775QgZM",
    "outputId": "7d15d364-259d-4e4f-a281-d82f79e27cbf",
    "ExecuteTime": {
     "end_time": "2023-10-22T19:01:44.136599Z",
     "start_time": "2023-10-22T19:01:44.121650800Z"
    }
   },
   "outputs": [
    {
     "data": {
      "text/plain": "2160   2021-08-03\n2161   2021-08-04\n2162   2021-08-05\n2163   2021-08-06\n2164   2021-08-09\n          ...    \n2695   2023-09-29\n2696   2023-10-02\n2697   2023-10-03\n2698   2023-10-04\n2699   2023-10-05\nName: Date, Length: 540, dtype: datetime64[ns]"
     },
     "execution_count": 239,
     "metadata": {},
     "output_type": "execute_result"
    }
   ],
   "source": [
    "test_dates"
   ]
  },
  {
   "cell_type": "code",
   "execution_count": 240,
   "metadata": {
    "id": "1vbr17ERTp30",
    "ExecuteTime": {
     "end_time": "2023-10-22T19:01:45.116212700Z",
     "start_time": "2023-10-22T19:01:45.088202700Z"
    }
   },
   "outputs": [
    {
     "data": {
      "text/plain": "\"# Instantiate your model\\nmodel = LSTM(1, 4, 1)\\n\\n# Save the model to a .pkl (pickle) file\\nmodel_file_path = 'LSTM.pkl'\\nwith open(model_file_path, 'wb') as file:\\n    pickle.dump(model, file)\""
     },
     "execution_count": 240,
     "metadata": {},
     "output_type": "execute_result"
    }
   ],
   "source": [
    "\"\"\"# Instantiate your model\n",
    "model = LSTM(1, 4, 1)\n",
    "\n",
    "# Save the model to a .pkl (pickle) file\n",
    "model_file_path = 'LSTM.pkl'\n",
    "with open(model_file_path, 'wb') as file:\n",
    "    pickle.dump(model, file)\"\"\""
   ]
  },
  {
   "cell_type": "code",
   "execution_count": 241,
   "metadata": {
    "collapsed": false,
    "ExecuteTime": {
     "end_time": "2023-10-22T19:01:48.216034400Z",
     "start_time": "2023-10-22T19:01:48.197781600Z"
    }
   },
   "outputs": [],
   "source": [
    "torch.save(model, 'model.pt')"
   ]
  },
  {
   "cell_type": "code",
   "execution_count": 242,
   "metadata": {
    "collapsed": false,
    "ExecuteTime": {
     "end_time": "2023-10-22T19:01:49.498462300Z",
     "start_time": "2023-10-22T19:01:49.482283400Z"
    }
   },
   "outputs": [],
   "source": [
    "m1 = torch.load('model.pt')"
   ]
  },
  {
   "cell_type": "code",
   "execution_count": 243,
   "outputs": [
    {
     "data": {
      "text/plain": "LSTM(\n  (lstm): LSTM(1, 4, batch_first=True)\n  (fc): Linear(in_features=4, out_features=1, bias=True)\n)"
     },
     "execution_count": 243,
     "metadata": {},
     "output_type": "execute_result"
    }
   ],
   "source": [
    "m1"
   ],
   "metadata": {
    "collapsed": false,
    "ExecuteTime": {
     "end_time": "2023-10-22T19:01:49.732843400Z",
     "start_time": "2023-10-22T19:01:49.701016800Z"
    }
   }
  },
  {
   "cell_type": "code",
   "execution_count": 244,
   "outputs": [
    {
     "data": {
      "text/plain": "LSTM(\n  (lstm): LSTM(1, 4, batch_first=True)\n  (fc): Linear(in_features=4, out_features=1, bias=True)\n)"
     },
     "execution_count": 244,
     "metadata": {},
     "output_type": "execute_result"
    }
   ],
   "source": [
    "model"
   ],
   "metadata": {
    "collapsed": false,
    "ExecuteTime": {
     "end_time": "2023-10-22T19:01:49.933627900Z",
     "start_time": "2023-10-22T19:01:49.915002800Z"
    }
   }
  },
  {
   "cell_type": "code",
   "execution_count": 263,
   "outputs": [
    {
     "data": {
      "text/plain": "          Date\n0   2023-10-06\n1   2023-10-07\n2   2023-10-08\n3   2023-10-09\n4   2023-10-10\n..         ...\n107 2024-01-21\n108 2024-01-22\n109 2024-01-23\n110 2024-01-24\n111 2024-01-25\n\n[112 rows x 1 columns]",
      "text/html": "<div>\n<style scoped>\n    .dataframe tbody tr th:only-of-type {\n        vertical-align: middle;\n    }\n\n    .dataframe tbody tr th {\n        vertical-align: top;\n    }\n\n    .dataframe thead th {\n        text-align: right;\n    }\n</style>\n<table border=\"1\" class=\"dataframe\">\n  <thead>\n    <tr style=\"text-align: right;\">\n      <th></th>\n      <th>Date</th>\n    </tr>\n  </thead>\n  <tbody>\n    <tr>\n      <th>0</th>\n      <td>2023-10-06</td>\n    </tr>\n    <tr>\n      <th>1</th>\n      <td>2023-10-07</td>\n    </tr>\n    <tr>\n      <th>2</th>\n      <td>2023-10-08</td>\n    </tr>\n    <tr>\n      <th>3</th>\n      <td>2023-10-09</td>\n    </tr>\n    <tr>\n      <th>4</th>\n      <td>2023-10-10</td>\n    </tr>\n    <tr>\n      <th>...</th>\n      <td>...</td>\n    </tr>\n    <tr>\n      <th>107</th>\n      <td>2024-01-21</td>\n    </tr>\n    <tr>\n      <th>108</th>\n      <td>2024-01-22</td>\n    </tr>\n    <tr>\n      <th>109</th>\n      <td>2024-01-23</td>\n    </tr>\n    <tr>\n      <th>110</th>\n      <td>2024-01-24</td>\n    </tr>\n    <tr>\n      <th>111</th>\n      <td>2024-01-25</td>\n    </tr>\n  </tbody>\n</table>\n<p>112 rows × 1 columns</p>\n</div>"
     },
     "execution_count": 263,
     "metadata": {},
     "output_type": "execute_result"
    }
   ],
   "source": [
    "start_date = last_date+timedelta(days=1)\n",
    "end_date = \"2024-01-25\"\n",
    "forecast_dates = pd.date_range(start=start_date, end=end_date, freq='D')\n",
    "\n",
    "# Create a DataFrame with the date column\n",
    "forecast_set = pd.DataFrame({'Date': forecast_dates})\n",
    "forecast_set['Date'] = pd.to_datetime(forecast_set['Date'])\n",
    "forecast_set"
   ],
   "metadata": {
    "collapsed": false,
    "ExecuteTime": {
     "end_time": "2023-10-22T19:57:29.269868500Z",
     "start_time": "2023-10-22T19:57:29.229168500Z"
    }
   }
  },
  {
   "cell_type": "code",
   "execution_count": 260,
   "outputs": [
    {
     "data": {
      "text/plain": "datetime.date(2023, 10, 6)"
     },
     "execution_count": 260,
     "metadata": {},
     "output_type": "execute_result"
    }
   ],
   "source": [
    "last_date+timedelta(days=1)"
   ],
   "metadata": {
    "collapsed": false,
    "ExecuteTime": {
     "end_time": "2023-10-22T19:49:13.612759600Z",
     "start_time": "2023-10-22T19:49:13.598186900Z"
    }
   }
  },
  {
   "cell_type": "code",
   "execution_count": null,
   "outputs": [],
   "source": [],
   "metadata": {
    "collapsed": false
   }
  }
 ],
 "metadata": {
  "colab": {
   "provenance": []
  },
  "kernelspec": {
   "display_name": "Python 3 (ipykernel)",
   "language": "python",
   "name": "python3"
  },
  "language_info": {
   "codemirror_mode": {
    "name": "ipython",
    "version": 3
   },
   "file_extension": ".py",
   "mimetype": "text/x-python",
   "name": "python",
   "nbconvert_exporter": "python",
   "pygments_lexer": "ipython3",
   "version": "3.11.5"
  }
 },
 "nbformat": 4,
 "nbformat_minor": 4
}
