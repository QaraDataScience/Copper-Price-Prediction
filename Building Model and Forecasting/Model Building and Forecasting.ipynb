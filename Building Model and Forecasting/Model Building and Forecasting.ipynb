{
 "cells": [
  {
   "cell_type": "code",
   "execution_count": 14,
   "outputs": [
    {
     "name": "stdout",
     "output_type": "stream",
     "text": [
      "Note: you may need to restart the kernel to use updated packages.\n"
     ]
    },
    {
     "name": "stderr",
     "output_type": "stream",
     "text": [
      "WARNING: Skipping C:\\Users\\George Welson\\AppData\\Local\\Programs\\Python\\Python3115\\Lib\\site-packages\\pandas-2.1.1.dist-info due to invalid metadata entry 'name'\n",
      "ERROR: Could not open requirements file: [Errno 2] No such file or directory: 'requirements.txt'\n",
      "WARNING: Skipping C:\\Users\\George Welson\\AppData\\Local\\Programs\\Python\\Python3115\\Lib\\site-packages\\pandas-2.1.1.dist-info due to invalid metadata entry 'name'\n",
      "WARNING: Skipping C:\\Users\\George Welson\\AppData\\Local\\Programs\\Python\\Python3115\\Lib\\site-packages\\pandas-2.1.1.dist-info due to invalid metadata entry 'name'\n",
      "WARNING: Skipping C:\\Users\\George Welson\\AppData\\Local\\Programs\\Python\\Python3115\\Lib\\site-packages\\pandas-2.1.1.dist-info due to invalid metadata entry 'name'\n"
     ]
    }
   ],
   "source": [
    "%pip install -r requirements.txt"
   ],
   "metadata": {
    "collapsed": false,
    "ExecuteTime": {
     "end_time": "2023-12-01T23:22:39.607910800Z",
     "start_time": "2023-12-01T23:22:37.934895400Z"
    }
   }
  },
  {
   "cell_type": "markdown",
   "metadata": {
    "id": "7zLDGowEErcq"
   },
   "source": [
    "## Importing Packages"
   ]
  },
  {
   "cell_type": "code",
   "execution_count": 15,
   "metadata": {
    "id": "_DjLkfnxGxyb",
    "ExecuteTime": {
     "end_time": "2023-12-01T23:22:39.608912Z",
     "start_time": "2023-12-01T23:22:39.028879300Z"
    }
   },
   "outputs": [],
   "source": [
    "import numpy as np\n",
    "import pandas as pd\n",
    "import matplotlib.pyplot as plt\n",
    "import seaborn as sns\n",
    "from sklearn.model_selection import train_test_split\n",
    "from sklearn.preprocessing import MinMaxScaler\n",
    "from keras.models import Sequential\n",
    "from keras.layers import Dense, Dropout, LSTM, Conv1D, MaxPooling1D, Flatten\n",
    "from keras.optimizers import Adam\n",
    "from sklearn.metrics import mean_squared_error\n",
    "import torch\n",
    "import torch.nn as nn\n",
    "from torch.utils.data import Dataset,DataLoader\n",
    "from itertools import product\n",
    "from datetime import timedelta"
   ]
  },
  {
   "cell_type": "code",
   "execution_count": 16,
   "metadata": {
    "colab": {
     "base_uri": "https://localhost:8080/",
     "height": 36
    },
    "id": "bilDkp7vQgY6",
    "outputId": "2af2a045-d648-419d-a346-c2c3d97e6dd7",
    "ExecuteTime": {
     "end_time": "2023-12-01T23:22:39.608912Z",
     "start_time": "2023-12-01T23:22:39.033098700Z"
    }
   },
   "outputs": [
    {
     "data": {
      "text/plain": "'cpu'"
     },
     "execution_count": 16,
     "metadata": {},
     "output_type": "execute_result"
    }
   ],
   "source": [
    "device = 'cuda:0' if torch.cuda.is_available() else 'cpu'\n",
    "device"
   ]
  },
  {
   "cell_type": "markdown",
   "metadata": {
    "id": "grLIQF-pGZw1"
   },
   "source": [
    "## Loading Dataset"
   ]
  },
  {
   "cell_type": "code",
   "execution_count": 17,
   "metadata": {
    "colab": {
     "base_uri": "https://localhost:8080/",
     "height": 614
    },
    "id": "fmhcgXvGE4io",
    "outputId": "0a39785d-36ff-4a49-d302-4a53638e08b1",
    "ExecuteTime": {
     "end_time": "2023-12-01T23:22:39.649908100Z",
     "start_time": "2023-12-01T23:22:39.038669900Z"
    }
   },
   "outputs": [
    {
     "data": {
      "text/plain": "           Date   Price  Month    Year   Real_GDP    CPI  inflation_rate  \\\n0    2000-01-04  0.8480    1.0  2000.0  14096.033  168.8        3.376857   \n1    2000-01-05  0.8565    1.0  2000.0  14096.033  168.8        3.376857   \n2    2000-01-06  0.8530    1.0  2000.0  14096.033  168.8        3.376857   \n3    2000-01-07  0.8540    1.0  2000.0  14096.033  168.8        3.376857   \n4    2000-01-10  0.8465    1.0  2000.0  14096.033  168.8        3.376857   \n...         ...     ...    ...     ...        ...    ...             ...   \n6047 2023-11-20  3.8335   11.0  2023.0  19374.000  307.0        6.600000   \n6048 2023-11-21  3.8395   11.0  2023.0  19374.000  307.0        6.600000   \n6049 2023-11-22  3.7970   11.0  2023.0  19374.000  307.0        6.600000   \n6050 2023-11-23  3.7743   11.0  2023.0  19374.000  307.0        6.600000   \n6051 2023-11-24  3.8205   11.0  2023.0  19374.000  307.0        6.600000   \n\n      PALLFNFINDEXM   DEXCHUS  \n0         59.470000  0.120774  \n1         59.470000  0.120776  \n2         59.470000  0.120777  \n3         59.470000  0.120782  \n4         59.470000  0.120782  \n...             ...       ...  \n6047     168.657489  0.139509  \n6048     168.657489  0.140150  \n6049     168.657489  0.139762  \n6050     168.657489  0.139823  \n6051     168.657489  0.139884  \n\n[6052 rows x 9 columns]",
      "text/html": "<div>\n<style scoped>\n    .dataframe tbody tr th:only-of-type {\n        vertical-align: middle;\n    }\n\n    .dataframe tbody tr th {\n        vertical-align: top;\n    }\n\n    .dataframe thead th {\n        text-align: right;\n    }\n</style>\n<table border=\"1\" class=\"dataframe\">\n  <thead>\n    <tr style=\"text-align: right;\">\n      <th></th>\n      <th>Date</th>\n      <th>Price</th>\n      <th>Month</th>\n      <th>Year</th>\n      <th>Real_GDP</th>\n      <th>CPI</th>\n      <th>inflation_rate</th>\n      <th>PALLFNFINDEXM</th>\n      <th>DEXCHUS</th>\n    </tr>\n  </thead>\n  <tbody>\n    <tr>\n      <th>0</th>\n      <td>2000-01-04</td>\n      <td>0.8480</td>\n      <td>1.0</td>\n      <td>2000.0</td>\n      <td>14096.033</td>\n      <td>168.8</td>\n      <td>3.376857</td>\n      <td>59.470000</td>\n      <td>0.120774</td>\n    </tr>\n    <tr>\n      <th>1</th>\n      <td>2000-01-05</td>\n      <td>0.8565</td>\n      <td>1.0</td>\n      <td>2000.0</td>\n      <td>14096.033</td>\n      <td>168.8</td>\n      <td>3.376857</td>\n      <td>59.470000</td>\n      <td>0.120776</td>\n    </tr>\n    <tr>\n      <th>2</th>\n      <td>2000-01-06</td>\n      <td>0.8530</td>\n      <td>1.0</td>\n      <td>2000.0</td>\n      <td>14096.033</td>\n      <td>168.8</td>\n      <td>3.376857</td>\n      <td>59.470000</td>\n      <td>0.120777</td>\n    </tr>\n    <tr>\n      <th>3</th>\n      <td>2000-01-07</td>\n      <td>0.8540</td>\n      <td>1.0</td>\n      <td>2000.0</td>\n      <td>14096.033</td>\n      <td>168.8</td>\n      <td>3.376857</td>\n      <td>59.470000</td>\n      <td>0.120782</td>\n    </tr>\n    <tr>\n      <th>4</th>\n      <td>2000-01-10</td>\n      <td>0.8465</td>\n      <td>1.0</td>\n      <td>2000.0</td>\n      <td>14096.033</td>\n      <td>168.8</td>\n      <td>3.376857</td>\n      <td>59.470000</td>\n      <td>0.120782</td>\n    </tr>\n    <tr>\n      <th>...</th>\n      <td>...</td>\n      <td>...</td>\n      <td>...</td>\n      <td>...</td>\n      <td>...</td>\n      <td>...</td>\n      <td>...</td>\n      <td>...</td>\n      <td>...</td>\n    </tr>\n    <tr>\n      <th>6047</th>\n      <td>2023-11-20</td>\n      <td>3.8335</td>\n      <td>11.0</td>\n      <td>2023.0</td>\n      <td>19374.000</td>\n      <td>307.0</td>\n      <td>6.600000</td>\n      <td>168.657489</td>\n      <td>0.139509</td>\n    </tr>\n    <tr>\n      <th>6048</th>\n      <td>2023-11-21</td>\n      <td>3.8395</td>\n      <td>11.0</td>\n      <td>2023.0</td>\n      <td>19374.000</td>\n      <td>307.0</td>\n      <td>6.600000</td>\n      <td>168.657489</td>\n      <td>0.140150</td>\n    </tr>\n    <tr>\n      <th>6049</th>\n      <td>2023-11-22</td>\n      <td>3.7970</td>\n      <td>11.0</td>\n      <td>2023.0</td>\n      <td>19374.000</td>\n      <td>307.0</td>\n      <td>6.600000</td>\n      <td>168.657489</td>\n      <td>0.139762</td>\n    </tr>\n    <tr>\n      <th>6050</th>\n      <td>2023-11-23</td>\n      <td>3.7743</td>\n      <td>11.0</td>\n      <td>2023.0</td>\n      <td>19374.000</td>\n      <td>307.0</td>\n      <td>6.600000</td>\n      <td>168.657489</td>\n      <td>0.139823</td>\n    </tr>\n    <tr>\n      <th>6051</th>\n      <td>2023-11-24</td>\n      <td>3.8205</td>\n      <td>11.0</td>\n      <td>2023.0</td>\n      <td>19374.000</td>\n      <td>307.0</td>\n      <td>6.600000</td>\n      <td>168.657489</td>\n      <td>0.139884</td>\n    </tr>\n  </tbody>\n</table>\n<p>6052 rows × 9 columns</p>\n</div>"
     },
     "execution_count": 17,
     "metadata": {},
     "output_type": "execute_result"
    }
   ],
   "source": [
    "df = pd.read_csv('../DataFrames/final_merged_copper_dataset.csv')\n",
    "df = df.drop(['Unnamed: 0'], axis=1)\n",
    "df[\"Date\"] = pd.to_datetime(df[\"Date\"])\n",
    "df"
   ]
  },
  {
   "cell_type": "code",
   "execution_count": 18,
   "outputs": [],
   "source": [
    "df.to_csv(\"df.csv\",index=False)"
   ],
   "metadata": {
    "collapsed": false,
    "ExecuteTime": {
     "end_time": "2023-12-01T23:22:39.649908100Z",
     "start_time": "2023-12-01T23:22:39.091719200Z"
    }
   }
  },
  {
   "cell_type": "code",
   "execution_count": 19,
   "metadata": {
    "colab": {
     "base_uri": "https://localhost:8080/",
     "height": 310
    },
    "id": "ZuCLp5fBFQNk",
    "outputId": "cd4e9b70-673f-4155-8005-a369716d3f94",
    "ExecuteTime": {
     "end_time": "2023-12-01T23:22:39.650906300Z",
     "start_time": "2023-12-01T23:22:39.136934700Z"
    }
   },
   "outputs": [
    {
     "data": {
      "text/plain": "datetime.date(2023, 11, 24)"
     },
     "execution_count": 19,
     "metadata": {},
     "output_type": "execute_result"
    }
   ],
   "source": [
    "last_date = df['Date'].max().date()\n",
    "last_date"
   ]
  },
  {
   "cell_type": "code",
   "execution_count": 20,
   "metadata": {
    "colab": {
     "base_uri": "https://localhost:8080/"
    },
    "id": "NmvbP9YOkb3p",
    "outputId": "6d6e97ab-3f0f-47b6-ee16-db61e52c1dfe",
    "ExecuteTime": {
     "end_time": "2023-12-01T23:22:39.650906300Z",
     "start_time": "2023-12-01T23:22:39.142624Z"
    }
   },
   "outputs": [
    {
     "data": {
      "text/plain": "           Date   Price  Month    Year   Real_GDP    CPI  inflation_rate  \\\n0    2000-01-04  0.8480    1.0  2000.0  14096.033  168.8        3.376857   \n1    2000-01-05  0.8565    1.0  2000.0  14096.033  168.8        3.376857   \n2    2000-01-06  0.8530    1.0  2000.0  14096.033  168.8        3.376857   \n3    2000-01-07  0.8540    1.0  2000.0  14096.033  168.8        3.376857   \n4    2000-01-10  0.8465    1.0  2000.0  14096.033  168.8        3.376857   \n...         ...     ...    ...     ...        ...    ...             ...   \n6047 2023-11-20  3.8335   11.0  2023.0  19374.000  307.0        6.600000   \n6048 2023-11-21  3.8395   11.0  2023.0  19374.000  307.0        6.600000   \n6049 2023-11-22  3.7970   11.0  2023.0  19374.000  307.0        6.600000   \n6050 2023-11-23  3.7743   11.0  2023.0  19374.000  307.0        6.600000   \n6051 2023-11-24  3.8205   11.0  2023.0  19374.000  307.0        6.600000   \n\n      PALLFNFINDEXM   DEXCHUS  \n0         59.470000  0.120774  \n1         59.470000  0.120776  \n2         59.470000  0.120777  \n3         59.470000  0.120782  \n4         59.470000  0.120782  \n...             ...       ...  \n6047     168.657489  0.139509  \n6048     168.657489  0.140150  \n6049     168.657489  0.139762  \n6050     168.657489  0.139823  \n6051     168.657489  0.139884  \n\n[6052 rows x 9 columns]",
      "text/html": "<div>\n<style scoped>\n    .dataframe tbody tr th:only-of-type {\n        vertical-align: middle;\n    }\n\n    .dataframe tbody tr th {\n        vertical-align: top;\n    }\n\n    .dataframe thead th {\n        text-align: right;\n    }\n</style>\n<table border=\"1\" class=\"dataframe\">\n  <thead>\n    <tr style=\"text-align: right;\">\n      <th></th>\n      <th>Date</th>\n      <th>Price</th>\n      <th>Month</th>\n      <th>Year</th>\n      <th>Real_GDP</th>\n      <th>CPI</th>\n      <th>inflation_rate</th>\n      <th>PALLFNFINDEXM</th>\n      <th>DEXCHUS</th>\n    </tr>\n  </thead>\n  <tbody>\n    <tr>\n      <th>0</th>\n      <td>2000-01-04</td>\n      <td>0.8480</td>\n      <td>1.0</td>\n      <td>2000.0</td>\n      <td>14096.033</td>\n      <td>168.8</td>\n      <td>3.376857</td>\n      <td>59.470000</td>\n      <td>0.120774</td>\n    </tr>\n    <tr>\n      <th>1</th>\n      <td>2000-01-05</td>\n      <td>0.8565</td>\n      <td>1.0</td>\n      <td>2000.0</td>\n      <td>14096.033</td>\n      <td>168.8</td>\n      <td>3.376857</td>\n      <td>59.470000</td>\n      <td>0.120776</td>\n    </tr>\n    <tr>\n      <th>2</th>\n      <td>2000-01-06</td>\n      <td>0.8530</td>\n      <td>1.0</td>\n      <td>2000.0</td>\n      <td>14096.033</td>\n      <td>168.8</td>\n      <td>3.376857</td>\n      <td>59.470000</td>\n      <td>0.120777</td>\n    </tr>\n    <tr>\n      <th>3</th>\n      <td>2000-01-07</td>\n      <td>0.8540</td>\n      <td>1.0</td>\n      <td>2000.0</td>\n      <td>14096.033</td>\n      <td>168.8</td>\n      <td>3.376857</td>\n      <td>59.470000</td>\n      <td>0.120782</td>\n    </tr>\n    <tr>\n      <th>4</th>\n      <td>2000-01-10</td>\n      <td>0.8465</td>\n      <td>1.0</td>\n      <td>2000.0</td>\n      <td>14096.033</td>\n      <td>168.8</td>\n      <td>3.376857</td>\n      <td>59.470000</td>\n      <td>0.120782</td>\n    </tr>\n    <tr>\n      <th>...</th>\n      <td>...</td>\n      <td>...</td>\n      <td>...</td>\n      <td>...</td>\n      <td>...</td>\n      <td>...</td>\n      <td>...</td>\n      <td>...</td>\n      <td>...</td>\n    </tr>\n    <tr>\n      <th>6047</th>\n      <td>2023-11-20</td>\n      <td>3.8335</td>\n      <td>11.0</td>\n      <td>2023.0</td>\n      <td>19374.000</td>\n      <td>307.0</td>\n      <td>6.600000</td>\n      <td>168.657489</td>\n      <td>0.139509</td>\n    </tr>\n    <tr>\n      <th>6048</th>\n      <td>2023-11-21</td>\n      <td>3.8395</td>\n      <td>11.0</td>\n      <td>2023.0</td>\n      <td>19374.000</td>\n      <td>307.0</td>\n      <td>6.600000</td>\n      <td>168.657489</td>\n      <td>0.140150</td>\n    </tr>\n    <tr>\n      <th>6049</th>\n      <td>2023-11-22</td>\n      <td>3.7970</td>\n      <td>11.0</td>\n      <td>2023.0</td>\n      <td>19374.000</td>\n      <td>307.0</td>\n      <td>6.600000</td>\n      <td>168.657489</td>\n      <td>0.139762</td>\n    </tr>\n    <tr>\n      <th>6050</th>\n      <td>2023-11-23</td>\n      <td>3.7743</td>\n      <td>11.0</td>\n      <td>2023.0</td>\n      <td>19374.000</td>\n      <td>307.0</td>\n      <td>6.600000</td>\n      <td>168.657489</td>\n      <td>0.139823</td>\n    </tr>\n    <tr>\n      <th>6051</th>\n      <td>2023-11-24</td>\n      <td>3.8205</td>\n      <td>11.0</td>\n      <td>2023.0</td>\n      <td>19374.000</td>\n      <td>307.0</td>\n      <td>6.600000</td>\n      <td>168.657489</td>\n      <td>0.139884</td>\n    </tr>\n  </tbody>\n</table>\n<p>6052 rows × 9 columns</p>\n</div>"
     },
     "execution_count": 20,
     "metadata": {},
     "output_type": "execute_result"
    }
   ],
   "source": [
    "df"
   ]
  },
  {
   "cell_type": "code",
   "execution_count": 21,
   "metadata": {
    "colab": {
     "base_uri": "https://localhost:8080/"
    },
    "id": "eeKL-oFVQgY9",
    "outputId": "5a997432-6c8e-4e7f-e428-49a6a4f846ab",
    "ExecuteTime": {
     "end_time": "2023-12-01T23:22:39.651906200Z",
     "start_time": "2023-12-01T23:22:39.154624900Z"
    }
   },
   "outputs": [
    {
     "data": {
      "text/plain": "15     2000-01-26\n16     2000-01-27\n17     2000-01-28\n18     2000-01-31\n19     2000-02-01\n          ...    \n6047   2023-11-20\n6048   2023-11-21\n6049   2023-11-22\n6050   2023-11-23\n6051   2023-11-24\nName: Date, Length: 6037, dtype: datetime64[ns]"
     },
     "execution_count": 21,
     "metadata": {},
     "output_type": "execute_result"
    }
   ],
   "source": [
    "LOOKBACK = 15\n",
    "data = pd.DataFrame({'Date': df[\"Date\"].copy(),\n",
    "                     'Price': df[\"Price\"].copy()})\n",
    "# Select the \"Date\" column and store it in the variable 'train_dates'.\n",
    "dates = data[\"Date\"]\n",
    "\n",
    "# Exclude the first 'LOOKBACK' dates from 'train_dates' to create a time window.\n",
    "dates = dates[LOOKBACK:]\n",
    "dates"
   ]
  },
  {
   "cell_type": "code",
   "execution_count": 22,
   "metadata": {
    "collapsed": false,
    "ExecuteTime": {
     "end_time": "2023-12-01T23:22:39.651906200Z",
     "start_time": "2023-12-01T23:22:39.162286400Z"
    }
   },
   "outputs": [
    {
     "data": {
      "text/plain": "           Date   Price\n0    2000-01-04  0.8480\n1    2000-01-05  0.8565\n2    2000-01-06  0.8530\n3    2000-01-07  0.8540\n4    2000-01-10  0.8465\n...         ...     ...\n6047 2023-11-20  3.8335\n6048 2023-11-21  3.8395\n6049 2023-11-22  3.7970\n6050 2023-11-23  3.7743\n6051 2023-11-24  3.8205\n\n[6052 rows x 2 columns]",
      "text/html": "<div>\n<style scoped>\n    .dataframe tbody tr th:only-of-type {\n        vertical-align: middle;\n    }\n\n    .dataframe tbody tr th {\n        vertical-align: top;\n    }\n\n    .dataframe thead th {\n        text-align: right;\n    }\n</style>\n<table border=\"1\" class=\"dataframe\">\n  <thead>\n    <tr style=\"text-align: right;\">\n      <th></th>\n      <th>Date</th>\n      <th>Price</th>\n    </tr>\n  </thead>\n  <tbody>\n    <tr>\n      <th>0</th>\n      <td>2000-01-04</td>\n      <td>0.8480</td>\n    </tr>\n    <tr>\n      <th>1</th>\n      <td>2000-01-05</td>\n      <td>0.8565</td>\n    </tr>\n    <tr>\n      <th>2</th>\n      <td>2000-01-06</td>\n      <td>0.8530</td>\n    </tr>\n    <tr>\n      <th>3</th>\n      <td>2000-01-07</td>\n      <td>0.8540</td>\n    </tr>\n    <tr>\n      <th>4</th>\n      <td>2000-01-10</td>\n      <td>0.8465</td>\n    </tr>\n    <tr>\n      <th>...</th>\n      <td>...</td>\n      <td>...</td>\n    </tr>\n    <tr>\n      <th>6047</th>\n      <td>2023-11-20</td>\n      <td>3.8335</td>\n    </tr>\n    <tr>\n      <th>6048</th>\n      <td>2023-11-21</td>\n      <td>3.8395</td>\n    </tr>\n    <tr>\n      <th>6049</th>\n      <td>2023-11-22</td>\n      <td>3.7970</td>\n    </tr>\n    <tr>\n      <th>6050</th>\n      <td>2023-11-23</td>\n      <td>3.7743</td>\n    </tr>\n    <tr>\n      <th>6051</th>\n      <td>2023-11-24</td>\n      <td>3.8205</td>\n    </tr>\n  </tbody>\n</table>\n<p>6052 rows × 2 columns</p>\n</div>"
     },
     "execution_count": 22,
     "metadata": {},
     "output_type": "execute_result"
    }
   ],
   "source": [
    "TRAIN_DATA_LEN = dates.shape[0]"
   ]
  },
  {
   "cell_type": "code",
   "execution_count": 23,
   "metadata": {
    "id": "Bn6JONj4QgY-",
    "ExecuteTime": {
     "end_time": "2023-12-01T23:22:39.651906200Z",
     "start_time": "2023-12-01T23:22:39.172407600Z"
    }
   },
   "outputs": [],
   "source": [
    "dates.reset_index(drop=True, inplace=True)"
   ]
  },
  {
   "cell_type": "code",
   "execution_count": 24,
   "metadata": {
    "colab": {
     "base_uri": "https://localhost:8080/"
    },
    "id": "mbe_uzvJQgY-",
    "outputId": "81b9932e-9017-43dd-a846-d9017f8c7667",
    "ExecuteTime": {
     "end_time": "2023-12-01T23:22:39.652906600Z",
     "start_time": "2023-12-01T23:22:39.175763900Z"
    }
   },
   "outputs": [
    {
     "data": {
      "text/plain": "0      2000-01-26\n1      2000-01-27\n2      2000-01-28\n3      2000-01-31\n4      2000-02-01\n          ...    \n6032   2023-11-20\n6033   2023-11-21\n6034   2023-11-22\n6035   2023-11-23\n6036   2023-11-24\nName: Date, Length: 6037, dtype: datetime64[ns]"
     },
     "execution_count": 24,
     "metadata": {},
     "output_type": "execute_result"
    }
   ],
   "source": [
    "dates"
   ]
  },
  {
   "cell_type": "code",
   "execution_count": 25,
   "metadata": {
    "colab": {
     "base_uri": "https://localhost:8080/",
     "height": 423
    },
    "id": "CuUo7vcDQgY-",
    "outputId": "c38ed307-e2d9-463a-a478-06e2146f7257",
    "ExecuteTime": {
     "end_time": "2023-12-01T23:22:39.652906600Z",
     "start_time": "2023-12-01T23:22:39.181478600Z"
    }
   },
   "outputs": [
    {
     "data": {
      "text/plain": "           Date   Price  Month    Year   Real_GDP    CPI  inflation_rate  \\\n0    2000-01-04  0.8480    1.0  2000.0  14096.033  168.8        3.376857   \n1    2000-01-05  0.8565    1.0  2000.0  14096.033  168.8        3.376857   \n2    2000-01-06  0.8530    1.0  2000.0  14096.033  168.8        3.376857   \n3    2000-01-07  0.8540    1.0  2000.0  14096.033  168.8        3.376857   \n4    2000-01-10  0.8465    1.0  2000.0  14096.033  168.8        3.376857   \n...         ...     ...    ...     ...        ...    ...             ...   \n6032 2023-10-30  3.6585   10.0  2023.0  19374.000  307.0        6.600000   \n6033 2023-10-31  3.6490   10.0  2023.0  19374.000  307.0        6.600000   \n6034 2023-11-01  3.6490   11.0  2023.0  19374.000  307.0        6.600000   \n6035 2023-11-02  3.6725   11.0  2023.0  19374.000  307.0        6.600000   \n6036 2023-11-03  3.6815   11.0  2023.0  19374.000  307.0        6.600000   \n\n      PALLFNFINDEXM   DEXCHUS  \n0         59.470000  0.120774  \n1         59.470000  0.120776  \n2         59.470000  0.120777  \n3         59.470000  0.120782  \n4         59.470000  0.120782  \n...             ...       ...  \n6032     168.657489  0.136737  \n6033     168.657489  0.136676  \n6034     168.657489  0.136659  \n6035     168.657489  0.136687  \n6036     168.657489  0.136977  \n\n[6037 rows x 9 columns]",
      "text/html": "<div>\n<style scoped>\n    .dataframe tbody tr th:only-of-type {\n        vertical-align: middle;\n    }\n\n    .dataframe tbody tr th {\n        vertical-align: top;\n    }\n\n    .dataframe thead th {\n        text-align: right;\n    }\n</style>\n<table border=\"1\" class=\"dataframe\">\n  <thead>\n    <tr style=\"text-align: right;\">\n      <th></th>\n      <th>Date</th>\n      <th>Price</th>\n      <th>Month</th>\n      <th>Year</th>\n      <th>Real_GDP</th>\n      <th>CPI</th>\n      <th>inflation_rate</th>\n      <th>PALLFNFINDEXM</th>\n      <th>DEXCHUS</th>\n    </tr>\n  </thead>\n  <tbody>\n    <tr>\n      <th>0</th>\n      <td>2000-01-04</td>\n      <td>0.8480</td>\n      <td>1.0</td>\n      <td>2000.0</td>\n      <td>14096.033</td>\n      <td>168.8</td>\n      <td>3.376857</td>\n      <td>59.470000</td>\n      <td>0.120774</td>\n    </tr>\n    <tr>\n      <th>1</th>\n      <td>2000-01-05</td>\n      <td>0.8565</td>\n      <td>1.0</td>\n      <td>2000.0</td>\n      <td>14096.033</td>\n      <td>168.8</td>\n      <td>3.376857</td>\n      <td>59.470000</td>\n      <td>0.120776</td>\n    </tr>\n    <tr>\n      <th>2</th>\n      <td>2000-01-06</td>\n      <td>0.8530</td>\n      <td>1.0</td>\n      <td>2000.0</td>\n      <td>14096.033</td>\n      <td>168.8</td>\n      <td>3.376857</td>\n      <td>59.470000</td>\n      <td>0.120777</td>\n    </tr>\n    <tr>\n      <th>3</th>\n      <td>2000-01-07</td>\n      <td>0.8540</td>\n      <td>1.0</td>\n      <td>2000.0</td>\n      <td>14096.033</td>\n      <td>168.8</td>\n      <td>3.376857</td>\n      <td>59.470000</td>\n      <td>0.120782</td>\n    </tr>\n    <tr>\n      <th>4</th>\n      <td>2000-01-10</td>\n      <td>0.8465</td>\n      <td>1.0</td>\n      <td>2000.0</td>\n      <td>14096.033</td>\n      <td>168.8</td>\n      <td>3.376857</td>\n      <td>59.470000</td>\n      <td>0.120782</td>\n    </tr>\n    <tr>\n      <th>...</th>\n      <td>...</td>\n      <td>...</td>\n      <td>...</td>\n      <td>...</td>\n      <td>...</td>\n      <td>...</td>\n      <td>...</td>\n      <td>...</td>\n      <td>...</td>\n    </tr>\n    <tr>\n      <th>6032</th>\n      <td>2023-10-30</td>\n      <td>3.6585</td>\n      <td>10.0</td>\n      <td>2023.0</td>\n      <td>19374.000</td>\n      <td>307.0</td>\n      <td>6.600000</td>\n      <td>168.657489</td>\n      <td>0.136737</td>\n    </tr>\n    <tr>\n      <th>6033</th>\n      <td>2023-10-31</td>\n      <td>3.6490</td>\n      <td>10.0</td>\n      <td>2023.0</td>\n      <td>19374.000</td>\n      <td>307.0</td>\n      <td>6.600000</td>\n      <td>168.657489</td>\n      <td>0.136676</td>\n    </tr>\n    <tr>\n      <th>6034</th>\n      <td>2023-11-01</td>\n      <td>3.6490</td>\n      <td>11.0</td>\n      <td>2023.0</td>\n      <td>19374.000</td>\n      <td>307.0</td>\n      <td>6.600000</td>\n      <td>168.657489</td>\n      <td>0.136659</td>\n    </tr>\n    <tr>\n      <th>6035</th>\n      <td>2023-11-02</td>\n      <td>3.6725</td>\n      <td>11.0</td>\n      <td>2023.0</td>\n      <td>19374.000</td>\n      <td>307.0</td>\n      <td>6.600000</td>\n      <td>168.657489</td>\n      <td>0.136687</td>\n    </tr>\n    <tr>\n      <th>6036</th>\n      <td>2023-11-03</td>\n      <td>3.6815</td>\n      <td>11.0</td>\n      <td>2023.0</td>\n      <td>19374.000</td>\n      <td>307.0</td>\n      <td>6.600000</td>\n      <td>168.657489</td>\n      <td>0.136977</td>\n    </tr>\n  </tbody>\n</table>\n<p>6037 rows × 9 columns</p>\n</div>"
     },
     "execution_count": 25,
     "metadata": {},
     "output_type": "execute_result"
    }
   ],
   "source": [
    "from copy import deepcopy as dc\n",
    "\n",
    "\n",
    "def prepare_dataframe_for_lstm(df, n_steps):\n",
    "    df = dc(df)\n",
    "\n",
    "    #df.set_index('Date', inplace=True)\n",
    "\n",
    "    for i in range(1, n_steps + 1):\n",
    "        df[f'Price(t-{i})'] = df['Price'].shift(i)\n",
    "\n",
    "    df.dropna(inplace=True)\n",
    "\n",
    "    return df\n",
    "\n",
    "\n",
    "shifted_df = prepare_dataframe_for_lstm(data, LOOKBACK)\n",
    "shifted_df = shifted_df.reset_index(drop=True)\n",
    "df = df.drop(df.index[-LOOKBACK:])\n",
    "df"
   ]
  },
  {
   "cell_type": "code",
   "execution_count": 26,
   "metadata": {
    "collapsed": false,
    "ExecuteTime": {
     "end_time": "2023-12-01T23:22:39.654906700Z",
     "start_time": "2023-12-01T23:22:39.206285400Z"
    }
   },
   "outputs": [
    {
     "data": {
      "text/plain": "           Date   Price  Price(t-1)  Price(t-2)  Price(t-3)  Price(t-4)  \\\n0    2000-01-26  0.8415      0.8425      0.8565      0.8730      0.8730   \n1    2000-01-27  0.8445      0.8415      0.8425      0.8565      0.8730   \n2    2000-01-28  0.8400      0.8445      0.8415      0.8425      0.8565   \n3    2000-01-31  0.8545      0.8400      0.8445      0.8415      0.8425   \n4    2000-02-01  0.8480      0.8545      0.8400      0.8445      0.8415   \n...         ...     ...         ...         ...         ...         ...   \n6032 2023-11-20  3.8335      3.7345      3.7025      3.7185      3.6835   \n6033 2023-11-21  3.8395      3.8335      3.7345      3.7025      3.7185   \n6034 2023-11-22  3.7970      3.8395      3.8335      3.7345      3.7025   \n6035 2023-11-23  3.7743      3.7970      3.8395      3.8335      3.7345   \n6036 2023-11-24  3.8205      3.7743      3.7970      3.8395      3.8335   \n\n      Price(t-5)  Price(t-6)  Price(t-7)  Price(t-8)  Price(t-9)  Price(t-10)  \\\n0         0.8825      0.8660      0.8625      0.8565      0.8660       0.8435   \n1         0.8730      0.8825      0.8660      0.8625      0.8565       0.8660   \n2         0.8730      0.8730      0.8825      0.8660      0.8625       0.8565   \n3         0.8565      0.8730      0.8730      0.8825      0.8660       0.8625   \n4         0.8425      0.8565      0.8730      0.8730      0.8825       0.8660   \n...          ...         ...         ...         ...         ...          ...   \n6032      3.6660      3.5870      3.6405      3.6380      3.6790       3.7190   \n6033      3.6835      3.6660      3.5870      3.6405      3.6380       3.6790   \n6034      3.7185      3.6835      3.6660      3.5870      3.6405       3.6380   \n6035      3.7025      3.7185      3.6835      3.6660      3.5870       3.6405   \n6036      3.7345      3.7025      3.7185      3.6835      3.6660       3.5870   \n\n      Price(t-11)  Price(t-12)  Price(t-13)  Price(t-14)  Price(t-15)  \n0          0.8465       0.8540       0.8530       0.8565       0.8480  \n1          0.8435       0.8465       0.8540       0.8530       0.8565  \n2          0.8660       0.8435       0.8465       0.8540       0.8530  \n3          0.8565       0.8660       0.8435       0.8465       0.8540  \n4          0.8625       0.8565       0.8660       0.8435       0.8465  \n...           ...          ...          ...          ...          ...  \n6032       3.6815       3.6725       3.6490       3.6490       3.6585  \n6033       3.7190       3.6815       3.6725       3.6490       3.6490  \n6034       3.6790       3.7190       3.6815       3.6725       3.6490  \n6035       3.6380       3.6790       3.7190       3.6815       3.6725  \n6036       3.6405       3.6380       3.6790       3.7190       3.6815  \n\n[6037 rows x 17 columns]",
      "text/html": "<div>\n<style scoped>\n    .dataframe tbody tr th:only-of-type {\n        vertical-align: middle;\n    }\n\n    .dataframe tbody tr th {\n        vertical-align: top;\n    }\n\n    .dataframe thead th {\n        text-align: right;\n    }\n</style>\n<table border=\"1\" class=\"dataframe\">\n  <thead>\n    <tr style=\"text-align: right;\">\n      <th></th>\n      <th>Date</th>\n      <th>Price</th>\n      <th>Price(t-1)</th>\n      <th>Price(t-2)</th>\n      <th>Price(t-3)</th>\n      <th>Price(t-4)</th>\n      <th>Price(t-5)</th>\n      <th>Price(t-6)</th>\n      <th>Price(t-7)</th>\n      <th>Price(t-8)</th>\n      <th>Price(t-9)</th>\n      <th>Price(t-10)</th>\n      <th>Price(t-11)</th>\n      <th>Price(t-12)</th>\n      <th>Price(t-13)</th>\n      <th>Price(t-14)</th>\n      <th>Price(t-15)</th>\n    </tr>\n  </thead>\n  <tbody>\n    <tr>\n      <th>0</th>\n      <td>2000-01-26</td>\n      <td>0.8415</td>\n      <td>0.8425</td>\n      <td>0.8565</td>\n      <td>0.8730</td>\n      <td>0.8730</td>\n      <td>0.8825</td>\n      <td>0.8660</td>\n      <td>0.8625</td>\n      <td>0.8565</td>\n      <td>0.8660</td>\n      <td>0.8435</td>\n      <td>0.8465</td>\n      <td>0.8540</td>\n      <td>0.8530</td>\n      <td>0.8565</td>\n      <td>0.8480</td>\n    </tr>\n    <tr>\n      <th>1</th>\n      <td>2000-01-27</td>\n      <td>0.8445</td>\n      <td>0.8415</td>\n      <td>0.8425</td>\n      <td>0.8565</td>\n      <td>0.8730</td>\n      <td>0.8730</td>\n      <td>0.8825</td>\n      <td>0.8660</td>\n      <td>0.8625</td>\n      <td>0.8565</td>\n      <td>0.8660</td>\n      <td>0.8435</td>\n      <td>0.8465</td>\n      <td>0.8540</td>\n      <td>0.8530</td>\n      <td>0.8565</td>\n    </tr>\n    <tr>\n      <th>2</th>\n      <td>2000-01-28</td>\n      <td>0.8400</td>\n      <td>0.8445</td>\n      <td>0.8415</td>\n      <td>0.8425</td>\n      <td>0.8565</td>\n      <td>0.8730</td>\n      <td>0.8730</td>\n      <td>0.8825</td>\n      <td>0.8660</td>\n      <td>0.8625</td>\n      <td>0.8565</td>\n      <td>0.8660</td>\n      <td>0.8435</td>\n      <td>0.8465</td>\n      <td>0.8540</td>\n      <td>0.8530</td>\n    </tr>\n    <tr>\n      <th>3</th>\n      <td>2000-01-31</td>\n      <td>0.8545</td>\n      <td>0.8400</td>\n      <td>0.8445</td>\n      <td>0.8415</td>\n      <td>0.8425</td>\n      <td>0.8565</td>\n      <td>0.8730</td>\n      <td>0.8730</td>\n      <td>0.8825</td>\n      <td>0.8660</td>\n      <td>0.8625</td>\n      <td>0.8565</td>\n      <td>0.8660</td>\n      <td>0.8435</td>\n      <td>0.8465</td>\n      <td>0.8540</td>\n    </tr>\n    <tr>\n      <th>4</th>\n      <td>2000-02-01</td>\n      <td>0.8480</td>\n      <td>0.8545</td>\n      <td>0.8400</td>\n      <td>0.8445</td>\n      <td>0.8415</td>\n      <td>0.8425</td>\n      <td>0.8565</td>\n      <td>0.8730</td>\n      <td>0.8730</td>\n      <td>0.8825</td>\n      <td>0.8660</td>\n      <td>0.8625</td>\n      <td>0.8565</td>\n      <td>0.8660</td>\n      <td>0.8435</td>\n      <td>0.8465</td>\n    </tr>\n    <tr>\n      <th>...</th>\n      <td>...</td>\n      <td>...</td>\n      <td>...</td>\n      <td>...</td>\n      <td>...</td>\n      <td>...</td>\n      <td>...</td>\n      <td>...</td>\n      <td>...</td>\n      <td>...</td>\n      <td>...</td>\n      <td>...</td>\n      <td>...</td>\n      <td>...</td>\n      <td>...</td>\n      <td>...</td>\n      <td>...</td>\n    </tr>\n    <tr>\n      <th>6032</th>\n      <td>2023-11-20</td>\n      <td>3.8335</td>\n      <td>3.7345</td>\n      <td>3.7025</td>\n      <td>3.7185</td>\n      <td>3.6835</td>\n      <td>3.6660</td>\n      <td>3.5870</td>\n      <td>3.6405</td>\n      <td>3.6380</td>\n      <td>3.6790</td>\n      <td>3.7190</td>\n      <td>3.6815</td>\n      <td>3.6725</td>\n      <td>3.6490</td>\n      <td>3.6490</td>\n      <td>3.6585</td>\n    </tr>\n    <tr>\n      <th>6033</th>\n      <td>2023-11-21</td>\n      <td>3.8395</td>\n      <td>3.8335</td>\n      <td>3.7345</td>\n      <td>3.7025</td>\n      <td>3.7185</td>\n      <td>3.6835</td>\n      <td>3.6660</td>\n      <td>3.5870</td>\n      <td>3.6405</td>\n      <td>3.6380</td>\n      <td>3.6790</td>\n      <td>3.7190</td>\n      <td>3.6815</td>\n      <td>3.6725</td>\n      <td>3.6490</td>\n      <td>3.6490</td>\n    </tr>\n    <tr>\n      <th>6034</th>\n      <td>2023-11-22</td>\n      <td>3.7970</td>\n      <td>3.8395</td>\n      <td>3.8335</td>\n      <td>3.7345</td>\n      <td>3.7025</td>\n      <td>3.7185</td>\n      <td>3.6835</td>\n      <td>3.6660</td>\n      <td>3.5870</td>\n      <td>3.6405</td>\n      <td>3.6380</td>\n      <td>3.6790</td>\n      <td>3.7190</td>\n      <td>3.6815</td>\n      <td>3.6725</td>\n      <td>3.6490</td>\n    </tr>\n    <tr>\n      <th>6035</th>\n      <td>2023-11-23</td>\n      <td>3.7743</td>\n      <td>3.7970</td>\n      <td>3.8395</td>\n      <td>3.8335</td>\n      <td>3.7345</td>\n      <td>3.7025</td>\n      <td>3.7185</td>\n      <td>3.6835</td>\n      <td>3.6660</td>\n      <td>3.5870</td>\n      <td>3.6405</td>\n      <td>3.6380</td>\n      <td>3.6790</td>\n      <td>3.7190</td>\n      <td>3.6815</td>\n      <td>3.6725</td>\n    </tr>\n    <tr>\n      <th>6036</th>\n      <td>2023-11-24</td>\n      <td>3.8205</td>\n      <td>3.7743</td>\n      <td>3.7970</td>\n      <td>3.8395</td>\n      <td>3.8335</td>\n      <td>3.7345</td>\n      <td>3.7025</td>\n      <td>3.7185</td>\n      <td>3.6835</td>\n      <td>3.6660</td>\n      <td>3.5870</td>\n      <td>3.6405</td>\n      <td>3.6380</td>\n      <td>3.6790</td>\n      <td>3.7190</td>\n      <td>3.6815</td>\n    </tr>\n  </tbody>\n</table>\n<p>6037 rows × 17 columns</p>\n</div>"
     },
     "execution_count": 26,
     "metadata": {},
     "output_type": "execute_result"
    }
   ],
   "source": [
    "shifted_df"
   ]
  },
  {
   "cell_type": "code",
   "execution_count": 27,
   "metadata": {
    "collapsed": false,
    "ExecuteTime": {
     "end_time": "2023-12-01T23:22:39.660906Z",
     "start_time": "2023-12-01T23:22:39.222075900Z"
    }
   },
   "outputs": [
    {
     "data": {
      "text/plain": "           Date   Price  Price(t-1)  Price(t-2)  Price(t-3)  Price(t-4)  \\\n0    2000-01-26  0.8415      0.8425      0.8565      0.8730      0.8730   \n1    2000-01-27  0.8445      0.8415      0.8425      0.8565      0.8730   \n2    2000-01-28  0.8400      0.8445      0.8415      0.8425      0.8565   \n3    2000-01-31  0.8545      0.8400      0.8445      0.8415      0.8425   \n4    2000-02-01  0.8480      0.8545      0.8400      0.8445      0.8415   \n...         ...     ...         ...         ...         ...         ...   \n6032 2023-11-20  3.8335      3.7345      3.7025      3.7185      3.6835   \n6033 2023-11-21  3.8395      3.8335      3.7345      3.7025      3.7185   \n6034 2023-11-22  3.7970      3.8395      3.8335      3.7345      3.7025   \n6035 2023-11-23  3.7743      3.7970      3.8395      3.8335      3.7345   \n6036 2023-11-24  3.8205      3.7743      3.7970      3.8395      3.8335   \n\n      Price(t-5)  Price(t-6)  Price(t-7)  Price(t-8)  ...  Price(t-11)  \\\n0         0.8825      0.8660      0.8625      0.8565  ...       0.8465   \n1         0.8730      0.8825      0.8660      0.8625  ...       0.8435   \n2         0.8730      0.8730      0.8825      0.8660  ...       0.8660   \n3         0.8565      0.8730      0.8730      0.8825  ...       0.8565   \n4         0.8425      0.8565      0.8730      0.8730  ...       0.8625   \n...          ...         ...         ...         ...  ...          ...   \n6032      3.6660      3.5870      3.6405      3.6380  ...       3.6815   \n6033      3.6835      3.6660      3.5870      3.6405  ...       3.7190   \n6034      3.7185      3.6835      3.6660      3.5870  ...       3.6790   \n6035      3.7025      3.7185      3.6835      3.6660  ...       3.6380   \n6036      3.7345      3.7025      3.7185      3.6835  ...       3.6405   \n\n      Price(t-12)  Price(t-13)  Price(t-14)  Price(t-15)   Real_GDP    CPI  \\\n0          0.8540       0.8530       0.8565       0.8480  14096.033  168.8   \n1          0.8465       0.8540       0.8530       0.8565  14096.033  168.8   \n2          0.8435       0.8465       0.8540       0.8530  14096.033  168.8   \n3          0.8660       0.8435       0.8465       0.8540  14096.033  168.8   \n4          0.8565       0.8660       0.8435       0.8465  14096.033  168.8   \n...           ...          ...          ...          ...        ...    ...   \n6032       3.6725       3.6490       3.6490       3.6585  19374.000  307.0   \n6033       3.6815       3.6725       3.6490       3.6490  19374.000  307.0   \n6034       3.7190       3.6815       3.6725       3.6490  19374.000  307.0   \n6035       3.6790       3.7190       3.6815       3.6725  19374.000  307.0   \n6036       3.6380       3.6790       3.7190       3.6815  19374.000  307.0   \n\n      inflation_rate  PALLFNFINDEXM   DEXCHUS  \n0           3.376857      59.470000  0.120774  \n1           3.376857      59.470000  0.120776  \n2           3.376857      59.470000  0.120777  \n3           3.376857      59.470000  0.120782  \n4           3.376857      59.470000  0.120782  \n...              ...            ...       ...  \n6032        6.600000     168.657489  0.136737  \n6033        6.600000     168.657489  0.136676  \n6034        6.600000     168.657489  0.136659  \n6035        6.600000     168.657489  0.136687  \n6036        6.600000     168.657489  0.136977  \n\n[6037 rows x 22 columns]",
      "text/html": "<div>\n<style scoped>\n    .dataframe tbody tr th:only-of-type {\n        vertical-align: middle;\n    }\n\n    .dataframe tbody tr th {\n        vertical-align: top;\n    }\n\n    .dataframe thead th {\n        text-align: right;\n    }\n</style>\n<table border=\"1\" class=\"dataframe\">\n  <thead>\n    <tr style=\"text-align: right;\">\n      <th></th>\n      <th>Date</th>\n      <th>Price</th>\n      <th>Price(t-1)</th>\n      <th>Price(t-2)</th>\n      <th>Price(t-3)</th>\n      <th>Price(t-4)</th>\n      <th>Price(t-5)</th>\n      <th>Price(t-6)</th>\n      <th>Price(t-7)</th>\n      <th>Price(t-8)</th>\n      <th>...</th>\n      <th>Price(t-11)</th>\n      <th>Price(t-12)</th>\n      <th>Price(t-13)</th>\n      <th>Price(t-14)</th>\n      <th>Price(t-15)</th>\n      <th>Real_GDP</th>\n      <th>CPI</th>\n      <th>inflation_rate</th>\n      <th>PALLFNFINDEXM</th>\n      <th>DEXCHUS</th>\n    </tr>\n  </thead>\n  <tbody>\n    <tr>\n      <th>0</th>\n      <td>2000-01-26</td>\n      <td>0.8415</td>\n      <td>0.8425</td>\n      <td>0.8565</td>\n      <td>0.8730</td>\n      <td>0.8730</td>\n      <td>0.8825</td>\n      <td>0.8660</td>\n      <td>0.8625</td>\n      <td>0.8565</td>\n      <td>...</td>\n      <td>0.8465</td>\n      <td>0.8540</td>\n      <td>0.8530</td>\n      <td>0.8565</td>\n      <td>0.8480</td>\n      <td>14096.033</td>\n      <td>168.8</td>\n      <td>3.376857</td>\n      <td>59.470000</td>\n      <td>0.120774</td>\n    </tr>\n    <tr>\n      <th>1</th>\n      <td>2000-01-27</td>\n      <td>0.8445</td>\n      <td>0.8415</td>\n      <td>0.8425</td>\n      <td>0.8565</td>\n      <td>0.8730</td>\n      <td>0.8730</td>\n      <td>0.8825</td>\n      <td>0.8660</td>\n      <td>0.8625</td>\n      <td>...</td>\n      <td>0.8435</td>\n      <td>0.8465</td>\n      <td>0.8540</td>\n      <td>0.8530</td>\n      <td>0.8565</td>\n      <td>14096.033</td>\n      <td>168.8</td>\n      <td>3.376857</td>\n      <td>59.470000</td>\n      <td>0.120776</td>\n    </tr>\n    <tr>\n      <th>2</th>\n      <td>2000-01-28</td>\n      <td>0.8400</td>\n      <td>0.8445</td>\n      <td>0.8415</td>\n      <td>0.8425</td>\n      <td>0.8565</td>\n      <td>0.8730</td>\n      <td>0.8730</td>\n      <td>0.8825</td>\n      <td>0.8660</td>\n      <td>...</td>\n      <td>0.8660</td>\n      <td>0.8435</td>\n      <td>0.8465</td>\n      <td>0.8540</td>\n      <td>0.8530</td>\n      <td>14096.033</td>\n      <td>168.8</td>\n      <td>3.376857</td>\n      <td>59.470000</td>\n      <td>0.120777</td>\n    </tr>\n    <tr>\n      <th>3</th>\n      <td>2000-01-31</td>\n      <td>0.8545</td>\n      <td>0.8400</td>\n      <td>0.8445</td>\n      <td>0.8415</td>\n      <td>0.8425</td>\n      <td>0.8565</td>\n      <td>0.8730</td>\n      <td>0.8730</td>\n      <td>0.8825</td>\n      <td>...</td>\n      <td>0.8565</td>\n      <td>0.8660</td>\n      <td>0.8435</td>\n      <td>0.8465</td>\n      <td>0.8540</td>\n      <td>14096.033</td>\n      <td>168.8</td>\n      <td>3.376857</td>\n      <td>59.470000</td>\n      <td>0.120782</td>\n    </tr>\n    <tr>\n      <th>4</th>\n      <td>2000-02-01</td>\n      <td>0.8480</td>\n      <td>0.8545</td>\n      <td>0.8400</td>\n      <td>0.8445</td>\n      <td>0.8415</td>\n      <td>0.8425</td>\n      <td>0.8565</td>\n      <td>0.8730</td>\n      <td>0.8730</td>\n      <td>...</td>\n      <td>0.8625</td>\n      <td>0.8565</td>\n      <td>0.8660</td>\n      <td>0.8435</td>\n      <td>0.8465</td>\n      <td>14096.033</td>\n      <td>168.8</td>\n      <td>3.376857</td>\n      <td>59.470000</td>\n      <td>0.120782</td>\n    </tr>\n    <tr>\n      <th>...</th>\n      <td>...</td>\n      <td>...</td>\n      <td>...</td>\n      <td>...</td>\n      <td>...</td>\n      <td>...</td>\n      <td>...</td>\n      <td>...</td>\n      <td>...</td>\n      <td>...</td>\n      <td>...</td>\n      <td>...</td>\n      <td>...</td>\n      <td>...</td>\n      <td>...</td>\n      <td>...</td>\n      <td>...</td>\n      <td>...</td>\n      <td>...</td>\n      <td>...</td>\n      <td>...</td>\n    </tr>\n    <tr>\n      <th>6032</th>\n      <td>2023-11-20</td>\n      <td>3.8335</td>\n      <td>3.7345</td>\n      <td>3.7025</td>\n      <td>3.7185</td>\n      <td>3.6835</td>\n      <td>3.6660</td>\n      <td>3.5870</td>\n      <td>3.6405</td>\n      <td>3.6380</td>\n      <td>...</td>\n      <td>3.6815</td>\n      <td>3.6725</td>\n      <td>3.6490</td>\n      <td>3.6490</td>\n      <td>3.6585</td>\n      <td>19374.000</td>\n      <td>307.0</td>\n      <td>6.600000</td>\n      <td>168.657489</td>\n      <td>0.136737</td>\n    </tr>\n    <tr>\n      <th>6033</th>\n      <td>2023-11-21</td>\n      <td>3.8395</td>\n      <td>3.8335</td>\n      <td>3.7345</td>\n      <td>3.7025</td>\n      <td>3.7185</td>\n      <td>3.6835</td>\n      <td>3.6660</td>\n      <td>3.5870</td>\n      <td>3.6405</td>\n      <td>...</td>\n      <td>3.7190</td>\n      <td>3.6815</td>\n      <td>3.6725</td>\n      <td>3.6490</td>\n      <td>3.6490</td>\n      <td>19374.000</td>\n      <td>307.0</td>\n      <td>6.600000</td>\n      <td>168.657489</td>\n      <td>0.136676</td>\n    </tr>\n    <tr>\n      <th>6034</th>\n      <td>2023-11-22</td>\n      <td>3.7970</td>\n      <td>3.8395</td>\n      <td>3.8335</td>\n      <td>3.7345</td>\n      <td>3.7025</td>\n      <td>3.7185</td>\n      <td>3.6835</td>\n      <td>3.6660</td>\n      <td>3.5870</td>\n      <td>...</td>\n      <td>3.6790</td>\n      <td>3.7190</td>\n      <td>3.6815</td>\n      <td>3.6725</td>\n      <td>3.6490</td>\n      <td>19374.000</td>\n      <td>307.0</td>\n      <td>6.600000</td>\n      <td>168.657489</td>\n      <td>0.136659</td>\n    </tr>\n    <tr>\n      <th>6035</th>\n      <td>2023-11-23</td>\n      <td>3.7743</td>\n      <td>3.7970</td>\n      <td>3.8395</td>\n      <td>3.8335</td>\n      <td>3.7345</td>\n      <td>3.7025</td>\n      <td>3.7185</td>\n      <td>3.6835</td>\n      <td>3.6660</td>\n      <td>...</td>\n      <td>3.6380</td>\n      <td>3.6790</td>\n      <td>3.7190</td>\n      <td>3.6815</td>\n      <td>3.6725</td>\n      <td>19374.000</td>\n      <td>307.0</td>\n      <td>6.600000</td>\n      <td>168.657489</td>\n      <td>0.136687</td>\n    </tr>\n    <tr>\n      <th>6036</th>\n      <td>2023-11-24</td>\n      <td>3.8205</td>\n      <td>3.7743</td>\n      <td>3.7970</td>\n      <td>3.8395</td>\n      <td>3.8335</td>\n      <td>3.7345</td>\n      <td>3.7025</td>\n      <td>3.7185</td>\n      <td>3.6835</td>\n      <td>...</td>\n      <td>3.6405</td>\n      <td>3.6380</td>\n      <td>3.6790</td>\n      <td>3.7190</td>\n      <td>3.6815</td>\n      <td>19374.000</td>\n      <td>307.0</td>\n      <td>6.600000</td>\n      <td>168.657489</td>\n      <td>0.136977</td>\n    </tr>\n  </tbody>\n</table>\n<p>6037 rows × 22 columns</p>\n</div>"
     },
     "execution_count": 27,
     "metadata": {},
     "output_type": "execute_result"
    }
   ],
   "source": [
    "shifted_df[\"Real_GDP\"] = df[\"Real_GDP\"]\n",
    "shifted_df[\"CPI\"] = df[\"CPI\"]\n",
    "shifted_df[\"inflation_rate\"] = df[\"inflation_rate\"]\n",
    "shifted_df[\"PALLFNFINDEXM\"] = df[\"PALLFNFINDEXM\"]\n",
    "shifted_df[\"DEXCHUS\"] = df[\"DEXCHUS\"]\n",
    "shifted_df"
   ]
  },
  {
   "cell_type": "code",
   "execution_count": 28,
   "outputs": [
    {
     "data": {
      "text/plain": "['Price',\n 'Price(t-1)',\n 'Price(t-2)',\n 'Price(t-3)',\n 'Price(t-4)',\n 'Price(t-5)',\n 'Price(t-6)',\n 'Price(t-7)',\n 'Price(t-8)',\n 'Price(t-9)',\n 'Price(t-10)',\n 'Price(t-11)',\n 'Price(t-12)',\n 'Price(t-13)',\n 'Price(t-14)',\n 'Price(t-15)']"
     },
     "execution_count": 28,
     "metadata": {},
     "output_type": "execute_result"
    }
   ],
   "source": [
    "price_columns = [col for col in shifted_df.columns if 'Price' in col]\n",
    "price_columns"
   ],
   "metadata": {
    "collapsed": false,
    "ExecuteTime": {
     "end_time": "2023-12-01T23:22:39.660906Z",
     "start_time": "2023-12-01T23:22:39.244911500Z"
    }
   }
  },
  {
   "cell_type": "code",
   "execution_count": 29,
   "metadata": {
    "collapsed": false,
    "ExecuteTime": {
     "end_time": "2023-12-01T23:22:39.660906Z",
     "start_time": "2023-12-01T23:22:39.250447800Z"
    }
   },
   "outputs": [
    {
     "data": {
      "text/plain": "array([[0.8415, 0.8425, 0.8565, ..., 0.853 , 0.8565, 0.848 ],\n       [0.8445, 0.8415, 0.8425, ..., 0.854 , 0.853 , 0.8565],\n       [0.84  , 0.8445, 0.8415, ..., 0.8465, 0.854 , 0.853 ],\n       ...,\n       [3.797 , 3.8395, 3.8335, ..., 3.6815, 3.6725, 3.649 ],\n       [3.7743, 3.797 , 3.8395, ..., 3.719 , 3.6815, 3.6725],\n       [3.8205, 3.7743, 3.797 , ..., 3.679 , 3.719 , 3.6815]])"
     },
     "execution_count": 29,
     "metadata": {},
     "output_type": "execute_result"
    }
   ],
   "source": [
    "prices_before_scaling_as_np = shifted_df[price_columns].values\n",
    "prices_before_scaling_as_np"
   ]
  },
  {
   "cell_type": "code",
   "execution_count": 30,
   "metadata": {
    "collapsed": false,
    "ExecuteTime": {
     "end_time": "2023-12-01T23:22:39.661906400Z",
     "start_time": "2023-12-01T23:22:39.258405300Z"
    }
   },
   "outputs": [
    {
     "data": {
      "text/plain": "array([[-0.89235389, -0.89189189, -0.88542389, ..., -0.88704089,\n        -0.88542389, -0.88935089],\n       [-0.89096789, -0.89235389, -0.89189189, ..., -0.88657889,\n        -0.88704089, -0.88542389],\n       [-0.89304689, -0.89096789, -0.89235389, ..., -0.89004389,\n        -0.88657889, -0.88704089],\n       ...,\n       [ 0.47308847,  0.49272349,  0.48995149, ...,  0.41972742,\n         0.41556942,  0.4047124 ],\n       [ 0.46260106,  0.47308847,  0.49272349, ...,  0.43705244,\n         0.41972742,  0.41556942],\n       [ 0.48394548,  0.46260106,  0.47308847, ...,  0.41857242,\n         0.43705244,  0.41972742]])"
     },
     "execution_count": 30,
     "metadata": {},
     "output_type": "execute_result"
    }
   ],
   "source": [
    "prices_scaler = MinMaxScaler(feature_range=(-1, 1))\n",
    "scaled_prices = prices_scaler.fit_transform(prices_before_scaling_as_np)\n",
    "scaled_prices"
   ]
  },
  {
   "cell_type": "code",
   "execution_count": 31,
   "metadata": {
    "ExecuteTime": {
     "end_time": "2023-12-01T23:22:39.661906400Z",
     "start_time": "2023-12-01T23:22:39.264929500Z"
    }
   },
   "outputs": [
    {
     "data": {
      "text/plain": "(6037, 16)"
     },
     "execution_count": 31,
     "metadata": {},
     "output_type": "execute_result"
    }
   ],
   "source": [
    "scaled_prices.shape"
   ]
  },
  {
   "cell_type": "code",
   "execution_count": 32,
   "metadata": {
    "id": "x57eELPEQgY-",
    "ExecuteTime": {
     "end_time": "2023-12-01T23:22:39.661906400Z",
     "start_time": "2023-12-01T23:22:39.270338100Z"
    }
   },
   "outputs": [],
   "source": [
    "GDP_before_scaling_as_np = shifted_df[\"Real_GDP\"].to_numpy()\n",
    "CPI_before_scaling_as_np = shifted_df[\"CPI\"].to_numpy()\n",
    "inflation_rate_before_scaling_as_np = shifted_df[\"inflation_rate\"].to_numpy()\n",
    "PALLFNFINDEXM_before_scaling_as_np = shifted_df[\"PALLFNFINDEXM\"].to_numpy()\n",
    "DEXCHUS = shifted_df[\"DEXCHUS\"].to_numpy()"
   ]
  },
  {
   "cell_type": "code",
   "execution_count": 33,
   "metadata": {
    "id": "4Mr21UPRQgY_",
    "ExecuteTime": {
     "end_time": "2023-12-01T23:22:39.662905900Z",
     "start_time": "2023-12-01T23:22:39.274253800Z"
    }
   },
   "outputs": [
    {
     "data": {
      "text/plain": "array([[-1.        ],\n       [-1.        ],\n       [-1.        ],\n       ...,\n       [ 0.36628638],\n       [ 0.36628638],\n       [ 0.36628638]])"
     },
     "execution_count": 33,
     "metadata": {},
     "output_type": "execute_result"
    }
   ],
   "source": [
    "GDP_scaler = MinMaxScaler(feature_range=(-1, 1))\n",
    "scaled_GDP = GDP_scaler.fit_transform(GDP_before_scaling_as_np.reshape(-1, 1))\n",
    "scaled_GDP"
   ]
  },
  {
   "cell_type": "code",
   "execution_count": 34,
   "metadata": {
    "id": "iLsbZK6UQgY_",
    "ExecuteTime": {
     "end_time": "2023-12-01T23:22:39.662905900Z",
     "start_time": "2023-12-01T23:22:39.279894200Z"
    }
   },
   "outputs": [
    {
     "data": {
      "text/plain": "array([[-1.        ],\n       [-1.        ],\n       [-1.        ],\n       ...,\n       [ 0.98864658],\n       [ 0.98864658],\n       [ 0.98864658]])"
     },
     "execution_count": 34,
     "metadata": {},
     "output_type": "execute_result"
    }
   ],
   "source": [
    "CPI_scaler = MinMaxScaler(feature_range=(-1, 1))\n",
    "scaled_CPI = CPI_scaler.fit_transform(CPI_before_scaling_as_np.reshape(-1, 1))\n",
    "scaled_CPI"
   ]
  },
  {
   "cell_type": "code",
   "execution_count": 35,
   "metadata": {
    "id": "pxSZSjwiQgY_",
    "ExecuteTime": {
     "end_time": "2023-12-01T23:22:39.662905900Z",
     "start_time": "2023-12-01T23:22:39.288398Z"
    }
   },
   "outputs": [
    {
     "data": {
      "text/plain": "array([[-0.10690381],\n       [-0.10690381],\n       [-0.10690381],\n       ...,\n       [ 0.66433555],\n       [ 0.66433555],\n       [ 0.66433555]])"
     },
     "execution_count": 35,
     "metadata": {},
     "output_type": "execute_result"
    }
   ],
   "source": [
    "IR_scaler = MinMaxScaler(feature_range=(-1, 1))\n",
    "scaled_IR = IR_scaler.fit_transform(inflation_rate_before_scaling_as_np.reshape(-1, 1))\n",
    "scaled_IR"
   ]
  },
  {
   "cell_type": "code",
   "execution_count": 36,
   "metadata": {
    "id": "RhNJ4vRuQgY_",
    "ExecuteTime": {
     "end_time": "2023-12-01T23:22:39.663905800Z",
     "start_time": "2023-12-01T23:22:39.296876700Z"
    }
   },
   "outputs": [
    {
     "data": {
      "text/plain": "array([[-0.88354852],\n       [-0.88354852],\n       [-0.88354852],\n       ...,\n       [ 0.24367179],\n       [ 0.24367179],\n       [ 0.24367179]])"
     },
     "execution_count": 36,
     "metadata": {},
     "output_type": "execute_result"
    }
   ],
   "source": [
    "PALLFNFINDEXM_scaler = MinMaxScaler(feature_range=(-1, 1))\n",
    "scaled_PALLFNFINDEXM = PALLFNFINDEXM_scaler.fit_transform(PALLFNFINDEXM_before_scaling_as_np.reshape(-1, 1))\n",
    "scaled_PALLFNFINDEXM"
   ]
  },
  {
   "cell_type": "code",
   "execution_count": 37,
   "metadata": {
    "colab": {
     "base_uri": "https://localhost:8080/"
    },
    "id": "t6S1qtLpQgZA",
    "outputId": "356e3798-5c55-4a64-a6ba-d1449350a52d",
    "ExecuteTime": {
     "end_time": "2023-12-01T23:22:39.663905800Z",
     "start_time": "2023-12-01T23:22:39.302097100Z"
    }
   },
   "outputs": [
    {
     "data": {
      "text/plain": "array([[-0.99993486],\n       [-0.99986972],\n       [-0.99980458],\n       ...,\n       [-0.29056913],\n       [-0.28931784],\n       [-0.27635776]])"
     },
     "execution_count": 37,
     "metadata": {},
     "output_type": "execute_result"
    }
   ],
   "source": [
    "DEXCHUS_scaler = MinMaxScaler(feature_range=(-1, 1))\n",
    "scaled_DEXCHUS = DEXCHUS_scaler.fit_transform(DEXCHUS.reshape(-1, 1))\n",
    "scaled_DEXCHUS"
   ]
  },
  {
   "cell_type": "code",
   "execution_count": 38,
   "metadata": {
    "collapsed": false,
    "ExecuteTime": {
     "end_time": "2023-12-01T23:22:39.664905900Z",
     "start_time": "2023-12-01T23:22:39.306511Z"
    }
   },
   "outputs": [
    {
     "data": {
      "text/plain": "(6037, 21)"
     },
     "execution_count": 38,
     "metadata": {},
     "output_type": "execute_result"
    }
   ],
   "source": [
    "\n",
    "stacked_np = np.hstack((scaled_prices, scaled_GDP,scaled_CPI,scaled_IR,scaled_PALLFNFINDEXM,scaled_DEXCHUS))\n",
    "\n",
    "# Display the combined NumPy array\n",
    "stacked_np.shape\n"
   ]
  },
  {
   "cell_type": "code",
   "execution_count": 39,
   "metadata": {
    "ExecuteTime": {
     "end_time": "2023-12-01T23:22:39.664905900Z",
     "start_time": "2023-12-01T23:22:39.311950300Z"
    }
   },
   "outputs": [
    {
     "data": {
      "text/plain": "(6037, 16)"
     },
     "execution_count": 39,
     "metadata": {},
     "output_type": "execute_result"
    }
   ],
   "source": [
    "scaled_prices.shape"
   ]
  },
  {
   "cell_type": "code",
   "execution_count": 40,
   "metadata": {
    "collapsed": false,
    "ExecuteTime": {
     "end_time": "2023-12-01T23:22:39.666906300Z",
     "start_time": "2023-12-01T23:22:39.317326600Z"
    }
   },
   "outputs": [
    {
     "data": {
      "text/plain": "       Price  Price(t-1)  Price(t-2)  Price(t-3)  Price(t-4)  Price(t-5)  \\\n0     0.8415      0.8425      0.8565      0.8730      0.8730      0.8825   \n1     0.8445      0.8415      0.8425      0.8565      0.8730      0.8730   \n2     0.8400      0.8445      0.8415      0.8425      0.8565      0.8730   \n3     0.8545      0.8400      0.8445      0.8415      0.8425      0.8565   \n4     0.8480      0.8545      0.8400      0.8445      0.8415      0.8425   \n...      ...         ...         ...         ...         ...         ...   \n6032  3.8335      3.7345      3.7025      3.7185      3.6835      3.6660   \n6033  3.8395      3.8335      3.7345      3.7025      3.7185      3.6835   \n6034  3.7970      3.8395      3.8335      3.7345      3.7025      3.7185   \n6035  3.7743      3.7970      3.8395      3.8335      3.7345      3.7025   \n6036  3.8205      3.7743      3.7970      3.8395      3.8335      3.7345   \n\n      Price(t-6)  Price(t-7)  Price(t-8)  Price(t-9)  ...  Price(t-11)  \\\n0         0.8660      0.8625      0.8565      0.8660  ...       0.8465   \n1         0.8825      0.8660      0.8625      0.8565  ...       0.8435   \n2         0.8730      0.8825      0.8660      0.8625  ...       0.8660   \n3         0.8730      0.8730      0.8825      0.8660  ...       0.8565   \n4         0.8565      0.8730      0.8730      0.8825  ...       0.8625   \n...          ...         ...         ...         ...  ...          ...   \n6032      3.5870      3.6405      3.6380      3.6790  ...       3.6815   \n6033      3.6660      3.5870      3.6405      3.6380  ...       3.7190   \n6034      3.6835      3.6660      3.5870      3.6405  ...       3.6790   \n6035      3.7185      3.6835      3.6660      3.5870  ...       3.6380   \n6036      3.7025      3.7185      3.6835      3.6660  ...       3.6405   \n\n      Price(t-12)  Price(t-13)  Price(t-14)  Price(t-15)   Real_GDP    CPI  \\\n0          0.8540       0.8530       0.8565       0.8480  14096.033  168.8   \n1          0.8465       0.8540       0.8530       0.8565  14096.033  168.8   \n2          0.8435       0.8465       0.8540       0.8530  14096.033  168.8   \n3          0.8660       0.8435       0.8465       0.8540  14096.033  168.8   \n4          0.8565       0.8660       0.8435       0.8465  14096.033  168.8   \n...           ...          ...          ...          ...        ...    ...   \n6032       3.6725       3.6490       3.6490       3.6585  19374.000  307.0   \n6033       3.6815       3.6725       3.6490       3.6490  19374.000  307.0   \n6034       3.7190       3.6815       3.6725       3.6490  19374.000  307.0   \n6035       3.6790       3.7190       3.6815       3.6725  19374.000  307.0   \n6036       3.6380       3.6790       3.7190       3.6815  19374.000  307.0   \n\n      inflation_rate  PALLFNFINDEXM   DEXCHUS  \n0           3.376857      59.470000  0.120774  \n1           3.376857      59.470000  0.120776  \n2           3.376857      59.470000  0.120777  \n3           3.376857      59.470000  0.120782  \n4           3.376857      59.470000  0.120782  \n...              ...            ...       ...  \n6032        6.600000     168.657489  0.136737  \n6033        6.600000     168.657489  0.136676  \n6034        6.600000     168.657489  0.136659  \n6035        6.600000     168.657489  0.136687  \n6036        6.600000     168.657489  0.136977  \n\n[6037 rows x 21 columns]",
      "text/html": "<div>\n<style scoped>\n    .dataframe tbody tr th:only-of-type {\n        vertical-align: middle;\n    }\n\n    .dataframe tbody tr th {\n        vertical-align: top;\n    }\n\n    .dataframe thead th {\n        text-align: right;\n    }\n</style>\n<table border=\"1\" class=\"dataframe\">\n  <thead>\n    <tr style=\"text-align: right;\">\n      <th></th>\n      <th>Price</th>\n      <th>Price(t-1)</th>\n      <th>Price(t-2)</th>\n      <th>Price(t-3)</th>\n      <th>Price(t-4)</th>\n      <th>Price(t-5)</th>\n      <th>Price(t-6)</th>\n      <th>Price(t-7)</th>\n      <th>Price(t-8)</th>\n      <th>Price(t-9)</th>\n      <th>...</th>\n      <th>Price(t-11)</th>\n      <th>Price(t-12)</th>\n      <th>Price(t-13)</th>\n      <th>Price(t-14)</th>\n      <th>Price(t-15)</th>\n      <th>Real_GDP</th>\n      <th>CPI</th>\n      <th>inflation_rate</th>\n      <th>PALLFNFINDEXM</th>\n      <th>DEXCHUS</th>\n    </tr>\n  </thead>\n  <tbody>\n    <tr>\n      <th>0</th>\n      <td>0.8415</td>\n      <td>0.8425</td>\n      <td>0.8565</td>\n      <td>0.8730</td>\n      <td>0.8730</td>\n      <td>0.8825</td>\n      <td>0.8660</td>\n      <td>0.8625</td>\n      <td>0.8565</td>\n      <td>0.8660</td>\n      <td>...</td>\n      <td>0.8465</td>\n      <td>0.8540</td>\n      <td>0.8530</td>\n      <td>0.8565</td>\n      <td>0.8480</td>\n      <td>14096.033</td>\n      <td>168.8</td>\n      <td>3.376857</td>\n      <td>59.470000</td>\n      <td>0.120774</td>\n    </tr>\n    <tr>\n      <th>1</th>\n      <td>0.8445</td>\n      <td>0.8415</td>\n      <td>0.8425</td>\n      <td>0.8565</td>\n      <td>0.8730</td>\n      <td>0.8730</td>\n      <td>0.8825</td>\n      <td>0.8660</td>\n      <td>0.8625</td>\n      <td>0.8565</td>\n      <td>...</td>\n      <td>0.8435</td>\n      <td>0.8465</td>\n      <td>0.8540</td>\n      <td>0.8530</td>\n      <td>0.8565</td>\n      <td>14096.033</td>\n      <td>168.8</td>\n      <td>3.376857</td>\n      <td>59.470000</td>\n      <td>0.120776</td>\n    </tr>\n    <tr>\n      <th>2</th>\n      <td>0.8400</td>\n      <td>0.8445</td>\n      <td>0.8415</td>\n      <td>0.8425</td>\n      <td>0.8565</td>\n      <td>0.8730</td>\n      <td>0.8730</td>\n      <td>0.8825</td>\n      <td>0.8660</td>\n      <td>0.8625</td>\n      <td>...</td>\n      <td>0.8660</td>\n      <td>0.8435</td>\n      <td>0.8465</td>\n      <td>0.8540</td>\n      <td>0.8530</td>\n      <td>14096.033</td>\n      <td>168.8</td>\n      <td>3.376857</td>\n      <td>59.470000</td>\n      <td>0.120777</td>\n    </tr>\n    <tr>\n      <th>3</th>\n      <td>0.8545</td>\n      <td>0.8400</td>\n      <td>0.8445</td>\n      <td>0.8415</td>\n      <td>0.8425</td>\n      <td>0.8565</td>\n      <td>0.8730</td>\n      <td>0.8730</td>\n      <td>0.8825</td>\n      <td>0.8660</td>\n      <td>...</td>\n      <td>0.8565</td>\n      <td>0.8660</td>\n      <td>0.8435</td>\n      <td>0.8465</td>\n      <td>0.8540</td>\n      <td>14096.033</td>\n      <td>168.8</td>\n      <td>3.376857</td>\n      <td>59.470000</td>\n      <td>0.120782</td>\n    </tr>\n    <tr>\n      <th>4</th>\n      <td>0.8480</td>\n      <td>0.8545</td>\n      <td>0.8400</td>\n      <td>0.8445</td>\n      <td>0.8415</td>\n      <td>0.8425</td>\n      <td>0.8565</td>\n      <td>0.8730</td>\n      <td>0.8730</td>\n      <td>0.8825</td>\n      <td>...</td>\n      <td>0.8625</td>\n      <td>0.8565</td>\n      <td>0.8660</td>\n      <td>0.8435</td>\n      <td>0.8465</td>\n      <td>14096.033</td>\n      <td>168.8</td>\n      <td>3.376857</td>\n      <td>59.470000</td>\n      <td>0.120782</td>\n    </tr>\n    <tr>\n      <th>...</th>\n      <td>...</td>\n      <td>...</td>\n      <td>...</td>\n      <td>...</td>\n      <td>...</td>\n      <td>...</td>\n      <td>...</td>\n      <td>...</td>\n      <td>...</td>\n      <td>...</td>\n      <td>...</td>\n      <td>...</td>\n      <td>...</td>\n      <td>...</td>\n      <td>...</td>\n      <td>...</td>\n      <td>...</td>\n      <td>...</td>\n      <td>...</td>\n      <td>...</td>\n      <td>...</td>\n    </tr>\n    <tr>\n      <th>6032</th>\n      <td>3.8335</td>\n      <td>3.7345</td>\n      <td>3.7025</td>\n      <td>3.7185</td>\n      <td>3.6835</td>\n      <td>3.6660</td>\n      <td>3.5870</td>\n      <td>3.6405</td>\n      <td>3.6380</td>\n      <td>3.6790</td>\n      <td>...</td>\n      <td>3.6815</td>\n      <td>3.6725</td>\n      <td>3.6490</td>\n      <td>3.6490</td>\n      <td>3.6585</td>\n      <td>19374.000</td>\n      <td>307.0</td>\n      <td>6.600000</td>\n      <td>168.657489</td>\n      <td>0.136737</td>\n    </tr>\n    <tr>\n      <th>6033</th>\n      <td>3.8395</td>\n      <td>3.8335</td>\n      <td>3.7345</td>\n      <td>3.7025</td>\n      <td>3.7185</td>\n      <td>3.6835</td>\n      <td>3.6660</td>\n      <td>3.5870</td>\n      <td>3.6405</td>\n      <td>3.6380</td>\n      <td>...</td>\n      <td>3.7190</td>\n      <td>3.6815</td>\n      <td>3.6725</td>\n      <td>3.6490</td>\n      <td>3.6490</td>\n      <td>19374.000</td>\n      <td>307.0</td>\n      <td>6.600000</td>\n      <td>168.657489</td>\n      <td>0.136676</td>\n    </tr>\n    <tr>\n      <th>6034</th>\n      <td>3.7970</td>\n      <td>3.8395</td>\n      <td>3.8335</td>\n      <td>3.7345</td>\n      <td>3.7025</td>\n      <td>3.7185</td>\n      <td>3.6835</td>\n      <td>3.6660</td>\n      <td>3.5870</td>\n      <td>3.6405</td>\n      <td>...</td>\n      <td>3.6790</td>\n      <td>3.7190</td>\n      <td>3.6815</td>\n      <td>3.6725</td>\n      <td>3.6490</td>\n      <td>19374.000</td>\n      <td>307.0</td>\n      <td>6.600000</td>\n      <td>168.657489</td>\n      <td>0.136659</td>\n    </tr>\n    <tr>\n      <th>6035</th>\n      <td>3.7743</td>\n      <td>3.7970</td>\n      <td>3.8395</td>\n      <td>3.8335</td>\n      <td>3.7345</td>\n      <td>3.7025</td>\n      <td>3.7185</td>\n      <td>3.6835</td>\n      <td>3.6660</td>\n      <td>3.5870</td>\n      <td>...</td>\n      <td>3.6380</td>\n      <td>3.6790</td>\n      <td>3.7190</td>\n      <td>3.6815</td>\n      <td>3.6725</td>\n      <td>19374.000</td>\n      <td>307.0</td>\n      <td>6.600000</td>\n      <td>168.657489</td>\n      <td>0.136687</td>\n    </tr>\n    <tr>\n      <th>6036</th>\n      <td>3.8205</td>\n      <td>3.7743</td>\n      <td>3.7970</td>\n      <td>3.8395</td>\n      <td>3.8335</td>\n      <td>3.7345</td>\n      <td>3.7025</td>\n      <td>3.7185</td>\n      <td>3.6835</td>\n      <td>3.6660</td>\n      <td>...</td>\n      <td>3.6405</td>\n      <td>3.6380</td>\n      <td>3.6790</td>\n      <td>3.7190</td>\n      <td>3.6815</td>\n      <td>19374.000</td>\n      <td>307.0</td>\n      <td>6.600000</td>\n      <td>168.657489</td>\n      <td>0.136977</td>\n    </tr>\n  </tbody>\n</table>\n<p>6037 rows × 21 columns</p>\n</div>"
     },
     "execution_count": 40,
     "metadata": {},
     "output_type": "execute_result"
    }
   ],
   "source": [
    "scaled_df = shifted_df.drop(['Date'], axis=1)\n",
    "scaled_df"
   ]
  },
  {
   "cell_type": "code",
   "execution_count": 41,
   "metadata": {
    "id": "j63Oixd0QgZA",
    "ExecuteTime": {
     "end_time": "2023-12-01T23:22:39.667906Z",
     "start_time": "2023-12-01T23:22:39.340467600Z"
    }
   },
   "outputs": [
    {
     "data": {
      "text/plain": "       DEXCHUS  PALLFNFINDEXM  inflation_rate    CPI   Real_GDP  Price(t-15)  \\\n0     0.120774      59.470000        3.376857  168.8  14096.033       0.8480   \n1     0.120776      59.470000        3.376857  168.8  14096.033       0.8565   \n2     0.120777      59.470000        3.376857  168.8  14096.033       0.8530   \n3     0.120782      59.470000        3.376857  168.8  14096.033       0.8540   \n4     0.120782      59.470000        3.376857  168.8  14096.033       0.8465   \n...        ...            ...             ...    ...        ...          ...   \n6032  0.136737     168.657489        6.600000  307.0  19374.000       3.6585   \n6033  0.136676     168.657489        6.600000  307.0  19374.000       3.6490   \n6034  0.136659     168.657489        6.600000  307.0  19374.000       3.6490   \n6035  0.136687     168.657489        6.600000  307.0  19374.000       3.6725   \n6036  0.136977     168.657489        6.600000  307.0  19374.000       3.6815   \n\n      Price(t-14)  Price(t-13)  Price(t-12)  Price(t-11)  ...  Price(t-9)  \\\n0          0.8565       0.8530       0.8540       0.8465  ...      0.8660   \n1          0.8530       0.8540       0.8465       0.8435  ...      0.8565   \n2          0.8540       0.8465       0.8435       0.8660  ...      0.8625   \n3          0.8465       0.8435       0.8660       0.8565  ...      0.8660   \n4          0.8435       0.8660       0.8565       0.8625  ...      0.8825   \n...           ...          ...          ...          ...  ...         ...   \n6032       3.6490       3.6490       3.6725       3.6815  ...      3.6790   \n6033       3.6490       3.6725       3.6815       3.7190  ...      3.6380   \n6034       3.6725       3.6815       3.7190       3.6790  ...      3.6405   \n6035       3.6815       3.7190       3.6790       3.6380  ...      3.5870   \n6036       3.7190       3.6790       3.6380       3.6405  ...      3.6660   \n\n      Price(t-8)  Price(t-7)  Price(t-6)  Price(t-5)  Price(t-4)  Price(t-3)  \\\n0         0.8565      0.8625      0.8660      0.8825      0.8730      0.8730   \n1         0.8625      0.8660      0.8825      0.8730      0.8730      0.8565   \n2         0.8660      0.8825      0.8730      0.8730      0.8565      0.8425   \n3         0.8825      0.8730      0.8730      0.8565      0.8425      0.8415   \n4         0.8730      0.8730      0.8565      0.8425      0.8415      0.8445   \n...          ...         ...         ...         ...         ...         ...   \n6032      3.6380      3.6405      3.5870      3.6660      3.6835      3.7185   \n6033      3.6405      3.5870      3.6660      3.6835      3.7185      3.7025   \n6034      3.5870      3.6660      3.6835      3.7185      3.7025      3.7345   \n6035      3.6660      3.6835      3.7185      3.7025      3.7345      3.8335   \n6036      3.6835      3.7185      3.7025      3.7345      3.8335      3.8395   \n\n      Price(t-2)  Price(t-1)   Price  \n0         0.8565      0.8425  0.8415  \n1         0.8425      0.8415  0.8445  \n2         0.8415      0.8445  0.8400  \n3         0.8445      0.8400  0.8545  \n4         0.8400      0.8545  0.8480  \n...          ...         ...     ...  \n6032      3.7025      3.7345  3.8335  \n6033      3.7345      3.8335  3.8395  \n6034      3.8335      3.8395  3.7970  \n6035      3.8395      3.7970  3.7743  \n6036      3.7970      3.7743  3.8205  \n\n[6037 rows x 21 columns]",
      "text/html": "<div>\n<style scoped>\n    .dataframe tbody tr th:only-of-type {\n        vertical-align: middle;\n    }\n\n    .dataframe tbody tr th {\n        vertical-align: top;\n    }\n\n    .dataframe thead th {\n        text-align: right;\n    }\n</style>\n<table border=\"1\" class=\"dataframe\">\n  <thead>\n    <tr style=\"text-align: right;\">\n      <th></th>\n      <th>DEXCHUS</th>\n      <th>PALLFNFINDEXM</th>\n      <th>inflation_rate</th>\n      <th>CPI</th>\n      <th>Real_GDP</th>\n      <th>Price(t-15)</th>\n      <th>Price(t-14)</th>\n      <th>Price(t-13)</th>\n      <th>Price(t-12)</th>\n      <th>Price(t-11)</th>\n      <th>...</th>\n      <th>Price(t-9)</th>\n      <th>Price(t-8)</th>\n      <th>Price(t-7)</th>\n      <th>Price(t-6)</th>\n      <th>Price(t-5)</th>\n      <th>Price(t-4)</th>\n      <th>Price(t-3)</th>\n      <th>Price(t-2)</th>\n      <th>Price(t-1)</th>\n      <th>Price</th>\n    </tr>\n  </thead>\n  <tbody>\n    <tr>\n      <th>0</th>\n      <td>0.120774</td>\n      <td>59.470000</td>\n      <td>3.376857</td>\n      <td>168.8</td>\n      <td>14096.033</td>\n      <td>0.8480</td>\n      <td>0.8565</td>\n      <td>0.8530</td>\n      <td>0.8540</td>\n      <td>0.8465</td>\n      <td>...</td>\n      <td>0.8660</td>\n      <td>0.8565</td>\n      <td>0.8625</td>\n      <td>0.8660</td>\n      <td>0.8825</td>\n      <td>0.8730</td>\n      <td>0.8730</td>\n      <td>0.8565</td>\n      <td>0.8425</td>\n      <td>0.8415</td>\n    </tr>\n    <tr>\n      <th>1</th>\n      <td>0.120776</td>\n      <td>59.470000</td>\n      <td>3.376857</td>\n      <td>168.8</td>\n      <td>14096.033</td>\n      <td>0.8565</td>\n      <td>0.8530</td>\n      <td>0.8540</td>\n      <td>0.8465</td>\n      <td>0.8435</td>\n      <td>...</td>\n      <td>0.8565</td>\n      <td>0.8625</td>\n      <td>0.8660</td>\n      <td>0.8825</td>\n      <td>0.8730</td>\n      <td>0.8730</td>\n      <td>0.8565</td>\n      <td>0.8425</td>\n      <td>0.8415</td>\n      <td>0.8445</td>\n    </tr>\n    <tr>\n      <th>2</th>\n      <td>0.120777</td>\n      <td>59.470000</td>\n      <td>3.376857</td>\n      <td>168.8</td>\n      <td>14096.033</td>\n      <td>0.8530</td>\n      <td>0.8540</td>\n      <td>0.8465</td>\n      <td>0.8435</td>\n      <td>0.8660</td>\n      <td>...</td>\n      <td>0.8625</td>\n      <td>0.8660</td>\n      <td>0.8825</td>\n      <td>0.8730</td>\n      <td>0.8730</td>\n      <td>0.8565</td>\n      <td>0.8425</td>\n      <td>0.8415</td>\n      <td>0.8445</td>\n      <td>0.8400</td>\n    </tr>\n    <tr>\n      <th>3</th>\n      <td>0.120782</td>\n      <td>59.470000</td>\n      <td>3.376857</td>\n      <td>168.8</td>\n      <td>14096.033</td>\n      <td>0.8540</td>\n      <td>0.8465</td>\n      <td>0.8435</td>\n      <td>0.8660</td>\n      <td>0.8565</td>\n      <td>...</td>\n      <td>0.8660</td>\n      <td>0.8825</td>\n      <td>0.8730</td>\n      <td>0.8730</td>\n      <td>0.8565</td>\n      <td>0.8425</td>\n      <td>0.8415</td>\n      <td>0.8445</td>\n      <td>0.8400</td>\n      <td>0.8545</td>\n    </tr>\n    <tr>\n      <th>4</th>\n      <td>0.120782</td>\n      <td>59.470000</td>\n      <td>3.376857</td>\n      <td>168.8</td>\n      <td>14096.033</td>\n      <td>0.8465</td>\n      <td>0.8435</td>\n      <td>0.8660</td>\n      <td>0.8565</td>\n      <td>0.8625</td>\n      <td>...</td>\n      <td>0.8825</td>\n      <td>0.8730</td>\n      <td>0.8730</td>\n      <td>0.8565</td>\n      <td>0.8425</td>\n      <td>0.8415</td>\n      <td>0.8445</td>\n      <td>0.8400</td>\n      <td>0.8545</td>\n      <td>0.8480</td>\n    </tr>\n    <tr>\n      <th>...</th>\n      <td>...</td>\n      <td>...</td>\n      <td>...</td>\n      <td>...</td>\n      <td>...</td>\n      <td>...</td>\n      <td>...</td>\n      <td>...</td>\n      <td>...</td>\n      <td>...</td>\n      <td>...</td>\n      <td>...</td>\n      <td>...</td>\n      <td>...</td>\n      <td>...</td>\n      <td>...</td>\n      <td>...</td>\n      <td>...</td>\n      <td>...</td>\n      <td>...</td>\n      <td>...</td>\n    </tr>\n    <tr>\n      <th>6032</th>\n      <td>0.136737</td>\n      <td>168.657489</td>\n      <td>6.600000</td>\n      <td>307.0</td>\n      <td>19374.000</td>\n      <td>3.6585</td>\n      <td>3.6490</td>\n      <td>3.6490</td>\n      <td>3.6725</td>\n      <td>3.6815</td>\n      <td>...</td>\n      <td>3.6790</td>\n      <td>3.6380</td>\n      <td>3.6405</td>\n      <td>3.5870</td>\n      <td>3.6660</td>\n      <td>3.6835</td>\n      <td>3.7185</td>\n      <td>3.7025</td>\n      <td>3.7345</td>\n      <td>3.8335</td>\n    </tr>\n    <tr>\n      <th>6033</th>\n      <td>0.136676</td>\n      <td>168.657489</td>\n      <td>6.600000</td>\n      <td>307.0</td>\n      <td>19374.000</td>\n      <td>3.6490</td>\n      <td>3.6490</td>\n      <td>3.6725</td>\n      <td>3.6815</td>\n      <td>3.7190</td>\n      <td>...</td>\n      <td>3.6380</td>\n      <td>3.6405</td>\n      <td>3.5870</td>\n      <td>3.6660</td>\n      <td>3.6835</td>\n      <td>3.7185</td>\n      <td>3.7025</td>\n      <td>3.7345</td>\n      <td>3.8335</td>\n      <td>3.8395</td>\n    </tr>\n    <tr>\n      <th>6034</th>\n      <td>0.136659</td>\n      <td>168.657489</td>\n      <td>6.600000</td>\n      <td>307.0</td>\n      <td>19374.000</td>\n      <td>3.6490</td>\n      <td>3.6725</td>\n      <td>3.6815</td>\n      <td>3.7190</td>\n      <td>3.6790</td>\n      <td>...</td>\n      <td>3.6405</td>\n      <td>3.5870</td>\n      <td>3.6660</td>\n      <td>3.6835</td>\n      <td>3.7185</td>\n      <td>3.7025</td>\n      <td>3.7345</td>\n      <td>3.8335</td>\n      <td>3.8395</td>\n      <td>3.7970</td>\n    </tr>\n    <tr>\n      <th>6035</th>\n      <td>0.136687</td>\n      <td>168.657489</td>\n      <td>6.600000</td>\n      <td>307.0</td>\n      <td>19374.000</td>\n      <td>3.6725</td>\n      <td>3.6815</td>\n      <td>3.7190</td>\n      <td>3.6790</td>\n      <td>3.6380</td>\n      <td>...</td>\n      <td>3.5870</td>\n      <td>3.6660</td>\n      <td>3.6835</td>\n      <td>3.7185</td>\n      <td>3.7025</td>\n      <td>3.7345</td>\n      <td>3.8335</td>\n      <td>3.8395</td>\n      <td>3.7970</td>\n      <td>3.7743</td>\n    </tr>\n    <tr>\n      <th>6036</th>\n      <td>0.136977</td>\n      <td>168.657489</td>\n      <td>6.600000</td>\n      <td>307.0</td>\n      <td>19374.000</td>\n      <td>3.6815</td>\n      <td>3.7190</td>\n      <td>3.6790</td>\n      <td>3.6380</td>\n      <td>3.6405</td>\n      <td>...</td>\n      <td>3.6660</td>\n      <td>3.6835</td>\n      <td>3.7185</td>\n      <td>3.7025</td>\n      <td>3.7345</td>\n      <td>3.8335</td>\n      <td>3.8395</td>\n      <td>3.7970</td>\n      <td>3.7743</td>\n      <td>3.8205</td>\n    </tr>\n  </tbody>\n</table>\n<p>6037 rows × 21 columns</p>\n</div>"
     },
     "execution_count": 41,
     "metadata": {},
     "output_type": "execute_result"
    }
   ],
   "source": [
    "flipped_df = shifted_df[shifted_df.columns[::-1]]\n",
    "flipped_df = flipped_df.drop(['Date'], axis=1)\n",
    "flipped_df"
   ]
  },
  {
   "cell_type": "code",
   "execution_count": 42,
   "metadata": {
    "id": "1fUlpjKbQgZA",
    "ExecuteTime": {
     "end_time": "2023-12-01T23:22:39.667906Z",
     "start_time": "2023-12-01T23:22:39.360446700Z"
    }
   },
   "outputs": [],
   "source": [
    "flipped_df.reset_index(drop=True, inplace=True)"
   ]
  },
  {
   "cell_type": "code",
   "execution_count": 43,
   "metadata": {
    "collapsed": false,
    "ExecuteTime": {
     "end_time": "2023-12-01T23:22:39.667906Z",
     "start_time": "2023-12-01T23:22:39.365045900Z"
    }
   },
   "outputs": [],
   "source": [
    "df.drop(columns=['Price'], inplace=True)"
   ]
  },
  {
   "cell_type": "code",
   "execution_count": 44,
   "metadata": {
    "id": "Q9Sf1h_RQgZA",
    "ExecuteTime": {
     "end_time": "2023-12-01T23:22:39.667906Z",
     "start_time": "2023-12-01T23:22:39.369447600Z"
    }
   },
   "outputs": [],
   "source": [
    "new_df = pd.concat([df, flipped_df], axis=1)"
   ]
  },
  {
   "cell_type": "code",
   "execution_count": 45,
   "metadata": {
    "colab": {
     "base_uri": "https://localhost:8080/",
     "height": 461
    },
    "id": "GcctPDrKQgZA",
    "outputId": "da07cae9-3a41-4121-96dc-2b96999fa67b",
    "ExecuteTime": {
     "end_time": "2023-12-01T23:22:39.668906Z",
     "start_time": "2023-12-01T23:22:39.373968900Z"
    }
   },
   "outputs": [
    {
     "data": {
      "text/plain": "           Date  Month    Year   Real_GDP    CPI  inflation_rate  \\\n0    2000-01-04    1.0  2000.0  14096.033  168.8        3.376857   \n1    2000-01-05    1.0  2000.0  14096.033  168.8        3.376857   \n2    2000-01-06    1.0  2000.0  14096.033  168.8        3.376857   \n3    2000-01-07    1.0  2000.0  14096.033  168.8        3.376857   \n4    2000-01-10    1.0  2000.0  14096.033  168.8        3.376857   \n...         ...    ...     ...        ...    ...             ...   \n6032 2023-10-30   10.0  2023.0  19374.000  307.0        6.600000   \n6033 2023-10-31   10.0  2023.0  19374.000  307.0        6.600000   \n6034 2023-11-01   11.0  2023.0  19374.000  307.0        6.600000   \n6035 2023-11-02   11.0  2023.0  19374.000  307.0        6.600000   \n6036 2023-11-03   11.0  2023.0  19374.000  307.0        6.600000   \n\n      PALLFNFINDEXM   DEXCHUS   DEXCHUS  PALLFNFINDEXM  ...  Price(t-9)  \\\n0         59.470000  0.120774  0.120774      59.470000  ...      0.8660   \n1         59.470000  0.120776  0.120776      59.470000  ...      0.8565   \n2         59.470000  0.120777  0.120777      59.470000  ...      0.8625   \n3         59.470000  0.120782  0.120782      59.470000  ...      0.8660   \n4         59.470000  0.120782  0.120782      59.470000  ...      0.8825   \n...             ...       ...       ...            ...  ...         ...   \n6032     168.657489  0.136737  0.136737     168.657489  ...      3.6790   \n6033     168.657489  0.136676  0.136676     168.657489  ...      3.6380   \n6034     168.657489  0.136659  0.136659     168.657489  ...      3.6405   \n6035     168.657489  0.136687  0.136687     168.657489  ...      3.5870   \n6036     168.657489  0.136977  0.136977     168.657489  ...      3.6660   \n\n      Price(t-8)  Price(t-7)  Price(t-6)  Price(t-5)  Price(t-4)  Price(t-3)  \\\n0         0.8565      0.8625      0.8660      0.8825      0.8730      0.8730   \n1         0.8625      0.8660      0.8825      0.8730      0.8730      0.8565   \n2         0.8660      0.8825      0.8730      0.8730      0.8565      0.8425   \n3         0.8825      0.8730      0.8730      0.8565      0.8425      0.8415   \n4         0.8730      0.8730      0.8565      0.8425      0.8415      0.8445   \n...          ...         ...         ...         ...         ...         ...   \n6032      3.6380      3.6405      3.5870      3.6660      3.6835      3.7185   \n6033      3.6405      3.5870      3.6660      3.6835      3.7185      3.7025   \n6034      3.5870      3.6660      3.6835      3.7185      3.7025      3.7345   \n6035      3.6660      3.6835      3.7185      3.7025      3.7345      3.8335   \n6036      3.6835      3.7185      3.7025      3.7345      3.8335      3.8395   \n\n      Price(t-2)  Price(t-1)   Price  \n0         0.8565      0.8425  0.8415  \n1         0.8425      0.8415  0.8445  \n2         0.8415      0.8445  0.8400  \n3         0.8445      0.8400  0.8545  \n4         0.8400      0.8545  0.8480  \n...          ...         ...     ...  \n6032      3.7025      3.7345  3.8335  \n6033      3.7345      3.8335  3.8395  \n6034      3.8335      3.8395  3.7970  \n6035      3.8395      3.7970  3.7743  \n6036      3.7970      3.7743  3.8205  \n\n[6037 rows x 29 columns]",
      "text/html": "<div>\n<style scoped>\n    .dataframe tbody tr th:only-of-type {\n        vertical-align: middle;\n    }\n\n    .dataframe tbody tr th {\n        vertical-align: top;\n    }\n\n    .dataframe thead th {\n        text-align: right;\n    }\n</style>\n<table border=\"1\" class=\"dataframe\">\n  <thead>\n    <tr style=\"text-align: right;\">\n      <th></th>\n      <th>Date</th>\n      <th>Month</th>\n      <th>Year</th>\n      <th>Real_GDP</th>\n      <th>CPI</th>\n      <th>inflation_rate</th>\n      <th>PALLFNFINDEXM</th>\n      <th>DEXCHUS</th>\n      <th>DEXCHUS</th>\n      <th>PALLFNFINDEXM</th>\n      <th>...</th>\n      <th>Price(t-9)</th>\n      <th>Price(t-8)</th>\n      <th>Price(t-7)</th>\n      <th>Price(t-6)</th>\n      <th>Price(t-5)</th>\n      <th>Price(t-4)</th>\n      <th>Price(t-3)</th>\n      <th>Price(t-2)</th>\n      <th>Price(t-1)</th>\n      <th>Price</th>\n    </tr>\n  </thead>\n  <tbody>\n    <tr>\n      <th>0</th>\n      <td>2000-01-04</td>\n      <td>1.0</td>\n      <td>2000.0</td>\n      <td>14096.033</td>\n      <td>168.8</td>\n      <td>3.376857</td>\n      <td>59.470000</td>\n      <td>0.120774</td>\n      <td>0.120774</td>\n      <td>59.470000</td>\n      <td>...</td>\n      <td>0.8660</td>\n      <td>0.8565</td>\n      <td>0.8625</td>\n      <td>0.8660</td>\n      <td>0.8825</td>\n      <td>0.8730</td>\n      <td>0.8730</td>\n      <td>0.8565</td>\n      <td>0.8425</td>\n      <td>0.8415</td>\n    </tr>\n    <tr>\n      <th>1</th>\n      <td>2000-01-05</td>\n      <td>1.0</td>\n      <td>2000.0</td>\n      <td>14096.033</td>\n      <td>168.8</td>\n      <td>3.376857</td>\n      <td>59.470000</td>\n      <td>0.120776</td>\n      <td>0.120776</td>\n      <td>59.470000</td>\n      <td>...</td>\n      <td>0.8565</td>\n      <td>0.8625</td>\n      <td>0.8660</td>\n      <td>0.8825</td>\n      <td>0.8730</td>\n      <td>0.8730</td>\n      <td>0.8565</td>\n      <td>0.8425</td>\n      <td>0.8415</td>\n      <td>0.8445</td>\n    </tr>\n    <tr>\n      <th>2</th>\n      <td>2000-01-06</td>\n      <td>1.0</td>\n      <td>2000.0</td>\n      <td>14096.033</td>\n      <td>168.8</td>\n      <td>3.376857</td>\n      <td>59.470000</td>\n      <td>0.120777</td>\n      <td>0.120777</td>\n      <td>59.470000</td>\n      <td>...</td>\n      <td>0.8625</td>\n      <td>0.8660</td>\n      <td>0.8825</td>\n      <td>0.8730</td>\n      <td>0.8730</td>\n      <td>0.8565</td>\n      <td>0.8425</td>\n      <td>0.8415</td>\n      <td>0.8445</td>\n      <td>0.8400</td>\n    </tr>\n    <tr>\n      <th>3</th>\n      <td>2000-01-07</td>\n      <td>1.0</td>\n      <td>2000.0</td>\n      <td>14096.033</td>\n      <td>168.8</td>\n      <td>3.376857</td>\n      <td>59.470000</td>\n      <td>0.120782</td>\n      <td>0.120782</td>\n      <td>59.470000</td>\n      <td>...</td>\n      <td>0.8660</td>\n      <td>0.8825</td>\n      <td>0.8730</td>\n      <td>0.8730</td>\n      <td>0.8565</td>\n      <td>0.8425</td>\n      <td>0.8415</td>\n      <td>0.8445</td>\n      <td>0.8400</td>\n      <td>0.8545</td>\n    </tr>\n    <tr>\n      <th>4</th>\n      <td>2000-01-10</td>\n      <td>1.0</td>\n      <td>2000.0</td>\n      <td>14096.033</td>\n      <td>168.8</td>\n      <td>3.376857</td>\n      <td>59.470000</td>\n      <td>0.120782</td>\n      <td>0.120782</td>\n      <td>59.470000</td>\n      <td>...</td>\n      <td>0.8825</td>\n      <td>0.8730</td>\n      <td>0.8730</td>\n      <td>0.8565</td>\n      <td>0.8425</td>\n      <td>0.8415</td>\n      <td>0.8445</td>\n      <td>0.8400</td>\n      <td>0.8545</td>\n      <td>0.8480</td>\n    </tr>\n    <tr>\n      <th>...</th>\n      <td>...</td>\n      <td>...</td>\n      <td>...</td>\n      <td>...</td>\n      <td>...</td>\n      <td>...</td>\n      <td>...</td>\n      <td>...</td>\n      <td>...</td>\n      <td>...</td>\n      <td>...</td>\n      <td>...</td>\n      <td>...</td>\n      <td>...</td>\n      <td>...</td>\n      <td>...</td>\n      <td>...</td>\n      <td>...</td>\n      <td>...</td>\n      <td>...</td>\n      <td>...</td>\n    </tr>\n    <tr>\n      <th>6032</th>\n      <td>2023-10-30</td>\n      <td>10.0</td>\n      <td>2023.0</td>\n      <td>19374.000</td>\n      <td>307.0</td>\n      <td>6.600000</td>\n      <td>168.657489</td>\n      <td>0.136737</td>\n      <td>0.136737</td>\n      <td>168.657489</td>\n      <td>...</td>\n      <td>3.6790</td>\n      <td>3.6380</td>\n      <td>3.6405</td>\n      <td>3.5870</td>\n      <td>3.6660</td>\n      <td>3.6835</td>\n      <td>3.7185</td>\n      <td>3.7025</td>\n      <td>3.7345</td>\n      <td>3.8335</td>\n    </tr>\n    <tr>\n      <th>6033</th>\n      <td>2023-10-31</td>\n      <td>10.0</td>\n      <td>2023.0</td>\n      <td>19374.000</td>\n      <td>307.0</td>\n      <td>6.600000</td>\n      <td>168.657489</td>\n      <td>0.136676</td>\n      <td>0.136676</td>\n      <td>168.657489</td>\n      <td>...</td>\n      <td>3.6380</td>\n      <td>3.6405</td>\n      <td>3.5870</td>\n      <td>3.6660</td>\n      <td>3.6835</td>\n      <td>3.7185</td>\n      <td>3.7025</td>\n      <td>3.7345</td>\n      <td>3.8335</td>\n      <td>3.8395</td>\n    </tr>\n    <tr>\n      <th>6034</th>\n      <td>2023-11-01</td>\n      <td>11.0</td>\n      <td>2023.0</td>\n      <td>19374.000</td>\n      <td>307.0</td>\n      <td>6.600000</td>\n      <td>168.657489</td>\n      <td>0.136659</td>\n      <td>0.136659</td>\n      <td>168.657489</td>\n      <td>...</td>\n      <td>3.6405</td>\n      <td>3.5870</td>\n      <td>3.6660</td>\n      <td>3.6835</td>\n      <td>3.7185</td>\n      <td>3.7025</td>\n      <td>3.7345</td>\n      <td>3.8335</td>\n      <td>3.8395</td>\n      <td>3.7970</td>\n    </tr>\n    <tr>\n      <th>6035</th>\n      <td>2023-11-02</td>\n      <td>11.0</td>\n      <td>2023.0</td>\n      <td>19374.000</td>\n      <td>307.0</td>\n      <td>6.600000</td>\n      <td>168.657489</td>\n      <td>0.136687</td>\n      <td>0.136687</td>\n      <td>168.657489</td>\n      <td>...</td>\n      <td>3.5870</td>\n      <td>3.6660</td>\n      <td>3.6835</td>\n      <td>3.7185</td>\n      <td>3.7025</td>\n      <td>3.7345</td>\n      <td>3.8335</td>\n      <td>3.8395</td>\n      <td>3.7970</td>\n      <td>3.7743</td>\n    </tr>\n    <tr>\n      <th>6036</th>\n      <td>2023-11-03</td>\n      <td>11.0</td>\n      <td>2023.0</td>\n      <td>19374.000</td>\n      <td>307.0</td>\n      <td>6.600000</td>\n      <td>168.657489</td>\n      <td>0.136977</td>\n      <td>0.136977</td>\n      <td>168.657489</td>\n      <td>...</td>\n      <td>3.6660</td>\n      <td>3.6835</td>\n      <td>3.7185</td>\n      <td>3.7025</td>\n      <td>3.7345</td>\n      <td>3.8335</td>\n      <td>3.8395</td>\n      <td>3.7970</td>\n      <td>3.7743</td>\n      <td>3.8205</td>\n    </tr>\n  </tbody>\n</table>\n<p>6037 rows × 29 columns</p>\n</div>"
     },
     "execution_count": 45,
     "metadata": {},
     "output_type": "execute_result"
    }
   ],
   "source": [
    "new_df"
   ]
  },
  {
   "cell_type": "code",
   "execution_count": 46,
   "metadata": {
    "collapsed": false,
    "ExecuteTime": {
     "end_time": "2023-12-01T23:22:39.669906Z",
     "start_time": "2023-12-01T23:22:39.398649700Z"
    }
   },
   "outputs": [
    {
     "data": {
      "text/plain": "           Date   Real_GDP    CPI  inflation_rate  PALLFNFINDEXM   DEXCHUS  \\\n0    2000-01-04  14096.033  168.8        3.376857      59.470000  0.120774   \n1    2000-01-05  14096.033  168.8        3.376857      59.470000  0.120776   \n2    2000-01-06  14096.033  168.8        3.376857      59.470000  0.120777   \n3    2000-01-07  14096.033  168.8        3.376857      59.470000  0.120782   \n4    2000-01-10  14096.033  168.8        3.376857      59.470000  0.120782   \n...         ...        ...    ...             ...            ...       ...   \n6032 2023-10-30  19374.000  307.0        6.600000     168.657489  0.136737   \n6033 2023-10-31  19374.000  307.0        6.600000     168.657489  0.136676   \n6034 2023-11-01  19374.000  307.0        6.600000     168.657489  0.136659   \n6035 2023-11-02  19374.000  307.0        6.600000     168.657489  0.136687   \n6036 2023-11-03  19374.000  307.0        6.600000     168.657489  0.136977   \n\n       DEXCHUS  PALLFNFINDEXM  inflation_rate    CPI  ...  Price(t-9)  \\\n0     0.120774      59.470000        3.376857  168.8  ...      0.8660   \n1     0.120776      59.470000        3.376857  168.8  ...      0.8565   \n2     0.120777      59.470000        3.376857  168.8  ...      0.8625   \n3     0.120782      59.470000        3.376857  168.8  ...      0.8660   \n4     0.120782      59.470000        3.376857  168.8  ...      0.8825   \n...        ...            ...             ...    ...  ...         ...   \n6032  0.136737     168.657489        6.600000  307.0  ...      3.6790   \n6033  0.136676     168.657489        6.600000  307.0  ...      3.6380   \n6034  0.136659     168.657489        6.600000  307.0  ...      3.6405   \n6035  0.136687     168.657489        6.600000  307.0  ...      3.5870   \n6036  0.136977     168.657489        6.600000  307.0  ...      3.6660   \n\n      Price(t-8)  Price(t-7)  Price(t-6)  Price(t-5)  Price(t-4)  Price(t-3)  \\\n0         0.8565      0.8625      0.8660      0.8825      0.8730      0.8730   \n1         0.8625      0.8660      0.8825      0.8730      0.8730      0.8565   \n2         0.8660      0.8825      0.8730      0.8730      0.8565      0.8425   \n3         0.8825      0.8730      0.8730      0.8565      0.8425      0.8415   \n4         0.8730      0.8730      0.8565      0.8425      0.8415      0.8445   \n...          ...         ...         ...         ...         ...         ...   \n6032      3.6380      3.6405      3.5870      3.6660      3.6835      3.7185   \n6033      3.6405      3.5870      3.6660      3.6835      3.7185      3.7025   \n6034      3.5870      3.6660      3.6835      3.7185      3.7025      3.7345   \n6035      3.6660      3.6835      3.7185      3.7025      3.7345      3.8335   \n6036      3.6835      3.7185      3.7025      3.7345      3.8335      3.8395   \n\n      Price(t-2)  Price(t-1)   Price  \n0         0.8565      0.8425  0.8415  \n1         0.8425      0.8415  0.8445  \n2         0.8415      0.8445  0.8400  \n3         0.8445      0.8400  0.8545  \n4         0.8400      0.8545  0.8480  \n...          ...         ...     ...  \n6032      3.7025      3.7345  3.8335  \n6033      3.7345      3.8335  3.8395  \n6034      3.8335      3.8395  3.7970  \n6035      3.8395      3.7970  3.7743  \n6036      3.7970      3.7743  3.8205  \n\n[6037 rows x 27 columns]",
      "text/html": "<div>\n<style scoped>\n    .dataframe tbody tr th:only-of-type {\n        vertical-align: middle;\n    }\n\n    .dataframe tbody tr th {\n        vertical-align: top;\n    }\n\n    .dataframe thead th {\n        text-align: right;\n    }\n</style>\n<table border=\"1\" class=\"dataframe\">\n  <thead>\n    <tr style=\"text-align: right;\">\n      <th></th>\n      <th>Date</th>\n      <th>Real_GDP</th>\n      <th>CPI</th>\n      <th>inflation_rate</th>\n      <th>PALLFNFINDEXM</th>\n      <th>DEXCHUS</th>\n      <th>DEXCHUS</th>\n      <th>PALLFNFINDEXM</th>\n      <th>inflation_rate</th>\n      <th>CPI</th>\n      <th>...</th>\n      <th>Price(t-9)</th>\n      <th>Price(t-8)</th>\n      <th>Price(t-7)</th>\n      <th>Price(t-6)</th>\n      <th>Price(t-5)</th>\n      <th>Price(t-4)</th>\n      <th>Price(t-3)</th>\n      <th>Price(t-2)</th>\n      <th>Price(t-1)</th>\n      <th>Price</th>\n    </tr>\n  </thead>\n  <tbody>\n    <tr>\n      <th>0</th>\n      <td>2000-01-04</td>\n      <td>14096.033</td>\n      <td>168.8</td>\n      <td>3.376857</td>\n      <td>59.470000</td>\n      <td>0.120774</td>\n      <td>0.120774</td>\n      <td>59.470000</td>\n      <td>3.376857</td>\n      <td>168.8</td>\n      <td>...</td>\n      <td>0.8660</td>\n      <td>0.8565</td>\n      <td>0.8625</td>\n      <td>0.8660</td>\n      <td>0.8825</td>\n      <td>0.8730</td>\n      <td>0.8730</td>\n      <td>0.8565</td>\n      <td>0.8425</td>\n      <td>0.8415</td>\n    </tr>\n    <tr>\n      <th>1</th>\n      <td>2000-01-05</td>\n      <td>14096.033</td>\n      <td>168.8</td>\n      <td>3.376857</td>\n      <td>59.470000</td>\n      <td>0.120776</td>\n      <td>0.120776</td>\n      <td>59.470000</td>\n      <td>3.376857</td>\n      <td>168.8</td>\n      <td>...</td>\n      <td>0.8565</td>\n      <td>0.8625</td>\n      <td>0.8660</td>\n      <td>0.8825</td>\n      <td>0.8730</td>\n      <td>0.8730</td>\n      <td>0.8565</td>\n      <td>0.8425</td>\n      <td>0.8415</td>\n      <td>0.8445</td>\n    </tr>\n    <tr>\n      <th>2</th>\n      <td>2000-01-06</td>\n      <td>14096.033</td>\n      <td>168.8</td>\n      <td>3.376857</td>\n      <td>59.470000</td>\n      <td>0.120777</td>\n      <td>0.120777</td>\n      <td>59.470000</td>\n      <td>3.376857</td>\n      <td>168.8</td>\n      <td>...</td>\n      <td>0.8625</td>\n      <td>0.8660</td>\n      <td>0.8825</td>\n      <td>0.8730</td>\n      <td>0.8730</td>\n      <td>0.8565</td>\n      <td>0.8425</td>\n      <td>0.8415</td>\n      <td>0.8445</td>\n      <td>0.8400</td>\n    </tr>\n    <tr>\n      <th>3</th>\n      <td>2000-01-07</td>\n      <td>14096.033</td>\n      <td>168.8</td>\n      <td>3.376857</td>\n      <td>59.470000</td>\n      <td>0.120782</td>\n      <td>0.120782</td>\n      <td>59.470000</td>\n      <td>3.376857</td>\n      <td>168.8</td>\n      <td>...</td>\n      <td>0.8660</td>\n      <td>0.8825</td>\n      <td>0.8730</td>\n      <td>0.8730</td>\n      <td>0.8565</td>\n      <td>0.8425</td>\n      <td>0.8415</td>\n      <td>0.8445</td>\n      <td>0.8400</td>\n      <td>0.8545</td>\n    </tr>\n    <tr>\n      <th>4</th>\n      <td>2000-01-10</td>\n      <td>14096.033</td>\n      <td>168.8</td>\n      <td>3.376857</td>\n      <td>59.470000</td>\n      <td>0.120782</td>\n      <td>0.120782</td>\n      <td>59.470000</td>\n      <td>3.376857</td>\n      <td>168.8</td>\n      <td>...</td>\n      <td>0.8825</td>\n      <td>0.8730</td>\n      <td>0.8730</td>\n      <td>0.8565</td>\n      <td>0.8425</td>\n      <td>0.8415</td>\n      <td>0.8445</td>\n      <td>0.8400</td>\n      <td>0.8545</td>\n      <td>0.8480</td>\n    </tr>\n    <tr>\n      <th>...</th>\n      <td>...</td>\n      <td>...</td>\n      <td>...</td>\n      <td>...</td>\n      <td>...</td>\n      <td>...</td>\n      <td>...</td>\n      <td>...</td>\n      <td>...</td>\n      <td>...</td>\n      <td>...</td>\n      <td>...</td>\n      <td>...</td>\n      <td>...</td>\n      <td>...</td>\n      <td>...</td>\n      <td>...</td>\n      <td>...</td>\n      <td>...</td>\n      <td>...</td>\n      <td>...</td>\n    </tr>\n    <tr>\n      <th>6032</th>\n      <td>2023-10-30</td>\n      <td>19374.000</td>\n      <td>307.0</td>\n      <td>6.600000</td>\n      <td>168.657489</td>\n      <td>0.136737</td>\n      <td>0.136737</td>\n      <td>168.657489</td>\n      <td>6.600000</td>\n      <td>307.0</td>\n      <td>...</td>\n      <td>3.6790</td>\n      <td>3.6380</td>\n      <td>3.6405</td>\n      <td>3.5870</td>\n      <td>3.6660</td>\n      <td>3.6835</td>\n      <td>3.7185</td>\n      <td>3.7025</td>\n      <td>3.7345</td>\n      <td>3.8335</td>\n    </tr>\n    <tr>\n      <th>6033</th>\n      <td>2023-10-31</td>\n      <td>19374.000</td>\n      <td>307.0</td>\n      <td>6.600000</td>\n      <td>168.657489</td>\n      <td>0.136676</td>\n      <td>0.136676</td>\n      <td>168.657489</td>\n      <td>6.600000</td>\n      <td>307.0</td>\n      <td>...</td>\n      <td>3.6380</td>\n      <td>3.6405</td>\n      <td>3.5870</td>\n      <td>3.6660</td>\n      <td>3.6835</td>\n      <td>3.7185</td>\n      <td>3.7025</td>\n      <td>3.7345</td>\n      <td>3.8335</td>\n      <td>3.8395</td>\n    </tr>\n    <tr>\n      <th>6034</th>\n      <td>2023-11-01</td>\n      <td>19374.000</td>\n      <td>307.0</td>\n      <td>6.600000</td>\n      <td>168.657489</td>\n      <td>0.136659</td>\n      <td>0.136659</td>\n      <td>168.657489</td>\n      <td>6.600000</td>\n      <td>307.0</td>\n      <td>...</td>\n      <td>3.6405</td>\n      <td>3.5870</td>\n      <td>3.6660</td>\n      <td>3.6835</td>\n      <td>3.7185</td>\n      <td>3.7025</td>\n      <td>3.7345</td>\n      <td>3.8335</td>\n      <td>3.8395</td>\n      <td>3.7970</td>\n    </tr>\n    <tr>\n      <th>6035</th>\n      <td>2023-11-02</td>\n      <td>19374.000</td>\n      <td>307.0</td>\n      <td>6.600000</td>\n      <td>168.657489</td>\n      <td>0.136687</td>\n      <td>0.136687</td>\n      <td>168.657489</td>\n      <td>6.600000</td>\n      <td>307.0</td>\n      <td>...</td>\n      <td>3.5870</td>\n      <td>3.6660</td>\n      <td>3.6835</td>\n      <td>3.7185</td>\n      <td>3.7025</td>\n      <td>3.7345</td>\n      <td>3.8335</td>\n      <td>3.8395</td>\n      <td>3.7970</td>\n      <td>3.7743</td>\n    </tr>\n    <tr>\n      <th>6036</th>\n      <td>2023-11-03</td>\n      <td>19374.000</td>\n      <td>307.0</td>\n      <td>6.600000</td>\n      <td>168.657489</td>\n      <td>0.136977</td>\n      <td>0.136977</td>\n      <td>168.657489</td>\n      <td>6.600000</td>\n      <td>307.0</td>\n      <td>...</td>\n      <td>3.6660</td>\n      <td>3.6835</td>\n      <td>3.7185</td>\n      <td>3.7025</td>\n      <td>3.7345</td>\n      <td>3.8335</td>\n      <td>3.8395</td>\n      <td>3.7970</td>\n      <td>3.7743</td>\n      <td>3.8205</td>\n    </tr>\n  </tbody>\n</table>\n<p>6037 rows × 27 columns</p>\n</div>"
     },
     "execution_count": 46,
     "metadata": {},
     "output_type": "execute_result"
    }
   ],
   "source": [
    "new_df.drop(columns=['Month', 'Year'], inplace=True)\n",
    "new_df"
   ]
  },
  {
   "cell_type": "code",
   "execution_count": 47,
   "metadata": {
    "colab": {
     "base_uri": "https://localhost:8080/",
     "height": 423
    },
    "id": "1q72WvTiQgZB",
    "outputId": "a5ffcc96-3572-422e-f9a1-1ab575efaaf2",
    "ExecuteTime": {
     "end_time": "2023-12-01T23:22:39.670906200Z",
     "start_time": "2023-12-01T23:22:39.421402400Z"
    }
   },
   "outputs": [
    {
     "data": {
      "text/plain": "       DEXCHUS  PALLFNFINDEXM  inflation_rate    CPI   Real_GDP  Price(t-15)  \\\n0     0.120774      59.470000        3.376857  168.8  14096.033       0.8480   \n1     0.120776      59.470000        3.376857  168.8  14096.033       0.8565   \n2     0.120777      59.470000        3.376857  168.8  14096.033       0.8530   \n3     0.120782      59.470000        3.376857  168.8  14096.033       0.8540   \n4     0.120782      59.470000        3.376857  168.8  14096.033       0.8465   \n...        ...            ...             ...    ...        ...          ...   \n6032  0.136737     168.657489        6.600000  307.0  19374.000       3.6585   \n6033  0.136676     168.657489        6.600000  307.0  19374.000       3.6490   \n6034  0.136659     168.657489        6.600000  307.0  19374.000       3.6490   \n6035  0.136687     168.657489        6.600000  307.0  19374.000       3.6725   \n6036  0.136977     168.657489        6.600000  307.0  19374.000       3.6815   \n\n      Price(t-14)  Price(t-13)  Price(t-12)  Price(t-11)  ...  Price(t-9)  \\\n0          0.8565       0.8530       0.8540       0.8465  ...      0.8660   \n1          0.8530       0.8540       0.8465       0.8435  ...      0.8565   \n2          0.8540       0.8465       0.8435       0.8660  ...      0.8625   \n3          0.8465       0.8435       0.8660       0.8565  ...      0.8660   \n4          0.8435       0.8660       0.8565       0.8625  ...      0.8825   \n...           ...          ...          ...          ...  ...         ...   \n6032       3.6490       3.6490       3.6725       3.6815  ...      3.6790   \n6033       3.6490       3.6725       3.6815       3.7190  ...      3.6380   \n6034       3.6725       3.6815       3.7190       3.6790  ...      3.6405   \n6035       3.6815       3.7190       3.6790       3.6380  ...      3.5870   \n6036       3.7190       3.6790       3.6380       3.6405  ...      3.6660   \n\n      Price(t-8)  Price(t-7)  Price(t-6)  Price(t-5)  Price(t-4)  Price(t-3)  \\\n0         0.8565      0.8625      0.8660      0.8825      0.8730      0.8730   \n1         0.8625      0.8660      0.8825      0.8730      0.8730      0.8565   \n2         0.8660      0.8825      0.8730      0.8730      0.8565      0.8425   \n3         0.8825      0.8730      0.8730      0.8565      0.8425      0.8415   \n4         0.8730      0.8730      0.8565      0.8425      0.8415      0.8445   \n...          ...         ...         ...         ...         ...         ...   \n6032      3.6380      3.6405      3.5870      3.6660      3.6835      3.7185   \n6033      3.6405      3.5870      3.6660      3.6835      3.7185      3.7025   \n6034      3.5870      3.6660      3.6835      3.7185      3.7025      3.7345   \n6035      3.6660      3.6835      3.7185      3.7025      3.7345      3.8335   \n6036      3.6835      3.7185      3.7025      3.7345      3.8335      3.8395   \n\n      Price(t-2)  Price(t-1)   Price  \n0         0.8565      0.8425  0.8415  \n1         0.8425      0.8415  0.8445  \n2         0.8415      0.8445  0.8400  \n3         0.8445      0.8400  0.8545  \n4         0.8400      0.8545  0.8480  \n...          ...         ...     ...  \n6032      3.7025      3.7345  3.8335  \n6033      3.7345      3.8335  3.8395  \n6034      3.8335      3.8395  3.7970  \n6035      3.8395      3.7970  3.7743  \n6036      3.7970      3.7743  3.8205  \n\n[6037 rows x 21 columns]",
      "text/html": "<div>\n<style scoped>\n    .dataframe tbody tr th:only-of-type {\n        vertical-align: middle;\n    }\n\n    .dataframe tbody tr th {\n        vertical-align: top;\n    }\n\n    .dataframe thead th {\n        text-align: right;\n    }\n</style>\n<table border=\"1\" class=\"dataframe\">\n  <thead>\n    <tr style=\"text-align: right;\">\n      <th></th>\n      <th>DEXCHUS</th>\n      <th>PALLFNFINDEXM</th>\n      <th>inflation_rate</th>\n      <th>CPI</th>\n      <th>Real_GDP</th>\n      <th>Price(t-15)</th>\n      <th>Price(t-14)</th>\n      <th>Price(t-13)</th>\n      <th>Price(t-12)</th>\n      <th>Price(t-11)</th>\n      <th>...</th>\n      <th>Price(t-9)</th>\n      <th>Price(t-8)</th>\n      <th>Price(t-7)</th>\n      <th>Price(t-6)</th>\n      <th>Price(t-5)</th>\n      <th>Price(t-4)</th>\n      <th>Price(t-3)</th>\n      <th>Price(t-2)</th>\n      <th>Price(t-1)</th>\n      <th>Price</th>\n    </tr>\n  </thead>\n  <tbody>\n    <tr>\n      <th>0</th>\n      <td>0.120774</td>\n      <td>59.470000</td>\n      <td>3.376857</td>\n      <td>168.8</td>\n      <td>14096.033</td>\n      <td>0.8480</td>\n      <td>0.8565</td>\n      <td>0.8530</td>\n      <td>0.8540</td>\n      <td>0.8465</td>\n      <td>...</td>\n      <td>0.8660</td>\n      <td>0.8565</td>\n      <td>0.8625</td>\n      <td>0.8660</td>\n      <td>0.8825</td>\n      <td>0.8730</td>\n      <td>0.8730</td>\n      <td>0.8565</td>\n      <td>0.8425</td>\n      <td>0.8415</td>\n    </tr>\n    <tr>\n      <th>1</th>\n      <td>0.120776</td>\n      <td>59.470000</td>\n      <td>3.376857</td>\n      <td>168.8</td>\n      <td>14096.033</td>\n      <td>0.8565</td>\n      <td>0.8530</td>\n      <td>0.8540</td>\n      <td>0.8465</td>\n      <td>0.8435</td>\n      <td>...</td>\n      <td>0.8565</td>\n      <td>0.8625</td>\n      <td>0.8660</td>\n      <td>0.8825</td>\n      <td>0.8730</td>\n      <td>0.8730</td>\n      <td>0.8565</td>\n      <td>0.8425</td>\n      <td>0.8415</td>\n      <td>0.8445</td>\n    </tr>\n    <tr>\n      <th>2</th>\n      <td>0.120777</td>\n      <td>59.470000</td>\n      <td>3.376857</td>\n      <td>168.8</td>\n      <td>14096.033</td>\n      <td>0.8530</td>\n      <td>0.8540</td>\n      <td>0.8465</td>\n      <td>0.8435</td>\n      <td>0.8660</td>\n      <td>...</td>\n      <td>0.8625</td>\n      <td>0.8660</td>\n      <td>0.8825</td>\n      <td>0.8730</td>\n      <td>0.8730</td>\n      <td>0.8565</td>\n      <td>0.8425</td>\n      <td>0.8415</td>\n      <td>0.8445</td>\n      <td>0.8400</td>\n    </tr>\n    <tr>\n      <th>3</th>\n      <td>0.120782</td>\n      <td>59.470000</td>\n      <td>3.376857</td>\n      <td>168.8</td>\n      <td>14096.033</td>\n      <td>0.8540</td>\n      <td>0.8465</td>\n      <td>0.8435</td>\n      <td>0.8660</td>\n      <td>0.8565</td>\n      <td>...</td>\n      <td>0.8660</td>\n      <td>0.8825</td>\n      <td>0.8730</td>\n      <td>0.8730</td>\n      <td>0.8565</td>\n      <td>0.8425</td>\n      <td>0.8415</td>\n      <td>0.8445</td>\n      <td>0.8400</td>\n      <td>0.8545</td>\n    </tr>\n    <tr>\n      <th>4</th>\n      <td>0.120782</td>\n      <td>59.470000</td>\n      <td>3.376857</td>\n      <td>168.8</td>\n      <td>14096.033</td>\n      <td>0.8465</td>\n      <td>0.8435</td>\n      <td>0.8660</td>\n      <td>0.8565</td>\n      <td>0.8625</td>\n      <td>...</td>\n      <td>0.8825</td>\n      <td>0.8730</td>\n      <td>0.8730</td>\n      <td>0.8565</td>\n      <td>0.8425</td>\n      <td>0.8415</td>\n      <td>0.8445</td>\n      <td>0.8400</td>\n      <td>0.8545</td>\n      <td>0.8480</td>\n    </tr>\n    <tr>\n      <th>...</th>\n      <td>...</td>\n      <td>...</td>\n      <td>...</td>\n      <td>...</td>\n      <td>...</td>\n      <td>...</td>\n      <td>...</td>\n      <td>...</td>\n      <td>...</td>\n      <td>...</td>\n      <td>...</td>\n      <td>...</td>\n      <td>...</td>\n      <td>...</td>\n      <td>...</td>\n      <td>...</td>\n      <td>...</td>\n      <td>...</td>\n      <td>...</td>\n      <td>...</td>\n      <td>...</td>\n    </tr>\n    <tr>\n      <th>6032</th>\n      <td>0.136737</td>\n      <td>168.657489</td>\n      <td>6.600000</td>\n      <td>307.0</td>\n      <td>19374.000</td>\n      <td>3.6585</td>\n      <td>3.6490</td>\n      <td>3.6490</td>\n      <td>3.6725</td>\n      <td>3.6815</td>\n      <td>...</td>\n      <td>3.6790</td>\n      <td>3.6380</td>\n      <td>3.6405</td>\n      <td>3.5870</td>\n      <td>3.6660</td>\n      <td>3.6835</td>\n      <td>3.7185</td>\n      <td>3.7025</td>\n      <td>3.7345</td>\n      <td>3.8335</td>\n    </tr>\n    <tr>\n      <th>6033</th>\n      <td>0.136676</td>\n      <td>168.657489</td>\n      <td>6.600000</td>\n      <td>307.0</td>\n      <td>19374.000</td>\n      <td>3.6490</td>\n      <td>3.6490</td>\n      <td>3.6725</td>\n      <td>3.6815</td>\n      <td>3.7190</td>\n      <td>...</td>\n      <td>3.6380</td>\n      <td>3.6405</td>\n      <td>3.5870</td>\n      <td>3.6660</td>\n      <td>3.6835</td>\n      <td>3.7185</td>\n      <td>3.7025</td>\n      <td>3.7345</td>\n      <td>3.8335</td>\n      <td>3.8395</td>\n    </tr>\n    <tr>\n      <th>6034</th>\n      <td>0.136659</td>\n      <td>168.657489</td>\n      <td>6.600000</td>\n      <td>307.0</td>\n      <td>19374.000</td>\n      <td>3.6490</td>\n      <td>3.6725</td>\n      <td>3.6815</td>\n      <td>3.7190</td>\n      <td>3.6790</td>\n      <td>...</td>\n      <td>3.6405</td>\n      <td>3.5870</td>\n      <td>3.6660</td>\n      <td>3.6835</td>\n      <td>3.7185</td>\n      <td>3.7025</td>\n      <td>3.7345</td>\n      <td>3.8335</td>\n      <td>3.8395</td>\n      <td>3.7970</td>\n    </tr>\n    <tr>\n      <th>6035</th>\n      <td>0.136687</td>\n      <td>168.657489</td>\n      <td>6.600000</td>\n      <td>307.0</td>\n      <td>19374.000</td>\n      <td>3.6725</td>\n      <td>3.6815</td>\n      <td>3.7190</td>\n      <td>3.6790</td>\n      <td>3.6380</td>\n      <td>...</td>\n      <td>3.5870</td>\n      <td>3.6660</td>\n      <td>3.6835</td>\n      <td>3.7185</td>\n      <td>3.7025</td>\n      <td>3.7345</td>\n      <td>3.8335</td>\n      <td>3.8395</td>\n      <td>3.7970</td>\n      <td>3.7743</td>\n    </tr>\n    <tr>\n      <th>6036</th>\n      <td>0.136977</td>\n      <td>168.657489</td>\n      <td>6.600000</td>\n      <td>307.0</td>\n      <td>19374.000</td>\n      <td>3.6815</td>\n      <td>3.7190</td>\n      <td>3.6790</td>\n      <td>3.6380</td>\n      <td>3.6405</td>\n      <td>...</td>\n      <td>3.6660</td>\n      <td>3.6835</td>\n      <td>3.7185</td>\n      <td>3.7025</td>\n      <td>3.7345</td>\n      <td>3.8335</td>\n      <td>3.8395</td>\n      <td>3.7970</td>\n      <td>3.7743</td>\n      <td>3.8205</td>\n    </tr>\n  </tbody>\n</table>\n<p>6037 rows × 21 columns</p>\n</div>"
     },
     "execution_count": 47,
     "metadata": {},
     "output_type": "execute_result"
    }
   ],
   "source": [
    "flipped_df"
   ]
  },
  {
   "cell_type": "code",
   "execution_count": 48,
   "metadata": {
    "colab": {
     "base_uri": "https://localhost:8080/"
    },
    "id": "6fSq0PmcQgZB",
    "outputId": "36199b8f-ed6e-43bc-b4fd-ad3aff90bb21",
    "ExecuteTime": {
     "end_time": "2023-12-01T23:22:39.671906Z",
     "start_time": "2023-12-01T23:22:39.439265800Z"
    }
   },
   "outputs": [
    {
     "data": {
      "text/plain": "array([[1.20774405e-01, 5.94700000e+01, 3.37685727e+00, ...,\n        8.56500000e-01, 8.42500000e-01, 8.41500000e-01],\n       [1.20775864e-01, 5.94700000e+01, 3.37685727e+00, ...,\n        8.42500000e-01, 8.41500000e-01, 8.44500000e-01],\n       [1.20777323e-01, 5.94700000e+01, 3.37685727e+00, ...,\n        8.41500000e-01, 8.44500000e-01, 8.40000000e-01],\n       ...,\n       [1.36658695e-01, 1.68657489e+02, 6.60000000e+00, ...,\n        3.83350000e+00, 3.83950000e+00, 3.79700000e+00],\n       [1.36686714e-01, 1.68657489e+02, 6.60000000e+00, ...,\n        3.83950000e+00, 3.79700000e+00, 3.77430000e+00],\n       [1.36976919e-01, 1.68657489e+02, 6.60000000e+00, ...,\n        3.79700000e+00, 3.77430000e+00, 3.82050000e+00]])"
     },
     "execution_count": 48,
     "metadata": {},
     "output_type": "execute_result"
    }
   ],
   "source": [
    "flipped_df_before_scaling_as_np = flipped_df.to_numpy()\n",
    "flipped_df_before_scaling_as_np"
   ]
  },
  {
   "cell_type": "code",
   "execution_count": 49,
   "metadata": {
    "id": "TdLlsInvQgZG",
    "ExecuteTime": {
     "end_time": "2023-12-01T23:22:39.671906Z",
     "start_time": "2023-12-01T23:22:39.446133500Z"
    }
   },
   "outputs": [],
   "source": [
    "#price_scaler = MinMaxScaler(feature_range=(-1, 1))\n",
    "#scaled_prices = price_scaler.fit_transform(flipped_df_before_scaling_as_np)"
   ]
  },
  {
   "cell_type": "code",
   "execution_count": 50,
   "metadata": {
    "colab": {
     "base_uri": "https://localhost:8080/"
    },
    "id": "xaCzAzXXQgZG",
    "outputId": "2cea2120-ce96-4ae8-f111-0c57f4e49b0f",
    "ExecuteTime": {
     "end_time": "2023-12-01T23:22:39.671906Z",
     "start_time": "2023-12-01T23:22:39.449175700Z"
    }
   },
   "outputs": [
    {
     "data": {
      "text/plain": "array([[-0.89235389, -0.89189189, -0.88542389, ..., -0.88704089,\n        -0.88542389, -0.88935089],\n       [-0.89096789, -0.89235389, -0.89189189, ..., -0.88657889,\n        -0.88704089, -0.88542389],\n       [-0.89304689, -0.89096789, -0.89235389, ..., -0.89004389,\n        -0.88657889, -0.88704089],\n       ...,\n       [ 0.47308847,  0.49272349,  0.48995149, ...,  0.41972742,\n         0.41556942,  0.4047124 ],\n       [ 0.46260106,  0.47308847,  0.49272349, ...,  0.43705244,\n         0.41972742,  0.41556942],\n       [ 0.48394548,  0.46260106,  0.47308847, ...,  0.41857242,\n         0.43705244,  0.41972742]])"
     },
     "execution_count": 50,
     "metadata": {},
     "output_type": "execute_result"
    }
   ],
   "source": [
    "scaled_prices"
   ]
  },
  {
   "cell_type": "code",
   "execution_count": 51,
   "metadata": {
    "colab": {
     "base_uri": "https://localhost:8080/"
    },
    "id": "q4mXp_1ZQgZG",
    "outputId": "2dc202d8-75e3-4c9d-80a4-10e4dba22a42",
    "ExecuteTime": {
     "end_time": "2023-12-01T23:22:39.671906Z",
     "start_time": "2023-12-01T23:22:39.455579300Z"
    }
   },
   "outputs": [
    {
     "data": {
      "text/plain": "array([[-1.        , -1.        , -0.10690381, ..., -0.88704089,\n        -0.88542389, -0.88935089],\n       [-1.        , -1.        , -0.10690381, ..., -0.88657889,\n        -0.88704089, -0.88542389],\n       [-1.        , -1.        , -0.10690381, ..., -0.89004389,\n        -0.88657889, -0.88704089],\n       ...,\n       [ 0.36628638,  0.98864658,  0.66433555, ...,  0.41972742,\n         0.41556942,  0.4047124 ],\n       [ 0.36628638,  0.98864658,  0.66433555, ...,  0.43705244,\n         0.41972742,  0.41556942],\n       [ 0.36628638,  0.98864658,  0.66433555, ...,  0.41857242,\n         0.43705244,  0.41972742]])"
     },
     "execution_count": 51,
     "metadata": {},
     "output_type": "execute_result"
    }
   ],
   "source": [
    "result = np.concatenate((scaled_GDP, scaled_CPI, scaled_IR, scaled_PALLFNFINDEXM,scaled_DEXCHUS, scaled_prices), axis=1)\n",
    "result"
   ]
  },
  {
   "cell_type": "code",
   "execution_count": 52,
   "metadata": {
    "colab": {
     "base_uri": "https://localhost:8080/"
    },
    "id": "HLocb9xtQgZG",
    "outputId": "fa9a7d85-a1ed-470d-e2b8-fd4b5dec46b1",
    "ExecuteTime": {
     "end_time": "2023-12-01T23:22:39.672905900Z",
     "start_time": "2023-12-01T23:22:39.461627400Z"
    }
   },
   "outputs": [
    {
     "data": {
      "text/plain": "(6037, 20)"
     },
     "execution_count": 52,
     "metadata": {},
     "output_type": "execute_result"
    }
   ],
   "source": [
    "X = result[:, 0:LOOKBACK+5]\n",
    "y = result[:, LOOKBACK+5]\n",
    "X = X.astype(np.float32)\n",
    "y = y.astype(np.float32)\n",
    "X.shape"
   ]
  },
  {
   "cell_type": "code",
   "execution_count": 53,
   "metadata": {
    "collapsed": false,
    "ExecuteTime": {
     "end_time": "2023-12-01T23:22:39.672905900Z",
     "start_time": "2023-12-01T23:22:39.467071100Z"
    }
   },
   "outputs": [
    {
     "data": {
      "text/plain": "array([[-1.        , -1.        , -0.10690381, ..., -0.88657886,\n        -0.8870409 , -0.8854239 ],\n       [-1.        , -1.        , -0.10690381, ..., -0.8900439 ,\n        -0.88657886, -0.8870409 ],\n       [-1.        , -1.        , -0.10690381, ..., -0.8914299 ,\n        -0.8900439 , -0.88657886],\n       ...,\n       [ 0.36628637,  0.98864657,  0.66433555, ...,  0.43705243,\n         0.4197274 ,  0.41556942],\n       [ 0.36628637,  0.98864657,  0.66433555, ...,  0.41857243,\n         0.43705243,  0.4197274 ],\n       [ 0.36628637,  0.98864657,  0.66433555, ...,  0.3996304 ,\n         0.41857243,  0.43705243]], dtype=float32)"
     },
     "execution_count": 53,
     "metadata": {},
     "output_type": "execute_result"
    }
   ],
   "source": [
    "X"
   ]
  },
  {
   "cell_type": "code",
   "execution_count": 54,
   "metadata": {
    "colab": {
     "base_uri": "https://localhost:8080/"
    },
    "id": "DJX1mVi2QgZH",
    "outputId": "e0d7158b-c500-4ab8-ea08-20d3ca5e840a",
    "ExecuteTime": {
     "end_time": "2023-12-01T23:22:39.672905900Z",
     "start_time": "2023-12-01T23:22:39.471613Z"
    }
   },
   "outputs": [
    {
     "data": {
      "text/plain": "0      2000-01-26\n1      2000-01-27\n2      2000-01-28\n3      2000-01-31\n4      2000-02-01\n          ...    \n4824   2019-03-29\n4825   2019-04-01\n4826   2019-04-02\n4827   2019-04-03\n4828   2019-04-04\nName: Date, Length: 4829, dtype: datetime64[ns]"
     },
     "execution_count": 54,
     "metadata": {},
     "output_type": "execute_result"
    }
   ],
   "source": [
    "\n",
    "split_index = int(len(X) * 0.80)\n",
    "split_date = dates[split_index]\n",
    "\n",
    "X_train = X[:split_index]\n",
    "X_test = X[split_index:]\n",
    "y_train = y[:split_index]\n",
    "y_test = y[split_index:]\n",
    "train_dates = dates[:split_index]\n",
    "test_dates = dates[split_index:]\n",
    "train_dates"
   ]
  },
  {
   "cell_type": "code",
   "execution_count": 55,
   "metadata": {
    "collapsed": false,
    "ExecuteTime": {
     "end_time": "2023-12-01T23:22:39.673906Z",
     "start_time": "2023-12-01T23:22:39.478673100Z"
    }
   },
   "outputs": [
    {
     "data": {
      "text/plain": "(4829, 20)"
     },
     "execution_count": 55,
     "metadata": {},
     "output_type": "execute_result"
    }
   ],
   "source": [
    "X_train.shape"
   ]
  },
  {
   "cell_type": "code",
   "execution_count": 56,
   "metadata": {
    "id": "Y_8mJkJ8QgZH",
    "ExecuteTime": {
     "end_time": "2023-12-01T23:22:39.673906Z",
     "start_time": "2023-12-01T23:22:39.483438100Z"
    }
   },
   "outputs": [
    {
     "data": {
      "text/plain": "((4829, 20, 1), (1208, 20, 1), (4829, 1), (1208, 1))"
     },
     "execution_count": 56,
     "metadata": {},
     "output_type": "execute_result"
    }
   ],
   "source": [
    "X = X.reshape((-1, LOOKBACK+5, 1))\n",
    "X_train = X_train.reshape((-1, LOOKBACK+5, 1))\n",
    "X_test = X_test.reshape((-1, LOOKBACK+5, 1))\n",
    "\n",
    "y = y.reshape((-1, 1))\n",
    "y_train = y_train.reshape((-1, 1))\n",
    "y_test = y_test.reshape((-1, 1))\n",
    "X_train.shape, X_test.shape, y_train.shape, y_test.shape"
   ]
  },
  {
   "cell_type": "code",
   "execution_count": 57,
   "metadata": {
    "colab": {
     "base_uri": "https://localhost:8080/"
    },
    "id": "EiFJNgZnQgZH",
    "outputId": "5d8166ea-1971-4f4c-ad56-0da120f77d40",
    "ExecuteTime": {
     "end_time": "2023-12-01T23:22:39.673906Z",
     "start_time": "2023-12-01T23:22:39.489625500Z"
    }
   },
   "outputs": [
    {
     "data": {
      "text/plain": "torch.float32"
     },
     "execution_count": 57,
     "metadata": {},
     "output_type": "execute_result"
    }
   ],
   "source": [
    "X = torch.tensor(X).float()\n",
    "y = torch.tensor(y).float()\n",
    "X_train = torch.tensor(X_train).float()\n",
    "y_train = torch.tensor(y_train).float()\n",
    "X_test = torch.tensor(X_test).float()\n",
    "y_test = torch.tensor(y_test).float()\n",
    "\n",
    "X_test.dtype"
   ]
  },
  {
   "cell_type": "code",
   "execution_count": 58,
   "metadata": {
    "colab": {
     "base_uri": "https://localhost:8080/"
    },
    "id": "rhjEHK00QgZI",
    "outputId": "272c4b1f-1e2f-4643-8863-23f4a8f039e2",
    "ExecuteTime": {
     "end_time": "2023-12-01T23:22:39.674907900Z",
     "start_time": "2023-12-01T23:22:39.515066400Z"
    }
   },
   "outputs": [
    {
     "data": {
      "text/plain": "torch.Size([4829, 1])"
     },
     "execution_count": 58,
     "metadata": {},
     "output_type": "execute_result"
    }
   ],
   "source": [
    "y_train.shape"
   ]
  },
  {
   "cell_type": "code",
   "execution_count": 59,
   "metadata": {
    "id": "kaTJ_Tr2QgZI",
    "ExecuteTime": {
     "end_time": "2023-12-01T23:22:39.674907900Z",
     "start_time": "2023-12-01T23:22:39.523040800Z"
    }
   },
   "outputs": [],
   "source": [
    "class TimeSeriesDataset(Dataset):\n",
    "    def __init__(self, X, y):\n",
    "        self.X = X\n",
    "        self.y = y\n",
    "\n",
    "    def __len__(self):\n",
    "        return len(self.X)\n",
    "\n",
    "    def __getitem__(self, i):\n",
    "        return self.X[i], self.y[i]\n",
    "\n",
    "train_dataset = TimeSeriesDataset(X, y)\n",
    "test_dataset = TimeSeriesDataset(X_test, y_test)"
   ]
  },
  {
   "cell_type": "code",
   "execution_count": 60,
   "metadata": {
    "id": "e_prAT_PQgZI",
    "ExecuteTime": {
     "end_time": "2023-12-01T23:22:39.674907900Z",
     "start_time": "2023-12-01T23:22:39.527293100Z"
    }
   },
   "outputs": [],
   "source": [
    "batch_size = 8\n",
    "train_loader = DataLoader(train_dataset, batch_size=batch_size, shuffle=True)\n",
    "test_loader = DataLoader(test_dataset, batch_size=batch_size, shuffle=False)"
   ]
  },
  {
   "cell_type": "code",
   "execution_count": 61,
   "outputs": [
    {
     "name": "stdout",
     "output_type": "stream",
     "text": [
      "torch.Size([8, 20, 1]) torch.Size([8, 1])\n"
     ]
    }
   ],
   "source": [
    "for _, batch in enumerate(train_loader):\n",
    "    x_batch, y_batch = batch[0].to(device), batch[1].to(device)\n",
    "    print(x_batch.shape, y_batch.shape)\n",
    "    break"
   ],
   "metadata": {
    "collapsed": false,
    "ExecuteTime": {
     "end_time": "2023-12-01T23:22:39.674907900Z",
     "start_time": "2023-12-01T23:22:39.531496900Z"
    }
   }
  },
  {
   "cell_type": "code",
   "execution_count": 62,
   "metadata": {
    "colab": {
     "base_uri": "https://localhost:8080/"
    },
    "id": "MsjJmmbLQgZI",
    "outputId": "f25c6b2c-4c90-48e4-a03b-f7812a42e38e",
    "ExecuteTime": {
     "end_time": "2023-12-01T23:22:39.674907900Z",
     "start_time": "2023-12-01T23:22:39.559497500Z"
    }
   },
   "outputs": [
    {
     "data": {
      "text/plain": "LSTM(\n  (lstm): LSTM(1, 12, batch_first=True)\n  (fc): Linear(in_features=12, out_features=1, bias=True)\n)"
     },
     "execution_count": 62,
     "metadata": {},
     "output_type": "execute_result"
    }
   ],
   "source": [
    "class LSTM(nn.Module):\n",
    "    def __init__(self, input_size, hidden_size, num_stacked_layers):\n",
    "        super().__init__()\n",
    "        self.hidden_size = hidden_size\n",
    "        self.num_stacked_layers = num_stacked_layers\n",
    "\n",
    "        self.lstm = nn.LSTM(input_size, hidden_size, num_stacked_layers,\n",
    "                            batch_first=True)\n",
    "\n",
    "        self.fc = nn.Linear(hidden_size, 1)\n",
    "\n",
    "    def forward(self, x):\n",
    "        batch_size = x.size(0)\n",
    "        h0 = torch.zeros(self.num_stacked_layers, batch_size, self.hidden_size).to(device)\n",
    "        c0 = torch.zeros(self.num_stacked_layers, batch_size, self.hidden_size).to(device)\n",
    "\n",
    "        out, _ = self.lstm(x, (h0, c0))\n",
    "        out = self.fc(out[:, -1, :])\n",
    "        return out\n",
    "\n",
    "model = LSTM(1, 12, 1)\n",
    "model.to(device)\n",
    "model"
   ]
  },
  {
   "cell_type": "code",
   "execution_count": 63,
   "metadata": {
    "id": "3jLc27cUQgZJ",
    "ExecuteTime": {
     "end_time": "2023-12-01T23:22:39.675906800Z",
     "start_time": "2023-12-01T23:22:39.573190600Z"
    }
   },
   "outputs": [],
   "source": [
    "def train_one_epoch():\n",
    "    model.train(True)\n",
    "    print(f'Epoch: {epoch + 1}')\n",
    "    running_loss = 0.0\n",
    "\n",
    "    for batch_index, batch in enumerate(train_loader):\n",
    "        x_batch, y_batch = batch[0].to(device), batch[1].to(device)\n",
    "        output = model(x_batch)\n",
    "        loss = loss_function(output, y_batch)\n",
    "        running_loss += loss.item()\n",
    "\n",
    "        optimizer.zero_grad()\n",
    "        loss.backward()\n",
    "        optimizer.step()\n",
    "\n",
    "        if batch_index % 100 == 99:  # print every 100 batches\n",
    "            avg_loss_across_batches = running_loss / 100\n",
    "            print('Batch {0}, Loss: {1:.5f}'.format(batch_index+1,\n",
    "                                                    avg_loss_across_batches))\n",
    "            running_loss = 0.0\n",
    "    print()"
   ]
  },
  {
   "cell_type": "code",
   "execution_count": 64,
   "metadata": {
    "id": "DMUjdvMEQgZJ",
    "ExecuteTime": {
     "end_time": "2023-12-01T23:22:39.675906800Z",
     "start_time": "2023-12-01T23:22:39.580383500Z"
    }
   },
   "outputs": [],
   "source": [
    "def validate_one_epoch():\n",
    "    model.train(False)\n",
    "    running_loss = 0.0\n",
    "\n",
    "    for batch_index, batch in enumerate(test_loader):\n",
    "        x_batch, y_batch = batch[0].to(device), batch[1].to(device)\n",
    "\n",
    "        with torch.no_grad():\n",
    "            output = model(x_batch)\n",
    "            loss = loss_function(output, y_batch)\n",
    "            running_loss += loss.item()\n",
    "\n",
    "    avg_loss_across_batches = running_loss / len(test_loader)\n",
    "\n",
    "    print('Val Loss: {0:.5f}'.format(avg_loss_across_batches))\n",
    "    print('***************************************************')\n",
    "    print()"
   ]
  },
  {
   "cell_type": "code",
   "execution_count": 65,
   "metadata": {
    "colab": {
     "base_uri": "https://localhost:8080/"
    },
    "id": "F7MZTgsmQgZJ",
    "outputId": "39939111-1cde-4e59-a664-8423519c77ba",
    "ExecuteTime": {
     "end_time": "2023-12-01T23:23:26.005217800Z",
     "start_time": "2023-12-01T23:22:39.583908700Z"
    }
   },
   "outputs": [
    {
     "name": "stdout",
     "output_type": "stream",
     "text": [
      "Epoch: 1\n",
      "Batch 100, Loss: 0.09130\n",
      "Batch 200, Loss: 0.01070\n",
      "Batch 300, Loss: 0.00412\n",
      "Batch 400, Loss: 0.00230\n",
      "Batch 500, Loss: 0.00144\n",
      "Batch 600, Loss: 0.00133\n",
      "Batch 700, Loss: 0.00137\n",
      "Val Loss: 0.00181\n",
      "***************************************************\n",
      "\n",
      "Epoch: 2\n",
      "Batch 100, Loss: 0.00114\n",
      "Batch 200, Loss: 0.00121\n",
      "Batch 300, Loss: 0.00137\n",
      "Batch 400, Loss: 0.00107\n",
      "Batch 500, Loss: 0.00132\n",
      "Batch 600, Loss: 0.00110\n",
      "Batch 700, Loss: 0.00133\n",
      "\n",
      "Val Loss: 0.00145\n",
      "***************************************************\n",
      "\n",
      "Epoch: 3\n",
      "Batch 100, Loss: 0.00106\n",
      "Batch 200, Loss: 0.00120\n",
      "Batch 300, Loss: 0.00109\n",
      "Batch 400, Loss: 0.00114\n",
      "Batch 500, Loss: 0.00089\n",
      "Batch 600, Loss: 0.00104\n",
      "Batch 700, Loss: 0.00101\n",
      "\n",
      "Val Loss: 0.00130\n",
      "***************************************************\n",
      "\n",
      "Epoch: 4\n",
      "Batch 100, Loss: 0.00110\n",
      "Batch 200, Loss: 0.00092\n",
      "Batch 300, Loss: 0.00090\n",
      "Batch 400, Loss: 0.00087\n",
      "Batch 500, Loss: 0.00098\n",
      "Batch 600, Loss: 0.00095\n",
      "Batch 700, Loss: 0.00084\n",
      "\n",
      "Val Loss: 0.00099\n",
      "***************************************************\n",
      "\n",
      "Epoch: 5\n",
      "Batch 100, Loss: 0.00080\n",
      "Batch 200, Loss: 0.00076\n",
      "Batch 300, Loss: 0.00065\n",
      "Batch 400, Loss: 0.00075\n",
      "Batch 500, Loss: 0.00084\n",
      "Batch 600, Loss: 0.00088\n",
      "Batch 700, Loss: 0.00072\n",
      "\n",
      "Val Loss: 0.00096\n",
      "***************************************************\n",
      "\n",
      "Epoch: 6\n",
      "Batch 100, Loss: 0.00080\n",
      "Batch 200, Loss: 0.00080\n",
      "Batch 300, Loss: 0.00079\n",
      "Batch 400, Loss: 0.00071\n",
      "Batch 500, Loss: 0.00074\n",
      "Batch 600, Loss: 0.00065\n",
      "Batch 700, Loss: 0.00065\n",
      "\n",
      "Val Loss: 0.00089\n",
      "***************************************************\n",
      "\n",
      "Epoch: 7\n",
      "Batch 100, Loss: 0.00067\n",
      "Batch 200, Loss: 0.00078\n",
      "Batch 300, Loss: 0.00060\n",
      "Batch 400, Loss: 0.00067\n",
      "Batch 500, Loss: 0.00061\n",
      "Batch 600, Loss: 0.00063\n",
      "Batch 700, Loss: 0.00066\n",
      "\n",
      "Val Loss: 0.00078\n",
      "***************************************************\n",
      "\n",
      "Epoch: 8\n",
      "Batch 100, Loss: 0.00080\n",
      "Batch 200, Loss: 0.00063\n",
      "Batch 300, Loss: 0.00062\n",
      "Batch 400, Loss: 0.00057\n",
      "Batch 500, Loss: 0.00063\n",
      "Batch 600, Loss: 0.00058\n",
      "Batch 700, Loss: 0.00062\n",
      "\n",
      "Val Loss: 0.00074\n",
      "***************************************************\n",
      "\n",
      "Epoch: 9\n",
      "Batch 100, Loss: 0.00058\n",
      "Batch 200, Loss: 0.00059\n",
      "Batch 300, Loss: 0.00062\n",
      "Batch 400, Loss: 0.00061\n",
      "Batch 500, Loss: 0.00066\n",
      "Batch 600, Loss: 0.00051\n",
      "Batch 700, Loss: 0.00064\n",
      "\n",
      "Val Loss: 0.00124\n",
      "***************************************************\n",
      "\n",
      "Epoch: 10\n",
      "Batch 100, Loss: 0.00065\n",
      "Batch 200, Loss: 0.00057\n",
      "Batch 300, Loss: 0.00054\n",
      "Batch 400, Loss: 0.00054\n",
      "Batch 500, Loss: 0.00065\n",
      "Batch 600, Loss: 0.00061\n",
      "Batch 700, Loss: 0.00060\n",
      "\n",
      "Val Loss: 0.00091\n",
      "***************************************************\n",
      "\n",
      "Epoch: 11\n",
      "Batch 100, Loss: 0.00058\n",
      "Batch 200, Loss: 0.00061\n",
      "Batch 300, Loss: 0.00060\n",
      "Batch 400, Loss: 0.00045\n",
      "Batch 500, Loss: 0.00061\n",
      "Batch 600, Loss: 0.00064\n",
      "Batch 700, Loss: 0.00053\n",
      "\n",
      "Val Loss: 0.00071\n",
      "***************************************************\n",
      "\n",
      "Epoch: 12\n",
      "Batch 100, Loss: 0.00067\n",
      "Batch 200, Loss: 0.00065\n",
      "Batch 300, Loss: 0.00054\n",
      "Batch 400, Loss: 0.00059\n",
      "Batch 500, Loss: 0.00061\n",
      "Batch 600, Loss: 0.00053\n",
      "Batch 700, Loss: 0.00050\n",
      "\n",
      "Val Loss: 0.00066\n",
      "***************************************************\n",
      "\n",
      "Epoch: 13\n",
      "Batch 100, Loss: 0.00049\n",
      "Batch 200, Loss: 0.00068\n",
      "Batch 300, Loss: 0.00053\n",
      "Batch 400, Loss: 0.00060\n",
      "Batch 500, Loss: 0.00052\n",
      "Batch 600, Loss: 0.00059\n",
      "Batch 700, Loss: 0.00052\n",
      "\n",
      "Val Loss: 0.00065\n",
      "***************************************************\n",
      "\n",
      "Epoch: 14\n",
      "Batch 100, Loss: 0.00063\n",
      "Batch 200, Loss: 0.00055\n",
      "Batch 300, Loss: 0.00055\n",
      "Batch 400, Loss: 0.00059\n",
      "Batch 500, Loss: 0.00051\n",
      "Batch 600, Loss: 0.00057\n",
      "Batch 700, Loss: 0.00047\n",
      "\n",
      "Val Loss: 0.00065\n",
      "***************************************************\n",
      "\n",
      "Epoch: 15\n",
      "Batch 100, Loss: 0.00054\n",
      "Batch 200, Loss: 0.00045\n",
      "Batch 300, Loss: 0.00053\n",
      "Batch 400, Loss: 0.00062\n",
      "Batch 500, Loss: 0.00054\n",
      "Batch 600, Loss: 0.00055\n",
      "Batch 700, Loss: 0.00055\n",
      "\n",
      "Val Loss: 0.00064\n",
      "***************************************************\n",
      "\n",
      "Epoch: 16\n",
      "Batch 100, Loss: 0.00058\n",
      "Batch 200, Loss: 0.00050\n",
      "Batch 300, Loss: 0.00064\n",
      "Batch 400, Loss: 0.00055\n",
      "Batch 500, Loss: 0.00048\n",
      "Batch 600, Loss: 0.00050\n",
      "Batch 700, Loss: 0.00051\n",
      "\n",
      "Val Loss: 0.00094\n",
      "***************************************************\n",
      "\n",
      "Epoch: 17\n",
      "Batch 100, Loss: 0.00055\n",
      "Batch 200, Loss: 0.00049\n",
      "Batch 300, Loss: 0.00048\n",
      "Batch 400, Loss: 0.00055\n",
      "Batch 500, Loss: 0.00049\n",
      "Batch 600, Loss: 0.00054\n",
      "Batch 700, Loss: 0.00050\n",
      "\n",
      "Val Loss: 0.00069\n",
      "***************************************************\n",
      "\n",
      "Epoch: 18\n",
      "Batch 100, Loss: 0.00052\n",
      "Batch 200, Loss: 0.00060\n",
      "Batch 300, Loss: 0.00047\n",
      "Batch 400, Loss: 0.00051\n",
      "Batch 500, Loss: 0.00052\n",
      "Batch 600, Loss: 0.00050\n",
      "Batch 700, Loss: 0.00055\n",
      "\n",
      "Val Loss: 0.00080\n",
      "***************************************************\n",
      "\n",
      "Epoch: 19\n",
      "Batch 100, Loss: 0.00055\n",
      "Batch 200, Loss: 0.00056\n",
      "Batch 300, Loss: 0.00050\n",
      "Batch 400, Loss: 0.00061\n",
      "Batch 500, Loss: 0.00051\n",
      "Batch 600, Loss: 0.00046\n",
      "Batch 700, Loss: 0.00043\n",
      "\n",
      "Val Loss: 0.00068\n",
      "***************************************************\n",
      "\n",
      "Epoch: 20\n",
      "Batch 100, Loss: 0.00051\n",
      "Batch 200, Loss: 0.00046\n",
      "Batch 300, Loss: 0.00057\n",
      "Batch 400, Loss: 0.00056\n",
      "Batch 500, Loss: 0.00064\n",
      "Batch 600, Loss: 0.00051\n",
      "Batch 700, Loss: 0.00045\n",
      "\n",
      "Val Loss: 0.00069\n",
      "***************************************************\n",
      "\n",
      "Epoch: 21\n",
      "Batch 100, Loss: 0.00053\n",
      "Batch 200, Loss: 0.00048\n",
      "Batch 300, Loss: 0.00047\n",
      "Batch 400, Loss: 0.00051\n",
      "Batch 500, Loss: 0.00048\n",
      "Batch 600, Loss: 0.00055\n",
      "Batch 700, Loss: 0.00053\n",
      "\n",
      "Val Loss: 0.00070\n",
      "***************************************************\n",
      "\n",
      "Epoch: 22\n",
      "Batch 100, Loss: 0.00048\n",
      "Batch 200, Loss: 0.00052\n",
      "Batch 300, Loss: 0.00052\n",
      "Batch 400, Loss: 0.00051\n",
      "Batch 500, Loss: 0.00054\n",
      "Batch 600, Loss: 0.00063\n",
      "Batch 700, Loss: 0.00045\n",
      "\n",
      "Val Loss: 0.00065\n",
      "***************************************************\n",
      "\n",
      "Epoch: 23\n",
      "Batch 100, Loss: 0.00048\n",
      "Batch 200, Loss: 0.00044\n",
      "Batch 300, Loss: 0.00054\n",
      "Batch 400, Loss: 0.00061\n",
      "Batch 500, Loss: 0.00062\n",
      "Batch 600, Loss: 0.00047\n",
      "Batch 700, Loss: 0.00053\n",
      "\n",
      "Val Loss: 0.00068\n",
      "***************************************************\n",
      "\n",
      "Epoch: 24\n",
      "Batch 100, Loss: 0.00049\n",
      "Batch 200, Loss: 0.00057\n",
      "Batch 300, Loss: 0.00050\n",
      "Batch 400, Loss: 0.00048\n",
      "Batch 500, Loss: 0.00053\n",
      "Batch 600, Loss: 0.00047\n",
      "Batch 700, Loss: 0.00049\n",
      "\n",
      "Val Loss: 0.00060\n",
      "***************************************************\n",
      "\n",
      "Epoch: 25\n",
      "Batch 100, Loss: 0.00049\n",
      "Batch 200, Loss: 0.00050\n",
      "Batch 300, Loss: 0.00050\n",
      "Batch 400, Loss: 0.00053\n",
      "Batch 500, Loss: 0.00052\n",
      "Batch 600, Loss: 0.00057\n",
      "Batch 700, Loss: 0.00048\n",
      "\n",
      "Val Loss: 0.00060\n",
      "***************************************************\n",
      "\n",
      "Epoch: 26\n",
      "Batch 100, Loss: 0.00046\n",
      "Batch 200, Loss: 0.00047\n",
      "Batch 300, Loss: 0.00048\n",
      "Batch 400, Loss: 0.00050\n",
      "Batch 500, Loss: 0.00056\n",
      "Batch 600, Loss: 0.00062\n",
      "Batch 700, Loss: 0.00049\n",
      "\n",
      "Val Loss: 0.00060\n",
      "***************************************************\n",
      "\n",
      "Epoch: 27\n",
      "Batch 100, Loss: 0.00051\n",
      "Batch 200, Loss: 0.00056\n",
      "Batch 300, Loss: 0.00049\n",
      "Batch 400, Loss: 0.00051\n",
      "Batch 500, Loss: 0.00046\n",
      "Batch 600, Loss: 0.00047\n",
      "Batch 700, Loss: 0.00052\n",
      "\n",
      "Val Loss: 0.00069\n",
      "***************************************************\n",
      "\n",
      "Epoch: 28\n",
      "Batch 100, Loss: 0.00049\n",
      "Batch 200, Loss: 0.00050\n",
      "Batch 300, Loss: 0.00049\n",
      "Batch 400, Loss: 0.00051\n",
      "Batch 500, Loss: 0.00047\n",
      "Batch 600, Loss: 0.00056\n",
      "Batch 700, Loss: 0.00053\n",
      "\n",
      "Val Loss: 0.00060\n",
      "***************************************************\n",
      "\n",
      "Epoch: 29\n",
      "Batch 100, Loss: 0.00058\n",
      "Batch 200, Loss: 0.00055\n",
      "Batch 300, Loss: 0.00047\n",
      "Batch 400, Loss: 0.00043\n",
      "Batch 500, Loss: 0.00050\n",
      "Batch 600, Loss: 0.00053\n",
      "Batch 700, Loss: 0.00047\n",
      "\n",
      "Val Loss: 0.00062\n",
      "***************************************************\n",
      "\n",
      "Epoch: 30\n",
      "Batch 100, Loss: 0.00052\n",
      "Batch 200, Loss: 0.00048\n",
      "Batch 300, Loss: 0.00054\n",
      "Batch 400, Loss: 0.00045\n",
      "Batch 500, Loss: 0.00053\n",
      "Batch 600, Loss: 0.00047\n",
      "Batch 700, Loss: 0.00055\n",
      "\n",
      "Val Loss: 0.00076\n",
      "***************************************************\n"
     ]
    }
   ],
   "source": [
    "learning_rate = 0.001\n",
    "num_epochs = 30\n",
    "loss_function = nn.MSELoss()\n",
    "optimizer = torch.optim.Adam(model.parameters(), lr=learning_rate)\n",
    "\n",
    "#Adam does the gradient descent\n",
    "\n",
    "for epoch in range(num_epochs):\n",
    "    train_one_epoch()\n",
    "    validate_one_epoch()"
   ]
  },
  {
   "cell_type": "code",
   "execution_count": 66,
   "metadata": {
    "colab": {
     "base_uri": "https://localhost:8080/",
     "height": 449
    },
    "id": "iCdLO3t-QgZJ",
    "outputId": "db5a8d4c-9eee-4487-eeaa-c4e514e35900",
    "ExecuteTime": {
     "end_time": "2023-12-01T23:23:26.047419900Z",
     "start_time": "2023-12-01T23:23:26.002216300Z"
    }
   },
   "outputs": [],
   "source": [
    "with torch.no_grad():\n",
    "    predicted = model(X[:].to(device)).to('cpu').numpy()\n",
    "\n",
    "\n"
   ]
  },
  {
   "cell_type": "code",
   "execution_count": 67,
   "metadata": {
    "colab": {
     "base_uri": "https://localhost:8080/"
    },
    "id": "Pa7E8ZLjQgZK",
    "outputId": "ea48216a-82ae-4bcf-9fb2-6d44682c9425",
    "ExecuteTime": {
     "end_time": "2023-12-01T23:23:26.048423100Z",
     "start_time": "2023-12-01T23:23:26.038356100Z"
    }
   },
   "outputs": [
    {
     "name": "stdout",
     "output_type": "stream",
     "text": [
      "[-0.89521074  0.          0.          0.          0.          0.\n",
      "  0.          0.          0.          0.          0.          0.\n",
      "  0.          0.          0.          0.        ]\n"
     ]
    },
    {
     "data": {
      "text/plain": "array([0.83531635, 0.83273787, 0.83221549, ..., 3.70236011, 3.71222815,\n       3.74638068])"
     },
     "execution_count": 67,
     "metadata": {},
     "output_type": "execute_result"
    }
   ],
   "source": [
    "train_predictions = predicted.flatten()\n",
    "\n",
    "dummies = np.zeros((X.shape[0], LOOKBACK+1))\n",
    "dummies[:, 0] = train_predictions \n",
    "print(dummies[0])\n",
    "dummies = prices_scaler.inverse_transform(dummies)\n",
    "\n",
    "train_predictions = dc(dummies[:, 0])\n",
    "train_predictions"
   ]
  },
  {
   "cell_type": "code",
   "execution_count": 68,
   "metadata": {
    "colab": {
     "base_uri": "https://localhost:8080/"
    },
    "id": "Th5ixrjwQgZK",
    "outputId": "25d6f3cf-c0d0-4082-d761-c6fcfdc8023b",
    "ExecuteTime": {
     "end_time": "2023-12-01T23:23:26.102282700Z",
     "start_time": "2023-12-01T23:23:26.047419900Z"
    }
   },
   "outputs": [
    {
     "data": {
      "text/plain": "array([0.848     , 0.85649997, 0.85299994, ..., 3.64900001, 3.67250002,\n       3.68149999])"
     },
     "execution_count": 68,
     "metadata": {},
     "output_type": "execute_result"
    }
   ],
   "source": [
    "dummies = np.zeros((X.shape[0], LOOKBACK+1))\n",
    "dummies[:, 0] = y.flatten()\n",
    "dummies = prices_scaler.inverse_transform(dummies)\n",
    "new_y_train = dc(dummies[:, 0])\n",
    "new_y_train"
   ]
  },
  {
   "cell_type": "code",
   "execution_count": 69,
   "metadata": {
    "colab": {
     "base_uri": "https://localhost:8080/",
     "height": 449
    },
    "id": "LuQBl4e1QgZK",
    "outputId": "2fbedd60-e1da-44bc-f7bf-9088b222b2fa",
    "ExecuteTime": {
     "end_time": "2023-12-01T23:23:26.472231600Z",
     "start_time": "2023-12-01T23:23:26.054283400Z"
    }
   },
   "outputs": [
    {
     "data": {
      "text/plain": "<Figure size 640x480 with 1 Axes>",
      "image/png": "[encoded data removed]"
     },
     "metadata": {},
     "output_type": "display_data"
    }
   ],
   "source": [
    "plt.plot(dates,y,  label='Actual Price')\n",
    "plt.plot(dates,train_predictions, label='Predicted Price')\n",
    "plt.xlabel('Day')\n",
    "plt.ylabel('Price')\n",
    "plt.legend()\n",
    "plt.show()"
   ]
  },
  {
   "cell_type": "code",
   "execution_count": 70,
   "metadata": {
    "colab": {
     "base_uri": "https://localhost:8080/"
    },
    "id": "0zCJ-Lr9QgZL",
    "outputId": "9ef6cb08-1049-4ddd-ccbb-0a2266b01511",
    "ExecuteTime": {
     "end_time": "2023-12-01T23:23:26.587348600Z",
     "start_time": "2023-12-01T23:23:26.474233100Z"
    }
   },
   "outputs": [
    {
     "data": {
      "text/plain": "array([0.83531635, 0.83273787, 0.83221549, ..., 3.70236011, 3.71222815,\n       3.74638068])"
     },
     "execution_count": 70,
     "metadata": {},
     "output_type": "execute_result"
    }
   ],
   "source": [
    "test_predictions = model(X.to(device)).detach().cpu().numpy().flatten()\n",
    "\n",
    "dummies = np.zeros((X.shape[0], LOOKBACK+1))\n",
    "dummies[:, 0] = test_predictions\n",
    "dummies = prices_scaler.inverse_transform(dummies)\n",
    "\n",
    "test_predictions = dc(dummies[:, 0])\n",
    "test_predictions"
   ]
  },
  {
   "cell_type": "code",
   "execution_count": 71,
   "metadata": {
    "colab": {
     "base_uri": "https://localhost:8080/"
    },
    "id": "PUbVm3RgQgZL",
    "outputId": "b97c39ac-9d7d-4f22-b4b3-c1fd3fee7db8",
    "ExecuteTime": {
     "end_time": "2023-12-01T23:23:26.587348600Z",
     "start_time": "2023-12-01T23:23:26.512146700Z"
    }
   },
   "outputs": [
    {
     "data": {
      "text/plain": "0.051888180936791255"
     },
     "execution_count": 71,
     "metadata": {},
     "output_type": "execute_result"
    }
   ],
   "source": [
    "dummies = np.zeros((X.shape[0], LOOKBACK+1))\n",
    "dummies[:, 0] = y.flatten()\n",
    "dummies = prices_scaler.inverse_transform(dummies)\n",
    "\n",
    "new_y_test = dc(dummies[:, 0])\n",
    "new_y_test\n",
    "squared_differences = (new_y_test - test_predictions)**2\n",
    "\n",
    "# Calculate the Root Mean Squared Error (RMSE)\n",
    "rmse = np.sqrt(np.mean(squared_differences))\n",
    "#rmse\n",
    "absolute_differences = np.abs(new_y_test - test_predictions)\n",
    "\n",
    "# Calculate the Mean Absolute Error (MAE)\n",
    "mae = np.mean(absolute_differences)\n",
    "rmse"
   ]
  },
  {
   "cell_type": "code",
   "execution_count": 72,
   "metadata": {
    "colab": {
     "base_uri": "https://localhost:8080/",
     "height": 542
    },
    "id": "zw7bJAfwQgZL",
    "outputId": "4e66bec7-adf4-4538-df98-8c809bdc2241",
    "ExecuteTime": {
     "end_time": "2023-12-01T23:23:26.817298Z",
     "start_time": "2023-12-01T23:23:26.522344700Z"
    }
   },
   "outputs": [
    {
     "data": {
      "text/plain": "<Figure size 1000x600 with 1 Axes>",
      "image/png": "[encoded data removed]"
     },
     "metadata": {},
     "output_type": "display_data"
    }
   ],
   "source": [
    "plt.figure(figsize=(10,6))\n",
    "plt.plot(dates[split_index:], new_y_test[split_index:], label='Actual Price')\n",
    "plt.plot(dates[split_index:],test_predictions[split_index:], label='Predicted Price')\n",
    "plt.xlabel('Day')\n",
    "plt.ylabel('Price')\n",
    "plt.legend()\n",
    "plt.show()"
   ]
  },
  {
   "cell_type": "code",
   "execution_count": 73,
   "metadata": {
    "collapsed": false,
    "ExecuteTime": {
     "end_time": "2023-12-01T23:23:26.822330500Z",
     "start_time": "2023-12-01T23:23:26.814297900Z"
    }
   },
   "outputs": [],
   "source": [
    "torch.save(model, 'model.pt')"
   ]
  },
  {
   "cell_type": "code",
   "execution_count": 74,
   "metadata": {
    "collapsed": false,
    "ExecuteTime": {
     "end_time": "2023-12-01T23:23:43.006519600Z",
     "start_time": "2023-12-01T23:23:42.937555600Z"
    }
   },
   "outputs": [],
   "source": [
    "\n",
    "m1 = torch.load('model.pt', map_location=torch.device('cpu'))"
   ]
  },
  {
   "cell_type": "code",
   "execution_count": 75,
   "metadata": {
    "collapsed": false,
    "ExecuteTime": {
     "end_time": "2023-12-01T23:23:50.304909800Z",
     "start_time": "2023-12-01T23:23:50.265911700Z"
    }
   },
   "outputs": [
    {
     "data": {
      "text/plain": "LSTM(\n  (lstm): LSTM(1, 12, batch_first=True)\n  (fc): Linear(in_features=12, out_features=1, bias=True)\n)"
     },
     "execution_count": 75,
     "metadata": {},
     "output_type": "execute_result"
    }
   ],
   "source": [
    "model"
   ]
  },
  {
   "cell_type": "code",
   "execution_count": 76,
   "metadata": {
    "collapsed": false,
    "ExecuteTime": {
     "end_time": "2023-12-01T23:23:51.311981700Z",
     "start_time": "2023-12-01T23:23:51.265461800Z"
    }
   },
   "outputs": [],
   "source": [
    "model=m1"
   ]
  },
  {
   "cell_type": "code",
   "execution_count": 77,
   "metadata": {
    "collapsed": false,
    "ExecuteTime": {
     "end_time": "2023-12-01T23:23:52.583387300Z",
     "start_time": "2023-12-01T23:23:52.536302800Z"
    }
   },
   "outputs": [
    {
     "data": {
      "text/plain": "         Date\n0  2023-11-27\n1  2023-11-28\n2  2023-11-29\n3  2023-11-30\n4  2023-12-01\n..        ...\n85 2024-03-25\n86 2024-03-26\n87 2024-03-27\n88 2024-03-28\n89 2024-03-29\n\n[90 rows x 1 columns]",
      "text/html": "<div>\n<style scoped>\n    .dataframe tbody tr th:only-of-type {\n        vertical-align: middle;\n    }\n\n    .dataframe tbody tr th {\n        vertical-align: top;\n    }\n\n    .dataframe thead th {\n        text-align: right;\n    }\n</style>\n<table border=\"1\" class=\"dataframe\">\n  <thead>\n    <tr style=\"text-align: right;\">\n      <th></th>\n      <th>Date</th>\n    </tr>\n  </thead>\n  <tbody>\n    <tr>\n      <th>0</th>\n      <td>2023-11-27</td>\n    </tr>\n    <tr>\n      <th>1</th>\n      <td>2023-11-28</td>\n    </tr>\n    <tr>\n      <th>2</th>\n      <td>2023-11-29</td>\n    </tr>\n    <tr>\n      <th>3</th>\n      <td>2023-11-30</td>\n    </tr>\n    <tr>\n      <th>4</th>\n      <td>2023-12-01</td>\n    </tr>\n    <tr>\n      <th>...</th>\n      <td>...</td>\n    </tr>\n    <tr>\n      <th>85</th>\n      <td>2024-03-25</td>\n    </tr>\n    <tr>\n      <th>86</th>\n      <td>2024-03-26</td>\n    </tr>\n    <tr>\n      <th>87</th>\n      <td>2024-03-27</td>\n    </tr>\n    <tr>\n      <th>88</th>\n      <td>2024-03-28</td>\n    </tr>\n    <tr>\n      <th>89</th>\n      <td>2024-03-29</td>\n    </tr>\n  </tbody>\n</table>\n<p>90 rows × 1 columns</p>\n</div>"
     },
     "execution_count": 77,
     "metadata": {},
     "output_type": "execute_result"
    }
   ],
   "source": [
    "start_date = last_date+timedelta(days=1)\n",
    "end_date = \"2024-03-31\"\n",
    "forecast_dates = pd.date_range(start=start_date, end=end_date, freq='B')  # 'B' excludes weekends\n",
    "\n",
    "\n",
    "\n",
    "# Create a DataFrame with the date column\n",
    "forecast_set = pd.DataFrame({'Date': forecast_dates})\n",
    "forecast_set['Date'] = pd.to_datetime(forecast_set['Date'])\n",
    "forecast_set"
   ]
  },
  {
   "cell_type": "code",
   "execution_count": 78,
   "metadata": {
    "ExecuteTime": {
     "end_time": "2023-12-01T23:23:53.659482500Z",
     "start_time": "2023-12-01T23:23:53.627581300Z"
    }
   },
   "outputs": [
    {
     "data": {
      "text/plain": "(90,)"
     },
     "execution_count": 78,
     "metadata": {},
     "output_type": "execute_result"
    }
   ],
   "source": [
    "forecast_dates.shape"
   ]
  },
  {
   "cell_type": "code",
   "execution_count": 79,
   "metadata": {
    "ExecuteTime": {
     "end_time": "2023-12-01T23:23:53.983747600Z",
     "start_time": "2023-12-01T23:23:53.937696400Z"
    }
   },
   "outputs": [
    {
     "data": {
      "text/plain": "dtype('float64')"
     },
     "execution_count": 79,
     "metadata": {},
     "output_type": "execute_result"
    }
   ],
   "source": [
    "stacked_np.dtype"
   ]
  },
  {
   "cell_type": "code",
   "execution_count": 80,
   "metadata": {
    "ExecuteTime": {
     "end_time": "2023-12-01T23:23:54.212695400Z",
     "start_time": "2023-12-01T23:23:54.172162100Z"
    }
   },
   "outputs": [],
   "source": [
    "np.save('stacked_np.npy', stacked_np)"
   ]
  },
  {
   "cell_type": "code",
   "execution_count": 81,
   "metadata": {
    "collapsed": false,
    "ExecuteTime": {
     "end_time": "2023-12-01T23:23:54.635577900Z",
     "start_time": "2023-12-01T23:23:54.552771Z"
    }
   },
   "outputs": [
    {
     "data": {
      "text/plain": "array([[-0.99993486, -0.88354852, -0.10690381, ..., -0.88542389,\n        -0.89189189, -0.89235389],\n       [-0.99986972, -0.88354852, -0.10690381, ..., -0.89189189,\n        -0.89235389, -0.89096789],\n       [-0.99980458, -0.88354852, -0.10690381, ..., -0.89235389,\n        -0.89096789, -0.89304689],\n       ...,\n       [-0.29056913,  0.24367179,  0.66433555, ...,  0.48995149,\n         0.49272349,  0.47308847],\n       [-0.28931784,  0.24367179,  0.66433555, ...,  0.49272349,\n         0.47308847,  0.46260106],\n       [-0.27635776,  0.24367179,  0.66433555, ...,  0.47308847,\n         0.46260106,  0.48394548]])"
     },
     "execution_count": 81,
     "metadata": {},
     "output_type": "execute_result"
    }
   ],
   "source": [
    "shifted_df_as_np_flipped = np.fliplr(stacked_np)\n",
    "shifted_df_as_np_flipped"
   ]
  },
  {
   "cell_type": "code",
   "execution_count": 82,
   "metadata": {
    "collapsed": false,
    "ExecuteTime": {
     "end_time": "2023-12-01T23:23:55.876236800Z",
     "start_time": "2023-12-01T23:23:55.831317100Z"
    }
   },
   "outputs": [
    {
     "data": {
      "text/plain": "torch.Size([1, 20, 1])"
     },
     "execution_count": 82,
     "metadata": {},
     "output_type": "execute_result"
    }
   ],
   "source": [
    "shifted_df_as_tensor = torch.tensor(shifted_df_as_np_flipped.copy())\n",
    "torch.set_printoptions(precision=6)\n",
    "last = shifted_df_as_tensor[-1][1:]\n",
    "last = last.unsqueeze(0).unsqueeze(-1)\n",
    "last.shape"
   ]
  },
  {
   "cell_type": "code",
   "execution_count": 83,
   "metadata": {
    "ExecuteTime": {
     "end_time": "2023-12-01T23:23:56.672443400Z",
     "start_time": "2023-12-01T23:23:56.616449800Z"
    }
   },
   "outputs": [
    {
     "data": {
      "text/plain": "torch.Size([6037, 21])"
     },
     "execution_count": 83,
     "metadata": {},
     "output_type": "execute_result"
    }
   ],
   "source": [
    "shifted_df_as_tensor.shape"
   ]
  },
  {
   "cell_type": "code",
   "execution_count": 84,
   "metadata": {
    "ExecuteTime": {
     "end_time": "2023-12-01T23:23:57.912920600Z",
     "start_time": "2023-12-01T23:23:57.805233700Z"
    }
   },
   "outputs": [
    {
     "data": {
      "text/plain": "           Date   Price  Price(t-1)  Price(t-2)  Price(t-3)  Price(t-4)  \\\n0    2000-01-26  0.8415      0.8425      0.8565      0.8730      0.8730   \n1    2000-01-27  0.8445      0.8415      0.8425      0.8565      0.8730   \n2    2000-01-28  0.8400      0.8445      0.8415      0.8425      0.8565   \n3    2000-01-31  0.8545      0.8400      0.8445      0.8415      0.8425   \n4    2000-02-01  0.8480      0.8545      0.8400      0.8445      0.8415   \n...         ...     ...         ...         ...         ...         ...   \n6032 2023-11-20  3.8335      3.7345      3.7025      3.7185      3.6835   \n6033 2023-11-21  3.8395      3.8335      3.7345      3.7025      3.7185   \n6034 2023-11-22  3.7970      3.8395      3.8335      3.7345      3.7025   \n6035 2023-11-23  3.7743      3.7970      3.8395      3.8335      3.7345   \n6036 2023-11-24  3.8205      3.7743      3.7970      3.8395      3.8335   \n\n      Price(t-5)  Price(t-6)  Price(t-7)  Price(t-8)  ...  Price(t-11)  \\\n0         0.8825      0.8660      0.8625      0.8565  ...       0.8465   \n1         0.8730      0.8825      0.8660      0.8625  ...       0.8435   \n2         0.8730      0.8730      0.8825      0.8660  ...       0.8660   \n3         0.8565      0.8730      0.8730      0.8825  ...       0.8565   \n4         0.8425      0.8565      0.8730      0.8730  ...       0.8625   \n...          ...         ...         ...         ...  ...          ...   \n6032      3.6660      3.5870      3.6405      3.6380  ...       3.6815   \n6033      3.6835      3.6660      3.5870      3.6405  ...       3.7190   \n6034      3.7185      3.6835      3.6660      3.5870  ...       3.6790   \n6035      3.7025      3.7185      3.6835      3.6660  ...       3.6380   \n6036      3.7345      3.7025      3.7185      3.6835  ...       3.6405   \n\n      Price(t-12)  Price(t-13)  Price(t-14)  Price(t-15)   Real_GDP    CPI  \\\n0          0.8540       0.8530       0.8565       0.8480  14096.033  168.8   \n1          0.8465       0.8540       0.8530       0.8565  14096.033  168.8   \n2          0.8435       0.8465       0.8540       0.8530  14096.033  168.8   \n3          0.8660       0.8435       0.8465       0.8540  14096.033  168.8   \n4          0.8565       0.8660       0.8435       0.8465  14096.033  168.8   \n...           ...          ...          ...          ...        ...    ...   \n6032       3.6725       3.6490       3.6490       3.6585  19374.000  307.0   \n6033       3.6815       3.6725       3.6490       3.6490  19374.000  307.0   \n6034       3.7190       3.6815       3.6725       3.6490  19374.000  307.0   \n6035       3.6790       3.7190       3.6815       3.6725  19374.000  307.0   \n6036       3.6380       3.6790       3.7190       3.6815  19374.000  307.0   \n\n      inflation_rate  PALLFNFINDEXM   DEXCHUS  \n0           3.376857      59.470000  0.120774  \n1           3.376857      59.470000  0.120776  \n2           3.376857      59.470000  0.120777  \n3           3.376857      59.470000  0.120782  \n4           3.376857      59.470000  0.120782  \n...              ...            ...       ...  \n6032        6.600000     168.657489  0.136737  \n6033        6.600000     168.657489  0.136676  \n6034        6.600000     168.657489  0.136659  \n6035        6.600000     168.657489  0.136687  \n6036        6.600000     168.657489  0.136977  \n\n[6037 rows x 22 columns]",
      "text/html": "<div>\n<style scoped>\n    .dataframe tbody tr th:only-of-type {\n        vertical-align: middle;\n    }\n\n    .dataframe tbody tr th {\n        vertical-align: top;\n    }\n\n    .dataframe thead th {\n        text-align: right;\n    }\n</style>\n<table border=\"1\" class=\"dataframe\">\n  <thead>\n    <tr style=\"text-align: right;\">\n      <th></th>\n      <th>Date</th>\n      <th>Price</th>\n      <th>Price(t-1)</th>\n      <th>Price(t-2)</th>\n      <th>Price(t-3)</th>\n      <th>Price(t-4)</th>\n      <th>Price(t-5)</th>\n      <th>Price(t-6)</th>\n      <th>Price(t-7)</th>\n      <th>Price(t-8)</th>\n      <th>...</th>\n      <th>Price(t-11)</th>\n      <th>Price(t-12)</th>\n      <th>Price(t-13)</th>\n      <th>Price(t-14)</th>\n      <th>Price(t-15)</th>\n      <th>Real_GDP</th>\n      <th>CPI</th>\n      <th>inflation_rate</th>\n      <th>PALLFNFINDEXM</th>\n      <th>DEXCHUS</th>\n    </tr>\n  </thead>\n  <tbody>\n    <tr>\n      <th>0</th>\n      <td>2000-01-26</td>\n      <td>0.8415</td>\n      <td>0.8425</td>\n      <td>0.8565</td>\n      <td>0.8730</td>\n      <td>0.8730</td>\n      <td>0.8825</td>\n      <td>0.8660</td>\n      <td>0.8625</td>\n      <td>0.8565</td>\n      <td>...</td>\n      <td>0.8465</td>\n      <td>0.8540</td>\n      <td>0.8530</td>\n      <td>0.8565</td>\n      <td>0.8480</td>\n      <td>14096.033</td>\n      <td>168.8</td>\n      <td>3.376857</td>\n      <td>59.470000</td>\n      <td>0.120774</td>\n    </tr>\n    <tr>\n      <th>1</th>\n      <td>2000-01-27</td>\n      <td>0.8445</td>\n      <td>0.8415</td>\n      <td>0.8425</td>\n      <td>0.8565</td>\n      <td>0.8730</td>\n      <td>0.8730</td>\n      <td>0.8825</td>\n      <td>0.8660</td>\n      <td>0.8625</td>\n      <td>...</td>\n      <td>0.8435</td>\n      <td>0.8465</td>\n      <td>0.8540</td>\n      <td>0.8530</td>\n      <td>0.8565</td>\n      <td>14096.033</td>\n      <td>168.8</td>\n      <td>3.376857</td>\n      <td>59.470000</td>\n      <td>0.120776</td>\n    </tr>\n    <tr>\n      <th>2</th>\n      <td>2000-01-28</td>\n      <td>0.8400</td>\n      <td>0.8445</td>\n      <td>0.8415</td>\n      <td>0.8425</td>\n      <td>0.8565</td>\n      <td>0.8730</td>\n      <td>0.8730</td>\n      <td>0.8825</td>\n      <td>0.8660</td>\n      <td>...</td>\n      <td>0.8660</td>\n      <td>0.8435</td>\n      <td>0.8465</td>\n      <td>0.8540</td>\n      <td>0.8530</td>\n      <td>14096.033</td>\n      <td>168.8</td>\n      <td>3.376857</td>\n      <td>59.470000</td>\n      <td>0.120777</td>\n    </tr>\n    <tr>\n      <th>3</th>\n      <td>2000-01-31</td>\n      <td>0.8545</td>\n      <td>0.8400</td>\n      <td>0.8445</td>\n      <td>0.8415</td>\n      <td>0.8425</td>\n      <td>0.8565</td>\n      <td>0.8730</td>\n      <td>0.8730</td>\n      <td>0.8825</td>\n      <td>...</td>\n      <td>0.8565</td>\n      <td>0.8660</td>\n      <td>0.8435</td>\n      <td>0.8465</td>\n      <td>0.8540</td>\n      <td>14096.033</td>\n      <td>168.8</td>\n      <td>3.376857</td>\n      <td>59.470000</td>\n      <td>0.120782</td>\n    </tr>\n    <tr>\n      <th>4</th>\n      <td>2000-02-01</td>\n      <td>0.8480</td>\n      <td>0.8545</td>\n      <td>0.8400</td>\n      <td>0.8445</td>\n      <td>0.8415</td>\n      <td>0.8425</td>\n      <td>0.8565</td>\n      <td>0.8730</td>\n      <td>0.8730</td>\n      <td>...</td>\n      <td>0.8625</td>\n      <td>0.8565</td>\n      <td>0.8660</td>\n      <td>0.8435</td>\n      <td>0.8465</td>\n      <td>14096.033</td>\n      <td>168.8</td>\n      <td>3.376857</td>\n      <td>59.470000</td>\n      <td>0.120782</td>\n    </tr>\n    <tr>\n      <th>...</th>\n      <td>...</td>\n      <td>...</td>\n      <td>...</td>\n      <td>...</td>\n      <td>...</td>\n      <td>...</td>\n      <td>...</td>\n      <td>...</td>\n      <td>...</td>\n      <td>...</td>\n      <td>...</td>\n      <td>...</td>\n      <td>...</td>\n      <td>...</td>\n      <td>...</td>\n      <td>...</td>\n      <td>...</td>\n      <td>...</td>\n      <td>...</td>\n      <td>...</td>\n      <td>...</td>\n    </tr>\n    <tr>\n      <th>6032</th>\n      <td>2023-11-20</td>\n      <td>3.8335</td>\n      <td>3.7345</td>\n      <td>3.7025</td>\n      <td>3.7185</td>\n      <td>3.6835</td>\n      <td>3.6660</td>\n      <td>3.5870</td>\n      <td>3.6405</td>\n      <td>3.6380</td>\n      <td>...</td>\n      <td>3.6815</td>\n      <td>3.6725</td>\n      <td>3.6490</td>\n      <td>3.6490</td>\n      <td>3.6585</td>\n      <td>19374.000</td>\n      <td>307.0</td>\n      <td>6.600000</td>\n      <td>168.657489</td>\n      <td>0.136737</td>\n    </tr>\n    <tr>\n      <th>6033</th>\n      <td>2023-11-21</td>\n      <td>3.8395</td>\n      <td>3.8335</td>\n      <td>3.7345</td>\n      <td>3.7025</td>\n      <td>3.7185</td>\n      <td>3.6835</td>\n      <td>3.6660</td>\n      <td>3.5870</td>\n      <td>3.6405</td>\n      <td>...</td>\n      <td>3.7190</td>\n      <td>3.6815</td>\n      <td>3.6725</td>\n      <td>3.6490</td>\n      <td>3.6490</td>\n      <td>19374.000</td>\n      <td>307.0</td>\n      <td>6.600000</td>\n      <td>168.657489</td>\n      <td>0.136676</td>\n    </tr>\n    <tr>\n      <th>6034</th>\n      <td>2023-11-22</td>\n      <td>3.7970</td>\n      <td>3.8395</td>\n      <td>3.8335</td>\n      <td>3.7345</td>\n      <td>3.7025</td>\n      <td>3.7185</td>\n      <td>3.6835</td>\n      <td>3.6660</td>\n      <td>3.5870</td>\n      <td>...</td>\n      <td>3.6790</td>\n      <td>3.7190</td>\n      <td>3.6815</td>\n      <td>3.6725</td>\n      <td>3.6490</td>\n      <td>19374.000</td>\n      <td>307.0</td>\n      <td>6.600000</td>\n      <td>168.657489</td>\n      <td>0.136659</td>\n    </tr>\n    <tr>\n      <th>6035</th>\n      <td>2023-11-23</td>\n      <td>3.7743</td>\n      <td>3.7970</td>\n      <td>3.8395</td>\n      <td>3.8335</td>\n      <td>3.7345</td>\n      <td>3.7025</td>\n      <td>3.7185</td>\n      <td>3.6835</td>\n      <td>3.6660</td>\n      <td>...</td>\n      <td>3.6380</td>\n      <td>3.6790</td>\n      <td>3.7190</td>\n      <td>3.6815</td>\n      <td>3.6725</td>\n      <td>19374.000</td>\n      <td>307.0</td>\n      <td>6.600000</td>\n      <td>168.657489</td>\n      <td>0.136687</td>\n    </tr>\n    <tr>\n      <th>6036</th>\n      <td>2023-11-24</td>\n      <td>3.8205</td>\n      <td>3.7743</td>\n      <td>3.7970</td>\n      <td>3.8395</td>\n      <td>3.8335</td>\n      <td>3.7345</td>\n      <td>3.7025</td>\n      <td>3.7185</td>\n      <td>3.6835</td>\n      <td>...</td>\n      <td>3.6405</td>\n      <td>3.6380</td>\n      <td>3.6790</td>\n      <td>3.7190</td>\n      <td>3.6815</td>\n      <td>19374.000</td>\n      <td>307.0</td>\n      <td>6.600000</td>\n      <td>168.657489</td>\n      <td>0.136977</td>\n    </tr>\n  </tbody>\n</table>\n<p>6037 rows × 22 columns</p>\n</div>"
     },
     "execution_count": 84,
     "metadata": {},
     "output_type": "execute_result"
    }
   ],
   "source": [
    "shifted_df"
   ]
  },
  {
   "cell_type": "code",
   "execution_count": 85,
   "metadata": {
    "ExecuteTime": {
     "end_time": "2023-12-01T23:23:58.795243700Z",
     "start_time": "2023-12-01T23:23:58.646242800Z"
    }
   },
   "outputs": [],
   "source": [
    "shifted_df.to_csv('shifted_df.csv', index=False, float_format='%.5f')"
   ]
  },
  {
   "cell_type": "code",
   "execution_count": 86,
   "metadata": {
    "collapsed": false,
    "ExecuteTime": {
     "end_time": "2023-12-01T23:23:59.707658800Z",
     "start_time": "2023-12-01T23:23:59.663032700Z"
    }
   },
   "outputs": [
    {
     "data": {
      "text/plain": "       Price  Price(t-1)  Price(t-2)  Price(t-3)  Price(t-4)  Price(t-5)  \\\n0     0.8415      0.8425      0.8565      0.8730      0.8730      0.8825   \n1     0.8445      0.8415      0.8425      0.8565      0.8730      0.8730   \n2     0.8400      0.8445      0.8415      0.8425      0.8565      0.8730   \n3     0.8545      0.8400      0.8445      0.8415      0.8425      0.8565   \n4     0.8480      0.8545      0.8400      0.8445      0.8415      0.8425   \n...      ...         ...         ...         ...         ...         ...   \n6032  3.8335      3.7345      3.7025      3.7185      3.6835      3.6660   \n6033  3.8395      3.8335      3.7345      3.7025      3.7185      3.6835   \n6034  3.7970      3.8395      3.8335      3.7345      3.7025      3.7185   \n6035  3.7743      3.7970      3.8395      3.8335      3.7345      3.7025   \n6036  3.8205      3.7743      3.7970      3.8395      3.8335      3.7345   \n\n      Price(t-6)  Price(t-7)  Price(t-8)  Price(t-9)  ...  Price(t-11)  \\\n0         0.8660      0.8625      0.8565      0.8660  ...       0.8465   \n1         0.8825      0.8660      0.8625      0.8565  ...       0.8435   \n2         0.8730      0.8825      0.8660      0.8625  ...       0.8660   \n3         0.8730      0.8730      0.8825      0.8660  ...       0.8565   \n4         0.8565      0.8730      0.8730      0.8825  ...       0.8625   \n...          ...         ...         ...         ...  ...          ...   \n6032      3.5870      3.6405      3.6380      3.6790  ...       3.6815   \n6033      3.6660      3.5870      3.6405      3.6380  ...       3.7190   \n6034      3.6835      3.6660      3.5870      3.6405  ...       3.6790   \n6035      3.7185      3.6835      3.6660      3.5870  ...       3.6380   \n6036      3.7025      3.7185      3.6835      3.6660  ...       3.6405   \n\n      Price(t-12)  Price(t-13)  Price(t-14)  Price(t-15)   Real_GDP    CPI  \\\n0          0.8540       0.8530       0.8565       0.8480  14096.033  168.8   \n1          0.8465       0.8540       0.8530       0.8565  14096.033  168.8   \n2          0.8435       0.8465       0.8540       0.8530  14096.033  168.8   \n3          0.8660       0.8435       0.8465       0.8540  14096.033  168.8   \n4          0.8565       0.8660       0.8435       0.8465  14096.033  168.8   \n...           ...          ...          ...          ...        ...    ...   \n6032       3.6725       3.6490       3.6490       3.6585  19374.000  307.0   \n6033       3.6815       3.6725       3.6490       3.6490  19374.000  307.0   \n6034       3.7190       3.6815       3.6725       3.6490  19374.000  307.0   \n6035       3.6790       3.7190       3.6815       3.6725  19374.000  307.0   \n6036       3.6380       3.6790       3.7190       3.6815  19374.000  307.0   \n\n      inflation_rate  PALLFNFINDEXM   DEXCHUS  \n0           3.376857      59.470000  0.120774  \n1           3.376857      59.470000  0.120776  \n2           3.376857      59.470000  0.120777  \n3           3.376857      59.470000  0.120782  \n4           3.376857      59.470000  0.120782  \n...              ...            ...       ...  \n6032        6.600000     168.657489  0.136737  \n6033        6.600000     168.657489  0.136676  \n6034        6.600000     168.657489  0.136659  \n6035        6.600000     168.657489  0.136687  \n6036        6.600000     168.657489  0.136977  \n\n[6037 rows x 21 columns]",
      "text/html": "<div>\n<style scoped>\n    .dataframe tbody tr th:only-of-type {\n        vertical-align: middle;\n    }\n\n    .dataframe tbody tr th {\n        vertical-align: top;\n    }\n\n    .dataframe thead th {\n        text-align: right;\n    }\n</style>\n<table border=\"1\" class=\"dataframe\">\n  <thead>\n    <tr style=\"text-align: right;\">\n      <th></th>\n      <th>Price</th>\n      <th>Price(t-1)</th>\n      <th>Price(t-2)</th>\n      <th>Price(t-3)</th>\n      <th>Price(t-4)</th>\n      <th>Price(t-5)</th>\n      <th>Price(t-6)</th>\n      <th>Price(t-7)</th>\n      <th>Price(t-8)</th>\n      <th>Price(t-9)</th>\n      <th>...</th>\n      <th>Price(t-11)</th>\n      <th>Price(t-12)</th>\n      <th>Price(t-13)</th>\n      <th>Price(t-14)</th>\n      <th>Price(t-15)</th>\n      <th>Real_GDP</th>\n      <th>CPI</th>\n      <th>inflation_rate</th>\n      <th>PALLFNFINDEXM</th>\n      <th>DEXCHUS</th>\n    </tr>\n  </thead>\n  <tbody>\n    <tr>\n      <th>0</th>\n      <td>0.8415</td>\n      <td>0.8425</td>\n      <td>0.8565</td>\n      <td>0.8730</td>\n      <td>0.8730</td>\n      <td>0.8825</td>\n      <td>0.8660</td>\n      <td>0.8625</td>\n      <td>0.8565</td>\n      <td>0.8660</td>\n      <td>...</td>\n      <td>0.8465</td>\n      <td>0.8540</td>\n      <td>0.8530</td>\n      <td>0.8565</td>\n      <td>0.8480</td>\n      <td>14096.033</td>\n      <td>168.8</td>\n      <td>3.376857</td>\n      <td>59.470000</td>\n      <td>0.120774</td>\n    </tr>\n    <tr>\n      <th>1</th>\n      <td>0.8445</td>\n      <td>0.8415</td>\n      <td>0.8425</td>\n      <td>0.8565</td>\n      <td>0.8730</td>\n      <td>0.8730</td>\n      <td>0.8825</td>\n      <td>0.8660</td>\n      <td>0.8625</td>\n      <td>0.8565</td>\n      <td>...</td>\n      <td>0.8435</td>\n      <td>0.8465</td>\n      <td>0.8540</td>\n      <td>0.8530</td>\n      <td>0.8565</td>\n      <td>14096.033</td>\n      <td>168.8</td>\n      <td>3.376857</td>\n      <td>59.470000</td>\n      <td>0.120776</td>\n    </tr>\n    <tr>\n      <th>2</th>\n      <td>0.8400</td>\n      <td>0.8445</td>\n      <td>0.8415</td>\n      <td>0.8425</td>\n      <td>0.8565</td>\n      <td>0.8730</td>\n      <td>0.8730</td>\n      <td>0.8825</td>\n      <td>0.8660</td>\n      <td>0.8625</td>\n      <td>...</td>\n      <td>0.8660</td>\n      <td>0.8435</td>\n      <td>0.8465</td>\n      <td>0.8540</td>\n      <td>0.8530</td>\n      <td>14096.033</td>\n      <td>168.8</td>\n      <td>3.376857</td>\n      <td>59.470000</td>\n      <td>0.120777</td>\n    </tr>\n    <tr>\n      <th>3</th>\n      <td>0.8545</td>\n      <td>0.8400</td>\n      <td>0.8445</td>\n      <td>0.8415</td>\n      <td>0.8425</td>\n      <td>0.8565</td>\n      <td>0.8730</td>\n      <td>0.8730</td>\n      <td>0.8825</td>\n      <td>0.8660</td>\n      <td>...</td>\n      <td>0.8565</td>\n      <td>0.8660</td>\n      <td>0.8435</td>\n      <td>0.8465</td>\n      <td>0.8540</td>\n      <td>14096.033</td>\n      <td>168.8</td>\n      <td>3.376857</td>\n      <td>59.470000</td>\n      <td>0.120782</td>\n    </tr>\n    <tr>\n      <th>4</th>\n      <td>0.8480</td>\n      <td>0.8545</td>\n      <td>0.8400</td>\n      <td>0.8445</td>\n      <td>0.8415</td>\n      <td>0.8425</td>\n      <td>0.8565</td>\n      <td>0.8730</td>\n      <td>0.8730</td>\n      <td>0.8825</td>\n      <td>...</td>\n      <td>0.8625</td>\n      <td>0.8565</td>\n      <td>0.8660</td>\n      <td>0.8435</td>\n      <td>0.8465</td>\n      <td>14096.033</td>\n      <td>168.8</td>\n      <td>3.376857</td>\n      <td>59.470000</td>\n      <td>0.120782</td>\n    </tr>\n    <tr>\n      <th>...</th>\n      <td>...</td>\n      <td>...</td>\n      <td>...</td>\n      <td>...</td>\n      <td>...</td>\n      <td>...</td>\n      <td>...</td>\n      <td>...</td>\n      <td>...</td>\n      <td>...</td>\n      <td>...</td>\n      <td>...</td>\n      <td>...</td>\n      <td>...</td>\n      <td>...</td>\n      <td>...</td>\n      <td>...</td>\n      <td>...</td>\n      <td>...</td>\n      <td>...</td>\n      <td>...</td>\n    </tr>\n    <tr>\n      <th>6032</th>\n      <td>3.8335</td>\n      <td>3.7345</td>\n      <td>3.7025</td>\n      <td>3.7185</td>\n      <td>3.6835</td>\n      <td>3.6660</td>\n      <td>3.5870</td>\n      <td>3.6405</td>\n      <td>3.6380</td>\n      <td>3.6790</td>\n      <td>...</td>\n      <td>3.6815</td>\n      <td>3.6725</td>\n      <td>3.6490</td>\n      <td>3.6490</td>\n      <td>3.6585</td>\n      <td>19374.000</td>\n      <td>307.0</td>\n      <td>6.600000</td>\n      <td>168.657489</td>\n      <td>0.136737</td>\n    </tr>\n    <tr>\n      <th>6033</th>\n      <td>3.8395</td>\n      <td>3.8335</td>\n      <td>3.7345</td>\n      <td>3.7025</td>\n      <td>3.7185</td>\n      <td>3.6835</td>\n      <td>3.6660</td>\n      <td>3.5870</td>\n      <td>3.6405</td>\n      <td>3.6380</td>\n      <td>...</td>\n      <td>3.7190</td>\n      <td>3.6815</td>\n      <td>3.6725</td>\n      <td>3.6490</td>\n      <td>3.6490</td>\n      <td>19374.000</td>\n      <td>307.0</td>\n      <td>6.600000</td>\n      <td>168.657489</td>\n      <td>0.136676</td>\n    </tr>\n    <tr>\n      <th>6034</th>\n      <td>3.7970</td>\n      <td>3.8395</td>\n      <td>3.8335</td>\n      <td>3.7345</td>\n      <td>3.7025</td>\n      <td>3.7185</td>\n      <td>3.6835</td>\n      <td>3.6660</td>\n      <td>3.5870</td>\n      <td>3.6405</td>\n      <td>...</td>\n      <td>3.6790</td>\n      <td>3.7190</td>\n      <td>3.6815</td>\n      <td>3.6725</td>\n      <td>3.6490</td>\n      <td>19374.000</td>\n      <td>307.0</td>\n      <td>6.600000</td>\n      <td>168.657489</td>\n      <td>0.136659</td>\n    </tr>\n    <tr>\n      <th>6035</th>\n      <td>3.7743</td>\n      <td>3.7970</td>\n      <td>3.8395</td>\n      <td>3.8335</td>\n      <td>3.7345</td>\n      <td>3.7025</td>\n      <td>3.7185</td>\n      <td>3.6835</td>\n      <td>3.6660</td>\n      <td>3.5870</td>\n      <td>...</td>\n      <td>3.6380</td>\n      <td>3.6790</td>\n      <td>3.7190</td>\n      <td>3.6815</td>\n      <td>3.6725</td>\n      <td>19374.000</td>\n      <td>307.0</td>\n      <td>6.600000</td>\n      <td>168.657489</td>\n      <td>0.136687</td>\n    </tr>\n    <tr>\n      <th>6036</th>\n      <td>3.8205</td>\n      <td>3.7743</td>\n      <td>3.7970</td>\n      <td>3.8395</td>\n      <td>3.8335</td>\n      <td>3.7345</td>\n      <td>3.7025</td>\n      <td>3.7185</td>\n      <td>3.6835</td>\n      <td>3.6660</td>\n      <td>...</td>\n      <td>3.6405</td>\n      <td>3.6380</td>\n      <td>3.6790</td>\n      <td>3.7190</td>\n      <td>3.6815</td>\n      <td>19374.000</td>\n      <td>307.0</td>\n      <td>6.600000</td>\n      <td>168.657489</td>\n      <td>0.136977</td>\n    </tr>\n  </tbody>\n</table>\n<p>6037 rows × 21 columns</p>\n</div>"
     },
     "execution_count": 86,
     "metadata": {},
     "output_type": "execute_result"
    }
   ],
   "source": [
    "shifted_df_no_date = shifted_df.drop(['Date'], axis=1)\n",
    "shifted_df_no_date"
   ]
  },
  {
   "cell_type": "code",
   "execution_count": 87,
   "metadata": {
    "ExecuteTime": {
     "end_time": "2023-12-01T23:24:00.604496600Z",
     "start_time": "2023-12-01T23:24:00.572511400Z"
    }
   },
   "outputs": [
    {
     "data": {
      "text/plain": "['prices_scaler.pkl']"
     },
     "execution_count": 87,
     "metadata": {},
     "output_type": "execute_result"
    }
   ],
   "source": [
    "import joblib\n",
    "joblib.dump(prices_scaler, 'prices_scaler.pkl')"
   ]
  },
  {
   "cell_type": "markdown",
   "source": [
    "## Forecasting"
   ],
   "metadata": {
    "collapsed": false
   }
  },
  {
   "cell_type": "code",
   "execution_count": 88,
   "metadata": {
    "collapsed": false,
    "ExecuteTime": {
     "end_time": "2023-12-01T23:24:01.854821200Z",
     "start_time": "2023-12-01T23:24:01.499294900Z"
    }
   },
   "outputs": [
    {
     "data": {
      "text/plain": "         Price  Price(t-1)  Price(t-2)  Price(t-3)  Price(t-4)  Price(t-5)  \\\n0     0.841500    0.842500    0.856500    0.873000    0.873000    0.882500   \n1     0.844500    0.841500    0.842500    0.856500    0.873000    0.873000   \n2     0.840000    0.844500    0.841500    0.842500    0.856500    0.873000   \n3     0.854500    0.840000    0.844500    0.841500    0.842500    0.856500   \n4     0.848000    0.854500    0.840000    0.844500    0.841500    0.842500   \n...        ...         ...         ...         ...         ...         ...   \n6122  5.410071    5.408491    5.406802    5.404996    5.403067    5.401006   \n6123  5.411550    5.410071    5.408491    5.406802    5.404996    5.403067   \n6124  5.412932    5.411550    5.410071    5.408491    5.406802    5.404996   \n6125  5.414225    5.412932    5.411550    5.410071    5.408491    5.406802   \n6126  5.415435    5.414225    5.412932    5.411550    5.410071    5.408491   \n\n      Price(t-6)  Price(t-7)  Price(t-8)  Price(t-9)  ...  Price(t-11)  \\\n0       0.866000    0.862500    0.856500    0.866000  ...     0.846500   \n1       0.882500    0.866000    0.862500    0.856500  ...     0.843500   \n2       0.873000    0.882500    0.866000    0.862500  ...     0.866000   \n3       0.873000    0.873000    0.882500    0.866000  ...     0.856500   \n4       0.856500    0.873000    0.873000    0.882500  ...     0.862500   \n...          ...         ...         ...         ...  ...          ...   \n6122    5.398805    5.396453    5.393942    5.391262  ...     5.385347   \n6123    5.401006    5.398805    5.396453    5.393942  ...     5.388400   \n6124    5.403067    5.401006    5.398805    5.396453  ...     5.391262   \n6125    5.404996    5.403067    5.401006    5.398805  ...     5.393942   \n6126    5.406802    5.404996    5.403067    5.401006  ...     5.396453   \n\n      Price(t-12)  Price(t-13)  Price(t-14)  Price(t-15)   Real_GDP    CPI  \\\n0        0.854000     0.853000     0.856500     0.848000  14096.033  168.8   \n1        0.846500     0.854000     0.853000     0.856500  14096.033  168.8   \n2        0.843500     0.846500     0.854000     0.853000  14096.033  168.8   \n3        0.866000     0.843500     0.846500     0.854000  14096.033  168.8   \n4        0.856500     0.866000     0.843500     0.846500  14096.033  168.8   \n...           ...          ...          ...          ...        ...    ...   \n6122     5.382090     5.378616     5.374912     5.370963  19374.000  307.0   \n6123     5.385347     5.382090     5.378616     5.374912  19374.000  307.0   \n6124     5.388400     5.385347     5.382090     5.378616  19374.000  307.0   \n6125     5.391262     5.388400     5.385347     5.382090  19374.000  307.0   \n6126     5.393942     5.391262     5.388400     5.385347  19374.000  307.0   \n\n      inflation_rate  PALLFNFINDEXM   DEXCHUS  \n0           3.376857      59.470000  0.120774  \n1           3.376857      59.470000  0.120776  \n2           3.376857      59.470000  0.120777  \n3           3.376857      59.470000  0.120782  \n4           3.376857      59.470000  0.120782  \n...              ...            ...       ...  \n6122        6.600000     168.657489  0.136977  \n6123        6.600000     168.657489  0.136977  \n6124        6.600000     168.657489  0.136977  \n6125        6.600000     168.657489  0.136977  \n6126        6.600000     168.657489  0.136977  \n\n[6127 rows x 21 columns]",
      "text/html": "<div>\n<style scoped>\n    .dataframe tbody tr th:only-of-type {\n        vertical-align: middle;\n    }\n\n    .dataframe tbody tr th {\n        vertical-align: top;\n    }\n\n    .dataframe thead th {\n        text-align: right;\n    }\n</style>\n<table border=\"1\" class=\"dataframe\">\n  <thead>\n    <tr style=\"text-align: right;\">\n      <th></th>\n      <th>Price</th>\n      <th>Price(t-1)</th>\n      <th>Price(t-2)</th>\n      <th>Price(t-3)</th>\n      <th>Price(t-4)</th>\n      <th>Price(t-5)</th>\n      <th>Price(t-6)</th>\n      <th>Price(t-7)</th>\n      <th>Price(t-8)</th>\n      <th>Price(t-9)</th>\n      <th>...</th>\n      <th>Price(t-11)</th>\n      <th>Price(t-12)</th>\n      <th>Price(t-13)</th>\n      <th>Price(t-14)</th>\n      <th>Price(t-15)</th>\n      <th>Real_GDP</th>\n      <th>CPI</th>\n      <th>inflation_rate</th>\n      <th>PALLFNFINDEXM</th>\n      <th>DEXCHUS</th>\n    </tr>\n  </thead>\n  <tbody>\n    <tr>\n      <th>0</th>\n      <td>0.841500</td>\n      <td>0.842500</td>\n      <td>0.856500</td>\n      <td>0.873000</td>\n      <td>0.873000</td>\n      <td>0.882500</td>\n      <td>0.866000</td>\n      <td>0.862500</td>\n      <td>0.856500</td>\n      <td>0.866000</td>\n      <td>...</td>\n      <td>0.846500</td>\n      <td>0.854000</td>\n      <td>0.853000</td>\n      <td>0.856500</td>\n      <td>0.848000</td>\n      <td>14096.033</td>\n      <td>168.8</td>\n      <td>3.376857</td>\n      <td>59.470000</td>\n      <td>0.120774</td>\n    </tr>\n    <tr>\n      <th>1</th>\n      <td>0.844500</td>\n      <td>0.841500</td>\n      <td>0.842500</td>\n      <td>0.856500</td>\n      <td>0.873000</td>\n      <td>0.873000</td>\n      <td>0.882500</td>\n      <td>0.866000</td>\n      <td>0.862500</td>\n      <td>0.856500</td>\n      <td>...</td>\n      <td>0.843500</td>\n      <td>0.846500</td>\n      <td>0.854000</td>\n      <td>0.853000</td>\n      <td>0.856500</td>\n      <td>14096.033</td>\n      <td>168.8</td>\n      <td>3.376857</td>\n      <td>59.470000</td>\n      <td>0.120776</td>\n    </tr>\n    <tr>\n      <th>2</th>\n      <td>0.840000</td>\n      <td>0.844500</td>\n      <td>0.841500</td>\n      <td>0.842500</td>\n      <td>0.856500</td>\n      <td>0.873000</td>\n      <td>0.873000</td>\n      <td>0.882500</td>\n      <td>0.866000</td>\n      <td>0.862500</td>\n      <td>...</td>\n      <td>0.866000</td>\n      <td>0.843500</td>\n      <td>0.846500</td>\n      <td>0.854000</td>\n      <td>0.853000</td>\n      <td>14096.033</td>\n      <td>168.8</td>\n      <td>3.376857</td>\n      <td>59.470000</td>\n      <td>0.120777</td>\n    </tr>\n    <tr>\n      <th>3</th>\n      <td>0.854500</td>\n      <td>0.840000</td>\n      <td>0.844500</td>\n      <td>0.841500</td>\n      <td>0.842500</td>\n      <td>0.856500</td>\n      <td>0.873000</td>\n      <td>0.873000</td>\n      <td>0.882500</td>\n      <td>0.866000</td>\n      <td>...</td>\n      <td>0.856500</td>\n      <td>0.866000</td>\n      <td>0.843500</td>\n      <td>0.846500</td>\n      <td>0.854000</td>\n      <td>14096.033</td>\n      <td>168.8</td>\n      <td>3.376857</td>\n      <td>59.470000</td>\n      <td>0.120782</td>\n    </tr>\n    <tr>\n      <th>4</th>\n      <td>0.848000</td>\n      <td>0.854500</td>\n      <td>0.840000</td>\n      <td>0.844500</td>\n      <td>0.841500</td>\n      <td>0.842500</td>\n      <td>0.856500</td>\n      <td>0.873000</td>\n      <td>0.873000</td>\n      <td>0.882500</td>\n      <td>...</td>\n      <td>0.862500</td>\n      <td>0.856500</td>\n      <td>0.866000</td>\n      <td>0.843500</td>\n      <td>0.846500</td>\n      <td>14096.033</td>\n      <td>168.8</td>\n      <td>3.376857</td>\n      <td>59.470000</td>\n      <td>0.120782</td>\n    </tr>\n    <tr>\n      <th>...</th>\n      <td>...</td>\n      <td>...</td>\n      <td>...</td>\n      <td>...</td>\n      <td>...</td>\n      <td>...</td>\n      <td>...</td>\n      <td>...</td>\n      <td>...</td>\n      <td>...</td>\n      <td>...</td>\n      <td>...</td>\n      <td>...</td>\n      <td>...</td>\n      <td>...</td>\n      <td>...</td>\n      <td>...</td>\n      <td>...</td>\n      <td>...</td>\n      <td>...</td>\n      <td>...</td>\n    </tr>\n    <tr>\n      <th>6122</th>\n      <td>5.410071</td>\n      <td>5.408491</td>\n      <td>5.406802</td>\n      <td>5.404996</td>\n      <td>5.403067</td>\n      <td>5.401006</td>\n      <td>5.398805</td>\n      <td>5.396453</td>\n      <td>5.393942</td>\n      <td>5.391262</td>\n      <td>...</td>\n      <td>5.385347</td>\n      <td>5.382090</td>\n      <td>5.378616</td>\n      <td>5.374912</td>\n      <td>5.370963</td>\n      <td>19374.000</td>\n      <td>307.0</td>\n      <td>6.600000</td>\n      <td>168.657489</td>\n      <td>0.136977</td>\n    </tr>\n    <tr>\n      <th>6123</th>\n      <td>5.411550</td>\n      <td>5.410071</td>\n      <td>5.408491</td>\n      <td>5.406802</td>\n      <td>5.404996</td>\n      <td>5.403067</td>\n      <td>5.401006</td>\n      <td>5.398805</td>\n      <td>5.396453</td>\n      <td>5.393942</td>\n      <td>...</td>\n      <td>5.388400</td>\n      <td>5.385347</td>\n      <td>5.382090</td>\n      <td>5.378616</td>\n      <td>5.374912</td>\n      <td>19374.000</td>\n      <td>307.0</td>\n      <td>6.600000</td>\n      <td>168.657489</td>\n      <td>0.136977</td>\n    </tr>\n    <tr>\n      <th>6124</th>\n      <td>5.412932</td>\n      <td>5.411550</td>\n      <td>5.410071</td>\n      <td>5.408491</td>\n      <td>5.406802</td>\n      <td>5.404996</td>\n      <td>5.403067</td>\n      <td>5.401006</td>\n      <td>5.398805</td>\n      <td>5.396453</td>\n      <td>...</td>\n      <td>5.391262</td>\n      <td>5.388400</td>\n      <td>5.385347</td>\n      <td>5.382090</td>\n      <td>5.378616</td>\n      <td>19374.000</td>\n      <td>307.0</td>\n      <td>6.600000</td>\n      <td>168.657489</td>\n      <td>0.136977</td>\n    </tr>\n    <tr>\n      <th>6125</th>\n      <td>5.414225</td>\n      <td>5.412932</td>\n      <td>5.411550</td>\n      <td>5.410071</td>\n      <td>5.408491</td>\n      <td>5.406802</td>\n      <td>5.404996</td>\n      <td>5.403067</td>\n      <td>5.401006</td>\n      <td>5.398805</td>\n      <td>...</td>\n      <td>5.393942</td>\n      <td>5.391262</td>\n      <td>5.388400</td>\n      <td>5.385347</td>\n      <td>5.382090</td>\n      <td>19374.000</td>\n      <td>307.0</td>\n      <td>6.600000</td>\n      <td>168.657489</td>\n      <td>0.136977</td>\n    </tr>\n    <tr>\n      <th>6126</th>\n      <td>5.415435</td>\n      <td>5.414225</td>\n      <td>5.412932</td>\n      <td>5.411550</td>\n      <td>5.410071</td>\n      <td>5.408491</td>\n      <td>5.406802</td>\n      <td>5.404996</td>\n      <td>5.403067</td>\n      <td>5.401006</td>\n      <td>...</td>\n      <td>5.396453</td>\n      <td>5.393942</td>\n      <td>5.391262</td>\n      <td>5.388400</td>\n      <td>5.385347</td>\n      <td>19374.000</td>\n      <td>307.0</td>\n      <td>6.600000</td>\n      <td>168.657489</td>\n      <td>0.136977</td>\n    </tr>\n  </tbody>\n</table>\n<p>6127 rows × 21 columns</p>\n</div>"
     },
     "execution_count": 88,
     "metadata": {},
     "output_type": "execute_result"
    }
   ],
   "source": [
    "for i in range(forecast_dates.shape[0]):\n",
    "    last = shifted_df_as_tensor[-1][1:]\n",
    "    last = last.unsqueeze(0).unsqueeze(-1).float()\n",
    "    with torch.no_grad():\n",
    "        predicted = model(last.to(device)).to('cpu').numpy()\n",
    "    row = torch.cat([shifted_df_as_tensor[-1][1:],torch.tensor(predicted).reshape(1)],dim=0).unsqueeze(0)\n",
    "    quick_reverse = prices_scaler.inverse_transform(row[:,5:].to('cpu').numpy())\n",
    "    new_row = {'Price':quick_reverse[0][LOOKBACK], \n",
    "               'Price(t-1)':quick_reverse[0][LOOKBACK-1],\n",
    "               'Price(t-2)':quick_reverse[0][LOOKBACK-2],\n",
    "               'Price(t-3)':quick_reverse[0][LOOKBACK-3],\n",
    "               'Price(t-4)':quick_reverse[0][LOOKBACK-4],\n",
    "               'Price(t-5)':quick_reverse[0][LOOKBACK-5],\n",
    "               'Price(t-6)':quick_reverse[0][LOOKBACK-6],\n",
    "               'Price(t-7)':quick_reverse[0][LOOKBACK-7],\n",
    "               'Price(t-8)':quick_reverse[0][LOOKBACK-8],\n",
    "               'Price(t-9)':quick_reverse[0][LOOKBACK-9],\n",
    "               'Price(t-10)':quick_reverse[0][LOOKBACK-10],\n",
    "               'Price(t-11)':quick_reverse[0][LOOKBACK-11],\n",
    "               'Price(t-12)':quick_reverse[0][LOOKBACK-12],\n",
    "               'Price(t-13)':quick_reverse[0][LOOKBACK-13],\n",
    "               'Price(t-14)':quick_reverse[0][LOOKBACK-14],\n",
    "               'Price(t-15)':quick_reverse[0][LOOKBACK-15],\n",
    "               'Real_GDP':df.iloc[-1][\"Real_GDP\"],\n",
    "               'CPI':df.iloc[-1][\"CPI\"],\n",
    "               'inflation_rate':df.iloc[-1][\"inflation_rate\"],\n",
    "               'PALLFNFINDEXM':df.iloc[-1][\"PALLFNFINDEXM\"],\n",
    "               'DEXCHUS':df.iloc[-1][\"DEXCHUS\"]\n",
    "               }\n",
    "    shifted_df_as_tensor = torch.cat((shifted_df_as_tensor, row),dim=0)\n",
    "    shifted_df_no_date = shifted_df_no_date._append(new_row,ignore_index=True)\n",
    "shifted_df_no_date\n",
    "    "
   ]
  },
  {
   "cell_type": "code",
   "execution_count": 89,
   "metadata": {
    "ExecuteTime": {
     "end_time": "2023-12-01T23:24:03.340401500Z",
     "start_time": "2023-12-01T23:24:03.300393700Z"
    }
   },
   "outputs": [
    {
     "data": {
      "text/plain": "           Date  Month    Year   Real_GDP    CPI  inflation_rate  \\\n0    2000-01-04    1.0  2000.0  14096.033  168.8        3.376857   \n1    2000-01-05    1.0  2000.0  14096.033  168.8        3.376857   \n2    2000-01-06    1.0  2000.0  14096.033  168.8        3.376857   \n3    2000-01-07    1.0  2000.0  14096.033  168.8        3.376857   \n4    2000-01-10    1.0  2000.0  14096.033  168.8        3.376857   \n...         ...    ...     ...        ...    ...             ...   \n6032 2023-10-30   10.0  2023.0  19374.000  307.0        6.600000   \n6033 2023-10-31   10.0  2023.0  19374.000  307.0        6.600000   \n6034 2023-11-01   11.0  2023.0  19374.000  307.0        6.600000   \n6035 2023-11-02   11.0  2023.0  19374.000  307.0        6.600000   \n6036 2023-11-03   11.0  2023.0  19374.000  307.0        6.600000   \n\n      PALLFNFINDEXM   DEXCHUS  \n0         59.470000  0.120774  \n1         59.470000  0.120776  \n2         59.470000  0.120777  \n3         59.470000  0.120782  \n4         59.470000  0.120782  \n...             ...       ...  \n6032     168.657489  0.136737  \n6033     168.657489  0.136676  \n6034     168.657489  0.136659  \n6035     168.657489  0.136687  \n6036     168.657489  0.136977  \n\n[6037 rows x 8 columns]",
      "text/html": "<div>\n<style scoped>\n    .dataframe tbody tr th:only-of-type {\n        vertical-align: middle;\n    }\n\n    .dataframe tbody tr th {\n        vertical-align: top;\n    }\n\n    .dataframe thead th {\n        text-align: right;\n    }\n</style>\n<table border=\"1\" class=\"dataframe\">\n  <thead>\n    <tr style=\"text-align: right;\">\n      <th></th>\n      <th>Date</th>\n      <th>Month</th>\n      <th>Year</th>\n      <th>Real_GDP</th>\n      <th>CPI</th>\n      <th>inflation_rate</th>\n      <th>PALLFNFINDEXM</th>\n      <th>DEXCHUS</th>\n    </tr>\n  </thead>\n  <tbody>\n    <tr>\n      <th>0</th>\n      <td>2000-01-04</td>\n      <td>1.0</td>\n      <td>2000.0</td>\n      <td>14096.033</td>\n      <td>168.8</td>\n      <td>3.376857</td>\n      <td>59.470000</td>\n      <td>0.120774</td>\n    </tr>\n    <tr>\n      <th>1</th>\n      <td>2000-01-05</td>\n      <td>1.0</td>\n      <td>2000.0</td>\n      <td>14096.033</td>\n      <td>168.8</td>\n      <td>3.376857</td>\n      <td>59.470000</td>\n      <td>0.120776</td>\n    </tr>\n    <tr>\n      <th>2</th>\n      <td>2000-01-06</td>\n      <td>1.0</td>\n      <td>2000.0</td>\n      <td>14096.033</td>\n      <td>168.8</td>\n      <td>3.376857</td>\n      <td>59.470000</td>\n      <td>0.120777</td>\n    </tr>\n    <tr>\n      <th>3</th>\n      <td>2000-01-07</td>\n      <td>1.0</td>\n      <td>2000.0</td>\n      <td>14096.033</td>\n      <td>168.8</td>\n      <td>3.376857</td>\n      <td>59.470000</td>\n      <td>0.120782</td>\n    </tr>\n    <tr>\n      <th>4</th>\n      <td>2000-01-10</td>\n      <td>1.0</td>\n      <td>2000.0</td>\n      <td>14096.033</td>\n      <td>168.8</td>\n      <td>3.376857</td>\n      <td>59.470000</td>\n      <td>0.120782</td>\n    </tr>\n    <tr>\n      <th>...</th>\n      <td>...</td>\n      <td>...</td>\n      <td>...</td>\n      <td>...</td>\n      <td>...</td>\n      <td>...</td>\n      <td>...</td>\n      <td>...</td>\n    </tr>\n    <tr>\n      <th>6032</th>\n      <td>2023-10-30</td>\n      <td>10.0</td>\n      <td>2023.0</td>\n      <td>19374.000</td>\n      <td>307.0</td>\n      <td>6.600000</td>\n      <td>168.657489</td>\n      <td>0.136737</td>\n    </tr>\n    <tr>\n      <th>6033</th>\n      <td>2023-10-31</td>\n      <td>10.0</td>\n      <td>2023.0</td>\n      <td>19374.000</td>\n      <td>307.0</td>\n      <td>6.600000</td>\n      <td>168.657489</td>\n      <td>0.136676</td>\n    </tr>\n    <tr>\n      <th>6034</th>\n      <td>2023-11-01</td>\n      <td>11.0</td>\n      <td>2023.0</td>\n      <td>19374.000</td>\n      <td>307.0</td>\n      <td>6.600000</td>\n      <td>168.657489</td>\n      <td>0.136659</td>\n    </tr>\n    <tr>\n      <th>6035</th>\n      <td>2023-11-02</td>\n      <td>11.0</td>\n      <td>2023.0</td>\n      <td>19374.000</td>\n      <td>307.0</td>\n      <td>6.600000</td>\n      <td>168.657489</td>\n      <td>0.136687</td>\n    </tr>\n    <tr>\n      <th>6036</th>\n      <td>2023-11-03</td>\n      <td>11.0</td>\n      <td>2023.0</td>\n      <td>19374.000</td>\n      <td>307.0</td>\n      <td>6.600000</td>\n      <td>168.657489</td>\n      <td>0.136977</td>\n    </tr>\n  </tbody>\n</table>\n<p>6037 rows × 8 columns</p>\n</div>"
     },
     "execution_count": 89,
     "metadata": {},
     "output_type": "execute_result"
    }
   ],
   "source": [
    "df"
   ]
  },
  {
   "cell_type": "code",
   "execution_count": 90,
   "metadata": {
    "ExecuteTime": {
     "end_time": "2023-12-01T23:24:03.760950800Z",
     "start_time": "2023-12-01T23:24:03.704916200Z"
    }
   },
   "outputs": [
    {
     "data": {
      "text/plain": "torch.Size([6127, 21])"
     },
     "execution_count": 90,
     "metadata": {},
     "output_type": "execute_result"
    }
   ],
   "source": [
    "shifted_df_as_tensor.shape"
   ]
  },
  {
   "cell_type": "markdown",
   "source": [
    "## Inverse Scaling"
   ],
   "metadata": {
    "collapsed": false
   }
  },
  {
   "cell_type": "code",
   "execution_count": 91,
   "metadata": {
    "ExecuteTime": {
     "end_time": "2023-12-01T23:24:04.098245300Z",
     "start_time": "2023-12-01T23:24:03.999173200Z"
    }
   },
   "outputs": [
    {
     "data": {
      "text/plain": "array([[0.848     , 0.8565    , 0.853     , ..., 0.8565    , 0.8425    ,\n        0.8415    ],\n       [0.8565    , 0.853     , 0.854     , ..., 0.8425    , 0.8415    ,\n        0.8445    ],\n       [0.853     , 0.854     , 0.8465    , ..., 0.8415    , 0.8445    ,\n        0.84      ],\n       ...,\n       [5.37861599, 5.38208983, 5.38534718, ..., 5.41007147, 5.41154972,\n        5.41293249],\n       [5.38208983, 5.38534718, 5.38840043, ..., 5.41154972, 5.41293249,\n        5.41422547],\n       [5.38534718, 5.38840043, 5.39126171, ..., 5.41293249, 5.41422547,\n        5.41543485]])"
     },
     "execution_count": 91,
     "metadata": {},
     "output_type": "execute_result"
    }
   ],
   "source": [
    "final_set = prices_scaler.inverse_transform(shifted_df_as_tensor[:,5:].to('cpu').numpy())\n",
    "final_set"
   ]
  },
  {
   "cell_type": "code",
   "execution_count": 92,
   "metadata": {
    "ExecuteTime": {
     "end_time": "2023-12-01T23:24:04.749789Z",
     "start_time": "2023-12-01T23:24:04.690579600Z"
    }
   },
   "outputs": [
    {
     "data": {
      "text/plain": "         Price  Price(t-1)  Price(t-2)  Price(t-3)  Price(t-4)  Price(t-5)  \\\n0     0.841500    0.842500    0.856500    0.873000    0.873000    0.882500   \n1     0.844500    0.841500    0.842500    0.856500    0.873000    0.873000   \n2     0.840000    0.844500    0.841500    0.842500    0.856500    0.873000   \n3     0.854500    0.840000    0.844500    0.841500    0.842500    0.856500   \n4     0.848000    0.854500    0.840000    0.844500    0.841500    0.842500   \n...        ...         ...         ...         ...         ...         ...   \n6122  5.410071    5.408491    5.406802    5.404996    5.403067    5.401006   \n6123  5.411550    5.410071    5.408491    5.406802    5.404996    5.403067   \n6124  5.412932    5.411550    5.410071    5.408491    5.406802    5.404996   \n6125  5.414225    5.412932    5.411550    5.410071    5.408491    5.406802   \n6126  5.415435    5.414225    5.412932    5.411550    5.410071    5.408491   \n\n      Price(t-6)  Price(t-7)  Price(t-8)  Price(t-9)  ...  Price(t-11)  \\\n0       0.866000    0.862500    0.856500    0.866000  ...     0.846500   \n1       0.882500    0.866000    0.862500    0.856500  ...     0.843500   \n2       0.873000    0.882500    0.866000    0.862500  ...     0.866000   \n3       0.873000    0.873000    0.882500    0.866000  ...     0.856500   \n4       0.856500    0.873000    0.873000    0.882500  ...     0.862500   \n...          ...         ...         ...         ...  ...          ...   \n6122    5.398805    5.396453    5.393942    5.391262  ...     5.385347   \n6123    5.401006    5.398805    5.396453    5.393942  ...     5.388400   \n6124    5.403067    5.401006    5.398805    5.396453  ...     5.391262   \n6125    5.404996    5.403067    5.401006    5.398805  ...     5.393942   \n6126    5.406802    5.404996    5.403067    5.401006  ...     5.396453   \n\n      Price(t-12)  Price(t-13)  Price(t-14)  Price(t-15)   Real_GDP    CPI  \\\n0        0.854000     0.853000     0.856500     0.848000  14096.033  168.8   \n1        0.846500     0.854000     0.853000     0.856500  14096.033  168.8   \n2        0.843500     0.846500     0.854000     0.853000  14096.033  168.8   \n3        0.866000     0.843500     0.846500     0.854000  14096.033  168.8   \n4        0.856500     0.866000     0.843500     0.846500  14096.033  168.8   \n...           ...          ...          ...          ...        ...    ...   \n6122     5.382090     5.378616     5.374912     5.370963  19374.000  307.0   \n6123     5.385347     5.382090     5.378616     5.374912  19374.000  307.0   \n6124     5.388400     5.385347     5.382090     5.378616  19374.000  307.0   \n6125     5.391262     5.388400     5.385347     5.382090  19374.000  307.0   \n6126     5.393942     5.391262     5.388400     5.385347  19374.000  307.0   \n\n      inflation_rate  PALLFNFINDEXM   DEXCHUS  \n0           3.376857      59.470000  0.120774  \n1           3.376857      59.470000  0.120776  \n2           3.376857      59.470000  0.120777  \n3           3.376857      59.470000  0.120782  \n4           3.376857      59.470000  0.120782  \n...              ...            ...       ...  \n6122        6.600000     168.657489  0.136977  \n6123        6.600000     168.657489  0.136977  \n6124        6.600000     168.657489  0.136977  \n6125        6.600000     168.657489  0.136977  \n6126        6.600000     168.657489  0.136977  \n\n[6127 rows x 21 columns]",
      "text/html": "<div>\n<style scoped>\n    .dataframe tbody tr th:only-of-type {\n        vertical-align: middle;\n    }\n\n    .dataframe tbody tr th {\n        vertical-align: top;\n    }\n\n    .dataframe thead th {\n        text-align: right;\n    }\n</style>\n<table border=\"1\" class=\"dataframe\">\n  <thead>\n    <tr style=\"text-align: right;\">\n      <th></th>\n      <th>Price</th>\n      <th>Price(t-1)</th>\n      <th>Price(t-2)</th>\n      <th>Price(t-3)</th>\n      <th>Price(t-4)</th>\n      <th>Price(t-5)</th>\n      <th>Price(t-6)</th>\n      <th>Price(t-7)</th>\n      <th>Price(t-8)</th>\n      <th>Price(t-9)</th>\n      <th>...</th>\n      <th>Price(t-11)</th>\n      <th>Price(t-12)</th>\n      <th>Price(t-13)</th>\n      <th>Price(t-14)</th>\n      <th>Price(t-15)</th>\n      <th>Real_GDP</th>\n      <th>CPI</th>\n      <th>inflation_rate</th>\n      <th>PALLFNFINDEXM</th>\n      <th>DEXCHUS</th>\n    </tr>\n  </thead>\n  <tbody>\n    <tr>\n      <th>0</th>\n      <td>0.841500</td>\n      <td>0.842500</td>\n      <td>0.856500</td>\n      <td>0.873000</td>\n      <td>0.873000</td>\n      <td>0.882500</td>\n      <td>0.866000</td>\n      <td>0.862500</td>\n      <td>0.856500</td>\n      <td>0.866000</td>\n      <td>...</td>\n      <td>0.846500</td>\n      <td>0.854000</td>\n      <td>0.853000</td>\n      <td>0.856500</td>\n      <td>0.848000</td>\n      <td>14096.033</td>\n      <td>168.8</td>\n      <td>3.376857</td>\n      <td>59.470000</td>\n      <td>0.120774</td>\n    </tr>\n    <tr>\n      <th>1</th>\n      <td>0.844500</td>\n      <td>0.841500</td>\n      <td>0.842500</td>\n      <td>0.856500</td>\n      <td>0.873000</td>\n      <td>0.873000</td>\n      <td>0.882500</td>\n      <td>0.866000</td>\n      <td>0.862500</td>\n      <td>0.856500</td>\n      <td>...</td>\n      <td>0.843500</td>\n      <td>0.846500</td>\n      <td>0.854000</td>\n      <td>0.853000</td>\n      <td>0.856500</td>\n      <td>14096.033</td>\n      <td>168.8</td>\n      <td>3.376857</td>\n      <td>59.470000</td>\n      <td>0.120776</td>\n    </tr>\n    <tr>\n      <th>2</th>\n      <td>0.840000</td>\n      <td>0.844500</td>\n      <td>0.841500</td>\n      <td>0.842500</td>\n      <td>0.856500</td>\n      <td>0.873000</td>\n      <td>0.873000</td>\n      <td>0.882500</td>\n      <td>0.866000</td>\n      <td>0.862500</td>\n      <td>...</td>\n      <td>0.866000</td>\n      <td>0.843500</td>\n      <td>0.846500</td>\n      <td>0.854000</td>\n      <td>0.853000</td>\n      <td>14096.033</td>\n      <td>168.8</td>\n      <td>3.376857</td>\n      <td>59.470000</td>\n      <td>0.120777</td>\n    </tr>\n    <tr>\n      <th>3</th>\n      <td>0.854500</td>\n      <td>0.840000</td>\n      <td>0.844500</td>\n      <td>0.841500</td>\n      <td>0.842500</td>\n      <td>0.856500</td>\n      <td>0.873000</td>\n      <td>0.873000</td>\n      <td>0.882500</td>\n      <td>0.866000</td>\n      <td>...</td>\n      <td>0.856500</td>\n      <td>0.866000</td>\n      <td>0.843500</td>\n      <td>0.846500</td>\n      <td>0.854000</td>\n      <td>14096.033</td>\n      <td>168.8</td>\n      <td>3.376857</td>\n      <td>59.470000</td>\n      <td>0.120782</td>\n    </tr>\n    <tr>\n      <th>4</th>\n      <td>0.848000</td>\n      <td>0.854500</td>\n      <td>0.840000</td>\n      <td>0.844500</td>\n      <td>0.841500</td>\n      <td>0.842500</td>\n      <td>0.856500</td>\n      <td>0.873000</td>\n      <td>0.873000</td>\n      <td>0.882500</td>\n      <td>...</td>\n      <td>0.862500</td>\n      <td>0.856500</td>\n      <td>0.866000</td>\n      <td>0.843500</td>\n      <td>0.846500</td>\n      <td>14096.033</td>\n      <td>168.8</td>\n      <td>3.376857</td>\n      <td>59.470000</td>\n      <td>0.120782</td>\n    </tr>\n    <tr>\n      <th>...</th>\n      <td>...</td>\n      <td>...</td>\n      <td>...</td>\n      <td>...</td>\n      <td>...</td>\n      <td>...</td>\n      <td>...</td>\n      <td>...</td>\n      <td>...</td>\n      <td>...</td>\n      <td>...</td>\n      <td>...</td>\n      <td>...</td>\n      <td>...</td>\n      <td>...</td>\n      <td>...</td>\n      <td>...</td>\n      <td>...</td>\n      <td>...</td>\n      <td>...</td>\n      <td>...</td>\n    </tr>\n    <tr>\n      <th>6122</th>\n      <td>5.410071</td>\n      <td>5.408491</td>\n      <td>5.406802</td>\n      <td>5.404996</td>\n      <td>5.403067</td>\n      <td>5.401006</td>\n      <td>5.398805</td>\n      <td>5.396453</td>\n      <td>5.393942</td>\n      <td>5.391262</td>\n      <td>...</td>\n      <td>5.385347</td>\n      <td>5.382090</td>\n      <td>5.378616</td>\n      <td>5.374912</td>\n      <td>5.370963</td>\n      <td>19374.000</td>\n      <td>307.0</td>\n      <td>6.600000</td>\n      <td>168.657489</td>\n      <td>0.136977</td>\n    </tr>\n    <tr>\n      <th>6123</th>\n      <td>5.411550</td>\n      <td>5.410071</td>\n      <td>5.408491</td>\n      <td>5.406802</td>\n      <td>5.404996</td>\n      <td>5.403067</td>\n      <td>5.401006</td>\n      <td>5.398805</td>\n      <td>5.396453</td>\n      <td>5.393942</td>\n      <td>...</td>\n      <td>5.388400</td>\n      <td>5.385347</td>\n      <td>5.382090</td>\n      <td>5.378616</td>\n      <td>5.374912</td>\n      <td>19374.000</td>\n      <td>307.0</td>\n      <td>6.600000</td>\n      <td>168.657489</td>\n      <td>0.136977</td>\n    </tr>\n    <tr>\n      <th>6124</th>\n      <td>5.412932</td>\n      <td>5.411550</td>\n      <td>5.410071</td>\n      <td>5.408491</td>\n      <td>5.406802</td>\n      <td>5.404996</td>\n      <td>5.403067</td>\n      <td>5.401006</td>\n      <td>5.398805</td>\n      <td>5.396453</td>\n      <td>...</td>\n      <td>5.391262</td>\n      <td>5.388400</td>\n      <td>5.385347</td>\n      <td>5.382090</td>\n      <td>5.378616</td>\n      <td>19374.000</td>\n      <td>307.0</td>\n      <td>6.600000</td>\n      <td>168.657489</td>\n      <td>0.136977</td>\n    </tr>\n    <tr>\n      <th>6125</th>\n      <td>5.414225</td>\n      <td>5.412932</td>\n      <td>5.411550</td>\n      <td>5.410071</td>\n      <td>5.408491</td>\n      <td>5.406802</td>\n      <td>5.404996</td>\n      <td>5.403067</td>\n      <td>5.401006</td>\n      <td>5.398805</td>\n      <td>...</td>\n      <td>5.393942</td>\n      <td>5.391262</td>\n      <td>5.388400</td>\n      <td>5.385347</td>\n      <td>5.382090</td>\n      <td>19374.000</td>\n      <td>307.0</td>\n      <td>6.600000</td>\n      <td>168.657489</td>\n      <td>0.136977</td>\n    </tr>\n    <tr>\n      <th>6126</th>\n      <td>5.415435</td>\n      <td>5.414225</td>\n      <td>5.412932</td>\n      <td>5.411550</td>\n      <td>5.410071</td>\n      <td>5.408491</td>\n      <td>5.406802</td>\n      <td>5.404996</td>\n      <td>5.403067</td>\n      <td>5.401006</td>\n      <td>...</td>\n      <td>5.396453</td>\n      <td>5.393942</td>\n      <td>5.391262</td>\n      <td>5.388400</td>\n      <td>5.385347</td>\n      <td>19374.000</td>\n      <td>307.0</td>\n      <td>6.600000</td>\n      <td>168.657489</td>\n      <td>0.136977</td>\n    </tr>\n  </tbody>\n</table>\n<p>6127 rows × 21 columns</p>\n</div>"
     },
     "execution_count": 92,
     "metadata": {},
     "output_type": "execute_result"
    }
   ],
   "source": [
    "shifted_df_no_date"
   ]
  },
  {
   "cell_type": "code",
   "execution_count": 93,
   "metadata": {
    "ExecuteTime": {
     "end_time": "2023-12-01T23:24:05.270174700Z",
     "start_time": "2023-12-01T23:24:05.180952200Z"
    }
   },
   "outputs": [
    {
     "data": {
      "text/plain": "         Price\n0     0.841500\n1     0.844500\n2     0.840000\n3     0.854500\n4     0.848000\n...        ...\n6122  5.410071\n6123  5.411550\n6124  5.412932\n6125  5.414225\n6126  5.415435\n\n[6127 rows x 1 columns]",
      "text/html": "<div>\n<style scoped>\n    .dataframe tbody tr th:only-of-type {\n        vertical-align: middle;\n    }\n\n    .dataframe tbody tr th {\n        vertical-align: top;\n    }\n\n    .dataframe thead th {\n        text-align: right;\n    }\n</style>\n<table border=\"1\" class=\"dataframe\">\n  <thead>\n    <tr style=\"text-align: right;\">\n      <th></th>\n      <th>Price</th>\n    </tr>\n  </thead>\n  <tbody>\n    <tr>\n      <th>0</th>\n      <td>0.841500</td>\n    </tr>\n    <tr>\n      <th>1</th>\n      <td>0.844500</td>\n    </tr>\n    <tr>\n      <th>2</th>\n      <td>0.840000</td>\n    </tr>\n    <tr>\n      <th>3</th>\n      <td>0.854500</td>\n    </tr>\n    <tr>\n      <th>4</th>\n      <td>0.848000</td>\n    </tr>\n    <tr>\n      <th>...</th>\n      <td>...</td>\n    </tr>\n    <tr>\n      <th>6122</th>\n      <td>5.410071</td>\n    </tr>\n    <tr>\n      <th>6123</th>\n      <td>5.411550</td>\n    </tr>\n    <tr>\n      <th>6124</th>\n      <td>5.412932</td>\n    </tr>\n    <tr>\n      <th>6125</th>\n      <td>5.414225</td>\n    </tr>\n    <tr>\n      <th>6126</th>\n      <td>5.415435</td>\n    </tr>\n  </tbody>\n</table>\n<p>6127 rows × 1 columns</p>\n</div>"
     },
     "execution_count": 93,
     "metadata": {},
     "output_type": "execute_result"
    }
   ],
   "source": [
    "display_df = pd.DataFrame(shifted_df_no_date[\"Price\"])\n",
    "display_df"
   ]
  },
  {
   "cell_type": "code",
   "execution_count": 94,
   "metadata": {
    "ExecuteTime": {
     "end_time": "2023-12-01T23:24:06.235636700Z",
     "start_time": "2023-12-01T23:24:06.155198700Z"
    }
   },
   "outputs": [
    {
     "data": {
      "text/plain": "         Price\n6037  3.849731\n6038  3.879342\n6039  3.909614\n6040  3.940372\n6041  3.971520\n...        ...\n6122  5.410071\n6123  5.411550\n6124  5.412932\n6125  5.414225\n6126  5.415435\n\n[90 rows x 1 columns]",
      "text/html": "<div>\n<style scoped>\n    .dataframe tbody tr th:only-of-type {\n        vertical-align: middle;\n    }\n\n    .dataframe tbody tr th {\n        vertical-align: top;\n    }\n\n    .dataframe thead th {\n        text-align: right;\n    }\n</style>\n<table border=\"1\" class=\"dataframe\">\n  <thead>\n    <tr style=\"text-align: right;\">\n      <th></th>\n      <th>Price</th>\n    </tr>\n  </thead>\n  <tbody>\n    <tr>\n      <th>6037</th>\n      <td>3.849731</td>\n    </tr>\n    <tr>\n      <th>6038</th>\n      <td>3.879342</td>\n    </tr>\n    <tr>\n      <th>6039</th>\n      <td>3.909614</td>\n    </tr>\n    <tr>\n      <th>6040</th>\n      <td>3.940372</td>\n    </tr>\n    <tr>\n      <th>6041</th>\n      <td>3.971520</td>\n    </tr>\n    <tr>\n      <th>...</th>\n      <td>...</td>\n    </tr>\n    <tr>\n      <th>6122</th>\n      <td>5.410071</td>\n    </tr>\n    <tr>\n      <th>6123</th>\n      <td>5.411550</td>\n    </tr>\n    <tr>\n      <th>6124</th>\n      <td>5.412932</td>\n    </tr>\n    <tr>\n      <th>6125</th>\n      <td>5.414225</td>\n    </tr>\n    <tr>\n      <th>6126</th>\n      <td>5.415435</td>\n    </tr>\n  </tbody>\n</table>\n<p>90 rows × 1 columns</p>\n</div>"
     },
     "execution_count": 94,
     "metadata": {},
     "output_type": "execute_result"
    }
   ],
   "source": [
    "display_df = display_df.iloc[TRAIN_DATA_LEN:]\n",
    "display_df"
   ]
  },
  {
   "cell_type": "code",
   "execution_count": 95,
   "metadata": {
    "ExecuteTime": {
     "end_time": "2023-12-01T23:24:07.290028Z",
     "start_time": "2023-12-01T23:24:07.260508800Z"
    }
   },
   "outputs": [],
   "source": [
    "\n",
    "display_df = display_df.reset_index(drop=True)"
   ]
  },
  {
   "cell_type": "code",
   "execution_count": 96,
   "metadata": {
    "ExecuteTime": {
     "end_time": "2023-12-01T23:24:08.470607200Z",
     "start_time": "2023-12-01T23:24:08.376958800Z"
    }
   },
   "outputs": [
    {
     "data": {
      "text/plain": "       Price\n0   3.849731\n1   3.879342\n2   3.909614\n3   3.940372\n4   3.971520\n..       ...\n85  5.410071\n86  5.411550\n87  5.412932\n88  5.414225\n89  5.415435\n\n[90 rows x 1 columns]",
      "text/html": "<div>\n<style scoped>\n    .dataframe tbody tr th:only-of-type {\n        vertical-align: middle;\n    }\n\n    .dataframe tbody tr th {\n        vertical-align: top;\n    }\n\n    .dataframe thead th {\n        text-align: right;\n    }\n</style>\n<table border=\"1\" class=\"dataframe\">\n  <thead>\n    <tr style=\"text-align: right;\">\n      <th></th>\n      <th>Price</th>\n    </tr>\n  </thead>\n  <tbody>\n    <tr>\n      <th>0</th>\n      <td>3.849731</td>\n    </tr>\n    <tr>\n      <th>1</th>\n      <td>3.879342</td>\n    </tr>\n    <tr>\n      <th>2</th>\n      <td>3.909614</td>\n    </tr>\n    <tr>\n      <th>3</th>\n      <td>3.940372</td>\n    </tr>\n    <tr>\n      <th>4</th>\n      <td>3.971520</td>\n    </tr>\n    <tr>\n      <th>...</th>\n      <td>...</td>\n    </tr>\n    <tr>\n      <th>85</th>\n      <td>5.410071</td>\n    </tr>\n    <tr>\n      <th>86</th>\n      <td>5.411550</td>\n    </tr>\n    <tr>\n      <th>87</th>\n      <td>5.412932</td>\n    </tr>\n    <tr>\n      <th>88</th>\n      <td>5.414225</td>\n    </tr>\n    <tr>\n      <th>89</th>\n      <td>5.415435</td>\n    </tr>\n  </tbody>\n</table>\n<p>90 rows × 1 columns</p>\n</div>"
     },
     "execution_count": 96,
     "metadata": {},
     "output_type": "execute_result"
    }
   ],
   "source": [
    "display_df"
   ]
  },
  {
   "cell_type": "code",
   "execution_count": 97,
   "metadata": {
    "ExecuteTime": {
     "end_time": "2023-12-01T23:24:09.399101600Z",
     "start_time": "2023-12-01T23:24:09.342797100Z"
    }
   },
   "outputs": [],
   "source": [
    "forecast_set = pd.concat([forecast_set, display_df],axis=1)"
   ]
  },
  {
   "cell_type": "code",
   "execution_count": 98,
   "metadata": {
    "ExecuteTime": {
     "end_time": "2023-12-01T23:24:10.205393100Z",
     "start_time": "2023-12-01T23:24:10.152797800Z"
    }
   },
   "outputs": [
    {
     "data": {
      "text/plain": "         Date     Price\n0  2023-11-27  3.849731\n1  2023-11-28  3.879342\n2  2023-11-29  3.909614\n3  2023-11-30  3.940372\n4  2023-12-01  3.971520\n..        ...       ...\n85 2024-03-25  5.410071\n86 2024-03-26  5.411550\n87 2024-03-27  5.412932\n88 2024-03-28  5.414225\n89 2024-03-29  5.415435\n\n[90 rows x 2 columns]",
      "text/html": "<div>\n<style scoped>\n    .dataframe tbody tr th:only-of-type {\n        vertical-align: middle;\n    }\n\n    .dataframe tbody tr th {\n        vertical-align: top;\n    }\n\n    .dataframe thead th {\n        text-align: right;\n    }\n</style>\n<table border=\"1\" class=\"dataframe\">\n  <thead>\n    <tr style=\"text-align: right;\">\n      <th></th>\n      <th>Date</th>\n      <th>Price</th>\n    </tr>\n  </thead>\n  <tbody>\n    <tr>\n      <th>0</th>\n      <td>2023-11-27</td>\n      <td>3.849731</td>\n    </tr>\n    <tr>\n      <th>1</th>\n      <td>2023-11-28</td>\n      <td>3.879342</td>\n    </tr>\n    <tr>\n      <th>2</th>\n      <td>2023-11-29</td>\n      <td>3.909614</td>\n    </tr>\n    <tr>\n      <th>3</th>\n      <td>2023-11-30</td>\n      <td>3.940372</td>\n    </tr>\n    <tr>\n      <th>4</th>\n      <td>2023-12-01</td>\n      <td>3.971520</td>\n    </tr>\n    <tr>\n      <th>...</th>\n      <td>...</td>\n      <td>...</td>\n    </tr>\n    <tr>\n      <th>85</th>\n      <td>2024-03-25</td>\n      <td>5.410071</td>\n    </tr>\n    <tr>\n      <th>86</th>\n      <td>2024-03-26</td>\n      <td>5.411550</td>\n    </tr>\n    <tr>\n      <th>87</th>\n      <td>2024-03-27</td>\n      <td>5.412932</td>\n    </tr>\n    <tr>\n      <th>88</th>\n      <td>2024-03-28</td>\n      <td>5.414225</td>\n    </tr>\n    <tr>\n      <th>89</th>\n      <td>2024-03-29</td>\n      <td>5.415435</td>\n    </tr>\n  </tbody>\n</table>\n<p>90 rows × 2 columns</p>\n</div>"
     },
     "execution_count": 98,
     "metadata": {},
     "output_type": "execute_result"
    }
   ],
   "source": [
    "forecast_set"
   ]
  },
  {
   "cell_type": "code",
   "execution_count": 99,
   "metadata": {
    "ExecuteTime": {
     "end_time": "2023-12-01T23:24:11.156003500Z",
     "start_time": "2023-12-01T23:24:11.122450300Z"
    }
   },
   "outputs": [
    {
     "data": {
      "text/plain": "           Date  Month    Year   Real_GDP    CPI  inflation_rate  \\\n0    2000-01-04    1.0  2000.0  14096.033  168.8        3.376857   \n1    2000-01-05    1.0  2000.0  14096.033  168.8        3.376857   \n2    2000-01-06    1.0  2000.0  14096.033  168.8        3.376857   \n3    2000-01-07    1.0  2000.0  14096.033  168.8        3.376857   \n4    2000-01-10    1.0  2000.0  14096.033  168.8        3.376857   \n...         ...    ...     ...        ...    ...             ...   \n6032 2023-10-30   10.0  2023.0  19374.000  307.0        6.600000   \n6033 2023-10-31   10.0  2023.0  19374.000  307.0        6.600000   \n6034 2023-11-01   11.0  2023.0  19374.000  307.0        6.600000   \n6035 2023-11-02   11.0  2023.0  19374.000  307.0        6.600000   \n6036 2023-11-03   11.0  2023.0  19374.000  307.0        6.600000   \n\n      PALLFNFINDEXM   DEXCHUS  \n0         59.470000  0.120774  \n1         59.470000  0.120776  \n2         59.470000  0.120777  \n3         59.470000  0.120782  \n4         59.470000  0.120782  \n...             ...       ...  \n6032     168.657489  0.136737  \n6033     168.657489  0.136676  \n6034     168.657489  0.136659  \n6035     168.657489  0.136687  \n6036     168.657489  0.136977  \n\n[6037 rows x 8 columns]",
      "text/html": "<div>\n<style scoped>\n    .dataframe tbody tr th:only-of-type {\n        vertical-align: middle;\n    }\n\n    .dataframe tbody tr th {\n        vertical-align: top;\n    }\n\n    .dataframe thead th {\n        text-align: right;\n    }\n</style>\n<table border=\"1\" class=\"dataframe\">\n  <thead>\n    <tr style=\"text-align: right;\">\n      <th></th>\n      <th>Date</th>\n      <th>Month</th>\n      <th>Year</th>\n      <th>Real_GDP</th>\n      <th>CPI</th>\n      <th>inflation_rate</th>\n      <th>PALLFNFINDEXM</th>\n      <th>DEXCHUS</th>\n    </tr>\n  </thead>\n  <tbody>\n    <tr>\n      <th>0</th>\n      <td>2000-01-04</td>\n      <td>1.0</td>\n      <td>2000.0</td>\n      <td>14096.033</td>\n      <td>168.8</td>\n      <td>3.376857</td>\n      <td>59.470000</td>\n      <td>0.120774</td>\n    </tr>\n    <tr>\n      <th>1</th>\n      <td>2000-01-05</td>\n      <td>1.0</td>\n      <td>2000.0</td>\n      <td>14096.033</td>\n      <td>168.8</td>\n      <td>3.376857</td>\n      <td>59.470000</td>\n      <td>0.120776</td>\n    </tr>\n    <tr>\n      <th>2</th>\n      <td>2000-01-06</td>\n      <td>1.0</td>\n      <td>2000.0</td>\n      <td>14096.033</td>\n      <td>168.8</td>\n      <td>3.376857</td>\n      <td>59.470000</td>\n      <td>0.120777</td>\n    </tr>\n    <tr>\n      <th>3</th>\n      <td>2000-01-07</td>\n      <td>1.0</td>\n      <td>2000.0</td>\n      <td>14096.033</td>\n      <td>168.8</td>\n      <td>3.376857</td>\n      <td>59.470000</td>\n      <td>0.120782</td>\n    </tr>\n    <tr>\n      <th>4</th>\n      <td>2000-01-10</td>\n      <td>1.0</td>\n      <td>2000.0</td>\n      <td>14096.033</td>\n      <td>168.8</td>\n      <td>3.376857</td>\n      <td>59.470000</td>\n      <td>0.120782</td>\n    </tr>\n    <tr>\n      <th>...</th>\n      <td>...</td>\n      <td>...</td>\n      <td>...</td>\n      <td>...</td>\n      <td>...</td>\n      <td>...</td>\n      <td>...</td>\n      <td>...</td>\n    </tr>\n    <tr>\n      <th>6032</th>\n      <td>2023-10-30</td>\n      <td>10.0</td>\n      <td>2023.0</td>\n      <td>19374.000</td>\n      <td>307.0</td>\n      <td>6.600000</td>\n      <td>168.657489</td>\n      <td>0.136737</td>\n    </tr>\n    <tr>\n      <th>6033</th>\n      <td>2023-10-31</td>\n      <td>10.0</td>\n      <td>2023.0</td>\n      <td>19374.000</td>\n      <td>307.0</td>\n      <td>6.600000</td>\n      <td>168.657489</td>\n      <td>0.136676</td>\n    </tr>\n    <tr>\n      <th>6034</th>\n      <td>2023-11-01</td>\n      <td>11.0</td>\n      <td>2023.0</td>\n      <td>19374.000</td>\n      <td>307.0</td>\n      <td>6.600000</td>\n      <td>168.657489</td>\n      <td>0.136659</td>\n    </tr>\n    <tr>\n      <th>6035</th>\n      <td>2023-11-02</td>\n      <td>11.0</td>\n      <td>2023.0</td>\n      <td>19374.000</td>\n      <td>307.0</td>\n      <td>6.600000</td>\n      <td>168.657489</td>\n      <td>0.136687</td>\n    </tr>\n    <tr>\n      <th>6036</th>\n      <td>2023-11-03</td>\n      <td>11.0</td>\n      <td>2023.0</td>\n      <td>19374.000</td>\n      <td>307.0</td>\n      <td>6.600000</td>\n      <td>168.657489</td>\n      <td>0.136977</td>\n    </tr>\n  </tbody>\n</table>\n<p>6037 rows × 8 columns</p>\n</div>"
     },
     "execution_count": 99,
     "metadata": {},
     "output_type": "execute_result"
    }
   ],
   "source": [
    "df"
   ]
  },
  {
   "cell_type": "code",
   "execution_count": 613,
   "outputs": [],
   "source": [],
   "metadata": {
    "collapsed": false,
    "ExecuteTime": {
     "end_time": "2023-11-30T17:52:30.112976400Z",
     "start_time": "2023-11-30T17:52:29.995902100Z"
    }
   }
  }
 ],
 "metadata": {
  "colab": {
   "provenance": []
  },
  "kernelspec": {
   "display_name": "Python 3 (ipykernel)",
   "language": "python",
   "name": "python3"
  },
  "language_info": {
   "codemirror_mode": {
    "name": "ipython",
    "version": 3
   },
   "file_extension": ".py",
   "mimetype": "text/x-python",
   "name": "python",
   "nbconvert_exporter": "python",
   "pygments_lexer": "ipython3",
   "version": "3.11.5"
  }
 },
 "nbformat": 4,
 "nbformat_minor": 4
}
