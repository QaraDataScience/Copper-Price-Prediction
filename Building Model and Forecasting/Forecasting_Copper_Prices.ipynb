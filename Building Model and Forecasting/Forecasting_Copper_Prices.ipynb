{
 "cells": [
  {
   "cell_type": "code",
   "execution_count": 2,
   "outputs": [
    {
     "name": "stdout",
     "output_type": "stream",
     "text": [
      "Collecting Cmake (from -r requirements.txt (line 1))\n",
      "  Using cached cmake-3.27.7-py2.py3-none-win_amd64.whl.metadata (6.8 kB)\n",
      "Requirement already satisfied: pandas in c:\\users\\george welson\\appdata\\local\\programs\\python\\python3115\\lib\\site-packages (from -r requirements.txt (line 2)) (1.5.3)\n",
      "Requirement already satisfied: numpy in c:\\users\\george welson\\appdata\\local\\programs\\python\\python3115\\lib\\site-packages (from -r requirements.txt (line 3)) (1.26.0)\n",
      "Requirement already satisfied: streamlit in c:\\users\\george welson\\appdata\\local\\programs\\python\\python3115\\lib\\site-packages (from -r requirements.txt (line 4)) (1.27.2)\n",
      "Collecting cloudpickle==2.2.1 (from -r requirements.txt (line 5))\n",
      "  Using cached cloudpickle-2.2.1-py3-none-any.whl (25 kB)\n",
      "Collecting jsonpickle==3.0.2 (from -r requirements.txt (line 6))\n",
      "  Using cached jsonpickle-3.0.2-py3-none-any.whl.metadata (7.5 kB)\n",
      "Requirement already satisfied: pickleshare==0.7.5 in c:\\users\\george welson\\appdata\\roaming\\python\\python311\\site-packages (from -r requirements.txt (line 7)) (0.7.5)\n",
      "Requirement already satisfied: torch==2.1.0 in c:\\users\\george welson\\appdata\\local\\programs\\python\\python3115\\lib\\site-packages (from -r requirements.txt (line 8)) (2.1.0)\n",
      "Collecting pickle5==0.0.11 (from -r requirements.txt (line 9))\n",
      "  Using cached pickle5-0.0.11.tar.gz (132 kB)\n",
      "  Preparing metadata (setup.py): started\n",
      "  Preparing metadata (setup.py): finished with status 'done'\n",
      "Requirement already satisfied: joblib in c:\\users\\george welson\\appdata\\local\\programs\\python\\python3115\\lib\\site-packages (from -r requirements.txt (line 10)) (1.3.2)\n",
      "Requirement already satisfied: scikit-learn in c:\\users\\george welson\\appdata\\local\\programs\\python\\python3115\\lib\\site-packages (from -r requirements.txt (line 11)) (1.3.1)\n",
      "Requirement already satisfied: tensorflow in c:\\users\\george welson\\appdata\\local\\programs\\python\\python3115\\lib\\site-packages (from -r requirements.txt (line 12)) (2.14.0)\n",
      "Requirement already satisfied: statsmodels in c:\\users\\george welson\\appdata\\local\\programs\\python\\python3115\\lib\\site-packages (from -r requirements.txt (line 13)) (0.13.5)\n",
      "Requirement already satisfied: filelock in c:\\users\\george welson\\appdata\\local\\programs\\python\\python3115\\lib\\site-packages (from torch==2.1.0->-r requirements.txt (line 8)) (3.12.4)\n",
      "Requirement already satisfied: typing-extensions in c:\\users\\george welson\\appdata\\local\\programs\\python\\python3115\\lib\\site-packages (from torch==2.1.0->-r requirements.txt (line 8)) (4.8.0)\n",
      "Requirement already satisfied: sympy in c:\\users\\george welson\\appdata\\local\\programs\\python\\python3115\\lib\\site-packages (from torch==2.1.0->-r requirements.txt (line 8)) (1.12)\n",
      "Requirement already satisfied: networkx in c:\\users\\george welson\\appdata\\local\\programs\\python\\python3115\\lib\\site-packages (from torch==2.1.0->-r requirements.txt (line 8)) (3.1)\n",
      "Requirement already satisfied: jinja2 in c:\\users\\george welson\\appdata\\local\\programs\\python\\python3115\\lib\\site-packages (from torch==2.1.0->-r requirements.txt (line 8)) (3.1.2)\n",
      "Requirement already satisfied: fsspec in c:\\users\\george welson\\appdata\\local\\programs\\python\\python3115\\lib\\site-packages (from torch==2.1.0->-r requirements.txt (line 8)) (2023.9.2)\n",
      "Requirement already satisfied: python-dateutil>=2.8.1 in c:\\users\\george welson\\appdata\\local\\programs\\python\\python3115\\lib\\site-packages (from pandas->-r requirements.txt (line 2)) (2.8.2)\n",
      "Requirement already satisfied: pytz>=2020.1 in c:\\users\\george welson\\appdata\\local\\programs\\python\\python3115\\lib\\site-packages (from pandas->-r requirements.txt (line 2)) (2023.3.post1)\n",
      "Requirement already satisfied: altair<6,>=4.0 in c:\\users\\george welson\\appdata\\local\\programs\\python\\python3115\\lib\\site-packages (from streamlit->-r requirements.txt (line 4)) (5.1.2)\n",
      "Requirement already satisfied: blinker<2,>=1.0.0 in c:\\users\\george welson\\appdata\\local\\programs\\python\\python3115\\lib\\site-packages (from streamlit->-r requirements.txt (line 4)) (1.6.3)\n",
      "Requirement already satisfied: cachetools<6,>=4.0 in c:\\users\\george welson\\appdata\\local\\programs\\python\\python3115\\lib\\site-packages (from streamlit->-r requirements.txt (line 4)) (5.3.1)\n",
      "Requirement already satisfied: click<9,>=7.0 in c:\\users\\george welson\\appdata\\local\\programs\\python\\python3115\\lib\\site-packages (from streamlit->-r requirements.txt (line 4)) (8.1.7)\n",
      "Requirement already satisfied: importlib-metadata<7,>=1.4 in c:\\users\\george welson\\appdata\\local\\programs\\python\\python3115\\lib\\site-packages (from streamlit->-r requirements.txt (line 4)) (6.8.0)\n",
      "Requirement already satisfied: packaging<24,>=16.8 in c:\\users\\george welson\\appdata\\local\\programs\\python\\python3115\\lib\\site-packages (from streamlit->-r requirements.txt (line 4)) (23.2)\n",
      "Requirement already satisfied: pillow<11,>=7.1.0 in c:\\users\\george welson\\appdata\\local\\programs\\python\\python3115\\lib\\site-packages (from streamlit->-r requirements.txt (line 4)) (10.0.1)\n",
      "Requirement already satisfied: protobuf<5,>=3.20 in c:\\users\\george welson\\appdata\\local\\programs\\python\\python3115\\lib\\site-packages (from streamlit->-r requirements.txt (line 4)) (4.24.4)\n",
      "Requirement already satisfied: pyarrow>=6.0 in c:\\users\\george welson\\appdata\\local\\programs\\python\\python3115\\lib\\site-packages (from streamlit->-r requirements.txt (line 4)) (13.0.0)\n",
      "Requirement already satisfied: requests<3,>=2.27 in c:\\users\\george welson\\appdata\\local\\programs\\python\\python3115\\lib\\site-packages (from streamlit->-r requirements.txt (line 4)) (2.31.0)\n",
      "Requirement already satisfied: rich<14,>=10.14.0 in c:\\users\\george welson\\appdata\\local\\programs\\python\\python3115\\lib\\site-packages (from streamlit->-r requirements.txt (line 4)) (13.6.0)\n",
      "Requirement already satisfied: tenacity<9,>=8.1.0 in c:\\users\\george welson\\appdata\\local\\programs\\python\\python3115\\lib\\site-packages (from streamlit->-r requirements.txt (line 4)) (8.2.3)\n",
      "Requirement already satisfied: toml<2,>=0.10.1 in c:\\users\\george welson\\appdata\\local\\programs\\python\\python3115\\lib\\site-packages (from streamlit->-r requirements.txt (line 4)) (0.10.2)\n",
      "Requirement already satisfied: tzlocal<6,>=1.1 in c:\\users\\george welson\\appdata\\local\\programs\\python\\python3115\\lib\\site-packages (from streamlit->-r requirements.txt (line 4)) (5.1)\n",
      "Requirement already satisfied: validators<1,>=0.2 in c:\\users\\george welson\\appdata\\local\\programs\\python\\python3115\\lib\\site-packages (from streamlit->-r requirements.txt (line 4)) (0.22.0)\n",
      "Requirement already satisfied: gitpython!=3.1.19,<4,>=3.0.7 in c:\\users\\george welson\\appdata\\local\\programs\\python\\python3115\\lib\\site-packages (from streamlit->-r requirements.txt (line 4)) (3.1.40)\n",
      "Requirement already satisfied: pydeck<1,>=0.8.0b4 in c:\\users\\george welson\\appdata\\local\\programs\\python\\python3115\\lib\\site-packages (from streamlit->-r requirements.txt (line 4)) (0.8.1b0)\n",
      "Requirement already satisfied: tornado<7,>=6.0.3 in c:\\users\\george welson\\appdata\\local\\programs\\python\\python3115\\lib\\site-packages (from streamlit->-r requirements.txt (line 4)) (6.3.3)\n",
      "Requirement already satisfied: watchdog>=2.1.5 in c:\\users\\george welson\\appdata\\local\\programs\\python\\python3115\\lib\\site-packages (from streamlit->-r requirements.txt (line 4)) (3.0.0)\n",
      "Requirement already satisfied: scipy>=1.5.0 in c:\\users\\george welson\\appdata\\local\\programs\\python\\python3115\\lib\\site-packages (from scikit-learn->-r requirements.txt (line 11)) (1.11.3)\n",
      "Requirement already satisfied: threadpoolctl>=2.0.0 in c:\\users\\george welson\\appdata\\local\\programs\\python\\python3115\\lib\\site-packages (from scikit-learn->-r requirements.txt (line 11)) (3.2.0)\n",
      "Requirement already satisfied: tensorflow-intel==2.14.0 in c:\\users\\george welson\\appdata\\local\\programs\\python\\python3115\\lib\\site-packages (from tensorflow->-r requirements.txt (line 12)) (2.14.0)\n",
      "Requirement already satisfied: absl-py>=1.0.0 in c:\\users\\george welson\\appdata\\local\\programs\\python\\python3115\\lib\\site-packages (from tensorflow-intel==2.14.0->tensorflow->-r requirements.txt (line 12)) (2.0.0)\n",
      "Requirement already satisfied: astunparse>=1.6.0 in c:\\users\\george welson\\appdata\\local\\programs\\python\\python3115\\lib\\site-packages (from tensorflow-intel==2.14.0->tensorflow->-r requirements.txt (line 12)) (1.6.3)\n",
      "Requirement already satisfied: flatbuffers>=23.5.26 in c:\\users\\george welson\\appdata\\local\\programs\\python\\python3115\\lib\\site-packages (from tensorflow-intel==2.14.0->tensorflow->-r requirements.txt (line 12)) (23.5.26)\n",
      "Requirement already satisfied: gast!=0.5.0,!=0.5.1,!=0.5.2,>=0.2.1 in c:\\users\\george welson\\appdata\\local\\programs\\python\\python3115\\lib\\site-packages (from tensorflow-intel==2.14.0->tensorflow->-r requirements.txt (line 12)) (0.5.4)\n",
      "Requirement already satisfied: google-pasta>=0.1.1 in c:\\users\\george welson\\appdata\\local\\programs\\python\\python3115\\lib\\site-packages (from tensorflow-intel==2.14.0->tensorflow->-r requirements.txt (line 12)) (0.2.0)\n",
      "Requirement already satisfied: h5py>=2.9.0 in c:\\users\\george welson\\appdata\\local\\programs\\python\\python3115\\lib\\site-packages (from tensorflow-intel==2.14.0->tensorflow->-r requirements.txt (line 12)) (3.10.0)\n",
      "Requirement already satisfied: libclang>=13.0.0 in c:\\users\\george welson\\appdata\\local\\programs\\python\\python3115\\lib\\site-packages (from tensorflow-intel==2.14.0->tensorflow->-r requirements.txt (line 12)) (16.0.6)\n",
      "Requirement already satisfied: ml-dtypes==0.2.0 in c:\\users\\george welson\\appdata\\local\\programs\\python\\python3115\\lib\\site-packages (from tensorflow-intel==2.14.0->tensorflow->-r requirements.txt (line 12)) (0.2.0)\n",
      "Requirement already satisfied: opt-einsum>=2.3.2 in c:\\users\\george welson\\appdata\\local\\programs\\python\\python3115\\lib\\site-packages (from tensorflow-intel==2.14.0->tensorflow->-r requirements.txt (line 12)) (3.3.0)\n",
      "Requirement already satisfied: setuptools in c:\\users\\george welson\\appdata\\local\\programs\\python\\python3115\\lib\\site-packages (from tensorflow-intel==2.14.0->tensorflow->-r requirements.txt (line 12)) (65.5.0)\n",
      "Requirement already satisfied: six>=1.12.0 in c:\\users\\george welson\\appdata\\local\\programs\\python\\python3115\\lib\\site-packages (from tensorflow-intel==2.14.0->tensorflow->-r requirements.txt (line 12)) (1.16.0)\n",
      "Requirement already satisfied: termcolor>=1.1.0 in c:\\users\\george welson\\appdata\\local\\programs\\python\\python3115\\lib\\site-packages (from tensorflow-intel==2.14.0->tensorflow->-r requirements.txt (line 12)) (2.3.0)\n",
      "Requirement already satisfied: wrapt<1.15,>=1.11.0 in c:\\users\\george welson\\appdata\\local\\programs\\python\\python3115\\lib\\site-packages (from tensorflow-intel==2.14.0->tensorflow->-r requirements.txt (line 12)) (1.14.1)\n",
      "Requirement already satisfied: tensorflow-io-gcs-filesystem>=0.23.1 in c:\\users\\george welson\\appdata\\local\\programs\\python\\python3115\\lib\\site-packages (from tensorflow-intel==2.14.0->tensorflow->-r requirements.txt (line 12)) (0.31.0)\n",
      "Requirement already satisfied: grpcio<2.0,>=1.24.3 in c:\\users\\george welson\\appdata\\local\\programs\\python\\python3115\\lib\\site-packages (from tensorflow-intel==2.14.0->tensorflow->-r requirements.txt (line 12)) (1.59.0)\n",
      "Requirement already satisfied: tensorboard<2.15,>=2.14 in c:\\users\\george welson\\appdata\\local\\programs\\python\\python3115\\lib\\site-packages (from tensorflow-intel==2.14.0->tensorflow->-r requirements.txt (line 12)) (2.14.1)\n",
      "Requirement already satisfied: tensorflow-estimator<2.15,>=2.14.0 in c:\\users\\george welson\\appdata\\local\\programs\\python\\python3115\\lib\\site-packages (from tensorflow-intel==2.14.0->tensorflow->-r requirements.txt (line 12)) (2.14.0)\n",
      "Requirement already satisfied: keras<2.15,>=2.14.0 in c:\\users\\george welson\\appdata\\local\\programs\\python\\python3115\\lib\\site-packages (from tensorflow-intel==2.14.0->tensorflow->-r requirements.txt (line 12)) (2.14.0)\n",
      "Requirement already satisfied: patsy>=0.5.2 in c:\\users\\george welson\\appdata\\local\\programs\\python\\python3115\\lib\\site-packages (from statsmodels->-r requirements.txt (line 13)) (0.5.3)\n",
      "Requirement already satisfied: jsonschema>=3.0 in c:\\users\\george welson\\appdata\\local\\programs\\python\\python3115\\lib\\site-packages (from altair<6,>=4.0->streamlit->-r requirements.txt (line 4)) (4.19.1)\n",
      "Requirement already satisfied: toolz in c:\\users\\george welson\\appdata\\local\\programs\\python\\python3115\\lib\\site-packages (from altair<6,>=4.0->streamlit->-r requirements.txt (line 4)) (0.12.0)\n",
      "Requirement already satisfied: colorama in c:\\users\\george welson\\appdata\\roaming\\python\\python311\\site-packages (from click<9,>=7.0->streamlit->-r requirements.txt (line 4)) (0.4.6)\n",
      "Requirement already satisfied: gitdb<5,>=4.0.1 in c:\\users\\george welson\\appdata\\local\\programs\\python\\python3115\\lib\\site-packages (from gitpython!=3.1.19,<4,>=3.0.7->streamlit->-r requirements.txt (line 4)) (4.0.11)\n",
      "Requirement already satisfied: zipp>=0.5 in c:\\users\\george welson\\appdata\\local\\programs\\python\\python3115\\lib\\site-packages (from importlib-metadata<7,>=1.4->streamlit->-r requirements.txt (line 4)) (3.17.0)\n",
      "Requirement already satisfied: MarkupSafe>=2.0 in c:\\users\\george welson\\appdata\\local\\programs\\python\\python3115\\lib\\site-packages (from jinja2->torch==2.1.0->-r requirements.txt (line 8)) (2.1.3)\n",
      "Requirement already satisfied: charset-normalizer<4,>=2 in c:\\users\\george welson\\appdata\\local\\programs\\python\\python3115\\lib\\site-packages (from requests<3,>=2.27->streamlit->-r requirements.txt (line 4)) (3.3.0)\n",
      "Requirement already satisfied: idna<4,>=2.5 in c:\\users\\george welson\\appdata\\roaming\\python\\python311\\site-packages (from requests<3,>=2.27->streamlit->-r requirements.txt (line 4)) (2.10)\n",
      "Requirement already satisfied: urllib3<3,>=1.21.1 in c:\\users\\george welson\\appdata\\roaming\\python\\python311\\site-packages (from requests<3,>=2.27->streamlit->-r requirements.txt (line 4)) (1.25.11)\n",
      "Requirement already satisfied: certifi>=2017.4.17 in c:\\users\\george welson\\appdata\\roaming\\python\\python311\\site-packages (from requests<3,>=2.27->streamlit->-r requirements.txt (line 4)) (2023.5.7)\n",
      "Requirement already satisfied: markdown-it-py>=2.2.0 in c:\\users\\george welson\\appdata\\local\\programs\\python\\python3115\\lib\\site-packages (from rich<14,>=10.14.0->streamlit->-r requirements.txt (line 4)) (3.0.0)\n",
      "Requirement already satisfied: pygments<3.0.0,>=2.13.0 in c:\\users\\george welson\\appdata\\roaming\\python\\python311\\site-packages (from rich<14,>=10.14.0->streamlit->-r requirements.txt (line 4)) (2.16.1)\n",
      "Requirement already satisfied: tzdata in c:\\users\\george welson\\appdata\\local\\programs\\python\\python3115\\lib\\site-packages (from tzlocal<6,>=1.1->streamlit->-r requirements.txt (line 4)) (2023.3)\n",
      "Requirement already satisfied: mpmath>=0.19 in c:\\users\\george welson\\appdata\\local\\programs\\python\\python3115\\lib\\site-packages (from sympy->torch==2.1.0->-r requirements.txt (line 8)) (1.3.0)\n",
      "Requirement already satisfied: wheel<1.0,>=0.23.0 in c:\\users\\george welson\\appdata\\local\\programs\\python\\python3115\\lib\\site-packages (from astunparse>=1.6.0->tensorflow-intel==2.14.0->tensorflow->-r requirements.txt (line 12)) (0.41.2)\n",
      "Requirement already satisfied: smmap<6,>=3.0.1 in c:\\users\\george welson\\appdata\\local\\programs\\python\\python3115\\lib\\site-packages (from gitdb<5,>=4.0.1->gitpython!=3.1.19,<4,>=3.0.7->streamlit->-r requirements.txt (line 4)) (5.0.1)\n",
      "Requirement already satisfied: attrs>=22.2.0 in c:\\users\\george welson\\appdata\\local\\programs\\python\\python3115\\lib\\site-packages (from jsonschema>=3.0->altair<6,>=4.0->streamlit->-r requirements.txt (line 4)) (23.1.0)\n",
      "Requirement already satisfied: jsonschema-specifications>=2023.03.6 in c:\\users\\george welson\\appdata\\local\\programs\\python\\python3115\\lib\\site-packages (from jsonschema>=3.0->altair<6,>=4.0->streamlit->-r requirements.txt (line 4)) (2023.7.1)\n",
      "Requirement already satisfied: referencing>=0.28.4 in c:\\users\\george welson\\appdata\\local\\programs\\python\\python3115\\lib\\site-packages (from jsonschema>=3.0->altair<6,>=4.0->streamlit->-r requirements.txt (line 4)) (0.30.2)\n",
      "Requirement already satisfied: rpds-py>=0.7.1 in c:\\users\\george welson\\appdata\\local\\programs\\python\\python3115\\lib\\site-packages (from jsonschema>=3.0->altair<6,>=4.0->streamlit->-r requirements.txt (line 4)) (0.10.4)\n",
      "Requirement already satisfied: mdurl~=0.1 in c:\\users\\george welson\\appdata\\local\\programs\\python\\python3115\\lib\\site-packages (from markdown-it-py>=2.2.0->rich<14,>=10.14.0->streamlit->-r requirements.txt (line 4)) (0.1.2)\n",
      "Requirement already satisfied: google-auth<3,>=1.6.3 in c:\\users\\george welson\\appdata\\local\\programs\\python\\python3115\\lib\\site-packages (from tensorboard<2.15,>=2.14->tensorflow-intel==2.14.0->tensorflow->-r requirements.txt (line 12)) (2.23.2)\n",
      "Requirement already satisfied: google-auth-oauthlib<1.1,>=0.5 in c:\\users\\george welson\\appdata\\local\\programs\\python\\python3115\\lib\\site-packages (from tensorboard<2.15,>=2.14->tensorflow-intel==2.14.0->tensorflow->-r requirements.txt (line 12)) (1.0.0)\n",
      "Requirement already satisfied: markdown>=2.6.8 in c:\\users\\george welson\\appdata\\local\\programs\\python\\python3115\\lib\\site-packages (from tensorboard<2.15,>=2.14->tensorflow-intel==2.14.0->tensorflow->-r requirements.txt (line 12)) (3.5)\n",
      "Requirement already satisfied: tensorboard-data-server<0.8.0,>=0.7.0 in c:\\users\\george welson\\appdata\\local\\programs\\python\\python3115\\lib\\site-packages (from tensorboard<2.15,>=2.14->tensorflow-intel==2.14.0->tensorflow->-r requirements.txt (line 12)) (0.7.1)\n",
      "Requirement already satisfied: werkzeug>=1.0.1 in c:\\users\\george welson\\appdata\\local\\programs\\python\\python3115\\lib\\site-packages (from tensorboard<2.15,>=2.14->tensorflow-intel==2.14.0->tensorflow->-r requirements.txt (line 12)) (3.0.0)\n",
      "Requirement already satisfied: pyasn1-modules>=0.2.1 in c:\\users\\george welson\\appdata\\local\\programs\\python\\python3115\\lib\\site-packages (from google-auth<3,>=1.6.3->tensorboard<2.15,>=2.14->tensorflow-intel==2.14.0->tensorflow->-r requirements.txt (line 12)) (0.3.0)\n",
      "Requirement already satisfied: rsa<5,>=3.1.4 in c:\\users\\george welson\\appdata\\local\\programs\\python\\python3115\\lib\\site-packages (from google-auth<3,>=1.6.3->tensorboard<2.15,>=2.14->tensorflow-intel==2.14.0->tensorflow->-r requirements.txt (line 12)) (4.9)\n",
      "Requirement already satisfied: requests-oauthlib>=0.7.0 in c:\\users\\george welson\\appdata\\local\\programs\\python\\python3115\\lib\\site-packages (from google-auth-oauthlib<1.1,>=0.5->tensorboard<2.15,>=2.14->tensorflow-intel==2.14.0->tensorflow->-r requirements.txt (line 12)) (1.3.1)\n",
      "Requirement already satisfied: pyasn1<0.6.0,>=0.4.6 in c:\\users\\george welson\\appdata\\local\\programs\\python\\python3115\\lib\\site-packages (from pyasn1-modules>=0.2.1->google-auth<3,>=1.6.3->tensorboard<2.15,>=2.14->tensorflow-intel==2.14.0->tensorflow->-r requirements.txt (line 12)) (0.5.0)\n",
      "Requirement already satisfied: oauthlib>=3.0.0 in c:\\users\\george welson\\appdata\\local\\programs\\python\\python3115\\lib\\site-packages (from requests-oauthlib>=0.7.0->google-auth-oauthlib<1.1,>=0.5->tensorboard<2.15,>=2.14->tensorflow-intel==2.14.0->tensorflow->-r requirements.txt (line 12)) (3.2.2)\n",
      "Using cached jsonpickle-3.0.2-py3-none-any.whl (40 kB)\n",
      "Using cached cmake-3.27.7-py2.py3-none-win_amd64.whl (34.6 MB)\n",
      "Building wheels for collected packages: pickle5\n",
      "  Building wheel for pickle5 (setup.py): started\n",
      "  Building wheel for pickle5 (setup.py): finished with status 'error'\n",
      "  Running setup.py clean for pickle5\n",
      "Failed to build pickle5\n",
      "Note: you may need to restart the kernel to use updated packages.\n"
     ]
    },
    {
     "name": "stderr",
     "output_type": "stream",
     "text": [
      "WARNING: Skipping C:\\Users\\George Welson\\AppData\\Local\\Programs\\Python\\Python3115\\Lib\\site-packages\\pandas-2.1.1.dist-info due to invalid metadata entry 'name'\n",
      "WARNING: Skipping C:\\Users\\George Welson\\AppData\\Local\\Programs\\Python\\Python3115\\Lib\\site-packages\\pandas-2.1.1.dist-info due to invalid metadata entry 'name'\n",
      "  error: subprocess-exited-with-error\n",
      "  \n",
      "  python setup.py bdist_wheel did not run successfully.\n",
      "  exit code: 1\n",
      "  \n",
      "  [40 lines of output]\n",
      "  running bdist_wheel\n",
      "  running build\n",
      "  running build_py\n",
      "  creating build\n",
      "  creating build\\lib.win-amd64-cpython-311\n",
      "  creating build\\lib.win-amd64-cpython-311\\pickle5\n",
      "  copying pickle5\\pickle.py -> build\\lib.win-amd64-cpython-311\\pickle5\n",
      "  copying pickle5\\pickletools.py -> build\\lib.win-amd64-cpython-311\\pickle5\n",
      "  copying pickle5\\__init__.py -> build\\lib.win-amd64-cpython-311\\pickle5\n",
      "  creating build\\lib.win-amd64-cpython-311\\pickle5\\test\n",
      "  copying pickle5\\test\\pickletester.py -> build\\lib.win-amd64-cpython-311\\pickle5\\test\n",
      "  copying pickle5\\test\\test_pickle.py -> build\\lib.win-amd64-cpython-311\\pickle5\\test\n",
      "  copying pickle5\\test\\test_picklebuffer.py -> build\\lib.win-amd64-cpython-311\\pickle5\\test\n",
      "  copying pickle5\\test\\__init__.py -> build\\lib.win-amd64-cpython-311\\pickle5\\test\n",
      "  running build_ext\n",
      "  building 'pickle5._pickle' extension\n",
      "  creating build\\temp.win-amd64-cpython-311\n",
      "  creating build\\temp.win-amd64-cpython-311\\Release\n",
      "  creating build\\temp.win-amd64-cpython-311\\Release\\pickle5\n",
      "  \"C:\\Program Files (x86)\\Microsoft Visual Studio\\2019\\BuildTools\\VC\\Tools\\MSVC\\14.29.30133\\bin\\HostX86\\x64\\cl.exe\" /c /nologo /O2 /W3 /GL /DNDEBUG /MD \"-IC:\\Users\\George Welson\\AppData\\Local\\Programs\\Python\\Python3115\\include\" \"-IC:\\Users\\George Welson\\AppData\\Local\\Programs\\Python\\Python3115\\Include\" \"-IC:\\Program Files (x86)\\Microsoft Visual Studio\\2019\\BuildTools\\VC\\Tools\\MSVC\\14.29.30133\\include\" \"-ID:\\Windows Kits\\10\\include\\10.0.19041.0\\ucrt\" \"-ID:\\Windows Kits\\10\\include\\10.0.19041.0\\shared\" \"-ID:\\Windows Kits\\10\\include\\10.0.19041.0\\um\" \"-ID:\\Windows Kits\\10\\include\\10.0.19041.0\\winrt\" \"-ID:\\Windows Kits\\10\\include\\10.0.19041.0\\cppwinrt\" /Tcpickle5/_pickle.c /Fobuild\\temp.win-amd64-cpython-311\\Release\\pickle5/_pickle.obj\n",
      "  _pickle.c\n",
      "  pickle5/_pickle.c(464): error C2106: '=': left operand must be l-value\n",
      "  pickle5/_pickle.c(491): error C2106: '=': left operand must be l-value\n",
      "  pickle5/_pickle.c(542): error C2105: '--' needs l-value\n",
      "  pickle5/_pickle.c(552): error C2105: '++' needs l-value\n",
      "  pickle5/_pickle.c(582): error C2106: '=': left operand must be l-value\n",
      "  pickle5/_pickle.c(599): error C2106: '=': left operand must be l-value\n",
      "  pickle5/_pickle.c(1285): warning C4013: '_PyObject_CallNoArg' undefined; assuming extern returning int\n",
      "  pickle5/_pickle.c(1285): warning C4047: '=': 'PyObject *' differs in levels of indirection from 'int'\n",
      "  pickle5/_pickle.c(1937): warning C4013: '_PySys_GetObjectId' undefined; assuming extern returning int\n",
      "  pickle5/_pickle.c(1937): warning C4047: '=': 'PyObject *' differs in levels of indirection from 'int'\n",
      "  pickle5/_pickle.c(2255): warning C4013: '_PyFloat_Pack8' undefined; assuming extern returning int\n",
      "  pickle5/_pickle.c(4452): warning C4047: '=': 'PyObject *' differs in levels of indirection from 'int'\n",
      "  pickle5/_pickle.c(5428): warning C4013: '_PyFloat_Unpack8' undefined; assuming extern returning int\n",
      "  pickle5/_pickle.c(6178): error C2106: '=': left operand must be l-value\n",
      "  pickle5/_pickle.c(6535): error C2106: '=': left operand must be l-value\n",
      "  pickle5/_pickle.c(6541): error C2106: '=': left operand must be l-value\n",
      "  pickle5/_pickle.c(6663): error C2106: '=': left operand must be l-value\n",
      "  pickle5/_pickle.c(6668): error C2106: '=': left operand must be l-value\n",
      "  error: command 'C:\\\\Program Files (x86)\\\\Microsoft Visual Studio\\\\2019\\\\BuildTools\\\\VC\\\\Tools\\\\MSVC\\\\14.29.30133\\\\bin\\\\HostX86\\\\x64\\\\cl.exe' failed with exit code 2\n",
      "  [end of output]\n",
      "  \n",
      "  note: This error originates from a subprocess, and is likely not a problem with pip.\n",
      "  ERROR: Failed building wheel for pickle5\n",
      "ERROR: Could not build wheels for pickle5, which is required to install pyproject.toml-based projects\n",
      "WARNING: Skipping C:\\Users\\George Welson\\AppData\\Local\\Programs\\Python\\Python3115\\Lib\\site-packages\\pandas-2.1.1.dist-info due to invalid metadata entry 'name'\n",
      "WARNING: Skipping C:\\Users\\George Welson\\AppData\\Local\\Programs\\Python\\Python3115\\Lib\\site-packages\\pandas-2.1.1.dist-info due to invalid metadata entry 'name'\n",
      "WARNING: Skipping C:\\Users\\George Welson\\AppData\\Local\\Programs\\Python\\Python3115\\Lib\\site-packages\\pandas-2.1.1.dist-info due to invalid metadata entry 'name'\n"
     ]
    }
   ],
   "source": [
    "%pip install -r requirements.txt"
   ],
   "metadata": {
    "collapsed": false,
    "ExecuteTime": {
     "end_time": "2023-11-30T10:39:07.703840100Z",
     "start_time": "2023-11-30T10:39:00.357527500Z"
    }
   }
  },
  {
   "cell_type": "markdown",
   "metadata": {
    "id": "7zLDGowEErcq"
   },
   "source": [
    "## Importing Packages"
   ]
  },
  {
   "cell_type": "code",
   "execution_count": 3,
   "metadata": {
    "id": "_DjLkfnxGxyb",
    "ExecuteTime": {
     "end_time": "2023-11-30T10:39:30.579593600Z",
     "start_time": "2023-11-30T10:39:19.339409300Z"
    }
   },
   "outputs": [],
   "source": [
    "import numpy as np\n",
    "import pandas as pd\n",
    "import matplotlib.pyplot as plt\n",
    "import seaborn as sns\n",
    "from sklearn.model_selection import train_test_split\n",
    "from sklearn.preprocessing import MinMaxScaler\n",
    "from keras.models import Sequential\n",
    "from keras.layers import Dense, Dropout, LSTM, Conv1D, MaxPooling1D, Flatten\n",
    "from keras.optimizers import Adam\n",
    "from sklearn.metrics import mean_squared_error\n",
    "import torch\n",
    "import torch.nn as nn\n",
    "from torch.utils.data import Dataset,DataLoader\n",
    "from itertools import product\n",
    "from datetime import timedelta"
   ]
  },
  {
   "cell_type": "code",
   "execution_count": 4,
   "metadata": {
    "colab": {
     "base_uri": "https://localhost:8080/",
     "height": 36
    },
    "id": "bilDkp7vQgY6",
    "outputId": "2af2a045-d648-419d-a346-c2c3d97e6dd7",
    "ExecuteTime": {
     "end_time": "2023-11-30T10:39:44.525193900Z",
     "start_time": "2023-11-30T10:39:44.491196800Z"
    }
   },
   "outputs": [
    {
     "data": {
      "text/plain": "'cpu'"
     },
     "execution_count": 4,
     "metadata": {},
     "output_type": "execute_result"
    }
   ],
   "source": [
    "device = 'cuda:0' if torch.cuda.is_available() else 'cpu'\n",
    "device"
   ]
  },
  {
   "cell_type": "markdown",
   "metadata": {
    "id": "grLIQF-pGZw1"
   },
   "source": [
    "## Loading Dataset"
   ]
  },
  {
   "cell_type": "markdown",
   "source": [],
   "metadata": {
    "collapsed": false
   }
  },
  {
   "cell_type": "code",
   "execution_count": 9,
   "metadata": {
    "colab": {
     "base_uri": "https://localhost:8080/",
     "height": 614
    },
    "id": "fmhcgXvGE4io",
    "outputId": "0a39785d-36ff-4a49-d302-4a53638e08b1",
    "ExecuteTime": {
     "end_time": "2023-11-30T10:51:33.979927900Z",
     "start_time": "2023-11-30T10:51:33.919452200Z"
    }
   },
   "outputs": [
    {
     "data": {
      "text/plain": "           Date   Price  Month    Year   Real_GDP    CPI  inflation_rate  \\\n0    2000-01-04  0.8480    1.0  2000.0  14096.033  168.8        3.376857   \n1    2000-01-05  0.8565    1.0  2000.0  14096.033  168.8        3.376857   \n2    2000-01-06  0.8530    1.0  2000.0  14096.033  168.8        3.376857   \n3    2000-01-07  0.8540    1.0  2000.0  14096.033  168.8        3.376857   \n4    2000-01-10  0.8465    1.0  2000.0  14096.033  168.8        3.376857   \n...         ...     ...    ...     ...        ...    ...             ...   \n6079 2023-11-24  3.8205   11.0  2023.0  19374.000  307.0        6.600000   \n6080 2023-11-27  3.7890   11.0  2023.0  19374.000  307.0        6.600000   \n6081 2023-11-28  3.8285   11.0  2023.0  19374.000  307.0        6.600000   \n6082 2023-11-29  3.8255   11.0  2023.0  19374.000  307.0        6.600000   \n6083 2023-11-30  3.8213   11.0  2023.0  19374.000  307.0        6.600000   \n\n      PALLFNFINDEXM  \n0         59.470000  \n1         59.470000  \n2         59.470000  \n3         59.470000  \n4         59.470000  \n...             ...  \n6079     168.657489  \n6080     168.657489  \n6081     168.657489  \n6082     168.657489  \n6083     168.657489  \n\n[6084 rows x 8 columns]",
      "text/html": "<div>\n<style scoped>\n    .dataframe tbody tr th:only-of-type {\n        vertical-align: middle;\n    }\n\n    .dataframe tbody tr th {\n        vertical-align: top;\n    }\n\n    .dataframe thead th {\n        text-align: right;\n    }\n</style>\n<table border=\"1\" class=\"dataframe\">\n  <thead>\n    <tr style=\"text-align: right;\">\n      <th></th>\n      <th>Date</th>\n      <th>Price</th>\n      <th>Month</th>\n      <th>Year</th>\n      <th>Real_GDP</th>\n      <th>CPI</th>\n      <th>inflation_rate</th>\n      <th>PALLFNFINDEXM</th>\n    </tr>\n  </thead>\n  <tbody>\n    <tr>\n      <th>0</th>\n      <td>2000-01-04</td>\n      <td>0.8480</td>\n      <td>1.0</td>\n      <td>2000.0</td>\n      <td>14096.033</td>\n      <td>168.8</td>\n      <td>3.376857</td>\n      <td>59.470000</td>\n    </tr>\n    <tr>\n      <th>1</th>\n      <td>2000-01-05</td>\n      <td>0.8565</td>\n      <td>1.0</td>\n      <td>2000.0</td>\n      <td>14096.033</td>\n      <td>168.8</td>\n      <td>3.376857</td>\n      <td>59.470000</td>\n    </tr>\n    <tr>\n      <th>2</th>\n      <td>2000-01-06</td>\n      <td>0.8530</td>\n      <td>1.0</td>\n      <td>2000.0</td>\n      <td>14096.033</td>\n      <td>168.8</td>\n      <td>3.376857</td>\n      <td>59.470000</td>\n    </tr>\n    <tr>\n      <th>3</th>\n      <td>2000-01-07</td>\n      <td>0.8540</td>\n      <td>1.0</td>\n      <td>2000.0</td>\n      <td>14096.033</td>\n      <td>168.8</td>\n      <td>3.376857</td>\n      <td>59.470000</td>\n    </tr>\n    <tr>\n      <th>4</th>\n      <td>2000-01-10</td>\n      <td>0.8465</td>\n      <td>1.0</td>\n      <td>2000.0</td>\n      <td>14096.033</td>\n      <td>168.8</td>\n      <td>3.376857</td>\n      <td>59.470000</td>\n    </tr>\n    <tr>\n      <th>...</th>\n      <td>...</td>\n      <td>...</td>\n      <td>...</td>\n      <td>...</td>\n      <td>...</td>\n      <td>...</td>\n      <td>...</td>\n      <td>...</td>\n    </tr>\n    <tr>\n      <th>6079</th>\n      <td>2023-11-24</td>\n      <td>3.8205</td>\n      <td>11.0</td>\n      <td>2023.0</td>\n      <td>19374.000</td>\n      <td>307.0</td>\n      <td>6.600000</td>\n      <td>168.657489</td>\n    </tr>\n    <tr>\n      <th>6080</th>\n      <td>2023-11-27</td>\n      <td>3.7890</td>\n      <td>11.0</td>\n      <td>2023.0</td>\n      <td>19374.000</td>\n      <td>307.0</td>\n      <td>6.600000</td>\n      <td>168.657489</td>\n    </tr>\n    <tr>\n      <th>6081</th>\n      <td>2023-11-28</td>\n      <td>3.8285</td>\n      <td>11.0</td>\n      <td>2023.0</td>\n      <td>19374.000</td>\n      <td>307.0</td>\n      <td>6.600000</td>\n      <td>168.657489</td>\n    </tr>\n    <tr>\n      <th>6082</th>\n      <td>2023-11-29</td>\n      <td>3.8255</td>\n      <td>11.0</td>\n      <td>2023.0</td>\n      <td>19374.000</td>\n      <td>307.0</td>\n      <td>6.600000</td>\n      <td>168.657489</td>\n    </tr>\n    <tr>\n      <th>6083</th>\n      <td>2023-11-30</td>\n      <td>3.8213</td>\n      <td>11.0</td>\n      <td>2023.0</td>\n      <td>19374.000</td>\n      <td>307.0</td>\n      <td>6.600000</td>\n      <td>168.657489</td>\n    </tr>\n  </tbody>\n</table>\n<p>6084 rows × 8 columns</p>\n</div>"
     },
     "execution_count": 9,
     "metadata": {},
     "output_type": "execute_result"
    }
   ],
   "source": [
    "df = pd.read_csv('DataFrames/final_merged_copper_dataset.csv')\n",
    "df = df.drop(['Unnamed: 0'], axis=1)\n",
    "df[\"Date\"] = pd.to_datetime(df[\"Date\"])\n",
    "df"
   ]
  },
  {
   "cell_type": "code",
   "execution_count": 10,
   "metadata": {
    "colab": {
     "base_uri": "https://localhost:8080/",
     "height": 310
    },
    "id": "ZuCLp5fBFQNk",
    "outputId": "cd4e9b70-673f-4155-8005-a369716d3f94",
    "ExecuteTime": {
     "end_time": "2023-11-30T10:51:54.139347Z",
     "start_time": "2023-11-30T10:51:54.106441700Z"
    }
   },
   "outputs": [
    {
     "data": {
      "text/plain": "datetime.date(2023, 11, 30)"
     },
     "execution_count": 10,
     "metadata": {},
     "output_type": "execute_result"
    }
   ],
   "source": [
    "last_date = df['Date'].max().date()\n",
    "last_date"
   ]
  },
  {
   "cell_type": "code",
   "execution_count": 11,
   "metadata": {
    "colab": {
     "base_uri": "https://localhost:8080/"
    },
    "id": "NmvbP9YOkb3p",
    "outputId": "6d6e97ab-3f0f-47b6-ee16-db61e52c1dfe",
    "ExecuteTime": {
     "end_time": "2023-11-30T10:51:56.095719100Z",
     "start_time": "2023-11-30T10:51:56.068184700Z"
    }
   },
   "outputs": [
    {
     "data": {
      "text/plain": "           Date   Price  Month    Year   Real_GDP    CPI  inflation_rate  \\\n0    2000-01-04  0.8480    1.0  2000.0  14096.033  168.8        3.376857   \n1    2000-01-05  0.8565    1.0  2000.0  14096.033  168.8        3.376857   \n2    2000-01-06  0.8530    1.0  2000.0  14096.033  168.8        3.376857   \n3    2000-01-07  0.8540    1.0  2000.0  14096.033  168.8        3.376857   \n4    2000-01-10  0.8465    1.0  2000.0  14096.033  168.8        3.376857   \n...         ...     ...    ...     ...        ...    ...             ...   \n6079 2023-11-24  3.8205   11.0  2023.0  19374.000  307.0        6.600000   \n6080 2023-11-27  3.7890   11.0  2023.0  19374.000  307.0        6.600000   \n6081 2023-11-28  3.8285   11.0  2023.0  19374.000  307.0        6.600000   \n6082 2023-11-29  3.8255   11.0  2023.0  19374.000  307.0        6.600000   \n6083 2023-11-30  3.8213   11.0  2023.0  19374.000  307.0        6.600000   \n\n      PALLFNFINDEXM  \n0         59.470000  \n1         59.470000  \n2         59.470000  \n3         59.470000  \n4         59.470000  \n...             ...  \n6079     168.657489  \n6080     168.657489  \n6081     168.657489  \n6082     168.657489  \n6083     168.657489  \n\n[6084 rows x 8 columns]",
      "text/html": "<div>\n<style scoped>\n    .dataframe tbody tr th:only-of-type {\n        vertical-align: middle;\n    }\n\n    .dataframe tbody tr th {\n        vertical-align: top;\n    }\n\n    .dataframe thead th {\n        text-align: right;\n    }\n</style>\n<table border=\"1\" class=\"dataframe\">\n  <thead>\n    <tr style=\"text-align: right;\">\n      <th></th>\n      <th>Date</th>\n      <th>Price</th>\n      <th>Month</th>\n      <th>Year</th>\n      <th>Real_GDP</th>\n      <th>CPI</th>\n      <th>inflation_rate</th>\n      <th>PALLFNFINDEXM</th>\n    </tr>\n  </thead>\n  <tbody>\n    <tr>\n      <th>0</th>\n      <td>2000-01-04</td>\n      <td>0.8480</td>\n      <td>1.0</td>\n      <td>2000.0</td>\n      <td>14096.033</td>\n      <td>168.8</td>\n      <td>3.376857</td>\n      <td>59.470000</td>\n    </tr>\n    <tr>\n      <th>1</th>\n      <td>2000-01-05</td>\n      <td>0.8565</td>\n      <td>1.0</td>\n      <td>2000.0</td>\n      <td>14096.033</td>\n      <td>168.8</td>\n      <td>3.376857</td>\n      <td>59.470000</td>\n    </tr>\n    <tr>\n      <th>2</th>\n      <td>2000-01-06</td>\n      <td>0.8530</td>\n      <td>1.0</td>\n      <td>2000.0</td>\n      <td>14096.033</td>\n      <td>168.8</td>\n      <td>3.376857</td>\n      <td>59.470000</td>\n    </tr>\n    <tr>\n      <th>3</th>\n      <td>2000-01-07</td>\n      <td>0.8540</td>\n      <td>1.0</td>\n      <td>2000.0</td>\n      <td>14096.033</td>\n      <td>168.8</td>\n      <td>3.376857</td>\n      <td>59.470000</td>\n    </tr>\n    <tr>\n      <th>4</th>\n      <td>2000-01-10</td>\n      <td>0.8465</td>\n      <td>1.0</td>\n      <td>2000.0</td>\n      <td>14096.033</td>\n      <td>168.8</td>\n      <td>3.376857</td>\n      <td>59.470000</td>\n    </tr>\n    <tr>\n      <th>...</th>\n      <td>...</td>\n      <td>...</td>\n      <td>...</td>\n      <td>...</td>\n      <td>...</td>\n      <td>...</td>\n      <td>...</td>\n      <td>...</td>\n    </tr>\n    <tr>\n      <th>6079</th>\n      <td>2023-11-24</td>\n      <td>3.8205</td>\n      <td>11.0</td>\n      <td>2023.0</td>\n      <td>19374.000</td>\n      <td>307.0</td>\n      <td>6.600000</td>\n      <td>168.657489</td>\n    </tr>\n    <tr>\n      <th>6080</th>\n      <td>2023-11-27</td>\n      <td>3.7890</td>\n      <td>11.0</td>\n      <td>2023.0</td>\n      <td>19374.000</td>\n      <td>307.0</td>\n      <td>6.600000</td>\n      <td>168.657489</td>\n    </tr>\n    <tr>\n      <th>6081</th>\n      <td>2023-11-28</td>\n      <td>3.8285</td>\n      <td>11.0</td>\n      <td>2023.0</td>\n      <td>19374.000</td>\n      <td>307.0</td>\n      <td>6.600000</td>\n      <td>168.657489</td>\n    </tr>\n    <tr>\n      <th>6082</th>\n      <td>2023-11-29</td>\n      <td>3.8255</td>\n      <td>11.0</td>\n      <td>2023.0</td>\n      <td>19374.000</td>\n      <td>307.0</td>\n      <td>6.600000</td>\n      <td>168.657489</td>\n    </tr>\n    <tr>\n      <th>6083</th>\n      <td>2023-11-30</td>\n      <td>3.8213</td>\n      <td>11.0</td>\n      <td>2023.0</td>\n      <td>19374.000</td>\n      <td>307.0</td>\n      <td>6.600000</td>\n      <td>168.657489</td>\n    </tr>\n  </tbody>\n</table>\n<p>6084 rows × 8 columns</p>\n</div>"
     },
     "execution_count": 11,
     "metadata": {},
     "output_type": "execute_result"
    }
   ],
   "source": [
    "df"
   ]
  },
  {
   "cell_type": "code",
   "execution_count": 14,
   "metadata": {
    "colab": {
     "base_uri": "https://localhost:8080/"
    },
    "id": "eeKL-oFVQgY9",
    "outputId": "5a997432-6c8e-4e7f-e428-49a6a4f846ab",
    "ExecuteTime": {
     "end_time": "2023-11-30T10:52:44.402697100Z",
     "start_time": "2023-11-30T10:52:44.370699900Z"
    }
   },
   "outputs": [
    {
     "data": {
      "text/plain": "15     2000-01-26\n16     2000-01-27\n17     2000-01-28\n18     2000-01-31\n19     2000-02-01\n          ...    \n6079   2023-11-24\n6080   2023-11-27\n6081   2023-11-28\n6082   2023-11-29\n6083   2023-11-30\nName: Date, Length: 6069, dtype: datetime64[ns]"
     },
     "execution_count": 14,
     "metadata": {},
     "output_type": "execute_result"
    }
   ],
   "source": [
    "LOOKBACK = 15\n",
    "data = pd.DataFrame({'Date': df[\"Date\"].copy(),\n",
    "                     'Price': df[\"Price\"].copy()})\n",
    "# Select the \"Date\" column and store it in the variable 'train_dates'.\n",
    "dates = data[\"Date\"]\n",
    "\n",
    "# Exclude the first 'LOOKBACK' dates from 'train_dates' to create a time window.\n",
    "dates = dates[LOOKBACK:]\n",
    "dates"
   ]
  },
  {
   "cell_type": "code",
   "execution_count": 15,
   "metadata": {
    "collapsed": false,
    "ExecuteTime": {
     "end_time": "2023-11-30T10:52:52.210350700Z",
     "start_time": "2023-11-30T10:52:52.183900600Z"
    }
   },
   "outputs": [
    {
     "data": {
      "text/plain": "           Date   Price\n0    2000-01-04  0.8480\n1    2000-01-05  0.8565\n2    2000-01-06  0.8530\n3    2000-01-07  0.8540\n4    2000-01-10  0.8465\n...         ...     ...\n6079 2023-11-24  3.8205\n6080 2023-11-27  3.7890\n6081 2023-11-28  3.8285\n6082 2023-11-29  3.8255\n6083 2023-11-30  3.8213\n\n[6084 rows x 2 columns]",
      "text/html": "<div>\n<style scoped>\n    .dataframe tbody tr th:only-of-type {\n        vertical-align: middle;\n    }\n\n    .dataframe tbody tr th {\n        vertical-align: top;\n    }\n\n    .dataframe thead th {\n        text-align: right;\n    }\n</style>\n<table border=\"1\" class=\"dataframe\">\n  <thead>\n    <tr style=\"text-align: right;\">\n      <th></th>\n      <th>Date</th>\n      <th>Price</th>\n    </tr>\n  </thead>\n  <tbody>\n    <tr>\n      <th>0</th>\n      <td>2000-01-04</td>\n      <td>0.8480</td>\n    </tr>\n    <tr>\n      <th>1</th>\n      <td>2000-01-05</td>\n      <td>0.8565</td>\n    </tr>\n    <tr>\n      <th>2</th>\n      <td>2000-01-06</td>\n      <td>0.8530</td>\n    </tr>\n    <tr>\n      <th>3</th>\n      <td>2000-01-07</td>\n      <td>0.8540</td>\n    </tr>\n    <tr>\n      <th>4</th>\n      <td>2000-01-10</td>\n      <td>0.8465</td>\n    </tr>\n    <tr>\n      <th>...</th>\n      <td>...</td>\n      <td>...</td>\n    </tr>\n    <tr>\n      <th>6079</th>\n      <td>2023-11-24</td>\n      <td>3.8205</td>\n    </tr>\n    <tr>\n      <th>6080</th>\n      <td>2023-11-27</td>\n      <td>3.7890</td>\n    </tr>\n    <tr>\n      <th>6081</th>\n      <td>2023-11-28</td>\n      <td>3.8285</td>\n    </tr>\n    <tr>\n      <th>6082</th>\n      <td>2023-11-29</td>\n      <td>3.8255</td>\n    </tr>\n    <tr>\n      <th>6083</th>\n      <td>2023-11-30</td>\n      <td>3.8213</td>\n    </tr>\n  </tbody>\n</table>\n<p>6084 rows × 2 columns</p>\n</div>"
     },
     "execution_count": 15,
     "metadata": {},
     "output_type": "execute_result"
    }
   ],
   "source": [
    "data"
   ]
  },
  {
   "cell_type": "code",
   "execution_count": 16,
   "metadata": {
    "id": "Bn6JONj4QgY-",
    "ExecuteTime": {
     "end_time": "2023-11-30T10:52:58.478119900Z",
     "start_time": "2023-11-30T10:52:58.451562600Z"
    }
   },
   "outputs": [],
   "source": [
    "dates.reset_index(drop=True, inplace=True)"
   ]
  },
  {
   "cell_type": "code",
   "execution_count": 17,
   "metadata": {
    "colab": {
     "base_uri": "https://localhost:8080/"
    },
    "id": "mbe_uzvJQgY-",
    "outputId": "81b9932e-9017-43dd-a846-d9017f8c7667",
    "ExecuteTime": {
     "end_time": "2023-11-30T10:52:59.472908Z",
     "start_time": "2023-11-30T10:52:59.438505300Z"
    }
   },
   "outputs": [
    {
     "data": {
      "text/plain": "0      2000-01-26\n1      2000-01-27\n2      2000-01-28\n3      2000-01-31\n4      2000-02-01\n          ...    \n6064   2023-11-24\n6065   2023-11-27\n6066   2023-11-28\n6067   2023-11-29\n6068   2023-11-30\nName: Date, Length: 6069, dtype: datetime64[ns]"
     },
     "execution_count": 17,
     "metadata": {},
     "output_type": "execute_result"
    }
   ],
   "source": [
    "dates"
   ]
  },
  {
   "cell_type": "code",
   "execution_count": 18,
   "metadata": {
    "colab": {
     "base_uri": "https://localhost:8080/",
     "height": 423
    },
    "id": "CuUo7vcDQgY-",
    "outputId": "c38ed307-e2d9-463a-a478-06e2146f7257",
    "ExecuteTime": {
     "end_time": "2023-11-30T10:53:01.275546100Z",
     "start_time": "2023-11-30T10:53:01.243747500Z"
    }
   },
   "outputs": [
    {
     "data": {
      "text/plain": "           Date   Price  Month    Year   Real_GDP    CPI  inflation_rate  \\\n0    2000-01-04  0.8480    1.0  2000.0  14096.033  168.8        3.376857   \n1    2000-01-05  0.8565    1.0  2000.0  14096.033  168.8        3.376857   \n2    2000-01-06  0.8530    1.0  2000.0  14096.033  168.8        3.376857   \n3    2000-01-07  0.8540    1.0  2000.0  14096.033  168.8        3.376857   \n4    2000-01-10  0.8465    1.0  2000.0  14096.033  168.8        3.376857   \n...         ...     ...    ...     ...        ...    ...             ...   \n6072 2023-11-15  3.7185   11.0  2023.0  19374.000  307.0        6.600000   \n6073 2023-11-16  3.7025   11.0  2023.0  19374.000  307.0        6.600000   \n6074 2023-11-17  3.7345   11.0  2023.0  19374.000  307.0        6.600000   \n6075 2023-11-20  3.8335   11.0  2023.0  19374.000  307.0        6.600000   \n6076 2023-11-21  3.8395   11.0  2023.0  19374.000  307.0        6.600000   \n\n      PALLFNFINDEXM  \n0         59.470000  \n1         59.470000  \n2         59.470000  \n3         59.470000  \n4         59.470000  \n...             ...  \n6072     168.657489  \n6073     168.657489  \n6074     168.657489  \n6075     168.657489  \n6076     168.657489  \n\n[6077 rows x 8 columns]",
      "text/html": "<div>\n<style scoped>\n    .dataframe tbody tr th:only-of-type {\n        vertical-align: middle;\n    }\n\n    .dataframe tbody tr th {\n        vertical-align: top;\n    }\n\n    .dataframe thead th {\n        text-align: right;\n    }\n</style>\n<table border=\"1\" class=\"dataframe\">\n  <thead>\n    <tr style=\"text-align: right;\">\n      <th></th>\n      <th>Date</th>\n      <th>Price</th>\n      <th>Month</th>\n      <th>Year</th>\n      <th>Real_GDP</th>\n      <th>CPI</th>\n      <th>inflation_rate</th>\n      <th>PALLFNFINDEXM</th>\n    </tr>\n  </thead>\n  <tbody>\n    <tr>\n      <th>0</th>\n      <td>2000-01-04</td>\n      <td>0.8480</td>\n      <td>1.0</td>\n      <td>2000.0</td>\n      <td>14096.033</td>\n      <td>168.8</td>\n      <td>3.376857</td>\n      <td>59.470000</td>\n    </tr>\n    <tr>\n      <th>1</th>\n      <td>2000-01-05</td>\n      <td>0.8565</td>\n      <td>1.0</td>\n      <td>2000.0</td>\n      <td>14096.033</td>\n      <td>168.8</td>\n      <td>3.376857</td>\n      <td>59.470000</td>\n    </tr>\n    <tr>\n      <th>2</th>\n      <td>2000-01-06</td>\n      <td>0.8530</td>\n      <td>1.0</td>\n      <td>2000.0</td>\n      <td>14096.033</td>\n      <td>168.8</td>\n      <td>3.376857</td>\n      <td>59.470000</td>\n    </tr>\n    <tr>\n      <th>3</th>\n      <td>2000-01-07</td>\n      <td>0.8540</td>\n      <td>1.0</td>\n      <td>2000.0</td>\n      <td>14096.033</td>\n      <td>168.8</td>\n      <td>3.376857</td>\n      <td>59.470000</td>\n    </tr>\n    <tr>\n      <th>4</th>\n      <td>2000-01-10</td>\n      <td>0.8465</td>\n      <td>1.0</td>\n      <td>2000.0</td>\n      <td>14096.033</td>\n      <td>168.8</td>\n      <td>3.376857</td>\n      <td>59.470000</td>\n    </tr>\n    <tr>\n      <th>...</th>\n      <td>...</td>\n      <td>...</td>\n      <td>...</td>\n      <td>...</td>\n      <td>...</td>\n      <td>...</td>\n      <td>...</td>\n      <td>...</td>\n    </tr>\n    <tr>\n      <th>6072</th>\n      <td>2023-11-15</td>\n      <td>3.7185</td>\n      <td>11.0</td>\n      <td>2023.0</td>\n      <td>19374.000</td>\n      <td>307.0</td>\n      <td>6.600000</td>\n      <td>168.657489</td>\n    </tr>\n    <tr>\n      <th>6073</th>\n      <td>2023-11-16</td>\n      <td>3.7025</td>\n      <td>11.0</td>\n      <td>2023.0</td>\n      <td>19374.000</td>\n      <td>307.0</td>\n      <td>6.600000</td>\n      <td>168.657489</td>\n    </tr>\n    <tr>\n      <th>6074</th>\n      <td>2023-11-17</td>\n      <td>3.7345</td>\n      <td>11.0</td>\n      <td>2023.0</td>\n      <td>19374.000</td>\n      <td>307.0</td>\n      <td>6.600000</td>\n      <td>168.657489</td>\n    </tr>\n    <tr>\n      <th>6075</th>\n      <td>2023-11-20</td>\n      <td>3.8335</td>\n      <td>11.0</td>\n      <td>2023.0</td>\n      <td>19374.000</td>\n      <td>307.0</td>\n      <td>6.600000</td>\n      <td>168.657489</td>\n    </tr>\n    <tr>\n      <th>6076</th>\n      <td>2023-11-21</td>\n      <td>3.8395</td>\n      <td>11.0</td>\n      <td>2023.0</td>\n      <td>19374.000</td>\n      <td>307.0</td>\n      <td>6.600000</td>\n      <td>168.657489</td>\n    </tr>\n  </tbody>\n</table>\n<p>6077 rows × 8 columns</p>\n</div>"
     },
     "execution_count": 18,
     "metadata": {},
     "output_type": "execute_result"
    }
   ],
   "source": [
    "from copy import deepcopy as dc\n",
    "\n",
    "\n",
    "def prepare_dataframe_for_lstm(df, n_steps):\n",
    "    df = dc(df)\n",
    "\n",
    "    #df.set_index('Date', inplace=True)\n",
    "\n",
    "    for i in range(1, n_steps + 1):\n",
    "        df[f'Price(t-{i})'] = df['Price'].shift(i)\n",
    "\n",
    "    df.dropna(inplace=True)\n",
    "\n",
    "    return df\n",
    "\n",
    "\n",
    "shifted_df = prepare_dataframe_for_lstm(data, LOOKBACK)\n",
    "shifted_df = shifted_df.reset_index(drop=True)\n",
    "df = df.drop(df.index[-7:])\n",
    "df"
   ]
  },
  {
   "cell_type": "code",
   "execution_count": 19,
   "metadata": {
    "collapsed": false,
    "ExecuteTime": {
     "end_time": "2023-11-30T10:53:02.682524400Z",
     "start_time": "2023-11-30T10:53:02.625793400Z"
    }
   },
   "outputs": [
    {
     "data": {
      "text/plain": "           Date   Price  Price(t-1)  Price(t-2)  Price(t-3)  Price(t-4)  \\\n0    2000-01-26  0.8415      0.8425      0.8565      0.8730      0.8730   \n1    2000-01-27  0.8445      0.8415      0.8425      0.8565      0.8730   \n2    2000-01-28  0.8400      0.8445      0.8415      0.8425      0.8565   \n3    2000-01-31  0.8545      0.8400      0.8445      0.8415      0.8425   \n4    2000-02-01  0.8480      0.8545      0.8400      0.8445      0.8415   \n...         ...     ...         ...         ...         ...         ...   \n6064 2023-11-24  3.8205      3.7743      3.7970      3.8395      3.8335   \n6065 2023-11-27  3.7890      3.8205      3.7743      3.7970      3.8395   \n6066 2023-11-28  3.8285      3.7890      3.8205      3.7743      3.7970   \n6067 2023-11-29  3.8255      3.8285      3.7890      3.8205      3.7743   \n6068 2023-11-30  3.8213      3.8255      3.8285      3.7890      3.8205   \n\n      Price(t-5)  Price(t-6)  Price(t-7)  Price(t-8)  Price(t-9)  Price(t-10)  \\\n0         0.8825      0.8660      0.8625      0.8565      0.8660       0.8435   \n1         0.8730      0.8825      0.8660      0.8625      0.8565       0.8660   \n2         0.8730      0.8730      0.8825      0.8660      0.8625       0.8565   \n3         0.8565      0.8730      0.8730      0.8825      0.8660       0.8625   \n4         0.8425      0.8565      0.8730      0.8730      0.8825       0.8660   \n...          ...         ...         ...         ...         ...          ...   \n6064      3.7345      3.7025      3.7185      3.6835      3.6660       3.5870   \n6065      3.8335      3.7345      3.7025      3.7185      3.6835       3.6660   \n6066      3.8395      3.8335      3.7345      3.7025      3.7185       3.6835   \n6067      3.7970      3.8395      3.8335      3.7345      3.7025       3.7185   \n6068      3.7743      3.7970      3.8395      3.8335      3.7345       3.7025   \n\n      Price(t-11)  Price(t-12)  Price(t-13)  Price(t-14)  Price(t-15)  \n0          0.8465       0.8540       0.8530       0.8565       0.8480  \n1          0.8435       0.8465       0.8540       0.8530       0.8565  \n2          0.8660       0.8435       0.8465       0.8540       0.8530  \n3          0.8565       0.8660       0.8435       0.8465       0.8540  \n4          0.8625       0.8565       0.8660       0.8435       0.8465  \n...           ...          ...          ...          ...          ...  \n6064       3.6405       3.6380       3.6790       3.7190       3.6815  \n6065       3.5870       3.6405       3.6380       3.6790       3.7190  \n6066       3.6660       3.5870       3.6405       3.6380       3.6790  \n6067       3.6835       3.6660       3.5870       3.6405       3.6380  \n6068       3.7185       3.6835       3.6660       3.5870       3.6405  \n\n[6069 rows x 17 columns]",
      "text/html": "<div>\n<style scoped>\n    .dataframe tbody tr th:only-of-type {\n        vertical-align: middle;\n    }\n\n    .dataframe tbody tr th {\n        vertical-align: top;\n    }\n\n    .dataframe thead th {\n        text-align: right;\n    }\n</style>\n<table border=\"1\" class=\"dataframe\">\n  <thead>\n    <tr style=\"text-align: right;\">\n      <th></th>\n      <th>Date</th>\n      <th>Price</th>\n      <th>Price(t-1)</th>\n      <th>Price(t-2)</th>\n      <th>Price(t-3)</th>\n      <th>Price(t-4)</th>\n      <th>Price(t-5)</th>\n      <th>Price(t-6)</th>\n      <th>Price(t-7)</th>\n      <th>Price(t-8)</th>\n      <th>Price(t-9)</th>\n      <th>Price(t-10)</th>\n      <th>Price(t-11)</th>\n      <th>Price(t-12)</th>\n      <th>Price(t-13)</th>\n      <th>Price(t-14)</th>\n      <th>Price(t-15)</th>\n    </tr>\n  </thead>\n  <tbody>\n    <tr>\n      <th>0</th>\n      <td>2000-01-26</td>\n      <td>0.8415</td>\n      <td>0.8425</td>\n      <td>0.8565</td>\n      <td>0.8730</td>\n      <td>0.8730</td>\n      <td>0.8825</td>\n      <td>0.8660</td>\n      <td>0.8625</td>\n      <td>0.8565</td>\n      <td>0.8660</td>\n      <td>0.8435</td>\n      <td>0.8465</td>\n      <td>0.8540</td>\n      <td>0.8530</td>\n      <td>0.8565</td>\n      <td>0.8480</td>\n    </tr>\n    <tr>\n      <th>1</th>\n      <td>2000-01-27</td>\n      <td>0.8445</td>\n      <td>0.8415</td>\n      <td>0.8425</td>\n      <td>0.8565</td>\n      <td>0.8730</td>\n      <td>0.8730</td>\n      <td>0.8825</td>\n      <td>0.8660</td>\n      <td>0.8625</td>\n      <td>0.8565</td>\n      <td>0.8660</td>\n      <td>0.8435</td>\n      <td>0.8465</td>\n      <td>0.8540</td>\n      <td>0.8530</td>\n      <td>0.8565</td>\n    </tr>\n    <tr>\n      <th>2</th>\n      <td>2000-01-28</td>\n      <td>0.8400</td>\n      <td>0.8445</td>\n      <td>0.8415</td>\n      <td>0.8425</td>\n      <td>0.8565</td>\n      <td>0.8730</td>\n      <td>0.8730</td>\n      <td>0.8825</td>\n      <td>0.8660</td>\n      <td>0.8625</td>\n      <td>0.8565</td>\n      <td>0.8660</td>\n      <td>0.8435</td>\n      <td>0.8465</td>\n      <td>0.8540</td>\n      <td>0.8530</td>\n    </tr>\n    <tr>\n      <th>3</th>\n      <td>2000-01-31</td>\n      <td>0.8545</td>\n      <td>0.8400</td>\n      <td>0.8445</td>\n      <td>0.8415</td>\n      <td>0.8425</td>\n      <td>0.8565</td>\n      <td>0.8730</td>\n      <td>0.8730</td>\n      <td>0.8825</td>\n      <td>0.8660</td>\n      <td>0.8625</td>\n      <td>0.8565</td>\n      <td>0.8660</td>\n      <td>0.8435</td>\n      <td>0.8465</td>\n      <td>0.8540</td>\n    </tr>\n    <tr>\n      <th>4</th>\n      <td>2000-02-01</td>\n      <td>0.8480</td>\n      <td>0.8545</td>\n      <td>0.8400</td>\n      <td>0.8445</td>\n      <td>0.8415</td>\n      <td>0.8425</td>\n      <td>0.8565</td>\n      <td>0.8730</td>\n      <td>0.8730</td>\n      <td>0.8825</td>\n      <td>0.8660</td>\n      <td>0.8625</td>\n      <td>0.8565</td>\n      <td>0.8660</td>\n      <td>0.8435</td>\n      <td>0.8465</td>\n    </tr>\n    <tr>\n      <th>...</th>\n      <td>...</td>\n      <td>...</td>\n      <td>...</td>\n      <td>...</td>\n      <td>...</td>\n      <td>...</td>\n      <td>...</td>\n      <td>...</td>\n      <td>...</td>\n      <td>...</td>\n      <td>...</td>\n      <td>...</td>\n      <td>...</td>\n      <td>...</td>\n      <td>...</td>\n      <td>...</td>\n      <td>...</td>\n    </tr>\n    <tr>\n      <th>6064</th>\n      <td>2023-11-24</td>\n      <td>3.8205</td>\n      <td>3.7743</td>\n      <td>3.7970</td>\n      <td>3.8395</td>\n      <td>3.8335</td>\n      <td>3.7345</td>\n      <td>3.7025</td>\n      <td>3.7185</td>\n      <td>3.6835</td>\n      <td>3.6660</td>\n      <td>3.5870</td>\n      <td>3.6405</td>\n      <td>3.6380</td>\n      <td>3.6790</td>\n      <td>3.7190</td>\n      <td>3.6815</td>\n    </tr>\n    <tr>\n      <th>6065</th>\n      <td>2023-11-27</td>\n      <td>3.7890</td>\n      <td>3.8205</td>\n      <td>3.7743</td>\n      <td>3.7970</td>\n      <td>3.8395</td>\n      <td>3.8335</td>\n      <td>3.7345</td>\n      <td>3.7025</td>\n      <td>3.7185</td>\n      <td>3.6835</td>\n      <td>3.6660</td>\n      <td>3.5870</td>\n      <td>3.6405</td>\n      <td>3.6380</td>\n      <td>3.6790</td>\n      <td>3.7190</td>\n    </tr>\n    <tr>\n      <th>6066</th>\n      <td>2023-11-28</td>\n      <td>3.8285</td>\n      <td>3.7890</td>\n      <td>3.8205</td>\n      <td>3.7743</td>\n      <td>3.7970</td>\n      <td>3.8395</td>\n      <td>3.8335</td>\n      <td>3.7345</td>\n      <td>3.7025</td>\n      <td>3.7185</td>\n      <td>3.6835</td>\n      <td>3.6660</td>\n      <td>3.5870</td>\n      <td>3.6405</td>\n      <td>3.6380</td>\n      <td>3.6790</td>\n    </tr>\n    <tr>\n      <th>6067</th>\n      <td>2023-11-29</td>\n      <td>3.8255</td>\n      <td>3.8285</td>\n      <td>3.7890</td>\n      <td>3.8205</td>\n      <td>3.7743</td>\n      <td>3.7970</td>\n      <td>3.8395</td>\n      <td>3.8335</td>\n      <td>3.7345</td>\n      <td>3.7025</td>\n      <td>3.7185</td>\n      <td>3.6835</td>\n      <td>3.6660</td>\n      <td>3.5870</td>\n      <td>3.6405</td>\n      <td>3.6380</td>\n    </tr>\n    <tr>\n      <th>6068</th>\n      <td>2023-11-30</td>\n      <td>3.8213</td>\n      <td>3.8255</td>\n      <td>3.8285</td>\n      <td>3.7890</td>\n      <td>3.8205</td>\n      <td>3.7743</td>\n      <td>3.7970</td>\n      <td>3.8395</td>\n      <td>3.8335</td>\n      <td>3.7345</td>\n      <td>3.7025</td>\n      <td>3.7185</td>\n      <td>3.6835</td>\n      <td>3.6660</td>\n      <td>3.5870</td>\n      <td>3.6405</td>\n    </tr>\n  </tbody>\n</table>\n<p>6069 rows × 17 columns</p>\n</div>"
     },
     "execution_count": 19,
     "metadata": {},
     "output_type": "execute_result"
    }
   ],
   "source": [
    "shifted_df"
   ]
  },
  {
   "cell_type": "code",
   "execution_count": 20,
   "metadata": {
    "collapsed": false,
    "ExecuteTime": {
     "end_time": "2023-11-30T10:56:14.788823200Z",
     "start_time": "2023-11-30T10:56:14.698304800Z"
    }
   },
   "outputs": [
    {
     "data": {
      "text/plain": "           Date   Price  Price(t-1)  Price(t-2)  Price(t-3)  Price(t-4)  \\\n0    2000-01-26  0.8415      0.8425      0.8565      0.8730      0.8730   \n1    2000-01-27  0.8445      0.8415      0.8425      0.8565      0.8730   \n2    2000-01-28  0.8400      0.8445      0.8415      0.8425      0.8565   \n3    2000-01-31  0.8545      0.8400      0.8445      0.8415      0.8425   \n4    2000-02-01  0.8480      0.8545      0.8400      0.8445      0.8415   \n...         ...     ...         ...         ...         ...         ...   \n6064 2023-11-24  3.8205      3.7743      3.7970      3.8395      3.8335   \n6065 2023-11-27  3.7890      3.8205      3.7743      3.7970      3.8395   \n6066 2023-11-28  3.8285      3.7890      3.8205      3.7743      3.7970   \n6067 2023-11-29  3.8255      3.8285      3.7890      3.8205      3.7743   \n6068 2023-11-30  3.8213      3.8255      3.8285      3.7890      3.8205   \n\n      Price(t-5)  Price(t-6)  Price(t-7)  Price(t-8)  ...  Price(t-10)  \\\n0         0.8825      0.8660      0.8625      0.8565  ...       0.8435   \n1         0.8730      0.8825      0.8660      0.8625  ...       0.8660   \n2         0.8730      0.8730      0.8825      0.8660  ...       0.8565   \n3         0.8565      0.8730      0.8730      0.8825  ...       0.8625   \n4         0.8425      0.8565      0.8730      0.8730  ...       0.8660   \n...          ...         ...         ...         ...  ...          ...   \n6064      3.7345      3.7025      3.7185      3.6835  ...       3.5870   \n6065      3.8335      3.7345      3.7025      3.7185  ...       3.6660   \n6066      3.8395      3.8335      3.7345      3.7025  ...       3.6835   \n6067      3.7970      3.8395      3.8335      3.7345  ...       3.7185   \n6068      3.7743      3.7970      3.8395      3.8335  ...       3.7025   \n\n      Price(t-11)  Price(t-12)  Price(t-13)  Price(t-14)  Price(t-15)  \\\n0          0.8465       0.8540       0.8530       0.8565       0.8480   \n1          0.8435       0.8465       0.8540       0.8530       0.8565   \n2          0.8660       0.8435       0.8465       0.8540       0.8530   \n3          0.8565       0.8660       0.8435       0.8465       0.8540   \n4          0.8625       0.8565       0.8660       0.8435       0.8465   \n...           ...          ...          ...          ...          ...   \n6064       3.6405       3.6380       3.6790       3.7190       3.6815   \n6065       3.5870       3.6405       3.6380       3.6790       3.7190   \n6066       3.6660       3.5870       3.6405       3.6380       3.6790   \n6067       3.6835       3.6660       3.5870       3.6405       3.6380   \n6068       3.7185       3.6835       3.6660       3.5870       3.6405   \n\n       Real_GDP    CPI  inflation_rate  PALLFNFINDEXM  \n0     14096.033  168.8        3.376857      59.470000  \n1     14096.033  168.8        3.376857      59.470000  \n2     14096.033  168.8        3.376857      59.470000  \n3     14096.033  168.8        3.376857      59.470000  \n4     14096.033  168.8        3.376857      59.470000  \n...         ...    ...             ...            ...  \n6064  19374.000  307.0        6.600000     168.657489  \n6065  19374.000  307.0        6.600000     168.657489  \n6066  19374.000  307.0        6.600000     168.657489  \n6067  19374.000  307.0        6.600000     168.657489  \n6068  19374.000  307.0        6.600000     168.657489  \n\n[6069 rows x 21 columns]",
      "text/html": "<div>\n<style scoped>\n    .dataframe tbody tr th:only-of-type {\n        vertical-align: middle;\n    }\n\n    .dataframe tbody tr th {\n        vertical-align: top;\n    }\n\n    .dataframe thead th {\n        text-align: right;\n    }\n</style>\n<table border=\"1\" class=\"dataframe\">\n  <thead>\n    <tr style=\"text-align: right;\">\n      <th></th>\n      <th>Date</th>\n      <th>Price</th>\n      <th>Price(t-1)</th>\n      <th>Price(t-2)</th>\n      <th>Price(t-3)</th>\n      <th>Price(t-4)</th>\n      <th>Price(t-5)</th>\n      <th>Price(t-6)</th>\n      <th>Price(t-7)</th>\n      <th>Price(t-8)</th>\n      <th>...</th>\n      <th>Price(t-10)</th>\n      <th>Price(t-11)</th>\n      <th>Price(t-12)</th>\n      <th>Price(t-13)</th>\n      <th>Price(t-14)</th>\n      <th>Price(t-15)</th>\n      <th>Real_GDP</th>\n      <th>CPI</th>\n      <th>inflation_rate</th>\n      <th>PALLFNFINDEXM</th>\n    </tr>\n  </thead>\n  <tbody>\n    <tr>\n      <th>0</th>\n      <td>2000-01-26</td>\n      <td>0.8415</td>\n      <td>0.8425</td>\n      <td>0.8565</td>\n      <td>0.8730</td>\n      <td>0.8730</td>\n      <td>0.8825</td>\n      <td>0.8660</td>\n      <td>0.8625</td>\n      <td>0.8565</td>\n      <td>...</td>\n      <td>0.8435</td>\n      <td>0.8465</td>\n      <td>0.8540</td>\n      <td>0.8530</td>\n      <td>0.8565</td>\n      <td>0.8480</td>\n      <td>14096.033</td>\n      <td>168.8</td>\n      <td>3.376857</td>\n      <td>59.470000</td>\n    </tr>\n    <tr>\n      <th>1</th>\n      <td>2000-01-27</td>\n      <td>0.8445</td>\n      <td>0.8415</td>\n      <td>0.8425</td>\n      <td>0.8565</td>\n      <td>0.8730</td>\n      <td>0.8730</td>\n      <td>0.8825</td>\n      <td>0.8660</td>\n      <td>0.8625</td>\n      <td>...</td>\n      <td>0.8660</td>\n      <td>0.8435</td>\n      <td>0.8465</td>\n      <td>0.8540</td>\n      <td>0.8530</td>\n      <td>0.8565</td>\n      <td>14096.033</td>\n      <td>168.8</td>\n      <td>3.376857</td>\n      <td>59.470000</td>\n    </tr>\n    <tr>\n      <th>2</th>\n      <td>2000-01-28</td>\n      <td>0.8400</td>\n      <td>0.8445</td>\n      <td>0.8415</td>\n      <td>0.8425</td>\n      <td>0.8565</td>\n      <td>0.8730</td>\n      <td>0.8730</td>\n      <td>0.8825</td>\n      <td>0.8660</td>\n      <td>...</td>\n      <td>0.8565</td>\n      <td>0.8660</td>\n      <td>0.8435</td>\n      <td>0.8465</td>\n      <td>0.8540</td>\n      <td>0.8530</td>\n      <td>14096.033</td>\n      <td>168.8</td>\n      <td>3.376857</td>\n      <td>59.470000</td>\n    </tr>\n    <tr>\n      <th>3</th>\n      <td>2000-01-31</td>\n      <td>0.8545</td>\n      <td>0.8400</td>\n      <td>0.8445</td>\n      <td>0.8415</td>\n      <td>0.8425</td>\n      <td>0.8565</td>\n      <td>0.8730</td>\n      <td>0.8730</td>\n      <td>0.8825</td>\n      <td>...</td>\n      <td>0.8625</td>\n      <td>0.8565</td>\n      <td>0.8660</td>\n      <td>0.8435</td>\n      <td>0.8465</td>\n      <td>0.8540</td>\n      <td>14096.033</td>\n      <td>168.8</td>\n      <td>3.376857</td>\n      <td>59.470000</td>\n    </tr>\n    <tr>\n      <th>4</th>\n      <td>2000-02-01</td>\n      <td>0.8480</td>\n      <td>0.8545</td>\n      <td>0.8400</td>\n      <td>0.8445</td>\n      <td>0.8415</td>\n      <td>0.8425</td>\n      <td>0.8565</td>\n      <td>0.8730</td>\n      <td>0.8730</td>\n      <td>...</td>\n      <td>0.8660</td>\n      <td>0.8625</td>\n      <td>0.8565</td>\n      <td>0.8660</td>\n      <td>0.8435</td>\n      <td>0.8465</td>\n      <td>14096.033</td>\n      <td>168.8</td>\n      <td>3.376857</td>\n      <td>59.470000</td>\n    </tr>\n    <tr>\n      <th>...</th>\n      <td>...</td>\n      <td>...</td>\n      <td>...</td>\n      <td>...</td>\n      <td>...</td>\n      <td>...</td>\n      <td>...</td>\n      <td>...</td>\n      <td>...</td>\n      <td>...</td>\n      <td>...</td>\n      <td>...</td>\n      <td>...</td>\n      <td>...</td>\n      <td>...</td>\n      <td>...</td>\n      <td>...</td>\n      <td>...</td>\n      <td>...</td>\n      <td>...</td>\n      <td>...</td>\n    </tr>\n    <tr>\n      <th>6064</th>\n      <td>2023-11-24</td>\n      <td>3.8205</td>\n      <td>3.7743</td>\n      <td>3.7970</td>\n      <td>3.8395</td>\n      <td>3.8335</td>\n      <td>3.7345</td>\n      <td>3.7025</td>\n      <td>3.7185</td>\n      <td>3.6835</td>\n      <td>...</td>\n      <td>3.5870</td>\n      <td>3.6405</td>\n      <td>3.6380</td>\n      <td>3.6790</td>\n      <td>3.7190</td>\n      <td>3.6815</td>\n      <td>19374.000</td>\n      <td>307.0</td>\n      <td>6.600000</td>\n      <td>168.657489</td>\n    </tr>\n    <tr>\n      <th>6065</th>\n      <td>2023-11-27</td>\n      <td>3.7890</td>\n      <td>3.8205</td>\n      <td>3.7743</td>\n      <td>3.7970</td>\n      <td>3.8395</td>\n      <td>3.8335</td>\n      <td>3.7345</td>\n      <td>3.7025</td>\n      <td>3.7185</td>\n      <td>...</td>\n      <td>3.6660</td>\n      <td>3.5870</td>\n      <td>3.6405</td>\n      <td>3.6380</td>\n      <td>3.6790</td>\n      <td>3.7190</td>\n      <td>19374.000</td>\n      <td>307.0</td>\n      <td>6.600000</td>\n      <td>168.657489</td>\n    </tr>\n    <tr>\n      <th>6066</th>\n      <td>2023-11-28</td>\n      <td>3.8285</td>\n      <td>3.7890</td>\n      <td>3.8205</td>\n      <td>3.7743</td>\n      <td>3.7970</td>\n      <td>3.8395</td>\n      <td>3.8335</td>\n      <td>3.7345</td>\n      <td>3.7025</td>\n      <td>...</td>\n      <td>3.6835</td>\n      <td>3.6660</td>\n      <td>3.5870</td>\n      <td>3.6405</td>\n      <td>3.6380</td>\n      <td>3.6790</td>\n      <td>19374.000</td>\n      <td>307.0</td>\n      <td>6.600000</td>\n      <td>168.657489</td>\n    </tr>\n    <tr>\n      <th>6067</th>\n      <td>2023-11-29</td>\n      <td>3.8255</td>\n      <td>3.8285</td>\n      <td>3.7890</td>\n      <td>3.8205</td>\n      <td>3.7743</td>\n      <td>3.7970</td>\n      <td>3.8395</td>\n      <td>3.8335</td>\n      <td>3.7345</td>\n      <td>...</td>\n      <td>3.7185</td>\n      <td>3.6835</td>\n      <td>3.6660</td>\n      <td>3.5870</td>\n      <td>3.6405</td>\n      <td>3.6380</td>\n      <td>19374.000</td>\n      <td>307.0</td>\n      <td>6.600000</td>\n      <td>168.657489</td>\n    </tr>\n    <tr>\n      <th>6068</th>\n      <td>2023-11-30</td>\n      <td>3.8213</td>\n      <td>3.8255</td>\n      <td>3.8285</td>\n      <td>3.7890</td>\n      <td>3.8205</td>\n      <td>3.7743</td>\n      <td>3.7970</td>\n      <td>3.8395</td>\n      <td>3.8335</td>\n      <td>...</td>\n      <td>3.7025</td>\n      <td>3.7185</td>\n      <td>3.6835</td>\n      <td>3.6660</td>\n      <td>3.5870</td>\n      <td>3.6405</td>\n      <td>19374.000</td>\n      <td>307.0</td>\n      <td>6.600000</td>\n      <td>168.657489</td>\n    </tr>\n  </tbody>\n</table>\n<p>6069 rows × 21 columns</p>\n</div>"
     },
     "execution_count": 20,
     "metadata": {},
     "output_type": "execute_result"
    }
   ],
   "source": [
    "shifted_df[\"Real_GDP\"] = df[\"Real_GDP\"]\n",
    "shifted_df[\"CPI\"] = df[\"CPI\"]\n",
    "shifted_df[\"inflation_rate\"] = df[\"inflation_rate\"]\n",
    "shifted_df[\"PALLFNFINDEXM\"] = df[\"PALLFNFINDEXM\"]\n",
    "shifted_df"
   ]
  },
  {
   "cell_type": "code",
   "execution_count": 24,
   "outputs": [
    {
     "data": {
      "text/plain": "['Price',\n 'Price(t-1)',\n 'Price(t-2)',\n 'Price(t-3)',\n 'Price(t-4)',\n 'Price(t-5)',\n 'Price(t-6)',\n 'Price(t-7)',\n 'Price(t-8)',\n 'Price(t-9)',\n 'Price(t-10)',\n 'Price(t-11)',\n 'Price(t-12)',\n 'Price(t-13)',\n 'Price(t-14)',\n 'Price(t-15)']"
     },
     "execution_count": 24,
     "metadata": {},
     "output_type": "execute_result"
    }
   ],
   "source": [
    "price_columns = [col for col in shifted_df.columns if 'Price' in col]\n",
    "price_columns"
   ],
   "metadata": {
    "collapsed": false,
    "ExecuteTime": {
     "end_time": "2023-11-30T10:59:18.461408600Z",
     "start_time": "2023-11-30T10:59:18.430409400Z"
    }
   }
  },
  {
   "cell_type": "code",
   "execution_count": 26,
   "metadata": {
    "collapsed": false,
    "ExecuteTime": {
     "end_time": "2023-11-30T10:59:32.078994300Z",
     "start_time": "2023-11-30T10:59:32.053983400Z"
    }
   },
   "outputs": [
    {
     "data": {
      "text/plain": "array([[0.8415, 0.8425, 0.8565, ..., 0.853 , 0.8565, 0.848 ],\n       [0.8445, 0.8415, 0.8425, ..., 0.854 , 0.853 , 0.8565],\n       [0.84  , 0.8445, 0.8415, ..., 0.8465, 0.854 , 0.853 ],\n       ...,\n       [3.8285, 3.789 , 3.8205, ..., 3.6405, 3.638 , 3.679 ],\n       [3.8255, 3.8285, 3.789 , ..., 3.587 , 3.6405, 3.638 ],\n       [3.8213, 3.8255, 3.8285, ..., 3.666 , 3.587 , 3.6405]])"
     },
     "execution_count": 26,
     "metadata": {},
     "output_type": "execute_result"
    }
   ],
   "source": [
    "prices_before_scaling_as_np = shifted_df[price_columns].values\n",
    "prices_before_scaling_as_np"
   ]
  },
  {
   "cell_type": "code",
   "execution_count": 27,
   "metadata": {
    "collapsed": false,
    "ExecuteTime": {
     "end_time": "2023-11-30T10:59:53.055923600Z",
     "start_time": "2023-11-30T10:59:53.009804Z"
    }
   },
   "outputs": [
    {
     "data": {
      "text/plain": "array([[-0.89235389, -0.89189189, -0.88542389, ..., -0.88704089,\n        -0.88542389, -0.88935089],\n       [-0.89096789, -0.89235389, -0.89189189, ..., -0.88657889,\n        -0.88704089, -0.88542389],\n       [-0.89304689, -0.89096789, -0.89235389, ..., -0.89004389,\n        -0.88657889, -0.88704089],\n       ...,\n       [ 0.48764149,  0.46939247,  0.48394548, ...,  0.4007854 ,\n         0.3996304 ,  0.41857242],\n       [ 0.48625549,  0.48764149,  0.46939247, ...,  0.37606838,\n         0.4007854 ,  0.3996304 ],\n       [ 0.48431508,  0.48625549,  0.48764149, ...,  0.41256641,\n         0.37606838,  0.4007854 ]])"
     },
     "execution_count": 27,
     "metadata": {},
     "output_type": "execute_result"
    }
   ],
   "source": [
    "prices_scaler = MinMaxScaler(feature_range=(-1, 1))\n",
    "scaled_prices = prices_scaler.fit_transform(prices_before_scaling_as_np)\n",
    "scaled_prices"
   ]
  },
  {
   "cell_type": "code",
   "execution_count": 28,
   "metadata": {
    "ExecuteTime": {
     "end_time": "2023-11-30T10:59:55.660794400Z",
     "start_time": "2023-11-30T10:59:55.628127800Z"
    }
   },
   "outputs": [
    {
     "data": {
      "text/plain": "(6069, 16)"
     },
     "execution_count": 28,
     "metadata": {},
     "output_type": "execute_result"
    }
   ],
   "source": [
    "scaled_prices.shape"
   ]
  },
  {
   "cell_type": "code",
   "execution_count": 29,
   "metadata": {
    "id": "x57eELPEQgY-",
    "ExecuteTime": {
     "end_time": "2023-11-30T10:59:58.791617Z",
     "start_time": "2023-11-30T10:59:58.755756200Z"
    }
   },
   "outputs": [],
   "source": [
    "GDP_before_scaling_as_np = shifted_df[\"Real_GDP\"].to_numpy()\n",
    "CPI_before_scaling_as_np = shifted_df[\"CPI\"].to_numpy()\n",
    "inflation_rate_before_scaling_as_np = shifted_df[\"inflation_rate\"].to_numpy()\n",
    "PALLFNFINDEXM_before_scaling_as_np = shifted_df[\"PALLFNFINDEXM\"].to_numpy()"
   ]
  },
  {
   "cell_type": "code",
   "execution_count": 30,
   "metadata": {
    "id": "4Mr21UPRQgY_",
    "ExecuteTime": {
     "end_time": "2023-11-30T11:00:00.596012100Z",
     "start_time": "2023-11-30T11:00:00.565493700Z"
    }
   },
   "outputs": [],
   "source": [
    "GDP_scaler = MinMaxScaler(feature_range=(-1, 1))\n",
    "scaled_GDP = GDP_scaler.fit_transform(GDP_before_scaling_as_np.reshape(-1, 1))"
   ]
  },
  {
   "cell_type": "code",
   "execution_count": 31,
   "metadata": {
    "colab": {
     "base_uri": "https://localhost:8080/"
    },
    "id": "hPc1DvsOQgY_",
    "outputId": "34f85434-1044-40f1-8ff1-59f540b337a3",
    "ExecuteTime": {
     "end_time": "2023-11-30T11:00:06.610256Z",
     "start_time": "2023-11-30T11:00:06.478766800Z"
    }
   },
   "outputs": [
    {
     "data": {
      "text/plain": "array([[-1.        ],\n       [-1.        ],\n       [-1.        ],\n       ...,\n       [ 0.36628638],\n       [ 0.36628638],\n       [ 0.36628638]])"
     },
     "execution_count": 31,
     "metadata": {},
     "output_type": "execute_result"
    }
   ],
   "source": [
    "scaled_GDP"
   ]
  },
  {
   "cell_type": "code",
   "execution_count": 35,
   "metadata": {
    "id": "iLsbZK6UQgY_",
    "ExecuteTime": {
     "end_time": "2023-11-30T11:00:14.523987500Z",
     "start_time": "2023-11-30T11:00:14.495780300Z"
    }
   },
   "outputs": [],
   "source": [
    "CPI_scaler = MinMaxScaler(feature_range=(-1, 1))\n",
    "scaled_CPI = CPI_scaler.fit_transform(CPI_before_scaling_as_np.reshape(-1, 1))"
   ]
  },
  {
   "cell_type": "code",
   "execution_count": 36,
   "metadata": {
    "colab": {
     "base_uri": "https://localhost:8080/"
    },
    "id": "5h98Av3mQgY_",
    "outputId": "55be291e-2304-48f2-e72a-d8280f62a3eb",
    "ExecuteTime": {
     "end_time": "2023-11-30T11:00:15.325702100Z",
     "start_time": "2023-11-30T11:00:15.291171700Z"
    }
   },
   "outputs": [
    {
     "data": {
      "text/plain": "array([[-1.        ],\n       [-1.        ],\n       [-1.        ],\n       ...,\n       [ 0.98864658],\n       [ 0.98864658],\n       [ 0.98864658]])"
     },
     "execution_count": 36,
     "metadata": {},
     "output_type": "execute_result"
    }
   ],
   "source": [
    "scaled_CPI"
   ]
  },
  {
   "cell_type": "code",
   "execution_count": 37,
   "metadata": {
    "id": "pxSZSjwiQgY_",
    "ExecuteTime": {
     "end_time": "2023-11-30T11:00:16.645287100Z",
     "start_time": "2023-11-30T11:00:16.617009200Z"
    }
   },
   "outputs": [],
   "source": [
    "IR_scaler = MinMaxScaler(feature_range=(-1, 1))\n",
    "scaled_IR = IR_scaler.fit_transform(inflation_rate_before_scaling_as_np.reshape(-1, 1))"
   ]
  },
  {
   "cell_type": "code",
   "execution_count": 38,
   "metadata": {
    "colab": {
     "base_uri": "https://localhost:8080/"
    },
    "id": "8pXPvTHFQgY_",
    "outputId": "f3daa4af-8daa-4e75-f4a3-8346b3ea284f",
    "ExecuteTime": {
     "end_time": "2023-11-30T11:00:17.333639700Z",
     "start_time": "2023-11-30T11:00:17.293392100Z"
    }
   },
   "outputs": [
    {
     "data": {
      "text/plain": "array([[-0.10690381],\n       [-0.10690381],\n       [-0.10690381],\n       ...,\n       [ 0.66433555],\n       [ 0.66433555],\n       [ 0.66433555]])"
     },
     "execution_count": 38,
     "metadata": {},
     "output_type": "execute_result"
    }
   ],
   "source": [
    "scaled_IR"
   ]
  },
  {
   "cell_type": "code",
   "execution_count": 39,
   "metadata": {
    "id": "RhNJ4vRuQgY_",
    "ExecuteTime": {
     "end_time": "2023-11-30T11:00:18.371928700Z",
     "start_time": "2023-11-30T11:00:18.346831900Z"
    }
   },
   "outputs": [],
   "source": [
    "PALLFNFINDEXM_scaler = MinMaxScaler(feature_range=(-1, 1))\n",
    "scaled_PALLFNFINDEXM = PALLFNFINDEXM_scaler.fit_transform(PALLFNFINDEXM_before_scaling_as_np.reshape(-1, 1))"
   ]
  },
  {
   "cell_type": "code",
   "execution_count": 40,
   "metadata": {
    "colab": {
     "base_uri": "https://localhost:8080/"
    },
    "id": "t6S1qtLpQgZA",
    "outputId": "356e3798-5c55-4a64-a6ba-d1449350a52d",
    "ExecuteTime": {
     "end_time": "2023-11-30T11:00:19.521147Z",
     "start_time": "2023-11-30T11:00:19.494536900Z"
    }
   },
   "outputs": [
    {
     "data": {
      "text/plain": "array([[-0.88354852],\n       [-0.88354852],\n       [-0.88354852],\n       ...,\n       [ 0.24367179],\n       [ 0.24367179],\n       [ 0.24367179]])"
     },
     "execution_count": 40,
     "metadata": {},
     "output_type": "execute_result"
    }
   ],
   "source": [
    "scaled_PALLFNFINDEXM"
   ]
  },
  {
   "cell_type": "code",
   "execution_count": null,
   "metadata": {
    "collapsed": false
   },
   "outputs": [],
   "source": [
    "\n",
    "stacked_np = np.hstack((scaled_prices, scaled_GDP,scaled_CPI,scaled_IR,scaled_PALLFNFINDEXM))\n",
    "\n",
    "# Display the combined NumPy array\n",
    "stacked_np.shape\n"
   ]
  },
  {
   "cell_type": "code",
   "execution_count": null,
   "metadata": {},
   "outputs": [],
   "source": [
    "scaled_prices.shape"
   ]
  },
  {
   "cell_type": "code",
   "execution_count": null,
   "metadata": {
    "collapsed": false
   },
   "outputs": [],
   "source": [
    "scaled_df = shifted_df.drop(['Date'], axis=1)\n",
    "scaled_df"
   ]
  },
  {
   "cell_type": "code",
   "execution_count": null,
   "metadata": {
    "id": "j63Oixd0QgZA"
   },
   "outputs": [],
   "source": [
    "flipped_df = shifted_df[shifted_df.columns[::-1]]\n",
    "flipped_df = flipped_df.drop(['Date'], axis=1)\n",
    "flipped_df"
   ]
  },
  {
   "cell_type": "code",
   "execution_count": null,
   "metadata": {
    "id": "1fUlpjKbQgZA"
   },
   "outputs": [],
   "source": [
    "flipped_df.reset_index(drop=True, inplace=True)"
   ]
  },
  {
   "cell_type": "code",
   "execution_count": null,
   "metadata": {
    "collapsed": false
   },
   "outputs": [],
   "source": [
    "df.drop(columns=['Price'], inplace=True)"
   ]
  },
  {
   "cell_type": "code",
   "execution_count": null,
   "metadata": {
    "id": "Q9Sf1h_RQgZA"
   },
   "outputs": [],
   "source": [
    "new_df = pd.concat([df, flipped_df], axis=1)"
   ]
  },
  {
   "cell_type": "code",
   "execution_count": null,
   "metadata": {
    "colab": {
     "base_uri": "https://localhost:8080/",
     "height": 461
    },
    "id": "GcctPDrKQgZA",
    "outputId": "da07cae9-3a41-4121-96dc-2b96999fa67b"
   },
   "outputs": [],
   "source": [
    "new_df"
   ]
  },
  {
   "cell_type": "code",
   "execution_count": null,
   "metadata": {
    "collapsed": false
   },
   "outputs": [],
   "source": [
    "new_df.drop(columns=['Month', 'Year'], inplace=True)\n",
    "new_df"
   ]
  },
  {
   "cell_type": "code",
   "execution_count": null,
   "metadata": {
    "colab": {
     "base_uri": "https://localhost:8080/",
     "height": 423
    },
    "id": "1q72WvTiQgZB",
    "outputId": "a5ffcc96-3572-422e-f9a1-1ab575efaaf2"
   },
   "outputs": [],
   "source": [
    "flipped_df"
   ]
  },
  {
   "cell_type": "code",
   "execution_count": null,
   "metadata": {
    "colab": {
     "base_uri": "https://localhost:8080/"
    },
    "id": "6fSq0PmcQgZB",
    "outputId": "36199b8f-ed6e-43bc-b4fd-ad3aff90bb21"
   },
   "outputs": [],
   "source": [
    "flipped_df_before_scaling_as_np = flipped_df.to_numpy()\n",
    "flipped_df_before_scaling_as_np"
   ]
  },
  {
   "cell_type": "code",
   "execution_count": null,
   "metadata": {
    "id": "TdLlsInvQgZG"
   },
   "outputs": [],
   "source": [
    "price_scaler = MinMaxScaler(feature_range=(-1, 1))\n",
    "scaled_prices = price_scaler.fit_transform(flipped_df_before_scaling_as_np)"
   ]
  },
  {
   "cell_type": "code",
   "execution_count": null,
   "metadata": {
    "colab": {
     "base_uri": "https://localhost:8080/"
    },
    "id": "xaCzAzXXQgZG",
    "outputId": "2cea2120-ce96-4ae8-f111-0c57f4e49b0f"
   },
   "outputs": [],
   "source": [
    "scaled_prices"
   ]
  },
  {
   "cell_type": "code",
   "execution_count": null,
   "metadata": {
    "colab": {
     "base_uri": "https://localhost:8080/"
    },
    "id": "q4mXp_1ZQgZG",
    "outputId": "2dc202d8-75e3-4c9d-80a4-10e4dba22a42"
   },
   "outputs": [],
   "source": [
    "result = np.concatenate((scaled_GDP, scaled_CPI, scaled_IR, scaled_PALLFNFINDEXM, scaled_prices), axis=1)\n",
    "result"
   ]
  },
  {
   "cell_type": "code",
   "execution_count": null,
   "metadata": {
    "colab": {
     "base_uri": "https://localhost:8080/"
    },
    "id": "HLocb9xtQgZG",
    "outputId": "fa9a7d85-a1ed-470d-e2b8-fd4b5dec46b1"
   },
   "outputs": [],
   "source": [
    "X = result[:, 0:11]\n",
    "y = result[:, 11]\n",
    "X = X.astype(np.float32)\n",
    "y = y.astype(np.float32)\n",
    "X.dtype"
   ]
  },
  {
   "cell_type": "code",
   "execution_count": null,
   "metadata": {
    "collapsed": false
   },
   "outputs": [],
   "source": [
    "X"
   ]
  },
  {
   "cell_type": "code",
   "execution_count": null,
   "metadata": {
    "colab": {
     "base_uri": "https://localhost:8080/"
    },
    "id": "DJX1mVi2QgZH",
    "outputId": "e0d7158b-c500-4ab8-ea08-20d3ca5e840a"
   },
   "outputs": [],
   "source": [
    "split_index = int(len(X) * 0.95)\n",
    "split_date = dates[split_index]\n",
    "\n",
    "X_train = X[:split_index]\n",
    "X_test = X[split_index:]\n",
    "y_train = y[:split_index]\n",
    "y_test = y[split_index:]\n",
    "train_dates = dates[:split_index]\n",
    "test_dates = dates[split_index:]\n",
    "test_dates"
   ]
  },
  {
   "cell_type": "code",
   "execution_count": null,
   "metadata": {
    "collapsed": false
   },
   "outputs": [],
   "source": [
    "X_train"
   ]
  },
  {
   "cell_type": "code",
   "execution_count": null,
   "metadata": {
    "colab": {
     "base_uri": "https://localhost:8080/"
    },
    "id": "XmgulqbpQgZH",
    "outputId": "4596671b-3211-400e-9793-396a293688c7"
   },
   "outputs": [],
   "source": [
    "X_train.shape"
   ]
  },
  {
   "cell_type": "code",
   "execution_count": null,
   "metadata": {
    "id": "Y_8mJkJ8QgZH"
   },
   "outputs": [],
   "source": [
    "X_train = X_train.reshape((-1, LOOKBACK+4, 1))\n",
    "X_test = X_test.reshape((-1, LOOKBACK+4, 1))\n",
    "\n",
    "y_train = y_train.reshape((-1, 1))\n",
    "y_test = y_test.reshape((-1, 1))"
   ]
  },
  {
   "cell_type": "code",
   "execution_count": null,
   "metadata": {
    "colab": {
     "base_uri": "https://localhost:8080/"
    },
    "id": "EiFJNgZnQgZH",
    "outputId": "5d8166ea-1971-4f4c-ad56-0da120f77d40"
   },
   "outputs": [],
   "source": [
    "X_train = torch.tensor(X).float()\n",
    "y_train = torch.tensor(y).float()\n",
    "X_test = torch.tensor(X_test).float()\n",
    "y_test = torch.tensor(y_test).float()\n",
    "\n",
    "#X_test.dtype"
   ]
  },
  {
   "cell_type": "code",
   "execution_count": null,
   "metadata": {
    "colab": {
     "base_uri": "https://localhost:8080/"
    },
    "id": "rhjEHK00QgZI",
    "outputId": "272c4b1f-1e2f-4643-8863-23f4a8f039e2"
   },
   "outputs": [],
   "source": [
    "X_test.shape"
   ]
  },
  {
   "cell_type": "code",
   "execution_count": null,
   "metadata": {
    "id": "kaTJ_Tr2QgZI"
   },
   "outputs": [],
   "source": [
    "class TimeSeriesDataset(Dataset):\n",
    "    def __init__(self, X, y):\n",
    "        self.X = X\n",
    "        self.y = y\n",
    "\n",
    "    def __len__(self):\n",
    "        return len(self.X)\n",
    "\n",
    "    def __getitem__(self, i):\n",
    "        return self.X[i], self.y[i]\n",
    "\n",
    "train_dataset = TimeSeriesDataset(X_train, y_train)\n",
    "test_dataset = TimeSeriesDataset(X_test, y_test)"
   ]
  },
  {
   "cell_type": "code",
   "execution_count": null,
   "metadata": {
    "id": "e_prAT_PQgZI"
   },
   "outputs": [],
   "source": [
    "batch_size = 8\n",
    "train_loader = DataLoader(train_dataset, batch_size=batch_size, shuffle=True)\n",
    "test_loader = DataLoader(test_dataset, batch_size=batch_size, shuffle=False)"
   ]
  },
  {
   "cell_type": "code",
   "execution_count": null,
   "metadata": {
    "colab": {
     "base_uri": "https://localhost:8080/"
    },
    "id": "OS3FWsl6QgZI",
    "outputId": "689f3202-effa-46d6-84b1-a38f4d7fe6d2"
   },
   "outputs": [],
   "source": [
    "for _, batch in enumerate(train_loader):\n",
    "    x_batch, y_batch = batch[0].to(device), batch[1].to(device)\n",
    "    print(x_batch.shape, y_batch.shape)\n",
    "    break"
   ]
  },
  {
   "cell_type": "code",
   "execution_count": null,
   "metadata": {
    "colab": {
     "base_uri": "https://localhost:8080/"
    },
    "id": "MsjJmmbLQgZI",
    "outputId": "f25c6b2c-4c90-48e4-a03b-f7812a42e38e"
   },
   "outputs": [],
   "source": [
    "class LSTM(nn.Module):\n",
    "    def __init__(self, input_size, hidden_size, num_stacked_layers):\n",
    "        super().__init__()\n",
    "        self.hidden_size = hidden_size\n",
    "        self.num_stacked_layers = num_stacked_layers\n",
    "\n",
    "        self.lstm = nn.LSTM(input_size, hidden_size, num_stacked_layers,\n",
    "                            batch_first=True)\n",
    "\n",
    "        self.fc = nn.Linear(hidden_size, 1)\n",
    "\n",
    "    def forward(self, x):\n",
    "        batch_size = x.size(0)\n",
    "        h0 = torch.zeros(self.num_stacked_layers, batch_size, self.hidden_size).to(device)\n",
    "        c0 = torch.zeros(self.num_stacked_layers, batch_size, self.hidden_size).to(device)\n",
    "\n",
    "        out, _ = self.lstm(x, (h0, c0))\n",
    "        out = self.fc(out[:, -1, :])\n",
    "        return out\n",
    "\n",
    "model = LSTM(1, 4, 1)\n",
    "model.to(device)\n",
    "model"
   ]
  },
  {
   "cell_type": "code",
   "execution_count": null,
   "metadata": {
    "id": "3jLc27cUQgZJ"
   },
   "outputs": [],
   "source": [
    "def train_one_epoch():\n",
    "    model.train(True)\n",
    "    print(f'Epoch: {epoch + 1}')\n",
    "    running_loss = 0.0\n",
    "\n",
    "    for batch_index, batch in enumerate(train_loader):\n",
    "        x_batch, y_batch = batch[0].to(device), batch[1].to(device)\n",
    "\n",
    "        output = model(x_batch)\n",
    "        loss = loss_function(output, y_batch)\n",
    "        running_loss += loss.item()\n",
    "\n",
    "        optimizer.zero_grad()\n",
    "        loss.backward()\n",
    "        optimizer.step()\n",
    "\n",
    "        if batch_index % 100 == 99:  # print every 100 batches\n",
    "            avg_loss_across_batches = running_loss / 100\n",
    "            print('Batch {0}, Loss: {1:.5f}'.format(batch_index+1,\n",
    "                                                    avg_loss_across_batches))\n",
    "            running_loss = 0.0\n",
    "    print()"
   ]
  },
  {
   "cell_type": "code",
   "execution_count": null,
   "metadata": {
    "id": "DMUjdvMEQgZJ"
   },
   "outputs": [],
   "source": [
    "def validate_one_epoch():\n",
    "    model.train(False)\n",
    "    running_loss = 0.0\n",
    "\n",
    "    for batch_index, batch in enumerate(test_loader):\n",
    "        x_batch, y_batch = batch[0].to(device), batch[1].to(device)\n",
    "\n",
    "        with torch.no_grad():\n",
    "            output = model(x_batch)\n",
    "            loss = loss_function(output, y_batch)\n",
    "            running_loss += loss.item()\n",
    "\n",
    "    avg_loss_across_batches = running_loss / len(test_loader)\n",
    "\n",
    "    print('Val Loss: {0:.5f}'.format(avg_loss_across_batches))\n",
    "    print('***************************************************')\n",
    "    print()"
   ]
  },
  {
   "cell_type": "code",
   "execution_count": null,
   "metadata": {
    "colab": {
     "base_uri": "https://localhost:8080/"
    },
    "id": "F7MZTgsmQgZJ",
    "outputId": "39939111-1cde-4e59-a664-8423519c77ba"
   },
   "outputs": [],
   "source": [
    "learning_rate = 0.001\n",
    "num_epochs = 30\n",
    "loss_function = nn.MSELoss()\n",
    "optimizer = torch.optim.Adam(model.parameters(), lr=learning_rate)\n",
    "\n",
    "#Adam does the gradient descent\n",
    "\n",
    "for epoch in range(num_epochs):\n",
    "    train_one_epoch()\n",
    "    validate_one_epoch()"
   ]
  },
  {
   "cell_type": "code",
   "execution_count": null,
   "metadata": {
    "colab": {
     "base_uri": "https://localhost:8080/",
     "height": 449
    },
    "id": "iCdLO3t-QgZJ",
    "outputId": "db5a8d4c-9eee-4487-eeaa-c4e514e35900"
   },
   "outputs": [],
   "source": [
    "with torch.no_grad():\n",
    "    predicted = model(X_train[:].to(device)).to('cpu').numpy()\n",
    "\n",
    "plt.plot(train_dates, y_train, label='Actual Price')\n",
    "plt.plot(train_dates, predicted, label='Predicted Price')\n",
    "\n",
    "plt.xlabel('Dates')\n",
    "plt.ylabel('Price')\n",
    "plt.legend()\n",
    "plt.show()\n"
   ]
  },
  {
   "cell_type": "code",
   "execution_count": null,
   "metadata": {
    "colab": {
     "base_uri": "https://localhost:8080/"
    },
    "id": "Pa7E8ZLjQgZK",
    "outputId": "ea48216a-82ae-4bcf-9fb2-6d44682c9425"
   },
   "outputs": [],
   "source": [
    "train_predictions = predicted.flatten()\n",
    "\n",
    "dummies = np.zeros((X_train.shape[0], LOOKBACK+1))\n",
    "dummies[:, 0] = train_predictions\n",
    "dummies = price_scaler.inverse_transform(dummies)\n",
    "\n",
    "train_predictions = dc(dummies[:, 0])\n",
    "train_predictions"
   ]
  },
  {
   "cell_type": "code",
   "execution_count": null,
   "metadata": {
    "colab": {
     "base_uri": "https://localhost:8080/"
    },
    "id": "Th5ixrjwQgZK",
    "outputId": "25d6f3cf-c0d0-4082-d761-c6fcfdc8023b"
   },
   "outputs": [],
   "source": [
    "dummies = np.zeros((X_train.shape[0], LOOKBACK+1))\n",
    "dummies[:, 0] = y_train.flatten()\n",
    "dummies = price_scaler.inverse_transform(dummies)\n",
    "new_y_train = dc(dummies[:, 0])\n",
    "new_y_train"
   ]
  },
  {
   "cell_type": "code",
   "execution_count": null,
   "metadata": {
    "colab": {
     "base_uri": "https://localhost:8080/",
     "height": 449
    },
    "id": "LuQBl4e1QgZK",
    "outputId": "2fbedd60-e1da-44bc-f7bf-9088b222b2fa"
   },
   "outputs": [],
   "source": [
    "plt.plot(train_dates,new_y_train,  label='Actual Price')\n",
    "plt.plot(train_dates,train_predictions, label='Predicted Price')\n",
    "plt.xlabel('Day')\n",
    "plt.ylabel('Price')\n",
    "plt.legend()\n",
    "plt.show()"
   ]
  },
  {
   "cell_type": "code",
   "execution_count": null,
   "metadata": {
    "colab": {
     "base_uri": "https://localhost:8080/"
    },
    "id": "0zCJ-Lr9QgZL",
    "outputId": "9ef6cb08-1049-4ddd-ccbb-0a2266b01511"
   },
   "outputs": [],
   "source": [
    "test_predictions = model(X_test.to(device)).detach().cpu().numpy().flatten()\n",
    "\n",
    "dummies = np.zeros((X_test.shape[0], LOOKBACK+1))\n",
    "dummies[:, 0] = test_predictions\n",
    "dummies = price_scaler.inverse_transform(dummies)\n",
    "\n",
    "test_predictions = dc(dummies[:, 0])\n",
    "test_predictions"
   ]
  },
  {
   "cell_type": "code",
   "execution_count": null,
   "metadata": {
    "colab": {
     "base_uri": "https://localhost:8080/"
    },
    "id": "PUbVm3RgQgZL",
    "outputId": "b97c39ac-9d7d-4f22-b4b3-c1fd3fee7db8"
   },
   "outputs": [],
   "source": [
    "dummies = np.zeros((X_test.shape[0], LOOKBACK+1))\n",
    "dummies[:, 0] = y_test.flatten()\n",
    "dummies = price_scaler.inverse_transform(dummies)\n",
    "\n",
    "new_y_test = dc(dummies[:, 0])\n",
    "new_y_test\n",
    "squared_differences = (new_y_test - test_predictions)**2\n",
    "\n",
    "# Calculate the Root Mean Squared Error (RMSE)\n",
    "rmse = np.sqrt(np.mean(squared_differences))\n",
    "#rmse\n",
    "absolute_differences = np.abs(new_y_test - test_predictions)\n",
    "\n",
    "# Calculate the Mean Absolute Error (MAE)\n",
    "mae = np.mean(absolute_differences)\n",
    "rmse"
   ]
  },
  {
   "cell_type": "code",
   "execution_count": null,
   "metadata": {
    "colab": {
     "base_uri": "https://localhost:8080/",
     "height": 542
    },
    "id": "zw7bJAfwQgZL",
    "outputId": "4e66bec7-adf4-4538-df98-8c809bdc2241"
   },
   "outputs": [],
   "source": [
    "plt.figure(figsize=(10,6))\n",
    "plt.plot(test_dates, new_y_test, label='Actual Price')\n",
    "plt.plot(test_dates,test_predictions, label='Predicted Price')\n",
    "plt.xlabel('Day')\n",
    "plt.ylabel('Price')\n",
    "plt.legend()\n",
    "plt.show()"
   ]
  },
  {
   "cell_type": "code",
   "execution_count": null,
   "metadata": {
    "colab": {
     "base_uri": "https://localhost:8080/"
    },
    "id": "g3vPy775QgZM",
    "outputId": "7d15d364-259d-4e4f-a281-d82f79e27cbf"
   },
   "outputs": [],
   "source": [
    "test_dates"
   ]
  },
  {
   "cell_type": "code",
   "execution_count": null,
   "metadata": {
    "id": "1vbr17ERTp30"
   },
   "outputs": [],
   "source": [
    "\"\"\"# Instantiate your model\n",
    "model = LSTM(1, 4, 1)\n",
    "\n",
    "# Save the model to a .pkl (pickle) file\n",
    "model_file_path = 'LSTM.pkl'\n",
    "with open(model_file_path, 'wb') as file:\n",
    "    pickle.dump(model, file)\"\"\""
   ]
  },
  {
   "cell_type": "code",
   "execution_count": null,
   "metadata": {
    "collapsed": false
   },
   "outputs": [],
   "source": [
    "torch.save(model, 'model.pt')"
   ]
  },
  {
   "cell_type": "code",
   "execution_count": null,
   "metadata": {
    "collapsed": false
   },
   "outputs": [],
   "source": [
    "m1 = torch.load('model.pt')"
   ]
  },
  {
   "cell_type": "code",
   "execution_count": null,
   "metadata": {
    "collapsed": false
   },
   "outputs": [],
   "source": [
    "m1"
   ]
  },
  {
   "cell_type": "code",
   "execution_count": null,
   "metadata": {
    "collapsed": false
   },
   "outputs": [],
   "source": [
    "model"
   ]
  },
  {
   "cell_type": "code",
   "execution_count": null,
   "metadata": {
    "collapsed": false
   },
   "outputs": [],
   "source": [
    "start_date = last_date+timedelta(days=1)\n",
    "end_date = \"2024-01-25\"\n",
    "forecast_dates = pd.date_range(start=start_date, end=end_date, freq='D')\n",
    "\n",
    "# Create a DataFrame with the date column\n",
    "forecast_set = pd.DataFrame({'Date': forecast_dates})\n",
    "forecast_set['Date'] = pd.to_datetime(forecast_set['Date'])\n",
    "forecast_set"
   ]
  },
  {
   "cell_type": "code",
   "execution_count": null,
   "metadata": {},
   "outputs": [],
   "source": [
    "forecast_dates.shape"
   ]
  },
  {
   "cell_type": "code",
   "execution_count": null,
   "metadata": {},
   "outputs": [],
   "source": [
    "stacked_np.dtype"
   ]
  },
  {
   "cell_type": "code",
   "execution_count": null,
   "metadata": {},
   "outputs": [],
   "source": [
    "np.save('stacked_np.npy', stacked_np)"
   ]
  },
  {
   "cell_type": "code",
   "execution_count": null,
   "metadata": {
    "collapsed": false
   },
   "outputs": [],
   "source": [
    "shifted_df_as_np_flipped = np.fliplr(stacked_np)\n",
    "shifted_df_as_np_flipped"
   ]
  },
  {
   "cell_type": "code",
   "execution_count": null,
   "metadata": {
    "collapsed": false
   },
   "outputs": [],
   "source": [
    "shifted_df_as_tensor = torch.tensor(shifted_df_as_np_flipped.copy())\n",
    "torch.set_printoptions(precision=6)\n",
    "last = shifted_df_as_tensor[-1][1:]\n",
    "last = last.unsqueeze(0).unsqueeze(-1)\n",
    "last.shape"
   ]
  },
  {
   "cell_type": "code",
   "execution_count": null,
   "metadata": {},
   "outputs": [],
   "source": [
    "shifted_df_as_tensor.shape"
   ]
  },
  {
   "cell_type": "code",
   "execution_count": null,
   "metadata": {},
   "outputs": [],
   "source": [
    "shifted_df"
   ]
  },
  {
   "cell_type": "code",
   "execution_count": null,
   "metadata": {},
   "outputs": [],
   "source": [
    "shifted_df.to_csv('shifted_df.csv', index=False, float_format='%.5f')"
   ]
  },
  {
   "cell_type": "code",
   "execution_count": null,
   "metadata": {
    "collapsed": false
   },
   "outputs": [],
   "source": [
    "shifted_df_no_date = shifted_df.drop(['Date'], axis=1)"
   ]
  },
  {
   "cell_type": "code",
   "execution_count": null,
   "metadata": {},
   "outputs": [],
   "source": [
    "import joblib\n",
    "joblib.dump(prices_scaler, 'prices_scaler.pkl')"
   ]
  },
  {
   "cell_type": "code",
   "execution_count": null,
   "metadata": {
    "collapsed": false
   },
   "outputs": [],
   "source": [
    "for i in range(forecast_dates.shape[0]):\n",
    "    last = shifted_df_as_tensor[-1][1:]\n",
    "    last = last.unsqueeze(0).unsqueeze(-1).float()\n",
    "    with torch.no_grad():\n",
    "        predicted = model(last.to(device)).to('cpu').numpy()\n",
    "    row = torch.cat([shifted_df_as_tensor[-1][1:],torch.tensor(predicted).reshape(1)],dim=0).unsqueeze(0)\n",
    "    quick_reverse = prices_scaler.inverse_transform(row[:,4:].to('cpu').numpy())\n",
    "    new_row = {'Price':quick_reverse[0][7], \n",
    "               'Price(t-1)':quick_reverse[0][6],\n",
    "               'Price(t-2)':quick_reverse[0][5],\n",
    "               'Price(t-3)':quick_reverse[0][4],\n",
    "               'Price(t-4)':quick_reverse[0][3],\n",
    "               'Price(t-5)':quick_reverse[0][2],\n",
    "               'Price(t-6)':quick_reverse[0][1],\n",
    "               'Price(t-7)':quick_reverse[0][0],\n",
    "               'Real_GDP':df.iloc[-1][\"Real_GDP\"],\n",
    "               'CPI':df.iloc[-1][\"CPI\"],\n",
    "               'inflation_rate':df.iloc[-1][\"inflation_rate\"],\n",
    "               'PALLFNFINDEXM':df.iloc[-1][\"PALLFNFINDEXM\"]\n",
    "               }\n",
    "    shifted_df_as_tensor = torch.cat((shifted_df_as_tensor, row),dim=0)\n",
    "    shifted_df_no_date = shifted_df_no_date._append(new_row,ignore_index=True)\n",
    "    print(i)\n",
    "print(shifted_df_no_date) \n",
    "    "
   ]
  },
  {
   "cell_type": "code",
   "execution_count": null,
   "metadata": {},
   "outputs": [],
   "source": [
    "df"
   ]
  },
  {
   "cell_type": "code",
   "execution_count": null,
   "metadata": {},
   "outputs": [],
   "source": [
    "shifted_df_as_tensor.shape"
   ]
  },
  {
   "cell_type": "code",
   "execution_count": null,
   "metadata": {},
   "outputs": [],
   "source": [
    "final_set = prices_scaler.inverse_transform(shifted_df_as_tensor[:,4:].to('cpu').numpy())\n",
    "final_set"
   ]
  },
  {
   "cell_type": "code",
   "execution_count": null,
   "metadata": {},
   "outputs": [],
   "source": [
    "shifted_df_no_date"
   ]
  },
  {
   "cell_type": "code",
   "execution_count": null,
   "metadata": {},
   "outputs": [],
   "source": [
    "display_df = pd.DataFrame(shifted_df_no_date[\"Price\"])\n",
    "display_df"
   ]
  },
  {
   "cell_type": "code",
   "execution_count": null,
   "metadata": {},
   "outputs": [],
   "source": [
    "display_df = display_df.iloc[6049:]\n",
    "display_df"
   ]
  },
  {
   "cell_type": "code",
   "execution_count": null,
   "metadata": {},
   "outputs": [],
   "source": [
    "display_df = display_df.reset_index(drop=True)"
   ]
  },
  {
   "cell_type": "code",
   "execution_count": null,
   "metadata": {},
   "outputs": [],
   "source": [
    "display_df"
   ]
  },
  {
   "cell_type": "code",
   "execution_count": null,
   "metadata": {},
   "outputs": [],
   "source": [
    "forecast_set = pd.concat([forecast_set, display_df],axis=1)"
   ]
  },
  {
   "cell_type": "code",
   "execution_count": null,
   "metadata": {},
   "outputs": [],
   "source": [
    "forecast_set"
   ]
  },
  {
   "cell_type": "code",
   "execution_count": null,
   "metadata": {},
   "outputs": [],
   "source": []
  }
 ],
 "metadata": {
  "colab": {
   "provenance": []
  },
  "kernelspec": {
   "display_name": "Python 3 (ipykernel)",
   "language": "python",
   "name": "python3"
  },
  "language_info": {
   "codemirror_mode": {
    "name": "ipython",
    "version": 3
   },
   "file_extension": ".py",
   "mimetype": "text/x-python",
   "name": "python",
   "nbconvert_exporter": "python",
   "pygments_lexer": "ipython3",
   "version": "3.11.5"
  }
 },
 "nbformat": 4,
 "nbformat_minor": 4
}
