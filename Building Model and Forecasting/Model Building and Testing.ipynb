{
 "cells": [
  {
   "cell_type": "code",
   "execution_count": 95,
   "outputs": [
    {
     "name": "stdout",
     "output_type": "stream",
     "text": [
      "Note: you may need to restart the kernel to use updated packages.\n"
     ]
    },
    {
     "name": "stderr",
     "output_type": "stream",
     "text": [
      "WARNING: Skipping C:\\Users\\George Welson\\AppData\\Local\\Programs\\Python\\Python3115\\Lib\\site-packages\\pandas-2.1.1.dist-info due to invalid metadata entry 'name'\n",
      "ERROR: Could not open requirements file: [Errno 2] No such file or directory: 'requirements.txt'\n",
      "WARNING: Skipping C:\\Users\\George Welson\\AppData\\Local\\Programs\\Python\\Python3115\\Lib\\site-packages\\pandas-2.1.1.dist-info due to invalid metadata entry 'name'\n",
      "WARNING: Skipping C:\\Users\\George Welson\\AppData\\Local\\Programs\\Python\\Python3115\\Lib\\site-packages\\pandas-2.1.1.dist-info due to invalid metadata entry 'name'\n",
      "WARNING: Skipping C:\\Users\\George Welson\\AppData\\Local\\Programs\\Python\\Python3115\\Lib\\site-packages\\pandas-2.1.1.dist-info due to invalid metadata entry 'name'\n"
     ]
    }
   ],
   "source": [
    "%pip install -r requirements.txt"
   ],
   "metadata": {
    "collapsed": false,
    "ExecuteTime": {
     "end_time": "2023-11-30T16:51:55.560397300Z",
     "start_time": "2023-11-30T16:51:52.430843500Z"
    }
   }
  },
  {
   "cell_type": "markdown",
   "metadata": {
    "id": "7zLDGowEErcq"
   },
   "source": [
    "## Importing Packages"
   ]
  },
  {
   "cell_type": "code",
   "execution_count": 202,
   "metadata": {
    "id": "_DjLkfnxGxyb",
    "ExecuteTime": {
     "end_time": "2023-11-30T16:56:50.870949700Z",
     "start_time": "2023-11-30T16:56:50.842952Z"
    }
   },
   "outputs": [],
   "source": [
    "import numpy as np\n",
    "import pandas as pd\n",
    "import matplotlib.pyplot as plt\n",
    "import seaborn as sns\n",
    "from sklearn.model_selection import train_test_split\n",
    "from sklearn.preprocessing import MinMaxScaler\n",
    "from keras.models import Sequential\n",
    "from keras.layers import Dense, Dropout, LSTM, Conv1D, MaxPooling1D, Flatten\n",
    "from keras.optimizers import Adam\n",
    "from sklearn.metrics import mean_squared_error\n",
    "import torch\n",
    "import torch.nn as nn\n",
    "from torch.utils.data import Dataset,DataLoader\n",
    "from itertools import product\n",
    "from datetime import timedelta"
   ]
  },
  {
   "cell_type": "code",
   "execution_count": 203,
   "metadata": {
    "colab": {
     "base_uri": "https://localhost:8080/",
     "height": 36
    },
    "id": "bilDkp7vQgY6",
    "outputId": "2af2a045-d648-419d-a346-c2c3d97e6dd7",
    "ExecuteTime": {
     "end_time": "2023-11-30T16:56:51.145243400Z",
     "start_time": "2023-11-30T16:56:51.073783900Z"
    }
   },
   "outputs": [
    {
     "data": {
      "text/plain": "'cpu'"
     },
     "execution_count": 203,
     "metadata": {},
     "output_type": "execute_result"
    }
   ],
   "source": [
    "device = 'cuda:0' if torch.cuda.is_available() else 'cpu'\n",
    "device"
   ]
  },
  {
   "cell_type": "markdown",
   "metadata": {
    "id": "grLIQF-pGZw1"
   },
   "source": [
    "## Loading Dataset"
   ]
  },
  {
   "cell_type": "markdown",
   "source": [],
   "metadata": {
    "collapsed": false
   }
  },
  {
   "cell_type": "code",
   "execution_count": 204,
   "metadata": {
    "colab": {
     "base_uri": "https://localhost:8080/",
     "height": 614
    },
    "id": "fmhcgXvGE4io",
    "outputId": "0a39785d-36ff-4a49-d302-4a53638e08b1",
    "ExecuteTime": {
     "end_time": "2023-11-30T16:56:51.812655200Z",
     "start_time": "2023-11-30T16:56:51.763787600Z"
    }
   },
   "outputs": [
    {
     "data": {
      "text/plain": "           Date   Price  Month    Year   Real_GDP    CPI  inflation_rate  \\\n0    2000-01-04  0.8480    1.0  2000.0  14096.033  168.8        3.376857   \n1    2000-01-05  0.8565    1.0  2000.0  14096.033  168.8        3.376857   \n2    2000-01-06  0.8530    1.0  2000.0  14096.033  168.8        3.376857   \n3    2000-01-07  0.8540    1.0  2000.0  14096.033  168.8        3.376857   \n4    2000-01-10  0.8465    1.0  2000.0  14096.033  168.8        3.376857   \n...         ...     ...    ...     ...        ...    ...             ...   \n6047 2023-11-20  3.8335   11.0  2023.0  19374.000  307.0        6.600000   \n6048 2023-11-21  3.8395   11.0  2023.0  19374.000  307.0        6.600000   \n6049 2023-11-22  3.7970   11.0  2023.0  19374.000  307.0        6.600000   \n6050 2023-11-23  3.7743   11.0  2023.0  19374.000  307.0        6.600000   \n6051 2023-11-24  3.8205   11.0  2023.0  19374.000  307.0        6.600000   \n\n      PALLFNFINDEXM   DEXCHUS  \n0         59.470000  0.120774  \n1         59.470000  0.120776  \n2         59.470000  0.120777  \n3         59.470000  0.120782  \n4         59.470000  0.120782  \n...             ...       ...  \n6047     168.657489  0.139509  \n6048     168.657489  0.140150  \n6049     168.657489  0.139762  \n6050     168.657489  0.139823  \n6051     168.657489  0.139884  \n\n[6052 rows x 9 columns]",
      "text/html": "<div>\n<style scoped>\n    .dataframe tbody tr th:only-of-type {\n        vertical-align: middle;\n    }\n\n    .dataframe tbody tr th {\n        vertical-align: top;\n    }\n\n    .dataframe thead th {\n        text-align: right;\n    }\n</style>\n<table border=\"1\" class=\"dataframe\">\n  <thead>\n    <tr style=\"text-align: right;\">\n      <th></th>\n      <th>Date</th>\n      <th>Price</th>\n      <th>Month</th>\n      <th>Year</th>\n      <th>Real_GDP</th>\n      <th>CPI</th>\n      <th>inflation_rate</th>\n      <th>PALLFNFINDEXM</th>\n      <th>DEXCHUS</th>\n    </tr>\n  </thead>\n  <tbody>\n    <tr>\n      <th>0</th>\n      <td>2000-01-04</td>\n      <td>0.8480</td>\n      <td>1.0</td>\n      <td>2000.0</td>\n      <td>14096.033</td>\n      <td>168.8</td>\n      <td>3.376857</td>\n      <td>59.470000</td>\n      <td>0.120774</td>\n    </tr>\n    <tr>\n      <th>1</th>\n      <td>2000-01-05</td>\n      <td>0.8565</td>\n      <td>1.0</td>\n      <td>2000.0</td>\n      <td>14096.033</td>\n      <td>168.8</td>\n      <td>3.376857</td>\n      <td>59.470000</td>\n      <td>0.120776</td>\n    </tr>\n    <tr>\n      <th>2</th>\n      <td>2000-01-06</td>\n      <td>0.8530</td>\n      <td>1.0</td>\n      <td>2000.0</td>\n      <td>14096.033</td>\n      <td>168.8</td>\n      <td>3.376857</td>\n      <td>59.470000</td>\n      <td>0.120777</td>\n    </tr>\n    <tr>\n      <th>3</th>\n      <td>2000-01-07</td>\n      <td>0.8540</td>\n      <td>1.0</td>\n      <td>2000.0</td>\n      <td>14096.033</td>\n      <td>168.8</td>\n      <td>3.376857</td>\n      <td>59.470000</td>\n      <td>0.120782</td>\n    </tr>\n    <tr>\n      <th>4</th>\n      <td>2000-01-10</td>\n      <td>0.8465</td>\n      <td>1.0</td>\n      <td>2000.0</td>\n      <td>14096.033</td>\n      <td>168.8</td>\n      <td>3.376857</td>\n      <td>59.470000</td>\n      <td>0.120782</td>\n    </tr>\n    <tr>\n      <th>...</th>\n      <td>...</td>\n      <td>...</td>\n      <td>...</td>\n      <td>...</td>\n      <td>...</td>\n      <td>...</td>\n      <td>...</td>\n      <td>...</td>\n      <td>...</td>\n    </tr>\n    <tr>\n      <th>6047</th>\n      <td>2023-11-20</td>\n      <td>3.8335</td>\n      <td>11.0</td>\n      <td>2023.0</td>\n      <td>19374.000</td>\n      <td>307.0</td>\n      <td>6.600000</td>\n      <td>168.657489</td>\n      <td>0.139509</td>\n    </tr>\n    <tr>\n      <th>6048</th>\n      <td>2023-11-21</td>\n      <td>3.8395</td>\n      <td>11.0</td>\n      <td>2023.0</td>\n      <td>19374.000</td>\n      <td>307.0</td>\n      <td>6.600000</td>\n      <td>168.657489</td>\n      <td>0.140150</td>\n    </tr>\n    <tr>\n      <th>6049</th>\n      <td>2023-11-22</td>\n      <td>3.7970</td>\n      <td>11.0</td>\n      <td>2023.0</td>\n      <td>19374.000</td>\n      <td>307.0</td>\n      <td>6.600000</td>\n      <td>168.657489</td>\n      <td>0.139762</td>\n    </tr>\n    <tr>\n      <th>6050</th>\n      <td>2023-11-23</td>\n      <td>3.7743</td>\n      <td>11.0</td>\n      <td>2023.0</td>\n      <td>19374.000</td>\n      <td>307.0</td>\n      <td>6.600000</td>\n      <td>168.657489</td>\n      <td>0.139823</td>\n    </tr>\n    <tr>\n      <th>6051</th>\n      <td>2023-11-24</td>\n      <td>3.8205</td>\n      <td>11.0</td>\n      <td>2023.0</td>\n      <td>19374.000</td>\n      <td>307.0</td>\n      <td>6.600000</td>\n      <td>168.657489</td>\n      <td>0.139884</td>\n    </tr>\n  </tbody>\n</table>\n<p>6052 rows × 9 columns</p>\n</div>"
     },
     "execution_count": 204,
     "metadata": {},
     "output_type": "execute_result"
    }
   ],
   "source": [
    "df = pd.read_csv('../DataFrames/final_merged_copper_dataset.csv')\n",
    "df = df.drop(['Unnamed: 0'], axis=1)\n",
    "df[\"Date\"] = pd.to_datetime(df[\"Date\"])\n",
    "df"
   ]
  },
  {
   "cell_type": "code",
   "execution_count": 205,
   "metadata": {
    "colab": {
     "base_uri": "https://localhost:8080/",
     "height": 310
    },
    "id": "ZuCLp5fBFQNk",
    "outputId": "cd4e9b70-673f-4155-8005-a369716d3f94",
    "ExecuteTime": {
     "end_time": "2023-11-30T16:56:52.134157800Z",
     "start_time": "2023-11-30T16:56:52.078402100Z"
    }
   },
   "outputs": [
    {
     "data": {
      "text/plain": "datetime.date(2023, 11, 24)"
     },
     "execution_count": 205,
     "metadata": {},
     "output_type": "execute_result"
    }
   ],
   "source": [
    "last_date = df['Date'].max().date()\n",
    "last_date"
   ]
  },
  {
   "cell_type": "code",
   "execution_count": 206,
   "metadata": {
    "colab": {
     "base_uri": "https://localhost:8080/"
    },
    "id": "NmvbP9YOkb3p",
    "outputId": "6d6e97ab-3f0f-47b6-ee16-db61e52c1dfe",
    "ExecuteTime": {
     "end_time": "2023-11-30T16:56:52.337377100Z",
     "start_time": "2023-11-30T16:56:52.289593300Z"
    }
   },
   "outputs": [
    {
     "data": {
      "text/plain": "           Date   Price  Month    Year   Real_GDP    CPI  inflation_rate  \\\n0    2000-01-04  0.8480    1.0  2000.0  14096.033  168.8        3.376857   \n1    2000-01-05  0.8565    1.0  2000.0  14096.033  168.8        3.376857   \n2    2000-01-06  0.8530    1.0  2000.0  14096.033  168.8        3.376857   \n3    2000-01-07  0.8540    1.0  2000.0  14096.033  168.8        3.376857   \n4    2000-01-10  0.8465    1.0  2000.0  14096.033  168.8        3.376857   \n...         ...     ...    ...     ...        ...    ...             ...   \n6047 2023-11-20  3.8335   11.0  2023.0  19374.000  307.0        6.600000   \n6048 2023-11-21  3.8395   11.0  2023.0  19374.000  307.0        6.600000   \n6049 2023-11-22  3.7970   11.0  2023.0  19374.000  307.0        6.600000   \n6050 2023-11-23  3.7743   11.0  2023.0  19374.000  307.0        6.600000   \n6051 2023-11-24  3.8205   11.0  2023.0  19374.000  307.0        6.600000   \n\n      PALLFNFINDEXM   DEXCHUS  \n0         59.470000  0.120774  \n1         59.470000  0.120776  \n2         59.470000  0.120777  \n3         59.470000  0.120782  \n4         59.470000  0.120782  \n...             ...       ...  \n6047     168.657489  0.139509  \n6048     168.657489  0.140150  \n6049     168.657489  0.139762  \n6050     168.657489  0.139823  \n6051     168.657489  0.139884  \n\n[6052 rows x 9 columns]",
      "text/html": "<div>\n<style scoped>\n    .dataframe tbody tr th:only-of-type {\n        vertical-align: middle;\n    }\n\n    .dataframe tbody tr th {\n        vertical-align: top;\n    }\n\n    .dataframe thead th {\n        text-align: right;\n    }\n</style>\n<table border=\"1\" class=\"dataframe\">\n  <thead>\n    <tr style=\"text-align: right;\">\n      <th></th>\n      <th>Date</th>\n      <th>Price</th>\n      <th>Month</th>\n      <th>Year</th>\n      <th>Real_GDP</th>\n      <th>CPI</th>\n      <th>inflation_rate</th>\n      <th>PALLFNFINDEXM</th>\n      <th>DEXCHUS</th>\n    </tr>\n  </thead>\n  <tbody>\n    <tr>\n      <th>0</th>\n      <td>2000-01-04</td>\n      <td>0.8480</td>\n      <td>1.0</td>\n      <td>2000.0</td>\n      <td>14096.033</td>\n      <td>168.8</td>\n      <td>3.376857</td>\n      <td>59.470000</td>\n      <td>0.120774</td>\n    </tr>\n    <tr>\n      <th>1</th>\n      <td>2000-01-05</td>\n      <td>0.8565</td>\n      <td>1.0</td>\n      <td>2000.0</td>\n      <td>14096.033</td>\n      <td>168.8</td>\n      <td>3.376857</td>\n      <td>59.470000</td>\n      <td>0.120776</td>\n    </tr>\n    <tr>\n      <th>2</th>\n      <td>2000-01-06</td>\n      <td>0.8530</td>\n      <td>1.0</td>\n      <td>2000.0</td>\n      <td>14096.033</td>\n      <td>168.8</td>\n      <td>3.376857</td>\n      <td>59.470000</td>\n      <td>0.120777</td>\n    </tr>\n    <tr>\n      <th>3</th>\n      <td>2000-01-07</td>\n      <td>0.8540</td>\n      <td>1.0</td>\n      <td>2000.0</td>\n      <td>14096.033</td>\n      <td>168.8</td>\n      <td>3.376857</td>\n      <td>59.470000</td>\n      <td>0.120782</td>\n    </tr>\n    <tr>\n      <th>4</th>\n      <td>2000-01-10</td>\n      <td>0.8465</td>\n      <td>1.0</td>\n      <td>2000.0</td>\n      <td>14096.033</td>\n      <td>168.8</td>\n      <td>3.376857</td>\n      <td>59.470000</td>\n      <td>0.120782</td>\n    </tr>\n    <tr>\n      <th>...</th>\n      <td>...</td>\n      <td>...</td>\n      <td>...</td>\n      <td>...</td>\n      <td>...</td>\n      <td>...</td>\n      <td>...</td>\n      <td>...</td>\n      <td>...</td>\n    </tr>\n    <tr>\n      <th>6047</th>\n      <td>2023-11-20</td>\n      <td>3.8335</td>\n      <td>11.0</td>\n      <td>2023.0</td>\n      <td>19374.000</td>\n      <td>307.0</td>\n      <td>6.600000</td>\n      <td>168.657489</td>\n      <td>0.139509</td>\n    </tr>\n    <tr>\n      <th>6048</th>\n      <td>2023-11-21</td>\n      <td>3.8395</td>\n      <td>11.0</td>\n      <td>2023.0</td>\n      <td>19374.000</td>\n      <td>307.0</td>\n      <td>6.600000</td>\n      <td>168.657489</td>\n      <td>0.140150</td>\n    </tr>\n    <tr>\n      <th>6049</th>\n      <td>2023-11-22</td>\n      <td>3.7970</td>\n      <td>11.0</td>\n      <td>2023.0</td>\n      <td>19374.000</td>\n      <td>307.0</td>\n      <td>6.600000</td>\n      <td>168.657489</td>\n      <td>0.139762</td>\n    </tr>\n    <tr>\n      <th>6050</th>\n      <td>2023-11-23</td>\n      <td>3.7743</td>\n      <td>11.0</td>\n      <td>2023.0</td>\n      <td>19374.000</td>\n      <td>307.0</td>\n      <td>6.600000</td>\n      <td>168.657489</td>\n      <td>0.139823</td>\n    </tr>\n    <tr>\n      <th>6051</th>\n      <td>2023-11-24</td>\n      <td>3.8205</td>\n      <td>11.0</td>\n      <td>2023.0</td>\n      <td>19374.000</td>\n      <td>307.0</td>\n      <td>6.600000</td>\n      <td>168.657489</td>\n      <td>0.139884</td>\n    </tr>\n  </tbody>\n</table>\n<p>6052 rows × 9 columns</p>\n</div>"
     },
     "execution_count": 206,
     "metadata": {},
     "output_type": "execute_result"
    }
   ],
   "source": [
    "df"
   ]
  },
  {
   "cell_type": "code",
   "execution_count": 207,
   "metadata": {
    "colab": {
     "base_uri": "https://localhost:8080/"
    },
    "id": "eeKL-oFVQgY9",
    "outputId": "5a997432-6c8e-4e7f-e428-49a6a4f846ab",
    "ExecuteTime": {
     "end_time": "2023-11-30T16:57:05.429028Z",
     "start_time": "2023-11-30T16:57:05.375215500Z"
    }
   },
   "outputs": [
    {
     "data": {
      "text/plain": "15     2000-01-26\n16     2000-01-27\n17     2000-01-28\n18     2000-01-31\n19     2000-02-01\n          ...    \n6047   2023-11-20\n6048   2023-11-21\n6049   2023-11-22\n6050   2023-11-23\n6051   2023-11-24\nName: Date, Length: 6037, dtype: datetime64[ns]"
     },
     "execution_count": 207,
     "metadata": {},
     "output_type": "execute_result"
    }
   ],
   "source": [
    "LOOKBACK = 15\n",
    "data = pd.DataFrame({'Date': df[\"Date\"].copy(),\n",
    "                     'Price': df[\"Price\"].copy()})\n",
    "# Select the \"Date\" column and store it in the variable 'train_dates'.\n",
    "dates = data[\"Date\"]\n",
    "\n",
    "# Exclude the first 'LOOKBACK' dates from 'train_dates' to create a time window.\n",
    "dates = dates[LOOKBACK:]\n",
    "dates"
   ]
  },
  {
   "cell_type": "code",
   "execution_count": 208,
   "metadata": {
    "collapsed": false,
    "ExecuteTime": {
     "end_time": "2023-11-30T16:57:06.419121600Z",
     "start_time": "2023-11-30T16:57:06.345971200Z"
    }
   },
   "outputs": [
    {
     "data": {
      "text/plain": "           Date   Price\n0    2000-01-04  0.8480\n1    2000-01-05  0.8565\n2    2000-01-06  0.8530\n3    2000-01-07  0.8540\n4    2000-01-10  0.8465\n...         ...     ...\n6047 2023-11-20  3.8335\n6048 2023-11-21  3.8395\n6049 2023-11-22  3.7970\n6050 2023-11-23  3.7743\n6051 2023-11-24  3.8205\n\n[6052 rows x 2 columns]",
      "text/html": "<div>\n<style scoped>\n    .dataframe tbody tr th:only-of-type {\n        vertical-align: middle;\n    }\n\n    .dataframe tbody tr th {\n        vertical-align: top;\n    }\n\n    .dataframe thead th {\n        text-align: right;\n    }\n</style>\n<table border=\"1\" class=\"dataframe\">\n  <thead>\n    <tr style=\"text-align: right;\">\n      <th></th>\n      <th>Date</th>\n      <th>Price</th>\n    </tr>\n  </thead>\n  <tbody>\n    <tr>\n      <th>0</th>\n      <td>2000-01-04</td>\n      <td>0.8480</td>\n    </tr>\n    <tr>\n      <th>1</th>\n      <td>2000-01-05</td>\n      <td>0.8565</td>\n    </tr>\n    <tr>\n      <th>2</th>\n      <td>2000-01-06</td>\n      <td>0.8530</td>\n    </tr>\n    <tr>\n      <th>3</th>\n      <td>2000-01-07</td>\n      <td>0.8540</td>\n    </tr>\n    <tr>\n      <th>4</th>\n      <td>2000-01-10</td>\n      <td>0.8465</td>\n    </tr>\n    <tr>\n      <th>...</th>\n      <td>...</td>\n      <td>...</td>\n    </tr>\n    <tr>\n      <th>6047</th>\n      <td>2023-11-20</td>\n      <td>3.8335</td>\n    </tr>\n    <tr>\n      <th>6048</th>\n      <td>2023-11-21</td>\n      <td>3.8395</td>\n    </tr>\n    <tr>\n      <th>6049</th>\n      <td>2023-11-22</td>\n      <td>3.7970</td>\n    </tr>\n    <tr>\n      <th>6050</th>\n      <td>2023-11-23</td>\n      <td>3.7743</td>\n    </tr>\n    <tr>\n      <th>6051</th>\n      <td>2023-11-24</td>\n      <td>3.8205</td>\n    </tr>\n  </tbody>\n</table>\n<p>6052 rows × 2 columns</p>\n</div>"
     },
     "execution_count": 208,
     "metadata": {},
     "output_type": "execute_result"
    }
   ],
   "source": [
    "data"
   ]
  },
  {
   "cell_type": "code",
   "execution_count": 209,
   "metadata": {
    "id": "Bn6JONj4QgY-",
    "ExecuteTime": {
     "end_time": "2023-11-30T16:57:07.022486700Z",
     "start_time": "2023-11-30T16:57:06.986968100Z"
    }
   },
   "outputs": [],
   "source": [
    "dates.reset_index(drop=True, inplace=True)"
   ]
  },
  {
   "cell_type": "code",
   "execution_count": 210,
   "metadata": {
    "colab": {
     "base_uri": "https://localhost:8080/"
    },
    "id": "mbe_uzvJQgY-",
    "outputId": "81b9932e-9017-43dd-a846-d9017f8c7667",
    "ExecuteTime": {
     "end_time": "2023-11-30T16:57:07.314240900Z",
     "start_time": "2023-11-30T16:57:07.280968800Z"
    }
   },
   "outputs": [
    {
     "data": {
      "text/plain": "0      2000-01-26\n1      2000-01-27\n2      2000-01-28\n3      2000-01-31\n4      2000-02-01\n          ...    \n6032   2023-11-20\n6033   2023-11-21\n6034   2023-11-22\n6035   2023-11-23\n6036   2023-11-24\nName: Date, Length: 6037, dtype: datetime64[ns]"
     },
     "execution_count": 210,
     "metadata": {},
     "output_type": "execute_result"
    }
   ],
   "source": [
    "dates"
   ]
  },
  {
   "cell_type": "code",
   "execution_count": 211,
   "metadata": {
    "colab": {
     "base_uri": "https://localhost:8080/",
     "height": 423
    },
    "id": "CuUo7vcDQgY-",
    "outputId": "c38ed307-e2d9-463a-a478-06e2146f7257",
    "ExecuteTime": {
     "end_time": "2023-11-30T16:57:07.657482200Z",
     "start_time": "2023-11-30T16:57:07.574240Z"
    }
   },
   "outputs": [
    {
     "data": {
      "text/plain": "           Date   Price  Month    Year   Real_GDP    CPI  inflation_rate  \\\n0    2000-01-04  0.8480    1.0  2000.0  14096.033  168.8        3.376857   \n1    2000-01-05  0.8565    1.0  2000.0  14096.033  168.8        3.376857   \n2    2000-01-06  0.8530    1.0  2000.0  14096.033  168.8        3.376857   \n3    2000-01-07  0.8540    1.0  2000.0  14096.033  168.8        3.376857   \n4    2000-01-10  0.8465    1.0  2000.0  14096.033  168.8        3.376857   \n...         ...     ...    ...     ...        ...    ...             ...   \n6032 2023-10-30  3.6585   10.0  2023.0  19374.000  307.0        6.600000   \n6033 2023-10-31  3.6490   10.0  2023.0  19374.000  307.0        6.600000   \n6034 2023-11-01  3.6490   11.0  2023.0  19374.000  307.0        6.600000   \n6035 2023-11-02  3.6725   11.0  2023.0  19374.000  307.0        6.600000   \n6036 2023-11-03  3.6815   11.0  2023.0  19374.000  307.0        6.600000   \n\n      PALLFNFINDEXM   DEXCHUS  \n0         59.470000  0.120774  \n1         59.470000  0.120776  \n2         59.470000  0.120777  \n3         59.470000  0.120782  \n4         59.470000  0.120782  \n...             ...       ...  \n6032     168.657489  0.136737  \n6033     168.657489  0.136676  \n6034     168.657489  0.136659  \n6035     168.657489  0.136687  \n6036     168.657489  0.136977  \n\n[6037 rows x 9 columns]",
      "text/html": "<div>\n<style scoped>\n    .dataframe tbody tr th:only-of-type {\n        vertical-align: middle;\n    }\n\n    .dataframe tbody tr th {\n        vertical-align: top;\n    }\n\n    .dataframe thead th {\n        text-align: right;\n    }\n</style>\n<table border=\"1\" class=\"dataframe\">\n  <thead>\n    <tr style=\"text-align: right;\">\n      <th></th>\n      <th>Date</th>\n      <th>Price</th>\n      <th>Month</th>\n      <th>Year</th>\n      <th>Real_GDP</th>\n      <th>CPI</th>\n      <th>inflation_rate</th>\n      <th>PALLFNFINDEXM</th>\n      <th>DEXCHUS</th>\n    </tr>\n  </thead>\n  <tbody>\n    <tr>\n      <th>0</th>\n      <td>2000-01-04</td>\n      <td>0.8480</td>\n      <td>1.0</td>\n      <td>2000.0</td>\n      <td>14096.033</td>\n      <td>168.8</td>\n      <td>3.376857</td>\n      <td>59.470000</td>\n      <td>0.120774</td>\n    </tr>\n    <tr>\n      <th>1</th>\n      <td>2000-01-05</td>\n      <td>0.8565</td>\n      <td>1.0</td>\n      <td>2000.0</td>\n      <td>14096.033</td>\n      <td>168.8</td>\n      <td>3.376857</td>\n      <td>59.470000</td>\n      <td>0.120776</td>\n    </tr>\n    <tr>\n      <th>2</th>\n      <td>2000-01-06</td>\n      <td>0.8530</td>\n      <td>1.0</td>\n      <td>2000.0</td>\n      <td>14096.033</td>\n      <td>168.8</td>\n      <td>3.376857</td>\n      <td>59.470000</td>\n      <td>0.120777</td>\n    </tr>\n    <tr>\n      <th>3</th>\n      <td>2000-01-07</td>\n      <td>0.8540</td>\n      <td>1.0</td>\n      <td>2000.0</td>\n      <td>14096.033</td>\n      <td>168.8</td>\n      <td>3.376857</td>\n      <td>59.470000</td>\n      <td>0.120782</td>\n    </tr>\n    <tr>\n      <th>4</th>\n      <td>2000-01-10</td>\n      <td>0.8465</td>\n      <td>1.0</td>\n      <td>2000.0</td>\n      <td>14096.033</td>\n      <td>168.8</td>\n      <td>3.376857</td>\n      <td>59.470000</td>\n      <td>0.120782</td>\n    </tr>\n    <tr>\n      <th>...</th>\n      <td>...</td>\n      <td>...</td>\n      <td>...</td>\n      <td>...</td>\n      <td>...</td>\n      <td>...</td>\n      <td>...</td>\n      <td>...</td>\n      <td>...</td>\n    </tr>\n    <tr>\n      <th>6032</th>\n      <td>2023-10-30</td>\n      <td>3.6585</td>\n      <td>10.0</td>\n      <td>2023.0</td>\n      <td>19374.000</td>\n      <td>307.0</td>\n      <td>6.600000</td>\n      <td>168.657489</td>\n      <td>0.136737</td>\n    </tr>\n    <tr>\n      <th>6033</th>\n      <td>2023-10-31</td>\n      <td>3.6490</td>\n      <td>10.0</td>\n      <td>2023.0</td>\n      <td>19374.000</td>\n      <td>307.0</td>\n      <td>6.600000</td>\n      <td>168.657489</td>\n      <td>0.136676</td>\n    </tr>\n    <tr>\n      <th>6034</th>\n      <td>2023-11-01</td>\n      <td>3.6490</td>\n      <td>11.0</td>\n      <td>2023.0</td>\n      <td>19374.000</td>\n      <td>307.0</td>\n      <td>6.600000</td>\n      <td>168.657489</td>\n      <td>0.136659</td>\n    </tr>\n    <tr>\n      <th>6035</th>\n      <td>2023-11-02</td>\n      <td>3.6725</td>\n      <td>11.0</td>\n      <td>2023.0</td>\n      <td>19374.000</td>\n      <td>307.0</td>\n      <td>6.600000</td>\n      <td>168.657489</td>\n      <td>0.136687</td>\n    </tr>\n    <tr>\n      <th>6036</th>\n      <td>2023-11-03</td>\n      <td>3.6815</td>\n      <td>11.0</td>\n      <td>2023.0</td>\n      <td>19374.000</td>\n      <td>307.0</td>\n      <td>6.600000</td>\n      <td>168.657489</td>\n      <td>0.136977</td>\n    </tr>\n  </tbody>\n</table>\n<p>6037 rows × 9 columns</p>\n</div>"
     },
     "execution_count": 211,
     "metadata": {},
     "output_type": "execute_result"
    }
   ],
   "source": [
    "from copy import deepcopy as dc\n",
    "\n",
    "\n",
    "def prepare_dataframe_for_lstm(df, n_steps):\n",
    "    df = dc(df)\n",
    "\n",
    "    #df.set_index('Date', inplace=True)\n",
    "\n",
    "    for i in range(1, n_steps + 1):\n",
    "        df[f'Price(t-{i})'] = df['Price'].shift(i)\n",
    "\n",
    "    df.dropna(inplace=True)\n",
    "\n",
    "    return df\n",
    "\n",
    "\n",
    "shifted_df = prepare_dataframe_for_lstm(data, LOOKBACK)\n",
    "shifted_df = shifted_df.reset_index(drop=True)\n",
    "df = df.drop(df.index[-LOOKBACK:])\n",
    "df"
   ]
  },
  {
   "cell_type": "code",
   "execution_count": 212,
   "metadata": {
    "collapsed": false,
    "ExecuteTime": {
     "end_time": "2023-11-30T16:57:07.958011900Z",
     "start_time": "2023-11-30T16:57:07.893113700Z"
    }
   },
   "outputs": [
    {
     "data": {
      "text/plain": "           Date   Price  Price(t-1)  Price(t-2)  Price(t-3)  Price(t-4)  \\\n0    2000-01-26  0.8415      0.8425      0.8565      0.8730      0.8730   \n1    2000-01-27  0.8445      0.8415      0.8425      0.8565      0.8730   \n2    2000-01-28  0.8400      0.8445      0.8415      0.8425      0.8565   \n3    2000-01-31  0.8545      0.8400      0.8445      0.8415      0.8425   \n4    2000-02-01  0.8480      0.8545      0.8400      0.8445      0.8415   \n...         ...     ...         ...         ...         ...         ...   \n6032 2023-11-20  3.8335      3.7345      3.7025      3.7185      3.6835   \n6033 2023-11-21  3.8395      3.8335      3.7345      3.7025      3.7185   \n6034 2023-11-22  3.7970      3.8395      3.8335      3.7345      3.7025   \n6035 2023-11-23  3.7743      3.7970      3.8395      3.8335      3.7345   \n6036 2023-11-24  3.8205      3.7743      3.7970      3.8395      3.8335   \n\n      Price(t-5)  Price(t-6)  Price(t-7)  Price(t-8)  Price(t-9)  Price(t-10)  \\\n0         0.8825      0.8660      0.8625      0.8565      0.8660       0.8435   \n1         0.8730      0.8825      0.8660      0.8625      0.8565       0.8660   \n2         0.8730      0.8730      0.8825      0.8660      0.8625       0.8565   \n3         0.8565      0.8730      0.8730      0.8825      0.8660       0.8625   \n4         0.8425      0.8565      0.8730      0.8730      0.8825       0.8660   \n...          ...         ...         ...         ...         ...          ...   \n6032      3.6660      3.5870      3.6405      3.6380      3.6790       3.7190   \n6033      3.6835      3.6660      3.5870      3.6405      3.6380       3.6790   \n6034      3.7185      3.6835      3.6660      3.5870      3.6405       3.6380   \n6035      3.7025      3.7185      3.6835      3.6660      3.5870       3.6405   \n6036      3.7345      3.7025      3.7185      3.6835      3.6660       3.5870   \n\n      Price(t-11)  Price(t-12)  Price(t-13)  Price(t-14)  Price(t-15)  \n0          0.8465       0.8540       0.8530       0.8565       0.8480  \n1          0.8435       0.8465       0.8540       0.8530       0.8565  \n2          0.8660       0.8435       0.8465       0.8540       0.8530  \n3          0.8565       0.8660       0.8435       0.8465       0.8540  \n4          0.8625       0.8565       0.8660       0.8435       0.8465  \n...           ...          ...          ...          ...          ...  \n6032       3.6815       3.6725       3.6490       3.6490       3.6585  \n6033       3.7190       3.6815       3.6725       3.6490       3.6490  \n6034       3.6790       3.7190       3.6815       3.6725       3.6490  \n6035       3.6380       3.6790       3.7190       3.6815       3.6725  \n6036       3.6405       3.6380       3.6790       3.7190       3.6815  \n\n[6037 rows x 17 columns]",
      "text/html": "<div>\n<style scoped>\n    .dataframe tbody tr th:only-of-type {\n        vertical-align: middle;\n    }\n\n    .dataframe tbody tr th {\n        vertical-align: top;\n    }\n\n    .dataframe thead th {\n        text-align: right;\n    }\n</style>\n<table border=\"1\" class=\"dataframe\">\n  <thead>\n    <tr style=\"text-align: right;\">\n      <th></th>\n      <th>Date</th>\n      <th>Price</th>\n      <th>Price(t-1)</th>\n      <th>Price(t-2)</th>\n      <th>Price(t-3)</th>\n      <th>Price(t-4)</th>\n      <th>Price(t-5)</th>\n      <th>Price(t-6)</th>\n      <th>Price(t-7)</th>\n      <th>Price(t-8)</th>\n      <th>Price(t-9)</th>\n      <th>Price(t-10)</th>\n      <th>Price(t-11)</th>\n      <th>Price(t-12)</th>\n      <th>Price(t-13)</th>\n      <th>Price(t-14)</th>\n      <th>Price(t-15)</th>\n    </tr>\n  </thead>\n  <tbody>\n    <tr>\n      <th>0</th>\n      <td>2000-01-26</td>\n      <td>0.8415</td>\n      <td>0.8425</td>\n      <td>0.8565</td>\n      <td>0.8730</td>\n      <td>0.8730</td>\n      <td>0.8825</td>\n      <td>0.8660</td>\n      <td>0.8625</td>\n      <td>0.8565</td>\n      <td>0.8660</td>\n      <td>0.8435</td>\n      <td>0.8465</td>\n      <td>0.8540</td>\n      <td>0.8530</td>\n      <td>0.8565</td>\n      <td>0.8480</td>\n    </tr>\n    <tr>\n      <th>1</th>\n      <td>2000-01-27</td>\n      <td>0.8445</td>\n      <td>0.8415</td>\n      <td>0.8425</td>\n      <td>0.8565</td>\n      <td>0.8730</td>\n      <td>0.8730</td>\n      <td>0.8825</td>\n      <td>0.8660</td>\n      <td>0.8625</td>\n      <td>0.8565</td>\n      <td>0.8660</td>\n      <td>0.8435</td>\n      <td>0.8465</td>\n      <td>0.8540</td>\n      <td>0.8530</td>\n      <td>0.8565</td>\n    </tr>\n    <tr>\n      <th>2</th>\n      <td>2000-01-28</td>\n      <td>0.8400</td>\n      <td>0.8445</td>\n      <td>0.8415</td>\n      <td>0.8425</td>\n      <td>0.8565</td>\n      <td>0.8730</td>\n      <td>0.8730</td>\n      <td>0.8825</td>\n      <td>0.8660</td>\n      <td>0.8625</td>\n      <td>0.8565</td>\n      <td>0.8660</td>\n      <td>0.8435</td>\n      <td>0.8465</td>\n      <td>0.8540</td>\n      <td>0.8530</td>\n    </tr>\n    <tr>\n      <th>3</th>\n      <td>2000-01-31</td>\n      <td>0.8545</td>\n      <td>0.8400</td>\n      <td>0.8445</td>\n      <td>0.8415</td>\n      <td>0.8425</td>\n      <td>0.8565</td>\n      <td>0.8730</td>\n      <td>0.8730</td>\n      <td>0.8825</td>\n      <td>0.8660</td>\n      <td>0.8625</td>\n      <td>0.8565</td>\n      <td>0.8660</td>\n      <td>0.8435</td>\n      <td>0.8465</td>\n      <td>0.8540</td>\n    </tr>\n    <tr>\n      <th>4</th>\n      <td>2000-02-01</td>\n      <td>0.8480</td>\n      <td>0.8545</td>\n      <td>0.8400</td>\n      <td>0.8445</td>\n      <td>0.8415</td>\n      <td>0.8425</td>\n      <td>0.8565</td>\n      <td>0.8730</td>\n      <td>0.8730</td>\n      <td>0.8825</td>\n      <td>0.8660</td>\n      <td>0.8625</td>\n      <td>0.8565</td>\n      <td>0.8660</td>\n      <td>0.8435</td>\n      <td>0.8465</td>\n    </tr>\n    <tr>\n      <th>...</th>\n      <td>...</td>\n      <td>...</td>\n      <td>...</td>\n      <td>...</td>\n      <td>...</td>\n      <td>...</td>\n      <td>...</td>\n      <td>...</td>\n      <td>...</td>\n      <td>...</td>\n      <td>...</td>\n      <td>...</td>\n      <td>...</td>\n      <td>...</td>\n      <td>...</td>\n      <td>...</td>\n      <td>...</td>\n    </tr>\n    <tr>\n      <th>6032</th>\n      <td>2023-11-20</td>\n      <td>3.8335</td>\n      <td>3.7345</td>\n      <td>3.7025</td>\n      <td>3.7185</td>\n      <td>3.6835</td>\n      <td>3.6660</td>\n      <td>3.5870</td>\n      <td>3.6405</td>\n      <td>3.6380</td>\n      <td>3.6790</td>\n      <td>3.7190</td>\n      <td>3.6815</td>\n      <td>3.6725</td>\n      <td>3.6490</td>\n      <td>3.6490</td>\n      <td>3.6585</td>\n    </tr>\n    <tr>\n      <th>6033</th>\n      <td>2023-11-21</td>\n      <td>3.8395</td>\n      <td>3.8335</td>\n      <td>3.7345</td>\n      <td>3.7025</td>\n      <td>3.7185</td>\n      <td>3.6835</td>\n      <td>3.6660</td>\n      <td>3.5870</td>\n      <td>3.6405</td>\n      <td>3.6380</td>\n      <td>3.6790</td>\n      <td>3.7190</td>\n      <td>3.6815</td>\n      <td>3.6725</td>\n      <td>3.6490</td>\n      <td>3.6490</td>\n    </tr>\n    <tr>\n      <th>6034</th>\n      <td>2023-11-22</td>\n      <td>3.7970</td>\n      <td>3.8395</td>\n      <td>3.8335</td>\n      <td>3.7345</td>\n      <td>3.7025</td>\n      <td>3.7185</td>\n      <td>3.6835</td>\n      <td>3.6660</td>\n      <td>3.5870</td>\n      <td>3.6405</td>\n      <td>3.6380</td>\n      <td>3.6790</td>\n      <td>3.7190</td>\n      <td>3.6815</td>\n      <td>3.6725</td>\n      <td>3.6490</td>\n    </tr>\n    <tr>\n      <th>6035</th>\n      <td>2023-11-23</td>\n      <td>3.7743</td>\n      <td>3.7970</td>\n      <td>3.8395</td>\n      <td>3.8335</td>\n      <td>3.7345</td>\n      <td>3.7025</td>\n      <td>3.7185</td>\n      <td>3.6835</td>\n      <td>3.6660</td>\n      <td>3.5870</td>\n      <td>3.6405</td>\n      <td>3.6380</td>\n      <td>3.6790</td>\n      <td>3.7190</td>\n      <td>3.6815</td>\n      <td>3.6725</td>\n    </tr>\n    <tr>\n      <th>6036</th>\n      <td>2023-11-24</td>\n      <td>3.8205</td>\n      <td>3.7743</td>\n      <td>3.7970</td>\n      <td>3.8395</td>\n      <td>3.8335</td>\n      <td>3.7345</td>\n      <td>3.7025</td>\n      <td>3.7185</td>\n      <td>3.6835</td>\n      <td>3.6660</td>\n      <td>3.5870</td>\n      <td>3.6405</td>\n      <td>3.6380</td>\n      <td>3.6790</td>\n      <td>3.7190</td>\n      <td>3.6815</td>\n    </tr>\n  </tbody>\n</table>\n<p>6037 rows × 17 columns</p>\n</div>"
     },
     "execution_count": 212,
     "metadata": {},
     "output_type": "execute_result"
    }
   ],
   "source": [
    "shifted_df"
   ]
  },
  {
   "cell_type": "code",
   "execution_count": 213,
   "metadata": {
    "collapsed": false,
    "ExecuteTime": {
     "end_time": "2023-11-30T16:57:08.243809900Z",
     "start_time": "2023-11-30T16:57:08.086762300Z"
    }
   },
   "outputs": [
    {
     "data": {
      "text/plain": "           Date   Price  Price(t-1)  Price(t-2)  Price(t-3)  Price(t-4)  \\\n0    2000-01-26  0.8415      0.8425      0.8565      0.8730      0.8730   \n1    2000-01-27  0.8445      0.8415      0.8425      0.8565      0.8730   \n2    2000-01-28  0.8400      0.8445      0.8415      0.8425      0.8565   \n3    2000-01-31  0.8545      0.8400      0.8445      0.8415      0.8425   \n4    2000-02-01  0.8480      0.8545      0.8400      0.8445      0.8415   \n...         ...     ...         ...         ...         ...         ...   \n6032 2023-11-20  3.8335      3.7345      3.7025      3.7185      3.6835   \n6033 2023-11-21  3.8395      3.8335      3.7345      3.7025      3.7185   \n6034 2023-11-22  3.7970      3.8395      3.8335      3.7345      3.7025   \n6035 2023-11-23  3.7743      3.7970      3.8395      3.8335      3.7345   \n6036 2023-11-24  3.8205      3.7743      3.7970      3.8395      3.8335   \n\n      Price(t-5)  Price(t-6)  Price(t-7)  Price(t-8)  ...  Price(t-11)  \\\n0         0.8825      0.8660      0.8625      0.8565  ...       0.8465   \n1         0.8730      0.8825      0.8660      0.8625  ...       0.8435   \n2         0.8730      0.8730      0.8825      0.8660  ...       0.8660   \n3         0.8565      0.8730      0.8730      0.8825  ...       0.8565   \n4         0.8425      0.8565      0.8730      0.8730  ...       0.8625   \n...          ...         ...         ...         ...  ...          ...   \n6032      3.6660      3.5870      3.6405      3.6380  ...       3.6815   \n6033      3.6835      3.6660      3.5870      3.6405  ...       3.7190   \n6034      3.7185      3.6835      3.6660      3.5870  ...       3.6790   \n6035      3.7025      3.7185      3.6835      3.6660  ...       3.6380   \n6036      3.7345      3.7025      3.7185      3.6835  ...       3.6405   \n\n      Price(t-12)  Price(t-13)  Price(t-14)  Price(t-15)   Real_GDP    CPI  \\\n0          0.8540       0.8530       0.8565       0.8480  14096.033  168.8   \n1          0.8465       0.8540       0.8530       0.8565  14096.033  168.8   \n2          0.8435       0.8465       0.8540       0.8530  14096.033  168.8   \n3          0.8660       0.8435       0.8465       0.8540  14096.033  168.8   \n4          0.8565       0.8660       0.8435       0.8465  14096.033  168.8   \n...           ...          ...          ...          ...        ...    ...   \n6032       3.6725       3.6490       3.6490       3.6585  19374.000  307.0   \n6033       3.6815       3.6725       3.6490       3.6490  19374.000  307.0   \n6034       3.7190       3.6815       3.6725       3.6490  19374.000  307.0   \n6035       3.6790       3.7190       3.6815       3.6725  19374.000  307.0   \n6036       3.6380       3.6790       3.7190       3.6815  19374.000  307.0   \n\n      inflation_rate  PALLFNFINDEXM   DEXCHUS  \n0           3.376857      59.470000  0.120774  \n1           3.376857      59.470000  0.120776  \n2           3.376857      59.470000  0.120777  \n3           3.376857      59.470000  0.120782  \n4           3.376857      59.470000  0.120782  \n...              ...            ...       ...  \n6032        6.600000     168.657489  0.136737  \n6033        6.600000     168.657489  0.136676  \n6034        6.600000     168.657489  0.136659  \n6035        6.600000     168.657489  0.136687  \n6036        6.600000     168.657489  0.136977  \n\n[6037 rows x 22 columns]",
      "text/html": "<div>\n<style scoped>\n    .dataframe tbody tr th:only-of-type {\n        vertical-align: middle;\n    }\n\n    .dataframe tbody tr th {\n        vertical-align: top;\n    }\n\n    .dataframe thead th {\n        text-align: right;\n    }\n</style>\n<table border=\"1\" class=\"dataframe\">\n  <thead>\n    <tr style=\"text-align: right;\">\n      <th></th>\n      <th>Date</th>\n      <th>Price</th>\n      <th>Price(t-1)</th>\n      <th>Price(t-2)</th>\n      <th>Price(t-3)</th>\n      <th>Price(t-4)</th>\n      <th>Price(t-5)</th>\n      <th>Price(t-6)</th>\n      <th>Price(t-7)</th>\n      <th>Price(t-8)</th>\n      <th>...</th>\n      <th>Price(t-11)</th>\n      <th>Price(t-12)</th>\n      <th>Price(t-13)</th>\n      <th>Price(t-14)</th>\n      <th>Price(t-15)</th>\n      <th>Real_GDP</th>\n      <th>CPI</th>\n      <th>inflation_rate</th>\n      <th>PALLFNFINDEXM</th>\n      <th>DEXCHUS</th>\n    </tr>\n  </thead>\n  <tbody>\n    <tr>\n      <th>0</th>\n      <td>2000-01-26</td>\n      <td>0.8415</td>\n      <td>0.8425</td>\n      <td>0.8565</td>\n      <td>0.8730</td>\n      <td>0.8730</td>\n      <td>0.8825</td>\n      <td>0.8660</td>\n      <td>0.8625</td>\n      <td>0.8565</td>\n      <td>...</td>\n      <td>0.8465</td>\n      <td>0.8540</td>\n      <td>0.8530</td>\n      <td>0.8565</td>\n      <td>0.8480</td>\n      <td>14096.033</td>\n      <td>168.8</td>\n      <td>3.376857</td>\n      <td>59.470000</td>\n      <td>0.120774</td>\n    </tr>\n    <tr>\n      <th>1</th>\n      <td>2000-01-27</td>\n      <td>0.8445</td>\n      <td>0.8415</td>\n      <td>0.8425</td>\n      <td>0.8565</td>\n      <td>0.8730</td>\n      <td>0.8730</td>\n      <td>0.8825</td>\n      <td>0.8660</td>\n      <td>0.8625</td>\n      <td>...</td>\n      <td>0.8435</td>\n      <td>0.8465</td>\n      <td>0.8540</td>\n      <td>0.8530</td>\n      <td>0.8565</td>\n      <td>14096.033</td>\n      <td>168.8</td>\n      <td>3.376857</td>\n      <td>59.470000</td>\n      <td>0.120776</td>\n    </tr>\n    <tr>\n      <th>2</th>\n      <td>2000-01-28</td>\n      <td>0.8400</td>\n      <td>0.8445</td>\n      <td>0.8415</td>\n      <td>0.8425</td>\n      <td>0.8565</td>\n      <td>0.8730</td>\n      <td>0.8730</td>\n      <td>0.8825</td>\n      <td>0.8660</td>\n      <td>...</td>\n      <td>0.8660</td>\n      <td>0.8435</td>\n      <td>0.8465</td>\n      <td>0.8540</td>\n      <td>0.8530</td>\n      <td>14096.033</td>\n      <td>168.8</td>\n      <td>3.376857</td>\n      <td>59.470000</td>\n      <td>0.120777</td>\n    </tr>\n    <tr>\n      <th>3</th>\n      <td>2000-01-31</td>\n      <td>0.8545</td>\n      <td>0.8400</td>\n      <td>0.8445</td>\n      <td>0.8415</td>\n      <td>0.8425</td>\n      <td>0.8565</td>\n      <td>0.8730</td>\n      <td>0.8730</td>\n      <td>0.8825</td>\n      <td>...</td>\n      <td>0.8565</td>\n      <td>0.8660</td>\n      <td>0.8435</td>\n      <td>0.8465</td>\n      <td>0.8540</td>\n      <td>14096.033</td>\n      <td>168.8</td>\n      <td>3.376857</td>\n      <td>59.470000</td>\n      <td>0.120782</td>\n    </tr>\n    <tr>\n      <th>4</th>\n      <td>2000-02-01</td>\n      <td>0.8480</td>\n      <td>0.8545</td>\n      <td>0.8400</td>\n      <td>0.8445</td>\n      <td>0.8415</td>\n      <td>0.8425</td>\n      <td>0.8565</td>\n      <td>0.8730</td>\n      <td>0.8730</td>\n      <td>...</td>\n      <td>0.8625</td>\n      <td>0.8565</td>\n      <td>0.8660</td>\n      <td>0.8435</td>\n      <td>0.8465</td>\n      <td>14096.033</td>\n      <td>168.8</td>\n      <td>3.376857</td>\n      <td>59.470000</td>\n      <td>0.120782</td>\n    </tr>\n    <tr>\n      <th>...</th>\n      <td>...</td>\n      <td>...</td>\n      <td>...</td>\n      <td>...</td>\n      <td>...</td>\n      <td>...</td>\n      <td>...</td>\n      <td>...</td>\n      <td>...</td>\n      <td>...</td>\n      <td>...</td>\n      <td>...</td>\n      <td>...</td>\n      <td>...</td>\n      <td>...</td>\n      <td>...</td>\n      <td>...</td>\n      <td>...</td>\n      <td>...</td>\n      <td>...</td>\n      <td>...</td>\n    </tr>\n    <tr>\n      <th>6032</th>\n      <td>2023-11-20</td>\n      <td>3.8335</td>\n      <td>3.7345</td>\n      <td>3.7025</td>\n      <td>3.7185</td>\n      <td>3.6835</td>\n      <td>3.6660</td>\n      <td>3.5870</td>\n      <td>3.6405</td>\n      <td>3.6380</td>\n      <td>...</td>\n      <td>3.6815</td>\n      <td>3.6725</td>\n      <td>3.6490</td>\n      <td>3.6490</td>\n      <td>3.6585</td>\n      <td>19374.000</td>\n      <td>307.0</td>\n      <td>6.600000</td>\n      <td>168.657489</td>\n      <td>0.136737</td>\n    </tr>\n    <tr>\n      <th>6033</th>\n      <td>2023-11-21</td>\n      <td>3.8395</td>\n      <td>3.8335</td>\n      <td>3.7345</td>\n      <td>3.7025</td>\n      <td>3.7185</td>\n      <td>3.6835</td>\n      <td>3.6660</td>\n      <td>3.5870</td>\n      <td>3.6405</td>\n      <td>...</td>\n      <td>3.7190</td>\n      <td>3.6815</td>\n      <td>3.6725</td>\n      <td>3.6490</td>\n      <td>3.6490</td>\n      <td>19374.000</td>\n      <td>307.0</td>\n      <td>6.600000</td>\n      <td>168.657489</td>\n      <td>0.136676</td>\n    </tr>\n    <tr>\n      <th>6034</th>\n      <td>2023-11-22</td>\n      <td>3.7970</td>\n      <td>3.8395</td>\n      <td>3.8335</td>\n      <td>3.7345</td>\n      <td>3.7025</td>\n      <td>3.7185</td>\n      <td>3.6835</td>\n      <td>3.6660</td>\n      <td>3.5870</td>\n      <td>...</td>\n      <td>3.6790</td>\n      <td>3.7190</td>\n      <td>3.6815</td>\n      <td>3.6725</td>\n      <td>3.6490</td>\n      <td>19374.000</td>\n      <td>307.0</td>\n      <td>6.600000</td>\n      <td>168.657489</td>\n      <td>0.136659</td>\n    </tr>\n    <tr>\n      <th>6035</th>\n      <td>2023-11-23</td>\n      <td>3.7743</td>\n      <td>3.7970</td>\n      <td>3.8395</td>\n      <td>3.8335</td>\n      <td>3.7345</td>\n      <td>3.7025</td>\n      <td>3.7185</td>\n      <td>3.6835</td>\n      <td>3.6660</td>\n      <td>...</td>\n      <td>3.6380</td>\n      <td>3.6790</td>\n      <td>3.7190</td>\n      <td>3.6815</td>\n      <td>3.6725</td>\n      <td>19374.000</td>\n      <td>307.0</td>\n      <td>6.600000</td>\n      <td>168.657489</td>\n      <td>0.136687</td>\n    </tr>\n    <tr>\n      <th>6036</th>\n      <td>2023-11-24</td>\n      <td>3.8205</td>\n      <td>3.7743</td>\n      <td>3.7970</td>\n      <td>3.8395</td>\n      <td>3.8335</td>\n      <td>3.7345</td>\n      <td>3.7025</td>\n      <td>3.7185</td>\n      <td>3.6835</td>\n      <td>...</td>\n      <td>3.6405</td>\n      <td>3.6380</td>\n      <td>3.6790</td>\n      <td>3.7190</td>\n      <td>3.6815</td>\n      <td>19374.000</td>\n      <td>307.0</td>\n      <td>6.600000</td>\n      <td>168.657489</td>\n      <td>0.136977</td>\n    </tr>\n  </tbody>\n</table>\n<p>6037 rows × 22 columns</p>\n</div>"
     },
     "execution_count": 213,
     "metadata": {},
     "output_type": "execute_result"
    }
   ],
   "source": [
    "shifted_df[\"Real_GDP\"] = df[\"Real_GDP\"]\n",
    "shifted_df[\"CPI\"] = df[\"CPI\"]\n",
    "shifted_df[\"inflation_rate\"] = df[\"inflation_rate\"]\n",
    "shifted_df[\"PALLFNFINDEXM\"] = df[\"PALLFNFINDEXM\"]\n",
    "shifted_df[\"DEXCHUS\"] = df[\"DEXCHUS\"]\n",
    "shifted_df"
   ]
  },
  {
   "cell_type": "code",
   "execution_count": 214,
   "outputs": [
    {
     "data": {
      "text/plain": "['Price',\n 'Price(t-1)',\n 'Price(t-2)',\n 'Price(t-3)',\n 'Price(t-4)',\n 'Price(t-5)',\n 'Price(t-6)',\n 'Price(t-7)',\n 'Price(t-8)',\n 'Price(t-9)',\n 'Price(t-10)',\n 'Price(t-11)',\n 'Price(t-12)',\n 'Price(t-13)',\n 'Price(t-14)',\n 'Price(t-15)']"
     },
     "execution_count": 214,
     "metadata": {},
     "output_type": "execute_result"
    }
   ],
   "source": [
    "price_columns = [col for col in shifted_df.columns if 'Price' in col]\n",
    "price_columns"
   ],
   "metadata": {
    "collapsed": false,
    "ExecuteTime": {
     "end_time": "2023-11-30T16:57:08.465915300Z",
     "start_time": "2023-11-30T16:57:08.311879700Z"
    }
   }
  },
  {
   "cell_type": "code",
   "execution_count": 215,
   "metadata": {
    "collapsed": false,
    "ExecuteTime": {
     "end_time": "2023-11-30T16:57:08.675406300Z",
     "start_time": "2023-11-30T16:57:08.550488800Z"
    }
   },
   "outputs": [
    {
     "data": {
      "text/plain": "array([[0.8415, 0.8425, 0.8565, ..., 0.853 , 0.8565, 0.848 ],\n       [0.8445, 0.8415, 0.8425, ..., 0.854 , 0.853 , 0.8565],\n       [0.84  , 0.8445, 0.8415, ..., 0.8465, 0.854 , 0.853 ],\n       ...,\n       [3.797 , 3.8395, 3.8335, ..., 3.6815, 3.6725, 3.649 ],\n       [3.7743, 3.797 , 3.8395, ..., 3.719 , 3.6815, 3.6725],\n       [3.8205, 3.7743, 3.797 , ..., 3.679 , 3.719 , 3.6815]])"
     },
     "execution_count": 215,
     "metadata": {},
     "output_type": "execute_result"
    }
   ],
   "source": [
    "prices_before_scaling_as_np = shifted_df[price_columns].values\n",
    "prices_before_scaling_as_np"
   ]
  },
  {
   "cell_type": "code",
   "execution_count": 216,
   "metadata": {
    "collapsed": false,
    "ExecuteTime": {
     "end_time": "2023-11-30T16:57:08.919812300Z",
     "start_time": "2023-11-30T16:57:08.790196100Z"
    }
   },
   "outputs": [
    {
     "data": {
      "text/plain": "array([[-0.89235389, -0.89189189, -0.88542389, ..., -0.88704089,\n        -0.88542389, -0.88935089],\n       [-0.89096789, -0.89235389, -0.89189189, ..., -0.88657889,\n        -0.88704089, -0.88542389],\n       [-0.89304689, -0.89096789, -0.89235389, ..., -0.89004389,\n        -0.88657889, -0.88704089],\n       ...,\n       [ 0.47308847,  0.49272349,  0.48995149, ...,  0.41972742,\n         0.41556942,  0.4047124 ],\n       [ 0.46260106,  0.47308847,  0.49272349, ...,  0.43705244,\n         0.41972742,  0.41556942],\n       [ 0.48394548,  0.46260106,  0.47308847, ...,  0.41857242,\n         0.43705244,  0.41972742]])"
     },
     "execution_count": 216,
     "metadata": {},
     "output_type": "execute_result"
    }
   ],
   "source": [
    "prices_scaler = MinMaxScaler(feature_range=(-1, 1))\n",
    "scaled_prices = prices_scaler.fit_transform(prices_before_scaling_as_np)\n",
    "scaled_prices"
   ]
  },
  {
   "cell_type": "code",
   "execution_count": 217,
   "metadata": {
    "ExecuteTime": {
     "end_time": "2023-11-30T16:57:09.125807200Z",
     "start_time": "2023-11-30T16:57:08.991814600Z"
    }
   },
   "outputs": [
    {
     "data": {
      "text/plain": "(6037, 16)"
     },
     "execution_count": 217,
     "metadata": {},
     "output_type": "execute_result"
    }
   ],
   "source": [
    "scaled_prices.shape"
   ]
  },
  {
   "cell_type": "code",
   "execution_count": 218,
   "metadata": {
    "id": "x57eELPEQgY-",
    "ExecuteTime": {
     "end_time": "2023-11-30T16:57:09.370149200Z",
     "start_time": "2023-11-30T16:57:09.251071400Z"
    }
   },
   "outputs": [],
   "source": [
    "GDP_before_scaling_as_np = shifted_df[\"Real_GDP\"].to_numpy()\n",
    "CPI_before_scaling_as_np = shifted_df[\"CPI\"].to_numpy()\n",
    "inflation_rate_before_scaling_as_np = shifted_df[\"inflation_rate\"].to_numpy()\n",
    "PALLFNFINDEXM_before_scaling_as_np = shifted_df[\"PALLFNFINDEXM\"].to_numpy()\n",
    "DEXCHUS = shifted_df[\"DEXCHUS\"].to_numpy()"
   ]
  },
  {
   "cell_type": "code",
   "execution_count": 219,
   "metadata": {
    "id": "4Mr21UPRQgY_",
    "ExecuteTime": {
     "end_time": "2023-11-30T16:57:09.587008800Z",
     "start_time": "2023-11-30T16:57:09.416237200Z"
    }
   },
   "outputs": [
    {
     "data": {
      "text/plain": "array([[-1.        ],\n       [-1.        ],\n       [-1.        ],\n       ...,\n       [ 0.36628638],\n       [ 0.36628638],\n       [ 0.36628638]])"
     },
     "execution_count": 219,
     "metadata": {},
     "output_type": "execute_result"
    }
   ],
   "source": [
    "GDP_scaler = MinMaxScaler(feature_range=(-1, 1))\n",
    "scaled_GDP = GDP_scaler.fit_transform(GDP_before_scaling_as_np.reshape(-1, 1))\n",
    "scaled_GDP"
   ]
  },
  {
   "cell_type": "code",
   "execution_count": 220,
   "metadata": {
    "id": "iLsbZK6UQgY_",
    "ExecuteTime": {
     "end_time": "2023-11-30T16:57:09.791124700Z",
     "start_time": "2023-11-30T16:57:09.627804400Z"
    }
   },
   "outputs": [
    {
     "data": {
      "text/plain": "array([[-1.        ],\n       [-1.        ],\n       [-1.        ],\n       ...,\n       [ 0.98864658],\n       [ 0.98864658],\n       [ 0.98864658]])"
     },
     "execution_count": 220,
     "metadata": {},
     "output_type": "execute_result"
    }
   ],
   "source": [
    "CPI_scaler = MinMaxScaler(feature_range=(-1, 1))\n",
    "scaled_CPI = CPI_scaler.fit_transform(CPI_before_scaling_as_np.reshape(-1, 1))\n",
    "scaled_CPI"
   ]
  },
  {
   "cell_type": "code",
   "execution_count": 221,
   "metadata": {
    "id": "pxSZSjwiQgY_",
    "ExecuteTime": {
     "end_time": "2023-11-30T16:57:10.072893900Z",
     "start_time": "2023-11-30T16:57:09.845126200Z"
    }
   },
   "outputs": [
    {
     "data": {
      "text/plain": "array([[-0.10690381],\n       [-0.10690381],\n       [-0.10690381],\n       ...,\n       [ 0.66433555],\n       [ 0.66433555],\n       [ 0.66433555]])"
     },
     "execution_count": 221,
     "metadata": {},
     "output_type": "execute_result"
    }
   ],
   "source": [
    "IR_scaler = MinMaxScaler(feature_range=(-1, 1))\n",
    "scaled_IR = IR_scaler.fit_transform(inflation_rate_before_scaling_as_np.reshape(-1, 1))\n",
    "scaled_IR"
   ]
  },
  {
   "cell_type": "code",
   "execution_count": 222,
   "metadata": {
    "id": "RhNJ4vRuQgY_",
    "ExecuteTime": {
     "end_time": "2023-11-30T16:57:10.216815200Z",
     "start_time": "2023-11-30T16:57:10.065215700Z"
    }
   },
   "outputs": [
    {
     "data": {
      "text/plain": "array([[-0.88354852],\n       [-0.88354852],\n       [-0.88354852],\n       ...,\n       [ 0.24367179],\n       [ 0.24367179],\n       [ 0.24367179]])"
     },
     "execution_count": 222,
     "metadata": {},
     "output_type": "execute_result"
    }
   ],
   "source": [
    "PALLFNFINDEXM_scaler = MinMaxScaler(feature_range=(-1, 1))\n",
    "scaled_PALLFNFINDEXM = PALLFNFINDEXM_scaler.fit_transform(PALLFNFINDEXM_before_scaling_as_np.reshape(-1, 1))\n",
    "scaled_PALLFNFINDEXM"
   ]
  },
  {
   "cell_type": "code",
   "execution_count": 223,
   "metadata": {
    "colab": {
     "base_uri": "https://localhost:8080/"
    },
    "id": "t6S1qtLpQgZA",
    "outputId": "356e3798-5c55-4a64-a6ba-d1449350a52d",
    "ExecuteTime": {
     "end_time": "2023-11-30T16:57:10.405334600Z",
     "start_time": "2023-11-30T16:57:10.242818300Z"
    }
   },
   "outputs": [
    {
     "data": {
      "text/plain": "array([[-0.99993486],\n       [-0.99986972],\n       [-0.99980458],\n       ...,\n       [-0.29056913],\n       [-0.28931784],\n       [-0.27635776]])"
     },
     "execution_count": 223,
     "metadata": {},
     "output_type": "execute_result"
    }
   ],
   "source": [
    "DEXCHUS_scaler = MinMaxScaler(feature_range=(-1, 1))\n",
    "scaled_DEXCHUS = DEXCHUS_scaler.fit_transform(DEXCHUS.reshape(-1, 1))\n",
    "scaled_DEXCHUS"
   ]
  },
  {
   "cell_type": "code",
   "execution_count": 224,
   "metadata": {
    "collapsed": false,
    "ExecuteTime": {
     "end_time": "2023-11-30T16:57:10.743386600Z",
     "start_time": "2023-11-30T16:57:10.506878400Z"
    }
   },
   "outputs": [
    {
     "data": {
      "text/plain": "(6037, 21)"
     },
     "execution_count": 224,
     "metadata": {},
     "output_type": "execute_result"
    }
   ],
   "source": [
    "\n",
    "stacked_np = np.hstack((scaled_prices, scaled_GDP,scaled_CPI,scaled_IR,scaled_PALLFNFINDEXM,scaled_DEXCHUS))\n",
    "\n",
    "# Display the combined NumPy array\n",
    "stacked_np.shape\n"
   ]
  },
  {
   "cell_type": "code",
   "execution_count": 225,
   "metadata": {
    "ExecuteTime": {
     "end_time": "2023-11-30T16:57:10.871697900Z",
     "start_time": "2023-11-30T16:57:10.737879600Z"
    }
   },
   "outputs": [
    {
     "data": {
      "text/plain": "(6037, 16)"
     },
     "execution_count": 225,
     "metadata": {},
     "output_type": "execute_result"
    }
   ],
   "source": [
    "scaled_prices.shape"
   ]
  },
  {
   "cell_type": "code",
   "execution_count": 226,
   "metadata": {
    "collapsed": false,
    "ExecuteTime": {
     "end_time": "2023-11-30T16:57:12.716604Z",
     "start_time": "2023-11-30T16:57:12.660770600Z"
    }
   },
   "outputs": [
    {
     "data": {
      "text/plain": "       Price  Price(t-1)  Price(t-2)  Price(t-3)  Price(t-4)  Price(t-5)  \\\n0     0.8415      0.8425      0.8565      0.8730      0.8730      0.8825   \n1     0.8445      0.8415      0.8425      0.8565      0.8730      0.8730   \n2     0.8400      0.8445      0.8415      0.8425      0.8565      0.8730   \n3     0.8545      0.8400      0.8445      0.8415      0.8425      0.8565   \n4     0.8480      0.8545      0.8400      0.8445      0.8415      0.8425   \n...      ...         ...         ...         ...         ...         ...   \n6032  3.8335      3.7345      3.7025      3.7185      3.6835      3.6660   \n6033  3.8395      3.8335      3.7345      3.7025      3.7185      3.6835   \n6034  3.7970      3.8395      3.8335      3.7345      3.7025      3.7185   \n6035  3.7743      3.7970      3.8395      3.8335      3.7345      3.7025   \n6036  3.8205      3.7743      3.7970      3.8395      3.8335      3.7345   \n\n      Price(t-6)  Price(t-7)  Price(t-8)  Price(t-9)  ...  Price(t-11)  \\\n0         0.8660      0.8625      0.8565      0.8660  ...       0.8465   \n1         0.8825      0.8660      0.8625      0.8565  ...       0.8435   \n2         0.8730      0.8825      0.8660      0.8625  ...       0.8660   \n3         0.8730      0.8730      0.8825      0.8660  ...       0.8565   \n4         0.8565      0.8730      0.8730      0.8825  ...       0.8625   \n...          ...         ...         ...         ...  ...          ...   \n6032      3.5870      3.6405      3.6380      3.6790  ...       3.6815   \n6033      3.6660      3.5870      3.6405      3.6380  ...       3.7190   \n6034      3.6835      3.6660      3.5870      3.6405  ...       3.6790   \n6035      3.7185      3.6835      3.6660      3.5870  ...       3.6380   \n6036      3.7025      3.7185      3.6835      3.6660  ...       3.6405   \n\n      Price(t-12)  Price(t-13)  Price(t-14)  Price(t-15)   Real_GDP    CPI  \\\n0          0.8540       0.8530       0.8565       0.8480  14096.033  168.8   \n1          0.8465       0.8540       0.8530       0.8565  14096.033  168.8   \n2          0.8435       0.8465       0.8540       0.8530  14096.033  168.8   \n3          0.8660       0.8435       0.8465       0.8540  14096.033  168.8   \n4          0.8565       0.8660       0.8435       0.8465  14096.033  168.8   \n...           ...          ...          ...          ...        ...    ...   \n6032       3.6725       3.6490       3.6490       3.6585  19374.000  307.0   \n6033       3.6815       3.6725       3.6490       3.6490  19374.000  307.0   \n6034       3.7190       3.6815       3.6725       3.6490  19374.000  307.0   \n6035       3.6790       3.7190       3.6815       3.6725  19374.000  307.0   \n6036       3.6380       3.6790       3.7190       3.6815  19374.000  307.0   \n\n      inflation_rate  PALLFNFINDEXM   DEXCHUS  \n0           3.376857      59.470000  0.120774  \n1           3.376857      59.470000  0.120776  \n2           3.376857      59.470000  0.120777  \n3           3.376857      59.470000  0.120782  \n4           3.376857      59.470000  0.120782  \n...              ...            ...       ...  \n6032        6.600000     168.657489  0.136737  \n6033        6.600000     168.657489  0.136676  \n6034        6.600000     168.657489  0.136659  \n6035        6.600000     168.657489  0.136687  \n6036        6.600000     168.657489  0.136977  \n\n[6037 rows x 21 columns]",
      "text/html": "<div>\n<style scoped>\n    .dataframe tbody tr th:only-of-type {\n        vertical-align: middle;\n    }\n\n    .dataframe tbody tr th {\n        vertical-align: top;\n    }\n\n    .dataframe thead th {\n        text-align: right;\n    }\n</style>\n<table border=\"1\" class=\"dataframe\">\n  <thead>\n    <tr style=\"text-align: right;\">\n      <th></th>\n      <th>Price</th>\n      <th>Price(t-1)</th>\n      <th>Price(t-2)</th>\n      <th>Price(t-3)</th>\n      <th>Price(t-4)</th>\n      <th>Price(t-5)</th>\n      <th>Price(t-6)</th>\n      <th>Price(t-7)</th>\n      <th>Price(t-8)</th>\n      <th>Price(t-9)</th>\n      <th>...</th>\n      <th>Price(t-11)</th>\n      <th>Price(t-12)</th>\n      <th>Price(t-13)</th>\n      <th>Price(t-14)</th>\n      <th>Price(t-15)</th>\n      <th>Real_GDP</th>\n      <th>CPI</th>\n      <th>inflation_rate</th>\n      <th>PALLFNFINDEXM</th>\n      <th>DEXCHUS</th>\n    </tr>\n  </thead>\n  <tbody>\n    <tr>\n      <th>0</th>\n      <td>0.8415</td>\n      <td>0.8425</td>\n      <td>0.8565</td>\n      <td>0.8730</td>\n      <td>0.8730</td>\n      <td>0.8825</td>\n      <td>0.8660</td>\n      <td>0.8625</td>\n      <td>0.8565</td>\n      <td>0.8660</td>\n      <td>...</td>\n      <td>0.8465</td>\n      <td>0.8540</td>\n      <td>0.8530</td>\n      <td>0.8565</td>\n      <td>0.8480</td>\n      <td>14096.033</td>\n      <td>168.8</td>\n      <td>3.376857</td>\n      <td>59.470000</td>\n      <td>0.120774</td>\n    </tr>\n    <tr>\n      <th>1</th>\n      <td>0.8445</td>\n      <td>0.8415</td>\n      <td>0.8425</td>\n      <td>0.8565</td>\n      <td>0.8730</td>\n      <td>0.8730</td>\n      <td>0.8825</td>\n      <td>0.8660</td>\n      <td>0.8625</td>\n      <td>0.8565</td>\n      <td>...</td>\n      <td>0.8435</td>\n      <td>0.8465</td>\n      <td>0.8540</td>\n      <td>0.8530</td>\n      <td>0.8565</td>\n      <td>14096.033</td>\n      <td>168.8</td>\n      <td>3.376857</td>\n      <td>59.470000</td>\n      <td>0.120776</td>\n    </tr>\n    <tr>\n      <th>2</th>\n      <td>0.8400</td>\n      <td>0.8445</td>\n      <td>0.8415</td>\n      <td>0.8425</td>\n      <td>0.8565</td>\n      <td>0.8730</td>\n      <td>0.8730</td>\n      <td>0.8825</td>\n      <td>0.8660</td>\n      <td>0.8625</td>\n      <td>...</td>\n      <td>0.8660</td>\n      <td>0.8435</td>\n      <td>0.8465</td>\n      <td>0.8540</td>\n      <td>0.8530</td>\n      <td>14096.033</td>\n      <td>168.8</td>\n      <td>3.376857</td>\n      <td>59.470000</td>\n      <td>0.120777</td>\n    </tr>\n    <tr>\n      <th>3</th>\n      <td>0.8545</td>\n      <td>0.8400</td>\n      <td>0.8445</td>\n      <td>0.8415</td>\n      <td>0.8425</td>\n      <td>0.8565</td>\n      <td>0.8730</td>\n      <td>0.8730</td>\n      <td>0.8825</td>\n      <td>0.8660</td>\n      <td>...</td>\n      <td>0.8565</td>\n      <td>0.8660</td>\n      <td>0.8435</td>\n      <td>0.8465</td>\n      <td>0.8540</td>\n      <td>14096.033</td>\n      <td>168.8</td>\n      <td>3.376857</td>\n      <td>59.470000</td>\n      <td>0.120782</td>\n    </tr>\n    <tr>\n      <th>4</th>\n      <td>0.8480</td>\n      <td>0.8545</td>\n      <td>0.8400</td>\n      <td>0.8445</td>\n      <td>0.8415</td>\n      <td>0.8425</td>\n      <td>0.8565</td>\n      <td>0.8730</td>\n      <td>0.8730</td>\n      <td>0.8825</td>\n      <td>...</td>\n      <td>0.8625</td>\n      <td>0.8565</td>\n      <td>0.8660</td>\n      <td>0.8435</td>\n      <td>0.8465</td>\n      <td>14096.033</td>\n      <td>168.8</td>\n      <td>3.376857</td>\n      <td>59.470000</td>\n      <td>0.120782</td>\n    </tr>\n    <tr>\n      <th>...</th>\n      <td>...</td>\n      <td>...</td>\n      <td>...</td>\n      <td>...</td>\n      <td>...</td>\n      <td>...</td>\n      <td>...</td>\n      <td>...</td>\n      <td>...</td>\n      <td>...</td>\n      <td>...</td>\n      <td>...</td>\n      <td>...</td>\n      <td>...</td>\n      <td>...</td>\n      <td>...</td>\n      <td>...</td>\n      <td>...</td>\n      <td>...</td>\n      <td>...</td>\n      <td>...</td>\n    </tr>\n    <tr>\n      <th>6032</th>\n      <td>3.8335</td>\n      <td>3.7345</td>\n      <td>3.7025</td>\n      <td>3.7185</td>\n      <td>3.6835</td>\n      <td>3.6660</td>\n      <td>3.5870</td>\n      <td>3.6405</td>\n      <td>3.6380</td>\n      <td>3.6790</td>\n      <td>...</td>\n      <td>3.6815</td>\n      <td>3.6725</td>\n      <td>3.6490</td>\n      <td>3.6490</td>\n      <td>3.6585</td>\n      <td>19374.000</td>\n      <td>307.0</td>\n      <td>6.600000</td>\n      <td>168.657489</td>\n      <td>0.136737</td>\n    </tr>\n    <tr>\n      <th>6033</th>\n      <td>3.8395</td>\n      <td>3.8335</td>\n      <td>3.7345</td>\n      <td>3.7025</td>\n      <td>3.7185</td>\n      <td>3.6835</td>\n      <td>3.6660</td>\n      <td>3.5870</td>\n      <td>3.6405</td>\n      <td>3.6380</td>\n      <td>...</td>\n      <td>3.7190</td>\n      <td>3.6815</td>\n      <td>3.6725</td>\n      <td>3.6490</td>\n      <td>3.6490</td>\n      <td>19374.000</td>\n      <td>307.0</td>\n      <td>6.600000</td>\n      <td>168.657489</td>\n      <td>0.136676</td>\n    </tr>\n    <tr>\n      <th>6034</th>\n      <td>3.7970</td>\n      <td>3.8395</td>\n      <td>3.8335</td>\n      <td>3.7345</td>\n      <td>3.7025</td>\n      <td>3.7185</td>\n      <td>3.6835</td>\n      <td>3.6660</td>\n      <td>3.5870</td>\n      <td>3.6405</td>\n      <td>...</td>\n      <td>3.6790</td>\n      <td>3.7190</td>\n      <td>3.6815</td>\n      <td>3.6725</td>\n      <td>3.6490</td>\n      <td>19374.000</td>\n      <td>307.0</td>\n      <td>6.600000</td>\n      <td>168.657489</td>\n      <td>0.136659</td>\n    </tr>\n    <tr>\n      <th>6035</th>\n      <td>3.7743</td>\n      <td>3.7970</td>\n      <td>3.8395</td>\n      <td>3.8335</td>\n      <td>3.7345</td>\n      <td>3.7025</td>\n      <td>3.7185</td>\n      <td>3.6835</td>\n      <td>3.6660</td>\n      <td>3.5870</td>\n      <td>...</td>\n      <td>3.6380</td>\n      <td>3.6790</td>\n      <td>3.7190</td>\n      <td>3.6815</td>\n      <td>3.6725</td>\n      <td>19374.000</td>\n      <td>307.0</td>\n      <td>6.600000</td>\n      <td>168.657489</td>\n      <td>0.136687</td>\n    </tr>\n    <tr>\n      <th>6036</th>\n      <td>3.8205</td>\n      <td>3.7743</td>\n      <td>3.7970</td>\n      <td>3.8395</td>\n      <td>3.8335</td>\n      <td>3.7345</td>\n      <td>3.7025</td>\n      <td>3.7185</td>\n      <td>3.6835</td>\n      <td>3.6660</td>\n      <td>...</td>\n      <td>3.6405</td>\n      <td>3.6380</td>\n      <td>3.6790</td>\n      <td>3.7190</td>\n      <td>3.6815</td>\n      <td>19374.000</td>\n      <td>307.0</td>\n      <td>6.600000</td>\n      <td>168.657489</td>\n      <td>0.136977</td>\n    </tr>\n  </tbody>\n</table>\n<p>6037 rows × 21 columns</p>\n</div>"
     },
     "execution_count": 226,
     "metadata": {},
     "output_type": "execute_result"
    }
   ],
   "source": [
    "scaled_df = shifted_df.drop(['Date'], axis=1)\n",
    "scaled_df"
   ]
  },
  {
   "cell_type": "code",
   "execution_count": 227,
   "metadata": {
    "id": "j63Oixd0QgZA",
    "ExecuteTime": {
     "end_time": "2023-11-30T16:57:14.109368200Z",
     "start_time": "2023-11-30T16:57:14.071129300Z"
    }
   },
   "outputs": [
    {
     "data": {
      "text/plain": "       DEXCHUS  PALLFNFINDEXM  inflation_rate    CPI   Real_GDP  Price(t-15)  \\\n0     0.120774      59.470000        3.376857  168.8  14096.033       0.8480   \n1     0.120776      59.470000        3.376857  168.8  14096.033       0.8565   \n2     0.120777      59.470000        3.376857  168.8  14096.033       0.8530   \n3     0.120782      59.470000        3.376857  168.8  14096.033       0.8540   \n4     0.120782      59.470000        3.376857  168.8  14096.033       0.8465   \n...        ...            ...             ...    ...        ...          ...   \n6032  0.136737     168.657489        6.600000  307.0  19374.000       3.6585   \n6033  0.136676     168.657489        6.600000  307.0  19374.000       3.6490   \n6034  0.136659     168.657489        6.600000  307.0  19374.000       3.6490   \n6035  0.136687     168.657489        6.600000  307.0  19374.000       3.6725   \n6036  0.136977     168.657489        6.600000  307.0  19374.000       3.6815   \n\n      Price(t-14)  Price(t-13)  Price(t-12)  Price(t-11)  ...  Price(t-9)  \\\n0          0.8565       0.8530       0.8540       0.8465  ...      0.8660   \n1          0.8530       0.8540       0.8465       0.8435  ...      0.8565   \n2          0.8540       0.8465       0.8435       0.8660  ...      0.8625   \n3          0.8465       0.8435       0.8660       0.8565  ...      0.8660   \n4          0.8435       0.8660       0.8565       0.8625  ...      0.8825   \n...           ...          ...          ...          ...  ...         ...   \n6032       3.6490       3.6490       3.6725       3.6815  ...      3.6790   \n6033       3.6490       3.6725       3.6815       3.7190  ...      3.6380   \n6034       3.6725       3.6815       3.7190       3.6790  ...      3.6405   \n6035       3.6815       3.7190       3.6790       3.6380  ...      3.5870   \n6036       3.7190       3.6790       3.6380       3.6405  ...      3.6660   \n\n      Price(t-8)  Price(t-7)  Price(t-6)  Price(t-5)  Price(t-4)  Price(t-3)  \\\n0         0.8565      0.8625      0.8660      0.8825      0.8730      0.8730   \n1         0.8625      0.8660      0.8825      0.8730      0.8730      0.8565   \n2         0.8660      0.8825      0.8730      0.8730      0.8565      0.8425   \n3         0.8825      0.8730      0.8730      0.8565      0.8425      0.8415   \n4         0.8730      0.8730      0.8565      0.8425      0.8415      0.8445   \n...          ...         ...         ...         ...         ...         ...   \n6032      3.6380      3.6405      3.5870      3.6660      3.6835      3.7185   \n6033      3.6405      3.5870      3.6660      3.6835      3.7185      3.7025   \n6034      3.5870      3.6660      3.6835      3.7185      3.7025      3.7345   \n6035      3.6660      3.6835      3.7185      3.7025      3.7345      3.8335   \n6036      3.6835      3.7185      3.7025      3.7345      3.8335      3.8395   \n\n      Price(t-2)  Price(t-1)   Price  \n0         0.8565      0.8425  0.8415  \n1         0.8425      0.8415  0.8445  \n2         0.8415      0.8445  0.8400  \n3         0.8445      0.8400  0.8545  \n4         0.8400      0.8545  0.8480  \n...          ...         ...     ...  \n6032      3.7025      3.7345  3.8335  \n6033      3.7345      3.8335  3.8395  \n6034      3.8335      3.8395  3.7970  \n6035      3.8395      3.7970  3.7743  \n6036      3.7970      3.7743  3.8205  \n\n[6037 rows x 21 columns]",
      "text/html": "<div>\n<style scoped>\n    .dataframe tbody tr th:only-of-type {\n        vertical-align: middle;\n    }\n\n    .dataframe tbody tr th {\n        vertical-align: top;\n    }\n\n    .dataframe thead th {\n        text-align: right;\n    }\n</style>\n<table border=\"1\" class=\"dataframe\">\n  <thead>\n    <tr style=\"text-align: right;\">\n      <th></th>\n      <th>DEXCHUS</th>\n      <th>PALLFNFINDEXM</th>\n      <th>inflation_rate</th>\n      <th>CPI</th>\n      <th>Real_GDP</th>\n      <th>Price(t-15)</th>\n      <th>Price(t-14)</th>\n      <th>Price(t-13)</th>\n      <th>Price(t-12)</th>\n      <th>Price(t-11)</th>\n      <th>...</th>\n      <th>Price(t-9)</th>\n      <th>Price(t-8)</th>\n      <th>Price(t-7)</th>\n      <th>Price(t-6)</th>\n      <th>Price(t-5)</th>\n      <th>Price(t-4)</th>\n      <th>Price(t-3)</th>\n      <th>Price(t-2)</th>\n      <th>Price(t-1)</th>\n      <th>Price</th>\n    </tr>\n  </thead>\n  <tbody>\n    <tr>\n      <th>0</th>\n      <td>0.120774</td>\n      <td>59.470000</td>\n      <td>3.376857</td>\n      <td>168.8</td>\n      <td>14096.033</td>\n      <td>0.8480</td>\n      <td>0.8565</td>\n      <td>0.8530</td>\n      <td>0.8540</td>\n      <td>0.8465</td>\n      <td>...</td>\n      <td>0.8660</td>\n      <td>0.8565</td>\n      <td>0.8625</td>\n      <td>0.8660</td>\n      <td>0.8825</td>\n      <td>0.8730</td>\n      <td>0.8730</td>\n      <td>0.8565</td>\n      <td>0.8425</td>\n      <td>0.8415</td>\n    </tr>\n    <tr>\n      <th>1</th>\n      <td>0.120776</td>\n      <td>59.470000</td>\n      <td>3.376857</td>\n      <td>168.8</td>\n      <td>14096.033</td>\n      <td>0.8565</td>\n      <td>0.8530</td>\n      <td>0.8540</td>\n      <td>0.8465</td>\n      <td>0.8435</td>\n      <td>...</td>\n      <td>0.8565</td>\n      <td>0.8625</td>\n      <td>0.8660</td>\n      <td>0.8825</td>\n      <td>0.8730</td>\n      <td>0.8730</td>\n      <td>0.8565</td>\n      <td>0.8425</td>\n      <td>0.8415</td>\n      <td>0.8445</td>\n    </tr>\n    <tr>\n      <th>2</th>\n      <td>0.120777</td>\n      <td>59.470000</td>\n      <td>3.376857</td>\n      <td>168.8</td>\n      <td>14096.033</td>\n      <td>0.8530</td>\n      <td>0.8540</td>\n      <td>0.8465</td>\n      <td>0.8435</td>\n      <td>0.8660</td>\n      <td>...</td>\n      <td>0.8625</td>\n      <td>0.8660</td>\n      <td>0.8825</td>\n      <td>0.8730</td>\n      <td>0.8730</td>\n      <td>0.8565</td>\n      <td>0.8425</td>\n      <td>0.8415</td>\n      <td>0.8445</td>\n      <td>0.8400</td>\n    </tr>\n    <tr>\n      <th>3</th>\n      <td>0.120782</td>\n      <td>59.470000</td>\n      <td>3.376857</td>\n      <td>168.8</td>\n      <td>14096.033</td>\n      <td>0.8540</td>\n      <td>0.8465</td>\n      <td>0.8435</td>\n      <td>0.8660</td>\n      <td>0.8565</td>\n      <td>...</td>\n      <td>0.8660</td>\n      <td>0.8825</td>\n      <td>0.8730</td>\n      <td>0.8730</td>\n      <td>0.8565</td>\n      <td>0.8425</td>\n      <td>0.8415</td>\n      <td>0.8445</td>\n      <td>0.8400</td>\n      <td>0.8545</td>\n    </tr>\n    <tr>\n      <th>4</th>\n      <td>0.120782</td>\n      <td>59.470000</td>\n      <td>3.376857</td>\n      <td>168.8</td>\n      <td>14096.033</td>\n      <td>0.8465</td>\n      <td>0.8435</td>\n      <td>0.8660</td>\n      <td>0.8565</td>\n      <td>0.8625</td>\n      <td>...</td>\n      <td>0.8825</td>\n      <td>0.8730</td>\n      <td>0.8730</td>\n      <td>0.8565</td>\n      <td>0.8425</td>\n      <td>0.8415</td>\n      <td>0.8445</td>\n      <td>0.8400</td>\n      <td>0.8545</td>\n      <td>0.8480</td>\n    </tr>\n    <tr>\n      <th>...</th>\n      <td>...</td>\n      <td>...</td>\n      <td>...</td>\n      <td>...</td>\n      <td>...</td>\n      <td>...</td>\n      <td>...</td>\n      <td>...</td>\n      <td>...</td>\n      <td>...</td>\n      <td>...</td>\n      <td>...</td>\n      <td>...</td>\n      <td>...</td>\n      <td>...</td>\n      <td>...</td>\n      <td>...</td>\n      <td>...</td>\n      <td>...</td>\n      <td>...</td>\n      <td>...</td>\n    </tr>\n    <tr>\n      <th>6032</th>\n      <td>0.136737</td>\n      <td>168.657489</td>\n      <td>6.600000</td>\n      <td>307.0</td>\n      <td>19374.000</td>\n      <td>3.6585</td>\n      <td>3.6490</td>\n      <td>3.6490</td>\n      <td>3.6725</td>\n      <td>3.6815</td>\n      <td>...</td>\n      <td>3.6790</td>\n      <td>3.6380</td>\n      <td>3.6405</td>\n      <td>3.5870</td>\n      <td>3.6660</td>\n      <td>3.6835</td>\n      <td>3.7185</td>\n      <td>3.7025</td>\n      <td>3.7345</td>\n      <td>3.8335</td>\n    </tr>\n    <tr>\n      <th>6033</th>\n      <td>0.136676</td>\n      <td>168.657489</td>\n      <td>6.600000</td>\n      <td>307.0</td>\n      <td>19374.000</td>\n      <td>3.6490</td>\n      <td>3.6490</td>\n      <td>3.6725</td>\n      <td>3.6815</td>\n      <td>3.7190</td>\n      <td>...</td>\n      <td>3.6380</td>\n      <td>3.6405</td>\n      <td>3.5870</td>\n      <td>3.6660</td>\n      <td>3.6835</td>\n      <td>3.7185</td>\n      <td>3.7025</td>\n      <td>3.7345</td>\n      <td>3.8335</td>\n      <td>3.8395</td>\n    </tr>\n    <tr>\n      <th>6034</th>\n      <td>0.136659</td>\n      <td>168.657489</td>\n      <td>6.600000</td>\n      <td>307.0</td>\n      <td>19374.000</td>\n      <td>3.6490</td>\n      <td>3.6725</td>\n      <td>3.6815</td>\n      <td>3.7190</td>\n      <td>3.6790</td>\n      <td>...</td>\n      <td>3.6405</td>\n      <td>3.5870</td>\n      <td>3.6660</td>\n      <td>3.6835</td>\n      <td>3.7185</td>\n      <td>3.7025</td>\n      <td>3.7345</td>\n      <td>3.8335</td>\n      <td>3.8395</td>\n      <td>3.7970</td>\n    </tr>\n    <tr>\n      <th>6035</th>\n      <td>0.136687</td>\n      <td>168.657489</td>\n      <td>6.600000</td>\n      <td>307.0</td>\n      <td>19374.000</td>\n      <td>3.6725</td>\n      <td>3.6815</td>\n      <td>3.7190</td>\n      <td>3.6790</td>\n      <td>3.6380</td>\n      <td>...</td>\n      <td>3.5870</td>\n      <td>3.6660</td>\n      <td>3.6835</td>\n      <td>3.7185</td>\n      <td>3.7025</td>\n      <td>3.7345</td>\n      <td>3.8335</td>\n      <td>3.8395</td>\n      <td>3.7970</td>\n      <td>3.7743</td>\n    </tr>\n    <tr>\n      <th>6036</th>\n      <td>0.136977</td>\n      <td>168.657489</td>\n      <td>6.600000</td>\n      <td>307.0</td>\n      <td>19374.000</td>\n      <td>3.6815</td>\n      <td>3.7190</td>\n      <td>3.6790</td>\n      <td>3.6380</td>\n      <td>3.6405</td>\n      <td>...</td>\n      <td>3.6660</td>\n      <td>3.6835</td>\n      <td>3.7185</td>\n      <td>3.7025</td>\n      <td>3.7345</td>\n      <td>3.8335</td>\n      <td>3.8395</td>\n      <td>3.7970</td>\n      <td>3.7743</td>\n      <td>3.8205</td>\n    </tr>\n  </tbody>\n</table>\n<p>6037 rows × 21 columns</p>\n</div>"
     },
     "execution_count": 227,
     "metadata": {},
     "output_type": "execute_result"
    }
   ],
   "source": [
    "flipped_df = shifted_df[shifted_df.columns[::-1]]\n",
    "flipped_df = flipped_df.drop(['Date'], axis=1)\n",
    "flipped_df"
   ]
  },
  {
   "cell_type": "code",
   "execution_count": 228,
   "metadata": {
    "id": "1fUlpjKbQgZA",
    "ExecuteTime": {
     "end_time": "2023-11-30T16:57:15.556635300Z",
     "start_time": "2023-11-30T16:57:15.514646300Z"
    }
   },
   "outputs": [],
   "source": [
    "flipped_df.reset_index(drop=True, inplace=True)"
   ]
  },
  {
   "cell_type": "code",
   "execution_count": 229,
   "metadata": {
    "collapsed": false,
    "ExecuteTime": {
     "end_time": "2023-11-30T16:57:16.713131300Z",
     "start_time": "2023-11-30T16:57:16.679291100Z"
    }
   },
   "outputs": [],
   "source": [
    "df.drop(columns=['Price'], inplace=True)"
   ]
  },
  {
   "cell_type": "code",
   "execution_count": 230,
   "metadata": {
    "id": "Q9Sf1h_RQgZA",
    "ExecuteTime": {
     "end_time": "2023-11-30T16:57:21.510134900Z",
     "start_time": "2023-11-30T16:57:21.472820300Z"
    }
   },
   "outputs": [],
   "source": [
    "new_df = pd.concat([df, flipped_df], axis=1)"
   ]
  },
  {
   "cell_type": "code",
   "execution_count": 231,
   "metadata": {
    "colab": {
     "base_uri": "https://localhost:8080/",
     "height": 461
    },
    "id": "GcctPDrKQgZA",
    "outputId": "da07cae9-3a41-4121-96dc-2b96999fa67b",
    "ExecuteTime": {
     "end_time": "2023-11-30T16:57:23.241811700Z",
     "start_time": "2023-11-30T16:57:23.191848100Z"
    }
   },
   "outputs": [
    {
     "data": {
      "text/plain": "           Date  Month    Year   Real_GDP    CPI  inflation_rate  \\\n0    2000-01-04    1.0  2000.0  14096.033  168.8        3.376857   \n1    2000-01-05    1.0  2000.0  14096.033  168.8        3.376857   \n2    2000-01-06    1.0  2000.0  14096.033  168.8        3.376857   \n3    2000-01-07    1.0  2000.0  14096.033  168.8        3.376857   \n4    2000-01-10    1.0  2000.0  14096.033  168.8        3.376857   \n...         ...    ...     ...        ...    ...             ...   \n6032 2023-10-30   10.0  2023.0  19374.000  307.0        6.600000   \n6033 2023-10-31   10.0  2023.0  19374.000  307.0        6.600000   \n6034 2023-11-01   11.0  2023.0  19374.000  307.0        6.600000   \n6035 2023-11-02   11.0  2023.0  19374.000  307.0        6.600000   \n6036 2023-11-03   11.0  2023.0  19374.000  307.0        6.600000   \n\n      PALLFNFINDEXM   DEXCHUS   DEXCHUS  PALLFNFINDEXM  ...  Price(t-9)  \\\n0         59.470000  0.120774  0.120774      59.470000  ...      0.8660   \n1         59.470000  0.120776  0.120776      59.470000  ...      0.8565   \n2         59.470000  0.120777  0.120777      59.470000  ...      0.8625   \n3         59.470000  0.120782  0.120782      59.470000  ...      0.8660   \n4         59.470000  0.120782  0.120782      59.470000  ...      0.8825   \n...             ...       ...       ...            ...  ...         ...   \n6032     168.657489  0.136737  0.136737     168.657489  ...      3.6790   \n6033     168.657489  0.136676  0.136676     168.657489  ...      3.6380   \n6034     168.657489  0.136659  0.136659     168.657489  ...      3.6405   \n6035     168.657489  0.136687  0.136687     168.657489  ...      3.5870   \n6036     168.657489  0.136977  0.136977     168.657489  ...      3.6660   \n\n      Price(t-8)  Price(t-7)  Price(t-6)  Price(t-5)  Price(t-4)  Price(t-3)  \\\n0         0.8565      0.8625      0.8660      0.8825      0.8730      0.8730   \n1         0.8625      0.8660      0.8825      0.8730      0.8730      0.8565   \n2         0.8660      0.8825      0.8730      0.8730      0.8565      0.8425   \n3         0.8825      0.8730      0.8730      0.8565      0.8425      0.8415   \n4         0.8730      0.8730      0.8565      0.8425      0.8415      0.8445   \n...          ...         ...         ...         ...         ...         ...   \n6032      3.6380      3.6405      3.5870      3.6660      3.6835      3.7185   \n6033      3.6405      3.5870      3.6660      3.6835      3.7185      3.7025   \n6034      3.5870      3.6660      3.6835      3.7185      3.7025      3.7345   \n6035      3.6660      3.6835      3.7185      3.7025      3.7345      3.8335   \n6036      3.6835      3.7185      3.7025      3.7345      3.8335      3.8395   \n\n      Price(t-2)  Price(t-1)   Price  \n0         0.8565      0.8425  0.8415  \n1         0.8425      0.8415  0.8445  \n2         0.8415      0.8445  0.8400  \n3         0.8445      0.8400  0.8545  \n4         0.8400      0.8545  0.8480  \n...          ...         ...     ...  \n6032      3.7025      3.7345  3.8335  \n6033      3.7345      3.8335  3.8395  \n6034      3.8335      3.8395  3.7970  \n6035      3.8395      3.7970  3.7743  \n6036      3.7970      3.7743  3.8205  \n\n[6037 rows x 29 columns]",
      "text/html": "<div>\n<style scoped>\n    .dataframe tbody tr th:only-of-type {\n        vertical-align: middle;\n    }\n\n    .dataframe tbody tr th {\n        vertical-align: top;\n    }\n\n    .dataframe thead th {\n        text-align: right;\n    }\n</style>\n<table border=\"1\" class=\"dataframe\">\n  <thead>\n    <tr style=\"text-align: right;\">\n      <th></th>\n      <th>Date</th>\n      <th>Month</th>\n      <th>Year</th>\n      <th>Real_GDP</th>\n      <th>CPI</th>\n      <th>inflation_rate</th>\n      <th>PALLFNFINDEXM</th>\n      <th>DEXCHUS</th>\n      <th>DEXCHUS</th>\n      <th>PALLFNFINDEXM</th>\n      <th>...</th>\n      <th>Price(t-9)</th>\n      <th>Price(t-8)</th>\n      <th>Price(t-7)</th>\n      <th>Price(t-6)</th>\n      <th>Price(t-5)</th>\n      <th>Price(t-4)</th>\n      <th>Price(t-3)</th>\n      <th>Price(t-2)</th>\n      <th>Price(t-1)</th>\n      <th>Price</th>\n    </tr>\n  </thead>\n  <tbody>\n    <tr>\n      <th>0</th>\n      <td>2000-01-04</td>\n      <td>1.0</td>\n      <td>2000.0</td>\n      <td>14096.033</td>\n      <td>168.8</td>\n      <td>3.376857</td>\n      <td>59.470000</td>\n      <td>0.120774</td>\n      <td>0.120774</td>\n      <td>59.470000</td>\n      <td>...</td>\n      <td>0.8660</td>\n      <td>0.8565</td>\n      <td>0.8625</td>\n      <td>0.8660</td>\n      <td>0.8825</td>\n      <td>0.8730</td>\n      <td>0.8730</td>\n      <td>0.8565</td>\n      <td>0.8425</td>\n      <td>0.8415</td>\n    </tr>\n    <tr>\n      <th>1</th>\n      <td>2000-01-05</td>\n      <td>1.0</td>\n      <td>2000.0</td>\n      <td>14096.033</td>\n      <td>168.8</td>\n      <td>3.376857</td>\n      <td>59.470000</td>\n      <td>0.120776</td>\n      <td>0.120776</td>\n      <td>59.470000</td>\n      <td>...</td>\n      <td>0.8565</td>\n      <td>0.8625</td>\n      <td>0.8660</td>\n      <td>0.8825</td>\n      <td>0.8730</td>\n      <td>0.8730</td>\n      <td>0.8565</td>\n      <td>0.8425</td>\n      <td>0.8415</td>\n      <td>0.8445</td>\n    </tr>\n    <tr>\n      <th>2</th>\n      <td>2000-01-06</td>\n      <td>1.0</td>\n      <td>2000.0</td>\n      <td>14096.033</td>\n      <td>168.8</td>\n      <td>3.376857</td>\n      <td>59.470000</td>\n      <td>0.120777</td>\n      <td>0.120777</td>\n      <td>59.470000</td>\n      <td>...</td>\n      <td>0.8625</td>\n      <td>0.8660</td>\n      <td>0.8825</td>\n      <td>0.8730</td>\n      <td>0.8730</td>\n      <td>0.8565</td>\n      <td>0.8425</td>\n      <td>0.8415</td>\n      <td>0.8445</td>\n      <td>0.8400</td>\n    </tr>\n    <tr>\n      <th>3</th>\n      <td>2000-01-07</td>\n      <td>1.0</td>\n      <td>2000.0</td>\n      <td>14096.033</td>\n      <td>168.8</td>\n      <td>3.376857</td>\n      <td>59.470000</td>\n      <td>0.120782</td>\n      <td>0.120782</td>\n      <td>59.470000</td>\n      <td>...</td>\n      <td>0.8660</td>\n      <td>0.8825</td>\n      <td>0.8730</td>\n      <td>0.8730</td>\n      <td>0.8565</td>\n      <td>0.8425</td>\n      <td>0.8415</td>\n      <td>0.8445</td>\n      <td>0.8400</td>\n      <td>0.8545</td>\n    </tr>\n    <tr>\n      <th>4</th>\n      <td>2000-01-10</td>\n      <td>1.0</td>\n      <td>2000.0</td>\n      <td>14096.033</td>\n      <td>168.8</td>\n      <td>3.376857</td>\n      <td>59.470000</td>\n      <td>0.120782</td>\n      <td>0.120782</td>\n      <td>59.470000</td>\n      <td>...</td>\n      <td>0.8825</td>\n      <td>0.8730</td>\n      <td>0.8730</td>\n      <td>0.8565</td>\n      <td>0.8425</td>\n      <td>0.8415</td>\n      <td>0.8445</td>\n      <td>0.8400</td>\n      <td>0.8545</td>\n      <td>0.8480</td>\n    </tr>\n    <tr>\n      <th>...</th>\n      <td>...</td>\n      <td>...</td>\n      <td>...</td>\n      <td>...</td>\n      <td>...</td>\n      <td>...</td>\n      <td>...</td>\n      <td>...</td>\n      <td>...</td>\n      <td>...</td>\n      <td>...</td>\n      <td>...</td>\n      <td>...</td>\n      <td>...</td>\n      <td>...</td>\n      <td>...</td>\n      <td>...</td>\n      <td>...</td>\n      <td>...</td>\n      <td>...</td>\n      <td>...</td>\n    </tr>\n    <tr>\n      <th>6032</th>\n      <td>2023-10-30</td>\n      <td>10.0</td>\n      <td>2023.0</td>\n      <td>19374.000</td>\n      <td>307.0</td>\n      <td>6.600000</td>\n      <td>168.657489</td>\n      <td>0.136737</td>\n      <td>0.136737</td>\n      <td>168.657489</td>\n      <td>...</td>\n      <td>3.6790</td>\n      <td>3.6380</td>\n      <td>3.6405</td>\n      <td>3.5870</td>\n      <td>3.6660</td>\n      <td>3.6835</td>\n      <td>3.7185</td>\n      <td>3.7025</td>\n      <td>3.7345</td>\n      <td>3.8335</td>\n    </tr>\n    <tr>\n      <th>6033</th>\n      <td>2023-10-31</td>\n      <td>10.0</td>\n      <td>2023.0</td>\n      <td>19374.000</td>\n      <td>307.0</td>\n      <td>6.600000</td>\n      <td>168.657489</td>\n      <td>0.136676</td>\n      <td>0.136676</td>\n      <td>168.657489</td>\n      <td>...</td>\n      <td>3.6380</td>\n      <td>3.6405</td>\n      <td>3.5870</td>\n      <td>3.6660</td>\n      <td>3.6835</td>\n      <td>3.7185</td>\n      <td>3.7025</td>\n      <td>3.7345</td>\n      <td>3.8335</td>\n      <td>3.8395</td>\n    </tr>\n    <tr>\n      <th>6034</th>\n      <td>2023-11-01</td>\n      <td>11.0</td>\n      <td>2023.0</td>\n      <td>19374.000</td>\n      <td>307.0</td>\n      <td>6.600000</td>\n      <td>168.657489</td>\n      <td>0.136659</td>\n      <td>0.136659</td>\n      <td>168.657489</td>\n      <td>...</td>\n      <td>3.6405</td>\n      <td>3.5870</td>\n      <td>3.6660</td>\n      <td>3.6835</td>\n      <td>3.7185</td>\n      <td>3.7025</td>\n      <td>3.7345</td>\n      <td>3.8335</td>\n      <td>3.8395</td>\n      <td>3.7970</td>\n    </tr>\n    <tr>\n      <th>6035</th>\n      <td>2023-11-02</td>\n      <td>11.0</td>\n      <td>2023.0</td>\n      <td>19374.000</td>\n      <td>307.0</td>\n      <td>6.600000</td>\n      <td>168.657489</td>\n      <td>0.136687</td>\n      <td>0.136687</td>\n      <td>168.657489</td>\n      <td>...</td>\n      <td>3.5870</td>\n      <td>3.6660</td>\n      <td>3.6835</td>\n      <td>3.7185</td>\n      <td>3.7025</td>\n      <td>3.7345</td>\n      <td>3.8335</td>\n      <td>3.8395</td>\n      <td>3.7970</td>\n      <td>3.7743</td>\n    </tr>\n    <tr>\n      <th>6036</th>\n      <td>2023-11-03</td>\n      <td>11.0</td>\n      <td>2023.0</td>\n      <td>19374.000</td>\n      <td>307.0</td>\n      <td>6.600000</td>\n      <td>168.657489</td>\n      <td>0.136977</td>\n      <td>0.136977</td>\n      <td>168.657489</td>\n      <td>...</td>\n      <td>3.6660</td>\n      <td>3.6835</td>\n      <td>3.7185</td>\n      <td>3.7025</td>\n      <td>3.7345</td>\n      <td>3.8335</td>\n      <td>3.8395</td>\n      <td>3.7970</td>\n      <td>3.7743</td>\n      <td>3.8205</td>\n    </tr>\n  </tbody>\n</table>\n<p>6037 rows × 29 columns</p>\n</div>"
     },
     "execution_count": 231,
     "metadata": {},
     "output_type": "execute_result"
    }
   ],
   "source": [
    "new_df"
   ]
  },
  {
   "cell_type": "code",
   "execution_count": 232,
   "metadata": {
    "collapsed": false,
    "ExecuteTime": {
     "end_time": "2023-11-30T16:57:28.354058100Z",
     "start_time": "2023-11-30T16:57:28.276401600Z"
    }
   },
   "outputs": [
    {
     "data": {
      "text/plain": "           Date   Real_GDP    CPI  inflation_rate  PALLFNFINDEXM   DEXCHUS  \\\n0    2000-01-04  14096.033  168.8        3.376857      59.470000  0.120774   \n1    2000-01-05  14096.033  168.8        3.376857      59.470000  0.120776   \n2    2000-01-06  14096.033  168.8        3.376857      59.470000  0.120777   \n3    2000-01-07  14096.033  168.8        3.376857      59.470000  0.120782   \n4    2000-01-10  14096.033  168.8        3.376857      59.470000  0.120782   \n...         ...        ...    ...             ...            ...       ...   \n6032 2023-10-30  19374.000  307.0        6.600000     168.657489  0.136737   \n6033 2023-10-31  19374.000  307.0        6.600000     168.657489  0.136676   \n6034 2023-11-01  19374.000  307.0        6.600000     168.657489  0.136659   \n6035 2023-11-02  19374.000  307.0        6.600000     168.657489  0.136687   \n6036 2023-11-03  19374.000  307.0        6.600000     168.657489  0.136977   \n\n       DEXCHUS  PALLFNFINDEXM  inflation_rate    CPI  ...  Price(t-9)  \\\n0     0.120774      59.470000        3.376857  168.8  ...      0.8660   \n1     0.120776      59.470000        3.376857  168.8  ...      0.8565   \n2     0.120777      59.470000        3.376857  168.8  ...      0.8625   \n3     0.120782      59.470000        3.376857  168.8  ...      0.8660   \n4     0.120782      59.470000        3.376857  168.8  ...      0.8825   \n...        ...            ...             ...    ...  ...         ...   \n6032  0.136737     168.657489        6.600000  307.0  ...      3.6790   \n6033  0.136676     168.657489        6.600000  307.0  ...      3.6380   \n6034  0.136659     168.657489        6.600000  307.0  ...      3.6405   \n6035  0.136687     168.657489        6.600000  307.0  ...      3.5870   \n6036  0.136977     168.657489        6.600000  307.0  ...      3.6660   \n\n      Price(t-8)  Price(t-7)  Price(t-6)  Price(t-5)  Price(t-4)  Price(t-3)  \\\n0         0.8565      0.8625      0.8660      0.8825      0.8730      0.8730   \n1         0.8625      0.8660      0.8825      0.8730      0.8730      0.8565   \n2         0.8660      0.8825      0.8730      0.8730      0.8565      0.8425   \n3         0.8825      0.8730      0.8730      0.8565      0.8425      0.8415   \n4         0.8730      0.8730      0.8565      0.8425      0.8415      0.8445   \n...          ...         ...         ...         ...         ...         ...   \n6032      3.6380      3.6405      3.5870      3.6660      3.6835      3.7185   \n6033      3.6405      3.5870      3.6660      3.6835      3.7185      3.7025   \n6034      3.5870      3.6660      3.6835      3.7185      3.7025      3.7345   \n6035      3.6660      3.6835      3.7185      3.7025      3.7345      3.8335   \n6036      3.6835      3.7185      3.7025      3.7345      3.8335      3.8395   \n\n      Price(t-2)  Price(t-1)   Price  \n0         0.8565      0.8425  0.8415  \n1         0.8425      0.8415  0.8445  \n2         0.8415      0.8445  0.8400  \n3         0.8445      0.8400  0.8545  \n4         0.8400      0.8545  0.8480  \n...          ...         ...     ...  \n6032      3.7025      3.7345  3.8335  \n6033      3.7345      3.8335  3.8395  \n6034      3.8335      3.8395  3.7970  \n6035      3.8395      3.7970  3.7743  \n6036      3.7970      3.7743  3.8205  \n\n[6037 rows x 27 columns]",
      "text/html": "<div>\n<style scoped>\n    .dataframe tbody tr th:only-of-type {\n        vertical-align: middle;\n    }\n\n    .dataframe tbody tr th {\n        vertical-align: top;\n    }\n\n    .dataframe thead th {\n        text-align: right;\n    }\n</style>\n<table border=\"1\" class=\"dataframe\">\n  <thead>\n    <tr style=\"text-align: right;\">\n      <th></th>\n      <th>Date</th>\n      <th>Real_GDP</th>\n      <th>CPI</th>\n      <th>inflation_rate</th>\n      <th>PALLFNFINDEXM</th>\n      <th>DEXCHUS</th>\n      <th>DEXCHUS</th>\n      <th>PALLFNFINDEXM</th>\n      <th>inflation_rate</th>\n      <th>CPI</th>\n      <th>...</th>\n      <th>Price(t-9)</th>\n      <th>Price(t-8)</th>\n      <th>Price(t-7)</th>\n      <th>Price(t-6)</th>\n      <th>Price(t-5)</th>\n      <th>Price(t-4)</th>\n      <th>Price(t-3)</th>\n      <th>Price(t-2)</th>\n      <th>Price(t-1)</th>\n      <th>Price</th>\n    </tr>\n  </thead>\n  <tbody>\n    <tr>\n      <th>0</th>\n      <td>2000-01-04</td>\n      <td>14096.033</td>\n      <td>168.8</td>\n      <td>3.376857</td>\n      <td>59.470000</td>\n      <td>0.120774</td>\n      <td>0.120774</td>\n      <td>59.470000</td>\n      <td>3.376857</td>\n      <td>168.8</td>\n      <td>...</td>\n      <td>0.8660</td>\n      <td>0.8565</td>\n      <td>0.8625</td>\n      <td>0.8660</td>\n      <td>0.8825</td>\n      <td>0.8730</td>\n      <td>0.8730</td>\n      <td>0.8565</td>\n      <td>0.8425</td>\n      <td>0.8415</td>\n    </tr>\n    <tr>\n      <th>1</th>\n      <td>2000-01-05</td>\n      <td>14096.033</td>\n      <td>168.8</td>\n      <td>3.376857</td>\n      <td>59.470000</td>\n      <td>0.120776</td>\n      <td>0.120776</td>\n      <td>59.470000</td>\n      <td>3.376857</td>\n      <td>168.8</td>\n      <td>...</td>\n      <td>0.8565</td>\n      <td>0.8625</td>\n      <td>0.8660</td>\n      <td>0.8825</td>\n      <td>0.8730</td>\n      <td>0.8730</td>\n      <td>0.8565</td>\n      <td>0.8425</td>\n      <td>0.8415</td>\n      <td>0.8445</td>\n    </tr>\n    <tr>\n      <th>2</th>\n      <td>2000-01-06</td>\n      <td>14096.033</td>\n      <td>168.8</td>\n      <td>3.376857</td>\n      <td>59.470000</td>\n      <td>0.120777</td>\n      <td>0.120777</td>\n      <td>59.470000</td>\n      <td>3.376857</td>\n      <td>168.8</td>\n      <td>...</td>\n      <td>0.8625</td>\n      <td>0.8660</td>\n      <td>0.8825</td>\n      <td>0.8730</td>\n      <td>0.8730</td>\n      <td>0.8565</td>\n      <td>0.8425</td>\n      <td>0.8415</td>\n      <td>0.8445</td>\n      <td>0.8400</td>\n    </tr>\n    <tr>\n      <th>3</th>\n      <td>2000-01-07</td>\n      <td>14096.033</td>\n      <td>168.8</td>\n      <td>3.376857</td>\n      <td>59.470000</td>\n      <td>0.120782</td>\n      <td>0.120782</td>\n      <td>59.470000</td>\n      <td>3.376857</td>\n      <td>168.8</td>\n      <td>...</td>\n      <td>0.8660</td>\n      <td>0.8825</td>\n      <td>0.8730</td>\n      <td>0.8730</td>\n      <td>0.8565</td>\n      <td>0.8425</td>\n      <td>0.8415</td>\n      <td>0.8445</td>\n      <td>0.8400</td>\n      <td>0.8545</td>\n    </tr>\n    <tr>\n      <th>4</th>\n      <td>2000-01-10</td>\n      <td>14096.033</td>\n      <td>168.8</td>\n      <td>3.376857</td>\n      <td>59.470000</td>\n      <td>0.120782</td>\n      <td>0.120782</td>\n      <td>59.470000</td>\n      <td>3.376857</td>\n      <td>168.8</td>\n      <td>...</td>\n      <td>0.8825</td>\n      <td>0.8730</td>\n      <td>0.8730</td>\n      <td>0.8565</td>\n      <td>0.8425</td>\n      <td>0.8415</td>\n      <td>0.8445</td>\n      <td>0.8400</td>\n      <td>0.8545</td>\n      <td>0.8480</td>\n    </tr>\n    <tr>\n      <th>...</th>\n      <td>...</td>\n      <td>...</td>\n      <td>...</td>\n      <td>...</td>\n      <td>...</td>\n      <td>...</td>\n      <td>...</td>\n      <td>...</td>\n      <td>...</td>\n      <td>...</td>\n      <td>...</td>\n      <td>...</td>\n      <td>...</td>\n      <td>...</td>\n      <td>...</td>\n      <td>...</td>\n      <td>...</td>\n      <td>...</td>\n      <td>...</td>\n      <td>...</td>\n      <td>...</td>\n    </tr>\n    <tr>\n      <th>6032</th>\n      <td>2023-10-30</td>\n      <td>19374.000</td>\n      <td>307.0</td>\n      <td>6.600000</td>\n      <td>168.657489</td>\n      <td>0.136737</td>\n      <td>0.136737</td>\n      <td>168.657489</td>\n      <td>6.600000</td>\n      <td>307.0</td>\n      <td>...</td>\n      <td>3.6790</td>\n      <td>3.6380</td>\n      <td>3.6405</td>\n      <td>3.5870</td>\n      <td>3.6660</td>\n      <td>3.6835</td>\n      <td>3.7185</td>\n      <td>3.7025</td>\n      <td>3.7345</td>\n      <td>3.8335</td>\n    </tr>\n    <tr>\n      <th>6033</th>\n      <td>2023-10-31</td>\n      <td>19374.000</td>\n      <td>307.0</td>\n      <td>6.600000</td>\n      <td>168.657489</td>\n      <td>0.136676</td>\n      <td>0.136676</td>\n      <td>168.657489</td>\n      <td>6.600000</td>\n      <td>307.0</td>\n      <td>...</td>\n      <td>3.6380</td>\n      <td>3.6405</td>\n      <td>3.5870</td>\n      <td>3.6660</td>\n      <td>3.6835</td>\n      <td>3.7185</td>\n      <td>3.7025</td>\n      <td>3.7345</td>\n      <td>3.8335</td>\n      <td>3.8395</td>\n    </tr>\n    <tr>\n      <th>6034</th>\n      <td>2023-11-01</td>\n      <td>19374.000</td>\n      <td>307.0</td>\n      <td>6.600000</td>\n      <td>168.657489</td>\n      <td>0.136659</td>\n      <td>0.136659</td>\n      <td>168.657489</td>\n      <td>6.600000</td>\n      <td>307.0</td>\n      <td>...</td>\n      <td>3.6405</td>\n      <td>3.5870</td>\n      <td>3.6660</td>\n      <td>3.6835</td>\n      <td>3.7185</td>\n      <td>3.7025</td>\n      <td>3.7345</td>\n      <td>3.8335</td>\n      <td>3.8395</td>\n      <td>3.7970</td>\n    </tr>\n    <tr>\n      <th>6035</th>\n      <td>2023-11-02</td>\n      <td>19374.000</td>\n      <td>307.0</td>\n      <td>6.600000</td>\n      <td>168.657489</td>\n      <td>0.136687</td>\n      <td>0.136687</td>\n      <td>168.657489</td>\n      <td>6.600000</td>\n      <td>307.0</td>\n      <td>...</td>\n      <td>3.5870</td>\n      <td>3.6660</td>\n      <td>3.6835</td>\n      <td>3.7185</td>\n      <td>3.7025</td>\n      <td>3.7345</td>\n      <td>3.8335</td>\n      <td>3.8395</td>\n      <td>3.7970</td>\n      <td>3.7743</td>\n    </tr>\n    <tr>\n      <th>6036</th>\n      <td>2023-11-03</td>\n      <td>19374.000</td>\n      <td>307.0</td>\n      <td>6.600000</td>\n      <td>168.657489</td>\n      <td>0.136977</td>\n      <td>0.136977</td>\n      <td>168.657489</td>\n      <td>6.600000</td>\n      <td>307.0</td>\n      <td>...</td>\n      <td>3.6660</td>\n      <td>3.6835</td>\n      <td>3.7185</td>\n      <td>3.7025</td>\n      <td>3.7345</td>\n      <td>3.8335</td>\n      <td>3.8395</td>\n      <td>3.7970</td>\n      <td>3.7743</td>\n      <td>3.8205</td>\n    </tr>\n  </tbody>\n</table>\n<p>6037 rows × 27 columns</p>\n</div>"
     },
     "execution_count": 232,
     "metadata": {},
     "output_type": "execute_result"
    }
   ],
   "source": [
    "new_df.drop(columns=['Month', 'Year'], inplace=True)\n",
    "new_df"
   ]
  },
  {
   "cell_type": "code",
   "execution_count": 233,
   "metadata": {
    "colab": {
     "base_uri": "https://localhost:8080/",
     "height": 423
    },
    "id": "1q72WvTiQgZB",
    "outputId": "a5ffcc96-3572-422e-f9a1-1ab575efaaf2",
    "ExecuteTime": {
     "end_time": "2023-11-30T16:57:30.947549400Z",
     "start_time": "2023-11-30T16:57:30.884012600Z"
    }
   },
   "outputs": [
    {
     "data": {
      "text/plain": "       DEXCHUS  PALLFNFINDEXM  inflation_rate    CPI   Real_GDP  Price(t-15)  \\\n0     0.120774      59.470000        3.376857  168.8  14096.033       0.8480   \n1     0.120776      59.470000        3.376857  168.8  14096.033       0.8565   \n2     0.120777      59.470000        3.376857  168.8  14096.033       0.8530   \n3     0.120782      59.470000        3.376857  168.8  14096.033       0.8540   \n4     0.120782      59.470000        3.376857  168.8  14096.033       0.8465   \n...        ...            ...             ...    ...        ...          ...   \n6032  0.136737     168.657489        6.600000  307.0  19374.000       3.6585   \n6033  0.136676     168.657489        6.600000  307.0  19374.000       3.6490   \n6034  0.136659     168.657489        6.600000  307.0  19374.000       3.6490   \n6035  0.136687     168.657489        6.600000  307.0  19374.000       3.6725   \n6036  0.136977     168.657489        6.600000  307.0  19374.000       3.6815   \n\n      Price(t-14)  Price(t-13)  Price(t-12)  Price(t-11)  ...  Price(t-9)  \\\n0          0.8565       0.8530       0.8540       0.8465  ...      0.8660   \n1          0.8530       0.8540       0.8465       0.8435  ...      0.8565   \n2          0.8540       0.8465       0.8435       0.8660  ...      0.8625   \n3          0.8465       0.8435       0.8660       0.8565  ...      0.8660   \n4          0.8435       0.8660       0.8565       0.8625  ...      0.8825   \n...           ...          ...          ...          ...  ...         ...   \n6032       3.6490       3.6490       3.6725       3.6815  ...      3.6790   \n6033       3.6490       3.6725       3.6815       3.7190  ...      3.6380   \n6034       3.6725       3.6815       3.7190       3.6790  ...      3.6405   \n6035       3.6815       3.7190       3.6790       3.6380  ...      3.5870   \n6036       3.7190       3.6790       3.6380       3.6405  ...      3.6660   \n\n      Price(t-8)  Price(t-7)  Price(t-6)  Price(t-5)  Price(t-4)  Price(t-3)  \\\n0         0.8565      0.8625      0.8660      0.8825      0.8730      0.8730   \n1         0.8625      0.8660      0.8825      0.8730      0.8730      0.8565   \n2         0.8660      0.8825      0.8730      0.8730      0.8565      0.8425   \n3         0.8825      0.8730      0.8730      0.8565      0.8425      0.8415   \n4         0.8730      0.8730      0.8565      0.8425      0.8415      0.8445   \n...          ...         ...         ...         ...         ...         ...   \n6032      3.6380      3.6405      3.5870      3.6660      3.6835      3.7185   \n6033      3.6405      3.5870      3.6660      3.6835      3.7185      3.7025   \n6034      3.5870      3.6660      3.6835      3.7185      3.7025      3.7345   \n6035      3.6660      3.6835      3.7185      3.7025      3.7345      3.8335   \n6036      3.6835      3.7185      3.7025      3.7345      3.8335      3.8395   \n\n      Price(t-2)  Price(t-1)   Price  \n0         0.8565      0.8425  0.8415  \n1         0.8425      0.8415  0.8445  \n2         0.8415      0.8445  0.8400  \n3         0.8445      0.8400  0.8545  \n4         0.8400      0.8545  0.8480  \n...          ...         ...     ...  \n6032      3.7025      3.7345  3.8335  \n6033      3.7345      3.8335  3.8395  \n6034      3.8335      3.8395  3.7970  \n6035      3.8395      3.7970  3.7743  \n6036      3.7970      3.7743  3.8205  \n\n[6037 rows x 21 columns]",
      "text/html": "<div>\n<style scoped>\n    .dataframe tbody tr th:only-of-type {\n        vertical-align: middle;\n    }\n\n    .dataframe tbody tr th {\n        vertical-align: top;\n    }\n\n    .dataframe thead th {\n        text-align: right;\n    }\n</style>\n<table border=\"1\" class=\"dataframe\">\n  <thead>\n    <tr style=\"text-align: right;\">\n      <th></th>\n      <th>DEXCHUS</th>\n      <th>PALLFNFINDEXM</th>\n      <th>inflation_rate</th>\n      <th>CPI</th>\n      <th>Real_GDP</th>\n      <th>Price(t-15)</th>\n      <th>Price(t-14)</th>\n      <th>Price(t-13)</th>\n      <th>Price(t-12)</th>\n      <th>Price(t-11)</th>\n      <th>...</th>\n      <th>Price(t-9)</th>\n      <th>Price(t-8)</th>\n      <th>Price(t-7)</th>\n      <th>Price(t-6)</th>\n      <th>Price(t-5)</th>\n      <th>Price(t-4)</th>\n      <th>Price(t-3)</th>\n      <th>Price(t-2)</th>\n      <th>Price(t-1)</th>\n      <th>Price</th>\n    </tr>\n  </thead>\n  <tbody>\n    <tr>\n      <th>0</th>\n      <td>0.120774</td>\n      <td>59.470000</td>\n      <td>3.376857</td>\n      <td>168.8</td>\n      <td>14096.033</td>\n      <td>0.8480</td>\n      <td>0.8565</td>\n      <td>0.8530</td>\n      <td>0.8540</td>\n      <td>0.8465</td>\n      <td>...</td>\n      <td>0.8660</td>\n      <td>0.8565</td>\n      <td>0.8625</td>\n      <td>0.8660</td>\n      <td>0.8825</td>\n      <td>0.8730</td>\n      <td>0.8730</td>\n      <td>0.8565</td>\n      <td>0.8425</td>\n      <td>0.8415</td>\n    </tr>\n    <tr>\n      <th>1</th>\n      <td>0.120776</td>\n      <td>59.470000</td>\n      <td>3.376857</td>\n      <td>168.8</td>\n      <td>14096.033</td>\n      <td>0.8565</td>\n      <td>0.8530</td>\n      <td>0.8540</td>\n      <td>0.8465</td>\n      <td>0.8435</td>\n      <td>...</td>\n      <td>0.8565</td>\n      <td>0.8625</td>\n      <td>0.8660</td>\n      <td>0.8825</td>\n      <td>0.8730</td>\n      <td>0.8730</td>\n      <td>0.8565</td>\n      <td>0.8425</td>\n      <td>0.8415</td>\n      <td>0.8445</td>\n    </tr>\n    <tr>\n      <th>2</th>\n      <td>0.120777</td>\n      <td>59.470000</td>\n      <td>3.376857</td>\n      <td>168.8</td>\n      <td>14096.033</td>\n      <td>0.8530</td>\n      <td>0.8540</td>\n      <td>0.8465</td>\n      <td>0.8435</td>\n      <td>0.8660</td>\n      <td>...</td>\n      <td>0.8625</td>\n      <td>0.8660</td>\n      <td>0.8825</td>\n      <td>0.8730</td>\n      <td>0.8730</td>\n      <td>0.8565</td>\n      <td>0.8425</td>\n      <td>0.8415</td>\n      <td>0.8445</td>\n      <td>0.8400</td>\n    </tr>\n    <tr>\n      <th>3</th>\n      <td>0.120782</td>\n      <td>59.470000</td>\n      <td>3.376857</td>\n      <td>168.8</td>\n      <td>14096.033</td>\n      <td>0.8540</td>\n      <td>0.8465</td>\n      <td>0.8435</td>\n      <td>0.8660</td>\n      <td>0.8565</td>\n      <td>...</td>\n      <td>0.8660</td>\n      <td>0.8825</td>\n      <td>0.8730</td>\n      <td>0.8730</td>\n      <td>0.8565</td>\n      <td>0.8425</td>\n      <td>0.8415</td>\n      <td>0.8445</td>\n      <td>0.8400</td>\n      <td>0.8545</td>\n    </tr>\n    <tr>\n      <th>4</th>\n      <td>0.120782</td>\n      <td>59.470000</td>\n      <td>3.376857</td>\n      <td>168.8</td>\n      <td>14096.033</td>\n      <td>0.8465</td>\n      <td>0.8435</td>\n      <td>0.8660</td>\n      <td>0.8565</td>\n      <td>0.8625</td>\n      <td>...</td>\n      <td>0.8825</td>\n      <td>0.8730</td>\n      <td>0.8730</td>\n      <td>0.8565</td>\n      <td>0.8425</td>\n      <td>0.8415</td>\n      <td>0.8445</td>\n      <td>0.8400</td>\n      <td>0.8545</td>\n      <td>0.8480</td>\n    </tr>\n    <tr>\n      <th>...</th>\n      <td>...</td>\n      <td>...</td>\n      <td>...</td>\n      <td>...</td>\n      <td>...</td>\n      <td>...</td>\n      <td>...</td>\n      <td>...</td>\n      <td>...</td>\n      <td>...</td>\n      <td>...</td>\n      <td>...</td>\n      <td>...</td>\n      <td>...</td>\n      <td>...</td>\n      <td>...</td>\n      <td>...</td>\n      <td>...</td>\n      <td>...</td>\n      <td>...</td>\n      <td>...</td>\n    </tr>\n    <tr>\n      <th>6032</th>\n      <td>0.136737</td>\n      <td>168.657489</td>\n      <td>6.600000</td>\n      <td>307.0</td>\n      <td>19374.000</td>\n      <td>3.6585</td>\n      <td>3.6490</td>\n      <td>3.6490</td>\n      <td>3.6725</td>\n      <td>3.6815</td>\n      <td>...</td>\n      <td>3.6790</td>\n      <td>3.6380</td>\n      <td>3.6405</td>\n      <td>3.5870</td>\n      <td>3.6660</td>\n      <td>3.6835</td>\n      <td>3.7185</td>\n      <td>3.7025</td>\n      <td>3.7345</td>\n      <td>3.8335</td>\n    </tr>\n    <tr>\n      <th>6033</th>\n      <td>0.136676</td>\n      <td>168.657489</td>\n      <td>6.600000</td>\n      <td>307.0</td>\n      <td>19374.000</td>\n      <td>3.6490</td>\n      <td>3.6490</td>\n      <td>3.6725</td>\n      <td>3.6815</td>\n      <td>3.7190</td>\n      <td>...</td>\n      <td>3.6380</td>\n      <td>3.6405</td>\n      <td>3.5870</td>\n      <td>3.6660</td>\n      <td>3.6835</td>\n      <td>3.7185</td>\n      <td>3.7025</td>\n      <td>3.7345</td>\n      <td>3.8335</td>\n      <td>3.8395</td>\n    </tr>\n    <tr>\n      <th>6034</th>\n      <td>0.136659</td>\n      <td>168.657489</td>\n      <td>6.600000</td>\n      <td>307.0</td>\n      <td>19374.000</td>\n      <td>3.6490</td>\n      <td>3.6725</td>\n      <td>3.6815</td>\n      <td>3.7190</td>\n      <td>3.6790</td>\n      <td>...</td>\n      <td>3.6405</td>\n      <td>3.5870</td>\n      <td>3.6660</td>\n      <td>3.6835</td>\n      <td>3.7185</td>\n      <td>3.7025</td>\n      <td>3.7345</td>\n      <td>3.8335</td>\n      <td>3.8395</td>\n      <td>3.7970</td>\n    </tr>\n    <tr>\n      <th>6035</th>\n      <td>0.136687</td>\n      <td>168.657489</td>\n      <td>6.600000</td>\n      <td>307.0</td>\n      <td>19374.000</td>\n      <td>3.6725</td>\n      <td>3.6815</td>\n      <td>3.7190</td>\n      <td>3.6790</td>\n      <td>3.6380</td>\n      <td>...</td>\n      <td>3.5870</td>\n      <td>3.6660</td>\n      <td>3.6835</td>\n      <td>3.7185</td>\n      <td>3.7025</td>\n      <td>3.7345</td>\n      <td>3.8335</td>\n      <td>3.8395</td>\n      <td>3.7970</td>\n      <td>3.7743</td>\n    </tr>\n    <tr>\n      <th>6036</th>\n      <td>0.136977</td>\n      <td>168.657489</td>\n      <td>6.600000</td>\n      <td>307.0</td>\n      <td>19374.000</td>\n      <td>3.6815</td>\n      <td>3.7190</td>\n      <td>3.6790</td>\n      <td>3.6380</td>\n      <td>3.6405</td>\n      <td>...</td>\n      <td>3.6660</td>\n      <td>3.6835</td>\n      <td>3.7185</td>\n      <td>3.7025</td>\n      <td>3.7345</td>\n      <td>3.8335</td>\n      <td>3.8395</td>\n      <td>3.7970</td>\n      <td>3.7743</td>\n      <td>3.8205</td>\n    </tr>\n  </tbody>\n</table>\n<p>6037 rows × 21 columns</p>\n</div>"
     },
     "execution_count": 233,
     "metadata": {},
     "output_type": "execute_result"
    }
   ],
   "source": [
    "flipped_df"
   ]
  },
  {
   "cell_type": "code",
   "execution_count": 234,
   "metadata": {
    "colab": {
     "base_uri": "https://localhost:8080/"
    },
    "id": "6fSq0PmcQgZB",
    "outputId": "36199b8f-ed6e-43bc-b4fd-ad3aff90bb21",
    "ExecuteTime": {
     "end_time": "2023-11-30T16:57:32.984553300Z",
     "start_time": "2023-11-30T16:57:32.920325600Z"
    }
   },
   "outputs": [
    {
     "data": {
      "text/plain": "array([[1.20774405e-01, 5.94700000e+01, 3.37685727e+00, ...,\n        8.56500000e-01, 8.42500000e-01, 8.41500000e-01],\n       [1.20775864e-01, 5.94700000e+01, 3.37685727e+00, ...,\n        8.42500000e-01, 8.41500000e-01, 8.44500000e-01],\n       [1.20777323e-01, 5.94700000e+01, 3.37685727e+00, ...,\n        8.41500000e-01, 8.44500000e-01, 8.40000000e-01],\n       ...,\n       [1.36658695e-01, 1.68657489e+02, 6.60000000e+00, ...,\n        3.83350000e+00, 3.83950000e+00, 3.79700000e+00],\n       [1.36686714e-01, 1.68657489e+02, 6.60000000e+00, ...,\n        3.83950000e+00, 3.79700000e+00, 3.77430000e+00],\n       [1.36976919e-01, 1.68657489e+02, 6.60000000e+00, ...,\n        3.79700000e+00, 3.77430000e+00, 3.82050000e+00]])"
     },
     "execution_count": 234,
     "metadata": {},
     "output_type": "execute_result"
    }
   ],
   "source": [
    "flipped_df_before_scaling_as_np = flipped_df.to_numpy()\n",
    "flipped_df_before_scaling_as_np"
   ]
  },
  {
   "cell_type": "code",
   "execution_count": 235,
   "metadata": {
    "id": "TdLlsInvQgZG",
    "ExecuteTime": {
     "end_time": "2023-11-30T16:57:39.977903700Z",
     "start_time": "2023-11-30T16:57:39.916108300Z"
    }
   },
   "outputs": [],
   "source": [
    "#price_scaler = MinMaxScaler(feature_range=(-1, 1))\n",
    "#scaled_prices = price_scaler.fit_transform(flipped_df_before_scaling_as_np)"
   ]
  },
  {
   "cell_type": "code",
   "execution_count": 236,
   "metadata": {
    "colab": {
     "base_uri": "https://localhost:8080/"
    },
    "id": "xaCzAzXXQgZG",
    "outputId": "2cea2120-ce96-4ae8-f111-0c57f4e49b0f",
    "ExecuteTime": {
     "end_time": "2023-11-30T16:57:40.773475600Z",
     "start_time": "2023-11-30T16:57:40.702116900Z"
    }
   },
   "outputs": [
    {
     "data": {
      "text/plain": "array([[-0.89235389, -0.89189189, -0.88542389, ..., -0.88704089,\n        -0.88542389, -0.88935089],\n       [-0.89096789, -0.89235389, -0.89189189, ..., -0.88657889,\n        -0.88704089, -0.88542389],\n       [-0.89304689, -0.89096789, -0.89235389, ..., -0.89004389,\n        -0.88657889, -0.88704089],\n       ...,\n       [ 0.47308847,  0.49272349,  0.48995149, ...,  0.41972742,\n         0.41556942,  0.4047124 ],\n       [ 0.46260106,  0.47308847,  0.49272349, ...,  0.43705244,\n         0.41972742,  0.41556942],\n       [ 0.48394548,  0.46260106,  0.47308847, ...,  0.41857242,\n         0.43705244,  0.41972742]])"
     },
     "execution_count": 236,
     "metadata": {},
     "output_type": "execute_result"
    }
   ],
   "source": [
    "scaled_prices"
   ]
  },
  {
   "cell_type": "code",
   "execution_count": 237,
   "metadata": {
    "colab": {
     "base_uri": "https://localhost:8080/"
    },
    "id": "q4mXp_1ZQgZG",
    "outputId": "2dc202d8-75e3-4c9d-80a4-10e4dba22a42",
    "ExecuteTime": {
     "end_time": "2023-11-30T16:58:11.283415200Z",
     "start_time": "2023-11-30T16:58:11.201417100Z"
    }
   },
   "outputs": [
    {
     "data": {
      "text/plain": "array([[-1.        , -1.        , -0.10690381, ..., -0.88704089,\n        -0.88542389, -0.88935089],\n       [-1.        , -1.        , -0.10690381, ..., -0.88657889,\n        -0.88704089, -0.88542389],\n       [-1.        , -1.        , -0.10690381, ..., -0.89004389,\n        -0.88657889, -0.88704089],\n       ...,\n       [ 0.36628638,  0.98864658,  0.66433555, ...,  0.41972742,\n         0.41556942,  0.4047124 ],\n       [ 0.36628638,  0.98864658,  0.66433555, ...,  0.43705244,\n         0.41972742,  0.41556942],\n       [ 0.36628638,  0.98864658,  0.66433555, ...,  0.41857242,\n         0.43705244,  0.41972742]])"
     },
     "execution_count": 237,
     "metadata": {},
     "output_type": "execute_result"
    }
   ],
   "source": [
    "result = np.concatenate((scaled_GDP, scaled_CPI, scaled_IR, scaled_PALLFNFINDEXM,scaled_DEXCHUS, scaled_prices), axis=1)\n",
    "result"
   ]
  },
  {
   "cell_type": "code",
   "execution_count": 238,
   "metadata": {
    "colab": {
     "base_uri": "https://localhost:8080/"
    },
    "id": "HLocb9xtQgZG",
    "outputId": "fa9a7d85-a1ed-470d-e2b8-fd4b5dec46b1",
    "ExecuteTime": {
     "end_time": "2023-11-30T16:58:54.940619800Z",
     "start_time": "2023-11-30T16:58:54.850618700Z"
    }
   },
   "outputs": [
    {
     "data": {
      "text/plain": "(6037, 20)"
     },
     "execution_count": 238,
     "metadata": {},
     "output_type": "execute_result"
    }
   ],
   "source": [
    "X = result[:, 0:LOOKBACK+5]\n",
    "y = result[:, LOOKBACK+5]\n",
    "X = X.astype(np.float32)\n",
    "y = y.astype(np.float32)\n",
    "X.shape"
   ]
  },
  {
   "cell_type": "code",
   "execution_count": 239,
   "metadata": {
    "collapsed": false,
    "ExecuteTime": {
     "end_time": "2023-11-30T16:58:56.054009500Z",
     "start_time": "2023-11-30T16:58:55.998457Z"
    }
   },
   "outputs": [
    {
     "data": {
      "text/plain": "array([[-1.        , -1.        , -0.10690381, ..., -0.88657886,\n        -0.8870409 , -0.8854239 ],\n       [-1.        , -1.        , -0.10690381, ..., -0.8900439 ,\n        -0.88657886, -0.8870409 ],\n       [-1.        , -1.        , -0.10690381, ..., -0.8914299 ,\n        -0.8900439 , -0.88657886],\n       ...,\n       [ 0.36628637,  0.98864657,  0.66433555, ...,  0.43705243,\n         0.4197274 ,  0.41556942],\n       [ 0.36628637,  0.98864657,  0.66433555, ...,  0.41857243,\n         0.43705243,  0.4197274 ],\n       [ 0.36628637,  0.98864657,  0.66433555, ...,  0.3996304 ,\n         0.41857243,  0.43705243]], dtype=float32)"
     },
     "execution_count": 239,
     "metadata": {},
     "output_type": "execute_result"
    }
   ],
   "source": [
    "X"
   ]
  },
  {
   "cell_type": "code",
   "execution_count": 240,
   "metadata": {
    "colab": {
     "base_uri": "https://localhost:8080/"
    },
    "id": "DJX1mVi2QgZH",
    "outputId": "e0d7158b-c500-4ab8-ea08-20d3ca5e840a",
    "ExecuteTime": {
     "end_time": "2023-11-30T16:59:00.381953400Z",
     "start_time": "2023-11-30T16:59:00.330224700Z"
    }
   },
   "outputs": [
    {
     "data": {
      "text/plain": "0      2000-01-26\n1      2000-01-27\n2      2000-01-28\n3      2000-01-31\n4      2000-02-01\n          ...    \n4824   2019-03-29\n4825   2019-04-01\n4826   2019-04-02\n4827   2019-04-03\n4828   2019-04-04\nName: Date, Length: 4829, dtype: datetime64[ns]"
     },
     "execution_count": 240,
     "metadata": {},
     "output_type": "execute_result"
    }
   ],
   "source": [
    "\n",
    "split_index = int(len(X) * 0.80)\n",
    "split_date = dates[split_index]\n",
    "\n",
    "X_train = X[:split_index]\n",
    "X_test = X[split_index:]\n",
    "y_train = y[:split_index]\n",
    "y_test = y[split_index:]\n",
    "train_dates = dates[:split_index]\n",
    "test_dates = dates[split_index:]\n",
    "train_dates"
   ]
  },
  {
   "cell_type": "code",
   "execution_count": 241,
   "metadata": {
    "collapsed": false,
    "ExecuteTime": {
     "end_time": "2023-11-30T16:59:01.802074300Z",
     "start_time": "2023-11-30T16:59:01.769011700Z"
    }
   },
   "outputs": [
    {
     "data": {
      "text/plain": "(4829, 20)"
     },
     "execution_count": 241,
     "metadata": {},
     "output_type": "execute_result"
    }
   ],
   "source": [
    "X_train.shape"
   ]
  },
  {
   "cell_type": "code",
   "execution_count": 242,
   "metadata": {
    "id": "Y_8mJkJ8QgZH",
    "ExecuteTime": {
     "end_time": "2023-11-30T16:59:11.571222200Z",
     "start_time": "2023-11-30T16:59:11.511222200Z"
    }
   },
   "outputs": [
    {
     "data": {
      "text/plain": "((4829, 20, 1), (1208, 20, 1), (4829, 1), (1208, 1))"
     },
     "execution_count": 242,
     "metadata": {},
     "output_type": "execute_result"
    }
   ],
   "source": [
    "X = X.reshape((-1, LOOKBACK+5, 1))\n",
    "X_train = X_train.reshape((-1, LOOKBACK+5, 1))\n",
    "X_test = X_test.reshape((-1, LOOKBACK+5, 1))\n",
    "\n",
    "y = y.reshape((-1, 1))\n",
    "y_train = y_train.reshape((-1, 1))\n",
    "y_test = y_test.reshape((-1, 1))\n",
    "X_train.shape, X_test.shape, y_train.shape, y_test.shape"
   ]
  },
  {
   "cell_type": "code",
   "execution_count": 243,
   "metadata": {
    "colab": {
     "base_uri": "https://localhost:8080/"
    },
    "id": "EiFJNgZnQgZH",
    "outputId": "5d8166ea-1971-4f4c-ad56-0da120f77d40",
    "ExecuteTime": {
     "end_time": "2023-11-30T16:59:12.326151700Z",
     "start_time": "2023-11-30T16:59:12.281057300Z"
    }
   },
   "outputs": [
    {
     "data": {
      "text/plain": "torch.float32"
     },
     "execution_count": 243,
     "metadata": {},
     "output_type": "execute_result"
    }
   ],
   "source": [
    "X_train = torch.tensor(X_train).float()\n",
    "y_train = torch.tensor(y_train).float()\n",
    "X_test = torch.tensor(X_test).float()\n",
    "y_test = torch.tensor(y_test).float()\n",
    "\n",
    "X_test.dtype"
   ]
  },
  {
   "cell_type": "code",
   "execution_count": 244,
   "metadata": {
    "colab": {
     "base_uri": "https://localhost:8080/"
    },
    "id": "rhjEHK00QgZI",
    "outputId": "272c4b1f-1e2f-4643-8863-23f4a8f039e2",
    "ExecuteTime": {
     "end_time": "2023-11-30T16:59:13.437676900Z",
     "start_time": "2023-11-30T16:59:13.363398900Z"
    }
   },
   "outputs": [
    {
     "data": {
      "text/plain": "torch.Size([4829, 1])"
     },
     "execution_count": 244,
     "metadata": {},
     "output_type": "execute_result"
    }
   ],
   "source": [
    "y_train.shape"
   ]
  },
  {
   "cell_type": "code",
   "execution_count": 245,
   "metadata": {
    "id": "kaTJ_Tr2QgZI",
    "ExecuteTime": {
     "end_time": "2023-11-30T16:59:14.093708400Z",
     "start_time": "2023-11-30T16:59:14.059193500Z"
    }
   },
   "outputs": [],
   "source": [
    "class TimeSeriesDataset(Dataset):\n",
    "    def __init__(self, X, y):\n",
    "        self.X = X\n",
    "        self.y = y\n",
    "\n",
    "    def __len__(self):\n",
    "        return len(self.X)\n",
    "\n",
    "    def __getitem__(self, i):\n",
    "        return self.X[i], self.y[i]\n",
    "\n",
    "train_dataset = TimeSeriesDataset(X_train, y_train)\n",
    "test_dataset = TimeSeriesDataset(X_test, y_test)"
   ]
  },
  {
   "cell_type": "code",
   "execution_count": 246,
   "metadata": {
    "id": "e_prAT_PQgZI",
    "ExecuteTime": {
     "end_time": "2023-11-30T16:59:17.251290500Z",
     "start_time": "2023-11-30T16:59:17.222033400Z"
    }
   },
   "outputs": [],
   "source": [
    "batch_size = 8\n",
    "train_loader = DataLoader(train_dataset, batch_size=batch_size, shuffle=True)\n",
    "test_loader = DataLoader(test_dataset, batch_size=batch_size, shuffle=False)"
   ]
  },
  {
   "cell_type": "code",
   "execution_count": 247,
   "outputs": [
    {
     "name": "stdout",
     "output_type": "stream",
     "text": [
      "torch.Size([8, 20, 1]) torch.Size([8, 1])\n"
     ]
    }
   ],
   "source": [
    "for _, batch in enumerate(train_loader):\n",
    "    x_batch, y_batch = batch[0].to(device), batch[1].to(device)\n",
    "    print(x_batch.shape, y_batch.shape)\n",
    "    break"
   ],
   "metadata": {
    "collapsed": false,
    "ExecuteTime": {
     "end_time": "2023-11-30T16:59:17.883631Z",
     "start_time": "2023-11-30T16:59:17.849754300Z"
    }
   }
  },
  {
   "cell_type": "code",
   "execution_count": 248,
   "metadata": {
    "colab": {
     "base_uri": "https://localhost:8080/"
    },
    "id": "MsjJmmbLQgZI",
    "outputId": "f25c6b2c-4c90-48e4-a03b-f7812a42e38e",
    "ExecuteTime": {
     "end_time": "2023-11-30T16:59:18.572065600Z",
     "start_time": "2023-11-30T16:59:18.542065700Z"
    }
   },
   "outputs": [
    {
     "data": {
      "text/plain": "LSTM(\n  (lstm): LSTM(1, 12, batch_first=True)\n  (fc): Linear(in_features=12, out_features=1, bias=True)\n)"
     },
     "execution_count": 248,
     "metadata": {},
     "output_type": "execute_result"
    }
   ],
   "source": [
    "class LSTM(nn.Module):\n",
    "    def __init__(self, input_size, hidden_size, num_stacked_layers):\n",
    "        super().__init__()\n",
    "        self.hidden_size = hidden_size\n",
    "        self.num_stacked_layers = num_stacked_layers\n",
    "\n",
    "        self.lstm = nn.LSTM(input_size, hidden_size, num_stacked_layers,\n",
    "                            batch_first=True)\n",
    "\n",
    "        self.fc = nn.Linear(hidden_size, 1)\n",
    "\n",
    "    def forward(self, x):\n",
    "        batch_size = x.size(0)\n",
    "        h0 = torch.zeros(self.num_stacked_layers, batch_size, self.hidden_size).to(device)\n",
    "        c0 = torch.zeros(self.num_stacked_layers, batch_size, self.hidden_size).to(device)\n",
    "\n",
    "        out, _ = self.lstm(x, (h0, c0))\n",
    "        out = self.fc(out[:, -1, :])\n",
    "        return out\n",
    "\n",
    "model = LSTM(1, 12, 1)\n",
    "model.to(device)\n",
    "model"
   ]
  },
  {
   "cell_type": "code",
   "execution_count": 249,
   "metadata": {
    "id": "3jLc27cUQgZJ",
    "ExecuteTime": {
     "end_time": "2023-11-30T16:59:19.298584700Z",
     "start_time": "2023-11-30T16:59:19.254063600Z"
    }
   },
   "outputs": [],
   "source": [
    "def train_one_epoch():\n",
    "    model.train(True)\n",
    "    print(f'Epoch: {epoch + 1}')\n",
    "    running_loss = 0.0\n",
    "\n",
    "    for batch_index, batch in enumerate(train_loader):\n",
    "        x_batch, y_batch = batch[0].to(device), batch[1].to(device)\n",
    "        output = model(x_batch)\n",
    "        loss = loss_function(output, y_batch)\n",
    "        running_loss += loss.item()\n",
    "\n",
    "        optimizer.zero_grad()\n",
    "        loss.backward()\n",
    "        optimizer.step()\n",
    "\n",
    "        if batch_index % 100 == 99:  # print every 100 batches\n",
    "            avg_loss_across_batches = running_loss / 100\n",
    "            print('Batch {0}, Loss: {1:.5f}'.format(batch_index+1,\n",
    "                                                    avg_loss_across_batches))\n",
    "            running_loss = 0.0\n",
    "    print()"
   ]
  },
  {
   "cell_type": "code",
   "execution_count": 250,
   "metadata": {
    "id": "DMUjdvMEQgZJ",
    "ExecuteTime": {
     "end_time": "2023-11-30T16:59:19.863978900Z",
     "start_time": "2023-11-30T16:59:19.830465600Z"
    }
   },
   "outputs": [],
   "source": [
    "def validate_one_epoch():\n",
    "    model.train(False)\n",
    "    running_loss = 0.0\n",
    "\n",
    "    for batch_index, batch in enumerate(test_loader):\n",
    "        x_batch, y_batch = batch[0].to(device), batch[1].to(device)\n",
    "\n",
    "        with torch.no_grad():\n",
    "            output = model(x_batch)\n",
    "            loss = loss_function(output, y_batch)\n",
    "            running_loss += loss.item()\n",
    "\n",
    "    avg_loss_across_batches = running_loss / len(test_loader)\n",
    "\n",
    "    print('Val Loss: {0:.5f}'.format(avg_loss_across_batches))\n",
    "    print('***************************************************')\n",
    "    print()"
   ]
  },
  {
   "cell_type": "code",
   "execution_count": 251,
   "metadata": {
    "colab": {
     "base_uri": "https://localhost:8080/"
    },
    "id": "F7MZTgsmQgZJ",
    "outputId": "39939111-1cde-4e59-a664-8423519c77ba",
    "ExecuteTime": {
     "end_time": "2023-11-30T16:59:47.102561100Z",
     "start_time": "2023-11-30T16:59:20.806136100Z"
    }
   },
   "outputs": [
    {
     "name": "stdout",
     "output_type": "stream",
     "text": [
      "Epoch: 1\n",
      "Batch 100, Loss: 0.18370\n",
      "Batch 200, Loss: 0.02148\n",
      "Batch 300, Loss: 0.00776\n",
      "Batch 400, Loss: 0.00346\n",
      "Batch 500, Loss: 0.00208\n",
      "Batch 600, Loss: 0.00172\n",
      "\n",
      "Val Loss: 0.00334\n",
      "***************************************************\n",
      "\n",
      "Epoch: 2\n",
      "Batch 100, Loss: 0.00150\n",
      "Batch 200, Loss: 0.00138\n",
      "Batch 300, Loss: 0.00134\n",
      "Batch 400, Loss: 0.00150\n",
      "Batch 500, Loss: 0.00149\n",
      "Batch 600, Loss: 0.00149\n",
      "\n",
      "Val Loss: 0.00260\n",
      "***************************************************\n",
      "\n",
      "Epoch: 3\n",
      "Batch 100, Loss: 0.00139\n",
      "Batch 200, Loss: 0.00115\n",
      "Batch 300, Loss: 0.00121\n",
      "Batch 400, Loss: 0.00124\n",
      "Batch 500, Loss: 0.00103\n",
      "Batch 600, Loss: 0.00120\n",
      "\n",
      "Val Loss: 0.00170\n",
      "***************************************************\n",
      "\n",
      "Epoch: 4\n",
      "Batch 100, Loss: 0.00118\n",
      "Batch 200, Loss: 0.00110\n",
      "Batch 300, Loss: 0.00088\n",
      "Batch 400, Loss: 0.00109\n",
      "Batch 500, Loss: 0.00106\n",
      "Batch 600, Loss: 0.00099\n",
      "\n",
      "Val Loss: 0.00139\n",
      "***************************************************\n",
      "\n",
      "Epoch: 5\n",
      "Batch 100, Loss: 0.00102\n",
      "Batch 200, Loss: 0.00102\n",
      "Batch 300, Loss: 0.00093\n",
      "Batch 400, Loss: 0.00083\n",
      "Batch 500, Loss: 0.00089\n",
      "Batch 600, Loss: 0.00082\n",
      "\n",
      "Val Loss: 0.00156\n",
      "***************************************************\n",
      "\n",
      "Epoch: 6\n",
      "Batch 100, Loss: 0.00081\n",
      "Batch 200, Loss: 0.00073\n",
      "Batch 300, Loss: 0.00086\n",
      "Batch 400, Loss: 0.00078\n",
      "Batch 500, Loss: 0.00068\n",
      "Batch 600, Loss: 0.00079\n",
      "\n",
      "Val Loss: 0.00113\n",
      "***************************************************\n",
      "\n",
      "Epoch: 7\n",
      "Batch 100, Loss: 0.00061\n",
      "Batch 200, Loss: 0.00065\n",
      "Batch 300, Loss: 0.00078\n",
      "Batch 400, Loss: 0.00068\n",
      "Batch 500, Loss: 0.00074\n",
      "Batch 600, Loss: 0.00059\n",
      "\n",
      "Val Loss: 0.00088\n",
      "***************************************************\n",
      "\n",
      "Epoch: 8\n",
      "Batch 100, Loss: 0.00067\n",
      "Batch 200, Loss: 0.00058\n",
      "Batch 300, Loss: 0.00056\n",
      "Batch 400, Loss: 0.00067\n",
      "Batch 500, Loss: 0.00075\n",
      "Batch 600, Loss: 0.00067\n",
      "\n",
      "Val Loss: 0.00087\n",
      "***************************************************\n",
      "\n",
      "Epoch: 9\n",
      "Batch 100, Loss: 0.00064\n",
      "Batch 200, Loss: 0.00055\n",
      "Batch 300, Loss: 0.00070\n",
      "Batch 400, Loss: 0.00065\n",
      "Batch 500, Loss: 0.00061\n",
      "Batch 600, Loss: 0.00057\n",
      "\n",
      "Val Loss: 0.00077\n",
      "***************************************************\n",
      "\n",
      "Epoch: 10\n",
      "Batch 100, Loss: 0.00054\n",
      "Batch 200, Loss: 0.00063\n",
      "Batch 300, Loss: 0.00058\n",
      "Batch 400, Loss: 0.00059\n",
      "Batch 500, Loss: 0.00057\n",
      "Batch 600, Loss: 0.00056\n",
      "\n",
      "Val Loss: 0.00087\n",
      "***************************************************\n",
      "\n",
      "Epoch: 11\n",
      "Batch 100, Loss: 0.00057\n",
      "Batch 200, Loss: 0.00055\n",
      "Batch 300, Loss: 0.00054\n",
      "Batch 400, Loss: 0.00050\n",
      "Batch 500, Loss: 0.00065\n",
      "Batch 600, Loss: 0.00063\n",
      "Val Loss: 0.00072\n",
      "***************************************************\n",
      "\n",
      "Epoch: 12\n",
      "Batch 100, Loss: 0.00055\n",
      "Batch 200, Loss: 0.00059\n",
      "Batch 300, Loss: 0.00052\n",
      "Batch 400, Loss: 0.00054\n",
      "Batch 500, Loss: 0.00053\n",
      "Batch 600, Loss: 0.00054\n",
      "\n",
      "Val Loss: 0.00069\n",
      "***************************************************\n",
      "\n",
      "Epoch: 13\n",
      "Batch 100, Loss: 0.00058\n",
      "Batch 200, Loss: 0.00054\n",
      "Batch 300, Loss: 0.00059\n",
      "Batch 400, Loss: 0.00058\n",
      "Batch 500, Loss: 0.00049\n",
      "Batch 600, Loss: 0.00041\n",
      "\n",
      "Val Loss: 0.00112\n",
      "***************************************************\n",
      "\n",
      "Epoch: 14\n",
      "Batch 100, Loss: 0.00057\n",
      "Batch 200, Loss: 0.00052\n",
      "Batch 300, Loss: 0.00052\n",
      "Batch 400, Loss: 0.00050\n",
      "Batch 500, Loss: 0.00052\n",
      "Batch 600, Loss: 0.00051\n",
      "\n",
      "Val Loss: 0.00090\n",
      "***************************************************\n",
      "\n",
      "Epoch: 15\n",
      "Batch 100, Loss: 0.00055\n",
      "Batch 200, Loss: 0.00060\n",
      "Batch 300, Loss: 0.00043\n",
      "Batch 400, Loss: 0.00045\n",
      "Batch 500, Loss: 0.00054\n",
      "Batch 600, Loss: 0.00056\n",
      "\n",
      "Val Loss: 0.00064\n",
      "***************************************************\n",
      "\n",
      "Epoch: 16\n",
      "Batch 100, Loss: 0.00050\n",
      "Batch 200, Loss: 0.00053\n",
      "Batch 300, Loss: 0.00054\n",
      "Batch 400, Loss: 0.00043\n",
      "Batch 500, Loss: 0.00053\n",
      "Batch 600, Loss: 0.00051\n",
      "\n",
      "Val Loss: 0.00067\n",
      "***************************************************\n",
      "\n",
      "Epoch: 17\n",
      "Batch 100, Loss: 0.00052\n",
      "Batch 200, Loss: 0.00052\n",
      "Batch 300, Loss: 0.00049\n",
      "Batch 400, Loss: 0.00042\n",
      "Batch 500, Loss: 0.00054\n",
      "Batch 600, Loss: 0.00045\n",
      "\n",
      "Val Loss: 0.00083\n",
      "***************************************************\n",
      "\n",
      "Epoch: 18\n",
      "Batch 100, Loss: 0.00054\n",
      "Batch 200, Loss: 0.00049\n",
      "Batch 300, Loss: 0.00043\n",
      "Batch 400, Loss: 0.00050\n",
      "Batch 500, Loss: 0.00053\n",
      "Batch 600, Loss: 0.00045\n",
      "\n",
      "Val Loss: 0.00063\n",
      "***************************************************\n",
      "\n",
      "Epoch: 19\n",
      "Batch 100, Loss: 0.00048\n",
      "Batch 200, Loss: 0.00044\n",
      "Batch 300, Loss: 0.00057\n",
      "Batch 400, Loss: 0.00051\n",
      "Batch 500, Loss: 0.00048\n",
      "Batch 600, Loss: 0.00044\n",
      "\n",
      "Val Loss: 0.00068\n",
      "***************************************************\n",
      "\n",
      "Epoch: 20\n",
      "Batch 100, Loss: 0.00045\n",
      "Batch 200, Loss: 0.00048\n",
      "Batch 300, Loss: 0.00048\n",
      "Batch 400, Loss: 0.00052\n",
      "Batch 500, Loss: 0.00050\n",
      "Batch 600, Loss: 0.00047\n",
      "\n",
      "Val Loss: 0.00065\n",
      "***************************************************\n",
      "\n",
      "Epoch: 21\n",
      "Batch 100, Loss: 0.00051\n",
      "Batch 200, Loss: 0.00043\n",
      "Batch 300, Loss: 0.00045\n",
      "Batch 400, Loss: 0.00052\n",
      "Batch 500, Loss: 0.00047\n",
      "Batch 600, Loss: 0.00050\n",
      "\n",
      "Val Loss: 0.00065\n",
      "***************************************************\n",
      "\n",
      "Epoch: 22\n",
      "Batch 100, Loss: 0.00048\n",
      "Batch 200, Loss: 0.00046\n",
      "Batch 300, Loss: 0.00053\n",
      "Batch 400, Loss: 0.00049\n",
      "Batch 500, Loss: 0.00050\n",
      "Batch 600, Loss: 0.00046\n",
      "\n",
      "Val Loss: 0.00061\n",
      "***************************************************\n",
      "\n",
      "Epoch: 23\n",
      "Batch 100, Loss: 0.00050\n",
      "Batch 200, Loss: 0.00050\n",
      "Batch 300, Loss: 0.00050\n",
      "Batch 400, Loss: 0.00046\n",
      "Batch 500, Loss: 0.00050\n",
      "Batch 600, Loss: 0.00041\n",
      "\n",
      "Val Loss: 0.00077\n",
      "***************************************************\n",
      "\n",
      "Epoch: 24\n",
      "Batch 100, Loss: 0.00050\n",
      "Batch 200, Loss: 0.00050\n",
      "Batch 300, Loss: 0.00045\n",
      "Batch 400, Loss: 0.00048\n",
      "Batch 500, Loss: 0.00043\n",
      "Batch 600, Loss: 0.00051\n",
      "\n",
      "Val Loss: 0.00071\n",
      "***************************************************\n",
      "\n",
      "Epoch: 25\n",
      "Batch 100, Loss: 0.00048\n",
      "Batch 200, Loss: 0.00050\n",
      "Batch 300, Loss: 0.00046\n",
      "Batch 400, Loss: 0.00043\n",
      "Batch 500, Loss: 0.00047\n",
      "Batch 600, Loss: 0.00053\n",
      "\n",
      "Val Loss: 0.00081\n",
      "***************************************************\n",
      "\n",
      "Epoch: 26\n",
      "Batch 100, Loss: 0.00049\n",
      "Batch 200, Loss: 0.00048\n",
      "Batch 300, Loss: 0.00051\n",
      "Batch 400, Loss: 0.00046\n",
      "Batch 500, Loss: 0.00050\n",
      "Batch 600, Loss: 0.00050\n",
      "Val Loss: 0.00065\n",
      "***************************************************\n",
      "\n",
      "Epoch: 27\n",
      "Batch 100, Loss: 0.00043\n",
      "Batch 200, Loss: 0.00050\n",
      "Batch 300, Loss: 0.00043\n",
      "Batch 400, Loss: 0.00048\n",
      "Batch 500, Loss: 0.00051\n",
      "Batch 600, Loss: 0.00049\n",
      "\n",
      "Val Loss: 0.00070\n",
      "***************************************************\n",
      "\n",
      "Epoch: 28\n",
      "Batch 100, Loss: 0.00045\n",
      "Batch 200, Loss: 0.00046\n",
      "Batch 300, Loss: 0.00060\n",
      "Batch 400, Loss: 0.00044\n",
      "Batch 500, Loss: 0.00044\n",
      "Batch 600, Loss: 0.00049\n",
      "Val Loss: 0.00063\n",
      "***************************************************\n",
      "\n",
      "Epoch: 29\n",
      "Batch 100, Loss: 0.00053\n",
      "Batch 200, Loss: 0.00044\n",
      "Batch 300, Loss: 0.00047\n",
      "Batch 400, Loss: 0.00047\n",
      "Batch 500, Loss: 0.00049\n",
      "Batch 600, Loss: 0.00045\n",
      "\n",
      "Val Loss: 0.00061\n",
      "***************************************************\n",
      "\n",
      "Epoch: 30\n",
      "Batch 100, Loss: 0.00047\n",
      "Batch 200, Loss: 0.00059\n",
      "Batch 300, Loss: 0.00046\n",
      "Batch 400, Loss: 0.00048\n",
      "Batch 500, Loss: 0.00038\n",
      "Batch 600, Loss: 0.00050\n",
      "\n",
      "Val Loss: 0.00061\n",
      "***************************************************\n"
     ]
    }
   ],
   "source": [
    "learning_rate = 0.001\n",
    "num_epochs = 30\n",
    "loss_function = nn.MSELoss()\n",
    "optimizer = torch.optim.Adam(model.parameters(), lr=learning_rate)\n",
    "\n",
    "#Adam does the gradient descent\n",
    "\n",
    "for epoch in range(num_epochs):\n",
    "    train_one_epoch()\n",
    "    validate_one_epoch()"
   ]
  },
  {
   "cell_type": "code",
   "execution_count": 252,
   "metadata": {
    "colab": {
     "base_uri": "https://localhost:8080/",
     "height": 449
    },
    "id": "iCdLO3t-QgZJ",
    "outputId": "db5a8d4c-9eee-4487-eeaa-c4e514e35900",
    "ExecuteTime": {
     "end_time": "2023-11-30T16:59:49.576608300Z",
     "start_time": "2023-11-30T16:59:49.243424400Z"
    }
   },
   "outputs": [
    {
     "data": {
      "text/plain": "<Figure size 640x480 with 1 Axes>",
      "image/png": "[encoded data removed]"
     },
     "metadata": {},
     "output_type": "display_data"
    }
   ],
   "source": [
    "with torch.no_grad():\n",
    "    predicted = model(X_train[:].to(device)).to('cpu').numpy()\n",
    "\n",
    "plt.plot(train_dates, y_train, label='Actual Price')\n",
    "plt.plot(train_dates, predicted, label='Predicted Price')\n",
    "\n",
    "plt.xlabel('Dates')\n",
    "plt.ylabel('Price')\n",
    "plt.legend()\n",
    "plt.show()\n"
   ]
  },
  {
   "cell_type": "code",
   "execution_count": 253,
   "metadata": {
    "colab": {
     "base_uri": "https://localhost:8080/"
    },
    "id": "Pa7E8ZLjQgZK",
    "outputId": "ea48216a-82ae-4bcf-9fb2-6d44682c9425",
    "ExecuteTime": {
     "end_time": "2023-11-30T16:59:52.076567300Z",
     "start_time": "2023-11-30T16:59:52.025767200Z"
    }
   },
   "outputs": [
    {
     "name": "stdout",
     "output_type": "stream",
     "text": [
      "[-0.89087248  0.          0.          0.          0.          0.\n",
      "  0.          0.          0.          0.          0.          0.\n",
      "  0.          0.          0.          0.        ]\n"
     ]
    },
    {
     "data": {
      "text/plain": "array([0.84470652, 0.84181557, 0.84181247, ..., 2.94034976, 2.90009481,\n       2.91372362])"
     },
     "execution_count": 253,
     "metadata": {},
     "output_type": "execute_result"
    }
   ],
   "source": [
    "train_predictions = predicted.flatten()\n",
    "\n",
    "dummies = np.zeros((X_train.shape[0], LOOKBACK+1))\n",
    "dummies[:, 0] = train_predictions \n",
    "print(dummies[0])\n",
    "dummies = prices_scaler.inverse_transform(dummies)\n",
    "\n",
    "train_predictions = dc(dummies[:, 0])\n",
    "train_predictions"
   ]
  },
  {
   "cell_type": "code",
   "execution_count": 254,
   "metadata": {
    "colab": {
     "base_uri": "https://localhost:8080/"
    },
    "id": "Th5ixrjwQgZK",
    "outputId": "25d6f3cf-c0d0-4082-d761-c6fcfdc8023b",
    "ExecuteTime": {
     "end_time": "2023-11-30T16:59:54.269457800Z",
     "start_time": "2023-11-30T16:59:54.220549600Z"
    }
   },
   "outputs": [
    {
     "data": {
      "text/plain": "array([0.848     , 0.85649997, 0.85299994, ..., 2.92849999, 2.9355    ,\n       2.8915    ])"
     },
     "execution_count": 254,
     "metadata": {},
     "output_type": "execute_result"
    }
   ],
   "source": [
    "dummies = np.zeros((X_train.shape[0], LOOKBACK+1))\n",
    "dummies[:, 0] = y_train.flatten()\n",
    "dummies = prices_scaler.inverse_transform(dummies)\n",
    "new_y_train = dc(dummies[:, 0])\n",
    "new_y_train"
   ]
  },
  {
   "cell_type": "code",
   "execution_count": 255,
   "metadata": {
    "colab": {
     "base_uri": "https://localhost:8080/",
     "height": 449
    },
    "id": "LuQBl4e1QgZK",
    "outputId": "2fbedd60-e1da-44bc-f7bf-9088b222b2fa",
    "ExecuteTime": {
     "end_time": "2023-11-30T16:59:57.202428300Z",
     "start_time": "2023-11-30T16:59:56.945426100Z"
    }
   },
   "outputs": [
    {
     "data": {
      "text/plain": "<Figure size 640x480 with 1 Axes>",
      "image/png": "[encoded data removed]"
     },
     "metadata": {},
     "output_type": "display_data"
    }
   ],
   "source": [
    "plt.plot(train_dates,new_y_train,  label='Actual Price')\n",
    "plt.plot(train_dates,train_predictions, label='Predicted Price')\n",
    "plt.xlabel('Day')\n",
    "plt.ylabel('Price')\n",
    "plt.legend()\n",
    "plt.show()"
   ]
  },
  {
   "cell_type": "code",
   "execution_count": 256,
   "metadata": {
    "colab": {
     "base_uri": "https://localhost:8080/"
    },
    "id": "0zCJ-Lr9QgZL",
    "outputId": "9ef6cb08-1049-4ddd-ccbb-0a2266b01511",
    "ExecuteTime": {
     "end_time": "2023-11-30T17:00:10.926267800Z",
     "start_time": "2023-11-30T17:00:10.863134200Z"
    }
   },
   "outputs": [
    {
     "data": {
      "text/plain": "array([2.91765412, 2.93109112, 2.92859483, ..., 3.67491175, 3.68631667,\n       3.71885026])"
     },
     "execution_count": 256,
     "metadata": {},
     "output_type": "execute_result"
    }
   ],
   "source": [
    "test_predictions = model(X_test.to(device)).detach().cpu().numpy().flatten()\n",
    "\n",
    "dummies = np.zeros((X_test.shape[0], LOOKBACK+1))\n",
    "dummies[:, 0] = test_predictions\n",
    "dummies = prices_scaler.inverse_transform(dummies)\n",
    "\n",
    "test_predictions = dc(dummies[:, 0])\n",
    "test_predictions"
   ]
  },
  {
   "cell_type": "code",
   "execution_count": 257,
   "metadata": {
    "colab": {
     "base_uri": "https://localhost:8080/"
    },
    "id": "PUbVm3RgQgZL",
    "outputId": "b97c39ac-9d7d-4f22-b4b3-c1fd3fee7db8",
    "ExecuteTime": {
     "end_time": "2023-11-30T17:00:12.819376400Z",
     "start_time": "2023-11-30T17:00:12.746140500Z"
    }
   },
   "outputs": [
    {
     "data": {
      "text/plain": "0.05360707753421041"
     },
     "execution_count": 257,
     "metadata": {},
     "output_type": "execute_result"
    }
   ],
   "source": [
    "dummies = np.zeros((X_test.shape[0], LOOKBACK+1))\n",
    "dummies[:, 0] = y_test.flatten()\n",
    "dummies = prices_scaler.inverse_transform(dummies)\n",
    "\n",
    "new_y_test = dc(dummies[:, 0])\n",
    "new_y_test\n",
    "squared_differences = (new_y_test - test_predictions)**2\n",
    "\n",
    "# Calculate the Root Mean Squared Error (RMSE)\n",
    "rmse = np.sqrt(np.mean(squared_differences))\n",
    "#rmse\n",
    "absolute_differences = np.abs(new_y_test - test_predictions)\n",
    "\n",
    "# Calculate the Mean Absolute Error (MAE)\n",
    "mae = np.mean(absolute_differences)\n",
    "rmse"
   ]
  },
  {
   "cell_type": "code",
   "execution_count": 277,
   "metadata": {
    "colab": {
     "base_uri": "https://localhost:8080/",
     "height": 542
    },
    "id": "zw7bJAfwQgZL",
    "outputId": "4e66bec7-adf4-4538-df98-8c809bdc2241",
    "ExecuteTime": {
     "end_time": "2023-11-30T18:11:22.890940100Z",
     "start_time": "2023-11-30T18:11:22.357735700Z"
    }
   },
   "outputs": [
    {
     "data": {
      "text/plain": "<Figure size 1000x600 with 1 Axes>",
      "image/png": "[encoded data removed]"
     },
     "metadata": {},
     "output_type": "display_data"
    }
   ],
   "source": [
    "plt.figure(figsize=(10, 6))\n",
    "plt.plot(test_dates, new_y_test, label='Actual Price')\n",
    "plt.plot(test_dates, test_predictions, label='Predicted Price')\n",
    "plt.xlabel('Day')\n",
    "plt.ylabel('Price')\n",
    "plt.legend()\n",
    "\n",
    "# Saving the figure as a JPG file\n",
    "plt.savefig('../Visuals/price_prediction_plot.jpg', dpi=300, bbox_inches='tight')  # Adjust the filename and DPI as needed\n",
    "plt.show()"
   ]
  },
  {
   "cell_type": "code",
   "execution_count": null,
   "outputs": [],
   "source": [],
   "metadata": {
    "collapsed": false
   }
  }
 ],
 "metadata": {
  "colab": {
   "provenance": []
  },
  "kernelspec": {
   "display_name": "Python 3 (ipykernel)",
   "language": "python",
   "name": "python3"
  },
  "language_info": {
   "codemirror_mode": {
    "name": "ipython",
    "version": 3
   },
   "file_extension": ".py",
   "mimetype": "text/x-python",
   "name": "python",
   "nbconvert_exporter": "python",
   "pygments_lexer": "ipython3",
   "version": "3.11.5"
  }
 },
 "nbformat": 4,
 "nbformat_minor": 4
}
